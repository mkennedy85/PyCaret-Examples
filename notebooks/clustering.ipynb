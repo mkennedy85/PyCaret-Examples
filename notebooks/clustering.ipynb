{
 "cells": [
  {
   "cell_type": "markdown",
   "id": "81e0620e",
   "metadata": {},
   "source": [
    "Last updated: 16 Feb 2023\n",
    "\n",
    "# 👋 PyCaret Clustering Tutorial\n",
    "\n",
    "PyCaret is an open-source, low-code machine learning library in Python that automates machine learning workflows. It is an end-to-end machine learning and model management tool that exponentially speeds up the experiment cycle and makes you more productive.\n",
    "\n",
    "Compared with the other open-source machine learning libraries, PyCaret is an alternate low-code library that can be used to replace hundreds of lines of code with a few lines only. This makes experiments exponentially fast and efficient. PyCaret is essentially a Python wrapper around several machine learning libraries and frameworks, such as scikit-learn, XGBoost, LightGBM, CatBoost, spaCy, Optuna, Hyperopt, Ray, and a few more.\n",
    "\n",
    "The design and simplicity of PyCaret are inspired by the emerging role of citizen data scientists, a term first used by Gartner. Citizen Data Scientists are power users who can perform both simple and moderately sophisticated analytical tasks that would previously have required more technical expertise.\n"
   ]
  },
  {
   "cell_type": "markdown",
   "id": "8116e19d",
   "metadata": {},
   "source": [
    "# 💻 Installation\n",
    "\n",
    "PyCaret is tested and supported on the following 64-bit systems:\n",
    "- Python 3.7 – 3.10\n",
    "- Python 3.9 for Ubuntu only\n",
    "- Ubuntu 16.04 or later\n",
    "- Windows 7 or later\n",
    "\n",
    "You can install PyCaret with Python's pip package manager:\n",
    "\n",
    "`pip install pycaret`\n",
    "\n",
    "PyCaret's default installation will not install all the extra dependencies automatically. For that you will have to install the full version:\n",
    "\n",
    "`pip install pycaret[full]`\n",
    "\n",
    "or depending on your use-case you may install one of the following variant:\n",
    "\n",
    "- `pip install pycaret[analysis]`\n",
    "- `pip install pycaret[models]`\n",
    "- `pip install pycaret[tuner]`\n",
    "- `pip install pycaret[mlops]`\n",
    "- `pip install pycaret[parallel]`\n",
    "- `pip install pycaret[test]`"
   ]
  },
  {
   "cell_type": "code",
   "execution_count": 1,
   "id": "d7142a33",
   "metadata": {
    "execution": {
     "iopub.execute_input": "2025-10-22T20:39:59.781484Z",
     "iopub.status.busy": "2025-10-22T20:39:59.781227Z",
     "iopub.status.idle": "2025-10-22T20:39:59.814167Z",
     "shell.execute_reply": "2025-10-22T20:39:59.813498Z"
    }
   },
   "outputs": [
    {
     "data": {
      "text/plain": [
       "'3.3.2'"
      ]
     },
     "execution_count": 1,
     "metadata": {},
     "output_type": "execute_result"
    }
   ],
   "source": [
    "# check installed version\n",
    "import pycaret\n",
    "pycaret.__version__"
   ]
  },
  {
   "cell_type": "markdown",
   "id": "fb66e98d",
   "metadata": {},
   "source": [
    "# 🚀 Quick start"
   ]
  },
  {
   "cell_type": "markdown",
   "id": "00347d44",
   "metadata": {},
   "source": [
    "PyCaret's Clustering Module is an unsupervised machine learning module that performs the task of grouping a set of objects in such a way that objects in the same group (also known as a cluster) are more similar to each other than to those in other groups. \n",
    "\n",
    "It provides several pre-processing features that prepare the data for modeling through the setup function. It has over 10 ready-to-use algorithms and several plots to analyze the performance of trained models. \n",
    "\n",
    "A typical workflow in PyCaret's unsupervised module consist of following 6 steps in this order:\n",
    "\n",
    "### **Setup** ➡️ **Create Model** ➡️ **Assign Labels** ➡️ **Analyze Model** ➡️ **Prediction** ➡️ **Save Model**"
   ]
  },
  {
   "cell_type": "code",
   "execution_count": 2,
   "id": "956dfdab",
   "metadata": {
    "execution": {
     "iopub.execute_input": "2025-10-22T20:39:59.816312Z",
     "iopub.status.busy": "2025-10-22T20:39:59.816136Z",
     "iopub.status.idle": "2025-10-22T20:40:00.155790Z",
     "shell.execute_reply": "2025-10-22T20:40:00.155483Z"
    }
   },
   "outputs": [
    {
     "data": {
      "text/html": [
       "<div>\n",
       "<style scoped>\n",
       "    .dataframe tbody tr th:only-of-type {\n",
       "        vertical-align: middle;\n",
       "    }\n",
       "\n",
       "    .dataframe tbody tr th {\n",
       "        vertical-align: top;\n",
       "    }\n",
       "\n",
       "    .dataframe thead th {\n",
       "        text-align: right;\n",
       "    }\n",
       "</style>\n",
       "<table border=\"1\" class=\"dataframe\">\n",
       "  <thead>\n",
       "    <tr style=\"text-align: right;\">\n",
       "      <th></th>\n",
       "      <th>CustomerID</th>\n",
       "      <th>Gender</th>\n",
       "      <th>Age</th>\n",
       "      <th>Annual Income (k$)</th>\n",
       "      <th>Spending Score (1-100)</th>\n",
       "    </tr>\n",
       "  </thead>\n",
       "  <tbody>\n",
       "    <tr>\n",
       "      <th>0</th>\n",
       "      <td>1</td>\n",
       "      <td>Male</td>\n",
       "      <td>19</td>\n",
       "      <td>15</td>\n",
       "      <td>39</td>\n",
       "    </tr>\n",
       "    <tr>\n",
       "      <th>1</th>\n",
       "      <td>2</td>\n",
       "      <td>Male</td>\n",
       "      <td>21</td>\n",
       "      <td>15</td>\n",
       "      <td>81</td>\n",
       "    </tr>\n",
       "    <tr>\n",
       "      <th>2</th>\n",
       "      <td>3</td>\n",
       "      <td>Female</td>\n",
       "      <td>20</td>\n",
       "      <td>16</td>\n",
       "      <td>6</td>\n",
       "    </tr>\n",
       "    <tr>\n",
       "      <th>3</th>\n",
       "      <td>4</td>\n",
       "      <td>Female</td>\n",
       "      <td>23</td>\n",
       "      <td>16</td>\n",
       "      <td>77</td>\n",
       "    </tr>\n",
       "    <tr>\n",
       "      <th>4</th>\n",
       "      <td>5</td>\n",
       "      <td>Female</td>\n",
       "      <td>31</td>\n",
       "      <td>17</td>\n",
       "      <td>40</td>\n",
       "    </tr>\n",
       "  </tbody>\n",
       "</table>\n",
       "</div>"
      ],
      "text/plain": [
       "   CustomerID  Gender  Age  Annual Income (k$)  Spending Score (1-100)\n",
       "0           1    Male   19                  15                      39\n",
       "1           2    Male   21                  15                      81\n",
       "2           3  Female   20                  16                       6\n",
       "3           4  Female   23                  16                      77\n",
       "4           5  Female   31                  17                      40"
      ]
     },
     "execution_count": 2,
     "metadata": {},
     "output_type": "execute_result"
    }
   ],
   "source": [
    "# Load Customer Segmentation dataset from Kaggle\n",
    "import pandas as pd\n",
    "from pathlib import Path\n",
    "\n",
    "data_path = Path('../datasets/clustering/Mall_Customers.csv')\n",
    "data = pd.read_csv(data_path)\n",
    "\n",
    "# Display first few rows\n",
    "data.head()"
   ]
  },
  {
   "cell_type": "markdown",
   "id": "c00f6a4a",
   "metadata": {},
   "source": [
    "## Setup\n",
    "This function initializes the training environment and creates the transformation pipeline. Setup function must be called before executing any other function in PyCaret. It only has one required parameter i.e. `data`. All the other parameters are optional."
   ]
  },
  {
   "cell_type": "code",
   "execution_count": 3,
   "id": "97f2c6c6",
   "metadata": {
    "execution": {
     "iopub.execute_input": "2025-10-22T20:40:00.157070Z",
     "iopub.status.busy": "2025-10-22T20:40:00.156987Z",
     "iopub.status.idle": "2025-10-22T20:40:03.916164Z",
     "shell.execute_reply": "2025-10-22T20:40:03.915820Z"
    }
   },
   "outputs": [
    {
     "data": {
      "text/html": [
       "<style type=\"text/css\">\n",
       "#T_160e7_row5_col1 {\n",
       "  background-color: lightgreen;\n",
       "}\n",
       "</style>\n",
       "<table id=\"T_160e7\">\n",
       "  <thead>\n",
       "    <tr>\n",
       "      <th class=\"blank level0\" >&nbsp;</th>\n",
       "      <th id=\"T_160e7_level0_col0\" class=\"col_heading level0 col0\" >Description</th>\n",
       "      <th id=\"T_160e7_level0_col1\" class=\"col_heading level0 col1\" >Value</th>\n",
       "    </tr>\n",
       "  </thead>\n",
       "  <tbody>\n",
       "    <tr>\n",
       "      <th id=\"T_160e7_level0_row0\" class=\"row_heading level0 row0\" >0</th>\n",
       "      <td id=\"T_160e7_row0_col0\" class=\"data row0 col0\" >Session id</td>\n",
       "      <td id=\"T_160e7_row0_col1\" class=\"data row0 col1\" >123</td>\n",
       "    </tr>\n",
       "    <tr>\n",
       "      <th id=\"T_160e7_level0_row1\" class=\"row_heading level0 row1\" >1</th>\n",
       "      <td id=\"T_160e7_row1_col0\" class=\"data row1 col0\" >Original data shape</td>\n",
       "      <td id=\"T_160e7_row1_col1\" class=\"data row1 col1\" >(200, 5)</td>\n",
       "    </tr>\n",
       "    <tr>\n",
       "      <th id=\"T_160e7_level0_row2\" class=\"row_heading level0 row2\" >2</th>\n",
       "      <td id=\"T_160e7_row2_col0\" class=\"data row2 col0\" >Transformed data shape</td>\n",
       "      <td id=\"T_160e7_row2_col1\" class=\"data row2 col1\" >(200, 5)</td>\n",
       "    </tr>\n",
       "    <tr>\n",
       "      <th id=\"T_160e7_level0_row3\" class=\"row_heading level0 row3\" >3</th>\n",
       "      <td id=\"T_160e7_row3_col0\" class=\"data row3 col0\" >Numeric features</td>\n",
       "      <td id=\"T_160e7_row3_col1\" class=\"data row3 col1\" >4</td>\n",
       "    </tr>\n",
       "    <tr>\n",
       "      <th id=\"T_160e7_level0_row4\" class=\"row_heading level0 row4\" >4</th>\n",
       "      <td id=\"T_160e7_row4_col0\" class=\"data row4 col0\" >Categorical features</td>\n",
       "      <td id=\"T_160e7_row4_col1\" class=\"data row4 col1\" >1</td>\n",
       "    </tr>\n",
       "    <tr>\n",
       "      <th id=\"T_160e7_level0_row5\" class=\"row_heading level0 row5\" >5</th>\n",
       "      <td id=\"T_160e7_row5_col0\" class=\"data row5 col0\" >Preprocess</td>\n",
       "      <td id=\"T_160e7_row5_col1\" class=\"data row5 col1\" >True</td>\n",
       "    </tr>\n",
       "    <tr>\n",
       "      <th id=\"T_160e7_level0_row6\" class=\"row_heading level0 row6\" >6</th>\n",
       "      <td id=\"T_160e7_row6_col0\" class=\"data row6 col0\" >Imputation type</td>\n",
       "      <td id=\"T_160e7_row6_col1\" class=\"data row6 col1\" >simple</td>\n",
       "    </tr>\n",
       "    <tr>\n",
       "      <th id=\"T_160e7_level0_row7\" class=\"row_heading level0 row7\" >7</th>\n",
       "      <td id=\"T_160e7_row7_col0\" class=\"data row7 col0\" >Numeric imputation</td>\n",
       "      <td id=\"T_160e7_row7_col1\" class=\"data row7 col1\" >mean</td>\n",
       "    </tr>\n",
       "    <tr>\n",
       "      <th id=\"T_160e7_level0_row8\" class=\"row_heading level0 row8\" >8</th>\n",
       "      <td id=\"T_160e7_row8_col0\" class=\"data row8 col0\" >Categorical imputation</td>\n",
       "      <td id=\"T_160e7_row8_col1\" class=\"data row8 col1\" >mode</td>\n",
       "    </tr>\n",
       "    <tr>\n",
       "      <th id=\"T_160e7_level0_row9\" class=\"row_heading level0 row9\" >9</th>\n",
       "      <td id=\"T_160e7_row9_col0\" class=\"data row9 col0\" >Maximum one-hot encoding</td>\n",
       "      <td id=\"T_160e7_row9_col1\" class=\"data row9 col1\" >-1</td>\n",
       "    </tr>\n",
       "    <tr>\n",
       "      <th id=\"T_160e7_level0_row10\" class=\"row_heading level0 row10\" >10</th>\n",
       "      <td id=\"T_160e7_row10_col0\" class=\"data row10 col0\" >Encoding method</td>\n",
       "      <td id=\"T_160e7_row10_col1\" class=\"data row10 col1\" >None</td>\n",
       "    </tr>\n",
       "    <tr>\n",
       "      <th id=\"T_160e7_level0_row11\" class=\"row_heading level0 row11\" >11</th>\n",
       "      <td id=\"T_160e7_row11_col0\" class=\"data row11 col0\" >CPU Jobs</td>\n",
       "      <td id=\"T_160e7_row11_col1\" class=\"data row11 col1\" >-1</td>\n",
       "    </tr>\n",
       "    <tr>\n",
       "      <th id=\"T_160e7_level0_row12\" class=\"row_heading level0 row12\" >12</th>\n",
       "      <td id=\"T_160e7_row12_col0\" class=\"data row12 col0\" >Use GPU</td>\n",
       "      <td id=\"T_160e7_row12_col1\" class=\"data row12 col1\" >False</td>\n",
       "    </tr>\n",
       "    <tr>\n",
       "      <th id=\"T_160e7_level0_row13\" class=\"row_heading level0 row13\" >13</th>\n",
       "      <td id=\"T_160e7_row13_col0\" class=\"data row13 col0\" >Log Experiment</td>\n",
       "      <td id=\"T_160e7_row13_col1\" class=\"data row13 col1\" >False</td>\n",
       "    </tr>\n",
       "    <tr>\n",
       "      <th id=\"T_160e7_level0_row14\" class=\"row_heading level0 row14\" >14</th>\n",
       "      <td id=\"T_160e7_row14_col0\" class=\"data row14 col0\" >Experiment Name</td>\n",
       "      <td id=\"T_160e7_row14_col1\" class=\"data row14 col1\" >cluster-default-name</td>\n",
       "    </tr>\n",
       "    <tr>\n",
       "      <th id=\"T_160e7_level0_row15\" class=\"row_heading level0 row15\" >15</th>\n",
       "      <td id=\"T_160e7_row15_col0\" class=\"data row15 col0\" >USI</td>\n",
       "      <td id=\"T_160e7_row15_col1\" class=\"data row15 col1\" >8bc9</td>\n",
       "    </tr>\n",
       "  </tbody>\n",
       "</table>\n"
      ],
      "text/plain": [
       "<pandas.io.formats.style.Styler at 0x1521dab90>"
      ]
     },
     "metadata": {},
     "output_type": "display_data"
    }
   ],
   "source": [
    "# import pycaret clustering and init setup\n",
    "from pycaret.clustering import *\n",
    "s = setup(data, fold=3, session_id=123)  # fold=3 for faster execution"
   ]
  },
  {
   "cell_type": "markdown",
   "id": "3c583864",
   "metadata": {},
   "source": [
    "Once the setup has been successfully executed it shows the information grid containing experiment level information. \n",
    "\n",
    "- **Session id:**  A pseudo-random number distributed as a seed in all functions for later reproducibility. If no `session_id` is passed, a random number is automatically generated that is distributed to all functions.<br/>\n",
    "<br/>\n",
    "- **Original data shape:**  Shape of the original data prior to any transformations. <br/>\n",
    "<br/>\n",
    "- **Transformed data shape:**  Shape of data after transformations <br/>\n",
    "<br/>\n",
    "- **Numeric features :**  The number of features considered as numerical. <br/>\n",
    "<br/>\n",
    "- **Categorical features :**  The number of features considered as categorical. <br/>"
   ]
  },
  {
   "cell_type": "markdown",
   "id": "ada19398",
   "metadata": {},
   "source": [
    "PyCaret has two set of API's that you can work with. (1) Functional (as seen above) and (2) Object Oriented API.\n",
    "\n",
    "With Object Oriented API instead of executing functions directly you will import a class and execute methods of class."
   ]
  },
  {
   "cell_type": "code",
   "execution_count": 4,
   "id": "32ee91c9",
   "metadata": {
    "execution": {
     "iopub.execute_input": "2025-10-22T20:40:03.917432Z",
     "iopub.status.busy": "2025-10-22T20:40:03.917344Z",
     "iopub.status.idle": "2025-10-22T20:40:03.919088Z",
     "shell.execute_reply": "2025-10-22T20:40:03.918799Z"
    }
   },
   "outputs": [],
   "source": [
    "# import ClusteringExperiment and init the class\n",
    "from pycaret.clustering import ClusteringExperiment\n",
    "exp = ClusteringExperiment()"
   ]
  },
  {
   "cell_type": "code",
   "execution_count": 5,
   "id": "3ead9fb5",
   "metadata": {
    "execution": {
     "iopub.execute_input": "2025-10-22T20:40:03.920242Z",
     "iopub.status.busy": "2025-10-22T20:40:03.920173Z",
     "iopub.status.idle": "2025-10-22T20:40:03.922046Z",
     "shell.execute_reply": "2025-10-22T20:40:03.921773Z"
    }
   },
   "outputs": [
    {
     "data": {
      "text/plain": [
       "pycaret.clustering.oop.ClusteringExperiment"
      ]
     },
     "execution_count": 5,
     "metadata": {},
     "output_type": "execute_result"
    }
   ],
   "source": [
    "# check the type of exp\n",
    "type(exp)"
   ]
  },
  {
   "cell_type": "code",
   "execution_count": 6,
   "id": "f05b8590",
   "metadata": {
    "execution": {
     "iopub.execute_input": "2025-10-22T20:40:03.923165Z",
     "iopub.status.busy": "2025-10-22T20:40:03.923097Z",
     "iopub.status.idle": "2025-10-22T20:40:03.952675Z",
     "shell.execute_reply": "2025-10-22T20:40:03.952239Z"
    }
   },
   "outputs": [
    {
     "data": {
      "text/html": [
       "<style type=\"text/css\">\n",
       "#T_f0eae_row5_col1 {\n",
       "  background-color: lightgreen;\n",
       "}\n",
       "</style>\n",
       "<table id=\"T_f0eae\">\n",
       "  <thead>\n",
       "    <tr>\n",
       "      <th class=\"blank level0\" >&nbsp;</th>\n",
       "      <th id=\"T_f0eae_level0_col0\" class=\"col_heading level0 col0\" >Description</th>\n",
       "      <th id=\"T_f0eae_level0_col1\" class=\"col_heading level0 col1\" >Value</th>\n",
       "    </tr>\n",
       "  </thead>\n",
       "  <tbody>\n",
       "    <tr>\n",
       "      <th id=\"T_f0eae_level0_row0\" class=\"row_heading level0 row0\" >0</th>\n",
       "      <td id=\"T_f0eae_row0_col0\" class=\"data row0 col0\" >Session id</td>\n",
       "      <td id=\"T_f0eae_row0_col1\" class=\"data row0 col1\" >123</td>\n",
       "    </tr>\n",
       "    <tr>\n",
       "      <th id=\"T_f0eae_level0_row1\" class=\"row_heading level0 row1\" >1</th>\n",
       "      <td id=\"T_f0eae_row1_col0\" class=\"data row1 col0\" >Original data shape</td>\n",
       "      <td id=\"T_f0eae_row1_col1\" class=\"data row1 col1\" >(200, 5)</td>\n",
       "    </tr>\n",
       "    <tr>\n",
       "      <th id=\"T_f0eae_level0_row2\" class=\"row_heading level0 row2\" >2</th>\n",
       "      <td id=\"T_f0eae_row2_col0\" class=\"data row2 col0\" >Transformed data shape</td>\n",
       "      <td id=\"T_f0eae_row2_col1\" class=\"data row2 col1\" >(200, 5)</td>\n",
       "    </tr>\n",
       "    <tr>\n",
       "      <th id=\"T_f0eae_level0_row3\" class=\"row_heading level0 row3\" >3</th>\n",
       "      <td id=\"T_f0eae_row3_col0\" class=\"data row3 col0\" >Numeric features</td>\n",
       "      <td id=\"T_f0eae_row3_col1\" class=\"data row3 col1\" >4</td>\n",
       "    </tr>\n",
       "    <tr>\n",
       "      <th id=\"T_f0eae_level0_row4\" class=\"row_heading level0 row4\" >4</th>\n",
       "      <td id=\"T_f0eae_row4_col0\" class=\"data row4 col0\" >Categorical features</td>\n",
       "      <td id=\"T_f0eae_row4_col1\" class=\"data row4 col1\" >1</td>\n",
       "    </tr>\n",
       "    <tr>\n",
       "      <th id=\"T_f0eae_level0_row5\" class=\"row_heading level0 row5\" >5</th>\n",
       "      <td id=\"T_f0eae_row5_col0\" class=\"data row5 col0\" >Preprocess</td>\n",
       "      <td id=\"T_f0eae_row5_col1\" class=\"data row5 col1\" >True</td>\n",
       "    </tr>\n",
       "    <tr>\n",
       "      <th id=\"T_f0eae_level0_row6\" class=\"row_heading level0 row6\" >6</th>\n",
       "      <td id=\"T_f0eae_row6_col0\" class=\"data row6 col0\" >Imputation type</td>\n",
       "      <td id=\"T_f0eae_row6_col1\" class=\"data row6 col1\" >simple</td>\n",
       "    </tr>\n",
       "    <tr>\n",
       "      <th id=\"T_f0eae_level0_row7\" class=\"row_heading level0 row7\" >7</th>\n",
       "      <td id=\"T_f0eae_row7_col0\" class=\"data row7 col0\" >Numeric imputation</td>\n",
       "      <td id=\"T_f0eae_row7_col1\" class=\"data row7 col1\" >mean</td>\n",
       "    </tr>\n",
       "    <tr>\n",
       "      <th id=\"T_f0eae_level0_row8\" class=\"row_heading level0 row8\" >8</th>\n",
       "      <td id=\"T_f0eae_row8_col0\" class=\"data row8 col0\" >Categorical imputation</td>\n",
       "      <td id=\"T_f0eae_row8_col1\" class=\"data row8 col1\" >mode</td>\n",
       "    </tr>\n",
       "    <tr>\n",
       "      <th id=\"T_f0eae_level0_row9\" class=\"row_heading level0 row9\" >9</th>\n",
       "      <td id=\"T_f0eae_row9_col0\" class=\"data row9 col0\" >Maximum one-hot encoding</td>\n",
       "      <td id=\"T_f0eae_row9_col1\" class=\"data row9 col1\" >-1</td>\n",
       "    </tr>\n",
       "    <tr>\n",
       "      <th id=\"T_f0eae_level0_row10\" class=\"row_heading level0 row10\" >10</th>\n",
       "      <td id=\"T_f0eae_row10_col0\" class=\"data row10 col0\" >Encoding method</td>\n",
       "      <td id=\"T_f0eae_row10_col1\" class=\"data row10 col1\" >None</td>\n",
       "    </tr>\n",
       "    <tr>\n",
       "      <th id=\"T_f0eae_level0_row11\" class=\"row_heading level0 row11\" >11</th>\n",
       "      <td id=\"T_f0eae_row11_col0\" class=\"data row11 col0\" >CPU Jobs</td>\n",
       "      <td id=\"T_f0eae_row11_col1\" class=\"data row11 col1\" >-1</td>\n",
       "    </tr>\n",
       "    <tr>\n",
       "      <th id=\"T_f0eae_level0_row12\" class=\"row_heading level0 row12\" >12</th>\n",
       "      <td id=\"T_f0eae_row12_col0\" class=\"data row12 col0\" >Use GPU</td>\n",
       "      <td id=\"T_f0eae_row12_col1\" class=\"data row12 col1\" >False</td>\n",
       "    </tr>\n",
       "    <tr>\n",
       "      <th id=\"T_f0eae_level0_row13\" class=\"row_heading level0 row13\" >13</th>\n",
       "      <td id=\"T_f0eae_row13_col0\" class=\"data row13 col0\" >Log Experiment</td>\n",
       "      <td id=\"T_f0eae_row13_col1\" class=\"data row13 col1\" >False</td>\n",
       "    </tr>\n",
       "    <tr>\n",
       "      <th id=\"T_f0eae_level0_row14\" class=\"row_heading level0 row14\" >14</th>\n",
       "      <td id=\"T_f0eae_row14_col0\" class=\"data row14 col0\" >Experiment Name</td>\n",
       "      <td id=\"T_f0eae_row14_col1\" class=\"data row14 col1\" >cluster-default-name</td>\n",
       "    </tr>\n",
       "    <tr>\n",
       "      <th id=\"T_f0eae_level0_row15\" class=\"row_heading level0 row15\" >15</th>\n",
       "      <td id=\"T_f0eae_row15_col0\" class=\"data row15 col0\" >USI</td>\n",
       "      <td id=\"T_f0eae_row15_col1\" class=\"data row15 col1\" >a00f</td>\n",
       "    </tr>\n",
       "  </tbody>\n",
       "</table>\n"
      ],
      "text/plain": [
       "<pandas.io.formats.style.Styler at 0x153d47550>"
      ]
     },
     "metadata": {},
     "output_type": "display_data"
    },
    {
     "data": {
      "text/plain": [
       "<pycaret.clustering.oop.ClusteringExperiment at 0x10cb61e90>"
      ]
     },
     "execution_count": 6,
     "metadata": {},
     "output_type": "execute_result"
    }
   ],
   "source": [
    "# init setup on exp\n",
    "exp.setup(data, session_id = 123)"
   ]
  },
  {
   "cell_type": "markdown",
   "id": "77213120",
   "metadata": {},
   "source": [
    "You can use any of the two method i.e. Functional or OOP and even switch back and forth between two set of API's. The choice of method will not impact the results and has been tested for consistency.\n",
    "___"
   ]
  },
  {
   "cell_type": "markdown",
   "id": "5de1eab6",
   "metadata": {},
   "source": [
    "## Create Model\n",
    "\n",
    "This function trains and evaluates the performance of a given model. Metrics evaluated can be accessed using the `get_metrics` function. Custom metrics can be added or removed using the `add_metric` and `remove_metric` function. All the available models can be accessed using the `models` function."
   ]
  },
  {
   "cell_type": "code",
   "execution_count": 7,
   "id": "65a19df4",
   "metadata": {
    "execution": {
     "iopub.execute_input": "2025-10-22T20:40:03.953794Z",
     "iopub.status.busy": "2025-10-22T20:40:03.953722Z",
     "iopub.status.idle": "2025-10-22T20:40:04.296259Z",
     "shell.execute_reply": "2025-10-22T20:40:04.295635Z"
    }
   },
   "outputs": [
    {
     "data": {
      "text/html": [],
      "text/plain": [
       "<IPython.core.display.HTML object>"
      ]
     },
     "metadata": {},
     "output_type": "display_data"
    },
    {
     "data": {
      "text/html": [
       "<style type=\"text/css\">\n",
       "</style>\n",
       "<table id=\"T_19ab5\">\n",
       "  <thead>\n",
       "    <tr>\n",
       "      <th class=\"blank level0\" >&nbsp;</th>\n",
       "      <th id=\"T_19ab5_level0_col0\" class=\"col_heading level0 col0\" >Silhouette</th>\n",
       "      <th id=\"T_19ab5_level0_col1\" class=\"col_heading level0 col1\" >Calinski-Harabasz</th>\n",
       "      <th id=\"T_19ab5_level0_col2\" class=\"col_heading level0 col2\" >Davies-Bouldin</th>\n",
       "      <th id=\"T_19ab5_level0_col3\" class=\"col_heading level0 col3\" >Homogeneity</th>\n",
       "      <th id=\"T_19ab5_level0_col4\" class=\"col_heading level0 col4\" >Rand Index</th>\n",
       "      <th id=\"T_19ab5_level0_col5\" class=\"col_heading level0 col5\" >Completeness</th>\n",
       "    </tr>\n",
       "  </thead>\n",
       "  <tbody>\n",
       "    <tr>\n",
       "      <th id=\"T_19ab5_level0_row0\" class=\"row_heading level0 row0\" >0</th>\n",
       "      <td id=\"T_19ab5_row0_col0\" class=\"data row0 col0\" >0.4209</td>\n",
       "      <td id=\"T_19ab5_row0_col1\" class=\"data row0 col1\" >260.8046</td>\n",
       "      <td id=\"T_19ab5_row0_col2\" class=\"data row0 col2\" >0.8565</td>\n",
       "      <td id=\"T_19ab5_row0_col3\" class=\"data row0 col3\" >0</td>\n",
       "      <td id=\"T_19ab5_row0_col4\" class=\"data row0 col4\" >0</td>\n",
       "      <td id=\"T_19ab5_row0_col5\" class=\"data row0 col5\" >0</td>\n",
       "    </tr>\n",
       "  </tbody>\n",
       "</table>\n"
      ],
      "text/plain": [
       "<pandas.io.formats.style.Styler at 0x153d93d50>"
      ]
     },
     "metadata": {},
     "output_type": "display_data"
    },
    {
     "data": {
      "text/html": [],
      "text/plain": [
       "<IPython.core.display.HTML object>"
      ]
     },
     "metadata": {},
     "output_type": "display_data"
    }
   ],
   "source": [
    "# train kmeans model\n",
    "kmeans = create_model('kmeans')"
   ]
  },
  {
   "cell_type": "code",
   "execution_count": 8,
   "id": "8e1442ef",
   "metadata": {
    "execution": {
     "iopub.execute_input": "2025-10-22T20:40:04.297690Z",
     "iopub.status.busy": "2025-10-22T20:40:04.297615Z",
     "iopub.status.idle": "2025-10-22T20:40:04.301571Z",
     "shell.execute_reply": "2025-10-22T20:40:04.301192Z"
    }
   },
   "outputs": [
    {
     "data": {
      "text/html": [
       "<div>\n",
       "<style scoped>\n",
       "    .dataframe tbody tr th:only-of-type {\n",
       "        vertical-align: middle;\n",
       "    }\n",
       "\n",
       "    .dataframe tbody tr th {\n",
       "        vertical-align: top;\n",
       "    }\n",
       "\n",
       "    .dataframe thead th {\n",
       "        text-align: right;\n",
       "    }\n",
       "</style>\n",
       "<table border=\"1\" class=\"dataframe\">\n",
       "  <thead>\n",
       "    <tr style=\"text-align: right;\">\n",
       "      <th></th>\n",
       "      <th>Name</th>\n",
       "      <th>Reference</th>\n",
       "    </tr>\n",
       "    <tr>\n",
       "      <th>ID</th>\n",
       "      <th></th>\n",
       "      <th></th>\n",
       "    </tr>\n",
       "  </thead>\n",
       "  <tbody>\n",
       "    <tr>\n",
       "      <th>kmeans</th>\n",
       "      <td>K-Means Clustering</td>\n",
       "      <td>sklearn.cluster._kmeans.KMeans</td>\n",
       "    </tr>\n",
       "    <tr>\n",
       "      <th>ap</th>\n",
       "      <td>Affinity Propagation</td>\n",
       "      <td>sklearn.cluster._affinity_propagation.Affinity...</td>\n",
       "    </tr>\n",
       "    <tr>\n",
       "      <th>meanshift</th>\n",
       "      <td>Mean Shift Clustering</td>\n",
       "      <td>sklearn.cluster._mean_shift.MeanShift</td>\n",
       "    </tr>\n",
       "    <tr>\n",
       "      <th>sc</th>\n",
       "      <td>Spectral Clustering</td>\n",
       "      <td>sklearn.cluster._spectral.SpectralClustering</td>\n",
       "    </tr>\n",
       "    <tr>\n",
       "      <th>hclust</th>\n",
       "      <td>Agglomerative Clustering</td>\n",
       "      <td>sklearn.cluster._agglomerative.AgglomerativeCl...</td>\n",
       "    </tr>\n",
       "    <tr>\n",
       "      <th>dbscan</th>\n",
       "      <td>Density-Based Spatial Clustering</td>\n",
       "      <td>sklearn.cluster._dbscan.DBSCAN</td>\n",
       "    </tr>\n",
       "    <tr>\n",
       "      <th>optics</th>\n",
       "      <td>OPTICS Clustering</td>\n",
       "      <td>sklearn.cluster._optics.OPTICS</td>\n",
       "    </tr>\n",
       "    <tr>\n",
       "      <th>birch</th>\n",
       "      <td>Birch Clustering</td>\n",
       "      <td>sklearn.cluster._birch.Birch</td>\n",
       "    </tr>\n",
       "  </tbody>\n",
       "</table>\n",
       "</div>"
      ],
      "text/plain": [
       "                                       Name  \\\n",
       "ID                                            \n",
       "kmeans                   K-Means Clustering   \n",
       "ap                     Affinity Propagation   \n",
       "meanshift             Mean Shift Clustering   \n",
       "sc                      Spectral Clustering   \n",
       "hclust             Agglomerative Clustering   \n",
       "dbscan     Density-Based Spatial Clustering   \n",
       "optics                    OPTICS Clustering   \n",
       "birch                      Birch Clustering   \n",
       "\n",
       "                                                   Reference  \n",
       "ID                                                            \n",
       "kmeans                        sklearn.cluster._kmeans.KMeans  \n",
       "ap         sklearn.cluster._affinity_propagation.Affinity...  \n",
       "meanshift              sklearn.cluster._mean_shift.MeanShift  \n",
       "sc              sklearn.cluster._spectral.SpectralClustering  \n",
       "hclust     sklearn.cluster._agglomerative.AgglomerativeCl...  \n",
       "dbscan                        sklearn.cluster._dbscan.DBSCAN  \n",
       "optics                        sklearn.cluster._optics.OPTICS  \n",
       "birch                           sklearn.cluster._birch.Birch  "
      ]
     },
     "execution_count": 8,
     "metadata": {},
     "output_type": "execute_result"
    }
   ],
   "source": [
    "# to check all the available models\n",
    "models()"
   ]
  },
  {
   "cell_type": "code",
   "execution_count": 9,
   "id": "4954b77b",
   "metadata": {
    "execution": {
     "iopub.execute_input": "2025-10-22T20:40:04.302602Z",
     "iopub.status.busy": "2025-10-22T20:40:04.302536Z",
     "iopub.status.idle": "2025-10-22T20:40:05.736488Z",
     "shell.execute_reply": "2025-10-22T20:40:05.735927Z"
    }
   },
   "outputs": [
    {
     "data": {
      "text/html": [],
      "text/plain": [
       "<IPython.core.display.HTML object>"
      ]
     },
     "metadata": {},
     "output_type": "display_data"
    },
    {
     "data": {
      "text/html": [
       "<style type=\"text/css\">\n",
       "</style>\n",
       "<table id=\"T_4b76a\">\n",
       "  <thead>\n",
       "    <tr>\n",
       "      <th class=\"blank level0\" >&nbsp;</th>\n",
       "      <th id=\"T_4b76a_level0_col0\" class=\"col_heading level0 col0\" >Silhouette</th>\n",
       "      <th id=\"T_4b76a_level0_col1\" class=\"col_heading level0 col1\" >Calinski-Harabasz</th>\n",
       "      <th id=\"T_4b76a_level0_col2\" class=\"col_heading level0 col2\" >Davies-Bouldin</th>\n",
       "      <th id=\"T_4b76a_level0_col3\" class=\"col_heading level0 col3\" >Homogeneity</th>\n",
       "      <th id=\"T_4b76a_level0_col4\" class=\"col_heading level0 col4\" >Rand Index</th>\n",
       "      <th id=\"T_4b76a_level0_col5\" class=\"col_heading level0 col5\" >Completeness</th>\n",
       "    </tr>\n",
       "  </thead>\n",
       "  <tbody>\n",
       "    <tr>\n",
       "      <th id=\"T_4b76a_level0_row0\" class=\"row_heading level0 row0\" >0</th>\n",
       "      <td id=\"T_4b76a_row0_col0\" class=\"data row0 col0\" >0</td>\n",
       "      <td id=\"T_4b76a_row0_col1\" class=\"data row0 col1\" >0</td>\n",
       "      <td id=\"T_4b76a_row0_col2\" class=\"data row0 col2\" >0</td>\n",
       "      <td id=\"T_4b76a_row0_col3\" class=\"data row0 col3\" >0</td>\n",
       "      <td id=\"T_4b76a_row0_col4\" class=\"data row0 col4\" >0</td>\n",
       "      <td id=\"T_4b76a_row0_col5\" class=\"data row0 col5\" >0</td>\n",
       "    </tr>\n",
       "  </tbody>\n",
       "</table>\n"
      ],
      "text/plain": [
       "<pandas.io.formats.style.Styler at 0x153668550>"
      ]
     },
     "metadata": {},
     "output_type": "display_data"
    },
    {
     "data": {
      "text/html": [],
      "text/plain": [
       "<IPython.core.display.HTML object>"
      ]
     },
     "metadata": {},
     "output_type": "display_data"
    }
   ],
   "source": [
    "# train meanshift model\n",
    "meanshift = create_model('meanshift')"
   ]
  },
  {
   "cell_type": "markdown",
   "id": "8aad62df",
   "metadata": {},
   "source": [
    "## Assign Model\n",
    "This function assigns cluster labels to the training data, given a trained model."
   ]
  },
  {
   "cell_type": "code",
   "execution_count": 10,
   "id": "f1e54158",
   "metadata": {
    "execution": {
     "iopub.execute_input": "2025-10-22T20:40:05.738034Z",
     "iopub.status.busy": "2025-10-22T20:40:05.737929Z",
     "iopub.status.idle": "2025-10-22T20:40:05.750377Z",
     "shell.execute_reply": "2025-10-22T20:40:05.749885Z"
    }
   },
   "outputs": [
    {
     "data": {
      "text/html": [
       "<div>\n",
       "<style scoped>\n",
       "    .dataframe tbody tr th:only-of-type {\n",
       "        vertical-align: middle;\n",
       "    }\n",
       "\n",
       "    .dataframe tbody tr th {\n",
       "        vertical-align: top;\n",
       "    }\n",
       "\n",
       "    .dataframe thead th {\n",
       "        text-align: right;\n",
       "    }\n",
       "</style>\n",
       "<table border=\"1\" class=\"dataframe\">\n",
       "  <thead>\n",
       "    <tr style=\"text-align: right;\">\n",
       "      <th></th>\n",
       "      <th>CustomerID</th>\n",
       "      <th>Gender</th>\n",
       "      <th>Age</th>\n",
       "      <th>Annual Income (k$)</th>\n",
       "      <th>Spending Score (1-100)</th>\n",
       "      <th>Cluster</th>\n",
       "    </tr>\n",
       "  </thead>\n",
       "  <tbody>\n",
       "    <tr>\n",
       "      <th>0</th>\n",
       "      <td>1</td>\n",
       "      <td>Male</td>\n",
       "      <td>19</td>\n",
       "      <td>15</td>\n",
       "      <td>39</td>\n",
       "      <td>Cluster 1</td>\n",
       "    </tr>\n",
       "    <tr>\n",
       "      <th>1</th>\n",
       "      <td>2</td>\n",
       "      <td>Male</td>\n",
       "      <td>21</td>\n",
       "      <td>15</td>\n",
       "      <td>81</td>\n",
       "      <td>Cluster 1</td>\n",
       "    </tr>\n",
       "    <tr>\n",
       "      <th>2</th>\n",
       "      <td>3</td>\n",
       "      <td>Female</td>\n",
       "      <td>20</td>\n",
       "      <td>16</td>\n",
       "      <td>6</td>\n",
       "      <td>Cluster 1</td>\n",
       "    </tr>\n",
       "    <tr>\n",
       "      <th>3</th>\n",
       "      <td>4</td>\n",
       "      <td>Female</td>\n",
       "      <td>23</td>\n",
       "      <td>16</td>\n",
       "      <td>77</td>\n",
       "      <td>Cluster 1</td>\n",
       "    </tr>\n",
       "    <tr>\n",
       "      <th>4</th>\n",
       "      <td>5</td>\n",
       "      <td>Female</td>\n",
       "      <td>31</td>\n",
       "      <td>17</td>\n",
       "      <td>40</td>\n",
       "      <td>Cluster 1</td>\n",
       "    </tr>\n",
       "    <tr>\n",
       "      <th>...</th>\n",
       "      <td>...</td>\n",
       "      <td>...</td>\n",
       "      <td>...</td>\n",
       "      <td>...</td>\n",
       "      <td>...</td>\n",
       "      <td>...</td>\n",
       "    </tr>\n",
       "    <tr>\n",
       "      <th>195</th>\n",
       "      <td>196</td>\n",
       "      <td>Female</td>\n",
       "      <td>35</td>\n",
       "      <td>120</td>\n",
       "      <td>79</td>\n",
       "      <td>Cluster 2</td>\n",
       "    </tr>\n",
       "    <tr>\n",
       "      <th>196</th>\n",
       "      <td>197</td>\n",
       "      <td>Female</td>\n",
       "      <td>45</td>\n",
       "      <td>126</td>\n",
       "      <td>28</td>\n",
       "      <td>Cluster 3</td>\n",
       "    </tr>\n",
       "    <tr>\n",
       "      <th>197</th>\n",
       "      <td>198</td>\n",
       "      <td>Male</td>\n",
       "      <td>32</td>\n",
       "      <td>126</td>\n",
       "      <td>74</td>\n",
       "      <td>Cluster 2</td>\n",
       "    </tr>\n",
       "    <tr>\n",
       "      <th>198</th>\n",
       "      <td>199</td>\n",
       "      <td>Male</td>\n",
       "      <td>32</td>\n",
       "      <td>137</td>\n",
       "      <td>18</td>\n",
       "      <td>Cluster 3</td>\n",
       "    </tr>\n",
       "    <tr>\n",
       "      <th>199</th>\n",
       "      <td>200</td>\n",
       "      <td>Male</td>\n",
       "      <td>30</td>\n",
       "      <td>137</td>\n",
       "      <td>83</td>\n",
       "      <td>Cluster 2</td>\n",
       "    </tr>\n",
       "  </tbody>\n",
       "</table>\n",
       "<p>200 rows × 6 columns</p>\n",
       "</div>"
      ],
      "text/plain": [
       "     CustomerID  Gender  Age  Annual Income (k$)  Spending Score (1-100)  \\\n",
       "0             1    Male   19                  15                      39   \n",
       "1             2    Male   21                  15                      81   \n",
       "2             3  Female   20                  16                       6   \n",
       "3             4  Female   23                  16                      77   \n",
       "4             5  Female   31                  17                      40   \n",
       "..          ...     ...  ...                 ...                     ...   \n",
       "195         196  Female   35                 120                      79   \n",
       "196         197  Female   45                 126                      28   \n",
       "197         198    Male   32                 126                      74   \n",
       "198         199    Male   32                 137                      18   \n",
       "199         200    Male   30                 137                      83   \n",
       "\n",
       "       Cluster  \n",
       "0    Cluster 1  \n",
       "1    Cluster 1  \n",
       "2    Cluster 1  \n",
       "3    Cluster 1  \n",
       "4    Cluster 1  \n",
       "..         ...  \n",
       "195  Cluster 2  \n",
       "196  Cluster 3  \n",
       "197  Cluster 2  \n",
       "198  Cluster 3  \n",
       "199  Cluster 2  \n",
       "\n",
       "[200 rows x 6 columns]"
      ]
     },
     "execution_count": 10,
     "metadata": {},
     "output_type": "execute_result"
    }
   ],
   "source": [
    "kmeans_cluster = assign_model(kmeans)\n",
    "kmeans_cluster"
   ]
  },
  {
   "cell_type": "markdown",
   "id": "6a77ec0c",
   "metadata": {},
   "source": [
    "## Analyze Model"
   ]
  },
  {
   "cell_type": "markdown",
   "id": "595ea108",
   "metadata": {},
   "source": [
    "You can use the `plot_model` function to analyzes the performance of a trained model on the test set. It may require re-training the model in certain cases."
   ]
  },
  {
   "cell_type": "code",
   "execution_count": 11,
   "id": "0ec7fad6",
   "metadata": {
    "execution": {
     "iopub.execute_input": "2025-10-22T20:40:05.751776Z",
     "iopub.status.busy": "2025-10-22T20:40:05.751684Z",
     "iopub.status.idle": "2025-10-22T20:40:05.993178Z",
     "shell.execute_reply": "2025-10-22T20:40:05.992775Z"
    }
   },
   "outputs": [
    {
     "data": {
      "text/html": [],
      "text/plain": [
       "<IPython.core.display.HTML object>"
      ]
     },
     "metadata": {},
     "output_type": "display_data"
    },
    {
     "data": {
      "application/vnd.plotly.v1+json": {
       "config": {
        "plotlyServerURL": "https://plot.ly"
       },
       "data": [
        {
         "customdata": {
          "bdata": "ZAAAAFsAAABaAAAAWQAAAFgAAABXAAAAVgAAAFUAAABUAAAAUwAAAFIAAABRAAAAUAAAAE8AAABcAAAATgAAAEwAAABLAAAASgAAAEkAAABIAAAARwAAAEYAAABFAAAARAAAAEMAAABCAAAAPQAAAEEAAABNAAAAXQAAAF4AAABfAAAAfwAAAH0AAAB7AAAAegAAAHkAAAB4AAAAdwAAAHYAAAB1AAAAdAAAAHMAAAByAAAAcQAAAHAAAABvAAAAbgAAAG0AAABsAAAAawAAAGoAAABpAAAAaAAAAGcAAABmAAAAZQAAAGMAAABiAAAAYQAAAGAAAAA/AAAAQAAAAA==",
          "dtype": "i4",
          "shape": "64, 1"
         },
         "hovertemplate": "Cluster=Cluster 0<br>PCA1=%{x}<br>PCA2=%{y}<br>Feature=%{customdata[0]}<extra></extra>",
         "legendgroup": "Cluster 0",
         "marker": {
          "color": "#636efa",
          "opacity": 0.5,
          "symbol": "circle"
         },
         "mode": "markers",
         "name": "Cluster 0",
         "orientation": "v",
         "showlegend": true,
         "textposition": "top center",
         "type": "scatter",
         "x": {
          "bdata": "8uIlXYNJxr87nYVxj+UiwPfzclqRciXAdz4DxyvmJsBiHaoni3cpwOeEArbKoyvAW2JWqrD9L8D8ks8HXq0wwLgO8YjH0jHAOFh66ALhMsCptR1VTIczwOq+eE5ZlDTA4NqcnIOBNcDtJa7sIDM2wJYSMLOTqyDAmPDH4g89N8A8nhYiOPE4wJi6bHJnGDrASs58yDqWPMBitGt74Is9wNjM/WJ51j7AOa0KSWnMP8AzQ3SLpnlAwJqbWqBz2kDAQh4Z1oV9QcCXYxen591BwL591h1COELAldIT4JISRcCy+P3ltdVCwLaOvG3bJTjA4N1olASMHMCMM9NoCvMYwKq7mlyJDhXAf827GbFTPEAq/JgifSs6QBvA2zGSBzhA2XB1zToxNkAKEiYSc3M1QHWz8UTPaDRAByUCAbhlM0Cd7MM7YskxQNxnWqxdrzBAcroeWKcTMEBcnLZoE1AuQHEgbtYjoitA4aaPB8+HKUAgLExadUUnQHmzqItZ4SRAz2cdFkr9IkCW4o+J0BIhQIoE+bxY5x5AYZQFZU8TG0B8mFUOPqIWQIMFCqZLsxJAHS/JfIMfD0Ck6RqlGBwGQHOftOgiH/4/xzdf7kA18T8+yPwhDsT0v1t7mKrsigPAeTfQwrDxC8BPjb56+vIQwDySaL3a9UPASbse/0VxQ8A=",
          "dtype": "f8"
         },
         "xaxis": "x",
         "y": {
          "bdata": "8PO2OM1JCcDiDCKGP2z/Pw7E1q2gTBpAFuw1hTh2JcBQTWSl10QhwBxeDT470w/AW/R8CbxCGEB3/GyPxbIlwI4m0OylKR5Ax7klAbiPLkAvCLhKygsUwEgBoAqw7QlARi1s68FPJEARSA6gtzcWwD8jZ+5UbxBAWb8Mc1XrAUAYiyLRoU0bwApNs3QaQB5ArJcwmYsP8L9Boj3S1DYXQCTz7j69OyNAkeH0BGD1AUC/44NeXZb0P6m3EJ2wwyrAz/6uA6MlIUCxCHL0iR7sP3ELdEMvQSvAQuC5JZYn8z/IQkMw2fYRQDeVl9++vfe/78fcJn/SCUD9VcxlNU4kQLnGesmWfhlASHzAszrtL0AWW1qfVjAxQGOeJMBblhzAWlb0JSTII0BG5OkOPGwgwBqgdX3dQQ/A27w+TH/iI0C4klJnoW8YwL6vu1HLWClAY8EZOFECEcDtY9v+WVMEwDbo6aCWE9i/i0bFdiyAH0BUPKiZs1wgwH9scMnkUBFA12RKw5PkIEDppvrCnIgrQGuH1tzfgB5A3/ec3gnvGUCcpVp+9FgPQA1295pUOQrAW8Vqgu9fHsCrVeae+pQAwLpfoKTi9hFA3WioM0lNFUAHyatVTygkQNaH8CvTXATA4iJ73eXaE0BvHrJEicIUwJAxK56bqxFAHXYfr0SBFcA=",
          "dtype": "f8"
         },
         "yaxis": "y"
        },
        {
         "customdata": {
          "bdata": "AQAAADwAAAAcAAAAGwAAABoAAAAZAAAAGAAAABcAAAAWAAAAFQAAABMAAAASAAAAEQAAABAAAAAPAAAADgAAAA0AAAAMAAAACwAAAAoAAAAJAAAACAAAAAcAAAAGAAAABQAAAAQAAAADAAAAAgAAAD4AAAAdAAAAHgAAABQAAAAgAAAAOwAAADoAAAA5AAAAHwAAADcAAAA2AAAANQAAADQAAAAzAAAAMgAAADEAAAAwAAAALwAAAC4AAAA4AAAALAAAACsAAAAqAAAAKQAAACgAAAAnAAAAJgAAACUAAAAkAAAAIwAAACEAAAAtAAAAIgAAAA==",
          "dtype": "i4",
          "shape": "61, 1"
         },
         "hovertemplate": "Cluster=Cluster 1<br>PCA1=%{x}<br>PCA2=%{y}<br>Feature=%{customdata[0]}<extra></extra>",
         "legendgroup": "Cluster 1",
         "marker": {
          "color": "#EF553B",
          "opacity": 0.5,
          "symbol": "circle"
         },
         "mode": "markers",
         "name": "Cluster 1",
         "orientation": "v",
         "showlegend": true,
         "textposition": "top center",
         "type": "scatter",
         "x": {
          "bdata": "oQlle5JYW8CQuetgMoNFwKDMyuks2FPAyCCOkcAiVMDcy1u70UFUwILXwtOoolTAO0CvB5wJVcAQ/p1lsmZVwB/YoY1TllXAt/Pvi7bkVcBB7iPgnnxWwNL4Oi19z1bAgL+vksscV8AqMGDVqVlXwH2VVHfetVfAEy3o7CXQV8Bg9TwwxzFYwIE80IrcWVjA6JqZooXEWMA+9AV6WthYwF04cLPwPFnA06pIyE9bWcDwa1ZXxr9ZwEoSlw+V8VnA4EDKmr0+WsAHbtbnf4BawJO3SisV2FrATefvm/sMW8C8b0icS3hEwII/uG5VklPAkxHDiaQ5U8CeYbnjaR5WwAyA2BHlr1LAA/NIolPgRcAzo2wgYOFGwF0+mexcRUfAE+t+qFsWU8AaNkGV0GZIwGBoP72R1UjAPFwQ2ZQ6ScDuYEPf/d9JwI9l7iS8Z0rA9gPDfhJAS8AR4G5qbLNLwAdC0HOCIkzAIUYrAM2hTMDA6Fcn1y5NwPIg6LkQ80fA363AGjYhTsBxx2x/F7hOwJhYHJxkH0/AI1yU/LLjT8CzFraIcSRQwIkaawnGeVDAZg2cGEDsUMBuFFWgEENRwKCSyORtdFHAuM9gqfDVUcAjJP+wh1BSwL+95/IE1k3AReMPdW/jUcA=",
          "dtype": "f8"
         },
         "xaxis": "x",
         "y": {
          "bdata": "gZJH2+/pFUBghCEQLxMcQEo/baMICSjABlhu1BN/MkAZZ0CE/etAwAALPFkmCUNA8QEzgKSoOMAZPtrdw3pGQENKIwQcDjrAwjDzQCNwKkCxhOdXGfI2QP+/JLZabzTA2zl6bidZKkD5ZECjllJAwHbFv8SCg0FA+TrYmjRAPsB7yJZLavJCQL5Ywc2Ak0jA5EG/2Hx1RED2ObMM3Ag4wFklCw49dklAsU0LeSCJR8AXiESGUKlEQJ5sKPEdzT3Am0wtfN4vHUDKOQDgDJA+wOTWRK+h60JAmg1cEkR3QcAH9APq1hQjwMdicpDEVjJAFGw5WdEHRMDWAm88ug1IwBe1PN6r4DrAgZfeEeecDsDwOTXzX1YlQCU3wOY/EwVAT8EKBVydSEC5vMsuzgIdQJMj/TKFIBXAiic5iGiGF8CquqSdn4smwNdJF1YJVsc/97o+rugIF0AXP0aVLC0VQGKMGV5osqK/HayT3CxZBMBSR1bX7kIywAyRO/vp7CRAS5RHkaGKKcBh3kq9AuwuQFWCcnpWSEbA/dQDpwRSNEDEybz5a/U8wMPQfOEtZjZAdCi+5pa/OMC5L09OYUBAQMIFz5dPT0HALU22BKGBQkCr8nQSzdNHQEmbBshDfDdAE7L7vvYCR8A=",
          "dtype": "f8"
         },
         "yaxis": "y"
        },
        {
         "customdata": {
          "bdata": "rAAAAKoAAACoAAAAngAAAKQAAACiAAAAoAAAAK4AAACcAAAApgAAALAAAAC6AAAAtAAAALYAAAC4AAAAvAAAAL4AAADAAAAAwgAAAMYAAADEAAAAmgAAALIAAACYAAAAyAAAAIgAAACCAAAAjAAAAIQAAACQAAAAgAAAAI4AAACGAAAAfgAAAIoAAAB8AAAAlAAAAJYAAACSAAAA",
          "dtype": "i4",
          "shape": "39, 1"
         },
         "hovertemplate": "Cluster=Cluster 2<br>PCA1=%{x}<br>PCA2=%{y}<br>Feature=%{customdata[0]}<extra></extra>",
         "legendgroup": "Cluster 2",
         "marker": {
          "color": "#00cc96",
          "opacity": 0.5,
          "symbol": "circle"
         },
         "mode": "markers",
         "name": "Cluster 2",
         "orientation": "v",
         "showlegend": true,
         "textposition": "top center",
         "type": "scatter",
         "x": {
          "bdata": "Jc5CpaYSU0A2IarhLZdSQNnM/4R0FVJAOqNf+kbsTUD9B3cfEalQQMLjIlrv+E9AWOyZhLfRTkCWJz16wItTQC3oxiI1Dk1AOpSlktR8UUBHYA5jYhpUQEdlqhulhldAgJmgTIeGVUBQNaycPGNWQEPF5iov9FZAIT63fxwkWEDHh1B4atFYQOURf/XxQFlAntydXBfCWkBIXw4bVvpcQGxSD8XD6VtAV28RNigRTEAUsOH4I4lUQKEOy+D+MEtAAMjxYw6TXkDshNe+pOVCQFJV4viNXD9A5L3sLyLbREArq6pDO5dAQFV1/x0OJkdA9ZT/nEOoPUCHlCAsSw1GQFM5ziC0t0FAve9lZhNbO0A4K6XLW8BDQAS8SDUxKzlAwyE4kJsiSUByMKnvv0xKQM5OdBqVT0hA",
          "dtype": "f8"
         },
         "xaxis": "x",
         "y": {
          "bdata": "y1nc/IMOOsAPy+/qZPAqwBjjwltqM0bA6J/EDM2oPMD8nF9pp3xFwPF2sO0L3UDA0KbZ33fIN8AvAoQfaGBEwMKAdTs1CETAxqIP/CpEOMDLuiFsRCNCwE+pDa7za0fAoCxpwcx6Q8C3V8JxnttBwGaH0uysKkPArY0TMNYNM8By9/toPt5AwPajge3WEjPA5Aj691eCQ8CB8xMl37o3wKca6vvy9jvA39+50kflOMD/F3EHoGg0wJ3HDBk+LULARjuIXjFtQMAXVDe45GJDwCyoPzkrGTjAg1I01W3LNcAKPOLSu9s3wNmp2gLkhULAYhxEo4CORcAOw1tcdnNFwLPAOw1cyTXAypcOx6muO8Au2RLbS3k3wCMHnRk6vkPAAu1GgrZdOMAAeH8pubpDwNIxx8XD1kfA",
          "dtype": "f8"
         },
         "yaxis": "y"
        },
        {
         "customdata": {
          "bdata": "twAAALUAAAC5AAAAlwAAALsAAACHAAAAgQAAAL8AAADBAAAAwwAAAMUAAADHAAAAgwAAAL0AAACvAAAAsQAAAJUAAACZAAAAmwAAAJMAAACdAAAAnwAAAJEAAAChAAAAswAAAKMAAAClAAAApwAAAI0AAACpAAAAqwAAAIsAAACtAAAAiQAAAI8AAACFAAAA",
          "dtype": "i4",
          "shape": "36, 1"
         },
         "hovertemplate": "Cluster=Cluster 3<br>PCA1=%{x}<br>PCA2=%{y}<br>Feature=%{customdata[0]}<extra></extra>",
         "legendgroup": "Cluster 3",
         "marker": {
          "color": "#ab63fa",
          "opacity": 0.5,
          "symbol": "circle"
         },
         "mode": "markers",
         "name": "Cluster 3",
         "orientation": "v",
         "showlegend": true,
         "textposition": "top center",
         "type": "scatter",
         "x": {
          "bdata": "XKGRbUWUVkCW4+/35g9WQB2nnOpSL1dAOqjTVJN8SkCrHCraIc1XQJ0QPUnNMEJAbM1eMyPmPUDS0ogKJvJYQO4cOlcrZlpAsMK76/aPW0AhJHUHYqdcQHE6oeQnPF5AtmehCSbIP0ChJF8wHHhYQJUI+OyQuFNAcfpSbwwsVEAynjRj1Z1JQNjxYgYIaEtAUr4wgRJMTEDDc+JqY4FIQIPI0HKLME1AD1Q3T4AcTkDmmCFNeZRHQFJJ8h7fRk9Amg2PIK4iVUDodHWro01QQAbgwJJHKFFAXGhi/LC3UUCjlChyjTpFQKUMLljeS1JAOuQp/Ea5UkAlUQCpdT1EQO/ZUuxZLlNAGA+UQCQKQ0AiPGHHHIxGQPR5W9nKJ0FA",
          "dtype": "f8"
         },
         "xaxis": "x",
         "y": {
          "bdata": "AXBEg2JOQkAAEjE/J/sxQPXb5gw4PyhARXaxckDUQEBm7Ce72rs9QAbp8eVV90NADA+lLc6ARUC+gkRw/CU6QGsVmb+BTURAiY40MbIMQkDrgKsokAQ4QFKN5akh3D5ASsIVEmUaRUATmVWD8cpAQKkR01Wq6ENAmozSMmyhQ0ANdU6qkLY6QGIEZWQ0+j5AGFvK+enIQUA0omCKo0kwQKgm4LHj8EdAgvukS/yZR0C9cXQ04ixBQDLqxMdILzNAGbYH86dBRED9dVuLNvRDQH8fjeEeojpAAda0ShanPkAvqqUnGD1IQE4eZj+GejZAZGLOjleEQkAEwqN+sG5BQJ3k/8e+hUNAdtCAmRTBRUDwIbU+SRUfQEH+bxBprSlA",
          "dtype": "f8"
         },
         "yaxis": "y"
        }
       ],
       "layout": {
        "height": 600,
        "legend": {
         "title": {
          "text": "Cluster"
         },
         "tracegroupgap": 0
        },
        "margin": {
         "t": 60
        },
        "plot_bgcolor": "rgb(240,240,240)",
        "template": {
         "data": {
          "bar": [
           {
            "error_x": {
             "color": "#2a3f5f"
            },
            "error_y": {
             "color": "#2a3f5f"
            },
            "marker": {
             "line": {
              "color": "#E5ECF6",
              "width": 0.5
             },
             "pattern": {
              "fillmode": "overlay",
              "size": 10,
              "solidity": 0.2
             }
            },
            "type": "bar"
           }
          ],
          "barpolar": [
           {
            "marker": {
             "line": {
              "color": "#E5ECF6",
              "width": 0.5
             },
             "pattern": {
              "fillmode": "overlay",
              "size": 10,
              "solidity": 0.2
             }
            },
            "type": "barpolar"
           }
          ],
          "carpet": [
           {
            "aaxis": {
             "endlinecolor": "#2a3f5f",
             "gridcolor": "white",
             "linecolor": "white",
             "minorgridcolor": "white",
             "startlinecolor": "#2a3f5f"
            },
            "baxis": {
             "endlinecolor": "#2a3f5f",
             "gridcolor": "white",
             "linecolor": "white",
             "minorgridcolor": "white",
             "startlinecolor": "#2a3f5f"
            },
            "type": "carpet"
           }
          ],
          "choropleth": [
           {
            "colorbar": {
             "outlinewidth": 0,
             "ticks": ""
            },
            "type": "choropleth"
           }
          ],
          "contour": [
           {
            "colorbar": {
             "outlinewidth": 0,
             "ticks": ""
            },
            "colorscale": [
             [
              0.0,
              "#0d0887"
             ],
             [
              0.1111111111111111,
              "#46039f"
             ],
             [
              0.2222222222222222,
              "#7201a8"
             ],
             [
              0.3333333333333333,
              "#9c179e"
             ],
             [
              0.4444444444444444,
              "#bd3786"
             ],
             [
              0.5555555555555556,
              "#d8576b"
             ],
             [
              0.6666666666666666,
              "#ed7953"
             ],
             [
              0.7777777777777778,
              "#fb9f3a"
             ],
             [
              0.8888888888888888,
              "#fdca26"
             ],
             [
              1.0,
              "#f0f921"
             ]
            ],
            "type": "contour"
           }
          ],
          "contourcarpet": [
           {
            "colorbar": {
             "outlinewidth": 0,
             "ticks": ""
            },
            "type": "contourcarpet"
           }
          ],
          "heatmap": [
           {
            "colorbar": {
             "outlinewidth": 0,
             "ticks": ""
            },
            "colorscale": [
             [
              0.0,
              "#0d0887"
             ],
             [
              0.1111111111111111,
              "#46039f"
             ],
             [
              0.2222222222222222,
              "#7201a8"
             ],
             [
              0.3333333333333333,
              "#9c179e"
             ],
             [
              0.4444444444444444,
              "#bd3786"
             ],
             [
              0.5555555555555556,
              "#d8576b"
             ],
             [
              0.6666666666666666,
              "#ed7953"
             ],
             [
              0.7777777777777778,
              "#fb9f3a"
             ],
             [
              0.8888888888888888,
              "#fdca26"
             ],
             [
              1.0,
              "#f0f921"
             ]
            ],
            "type": "heatmap"
           }
          ],
          "histogram": [
           {
            "marker": {
             "pattern": {
              "fillmode": "overlay",
              "size": 10,
              "solidity": 0.2
             }
            },
            "type": "histogram"
           }
          ],
          "histogram2d": [
           {
            "colorbar": {
             "outlinewidth": 0,
             "ticks": ""
            },
            "colorscale": [
             [
              0.0,
              "#0d0887"
             ],
             [
              0.1111111111111111,
              "#46039f"
             ],
             [
              0.2222222222222222,
              "#7201a8"
             ],
             [
              0.3333333333333333,
              "#9c179e"
             ],
             [
              0.4444444444444444,
              "#bd3786"
             ],
             [
              0.5555555555555556,
              "#d8576b"
             ],
             [
              0.6666666666666666,
              "#ed7953"
             ],
             [
              0.7777777777777778,
              "#fb9f3a"
             ],
             [
              0.8888888888888888,
              "#fdca26"
             ],
             [
              1.0,
              "#f0f921"
             ]
            ],
            "type": "histogram2d"
           }
          ],
          "histogram2dcontour": [
           {
            "colorbar": {
             "outlinewidth": 0,
             "ticks": ""
            },
            "colorscale": [
             [
              0.0,
              "#0d0887"
             ],
             [
              0.1111111111111111,
              "#46039f"
             ],
             [
              0.2222222222222222,
              "#7201a8"
             ],
             [
              0.3333333333333333,
              "#9c179e"
             ],
             [
              0.4444444444444444,
              "#bd3786"
             ],
             [
              0.5555555555555556,
              "#d8576b"
             ],
             [
              0.6666666666666666,
              "#ed7953"
             ],
             [
              0.7777777777777778,
              "#fb9f3a"
             ],
             [
              0.8888888888888888,
              "#fdca26"
             ],
             [
              1.0,
              "#f0f921"
             ]
            ],
            "type": "histogram2dcontour"
           }
          ],
          "mesh3d": [
           {
            "colorbar": {
             "outlinewidth": 0,
             "ticks": ""
            },
            "type": "mesh3d"
           }
          ],
          "parcoords": [
           {
            "line": {
             "colorbar": {
              "outlinewidth": 0,
              "ticks": ""
             }
            },
            "type": "parcoords"
           }
          ],
          "pie": [
           {
            "automargin": true,
            "type": "pie"
           }
          ],
          "scatter": [
           {
            "fillpattern": {
             "fillmode": "overlay",
             "size": 10,
             "solidity": 0.2
            },
            "type": "scatter"
           }
          ],
          "scatter3d": [
           {
            "line": {
             "colorbar": {
              "outlinewidth": 0,
              "ticks": ""
             }
            },
            "marker": {
             "colorbar": {
              "outlinewidth": 0,
              "ticks": ""
             }
            },
            "type": "scatter3d"
           }
          ],
          "scattercarpet": [
           {
            "marker": {
             "colorbar": {
              "outlinewidth": 0,
              "ticks": ""
             }
            },
            "type": "scattercarpet"
           }
          ],
          "scattergeo": [
           {
            "marker": {
             "colorbar": {
              "outlinewidth": 0,
              "ticks": ""
             }
            },
            "type": "scattergeo"
           }
          ],
          "scattergl": [
           {
            "marker": {
             "colorbar": {
              "outlinewidth": 0,
              "ticks": ""
             }
            },
            "type": "scattergl"
           }
          ],
          "scattermap": [
           {
            "marker": {
             "colorbar": {
              "outlinewidth": 0,
              "ticks": ""
             }
            },
            "type": "scattermap"
           }
          ],
          "scattermapbox": [
           {
            "marker": {
             "colorbar": {
              "outlinewidth": 0,
              "ticks": ""
             }
            },
            "type": "scattermapbox"
           }
          ],
          "scatterpolar": [
           {
            "marker": {
             "colorbar": {
              "outlinewidth": 0,
              "ticks": ""
             }
            },
            "type": "scatterpolar"
           }
          ],
          "scatterpolargl": [
           {
            "marker": {
             "colorbar": {
              "outlinewidth": 0,
              "ticks": ""
             }
            },
            "type": "scatterpolargl"
           }
          ],
          "scatterternary": [
           {
            "marker": {
             "colorbar": {
              "outlinewidth": 0,
              "ticks": ""
             }
            },
            "type": "scatterternary"
           }
          ],
          "surface": [
           {
            "colorbar": {
             "outlinewidth": 0,
             "ticks": ""
            },
            "colorscale": [
             [
              0.0,
              "#0d0887"
             ],
             [
              0.1111111111111111,
              "#46039f"
             ],
             [
              0.2222222222222222,
              "#7201a8"
             ],
             [
              0.3333333333333333,
              "#9c179e"
             ],
             [
              0.4444444444444444,
              "#bd3786"
             ],
             [
              0.5555555555555556,
              "#d8576b"
             ],
             [
              0.6666666666666666,
              "#ed7953"
             ],
             [
              0.7777777777777778,
              "#fb9f3a"
             ],
             [
              0.8888888888888888,
              "#fdca26"
             ],
             [
              1.0,
              "#f0f921"
             ]
            ],
            "type": "surface"
           }
          ],
          "table": [
           {
            "cells": {
             "fill": {
              "color": "#EBF0F8"
             },
             "line": {
              "color": "white"
             }
            },
            "header": {
             "fill": {
              "color": "#C8D4E3"
             },
             "line": {
              "color": "white"
             }
            },
            "type": "table"
           }
          ]
         },
         "layout": {
          "annotationdefaults": {
           "arrowcolor": "#2a3f5f",
           "arrowhead": 0,
           "arrowwidth": 1
          },
          "autotypenumbers": "strict",
          "coloraxis": {
           "colorbar": {
            "outlinewidth": 0,
            "ticks": ""
           }
          },
          "colorscale": {
           "diverging": [
            [
             0,
             "#8e0152"
            ],
            [
             0.1,
             "#c51b7d"
            ],
            [
             0.2,
             "#de77ae"
            ],
            [
             0.3,
             "#f1b6da"
            ],
            [
             0.4,
             "#fde0ef"
            ],
            [
             0.5,
             "#f7f7f7"
            ],
            [
             0.6,
             "#e6f5d0"
            ],
            [
             0.7,
             "#b8e186"
            ],
            [
             0.8,
             "#7fbc41"
            ],
            [
             0.9,
             "#4d9221"
            ],
            [
             1,
             "#276419"
            ]
           ],
           "sequential": [
            [
             0.0,
             "#0d0887"
            ],
            [
             0.1111111111111111,
             "#46039f"
            ],
            [
             0.2222222222222222,
             "#7201a8"
            ],
            [
             0.3333333333333333,
             "#9c179e"
            ],
            [
             0.4444444444444444,
             "#bd3786"
            ],
            [
             0.5555555555555556,
             "#d8576b"
            ],
            [
             0.6666666666666666,
             "#ed7953"
            ],
            [
             0.7777777777777778,
             "#fb9f3a"
            ],
            [
             0.8888888888888888,
             "#fdca26"
            ],
            [
             1.0,
             "#f0f921"
            ]
           ],
           "sequentialminus": [
            [
             0.0,
             "#0d0887"
            ],
            [
             0.1111111111111111,
             "#46039f"
            ],
            [
             0.2222222222222222,
             "#7201a8"
            ],
            [
             0.3333333333333333,
             "#9c179e"
            ],
            [
             0.4444444444444444,
             "#bd3786"
            ],
            [
             0.5555555555555556,
             "#d8576b"
            ],
            [
             0.6666666666666666,
             "#ed7953"
            ],
            [
             0.7777777777777778,
             "#fb9f3a"
            ],
            [
             0.8888888888888888,
             "#fdca26"
            ],
            [
             1.0,
             "#f0f921"
            ]
           ]
          },
          "colorway": [
           "#636efa",
           "#EF553B",
           "#00cc96",
           "#ab63fa",
           "#FFA15A",
           "#19d3f3",
           "#FF6692",
           "#B6E880",
           "#FF97FF",
           "#FECB52"
          ],
          "font": {
           "color": "#2a3f5f"
          },
          "geo": {
           "bgcolor": "white",
           "lakecolor": "white",
           "landcolor": "#E5ECF6",
           "showlakes": true,
           "showland": true,
           "subunitcolor": "white"
          },
          "hoverlabel": {
           "align": "left"
          },
          "hovermode": "closest",
          "mapbox": {
           "style": "light"
          },
          "paper_bgcolor": "white",
          "plot_bgcolor": "#E5ECF6",
          "polar": {
           "angularaxis": {
            "gridcolor": "white",
            "linecolor": "white",
            "ticks": ""
           },
           "bgcolor": "#E5ECF6",
           "radialaxis": {
            "gridcolor": "white",
            "linecolor": "white",
            "ticks": ""
           }
          },
          "scene": {
           "xaxis": {
            "backgroundcolor": "#E5ECF6",
            "gridcolor": "white",
            "gridwidth": 2,
            "linecolor": "white",
            "showbackground": true,
            "ticks": "",
            "zerolinecolor": "white"
           },
           "yaxis": {
            "backgroundcolor": "#E5ECF6",
            "gridcolor": "white",
            "gridwidth": 2,
            "linecolor": "white",
            "showbackground": true,
            "ticks": "",
            "zerolinecolor": "white"
           },
           "zaxis": {
            "backgroundcolor": "#E5ECF6",
            "gridcolor": "white",
            "gridwidth": 2,
            "linecolor": "white",
            "showbackground": true,
            "ticks": "",
            "zerolinecolor": "white"
           }
          },
          "shapedefaults": {
           "line": {
            "color": "#2a3f5f"
           }
          },
          "ternary": {
           "aaxis": {
            "gridcolor": "white",
            "linecolor": "white",
            "ticks": ""
           },
           "baxis": {
            "gridcolor": "white",
            "linecolor": "white",
            "ticks": ""
           },
           "bgcolor": "#E5ECF6",
           "caxis": {
            "gridcolor": "white",
            "linecolor": "white",
            "ticks": ""
           }
          },
          "title": {
           "x": 0.05
          },
          "xaxis": {
           "automargin": true,
           "gridcolor": "white",
           "linecolor": "white",
           "ticks": "",
           "title": {
            "standoff": 15
           },
           "zerolinecolor": "white",
           "zerolinewidth": 2
          },
          "yaxis": {
           "automargin": true,
           "gridcolor": "white",
           "linecolor": "white",
           "ticks": "",
           "title": {
            "standoff": 15
           },
           "zerolinecolor": "white",
           "zerolinewidth": 2
          }
         }
        },
        "title": {
         "text": "2D Cluster PCA Plot"
        },
        "xaxis": {
         "anchor": "y",
         "domain": [
          0.0,
          1.0
         ],
         "title": {
          "text": "PCA1"
         }
        },
        "yaxis": {
         "anchor": "x",
         "domain": [
          0.0,
          1.0
         ],
         "title": {
          "text": "PCA2"
         }
        }
       }
      }
     },
     "metadata": {},
     "output_type": "display_data"
    }
   ],
   "source": [
    "# plot pca cluster plot \n",
    "plot_model(kmeans, plot = 'cluster')"
   ]
  },
  {
   "cell_type": "code",
   "execution_count": 12,
   "id": "9fc4b9b1",
   "metadata": {
    "execution": {
     "iopub.execute_input": "2025-10-22T20:40:05.994450Z",
     "iopub.status.busy": "2025-10-22T20:40:05.994373Z",
     "iopub.status.idle": "2025-10-22T20:40:06.222369Z",
     "shell.execute_reply": "2025-10-22T20:40:06.221960Z"
    }
   },
   "outputs": [
    {
     "data": {
      "text/html": [],
      "text/plain": [
       "<IPython.core.display.HTML object>"
      ]
     },
     "metadata": {},
     "output_type": "display_data"
    },
    {
     "data": {
      "image/png": "[encoded data removed]",
      "text/plain": [
       "<Figure size 800x550 with 1 Axes>"
      ]
     },
     "metadata": {},
     "output_type": "display_data"
    }
   ],
   "source": [
    "# plot elbow\n",
    "plot_model(kmeans, plot = 'elbow')"
   ]
  },
  {
   "cell_type": "code",
   "execution_count": 13,
   "id": "bbc790e4",
   "metadata": {
    "execution": {
     "iopub.execute_input": "2025-10-22T20:40:06.223775Z",
     "iopub.status.busy": "2025-10-22T20:40:06.223705Z",
     "iopub.status.idle": "2025-10-22T20:40:06.364584Z",
     "shell.execute_reply": "2025-10-22T20:40:06.364251Z"
    }
   },
   "outputs": [
    {
     "data": {
      "text/html": [],
      "text/plain": [
       "<IPython.core.display.HTML object>"
      ]
     },
     "metadata": {},
     "output_type": "display_data"
    },
    {
     "data": {
      "image/png": "[encoded data removed]",
      "text/plain": [
       "<Figure size 800x550 with 1 Axes>"
      ]
     },
     "metadata": {},
     "output_type": "display_data"
    }
   ],
   "source": [
    "# plot silhouette\n",
    "plot_model(kmeans, plot = 'silhouette')"
   ]
  },
  {
   "cell_type": "code",
   "execution_count": 14,
   "id": "da718984",
   "metadata": {
    "execution": {
     "iopub.execute_input": "2025-10-22T20:40:06.365823Z",
     "iopub.status.busy": "2025-10-22T20:40:06.365760Z",
     "iopub.status.idle": "2025-10-22T20:40:06.367343Z",
     "shell.execute_reply": "2025-10-22T20:40:06.366967Z"
    }
   },
   "outputs": [],
   "source": [
    "# check docstring to see available plots \n",
    "# help(plot_model)"
   ]
  },
  {
   "cell_type": "markdown",
   "id": "6bd66179",
   "metadata": {},
   "source": [
    "An alternate to `plot_model` function is `evaluate_model`. It can only be used in Notebook since it uses ipywidget."
   ]
  },
  {
   "cell_type": "code",
   "execution_count": 15,
   "id": "c75f07a8",
   "metadata": {
    "execution": {
     "iopub.execute_input": "2025-10-22T20:40:06.368175Z",
     "iopub.status.busy": "2025-10-22T20:40:06.368118Z",
     "iopub.status.idle": "2025-10-22T20:40:06.500257Z",
     "shell.execute_reply": "2025-10-22T20:40:06.499855Z"
    }
   },
   "outputs": [
    {
     "data": {
      "application/vnd.jupyter.widget-view+json": {
       "model_id": "c8e734110b764c779a7c6e9ecce2e180",
       "version_major": 2,
       "version_minor": 0
      },
      "text/plain": [
       "interactive(children=(ToggleButtons(description='Plot Type:', icons=('',), options=(('Pipeline Plot', 'pipelin…"
      ]
     },
     "metadata": {},
     "output_type": "display_data"
    }
   ],
   "source": [
    "evaluate_model(kmeans)"
   ]
  },
  {
   "cell_type": "markdown",
   "id": "954cbeff",
   "metadata": {},
   "source": [
    "## Prediction\n",
    "The `predict_model` function returns `Cluster` label as a new column in the input dataframe. This step may or may not be needed depending on the use-case. Some times clustering models are trained for analysis purpose only and the interest of user is only in assigned labels on the training dataset, that can be done using `assign_model` function. `predict_model` is only useful when you want to obtain cluster labels on unseen data (i.e. data that was not used during training the model)."
   ]
  },
  {
   "cell_type": "code",
   "execution_count": 16,
   "id": "87c1a007",
   "metadata": {
    "execution": {
     "iopub.execute_input": "2025-10-22T20:40:06.501624Z",
     "iopub.status.busy": "2025-10-22T20:40:06.501564Z",
     "iopub.status.idle": "2025-10-22T20:40:06.518335Z",
     "shell.execute_reply": "2025-10-22T20:40:06.517980Z"
    }
   },
   "outputs": [
    {
     "data": {
      "text/html": [
       "<div>\n",
       "<style scoped>\n",
       "    .dataframe tbody tr th:only-of-type {\n",
       "        vertical-align: middle;\n",
       "    }\n",
       "\n",
       "    .dataframe tbody tr th {\n",
       "        vertical-align: top;\n",
       "    }\n",
       "\n",
       "    .dataframe thead th {\n",
       "        text-align: right;\n",
       "    }\n",
       "</style>\n",
       "<table border=\"1\" class=\"dataframe\">\n",
       "  <thead>\n",
       "    <tr style=\"text-align: right;\">\n",
       "      <th></th>\n",
       "      <th>CustomerID</th>\n",
       "      <th>Gender</th>\n",
       "      <th>Age</th>\n",
       "      <th>Annual Income (k$)</th>\n",
       "      <th>Spending Score (1-100)</th>\n",
       "      <th>Cluster</th>\n",
       "    </tr>\n",
       "  </thead>\n",
       "  <tbody>\n",
       "    <tr>\n",
       "      <th>0</th>\n",
       "      <td>1.0</td>\n",
       "      <td>1.0</td>\n",
       "      <td>19.0</td>\n",
       "      <td>15.0</td>\n",
       "      <td>39.0</td>\n",
       "      <td>Cluster 1</td>\n",
       "    </tr>\n",
       "    <tr>\n",
       "      <th>1</th>\n",
       "      <td>2.0</td>\n",
       "      <td>1.0</td>\n",
       "      <td>21.0</td>\n",
       "      <td>15.0</td>\n",
       "      <td>81.0</td>\n",
       "      <td>Cluster 1</td>\n",
       "    </tr>\n",
       "    <tr>\n",
       "      <th>2</th>\n",
       "      <td>3.0</td>\n",
       "      <td>0.0</td>\n",
       "      <td>20.0</td>\n",
       "      <td>16.0</td>\n",
       "      <td>6.0</td>\n",
       "      <td>Cluster 1</td>\n",
       "    </tr>\n",
       "    <tr>\n",
       "      <th>3</th>\n",
       "      <td>4.0</td>\n",
       "      <td>0.0</td>\n",
       "      <td>23.0</td>\n",
       "      <td>16.0</td>\n",
       "      <td>77.0</td>\n",
       "      <td>Cluster 1</td>\n",
       "    </tr>\n",
       "    <tr>\n",
       "      <th>4</th>\n",
       "      <td>5.0</td>\n",
       "      <td>0.0</td>\n",
       "      <td>31.0</td>\n",
       "      <td>17.0</td>\n",
       "      <td>40.0</td>\n",
       "      <td>Cluster 1</td>\n",
       "    </tr>\n",
       "    <tr>\n",
       "      <th>...</th>\n",
       "      <td>...</td>\n",
       "      <td>...</td>\n",
       "      <td>...</td>\n",
       "      <td>...</td>\n",
       "      <td>...</td>\n",
       "      <td>...</td>\n",
       "    </tr>\n",
       "    <tr>\n",
       "      <th>195</th>\n",
       "      <td>196.0</td>\n",
       "      <td>0.0</td>\n",
       "      <td>35.0</td>\n",
       "      <td>120.0</td>\n",
       "      <td>79.0</td>\n",
       "      <td>Cluster 2</td>\n",
       "    </tr>\n",
       "    <tr>\n",
       "      <th>196</th>\n",
       "      <td>197.0</td>\n",
       "      <td>0.0</td>\n",
       "      <td>45.0</td>\n",
       "      <td>126.0</td>\n",
       "      <td>28.0</td>\n",
       "      <td>Cluster 3</td>\n",
       "    </tr>\n",
       "    <tr>\n",
       "      <th>197</th>\n",
       "      <td>198.0</td>\n",
       "      <td>1.0</td>\n",
       "      <td>32.0</td>\n",
       "      <td>126.0</td>\n",
       "      <td>74.0</td>\n",
       "      <td>Cluster 2</td>\n",
       "    </tr>\n",
       "    <tr>\n",
       "      <th>198</th>\n",
       "      <td>199.0</td>\n",
       "      <td>1.0</td>\n",
       "      <td>32.0</td>\n",
       "      <td>137.0</td>\n",
       "      <td>18.0</td>\n",
       "      <td>Cluster 3</td>\n",
       "    </tr>\n",
       "    <tr>\n",
       "      <th>199</th>\n",
       "      <td>200.0</td>\n",
       "      <td>1.0</td>\n",
       "      <td>30.0</td>\n",
       "      <td>137.0</td>\n",
       "      <td>83.0</td>\n",
       "      <td>Cluster 2</td>\n",
       "    </tr>\n",
       "  </tbody>\n",
       "</table>\n",
       "<p>200 rows × 6 columns</p>\n",
       "</div>"
      ],
      "text/plain": [
       "     CustomerID  Gender   Age  Annual Income (k$)  Spending Score (1-100)  \\\n",
       "0           1.0     1.0  19.0                15.0                    39.0   \n",
       "1           2.0     1.0  21.0                15.0                    81.0   \n",
       "2           3.0     0.0  20.0                16.0                     6.0   \n",
       "3           4.0     0.0  23.0                16.0                    77.0   \n",
       "4           5.0     0.0  31.0                17.0                    40.0   \n",
       "..          ...     ...   ...                 ...                     ...   \n",
       "195       196.0     0.0  35.0               120.0                    79.0   \n",
       "196       197.0     0.0  45.0               126.0                    28.0   \n",
       "197       198.0     1.0  32.0               126.0                    74.0   \n",
       "198       199.0     1.0  32.0               137.0                    18.0   \n",
       "199       200.0     1.0  30.0               137.0                    83.0   \n",
       "\n",
       "       Cluster  \n",
       "0    Cluster 1  \n",
       "1    Cluster 1  \n",
       "2    Cluster 1  \n",
       "3    Cluster 1  \n",
       "4    Cluster 1  \n",
       "..         ...  \n",
       "195  Cluster 2  \n",
       "196  Cluster 3  \n",
       "197  Cluster 2  \n",
       "198  Cluster 3  \n",
       "199  Cluster 2  \n",
       "\n",
       "[200 rows x 6 columns]"
      ]
     },
     "execution_count": 16,
     "metadata": {},
     "output_type": "execute_result"
    }
   ],
   "source": [
    "# predict on test set\n",
    "kmeans_pred = predict_model(kmeans, data=data)\n",
    "kmeans_pred"
   ]
  },
  {
   "cell_type": "markdown",
   "id": "e4384735",
   "metadata": {},
   "source": [
    "## Save Model"
   ]
  },
  {
   "cell_type": "markdown",
   "id": "cd63f053",
   "metadata": {},
   "source": [
    "Finally, you can save the entire pipeline on disk for later use, using pycaret's `save_model` function."
   ]
  },
  {
   "cell_type": "code",
   "execution_count": 17,
   "id": "4181de41",
   "metadata": {
    "execution": {
     "iopub.execute_input": "2025-10-22T20:40:06.519392Z",
     "iopub.status.busy": "2025-10-22T20:40:06.519327Z",
     "iopub.status.idle": "2025-10-22T20:40:06.620326Z",
     "shell.execute_reply": "2025-10-22T20:40:06.619970Z"
    }
   },
   "outputs": [
    {
     "name": "stdout",
     "output_type": "stream",
     "text": [
      "Transformation Pipeline and Model Successfully Saved\n"
     ]
    },
    {
     "data": {
      "text/plain": [
       "(Pipeline(memory=Memory(location=None),\n",
       "          steps=[('numerical_imputer',\n",
       "                  TransformerWrapper(include=['CustomerID', 'Age',\n",
       "                                              'Annual Income (k$)',\n",
       "                                              'Spending Score (1-100)'],\n",
       "                                     transformer=SimpleImputer())),\n",
       "                 ('categorical_imputer',\n",
       "                  TransformerWrapper(include=['Gender'],\n",
       "                                     transformer=SimpleImputer(strategy='most_frequent'))),\n",
       "                 ('ordinal_encoding',\n",
       "                  TransformerWrapper(include=['Gender'],\n",
       "                                     transformer=OrdinalEncoder(cols=['Gender'],\n",
       "                                                                handle_missing='return_nan',\n",
       "                                                                mapping=[{'col': 'Gender',\n",
       "                                                                          'data_type': dtype('O'),\n",
       "                                                                          'mapping': Female    0\n",
       " Male      1\n",
       " NaN      -1\n",
       " dtype: int64}]))),\n",
       "                 ('trained_model', KMeans(n_clusters=4, random_state=123))]),\n",
       " 'kmeans_pipeline.pkl')"
      ]
     },
     "execution_count": 17,
     "metadata": {},
     "output_type": "execute_result"
    }
   ],
   "source": [
    "# save pipeline\n",
    "save_model(kmeans, 'kmeans_pipeline')"
   ]
  },
  {
   "cell_type": "code",
   "execution_count": 18,
   "id": "40ed5152",
   "metadata": {
    "execution": {
     "iopub.execute_input": "2025-10-22T20:40:06.621472Z",
     "iopub.status.busy": "2025-10-22T20:40:06.621396Z",
     "iopub.status.idle": "2025-10-22T20:40:06.637798Z",
     "shell.execute_reply": "2025-10-22T20:40:06.637421Z"
    }
   },
   "outputs": [
    {
     "name": "stdout",
     "output_type": "stream",
     "text": [
      "Transformation Pipeline and Model Successfully Loaded\n"
     ]
    },
    {
     "data": {
      "text/html": [
       "<style>#sk-container-id-1 {\n",
       "  /* Definition of color scheme common for light and dark mode */\n",
       "  --sklearn-color-text: black;\n",
       "  --sklearn-color-line: gray;\n",
       "  /* Definition of color scheme for unfitted estimators */\n",
       "  --sklearn-color-unfitted-level-0: #fff5e6;\n",
       "  --sklearn-color-unfitted-level-1: #f6e4d2;\n",
       "  --sklearn-color-unfitted-level-2: #ffe0b3;\n",
       "  --sklearn-color-unfitted-level-3: chocolate;\n",
       "  /* Definition of color scheme for fitted estimators */\n",
       "  --sklearn-color-fitted-level-0: #f0f8ff;\n",
       "  --sklearn-color-fitted-level-1: #d4ebff;\n",
       "  --sklearn-color-fitted-level-2: #b3dbfd;\n",
       "  --sklearn-color-fitted-level-3: cornflowerblue;\n",
       "\n",
       "  /* Specific color for light theme */\n",
       "  --sklearn-color-text-on-default-background: var(--sg-text-color, var(--theme-code-foreground, var(--jp-content-font-color1, black)));\n",
       "  --sklearn-color-background: var(--sg-background-color, var(--theme-background, var(--jp-layout-color0, white)));\n",
       "  --sklearn-color-border-box: var(--sg-text-color, var(--theme-code-foreground, var(--jp-content-font-color1, black)));\n",
       "  --sklearn-color-icon: #696969;\n",
       "\n",
       "  @media (prefers-color-scheme: dark) {\n",
       "    /* Redefinition of color scheme for dark theme */\n",
       "    --sklearn-color-text-on-default-background: var(--sg-text-color, var(--theme-code-foreground, var(--jp-content-font-color1, white)));\n",
       "    --sklearn-color-background: var(--sg-background-color, var(--theme-background, var(--jp-layout-color0, #111)));\n",
       "    --sklearn-color-border-box: var(--sg-text-color, var(--theme-code-foreground, var(--jp-content-font-color1, white)));\n",
       "    --sklearn-color-icon: #878787;\n",
       "  }\n",
       "}\n",
       "\n",
       "#sk-container-id-1 {\n",
       "  color: var(--sklearn-color-text);\n",
       "}\n",
       "\n",
       "#sk-container-id-1 pre {\n",
       "  padding: 0;\n",
       "}\n",
       "\n",
       "#sk-container-id-1 input.sk-hidden--visually {\n",
       "  border: 0;\n",
       "  clip: rect(1px 1px 1px 1px);\n",
       "  clip: rect(1px, 1px, 1px, 1px);\n",
       "  height: 1px;\n",
       "  margin: -1px;\n",
       "  overflow: hidden;\n",
       "  padding: 0;\n",
       "  position: absolute;\n",
       "  width: 1px;\n",
       "}\n",
       "\n",
       "#sk-container-id-1 div.sk-dashed-wrapped {\n",
       "  border: 1px dashed var(--sklearn-color-line);\n",
       "  margin: 0 0.4em 0.5em 0.4em;\n",
       "  box-sizing: border-box;\n",
       "  padding-bottom: 0.4em;\n",
       "  background-color: var(--sklearn-color-background);\n",
       "}\n",
       "\n",
       "#sk-container-id-1 div.sk-container {\n",
       "  /* jupyter's `normalize.less` sets `[hidden] { display: none; }`\n",
       "     but bootstrap.min.css set `[hidden] { display: none !important; }`\n",
       "     so we also need the `!important` here to be able to override the\n",
       "     default hidden behavior on the sphinx rendered scikit-learn.org.\n",
       "     See: https://github.com/scikit-learn/scikit-learn/issues/21755 */\n",
       "  display: inline-block !important;\n",
       "  position: relative;\n",
       "}\n",
       "\n",
       "#sk-container-id-1 div.sk-text-repr-fallback {\n",
       "  display: none;\n",
       "}\n",
       "\n",
       "div.sk-parallel-item,\n",
       "div.sk-serial,\n",
       "div.sk-item {\n",
       "  /* draw centered vertical line to link estimators */\n",
       "  background-image: linear-gradient(var(--sklearn-color-text-on-default-background), var(--sklearn-color-text-on-default-background));\n",
       "  background-size: 2px 100%;\n",
       "  background-repeat: no-repeat;\n",
       "  background-position: center center;\n",
       "}\n",
       "\n",
       "/* Parallel-specific style estimator block */\n",
       "\n",
       "#sk-container-id-1 div.sk-parallel-item::after {\n",
       "  content: \"\";\n",
       "  width: 100%;\n",
       "  border-bottom: 2px solid var(--sklearn-color-text-on-default-background);\n",
       "  flex-grow: 1;\n",
       "}\n",
       "\n",
       "#sk-container-id-1 div.sk-parallel {\n",
       "  display: flex;\n",
       "  align-items: stretch;\n",
       "  justify-content: center;\n",
       "  background-color: var(--sklearn-color-background);\n",
       "  position: relative;\n",
       "}\n",
       "\n",
       "#sk-container-id-1 div.sk-parallel-item {\n",
       "  display: flex;\n",
       "  flex-direction: column;\n",
       "}\n",
       "\n",
       "#sk-container-id-1 div.sk-parallel-item:first-child::after {\n",
       "  align-self: flex-end;\n",
       "  width: 50%;\n",
       "}\n",
       "\n",
       "#sk-container-id-1 div.sk-parallel-item:last-child::after {\n",
       "  align-self: flex-start;\n",
       "  width: 50%;\n",
       "}\n",
       "\n",
       "#sk-container-id-1 div.sk-parallel-item:only-child::after {\n",
       "  width: 0;\n",
       "}\n",
       "\n",
       "/* Serial-specific style estimator block */\n",
       "\n",
       "#sk-container-id-1 div.sk-serial {\n",
       "  display: flex;\n",
       "  flex-direction: column;\n",
       "  align-items: center;\n",
       "  background-color: var(--sklearn-color-background);\n",
       "  padding-right: 1em;\n",
       "  padding-left: 1em;\n",
       "}\n",
       "\n",
       "\n",
       "/* Toggleable style: style used for estimator/Pipeline/ColumnTransformer box that is\n",
       "clickable and can be expanded/collapsed.\n",
       "- Pipeline and ColumnTransformer use this feature and define the default style\n",
       "- Estimators will overwrite some part of the style using the `sk-estimator` class\n",
       "*/\n",
       "\n",
       "/* Pipeline and ColumnTransformer style (default) */\n",
       "\n",
       "#sk-container-id-1 div.sk-toggleable {\n",
       "  /* Default theme specific background. It is overwritten whether we have a\n",
       "  specific estimator or a Pipeline/ColumnTransformer */\n",
       "  background-color: var(--sklearn-color-background);\n",
       "}\n",
       "\n",
       "/* Toggleable label */\n",
       "#sk-container-id-1 label.sk-toggleable__label {\n",
       "  cursor: pointer;\n",
       "  display: block;\n",
       "  width: 100%;\n",
       "  margin-bottom: 0;\n",
       "  padding: 0.5em;\n",
       "  box-sizing: border-box;\n",
       "  text-align: center;\n",
       "}\n",
       "\n",
       "#sk-container-id-1 label.sk-toggleable__label-arrow:before {\n",
       "  /* Arrow on the left of the label */\n",
       "  content: \"▸\";\n",
       "  float: left;\n",
       "  margin-right: 0.25em;\n",
       "  color: var(--sklearn-color-icon);\n",
       "}\n",
       "\n",
       "#sk-container-id-1 label.sk-toggleable__label-arrow:hover:before {\n",
       "  color: var(--sklearn-color-text);\n",
       "}\n",
       "\n",
       "/* Toggleable content - dropdown */\n",
       "\n",
       "#sk-container-id-1 div.sk-toggleable__content {\n",
       "  max-height: 0;\n",
       "  max-width: 0;\n",
       "  overflow: hidden;\n",
       "  text-align: left;\n",
       "  /* unfitted */\n",
       "  background-color: var(--sklearn-color-unfitted-level-0);\n",
       "}\n",
       "\n",
       "#sk-container-id-1 div.sk-toggleable__content.fitted {\n",
       "  /* fitted */\n",
       "  background-color: var(--sklearn-color-fitted-level-0);\n",
       "}\n",
       "\n",
       "#sk-container-id-1 div.sk-toggleable__content pre {\n",
       "  margin: 0.2em;\n",
       "  border-radius: 0.25em;\n",
       "  color: var(--sklearn-color-text);\n",
       "  /* unfitted */\n",
       "  background-color: var(--sklearn-color-unfitted-level-0);\n",
       "}\n",
       "\n",
       "#sk-container-id-1 div.sk-toggleable__content.fitted pre {\n",
       "  /* unfitted */\n",
       "  background-color: var(--sklearn-color-fitted-level-0);\n",
       "}\n",
       "\n",
       "#sk-container-id-1 input.sk-toggleable__control:checked~div.sk-toggleable__content {\n",
       "  /* Expand drop-down */\n",
       "  max-height: 200px;\n",
       "  max-width: 100%;\n",
       "  overflow: auto;\n",
       "}\n",
       "\n",
       "#sk-container-id-1 input.sk-toggleable__control:checked~label.sk-toggleable__label-arrow:before {\n",
       "  content: \"▾\";\n",
       "}\n",
       "\n",
       "/* Pipeline/ColumnTransformer-specific style */\n",
       "\n",
       "#sk-container-id-1 div.sk-label input.sk-toggleable__control:checked~label.sk-toggleable__label {\n",
       "  color: var(--sklearn-color-text);\n",
       "  background-color: var(--sklearn-color-unfitted-level-2);\n",
       "}\n",
       "\n",
       "#sk-container-id-1 div.sk-label.fitted input.sk-toggleable__control:checked~label.sk-toggleable__label {\n",
       "  background-color: var(--sklearn-color-fitted-level-2);\n",
       "}\n",
       "\n",
       "/* Estimator-specific style */\n",
       "\n",
       "/* Colorize estimator box */\n",
       "#sk-container-id-1 div.sk-estimator input.sk-toggleable__control:checked~label.sk-toggleable__label {\n",
       "  /* unfitted */\n",
       "  background-color: var(--sklearn-color-unfitted-level-2);\n",
       "}\n",
       "\n",
       "#sk-container-id-1 div.sk-estimator.fitted input.sk-toggleable__control:checked~label.sk-toggleable__label {\n",
       "  /* fitted */\n",
       "  background-color: var(--sklearn-color-fitted-level-2);\n",
       "}\n",
       "\n",
       "#sk-container-id-1 div.sk-label label.sk-toggleable__label,\n",
       "#sk-container-id-1 div.sk-label label {\n",
       "  /* The background is the default theme color */\n",
       "  color: var(--sklearn-color-text-on-default-background);\n",
       "}\n",
       "\n",
       "/* On hover, darken the color of the background */\n",
       "#sk-container-id-1 div.sk-label:hover label.sk-toggleable__label {\n",
       "  color: var(--sklearn-color-text);\n",
       "  background-color: var(--sklearn-color-unfitted-level-2);\n",
       "}\n",
       "\n",
       "/* Label box, darken color on hover, fitted */\n",
       "#sk-container-id-1 div.sk-label.fitted:hover label.sk-toggleable__label.fitted {\n",
       "  color: var(--sklearn-color-text);\n",
       "  background-color: var(--sklearn-color-fitted-level-2);\n",
       "}\n",
       "\n",
       "/* Estimator label */\n",
       "\n",
       "#sk-container-id-1 div.sk-label label {\n",
       "  font-family: monospace;\n",
       "  font-weight: bold;\n",
       "  display: inline-block;\n",
       "  line-height: 1.2em;\n",
       "}\n",
       "\n",
       "#sk-container-id-1 div.sk-label-container {\n",
       "  text-align: center;\n",
       "}\n",
       "\n",
       "/* Estimator-specific */\n",
       "#sk-container-id-1 div.sk-estimator {\n",
       "  font-family: monospace;\n",
       "  border: 1px dotted var(--sklearn-color-border-box);\n",
       "  border-radius: 0.25em;\n",
       "  box-sizing: border-box;\n",
       "  margin-bottom: 0.5em;\n",
       "  /* unfitted */\n",
       "  background-color: var(--sklearn-color-unfitted-level-0);\n",
       "}\n",
       "\n",
       "#sk-container-id-1 div.sk-estimator.fitted {\n",
       "  /* fitted */\n",
       "  background-color: var(--sklearn-color-fitted-level-0);\n",
       "}\n",
       "\n",
       "/* on hover */\n",
       "#sk-container-id-1 div.sk-estimator:hover {\n",
       "  /* unfitted */\n",
       "  background-color: var(--sklearn-color-unfitted-level-2);\n",
       "}\n",
       "\n",
       "#sk-container-id-1 div.sk-estimator.fitted:hover {\n",
       "  /* fitted */\n",
       "  background-color: var(--sklearn-color-fitted-level-2);\n",
       "}\n",
       "\n",
       "/* Specification for estimator info (e.g. \"i\" and \"?\") */\n",
       "\n",
       "/* Common style for \"i\" and \"?\" */\n",
       "\n",
       ".sk-estimator-doc-link,\n",
       "a:link.sk-estimator-doc-link,\n",
       "a:visited.sk-estimator-doc-link {\n",
       "  float: right;\n",
       "  font-size: smaller;\n",
       "  line-height: 1em;\n",
       "  font-family: monospace;\n",
       "  background-color: var(--sklearn-color-background);\n",
       "  border-radius: 1em;\n",
       "  height: 1em;\n",
       "  width: 1em;\n",
       "  text-decoration: none !important;\n",
       "  margin-left: 1ex;\n",
       "  /* unfitted */\n",
       "  border: var(--sklearn-color-unfitted-level-1) 1pt solid;\n",
       "  color: var(--sklearn-color-unfitted-level-1);\n",
       "}\n",
       "\n",
       ".sk-estimator-doc-link.fitted,\n",
       "a:link.sk-estimator-doc-link.fitted,\n",
       "a:visited.sk-estimator-doc-link.fitted {\n",
       "  /* fitted */\n",
       "  border: var(--sklearn-color-fitted-level-1) 1pt solid;\n",
       "  color: var(--sklearn-color-fitted-level-1);\n",
       "}\n",
       "\n",
       "/* On hover */\n",
       "div.sk-estimator:hover .sk-estimator-doc-link:hover,\n",
       ".sk-estimator-doc-link:hover,\n",
       "div.sk-label-container:hover .sk-estimator-doc-link:hover,\n",
       ".sk-estimator-doc-link:hover {\n",
       "  /* unfitted */\n",
       "  background-color: var(--sklearn-color-unfitted-level-3);\n",
       "  color: var(--sklearn-color-background);\n",
       "  text-decoration: none;\n",
       "}\n",
       "\n",
       "div.sk-estimator.fitted:hover .sk-estimator-doc-link.fitted:hover,\n",
       ".sk-estimator-doc-link.fitted:hover,\n",
       "div.sk-label-container:hover .sk-estimator-doc-link.fitted:hover,\n",
       ".sk-estimator-doc-link.fitted:hover {\n",
       "  /* fitted */\n",
       "  background-color: var(--sklearn-color-fitted-level-3);\n",
       "  color: var(--sklearn-color-background);\n",
       "  text-decoration: none;\n",
       "}\n",
       "\n",
       "/* Span, style for the box shown on hovering the info icon */\n",
       ".sk-estimator-doc-link span {\n",
       "  display: none;\n",
       "  z-index: 9999;\n",
       "  position: relative;\n",
       "  font-weight: normal;\n",
       "  right: .2ex;\n",
       "  padding: .5ex;\n",
       "  margin: .5ex;\n",
       "  width: min-content;\n",
       "  min-width: 20ex;\n",
       "  max-width: 50ex;\n",
       "  color: var(--sklearn-color-text);\n",
       "  box-shadow: 2pt 2pt 4pt #999;\n",
       "  /* unfitted */\n",
       "  background: var(--sklearn-color-unfitted-level-0);\n",
       "  border: .5pt solid var(--sklearn-color-unfitted-level-3);\n",
       "}\n",
       "\n",
       ".sk-estimator-doc-link.fitted span {\n",
       "  /* fitted */\n",
       "  background: var(--sklearn-color-fitted-level-0);\n",
       "  border: var(--sklearn-color-fitted-level-3);\n",
       "}\n",
       "\n",
       ".sk-estimator-doc-link:hover span {\n",
       "  display: block;\n",
       "}\n",
       "\n",
       "/* \"?\"-specific style due to the `<a>` HTML tag */\n",
       "\n",
       "#sk-container-id-1 a.estimator_doc_link {\n",
       "  float: right;\n",
       "  font-size: 1rem;\n",
       "  line-height: 1em;\n",
       "  font-family: monospace;\n",
       "  background-color: var(--sklearn-color-background);\n",
       "  border-radius: 1rem;\n",
       "  height: 1rem;\n",
       "  width: 1rem;\n",
       "  text-decoration: none;\n",
       "  /* unfitted */\n",
       "  color: var(--sklearn-color-unfitted-level-1);\n",
       "  border: var(--sklearn-color-unfitted-level-1) 1pt solid;\n",
       "}\n",
       "\n",
       "#sk-container-id-1 a.estimator_doc_link.fitted {\n",
       "  /* fitted */\n",
       "  border: var(--sklearn-color-fitted-level-1) 1pt solid;\n",
       "  color: var(--sklearn-color-fitted-level-1);\n",
       "}\n",
       "\n",
       "/* On hover */\n",
       "#sk-container-id-1 a.estimator_doc_link:hover {\n",
       "  /* unfitted */\n",
       "  background-color: var(--sklearn-color-unfitted-level-3);\n",
       "  color: var(--sklearn-color-background);\n",
       "  text-decoration: none;\n",
       "}\n",
       "\n",
       "#sk-container-id-1 a.estimator_doc_link.fitted:hover {\n",
       "  /* fitted */\n",
       "  background-color: var(--sklearn-color-fitted-level-3);\n",
       "}\n",
       "</style><div id=\"sk-container-id-1\" class=\"sk-top-container\"><div class=\"sk-text-repr-fallback\"><pre>Pipeline(memory=FastMemory(location=/var/folders/rb/x53pz7wd0p5d7v_0cv61x9_h0000gn/T/joblib),\n",
       "         steps=[(&#x27;numerical_imputer&#x27;,\n",
       "                 TransformerWrapper(include=[&#x27;CustomerID&#x27;, &#x27;Age&#x27;,\n",
       "                                             &#x27;Annual Income (k$)&#x27;,\n",
       "                                             &#x27;Spending Score (1-100)&#x27;],\n",
       "                                    transformer=SimpleImputer())),\n",
       "                (&#x27;categorical_imputer&#x27;,\n",
       "                 TransformerWrapper(include=[&#x27;Gender&#x27;],\n",
       "                                    transformer=SimpleImputer(strategy=&#x27;most_frequent&#x27;))),\n",
       "                (&#x27;ordinal_encoding&#x27;,\n",
       "                 TransformerWrapper(include=[&#x27;Gender&#x27;],\n",
       "                                    transformer=OrdinalEncoder(cols=[&#x27;Gender&#x27;],\n",
       "                                                               handle_missing=&#x27;return_nan&#x27;,\n",
       "                                                               mapping=[{&#x27;col&#x27;: &#x27;Gender&#x27;,\n",
       "                                                                         &#x27;data_type&#x27;: dtype(&#x27;O&#x27;),\n",
       "                                                                         &#x27;mapping&#x27;: Female    0\n",
       "Male      1\n",
       "NaN      -1\n",
       "dtype: int64}]))),\n",
       "                (&#x27;trained_model&#x27;, KMeans(n_clusters=4, random_state=123))])</pre><b>In a Jupyter environment, please rerun this cell to show the HTML representation or trust the notebook. <br />On GitHub, the HTML representation is unable to render, please try loading this page with nbviewer.org.</b></div><div class=\"sk-container\" hidden><div class=\"sk-item sk-dashed-wrapped\"><div class=\"sk-label-container\"><div class=\"sk-label fitted sk-toggleable\"><input class=\"sk-toggleable__control sk-hidden--visually\" id=\"sk-estimator-id-1\" type=\"checkbox\" ><label for=\"sk-estimator-id-1\" class=\"sk-toggleable__label fitted sk-toggleable__label-arrow fitted\">&nbsp;Pipeline<span class=\"sk-estimator-doc-link fitted\">i<span>Fitted</span></span></label><div class=\"sk-toggleable__content fitted\"><pre>Pipeline(memory=FastMemory(location=/var/folders/rb/x53pz7wd0p5d7v_0cv61x9_h0000gn/T/joblib),\n",
       "         steps=[(&#x27;numerical_imputer&#x27;,\n",
       "                 TransformerWrapper(include=[&#x27;CustomerID&#x27;, &#x27;Age&#x27;,\n",
       "                                             &#x27;Annual Income (k$)&#x27;,\n",
       "                                             &#x27;Spending Score (1-100)&#x27;],\n",
       "                                    transformer=SimpleImputer())),\n",
       "                (&#x27;categorical_imputer&#x27;,\n",
       "                 TransformerWrapper(include=[&#x27;Gender&#x27;],\n",
       "                                    transformer=SimpleImputer(strategy=&#x27;most_frequent&#x27;))),\n",
       "                (&#x27;ordinal_encoding&#x27;,\n",
       "                 TransformerWrapper(include=[&#x27;Gender&#x27;],\n",
       "                                    transformer=OrdinalEncoder(cols=[&#x27;Gender&#x27;],\n",
       "                                                               handle_missing=&#x27;return_nan&#x27;,\n",
       "                                                               mapping=[{&#x27;col&#x27;: &#x27;Gender&#x27;,\n",
       "                                                                         &#x27;data_type&#x27;: dtype(&#x27;O&#x27;),\n",
       "                                                                         &#x27;mapping&#x27;: Female    0\n",
       "Male      1\n",
       "NaN      -1\n",
       "dtype: int64}]))),\n",
       "                (&#x27;trained_model&#x27;, KMeans(n_clusters=4, random_state=123))])</pre></div> </div></div><div class=\"sk-serial\"><div class=\"sk-item sk-dashed-wrapped\"><div class=\"sk-label-container\"><div class=\"sk-label fitted sk-toggleable\"><input class=\"sk-toggleable__control sk-hidden--visually\" id=\"sk-estimator-id-2\" type=\"checkbox\" ><label for=\"sk-estimator-id-2\" class=\"sk-toggleable__label fitted sk-toggleable__label-arrow fitted\">numerical_imputer: TransformerWrapper</label><div class=\"sk-toggleable__content fitted\"><pre>TransformerWrapper(include=[&#x27;CustomerID&#x27;, &#x27;Age&#x27;, &#x27;Annual Income (k$)&#x27;,\n",
       "                            &#x27;Spending Score (1-100)&#x27;],\n",
       "                   transformer=SimpleImputer())</pre></div> </div></div><div class=\"sk-parallel\"><div class=\"sk-parallel-item\"><div class=\"sk-item\"><div class=\"sk-label-container\"><div class=\"sk-label fitted sk-toggleable\"><input class=\"sk-toggleable__control sk-hidden--visually\" id=\"sk-estimator-id-3\" type=\"checkbox\" ><label for=\"sk-estimator-id-3\" class=\"sk-toggleable__label fitted sk-toggleable__label-arrow fitted\">transformer: SimpleImputer</label><div class=\"sk-toggleable__content fitted\"><pre>SimpleImputer()</pre></div> </div></div><div class=\"sk-serial\"><div class=\"sk-item\"><div class=\"sk-estimator fitted sk-toggleable\"><input class=\"sk-toggleable__control sk-hidden--visually\" id=\"sk-estimator-id-4\" type=\"checkbox\" ><label for=\"sk-estimator-id-4\" class=\"sk-toggleable__label fitted sk-toggleable__label-arrow fitted\">&nbsp;SimpleImputer<a class=\"sk-estimator-doc-link fitted\" rel=\"noreferrer\" target=\"_blank\" href=\"https://scikit-learn.org/1.4/modules/generated/sklearn.impute.SimpleImputer.html\">?<span>Documentation for SimpleImputer</span></a></label><div class=\"sk-toggleable__content fitted\"><pre>SimpleImputer()</pre></div> </div></div></div></div></div></div></div><div class=\"sk-item sk-dashed-wrapped\"><div class=\"sk-label-container\"><div class=\"sk-label fitted sk-toggleable\"><input class=\"sk-toggleable__control sk-hidden--visually\" id=\"sk-estimator-id-5\" type=\"checkbox\" ><label for=\"sk-estimator-id-5\" class=\"sk-toggleable__label fitted sk-toggleable__label-arrow fitted\">categorical_imputer: TransformerWrapper</label><div class=\"sk-toggleable__content fitted\"><pre>TransformerWrapper(include=[&#x27;Gender&#x27;],\n",
       "                   transformer=SimpleImputer(strategy=&#x27;most_frequent&#x27;))</pre></div> </div></div><div class=\"sk-parallel\"><div class=\"sk-parallel-item\"><div class=\"sk-item\"><div class=\"sk-label-container\"><div class=\"sk-label fitted sk-toggleable\"><input class=\"sk-toggleable__control sk-hidden--visually\" id=\"sk-estimator-id-6\" type=\"checkbox\" ><label for=\"sk-estimator-id-6\" class=\"sk-toggleable__label fitted sk-toggleable__label-arrow fitted\">transformer: SimpleImputer</label><div class=\"sk-toggleable__content fitted\"><pre>SimpleImputer(strategy=&#x27;most_frequent&#x27;)</pre></div> </div></div><div class=\"sk-serial\"><div class=\"sk-item\"><div class=\"sk-estimator fitted sk-toggleable\"><input class=\"sk-toggleable__control sk-hidden--visually\" id=\"sk-estimator-id-7\" type=\"checkbox\" ><label for=\"sk-estimator-id-7\" class=\"sk-toggleable__label fitted sk-toggleable__label-arrow fitted\">&nbsp;SimpleImputer<a class=\"sk-estimator-doc-link fitted\" rel=\"noreferrer\" target=\"_blank\" href=\"https://scikit-learn.org/1.4/modules/generated/sklearn.impute.SimpleImputer.html\">?<span>Documentation for SimpleImputer</span></a></label><div class=\"sk-toggleable__content fitted\"><pre>SimpleImputer(strategy=&#x27;most_frequent&#x27;)</pre></div> </div></div></div></div></div></div></div><div class=\"sk-item sk-dashed-wrapped\"><div class=\"sk-label-container\"><div class=\"sk-label fitted sk-toggleable\"><input class=\"sk-toggleable__control sk-hidden--visually\" id=\"sk-estimator-id-8\" type=\"checkbox\" ><label for=\"sk-estimator-id-8\" class=\"sk-toggleable__label fitted sk-toggleable__label-arrow fitted\">ordinal_encoding: TransformerWrapper</label><div class=\"sk-toggleable__content fitted\"><pre>TransformerWrapper(include=[&#x27;Gender&#x27;],\n",
       "                   transformer=OrdinalEncoder(cols=[&#x27;Gender&#x27;],\n",
       "                                              handle_missing=&#x27;return_nan&#x27;,\n",
       "                                              mapping=[{&#x27;col&#x27;: &#x27;Gender&#x27;,\n",
       "                                                        &#x27;data_type&#x27;: dtype(&#x27;O&#x27;),\n",
       "                                                        &#x27;mapping&#x27;: Female    0\n",
       "Male      1\n",
       "NaN      -1\n",
       "dtype: int64}]))</pre></div> </div></div><div class=\"sk-parallel\"><div class=\"sk-parallel-item\"><div class=\"sk-item\"><div class=\"sk-label-container\"><div class=\"sk-label fitted sk-toggleable\"><input class=\"sk-toggleable__control sk-hidden--visually\" id=\"sk-estimator-id-9\" type=\"checkbox\" ><label for=\"sk-estimator-id-9\" class=\"sk-toggleable__label fitted sk-toggleable__label-arrow fitted\">transformer: OrdinalEncoder</label><div class=\"sk-toggleable__content fitted\"><pre>OrdinalEncoder(cols=[&#x27;Gender&#x27;], handle_missing=&#x27;return_nan&#x27;,\n",
       "               mapping=[{&#x27;col&#x27;: &#x27;Gender&#x27;, &#x27;data_type&#x27;: dtype(&#x27;O&#x27;),\n",
       "                         &#x27;mapping&#x27;: Female    0\n",
       "Male      1\n",
       "NaN      -1\n",
       "dtype: int64}])</pre></div> </div></div><div class=\"sk-serial\"><div class=\"sk-item\"><div class=\"sk-estimator fitted sk-toggleable\"><input class=\"sk-toggleable__control sk-hidden--visually\" id=\"sk-estimator-id-10\" type=\"checkbox\" ><label for=\"sk-estimator-id-10\" class=\"sk-toggleable__label fitted sk-toggleable__label-arrow fitted\">OrdinalEncoder</label><div class=\"sk-toggleable__content fitted\"><pre>OrdinalEncoder(cols=[&#x27;Gender&#x27;], handle_missing=&#x27;return_nan&#x27;,\n",
       "               mapping=[{&#x27;col&#x27;: &#x27;Gender&#x27;, &#x27;data_type&#x27;: dtype(&#x27;O&#x27;),\n",
       "                         &#x27;mapping&#x27;: Female    0\n",
       "Male      1\n",
       "NaN      -1\n",
       "dtype: int64}])</pre></div> </div></div></div></div></div></div></div><div class=\"sk-item\"><div class=\"sk-estimator fitted sk-toggleable\"><input class=\"sk-toggleable__control sk-hidden--visually\" id=\"sk-estimator-id-11\" type=\"checkbox\" ><label for=\"sk-estimator-id-11\" class=\"sk-toggleable__label fitted sk-toggleable__label-arrow fitted\">&nbsp;KMeans<a class=\"sk-estimator-doc-link fitted\" rel=\"noreferrer\" target=\"_blank\" href=\"https://scikit-learn.org/1.4/modules/generated/sklearn.cluster.KMeans.html\">?<span>Documentation for KMeans</span></a></label><div class=\"sk-toggleable__content fitted\"><pre>KMeans(n_clusters=4, random_state=123)</pre></div> </div></div></div></div></div></div>"
      ],
      "text/plain": [
       "Pipeline(memory=FastMemory(location=/var/folders/rb/x53pz7wd0p5d7v_0cv61x9_h0000gn/T/joblib),\n",
       "         steps=[('numerical_imputer',\n",
       "                 TransformerWrapper(include=['CustomerID', 'Age',\n",
       "                                             'Annual Income (k$)',\n",
       "                                             'Spending Score (1-100)'],\n",
       "                                    transformer=SimpleImputer())),\n",
       "                ('categorical_imputer',\n",
       "                 TransformerWrapper(include=['Gender'],\n",
       "                                    transformer=SimpleImputer(strategy='most_frequent'))),\n",
       "                ('ordinal_encoding',\n",
       "                 TransformerWrapper(include=['Gender'],\n",
       "                                    transformer=OrdinalEncoder(cols=['Gender'],\n",
       "                                                               handle_missing='return_nan',\n",
       "                                                               mapping=[{'col': 'Gender',\n",
       "                                                                         'data_type': dtype('O'),\n",
       "                                                                         'mapping': Female    0\n",
       "Male      1\n",
       "NaN      -1\n",
       "dtype: int64}]))),\n",
       "                ('trained_model', KMeans(n_clusters=4, random_state=123))])"
      ]
     },
     "execution_count": 18,
     "metadata": {},
     "output_type": "execute_result"
    }
   ],
   "source": [
    "# load pipeline\n",
    "kmeans_pipeline = load_model('kmeans_pipeline')\n",
    "kmeans_pipeline"
   ]
  },
  {
   "cell_type": "markdown",
   "id": "b2c7d62e",
   "metadata": {},
   "source": [
    "# 👇 Detailed function-by-function overview"
   ]
  },
  {
   "cell_type": "markdown",
   "id": "e05937f5",
   "metadata": {},
   "source": [
    "## ✅ Setup\n",
    "This function initializes the training environment and creates the transformation pipeline. Setup function must be called before executing any other function in PyCaret. It only has one required parameter i.e. `data`. All the other parameters are optional."
   ]
  },
  {
   "cell_type": "code",
   "execution_count": 19,
   "id": "24e503be",
   "metadata": {
    "execution": {
     "iopub.execute_input": "2025-10-22T20:40:06.638760Z",
     "iopub.status.busy": "2025-10-22T20:40:06.638700Z",
     "iopub.status.idle": "2025-10-22T20:40:06.669295Z",
     "shell.execute_reply": "2025-10-22T20:40:06.668918Z"
    }
   },
   "outputs": [
    {
     "data": {
      "text/html": [
       "<style type=\"text/css\">\n",
       "#T_5502b_row5_col1 {\n",
       "  background-color: lightgreen;\n",
       "}\n",
       "</style>\n",
       "<table id=\"T_5502b\">\n",
       "  <thead>\n",
       "    <tr>\n",
       "      <th class=\"blank level0\" >&nbsp;</th>\n",
       "      <th id=\"T_5502b_level0_col0\" class=\"col_heading level0 col0\" >Description</th>\n",
       "      <th id=\"T_5502b_level0_col1\" class=\"col_heading level0 col1\" >Value</th>\n",
       "    </tr>\n",
       "  </thead>\n",
       "  <tbody>\n",
       "    <tr>\n",
       "      <th id=\"T_5502b_level0_row0\" class=\"row_heading level0 row0\" >0</th>\n",
       "      <td id=\"T_5502b_row0_col0\" class=\"data row0 col0\" >Session id</td>\n",
       "      <td id=\"T_5502b_row0_col1\" class=\"data row0 col1\" >123</td>\n",
       "    </tr>\n",
       "    <tr>\n",
       "      <th id=\"T_5502b_level0_row1\" class=\"row_heading level0 row1\" >1</th>\n",
       "      <td id=\"T_5502b_row1_col0\" class=\"data row1 col0\" >Original data shape</td>\n",
       "      <td id=\"T_5502b_row1_col1\" class=\"data row1 col1\" >(200, 5)</td>\n",
       "    </tr>\n",
       "    <tr>\n",
       "      <th id=\"T_5502b_level0_row2\" class=\"row_heading level0 row2\" >2</th>\n",
       "      <td id=\"T_5502b_row2_col0\" class=\"data row2 col0\" >Transformed data shape</td>\n",
       "      <td id=\"T_5502b_row2_col1\" class=\"data row2 col1\" >(200, 5)</td>\n",
       "    </tr>\n",
       "    <tr>\n",
       "      <th id=\"T_5502b_level0_row3\" class=\"row_heading level0 row3\" >3</th>\n",
       "      <td id=\"T_5502b_row3_col0\" class=\"data row3 col0\" >Numeric features</td>\n",
       "      <td id=\"T_5502b_row3_col1\" class=\"data row3 col1\" >4</td>\n",
       "    </tr>\n",
       "    <tr>\n",
       "      <th id=\"T_5502b_level0_row4\" class=\"row_heading level0 row4\" >4</th>\n",
       "      <td id=\"T_5502b_row4_col0\" class=\"data row4 col0\" >Categorical features</td>\n",
       "      <td id=\"T_5502b_row4_col1\" class=\"data row4 col1\" >1</td>\n",
       "    </tr>\n",
       "    <tr>\n",
       "      <th id=\"T_5502b_level0_row5\" class=\"row_heading level0 row5\" >5</th>\n",
       "      <td id=\"T_5502b_row5_col0\" class=\"data row5 col0\" >Preprocess</td>\n",
       "      <td id=\"T_5502b_row5_col1\" class=\"data row5 col1\" >True</td>\n",
       "    </tr>\n",
       "    <tr>\n",
       "      <th id=\"T_5502b_level0_row6\" class=\"row_heading level0 row6\" >6</th>\n",
       "      <td id=\"T_5502b_row6_col0\" class=\"data row6 col0\" >Imputation type</td>\n",
       "      <td id=\"T_5502b_row6_col1\" class=\"data row6 col1\" >simple</td>\n",
       "    </tr>\n",
       "    <tr>\n",
       "      <th id=\"T_5502b_level0_row7\" class=\"row_heading level0 row7\" >7</th>\n",
       "      <td id=\"T_5502b_row7_col0\" class=\"data row7 col0\" >Numeric imputation</td>\n",
       "      <td id=\"T_5502b_row7_col1\" class=\"data row7 col1\" >mean</td>\n",
       "    </tr>\n",
       "    <tr>\n",
       "      <th id=\"T_5502b_level0_row8\" class=\"row_heading level0 row8\" >8</th>\n",
       "      <td id=\"T_5502b_row8_col0\" class=\"data row8 col0\" >Categorical imputation</td>\n",
       "      <td id=\"T_5502b_row8_col1\" class=\"data row8 col1\" >mode</td>\n",
       "    </tr>\n",
       "    <tr>\n",
       "      <th id=\"T_5502b_level0_row9\" class=\"row_heading level0 row9\" >9</th>\n",
       "      <td id=\"T_5502b_row9_col0\" class=\"data row9 col0\" >Maximum one-hot encoding</td>\n",
       "      <td id=\"T_5502b_row9_col1\" class=\"data row9 col1\" >-1</td>\n",
       "    </tr>\n",
       "    <tr>\n",
       "      <th id=\"T_5502b_level0_row10\" class=\"row_heading level0 row10\" >10</th>\n",
       "      <td id=\"T_5502b_row10_col0\" class=\"data row10 col0\" >Encoding method</td>\n",
       "      <td id=\"T_5502b_row10_col1\" class=\"data row10 col1\" >None</td>\n",
       "    </tr>\n",
       "    <tr>\n",
       "      <th id=\"T_5502b_level0_row11\" class=\"row_heading level0 row11\" >11</th>\n",
       "      <td id=\"T_5502b_row11_col0\" class=\"data row11 col0\" >CPU Jobs</td>\n",
       "      <td id=\"T_5502b_row11_col1\" class=\"data row11 col1\" >-1</td>\n",
       "    </tr>\n",
       "    <tr>\n",
       "      <th id=\"T_5502b_level0_row12\" class=\"row_heading level0 row12\" >12</th>\n",
       "      <td id=\"T_5502b_row12_col0\" class=\"data row12 col0\" >Use GPU</td>\n",
       "      <td id=\"T_5502b_row12_col1\" class=\"data row12 col1\" >False</td>\n",
       "    </tr>\n",
       "    <tr>\n",
       "      <th id=\"T_5502b_level0_row13\" class=\"row_heading level0 row13\" >13</th>\n",
       "      <td id=\"T_5502b_row13_col0\" class=\"data row13 col0\" >Log Experiment</td>\n",
       "      <td id=\"T_5502b_row13_col1\" class=\"data row13 col1\" >False</td>\n",
       "    </tr>\n",
       "    <tr>\n",
       "      <th id=\"T_5502b_level0_row14\" class=\"row_heading level0 row14\" >14</th>\n",
       "      <td id=\"T_5502b_row14_col0\" class=\"data row14 col0\" >Experiment Name</td>\n",
       "      <td id=\"T_5502b_row14_col1\" class=\"data row14 col1\" >cluster-default-name</td>\n",
       "    </tr>\n",
       "    <tr>\n",
       "      <th id=\"T_5502b_level0_row15\" class=\"row_heading level0 row15\" >15</th>\n",
       "      <td id=\"T_5502b_row15_col0\" class=\"data row15 col0\" >USI</td>\n",
       "      <td id=\"T_5502b_row15_col1\" class=\"data row15 col1\" >d36a</td>\n",
       "    </tr>\n",
       "  </tbody>\n",
       "</table>\n"
      ],
      "text/plain": [
       "<pandas.io.formats.style.Styler at 0x155335390>"
      ]
     },
     "metadata": {},
     "output_type": "display_data"
    }
   ],
   "source": [
    "# init setup\n",
    "s = setup(data, session_id = 123)"
   ]
  },
  {
   "cell_type": "markdown",
   "id": "924d198b",
   "metadata": {},
   "source": [
    "To access all the variables created by the setup function such as transformed dataset, random_state, etc. you can use `get_config` method."
   ]
  },
  {
   "cell_type": "code",
   "execution_count": 20,
   "id": "76128b08",
   "metadata": {
    "execution": {
     "iopub.execute_input": "2025-10-22T20:40:06.670312Z",
     "iopub.status.busy": "2025-10-22T20:40:06.670237Z",
     "iopub.status.idle": "2025-10-22T20:40:06.672466Z",
     "shell.execute_reply": "2025-10-22T20:40:06.672135Z"
    }
   },
   "outputs": [
    {
     "data": {
      "text/plain": [
       "{'USI',\n",
       " 'X',\n",
       " 'X_train',\n",
       " 'X_train_transformed',\n",
       " 'X_transformed',\n",
       " '_available_plots',\n",
       " '_ml_usecase',\n",
       " 'data',\n",
       " 'dataset',\n",
       " 'dataset_transformed',\n",
       " 'exp_id',\n",
       " 'exp_name_log',\n",
       " 'gpu_n_jobs_param',\n",
       " 'gpu_param',\n",
       " 'html_param',\n",
       " 'idx',\n",
       " 'is_multiclass',\n",
       " 'log_plots_param',\n",
       " 'logging_param',\n",
       " 'memory',\n",
       " 'n_jobs_param',\n",
       " 'pipeline',\n",
       " 'seed',\n",
       " 'train',\n",
       " 'train_transformed',\n",
       " 'variable_and_property_keys',\n",
       " 'variables'}"
      ]
     },
     "execution_count": 20,
     "metadata": {},
     "output_type": "execute_result"
    }
   ],
   "source": [
    "# check all available config\n",
    "get_config()"
   ]
  },
  {
   "cell_type": "code",
   "execution_count": 21,
   "id": "dbc43292",
   "metadata": {
    "execution": {
     "iopub.execute_input": "2025-10-22T20:40:06.673398Z",
     "iopub.status.busy": "2025-10-22T20:40:06.673339Z",
     "iopub.status.idle": "2025-10-22T20:40:06.687338Z",
     "shell.execute_reply": "2025-10-22T20:40:06.686984Z"
    }
   },
   "outputs": [
    {
     "data": {
      "text/html": [
       "<div>\n",
       "<style scoped>\n",
       "    .dataframe tbody tr th:only-of-type {\n",
       "        vertical-align: middle;\n",
       "    }\n",
       "\n",
       "    .dataframe tbody tr th {\n",
       "        vertical-align: top;\n",
       "    }\n",
       "\n",
       "    .dataframe thead th {\n",
       "        text-align: right;\n",
       "    }\n",
       "</style>\n",
       "<table border=\"1\" class=\"dataframe\">\n",
       "  <thead>\n",
       "    <tr style=\"text-align: right;\">\n",
       "      <th></th>\n",
       "      <th>CustomerID</th>\n",
       "      <th>Gender</th>\n",
       "      <th>Age</th>\n",
       "      <th>Annual Income (k$)</th>\n",
       "      <th>Spending Score (1-100)</th>\n",
       "    </tr>\n",
       "  </thead>\n",
       "  <tbody>\n",
       "    <tr>\n",
       "      <th>0</th>\n",
       "      <td>1.0</td>\n",
       "      <td>1.0</td>\n",
       "      <td>19.0</td>\n",
       "      <td>15.0</td>\n",
       "      <td>39.0</td>\n",
       "    </tr>\n",
       "    <tr>\n",
       "      <th>1</th>\n",
       "      <td>2.0</td>\n",
       "      <td>1.0</td>\n",
       "      <td>21.0</td>\n",
       "      <td>15.0</td>\n",
       "      <td>81.0</td>\n",
       "    </tr>\n",
       "    <tr>\n",
       "      <th>2</th>\n",
       "      <td>3.0</td>\n",
       "      <td>0.0</td>\n",
       "      <td>20.0</td>\n",
       "      <td>16.0</td>\n",
       "      <td>6.0</td>\n",
       "    </tr>\n",
       "    <tr>\n",
       "      <th>3</th>\n",
       "      <td>4.0</td>\n",
       "      <td>0.0</td>\n",
       "      <td>23.0</td>\n",
       "      <td>16.0</td>\n",
       "      <td>77.0</td>\n",
       "    </tr>\n",
       "    <tr>\n",
       "      <th>4</th>\n",
       "      <td>5.0</td>\n",
       "      <td>0.0</td>\n",
       "      <td>31.0</td>\n",
       "      <td>17.0</td>\n",
       "      <td>40.0</td>\n",
       "    </tr>\n",
       "    <tr>\n",
       "      <th>...</th>\n",
       "      <td>...</td>\n",
       "      <td>...</td>\n",
       "      <td>...</td>\n",
       "      <td>...</td>\n",
       "      <td>...</td>\n",
       "    </tr>\n",
       "    <tr>\n",
       "      <th>195</th>\n",
       "      <td>196.0</td>\n",
       "      <td>0.0</td>\n",
       "      <td>35.0</td>\n",
       "      <td>120.0</td>\n",
       "      <td>79.0</td>\n",
       "    </tr>\n",
       "    <tr>\n",
       "      <th>196</th>\n",
       "      <td>197.0</td>\n",
       "      <td>0.0</td>\n",
       "      <td>45.0</td>\n",
       "      <td>126.0</td>\n",
       "      <td>28.0</td>\n",
       "    </tr>\n",
       "    <tr>\n",
       "      <th>197</th>\n",
       "      <td>198.0</td>\n",
       "      <td>1.0</td>\n",
       "      <td>32.0</td>\n",
       "      <td>126.0</td>\n",
       "      <td>74.0</td>\n",
       "    </tr>\n",
       "    <tr>\n",
       "      <th>198</th>\n",
       "      <td>199.0</td>\n",
       "      <td>1.0</td>\n",
       "      <td>32.0</td>\n",
       "      <td>137.0</td>\n",
       "      <td>18.0</td>\n",
       "    </tr>\n",
       "    <tr>\n",
       "      <th>199</th>\n",
       "      <td>200.0</td>\n",
       "      <td>1.0</td>\n",
       "      <td>30.0</td>\n",
       "      <td>137.0</td>\n",
       "      <td>83.0</td>\n",
       "    </tr>\n",
       "  </tbody>\n",
       "</table>\n",
       "<p>200 rows × 5 columns</p>\n",
       "</div>"
      ],
      "text/plain": [
       "     CustomerID  Gender   Age  Annual Income (k$)  Spending Score (1-100)\n",
       "0           1.0     1.0  19.0                15.0                    39.0\n",
       "1           2.0     1.0  21.0                15.0                    81.0\n",
       "2           3.0     0.0  20.0                16.0                     6.0\n",
       "3           4.0     0.0  23.0                16.0                    77.0\n",
       "4           5.0     0.0  31.0                17.0                    40.0\n",
       "..          ...     ...   ...                 ...                     ...\n",
       "195       196.0     0.0  35.0               120.0                    79.0\n",
       "196       197.0     0.0  45.0               126.0                    28.0\n",
       "197       198.0     1.0  32.0               126.0                    74.0\n",
       "198       199.0     1.0  32.0               137.0                    18.0\n",
       "199       200.0     1.0  30.0               137.0                    83.0\n",
       "\n",
       "[200 rows x 5 columns]"
      ]
     },
     "execution_count": 21,
     "metadata": {},
     "output_type": "execute_result"
    }
   ],
   "source": [
    "# lets access X_train_transformed\n",
    "get_config('X_train_transformed')"
   ]
  },
  {
   "cell_type": "code",
   "execution_count": 22,
   "id": "ef9cd061",
   "metadata": {
    "execution": {
     "iopub.execute_input": "2025-10-22T20:40:06.688226Z",
     "iopub.status.busy": "2025-10-22T20:40:06.688159Z",
     "iopub.status.idle": "2025-10-22T20:40:06.690374Z",
     "shell.execute_reply": "2025-10-22T20:40:06.690125Z"
    }
   },
   "outputs": [
    {
     "name": "stdout",
     "output_type": "stream",
     "text": [
      "The current seed is: 123\n",
      "The new seed is: 786\n"
     ]
    }
   ],
   "source": [
    "# another example: let's access seed\n",
    "print(\"The current seed is: {}\".format(get_config('seed')))\n",
    "\n",
    "# now lets change it using set_config\n",
    "set_config('seed', 786)\n",
    "print(\"The new seed is: {}\".format(get_config('seed')))"
   ]
  },
  {
   "cell_type": "markdown",
   "id": "7afbe41d",
   "metadata": {},
   "source": [
    "All the preprocessing configurations and experiment settings/parameters are passed into the `setup` function. To see all available parameters, check the docstring:"
   ]
  },
  {
   "cell_type": "code",
   "execution_count": 23,
   "id": "2885a14f",
   "metadata": {
    "execution": {
     "iopub.execute_input": "2025-10-22T20:40:06.691305Z",
     "iopub.status.busy": "2025-10-22T20:40:06.691242Z",
     "iopub.status.idle": "2025-10-22T20:40:06.692744Z",
     "shell.execute_reply": "2025-10-22T20:40:06.692424Z"
    }
   },
   "outputs": [],
   "source": [
    "# help(setup)"
   ]
  },
  {
   "cell_type": "code",
   "execution_count": 24,
   "id": "34ae0fce",
   "metadata": {
    "execution": {
     "iopub.execute_input": "2025-10-22T20:40:06.693521Z",
     "iopub.status.busy": "2025-10-22T20:40:06.693463Z",
     "iopub.status.idle": "2025-10-22T20:40:06.728344Z",
     "shell.execute_reply": "2025-10-22T20:40:06.727922Z"
    }
   },
   "outputs": [
    {
     "data": {
      "text/html": [
       "<style type=\"text/css\">\n",
       "#T_dfd84_row5_col1, #T_dfd84_row11_col1 {\n",
       "  background-color: lightgreen;\n",
       "}\n",
       "</style>\n",
       "<table id=\"T_dfd84\">\n",
       "  <thead>\n",
       "    <tr>\n",
       "      <th class=\"blank level0\" >&nbsp;</th>\n",
       "      <th id=\"T_dfd84_level0_col0\" class=\"col_heading level0 col0\" >Description</th>\n",
       "      <th id=\"T_dfd84_level0_col1\" class=\"col_heading level0 col1\" >Value</th>\n",
       "    </tr>\n",
       "  </thead>\n",
       "  <tbody>\n",
       "    <tr>\n",
       "      <th id=\"T_dfd84_level0_row0\" class=\"row_heading level0 row0\" >0</th>\n",
       "      <td id=\"T_dfd84_row0_col0\" class=\"data row0 col0\" >Session id</td>\n",
       "      <td id=\"T_dfd84_row0_col1\" class=\"data row0 col1\" >123</td>\n",
       "    </tr>\n",
       "    <tr>\n",
       "      <th id=\"T_dfd84_level0_row1\" class=\"row_heading level0 row1\" >1</th>\n",
       "      <td id=\"T_dfd84_row1_col0\" class=\"data row1 col0\" >Original data shape</td>\n",
       "      <td id=\"T_dfd84_row1_col1\" class=\"data row1 col1\" >(200, 5)</td>\n",
       "    </tr>\n",
       "    <tr>\n",
       "      <th id=\"T_dfd84_level0_row2\" class=\"row_heading level0 row2\" >2</th>\n",
       "      <td id=\"T_dfd84_row2_col0\" class=\"data row2 col0\" >Transformed data shape</td>\n",
       "      <td id=\"T_dfd84_row2_col1\" class=\"data row2 col1\" >(200, 5)</td>\n",
       "    </tr>\n",
       "    <tr>\n",
       "      <th id=\"T_dfd84_level0_row3\" class=\"row_heading level0 row3\" >3</th>\n",
       "      <td id=\"T_dfd84_row3_col0\" class=\"data row3 col0\" >Numeric features</td>\n",
       "      <td id=\"T_dfd84_row3_col1\" class=\"data row3 col1\" >4</td>\n",
       "    </tr>\n",
       "    <tr>\n",
       "      <th id=\"T_dfd84_level0_row4\" class=\"row_heading level0 row4\" >4</th>\n",
       "      <td id=\"T_dfd84_row4_col0\" class=\"data row4 col0\" >Categorical features</td>\n",
       "      <td id=\"T_dfd84_row4_col1\" class=\"data row4 col1\" >1</td>\n",
       "    </tr>\n",
       "    <tr>\n",
       "      <th id=\"T_dfd84_level0_row5\" class=\"row_heading level0 row5\" >5</th>\n",
       "      <td id=\"T_dfd84_row5_col0\" class=\"data row5 col0\" >Preprocess</td>\n",
       "      <td id=\"T_dfd84_row5_col1\" class=\"data row5 col1\" >True</td>\n",
       "    </tr>\n",
       "    <tr>\n",
       "      <th id=\"T_dfd84_level0_row6\" class=\"row_heading level0 row6\" >6</th>\n",
       "      <td id=\"T_dfd84_row6_col0\" class=\"data row6 col0\" >Imputation type</td>\n",
       "      <td id=\"T_dfd84_row6_col1\" class=\"data row6 col1\" >simple</td>\n",
       "    </tr>\n",
       "    <tr>\n",
       "      <th id=\"T_dfd84_level0_row7\" class=\"row_heading level0 row7\" >7</th>\n",
       "      <td id=\"T_dfd84_row7_col0\" class=\"data row7 col0\" >Numeric imputation</td>\n",
       "      <td id=\"T_dfd84_row7_col1\" class=\"data row7 col1\" >mean</td>\n",
       "    </tr>\n",
       "    <tr>\n",
       "      <th id=\"T_dfd84_level0_row8\" class=\"row_heading level0 row8\" >8</th>\n",
       "      <td id=\"T_dfd84_row8_col0\" class=\"data row8 col0\" >Categorical imputation</td>\n",
       "      <td id=\"T_dfd84_row8_col1\" class=\"data row8 col1\" >mode</td>\n",
       "    </tr>\n",
       "    <tr>\n",
       "      <th id=\"T_dfd84_level0_row9\" class=\"row_heading level0 row9\" >9</th>\n",
       "      <td id=\"T_dfd84_row9_col0\" class=\"data row9 col0\" >Maximum one-hot encoding</td>\n",
       "      <td id=\"T_dfd84_row9_col1\" class=\"data row9 col1\" >-1</td>\n",
       "    </tr>\n",
       "    <tr>\n",
       "      <th id=\"T_dfd84_level0_row10\" class=\"row_heading level0 row10\" >10</th>\n",
       "      <td id=\"T_dfd84_row10_col0\" class=\"data row10 col0\" >Encoding method</td>\n",
       "      <td id=\"T_dfd84_row10_col1\" class=\"data row10 col1\" >None</td>\n",
       "    </tr>\n",
       "    <tr>\n",
       "      <th id=\"T_dfd84_level0_row11\" class=\"row_heading level0 row11\" >11</th>\n",
       "      <td id=\"T_dfd84_row11_col0\" class=\"data row11 col0\" >Normalize</td>\n",
       "      <td id=\"T_dfd84_row11_col1\" class=\"data row11 col1\" >True</td>\n",
       "    </tr>\n",
       "    <tr>\n",
       "      <th id=\"T_dfd84_level0_row12\" class=\"row_heading level0 row12\" >12</th>\n",
       "      <td id=\"T_dfd84_row12_col0\" class=\"data row12 col0\" >Normalize method</td>\n",
       "      <td id=\"T_dfd84_row12_col1\" class=\"data row12 col1\" >minmax</td>\n",
       "    </tr>\n",
       "    <tr>\n",
       "      <th id=\"T_dfd84_level0_row13\" class=\"row_heading level0 row13\" >13</th>\n",
       "      <td id=\"T_dfd84_row13_col0\" class=\"data row13 col0\" >CPU Jobs</td>\n",
       "      <td id=\"T_dfd84_row13_col1\" class=\"data row13 col1\" >-1</td>\n",
       "    </tr>\n",
       "    <tr>\n",
       "      <th id=\"T_dfd84_level0_row14\" class=\"row_heading level0 row14\" >14</th>\n",
       "      <td id=\"T_dfd84_row14_col0\" class=\"data row14 col0\" >Use GPU</td>\n",
       "      <td id=\"T_dfd84_row14_col1\" class=\"data row14 col1\" >False</td>\n",
       "    </tr>\n",
       "    <tr>\n",
       "      <th id=\"T_dfd84_level0_row15\" class=\"row_heading level0 row15\" >15</th>\n",
       "      <td id=\"T_dfd84_row15_col0\" class=\"data row15 col0\" >Log Experiment</td>\n",
       "      <td id=\"T_dfd84_row15_col1\" class=\"data row15 col1\" >False</td>\n",
       "    </tr>\n",
       "    <tr>\n",
       "      <th id=\"T_dfd84_level0_row16\" class=\"row_heading level0 row16\" >16</th>\n",
       "      <td id=\"T_dfd84_row16_col0\" class=\"data row16 col0\" >Experiment Name</td>\n",
       "      <td id=\"T_dfd84_row16_col1\" class=\"data row16 col1\" >cluster-default-name</td>\n",
       "    </tr>\n",
       "    <tr>\n",
       "      <th id=\"T_dfd84_level0_row17\" class=\"row_heading level0 row17\" >17</th>\n",
       "      <td id=\"T_dfd84_row17_col0\" class=\"data row17 col0\" >USI</td>\n",
       "      <td id=\"T_dfd84_row17_col1\" class=\"data row17 col1\" >84b7</td>\n",
       "    </tr>\n",
       "  </tbody>\n",
       "</table>\n"
      ],
      "text/plain": [
       "<pandas.io.formats.style.Styler at 0x154b9f650>"
      ]
     },
     "metadata": {},
     "output_type": "display_data"
    }
   ],
   "source": [
    "# init setup with normalize = True\n",
    "\n",
    "s = setup(data, session_id = 123,\n",
    "          normalize = True, normalize_method = 'minmax')"
   ]
  },
  {
   "cell_type": "code",
   "execution_count": 25,
   "id": "04204ae7",
   "metadata": {
    "execution": {
     "iopub.execute_input": "2025-10-22T20:40:06.729286Z",
     "iopub.status.busy": "2025-10-22T20:40:06.729219Z",
     "iopub.status.idle": "2025-10-22T20:40:06.786077Z",
     "shell.execute_reply": "2025-10-22T20:40:06.785679Z"
    }
   },
   "outputs": [
    {
     "data": {
      "text/plain": [
       "<Axes: >"
      ]
     },
     "execution_count": 25,
     "metadata": {},
     "output_type": "execute_result"
    },
    {
     "data": {
      "image/png": "[encoded data removed]",
      "text/plain": [
       "<Figure size 800x550 with 1 Axes>"
      ]
     },
     "metadata": {},
     "output_type": "display_data"
    }
   ],
   "source": [
    "# lets check the X_train_transformed to see effect of params passed\n",
    "get_config('X_train_transformed')['Age'].hist()"
   ]
  },
  {
   "cell_type": "markdown",
   "id": "d28a3e4e",
   "metadata": {},
   "source": [
    "Notice that all the values are between 0 and 1 - that is because we passed `normalize=True` in the `setup` function. If you don't remember how it compares to actual data, no problem - we can also access non-transformed values using `get_config` and then compare. See below and notice the range of values on x-axis and compare it with histogram above."
   ]
  },
  {
   "cell_type": "code",
   "execution_count": 26,
   "id": "68cc1c63",
   "metadata": {
    "execution": {
     "iopub.execute_input": "2025-10-22T20:40:06.787094Z",
     "iopub.status.busy": "2025-10-22T20:40:06.787029Z",
     "iopub.status.idle": "2025-10-22T20:40:06.828980Z",
     "shell.execute_reply": "2025-10-22T20:40:06.828603Z"
    }
   },
   "outputs": [
    {
     "data": {
      "text/plain": [
       "<Axes: >"
      ]
     },
     "execution_count": 26,
     "metadata": {},
     "output_type": "execute_result"
    },
    {
     "data": {
      "image/png": "[encoded data removed]",
      "text/plain": [
       "<Figure size 800x550 with 1 Axes>"
      ]
     },
     "metadata": {},
     "output_type": "display_data"
    }
   ],
   "source": [
    "get_config('X_train')['Age'].hist()"
   ]
  },
  {
   "cell_type": "markdown",
   "id": "9e6c47cb",
   "metadata": {},
   "source": [
    "## ✅ Experiment Logging\n",
    "PyCaret integrates with many different type of experiment loggers (default = 'mlflow'). To turn on experiment tracking in PyCaret you can set `log_experiment` and `experiment_name` parameter. It will automatically track all the metrics, hyperparameters, and artifacts based on the defined logger."
   ]
  },
  {
   "cell_type": "code",
   "execution_count": 27,
   "id": "1af63fd0",
   "metadata": {
    "execution": {
     "iopub.execute_input": "2025-10-22T20:40:06.830013Z",
     "iopub.status.busy": "2025-10-22T20:40:06.829952Z",
     "iopub.status.idle": "2025-10-22T20:40:06.831470Z",
     "shell.execute_reply": "2025-10-22T20:40:06.831150Z"
    }
   },
   "outputs": [],
   "source": [
    "# from pycaret.clustering import *\n",
    "# s = setup(data, log_experiment='mlflow', experiment_name='jewellery_project')"
   ]
  },
  {
   "cell_type": "code",
   "execution_count": 28,
   "id": "42cd6120",
   "metadata": {
    "execution": {
     "iopub.execute_input": "2025-10-22T20:40:06.832419Z",
     "iopub.status.busy": "2025-10-22T20:40:06.832357Z",
     "iopub.status.idle": "2025-10-22T20:40:06.833842Z",
     "shell.execute_reply": "2025-10-22T20:40:06.833513Z"
    }
   },
   "outputs": [],
   "source": [
    "# train kmeans\n",
    "# kmeans = create_model('kmeans')"
   ]
  },
  {
   "cell_type": "code",
   "execution_count": 29,
   "id": "adc82ce5",
   "metadata": {
    "execution": {
     "iopub.execute_input": "2025-10-22T20:40:06.834764Z",
     "iopub.status.busy": "2025-10-22T20:40:06.834694Z",
     "iopub.status.idle": "2025-10-22T20:40:06.836134Z",
     "shell.execute_reply": "2025-10-22T20:40:06.835863Z"
    }
   },
   "outputs": [],
   "source": [
    "# start mlflow server on localhost:5000\n",
    "# !mlflow ui"
   ]
  },
  {
   "cell_type": "markdown",
   "id": "a06f9df7",
   "metadata": {},
   "source": [
    "By default PyCaret uses `MLFlow` logger that can be changed using `log_experiment` parameter. Following loggers are available:\n",
    "    \n",
    "    - mlflow\n",
    "    - wandb\n",
    "    - comet_ml\n",
    "    - dagshub\n",
    "    \n",
    "Other logging related parameters that you may find useful are:\n",
    "\n",
    "- experiment_custom_tags\n",
    "- log_plots\n",
    "- log_data\n",
    "- log_profile\n",
    "\n",
    "For more information check out the docstring of the `setup` function."
   ]
  },
  {
   "cell_type": "code",
   "execution_count": 30,
   "id": "2f8b6aa1",
   "metadata": {
    "execution": {
     "iopub.execute_input": "2025-10-22T20:40:06.837012Z",
     "iopub.status.busy": "2025-10-22T20:40:06.836958Z",
     "iopub.status.idle": "2025-10-22T20:40:06.838472Z",
     "shell.execute_reply": "2025-10-22T20:40:06.838125Z"
    }
   },
   "outputs": [],
   "source": [
    "# help(setup)"
   ]
  },
  {
   "cell_type": "markdown",
   "id": "6ce0b555",
   "metadata": {},
   "source": [
    "## ✅ Create Model\n",
    "This function trains and evaluates the performance of a given estimator using cross-validation. The output of this function is a scoring grid with CV scores by fold. Metrics evaluated during CV can be accessed using the `get_metrics` function. Custom metrics can be added or removed using `add_metric` and `remove_metric` function. All the available models can be accessed using the models function."
   ]
  },
  {
   "cell_type": "code",
   "execution_count": 31,
   "id": "837cebfa",
   "metadata": {
    "execution": {
     "iopub.execute_input": "2025-10-22T20:40:06.839326Z",
     "iopub.status.busy": "2025-10-22T20:40:06.839271Z",
     "iopub.status.idle": "2025-10-22T20:40:06.842661Z",
     "shell.execute_reply": "2025-10-22T20:40:06.842279Z"
    }
   },
   "outputs": [
    {
     "data": {
      "text/html": [
       "<div>\n",
       "<style scoped>\n",
       "    .dataframe tbody tr th:only-of-type {\n",
       "        vertical-align: middle;\n",
       "    }\n",
       "\n",
       "    .dataframe tbody tr th {\n",
       "        vertical-align: top;\n",
       "    }\n",
       "\n",
       "    .dataframe thead th {\n",
       "        text-align: right;\n",
       "    }\n",
       "</style>\n",
       "<table border=\"1\" class=\"dataframe\">\n",
       "  <thead>\n",
       "    <tr style=\"text-align: right;\">\n",
       "      <th></th>\n",
       "      <th>Name</th>\n",
       "      <th>Reference</th>\n",
       "    </tr>\n",
       "    <tr>\n",
       "      <th>ID</th>\n",
       "      <th></th>\n",
       "      <th></th>\n",
       "    </tr>\n",
       "  </thead>\n",
       "  <tbody>\n",
       "    <tr>\n",
       "      <th>kmeans</th>\n",
       "      <td>K-Means Clustering</td>\n",
       "      <td>sklearn.cluster._kmeans.KMeans</td>\n",
       "    </tr>\n",
       "    <tr>\n",
       "      <th>ap</th>\n",
       "      <td>Affinity Propagation</td>\n",
       "      <td>sklearn.cluster._affinity_propagation.Affinity...</td>\n",
       "    </tr>\n",
       "    <tr>\n",
       "      <th>meanshift</th>\n",
       "      <td>Mean Shift Clustering</td>\n",
       "      <td>sklearn.cluster._mean_shift.MeanShift</td>\n",
       "    </tr>\n",
       "    <tr>\n",
       "      <th>sc</th>\n",
       "      <td>Spectral Clustering</td>\n",
       "      <td>sklearn.cluster._spectral.SpectralClustering</td>\n",
       "    </tr>\n",
       "    <tr>\n",
       "      <th>hclust</th>\n",
       "      <td>Agglomerative Clustering</td>\n",
       "      <td>sklearn.cluster._agglomerative.AgglomerativeCl...</td>\n",
       "    </tr>\n",
       "    <tr>\n",
       "      <th>dbscan</th>\n",
       "      <td>Density-Based Spatial Clustering</td>\n",
       "      <td>sklearn.cluster._dbscan.DBSCAN</td>\n",
       "    </tr>\n",
       "    <tr>\n",
       "      <th>optics</th>\n",
       "      <td>OPTICS Clustering</td>\n",
       "      <td>sklearn.cluster._optics.OPTICS</td>\n",
       "    </tr>\n",
       "    <tr>\n",
       "      <th>birch</th>\n",
       "      <td>Birch Clustering</td>\n",
       "      <td>sklearn.cluster._birch.Birch</td>\n",
       "    </tr>\n",
       "  </tbody>\n",
       "</table>\n",
       "</div>"
      ],
      "text/plain": [
       "                                       Name  \\\n",
       "ID                                            \n",
       "kmeans                   K-Means Clustering   \n",
       "ap                     Affinity Propagation   \n",
       "meanshift             Mean Shift Clustering   \n",
       "sc                      Spectral Clustering   \n",
       "hclust             Agglomerative Clustering   \n",
       "dbscan     Density-Based Spatial Clustering   \n",
       "optics                    OPTICS Clustering   \n",
       "birch                      Birch Clustering   \n",
       "\n",
       "                                                   Reference  \n",
       "ID                                                            \n",
       "kmeans                        sklearn.cluster._kmeans.KMeans  \n",
       "ap         sklearn.cluster._affinity_propagation.Affinity...  \n",
       "meanshift              sklearn.cluster._mean_shift.MeanShift  \n",
       "sc              sklearn.cluster._spectral.SpectralClustering  \n",
       "hclust     sklearn.cluster._agglomerative.AgglomerativeCl...  \n",
       "dbscan                        sklearn.cluster._dbscan.DBSCAN  \n",
       "optics                        sklearn.cluster._optics.OPTICS  \n",
       "birch                           sklearn.cluster._birch.Birch  "
      ]
     },
     "execution_count": 31,
     "metadata": {},
     "output_type": "execute_result"
    }
   ],
   "source": [
    "# check all the available models\n",
    "models()"
   ]
  },
  {
   "cell_type": "code",
   "execution_count": 32,
   "id": "16641cab",
   "metadata": {
    "execution": {
     "iopub.execute_input": "2025-10-22T20:40:06.843533Z",
     "iopub.status.busy": "2025-10-22T20:40:06.843478Z",
     "iopub.status.idle": "2025-10-22T20:40:06.961510Z",
     "shell.execute_reply": "2025-10-22T20:40:06.961147Z"
    }
   },
   "outputs": [
    {
     "data": {
      "text/html": [],
      "text/plain": [
       "<IPython.core.display.HTML object>"
      ]
     },
     "metadata": {},
     "output_type": "display_data"
    },
    {
     "data": {
      "text/html": [
       "<style type=\"text/css\">\n",
       "</style>\n",
       "<table id=\"T_f8f16\">\n",
       "  <thead>\n",
       "    <tr>\n",
       "      <th class=\"blank level0\" >&nbsp;</th>\n",
       "      <th id=\"T_f8f16_level0_col0\" class=\"col_heading level0 col0\" >Silhouette</th>\n",
       "      <th id=\"T_f8f16_level0_col1\" class=\"col_heading level0 col1\" >Calinski-Harabasz</th>\n",
       "      <th id=\"T_f8f16_level0_col2\" class=\"col_heading level0 col2\" >Davies-Bouldin</th>\n",
       "      <th id=\"T_f8f16_level0_col3\" class=\"col_heading level0 col3\" >Homogeneity</th>\n",
       "      <th id=\"T_f8f16_level0_col4\" class=\"col_heading level0 col4\" >Rand Index</th>\n",
       "      <th id=\"T_f8f16_level0_col5\" class=\"col_heading level0 col5\" >Completeness</th>\n",
       "    </tr>\n",
       "  </thead>\n",
       "  <tbody>\n",
       "    <tr>\n",
       "      <th id=\"T_f8f16_level0_row0\" class=\"row_heading level0 row0\" >0</th>\n",
       "      <td id=\"T_f8f16_row0_col0\" class=\"data row0 col0\" >0.2934</td>\n",
       "      <td id=\"T_f8f16_row0_col1\" class=\"data row0 col1\" >115.2931</td>\n",
       "      <td id=\"T_f8f16_row0_col2\" class=\"data row0 col2\" >1.2577</td>\n",
       "      <td id=\"T_f8f16_row0_col3\" class=\"data row0 col3\" >0</td>\n",
       "      <td id=\"T_f8f16_row0_col4\" class=\"data row0 col4\" >0</td>\n",
       "      <td id=\"T_f8f16_row0_col5\" class=\"data row0 col5\" >0</td>\n",
       "    </tr>\n",
       "  </tbody>\n",
       "</table>\n"
      ],
      "text/plain": [
       "<pandas.io.formats.style.Styler at 0x1553f2b90>"
      ]
     },
     "metadata": {},
     "output_type": "display_data"
    },
    {
     "data": {
      "text/html": [],
      "text/plain": [
       "<IPython.core.display.HTML object>"
      ]
     },
     "metadata": {},
     "output_type": "display_data"
    }
   ],
   "source": [
    "# train kmeans\n",
    "kmeans = create_model('kmeans')"
   ]
  },
  {
   "cell_type": "markdown",
   "id": "074b4572",
   "metadata": {},
   "source": [
    "The function above has return trained model object as an output. The scoring grid is only displayed and not returned. If you need access to the scoring grid you can use `pull` function to access the dataframe."
   ]
  },
  {
   "cell_type": "code",
   "execution_count": 33,
   "id": "fe277e1b",
   "metadata": {
    "execution": {
     "iopub.execute_input": "2025-10-22T20:40:06.963040Z",
     "iopub.status.busy": "2025-10-22T20:40:06.962974Z",
     "iopub.status.idle": "2025-10-22T20:40:06.966302Z",
     "shell.execute_reply": "2025-10-22T20:40:06.965932Z"
    }
   },
   "outputs": [
    {
     "name": "stdout",
     "output_type": "stream",
     "text": [
      "<class 'pandas.core.frame.DataFrame'>\n"
     ]
    },
    {
     "data": {
      "text/html": [
       "<div>\n",
       "<style scoped>\n",
       "    .dataframe tbody tr th:only-of-type {\n",
       "        vertical-align: middle;\n",
       "    }\n",
       "\n",
       "    .dataframe tbody tr th {\n",
       "        vertical-align: top;\n",
       "    }\n",
       "\n",
       "    .dataframe thead th {\n",
       "        text-align: right;\n",
       "    }\n",
       "</style>\n",
       "<table border=\"1\" class=\"dataframe\">\n",
       "  <thead>\n",
       "    <tr style=\"text-align: right;\">\n",
       "      <th></th>\n",
       "      <th>Silhouette</th>\n",
       "      <th>Calinski-Harabasz</th>\n",
       "      <th>Davies-Bouldin</th>\n",
       "      <th>Homogeneity</th>\n",
       "      <th>Rand Index</th>\n",
       "      <th>Completeness</th>\n",
       "    </tr>\n",
       "  </thead>\n",
       "  <tbody>\n",
       "    <tr>\n",
       "      <th>0</th>\n",
       "      <td>0.2934</td>\n",
       "      <td>115.2931</td>\n",
       "      <td>1.2577</td>\n",
       "      <td>0</td>\n",
       "      <td>0</td>\n",
       "      <td>0</td>\n",
       "    </tr>\n",
       "  </tbody>\n",
       "</table>\n",
       "</div>"
      ],
      "text/plain": [
       "   Silhouette  Calinski-Harabasz  Davies-Bouldin  Homogeneity  Rand Index  \\\n",
       "0      0.2934           115.2931          1.2577            0           0   \n",
       "\n",
       "   Completeness  \n",
       "0             0  "
      ]
     },
     "execution_count": 33,
     "metadata": {},
     "output_type": "execute_result"
    }
   ],
   "source": [
    "kmeans_results = pull()\n",
    "print(type(kmeans_results))\n",
    "kmeans_results"
   ]
  },
  {
   "cell_type": "code",
   "execution_count": 34,
   "id": "148a74c4",
   "metadata": {
    "execution": {
     "iopub.execute_input": "2025-10-22T20:40:06.967464Z",
     "iopub.status.busy": "2025-10-22T20:40:06.967380Z",
     "iopub.status.idle": "2025-10-22T20:40:07.095729Z",
     "shell.execute_reply": "2025-10-22T20:40:07.095278Z"
    }
   },
   "outputs": [
    {
     "data": {
      "text/html": [],
      "text/plain": [
       "<IPython.core.display.HTML object>"
      ]
     },
     "metadata": {},
     "output_type": "display_data"
    },
    {
     "data": {
      "text/html": [
       "<style type=\"text/css\">\n",
       "</style>\n",
       "<table id=\"T_92f6f\">\n",
       "  <thead>\n",
       "    <tr>\n",
       "      <th class=\"blank level0\" >&nbsp;</th>\n",
       "      <th id=\"T_92f6f_level0_col0\" class=\"col_heading level0 col0\" >Silhouette</th>\n",
       "      <th id=\"T_92f6f_level0_col1\" class=\"col_heading level0 col1\" >Calinski-Harabasz</th>\n",
       "      <th id=\"T_92f6f_level0_col2\" class=\"col_heading level0 col2\" >Davies-Bouldin</th>\n",
       "      <th id=\"T_92f6f_level0_col3\" class=\"col_heading level0 col3\" >Homogeneity</th>\n",
       "      <th id=\"T_92f6f_level0_col4\" class=\"col_heading level0 col4\" >Rand Index</th>\n",
       "      <th id=\"T_92f6f_level0_col5\" class=\"col_heading level0 col5\" >Completeness</th>\n",
       "    </tr>\n",
       "  </thead>\n",
       "  <tbody>\n",
       "    <tr>\n",
       "      <th id=\"T_92f6f_level0_row0\" class=\"row_heading level0 row0\" >0</th>\n",
       "      <td id=\"T_92f6f_row0_col0\" class=\"data row0 col0\" >0.4183</td>\n",
       "      <td id=\"T_92f6f_row0_col1\" class=\"data row0 col1\" >141.4099</td>\n",
       "      <td id=\"T_92f6f_row0_col2\" class=\"data row0 col2\" >0.8129</td>\n",
       "      <td id=\"T_92f6f_row0_col3\" class=\"data row0 col3\" >0</td>\n",
       "      <td id=\"T_92f6f_row0_col4\" class=\"data row0 col4\" >0</td>\n",
       "      <td id=\"T_92f6f_row0_col5\" class=\"data row0 col5\" >0</td>\n",
       "    </tr>\n",
       "  </tbody>\n",
       "</table>\n"
      ],
      "text/plain": [
       "<pandas.io.formats.style.Styler at 0x155206cd0>"
      ]
     },
     "metadata": {},
     "output_type": "display_data"
    },
    {
     "data": {
      "text/html": [],
      "text/plain": [
       "<IPython.core.display.HTML object>"
      ]
     },
     "metadata": {},
     "output_type": "display_data"
    },
    {
     "data": {
      "text/html": [
       "<style>#sk-container-id-2 {\n",
       "  /* Definition of color scheme common for light and dark mode */\n",
       "  --sklearn-color-text: black;\n",
       "  --sklearn-color-line: gray;\n",
       "  /* Definition of color scheme for unfitted estimators */\n",
       "  --sklearn-color-unfitted-level-0: #fff5e6;\n",
       "  --sklearn-color-unfitted-level-1: #f6e4d2;\n",
       "  --sklearn-color-unfitted-level-2: #ffe0b3;\n",
       "  --sklearn-color-unfitted-level-3: chocolate;\n",
       "  /* Definition of color scheme for fitted estimators */\n",
       "  --sklearn-color-fitted-level-0: #f0f8ff;\n",
       "  --sklearn-color-fitted-level-1: #d4ebff;\n",
       "  --sklearn-color-fitted-level-2: #b3dbfd;\n",
       "  --sklearn-color-fitted-level-3: cornflowerblue;\n",
       "\n",
       "  /* Specific color for light theme */\n",
       "  --sklearn-color-text-on-default-background: var(--sg-text-color, var(--theme-code-foreground, var(--jp-content-font-color1, black)));\n",
       "  --sklearn-color-background: var(--sg-background-color, var(--theme-background, var(--jp-layout-color0, white)));\n",
       "  --sklearn-color-border-box: var(--sg-text-color, var(--theme-code-foreground, var(--jp-content-font-color1, black)));\n",
       "  --sklearn-color-icon: #696969;\n",
       "\n",
       "  @media (prefers-color-scheme: dark) {\n",
       "    /* Redefinition of color scheme for dark theme */\n",
       "    --sklearn-color-text-on-default-background: var(--sg-text-color, var(--theme-code-foreground, var(--jp-content-font-color1, white)));\n",
       "    --sklearn-color-background: var(--sg-background-color, var(--theme-background, var(--jp-layout-color0, #111)));\n",
       "    --sklearn-color-border-box: var(--sg-text-color, var(--theme-code-foreground, var(--jp-content-font-color1, white)));\n",
       "    --sklearn-color-icon: #878787;\n",
       "  }\n",
       "}\n",
       "\n",
       "#sk-container-id-2 {\n",
       "  color: var(--sklearn-color-text);\n",
       "}\n",
       "\n",
       "#sk-container-id-2 pre {\n",
       "  padding: 0;\n",
       "}\n",
       "\n",
       "#sk-container-id-2 input.sk-hidden--visually {\n",
       "  border: 0;\n",
       "  clip: rect(1px 1px 1px 1px);\n",
       "  clip: rect(1px, 1px, 1px, 1px);\n",
       "  height: 1px;\n",
       "  margin: -1px;\n",
       "  overflow: hidden;\n",
       "  padding: 0;\n",
       "  position: absolute;\n",
       "  width: 1px;\n",
       "}\n",
       "\n",
       "#sk-container-id-2 div.sk-dashed-wrapped {\n",
       "  border: 1px dashed var(--sklearn-color-line);\n",
       "  margin: 0 0.4em 0.5em 0.4em;\n",
       "  box-sizing: border-box;\n",
       "  padding-bottom: 0.4em;\n",
       "  background-color: var(--sklearn-color-background);\n",
       "}\n",
       "\n",
       "#sk-container-id-2 div.sk-container {\n",
       "  /* jupyter's `normalize.less` sets `[hidden] { display: none; }`\n",
       "     but bootstrap.min.css set `[hidden] { display: none !important; }`\n",
       "     so we also need the `!important` here to be able to override the\n",
       "     default hidden behavior on the sphinx rendered scikit-learn.org.\n",
       "     See: https://github.com/scikit-learn/scikit-learn/issues/21755 */\n",
       "  display: inline-block !important;\n",
       "  position: relative;\n",
       "}\n",
       "\n",
       "#sk-container-id-2 div.sk-text-repr-fallback {\n",
       "  display: none;\n",
       "}\n",
       "\n",
       "div.sk-parallel-item,\n",
       "div.sk-serial,\n",
       "div.sk-item {\n",
       "  /* draw centered vertical line to link estimators */\n",
       "  background-image: linear-gradient(var(--sklearn-color-text-on-default-background), var(--sklearn-color-text-on-default-background));\n",
       "  background-size: 2px 100%;\n",
       "  background-repeat: no-repeat;\n",
       "  background-position: center center;\n",
       "}\n",
       "\n",
       "/* Parallel-specific style estimator block */\n",
       "\n",
       "#sk-container-id-2 div.sk-parallel-item::after {\n",
       "  content: \"\";\n",
       "  width: 100%;\n",
       "  border-bottom: 2px solid var(--sklearn-color-text-on-default-background);\n",
       "  flex-grow: 1;\n",
       "}\n",
       "\n",
       "#sk-container-id-2 div.sk-parallel {\n",
       "  display: flex;\n",
       "  align-items: stretch;\n",
       "  justify-content: center;\n",
       "  background-color: var(--sklearn-color-background);\n",
       "  position: relative;\n",
       "}\n",
       "\n",
       "#sk-container-id-2 div.sk-parallel-item {\n",
       "  display: flex;\n",
       "  flex-direction: column;\n",
       "}\n",
       "\n",
       "#sk-container-id-2 div.sk-parallel-item:first-child::after {\n",
       "  align-self: flex-end;\n",
       "  width: 50%;\n",
       "}\n",
       "\n",
       "#sk-container-id-2 div.sk-parallel-item:last-child::after {\n",
       "  align-self: flex-start;\n",
       "  width: 50%;\n",
       "}\n",
       "\n",
       "#sk-container-id-2 div.sk-parallel-item:only-child::after {\n",
       "  width: 0;\n",
       "}\n",
       "\n",
       "/* Serial-specific style estimator block */\n",
       "\n",
       "#sk-container-id-2 div.sk-serial {\n",
       "  display: flex;\n",
       "  flex-direction: column;\n",
       "  align-items: center;\n",
       "  background-color: var(--sklearn-color-background);\n",
       "  padding-right: 1em;\n",
       "  padding-left: 1em;\n",
       "}\n",
       "\n",
       "\n",
       "/* Toggleable style: style used for estimator/Pipeline/ColumnTransformer box that is\n",
       "clickable and can be expanded/collapsed.\n",
       "- Pipeline and ColumnTransformer use this feature and define the default style\n",
       "- Estimators will overwrite some part of the style using the `sk-estimator` class\n",
       "*/\n",
       "\n",
       "/* Pipeline and ColumnTransformer style (default) */\n",
       "\n",
       "#sk-container-id-2 div.sk-toggleable {\n",
       "  /* Default theme specific background. It is overwritten whether we have a\n",
       "  specific estimator or a Pipeline/ColumnTransformer */\n",
       "  background-color: var(--sklearn-color-background);\n",
       "}\n",
       "\n",
       "/* Toggleable label */\n",
       "#sk-container-id-2 label.sk-toggleable__label {\n",
       "  cursor: pointer;\n",
       "  display: block;\n",
       "  width: 100%;\n",
       "  margin-bottom: 0;\n",
       "  padding: 0.5em;\n",
       "  box-sizing: border-box;\n",
       "  text-align: center;\n",
       "}\n",
       "\n",
       "#sk-container-id-2 label.sk-toggleable__label-arrow:before {\n",
       "  /* Arrow on the left of the label */\n",
       "  content: \"▸\";\n",
       "  float: left;\n",
       "  margin-right: 0.25em;\n",
       "  color: var(--sklearn-color-icon);\n",
       "}\n",
       "\n",
       "#sk-container-id-2 label.sk-toggleable__label-arrow:hover:before {\n",
       "  color: var(--sklearn-color-text);\n",
       "}\n",
       "\n",
       "/* Toggleable content - dropdown */\n",
       "\n",
       "#sk-container-id-2 div.sk-toggleable__content {\n",
       "  max-height: 0;\n",
       "  max-width: 0;\n",
       "  overflow: hidden;\n",
       "  text-align: left;\n",
       "  /* unfitted */\n",
       "  background-color: var(--sklearn-color-unfitted-level-0);\n",
       "}\n",
       "\n",
       "#sk-container-id-2 div.sk-toggleable__content.fitted {\n",
       "  /* fitted */\n",
       "  background-color: var(--sklearn-color-fitted-level-0);\n",
       "}\n",
       "\n",
       "#sk-container-id-2 div.sk-toggleable__content pre {\n",
       "  margin: 0.2em;\n",
       "  border-radius: 0.25em;\n",
       "  color: var(--sklearn-color-text);\n",
       "  /* unfitted */\n",
       "  background-color: var(--sklearn-color-unfitted-level-0);\n",
       "}\n",
       "\n",
       "#sk-container-id-2 div.sk-toggleable__content.fitted pre {\n",
       "  /* unfitted */\n",
       "  background-color: var(--sklearn-color-fitted-level-0);\n",
       "}\n",
       "\n",
       "#sk-container-id-2 input.sk-toggleable__control:checked~div.sk-toggleable__content {\n",
       "  /* Expand drop-down */\n",
       "  max-height: 200px;\n",
       "  max-width: 100%;\n",
       "  overflow: auto;\n",
       "}\n",
       "\n",
       "#sk-container-id-2 input.sk-toggleable__control:checked~label.sk-toggleable__label-arrow:before {\n",
       "  content: \"▾\";\n",
       "}\n",
       "\n",
       "/* Pipeline/ColumnTransformer-specific style */\n",
       "\n",
       "#sk-container-id-2 div.sk-label input.sk-toggleable__control:checked~label.sk-toggleable__label {\n",
       "  color: var(--sklearn-color-text);\n",
       "  background-color: var(--sklearn-color-unfitted-level-2);\n",
       "}\n",
       "\n",
       "#sk-container-id-2 div.sk-label.fitted input.sk-toggleable__control:checked~label.sk-toggleable__label {\n",
       "  background-color: var(--sklearn-color-fitted-level-2);\n",
       "}\n",
       "\n",
       "/* Estimator-specific style */\n",
       "\n",
       "/* Colorize estimator box */\n",
       "#sk-container-id-2 div.sk-estimator input.sk-toggleable__control:checked~label.sk-toggleable__label {\n",
       "  /* unfitted */\n",
       "  background-color: var(--sklearn-color-unfitted-level-2);\n",
       "}\n",
       "\n",
       "#sk-container-id-2 div.sk-estimator.fitted input.sk-toggleable__control:checked~label.sk-toggleable__label {\n",
       "  /* fitted */\n",
       "  background-color: var(--sklearn-color-fitted-level-2);\n",
       "}\n",
       "\n",
       "#sk-container-id-2 div.sk-label label.sk-toggleable__label,\n",
       "#sk-container-id-2 div.sk-label label {\n",
       "  /* The background is the default theme color */\n",
       "  color: var(--sklearn-color-text-on-default-background);\n",
       "}\n",
       "\n",
       "/* On hover, darken the color of the background */\n",
       "#sk-container-id-2 div.sk-label:hover label.sk-toggleable__label {\n",
       "  color: var(--sklearn-color-text);\n",
       "  background-color: var(--sklearn-color-unfitted-level-2);\n",
       "}\n",
       "\n",
       "/* Label box, darken color on hover, fitted */\n",
       "#sk-container-id-2 div.sk-label.fitted:hover label.sk-toggleable__label.fitted {\n",
       "  color: var(--sklearn-color-text);\n",
       "  background-color: var(--sklearn-color-fitted-level-2);\n",
       "}\n",
       "\n",
       "/* Estimator label */\n",
       "\n",
       "#sk-container-id-2 div.sk-label label {\n",
       "  font-family: monospace;\n",
       "  font-weight: bold;\n",
       "  display: inline-block;\n",
       "  line-height: 1.2em;\n",
       "}\n",
       "\n",
       "#sk-container-id-2 div.sk-label-container {\n",
       "  text-align: center;\n",
       "}\n",
       "\n",
       "/* Estimator-specific */\n",
       "#sk-container-id-2 div.sk-estimator {\n",
       "  font-family: monospace;\n",
       "  border: 1px dotted var(--sklearn-color-border-box);\n",
       "  border-radius: 0.25em;\n",
       "  box-sizing: border-box;\n",
       "  margin-bottom: 0.5em;\n",
       "  /* unfitted */\n",
       "  background-color: var(--sklearn-color-unfitted-level-0);\n",
       "}\n",
       "\n",
       "#sk-container-id-2 div.sk-estimator.fitted {\n",
       "  /* fitted */\n",
       "  background-color: var(--sklearn-color-fitted-level-0);\n",
       "}\n",
       "\n",
       "/* on hover */\n",
       "#sk-container-id-2 div.sk-estimator:hover {\n",
       "  /* unfitted */\n",
       "  background-color: var(--sklearn-color-unfitted-level-2);\n",
       "}\n",
       "\n",
       "#sk-container-id-2 div.sk-estimator.fitted:hover {\n",
       "  /* fitted */\n",
       "  background-color: var(--sklearn-color-fitted-level-2);\n",
       "}\n",
       "\n",
       "/* Specification for estimator info (e.g. \"i\" and \"?\") */\n",
       "\n",
       "/* Common style for \"i\" and \"?\" */\n",
       "\n",
       ".sk-estimator-doc-link,\n",
       "a:link.sk-estimator-doc-link,\n",
       "a:visited.sk-estimator-doc-link {\n",
       "  float: right;\n",
       "  font-size: smaller;\n",
       "  line-height: 1em;\n",
       "  font-family: monospace;\n",
       "  background-color: var(--sklearn-color-background);\n",
       "  border-radius: 1em;\n",
       "  height: 1em;\n",
       "  width: 1em;\n",
       "  text-decoration: none !important;\n",
       "  margin-left: 1ex;\n",
       "  /* unfitted */\n",
       "  border: var(--sklearn-color-unfitted-level-1) 1pt solid;\n",
       "  color: var(--sklearn-color-unfitted-level-1);\n",
       "}\n",
       "\n",
       ".sk-estimator-doc-link.fitted,\n",
       "a:link.sk-estimator-doc-link.fitted,\n",
       "a:visited.sk-estimator-doc-link.fitted {\n",
       "  /* fitted */\n",
       "  border: var(--sklearn-color-fitted-level-1) 1pt solid;\n",
       "  color: var(--sklearn-color-fitted-level-1);\n",
       "}\n",
       "\n",
       "/* On hover */\n",
       "div.sk-estimator:hover .sk-estimator-doc-link:hover,\n",
       ".sk-estimator-doc-link:hover,\n",
       "div.sk-label-container:hover .sk-estimator-doc-link:hover,\n",
       ".sk-estimator-doc-link:hover {\n",
       "  /* unfitted */\n",
       "  background-color: var(--sklearn-color-unfitted-level-3);\n",
       "  color: var(--sklearn-color-background);\n",
       "  text-decoration: none;\n",
       "}\n",
       "\n",
       "div.sk-estimator.fitted:hover .sk-estimator-doc-link.fitted:hover,\n",
       ".sk-estimator-doc-link.fitted:hover,\n",
       "div.sk-label-container:hover .sk-estimator-doc-link.fitted:hover,\n",
       ".sk-estimator-doc-link.fitted:hover {\n",
       "  /* fitted */\n",
       "  background-color: var(--sklearn-color-fitted-level-3);\n",
       "  color: var(--sklearn-color-background);\n",
       "  text-decoration: none;\n",
       "}\n",
       "\n",
       "/* Span, style for the box shown on hovering the info icon */\n",
       ".sk-estimator-doc-link span {\n",
       "  display: none;\n",
       "  z-index: 9999;\n",
       "  position: relative;\n",
       "  font-weight: normal;\n",
       "  right: .2ex;\n",
       "  padding: .5ex;\n",
       "  margin: .5ex;\n",
       "  width: min-content;\n",
       "  min-width: 20ex;\n",
       "  max-width: 50ex;\n",
       "  color: var(--sklearn-color-text);\n",
       "  box-shadow: 2pt 2pt 4pt #999;\n",
       "  /* unfitted */\n",
       "  background: var(--sklearn-color-unfitted-level-0);\n",
       "  border: .5pt solid var(--sklearn-color-unfitted-level-3);\n",
       "}\n",
       "\n",
       ".sk-estimator-doc-link.fitted span {\n",
       "  /* fitted */\n",
       "  background: var(--sklearn-color-fitted-level-0);\n",
       "  border: var(--sklearn-color-fitted-level-3);\n",
       "}\n",
       "\n",
       ".sk-estimator-doc-link:hover span {\n",
       "  display: block;\n",
       "}\n",
       "\n",
       "/* \"?\"-specific style due to the `<a>` HTML tag */\n",
       "\n",
       "#sk-container-id-2 a.estimator_doc_link {\n",
       "  float: right;\n",
       "  font-size: 1rem;\n",
       "  line-height: 1em;\n",
       "  font-family: monospace;\n",
       "  background-color: var(--sklearn-color-background);\n",
       "  border-radius: 1rem;\n",
       "  height: 1rem;\n",
       "  width: 1rem;\n",
       "  text-decoration: none;\n",
       "  /* unfitted */\n",
       "  color: var(--sklearn-color-unfitted-level-1);\n",
       "  border: var(--sklearn-color-unfitted-level-1) 1pt solid;\n",
       "}\n",
       "\n",
       "#sk-container-id-2 a.estimator_doc_link.fitted {\n",
       "  /* fitted */\n",
       "  border: var(--sklearn-color-fitted-level-1) 1pt solid;\n",
       "  color: var(--sklearn-color-fitted-level-1);\n",
       "}\n",
       "\n",
       "/* On hover */\n",
       "#sk-container-id-2 a.estimator_doc_link:hover {\n",
       "  /* unfitted */\n",
       "  background-color: var(--sklearn-color-unfitted-level-3);\n",
       "  color: var(--sklearn-color-background);\n",
       "  text-decoration: none;\n",
       "}\n",
       "\n",
       "#sk-container-id-2 a.estimator_doc_link.fitted:hover {\n",
       "  /* fitted */\n",
       "  background-color: var(--sklearn-color-fitted-level-3);\n",
       "}\n",
       "</style><div id=\"sk-container-id-2\" class=\"sk-top-container\"><div class=\"sk-text-repr-fallback\"><pre>KMeans(n_clusters=10, random_state=123)</pre><b>In a Jupyter environment, please rerun this cell to show the HTML representation or trust the notebook. <br />On GitHub, the HTML representation is unable to render, please try loading this page with nbviewer.org.</b></div><div class=\"sk-container\" hidden><div class=\"sk-item\"><div class=\"sk-estimator fitted sk-toggleable\"><input class=\"sk-toggleable__control sk-hidden--visually\" id=\"sk-estimator-id-12\" type=\"checkbox\" checked><label for=\"sk-estimator-id-12\" class=\"sk-toggleable__label fitted sk-toggleable__label-arrow fitted\">&nbsp;&nbsp;KMeans<a class=\"sk-estimator-doc-link fitted\" rel=\"noreferrer\" target=\"_blank\" href=\"https://scikit-learn.org/1.4/modules/generated/sklearn.cluster.KMeans.html\">?<span>Documentation for KMeans</span></a><span class=\"sk-estimator-doc-link fitted\">i<span>Fitted</span></span></label><div class=\"sk-toggleable__content fitted\"><pre>KMeans(n_clusters=10, random_state=123)</pre></div> </div></div></div></div>"
      ],
      "text/plain": [
       "KMeans(n_clusters=10, random_state=123)"
      ]
     },
     "execution_count": 34,
     "metadata": {},
     "output_type": "execute_result"
    }
   ],
   "source": [
    "# train kmeans with 10 clusters\n",
    "create_model('kmeans', num_clusters = 10)"
   ]
  },
  {
   "cell_type": "markdown",
   "id": "08634e9e",
   "metadata": {},
   "source": [
    "Some other parameters that you might find very useful in `create_model` are:\n",
    "\n",
    "- num_clusters\n",
    "- ground_truth\n",
    "- fit_kwargs\n",
    "- experiment_custom_tags\n",
    "- engine\n",
    "\n",
    "You can check the docstring of the function for more info."
   ]
  },
  {
   "cell_type": "code",
   "execution_count": 35,
   "id": "3fb32c74",
   "metadata": {
    "execution": {
     "iopub.execute_input": "2025-10-22T20:40:07.097170Z",
     "iopub.status.busy": "2025-10-22T20:40:07.097079Z",
     "iopub.status.idle": "2025-10-22T20:40:07.098790Z",
     "shell.execute_reply": "2025-10-22T20:40:07.098407Z"
    }
   },
   "outputs": [],
   "source": [
    "# help(create_model)"
   ]
  },
  {
   "cell_type": "markdown",
   "id": "0376bf74",
   "metadata": {},
   "source": [
    "## ✅ Assign Model\n",
    "This function assigns cluster labels to the training data, given a trained model."
   ]
  },
  {
   "cell_type": "code",
   "execution_count": 36,
   "id": "2978c95b",
   "metadata": {
    "execution": {
     "iopub.execute_input": "2025-10-22T20:40:07.099969Z",
     "iopub.status.busy": "2025-10-22T20:40:07.099911Z",
     "iopub.status.idle": "2025-10-22T20:40:07.104340Z",
     "shell.execute_reply": "2025-10-22T20:40:07.104034Z"
    }
   },
   "outputs": [
    {
     "data": {
      "text/html": [
       "<div>\n",
       "<style scoped>\n",
       "    .dataframe tbody tr th:only-of-type {\n",
       "        vertical-align: middle;\n",
       "    }\n",
       "\n",
       "    .dataframe tbody tr th {\n",
       "        vertical-align: top;\n",
       "    }\n",
       "\n",
       "    .dataframe thead th {\n",
       "        text-align: right;\n",
       "    }\n",
       "</style>\n",
       "<table border=\"1\" class=\"dataframe\">\n",
       "  <thead>\n",
       "    <tr style=\"text-align: right;\">\n",
       "      <th></th>\n",
       "      <th>CustomerID</th>\n",
       "      <th>Gender</th>\n",
       "      <th>Age</th>\n",
       "      <th>Annual Income (k$)</th>\n",
       "      <th>Spending Score (1-100)</th>\n",
       "      <th>Cluster</th>\n",
       "    </tr>\n",
       "  </thead>\n",
       "  <tbody>\n",
       "    <tr>\n",
       "      <th>0</th>\n",
       "      <td>1</td>\n",
       "      <td>Male</td>\n",
       "      <td>19</td>\n",
       "      <td>15</td>\n",
       "      <td>39</td>\n",
       "      <td>Cluster 1</td>\n",
       "    </tr>\n",
       "    <tr>\n",
       "      <th>1</th>\n",
       "      <td>2</td>\n",
       "      <td>Male</td>\n",
       "      <td>21</td>\n",
       "      <td>15</td>\n",
       "      <td>81</td>\n",
       "      <td>Cluster 1</td>\n",
       "    </tr>\n",
       "    <tr>\n",
       "      <th>2</th>\n",
       "      <td>3</td>\n",
       "      <td>Female</td>\n",
       "      <td>20</td>\n",
       "      <td>16</td>\n",
       "      <td>6</td>\n",
       "      <td>Cluster 2</td>\n",
       "    </tr>\n",
       "    <tr>\n",
       "      <th>3</th>\n",
       "      <td>4</td>\n",
       "      <td>Female</td>\n",
       "      <td>23</td>\n",
       "      <td>16</td>\n",
       "      <td>77</td>\n",
       "      <td>Cluster 2</td>\n",
       "    </tr>\n",
       "    <tr>\n",
       "      <th>4</th>\n",
       "      <td>5</td>\n",
       "      <td>Female</td>\n",
       "      <td>31</td>\n",
       "      <td>17</td>\n",
       "      <td>40</td>\n",
       "      <td>Cluster 2</td>\n",
       "    </tr>\n",
       "    <tr>\n",
       "      <th>...</th>\n",
       "      <td>...</td>\n",
       "      <td>...</td>\n",
       "      <td>...</td>\n",
       "      <td>...</td>\n",
       "      <td>...</td>\n",
       "      <td>...</td>\n",
       "    </tr>\n",
       "    <tr>\n",
       "      <th>195</th>\n",
       "      <td>196</td>\n",
       "      <td>Female</td>\n",
       "      <td>35</td>\n",
       "      <td>120</td>\n",
       "      <td>79</td>\n",
       "      <td>Cluster 0</td>\n",
       "    </tr>\n",
       "    <tr>\n",
       "      <th>196</th>\n",
       "      <td>197</td>\n",
       "      <td>Female</td>\n",
       "      <td>45</td>\n",
       "      <td>126</td>\n",
       "      <td>28</td>\n",
       "      <td>Cluster 0</td>\n",
       "    </tr>\n",
       "    <tr>\n",
       "      <th>197</th>\n",
       "      <td>198</td>\n",
       "      <td>Male</td>\n",
       "      <td>32</td>\n",
       "      <td>126</td>\n",
       "      <td>74</td>\n",
       "      <td>Cluster 3</td>\n",
       "    </tr>\n",
       "    <tr>\n",
       "      <th>198</th>\n",
       "      <td>199</td>\n",
       "      <td>Male</td>\n",
       "      <td>32</td>\n",
       "      <td>137</td>\n",
       "      <td>18</td>\n",
       "      <td>Cluster 3</td>\n",
       "    </tr>\n",
       "    <tr>\n",
       "      <th>199</th>\n",
       "      <td>200</td>\n",
       "      <td>Male</td>\n",
       "      <td>30</td>\n",
       "      <td>137</td>\n",
       "      <td>83</td>\n",
       "      <td>Cluster 3</td>\n",
       "    </tr>\n",
       "  </tbody>\n",
       "</table>\n",
       "<p>200 rows × 6 columns</p>\n",
       "</div>"
      ],
      "text/plain": [
       "     CustomerID  Gender  Age  Annual Income (k$)  Spending Score (1-100)  \\\n",
       "0             1    Male   19                  15                      39   \n",
       "1             2    Male   21                  15                      81   \n",
       "2             3  Female   20                  16                       6   \n",
       "3             4  Female   23                  16                      77   \n",
       "4             5  Female   31                  17                      40   \n",
       "..          ...     ...  ...                 ...                     ...   \n",
       "195         196  Female   35                 120                      79   \n",
       "196         197  Female   45                 126                      28   \n",
       "197         198    Male   32                 126                      74   \n",
       "198         199    Male   32                 137                      18   \n",
       "199         200    Male   30                 137                      83   \n",
       "\n",
       "       Cluster  \n",
       "0    Cluster 1  \n",
       "1    Cluster 1  \n",
       "2    Cluster 2  \n",
       "3    Cluster 2  \n",
       "4    Cluster 2  \n",
       "..         ...  \n",
       "195  Cluster 0  \n",
       "196  Cluster 0  \n",
       "197  Cluster 3  \n",
       "198  Cluster 3  \n",
       "199  Cluster 3  \n",
       "\n",
       "[200 rows x 6 columns]"
      ]
     },
     "execution_count": 36,
     "metadata": {},
     "output_type": "execute_result"
    }
   ],
   "source": [
    "assign_model(kmeans)"
   ]
  },
  {
   "cell_type": "markdown",
   "id": "2dc8e294",
   "metadata": {},
   "source": [
    "## ✅ Plot Model\n",
    "This function analyzes the performance of a trained model."
   ]
  },
  {
   "cell_type": "code",
   "execution_count": 37,
   "id": "952b6f24",
   "metadata": {
    "execution": {
     "iopub.execute_input": "2025-10-22T20:40:07.105761Z",
     "iopub.status.busy": "2025-10-22T20:40:07.105705Z",
     "iopub.status.idle": "2025-10-22T20:40:07.302283Z",
     "shell.execute_reply": "2025-10-22T20:40:07.301918Z"
    }
   },
   "outputs": [
    {
     "data": {
      "text/html": [],
      "text/plain": [
       "<IPython.core.display.HTML object>"
      ]
     },
     "metadata": {},
     "output_type": "display_data"
    },
    {
     "data": {
      "image/png": "[encoded data removed]",
      "text/plain": [
       "<Figure size 1600x1100 with 1 Axes>"
      ]
     },
     "metadata": {},
     "output_type": "display_data"
    }
   ],
   "source": [
    "# to control the scale of plot\n",
    "plot_model(kmeans, plot = 'elbow', scale = 2)"
   ]
  },
  {
   "cell_type": "code",
   "execution_count": 38,
   "id": "54389270",
   "metadata": {
    "execution": {
     "iopub.execute_input": "2025-10-22T20:40:07.303520Z",
     "iopub.status.busy": "2025-10-22T20:40:07.303454Z",
     "iopub.status.idle": "2025-10-22T20:40:07.492786Z",
     "shell.execute_reply": "2025-10-22T20:40:07.492318Z"
    }
   },
   "outputs": [
    {
     "data": {
      "text/html": [],
      "text/plain": [
       "<IPython.core.display.HTML object>"
      ]
     },
     "metadata": {},
     "output_type": "display_data"
    },
    {
     "data": {
      "text/plain": [
       "'Elbow Plot.png'"
      ]
     },
     "execution_count": 38,
     "metadata": {},
     "output_type": "execute_result"
    }
   ],
   "source": [
    "# to save the plot\n",
    "plot_model(kmeans, plot = 'elbow', save=True)"
   ]
  },
  {
   "cell_type": "markdown",
   "id": "2fef279d",
   "metadata": {},
   "source": [
    "Some other parameters that you might find very useful in `plot_model` are:\n",
    "\n",
    "- feature\n",
    "- label\n",
    "- display_format\n",
    "\n",
    "You can check the docstring of the function for more info."
   ]
  },
  {
   "cell_type": "code",
   "execution_count": 39,
   "id": "54b09b8e",
   "metadata": {
    "execution": {
     "iopub.execute_input": "2025-10-22T20:40:07.493956Z",
     "iopub.status.busy": "2025-10-22T20:40:07.493890Z",
     "iopub.status.idle": "2025-10-22T20:40:07.495582Z",
     "shell.execute_reply": "2025-10-22T20:40:07.495203Z"
    }
   },
   "outputs": [],
   "source": [
    "# help(plot_model)"
   ]
  },
  {
   "cell_type": "markdown",
   "id": "ed00202c",
   "metadata": {},
   "source": [
    "## ✅ Deploy Model\n",
    "This function deploys the entire ML pipeline on the cloud.\n",
    "\n",
    "**AWS:**  When deploying model on AWS S3, environment variables must be configured using the command-line interface. To configure AWS environment variables, type `aws configure` in terminal. The following information is required which can be generated using the Identity and Access Management (IAM) portal of your amazon console account:\n",
    "\n",
    "- AWS Access Key ID\n",
    "- AWS Secret Key Access\n",
    "- Default Region Name (can be seen under Global settings on your AWS console)\n",
    "- Default output format (must be left blank)\n",
    "\n",
    "**GCP:** To deploy a model on Google Cloud Platform ('gcp'), the project must be created using the command-line or GCP console. Once the project is created, you must create a service account and download the service account key as a JSON file to set environment variables in your local environment. Learn more about it: https://cloud.google.com/docs/authentication/production\n",
    "\n",
    "**Azure:** To deploy a model on Microsoft Azure ('azure'), environment variables for the connection string must be set in your local environment. Go to settings of storage account on Azure portal to access the connection string required.\n",
    "AZURE_STORAGE_CONNECTION_STRING (required as environment variable)\n",
    "Learn more about it: https://docs.microsoft.com/en-us/azure/storage/blobs/storage-quickstart-blobs-python?toc=%2Fpython%2Fazure%2FTOC.json"
   ]
  },
  {
   "cell_type": "code",
   "execution_count": 40,
   "id": "40b20a18",
   "metadata": {
    "execution": {
     "iopub.execute_input": "2025-10-22T20:40:07.496662Z",
     "iopub.status.busy": "2025-10-22T20:40:07.496599Z",
     "iopub.status.idle": "2025-10-22T20:40:07.498154Z",
     "shell.execute_reply": "2025-10-22T20:40:07.497816Z"
    }
   },
   "outputs": [],
   "source": [
    "# deploy model on aws s3\n",
    "# deploy_model(kmeans, model_name = 'my_first_platform_on_aws',\n",
    "#             platform = 'aws', authentication = {'bucket' : 'pycaret-test'})"
   ]
  },
  {
   "cell_type": "code",
   "execution_count": 41,
   "id": "9e236516",
   "metadata": {
    "execution": {
     "iopub.execute_input": "2025-10-22T20:40:07.499245Z",
     "iopub.status.busy": "2025-10-22T20:40:07.499190Z",
     "iopub.status.idle": "2025-10-22T20:40:07.500805Z",
     "shell.execute_reply": "2025-10-22T20:40:07.500378Z"
    }
   },
   "outputs": [],
   "source": [
    "# load model from aws s3\n",
    "# loaded_from_aws = load_model(model_name = 'my_first_platform_on_aws', platform = 'aws',\n",
    "#                              authentication = {'bucket' : 'pycaret-test'})\n",
    "\n",
    "# loaded_from_aws"
   ]
  },
  {
   "cell_type": "markdown",
   "id": "e169ae86",
   "metadata": {},
   "source": [
    "## ✅ Save / Load Model\n",
    "This function saves the transformation pipeline and a trained model object into the current working directory as a pickle file for later use."
   ]
  },
  {
   "cell_type": "code",
   "execution_count": 42,
   "id": "bc5cf24a",
   "metadata": {
    "execution": {
     "iopub.execute_input": "2025-10-22T20:40:07.501922Z",
     "iopub.status.busy": "2025-10-22T20:40:07.501842Z",
     "iopub.status.idle": "2025-10-22T20:40:07.605806Z",
     "shell.execute_reply": "2025-10-22T20:40:07.605405Z"
    }
   },
   "outputs": [
    {
     "name": "stdout",
     "output_type": "stream",
     "text": [
      "Transformation Pipeline and Model Successfully Saved\n"
     ]
    },
    {
     "data": {
      "text/plain": [
       "(Pipeline(memory=Memory(location=None),\n",
       "          steps=[('numerical_imputer',\n",
       "                  TransformerWrapper(include=['CustomerID', 'Age',\n",
       "                                              'Annual Income (k$)',\n",
       "                                              'Spending Score (1-100)'],\n",
       "                                     transformer=SimpleImputer())),\n",
       "                 ('categorical_imputer',\n",
       "                  TransformerWrapper(include=['Gender'],\n",
       "                                     transformer=SimpleImputer(strategy='most_frequent'))),\n",
       "                 ('ordinal_encoding',\n",
       "                  TransformerWrapper(include=['Gender'],\n",
       "                                     transformer=OrdinalEncoder(cols=['Gender'],\n",
       "                                                                handle_missing='return_nan',\n",
       "                                                                mapping=[{'col': 'Gender',\n",
       "                                                                          'data_type': dtype('O'),\n",
       "                                                                          'mapping': Female    0\n",
       " Male      1\n",
       " NaN      -1\n",
       " dtype: int64}]))),\n",
       "                 ('normalize', TransformerWrapper(transformer=MinMaxScaler())),\n",
       "                 ('trained_model', KMeans(n_clusters=4, random_state=123))]),\n",
       " 'my_first_model.pkl')"
      ]
     },
     "execution_count": 42,
     "metadata": {},
     "output_type": "execute_result"
    }
   ],
   "source": [
    "# save model\n",
    "save_model(kmeans, 'my_first_model')"
   ]
  },
  {
   "cell_type": "code",
   "execution_count": 43,
   "id": "e8478d34",
   "metadata": {
    "execution": {
     "iopub.execute_input": "2025-10-22T20:40:07.606795Z",
     "iopub.status.busy": "2025-10-22T20:40:07.606727Z",
     "iopub.status.idle": "2025-10-22T20:40:07.622873Z",
     "shell.execute_reply": "2025-10-22T20:40:07.622433Z"
    }
   },
   "outputs": [
    {
     "name": "stdout",
     "output_type": "stream",
     "text": [
      "Transformation Pipeline and Model Successfully Loaded\n"
     ]
    },
    {
     "data": {
      "text/html": [
       "<style>#sk-container-id-3 {\n",
       "  /* Definition of color scheme common for light and dark mode */\n",
       "  --sklearn-color-text: black;\n",
       "  --sklearn-color-line: gray;\n",
       "  /* Definition of color scheme for unfitted estimators */\n",
       "  --sklearn-color-unfitted-level-0: #fff5e6;\n",
       "  --sklearn-color-unfitted-level-1: #f6e4d2;\n",
       "  --sklearn-color-unfitted-level-2: #ffe0b3;\n",
       "  --sklearn-color-unfitted-level-3: chocolate;\n",
       "  /* Definition of color scheme for fitted estimators */\n",
       "  --sklearn-color-fitted-level-0: #f0f8ff;\n",
       "  --sklearn-color-fitted-level-1: #d4ebff;\n",
       "  --sklearn-color-fitted-level-2: #b3dbfd;\n",
       "  --sklearn-color-fitted-level-3: cornflowerblue;\n",
       "\n",
       "  /* Specific color for light theme */\n",
       "  --sklearn-color-text-on-default-background: var(--sg-text-color, var(--theme-code-foreground, var(--jp-content-font-color1, black)));\n",
       "  --sklearn-color-background: var(--sg-background-color, var(--theme-background, var(--jp-layout-color0, white)));\n",
       "  --sklearn-color-border-box: var(--sg-text-color, var(--theme-code-foreground, var(--jp-content-font-color1, black)));\n",
       "  --sklearn-color-icon: #696969;\n",
       "\n",
       "  @media (prefers-color-scheme: dark) {\n",
       "    /* Redefinition of color scheme for dark theme */\n",
       "    --sklearn-color-text-on-default-background: var(--sg-text-color, var(--theme-code-foreground, var(--jp-content-font-color1, white)));\n",
       "    --sklearn-color-background: var(--sg-background-color, var(--theme-background, var(--jp-layout-color0, #111)));\n",
       "    --sklearn-color-border-box: var(--sg-text-color, var(--theme-code-foreground, var(--jp-content-font-color1, white)));\n",
       "    --sklearn-color-icon: #878787;\n",
       "  }\n",
       "}\n",
       "\n",
       "#sk-container-id-3 {\n",
       "  color: var(--sklearn-color-text);\n",
       "}\n",
       "\n",
       "#sk-container-id-3 pre {\n",
       "  padding: 0;\n",
       "}\n",
       "\n",
       "#sk-container-id-3 input.sk-hidden--visually {\n",
       "  border: 0;\n",
       "  clip: rect(1px 1px 1px 1px);\n",
       "  clip: rect(1px, 1px, 1px, 1px);\n",
       "  height: 1px;\n",
       "  margin: -1px;\n",
       "  overflow: hidden;\n",
       "  padding: 0;\n",
       "  position: absolute;\n",
       "  width: 1px;\n",
       "}\n",
       "\n",
       "#sk-container-id-3 div.sk-dashed-wrapped {\n",
       "  border: 1px dashed var(--sklearn-color-line);\n",
       "  margin: 0 0.4em 0.5em 0.4em;\n",
       "  box-sizing: border-box;\n",
       "  padding-bottom: 0.4em;\n",
       "  background-color: var(--sklearn-color-background);\n",
       "}\n",
       "\n",
       "#sk-container-id-3 div.sk-container {\n",
       "  /* jupyter's `normalize.less` sets `[hidden] { display: none; }`\n",
       "     but bootstrap.min.css set `[hidden] { display: none !important; }`\n",
       "     so we also need the `!important` here to be able to override the\n",
       "     default hidden behavior on the sphinx rendered scikit-learn.org.\n",
       "     See: https://github.com/scikit-learn/scikit-learn/issues/21755 */\n",
       "  display: inline-block !important;\n",
       "  position: relative;\n",
       "}\n",
       "\n",
       "#sk-container-id-3 div.sk-text-repr-fallback {\n",
       "  display: none;\n",
       "}\n",
       "\n",
       "div.sk-parallel-item,\n",
       "div.sk-serial,\n",
       "div.sk-item {\n",
       "  /* draw centered vertical line to link estimators */\n",
       "  background-image: linear-gradient(var(--sklearn-color-text-on-default-background), var(--sklearn-color-text-on-default-background));\n",
       "  background-size: 2px 100%;\n",
       "  background-repeat: no-repeat;\n",
       "  background-position: center center;\n",
       "}\n",
       "\n",
       "/* Parallel-specific style estimator block */\n",
       "\n",
       "#sk-container-id-3 div.sk-parallel-item::after {\n",
       "  content: \"\";\n",
       "  width: 100%;\n",
       "  border-bottom: 2px solid var(--sklearn-color-text-on-default-background);\n",
       "  flex-grow: 1;\n",
       "}\n",
       "\n",
       "#sk-container-id-3 div.sk-parallel {\n",
       "  display: flex;\n",
       "  align-items: stretch;\n",
       "  justify-content: center;\n",
       "  background-color: var(--sklearn-color-background);\n",
       "  position: relative;\n",
       "}\n",
       "\n",
       "#sk-container-id-3 div.sk-parallel-item {\n",
       "  display: flex;\n",
       "  flex-direction: column;\n",
       "}\n",
       "\n",
       "#sk-container-id-3 div.sk-parallel-item:first-child::after {\n",
       "  align-self: flex-end;\n",
       "  width: 50%;\n",
       "}\n",
       "\n",
       "#sk-container-id-3 div.sk-parallel-item:last-child::after {\n",
       "  align-self: flex-start;\n",
       "  width: 50%;\n",
       "}\n",
       "\n",
       "#sk-container-id-3 div.sk-parallel-item:only-child::after {\n",
       "  width: 0;\n",
       "}\n",
       "\n",
       "/* Serial-specific style estimator block */\n",
       "\n",
       "#sk-container-id-3 div.sk-serial {\n",
       "  display: flex;\n",
       "  flex-direction: column;\n",
       "  align-items: center;\n",
       "  background-color: var(--sklearn-color-background);\n",
       "  padding-right: 1em;\n",
       "  padding-left: 1em;\n",
       "}\n",
       "\n",
       "\n",
       "/* Toggleable style: style used for estimator/Pipeline/ColumnTransformer box that is\n",
       "clickable and can be expanded/collapsed.\n",
       "- Pipeline and ColumnTransformer use this feature and define the default style\n",
       "- Estimators will overwrite some part of the style using the `sk-estimator` class\n",
       "*/\n",
       "\n",
       "/* Pipeline and ColumnTransformer style (default) */\n",
       "\n",
       "#sk-container-id-3 div.sk-toggleable {\n",
       "  /* Default theme specific background. It is overwritten whether we have a\n",
       "  specific estimator or a Pipeline/ColumnTransformer */\n",
       "  background-color: var(--sklearn-color-background);\n",
       "}\n",
       "\n",
       "/* Toggleable label */\n",
       "#sk-container-id-3 label.sk-toggleable__label {\n",
       "  cursor: pointer;\n",
       "  display: block;\n",
       "  width: 100%;\n",
       "  margin-bottom: 0;\n",
       "  padding: 0.5em;\n",
       "  box-sizing: border-box;\n",
       "  text-align: center;\n",
       "}\n",
       "\n",
       "#sk-container-id-3 label.sk-toggleable__label-arrow:before {\n",
       "  /* Arrow on the left of the label */\n",
       "  content: \"▸\";\n",
       "  float: left;\n",
       "  margin-right: 0.25em;\n",
       "  color: var(--sklearn-color-icon);\n",
       "}\n",
       "\n",
       "#sk-container-id-3 label.sk-toggleable__label-arrow:hover:before {\n",
       "  color: var(--sklearn-color-text);\n",
       "}\n",
       "\n",
       "/* Toggleable content - dropdown */\n",
       "\n",
       "#sk-container-id-3 div.sk-toggleable__content {\n",
       "  max-height: 0;\n",
       "  max-width: 0;\n",
       "  overflow: hidden;\n",
       "  text-align: left;\n",
       "  /* unfitted */\n",
       "  background-color: var(--sklearn-color-unfitted-level-0);\n",
       "}\n",
       "\n",
       "#sk-container-id-3 div.sk-toggleable__content.fitted {\n",
       "  /* fitted */\n",
       "  background-color: var(--sklearn-color-fitted-level-0);\n",
       "}\n",
       "\n",
       "#sk-container-id-3 div.sk-toggleable__content pre {\n",
       "  margin: 0.2em;\n",
       "  border-radius: 0.25em;\n",
       "  color: var(--sklearn-color-text);\n",
       "  /* unfitted */\n",
       "  background-color: var(--sklearn-color-unfitted-level-0);\n",
       "}\n",
       "\n",
       "#sk-container-id-3 div.sk-toggleable__content.fitted pre {\n",
       "  /* unfitted */\n",
       "  background-color: var(--sklearn-color-fitted-level-0);\n",
       "}\n",
       "\n",
       "#sk-container-id-3 input.sk-toggleable__control:checked~div.sk-toggleable__content {\n",
       "  /* Expand drop-down */\n",
       "  max-height: 200px;\n",
       "  max-width: 100%;\n",
       "  overflow: auto;\n",
       "}\n",
       "\n",
       "#sk-container-id-3 input.sk-toggleable__control:checked~label.sk-toggleable__label-arrow:before {\n",
       "  content: \"▾\";\n",
       "}\n",
       "\n",
       "/* Pipeline/ColumnTransformer-specific style */\n",
       "\n",
       "#sk-container-id-3 div.sk-label input.sk-toggleable__control:checked~label.sk-toggleable__label {\n",
       "  color: var(--sklearn-color-text);\n",
       "  background-color: var(--sklearn-color-unfitted-level-2);\n",
       "}\n",
       "\n",
       "#sk-container-id-3 div.sk-label.fitted input.sk-toggleable__control:checked~label.sk-toggleable__label {\n",
       "  background-color: var(--sklearn-color-fitted-level-2);\n",
       "}\n",
       "\n",
       "/* Estimator-specific style */\n",
       "\n",
       "/* Colorize estimator box */\n",
       "#sk-container-id-3 div.sk-estimator input.sk-toggleable__control:checked~label.sk-toggleable__label {\n",
       "  /* unfitted */\n",
       "  background-color: var(--sklearn-color-unfitted-level-2);\n",
       "}\n",
       "\n",
       "#sk-container-id-3 div.sk-estimator.fitted input.sk-toggleable__control:checked~label.sk-toggleable__label {\n",
       "  /* fitted */\n",
       "  background-color: var(--sklearn-color-fitted-level-2);\n",
       "}\n",
       "\n",
       "#sk-container-id-3 div.sk-label label.sk-toggleable__label,\n",
       "#sk-container-id-3 div.sk-label label {\n",
       "  /* The background is the default theme color */\n",
       "  color: var(--sklearn-color-text-on-default-background);\n",
       "}\n",
       "\n",
       "/* On hover, darken the color of the background */\n",
       "#sk-container-id-3 div.sk-label:hover label.sk-toggleable__label {\n",
       "  color: var(--sklearn-color-text);\n",
       "  background-color: var(--sklearn-color-unfitted-level-2);\n",
       "}\n",
       "\n",
       "/* Label box, darken color on hover, fitted */\n",
       "#sk-container-id-3 div.sk-label.fitted:hover label.sk-toggleable__label.fitted {\n",
       "  color: var(--sklearn-color-text);\n",
       "  background-color: var(--sklearn-color-fitted-level-2);\n",
       "}\n",
       "\n",
       "/* Estimator label */\n",
       "\n",
       "#sk-container-id-3 div.sk-label label {\n",
       "  font-family: monospace;\n",
       "  font-weight: bold;\n",
       "  display: inline-block;\n",
       "  line-height: 1.2em;\n",
       "}\n",
       "\n",
       "#sk-container-id-3 div.sk-label-container {\n",
       "  text-align: center;\n",
       "}\n",
       "\n",
       "/* Estimator-specific */\n",
       "#sk-container-id-3 div.sk-estimator {\n",
       "  font-family: monospace;\n",
       "  border: 1px dotted var(--sklearn-color-border-box);\n",
       "  border-radius: 0.25em;\n",
       "  box-sizing: border-box;\n",
       "  margin-bottom: 0.5em;\n",
       "  /* unfitted */\n",
       "  background-color: var(--sklearn-color-unfitted-level-0);\n",
       "}\n",
       "\n",
       "#sk-container-id-3 div.sk-estimator.fitted {\n",
       "  /* fitted */\n",
       "  background-color: var(--sklearn-color-fitted-level-0);\n",
       "}\n",
       "\n",
       "/* on hover */\n",
       "#sk-container-id-3 div.sk-estimator:hover {\n",
       "  /* unfitted */\n",
       "  background-color: var(--sklearn-color-unfitted-level-2);\n",
       "}\n",
       "\n",
       "#sk-container-id-3 div.sk-estimator.fitted:hover {\n",
       "  /* fitted */\n",
       "  background-color: var(--sklearn-color-fitted-level-2);\n",
       "}\n",
       "\n",
       "/* Specification for estimator info (e.g. \"i\" and \"?\") */\n",
       "\n",
       "/* Common style for \"i\" and \"?\" */\n",
       "\n",
       ".sk-estimator-doc-link,\n",
       "a:link.sk-estimator-doc-link,\n",
       "a:visited.sk-estimator-doc-link {\n",
       "  float: right;\n",
       "  font-size: smaller;\n",
       "  line-height: 1em;\n",
       "  font-family: monospace;\n",
       "  background-color: var(--sklearn-color-background);\n",
       "  border-radius: 1em;\n",
       "  height: 1em;\n",
       "  width: 1em;\n",
       "  text-decoration: none !important;\n",
       "  margin-left: 1ex;\n",
       "  /* unfitted */\n",
       "  border: var(--sklearn-color-unfitted-level-1) 1pt solid;\n",
       "  color: var(--sklearn-color-unfitted-level-1);\n",
       "}\n",
       "\n",
       ".sk-estimator-doc-link.fitted,\n",
       "a:link.sk-estimator-doc-link.fitted,\n",
       "a:visited.sk-estimator-doc-link.fitted {\n",
       "  /* fitted */\n",
       "  border: var(--sklearn-color-fitted-level-1) 1pt solid;\n",
       "  color: var(--sklearn-color-fitted-level-1);\n",
       "}\n",
       "\n",
       "/* On hover */\n",
       "div.sk-estimator:hover .sk-estimator-doc-link:hover,\n",
       ".sk-estimator-doc-link:hover,\n",
       "div.sk-label-container:hover .sk-estimator-doc-link:hover,\n",
       ".sk-estimator-doc-link:hover {\n",
       "  /* unfitted */\n",
       "  background-color: var(--sklearn-color-unfitted-level-3);\n",
       "  color: var(--sklearn-color-background);\n",
       "  text-decoration: none;\n",
       "}\n",
       "\n",
       "div.sk-estimator.fitted:hover .sk-estimator-doc-link.fitted:hover,\n",
       ".sk-estimator-doc-link.fitted:hover,\n",
       "div.sk-label-container:hover .sk-estimator-doc-link.fitted:hover,\n",
       ".sk-estimator-doc-link.fitted:hover {\n",
       "  /* fitted */\n",
       "  background-color: var(--sklearn-color-fitted-level-3);\n",
       "  color: var(--sklearn-color-background);\n",
       "  text-decoration: none;\n",
       "}\n",
       "\n",
       "/* Span, style for the box shown on hovering the info icon */\n",
       ".sk-estimator-doc-link span {\n",
       "  display: none;\n",
       "  z-index: 9999;\n",
       "  position: relative;\n",
       "  font-weight: normal;\n",
       "  right: .2ex;\n",
       "  padding: .5ex;\n",
       "  margin: .5ex;\n",
       "  width: min-content;\n",
       "  min-width: 20ex;\n",
       "  max-width: 50ex;\n",
       "  color: var(--sklearn-color-text);\n",
       "  box-shadow: 2pt 2pt 4pt #999;\n",
       "  /* unfitted */\n",
       "  background: var(--sklearn-color-unfitted-level-0);\n",
       "  border: .5pt solid var(--sklearn-color-unfitted-level-3);\n",
       "}\n",
       "\n",
       ".sk-estimator-doc-link.fitted span {\n",
       "  /* fitted */\n",
       "  background: var(--sklearn-color-fitted-level-0);\n",
       "  border: var(--sklearn-color-fitted-level-3);\n",
       "}\n",
       "\n",
       ".sk-estimator-doc-link:hover span {\n",
       "  display: block;\n",
       "}\n",
       "\n",
       "/* \"?\"-specific style due to the `<a>` HTML tag */\n",
       "\n",
       "#sk-container-id-3 a.estimator_doc_link {\n",
       "  float: right;\n",
       "  font-size: 1rem;\n",
       "  line-height: 1em;\n",
       "  font-family: monospace;\n",
       "  background-color: var(--sklearn-color-background);\n",
       "  border-radius: 1rem;\n",
       "  height: 1rem;\n",
       "  width: 1rem;\n",
       "  text-decoration: none;\n",
       "  /* unfitted */\n",
       "  color: var(--sklearn-color-unfitted-level-1);\n",
       "  border: var(--sklearn-color-unfitted-level-1) 1pt solid;\n",
       "}\n",
       "\n",
       "#sk-container-id-3 a.estimator_doc_link.fitted {\n",
       "  /* fitted */\n",
       "  border: var(--sklearn-color-fitted-level-1) 1pt solid;\n",
       "  color: var(--sklearn-color-fitted-level-1);\n",
       "}\n",
       "\n",
       "/* On hover */\n",
       "#sk-container-id-3 a.estimator_doc_link:hover {\n",
       "  /* unfitted */\n",
       "  background-color: var(--sklearn-color-unfitted-level-3);\n",
       "  color: var(--sklearn-color-background);\n",
       "  text-decoration: none;\n",
       "}\n",
       "\n",
       "#sk-container-id-3 a.estimator_doc_link.fitted:hover {\n",
       "  /* fitted */\n",
       "  background-color: var(--sklearn-color-fitted-level-3);\n",
       "}\n",
       "</style><div id=\"sk-container-id-3\" class=\"sk-top-container\"><div class=\"sk-text-repr-fallback\"><pre>Pipeline(memory=FastMemory(location=/var/folders/rb/x53pz7wd0p5d7v_0cv61x9_h0000gn/T/joblib),\n",
       "         steps=[(&#x27;numerical_imputer&#x27;,\n",
       "                 TransformerWrapper(include=[&#x27;CustomerID&#x27;, &#x27;Age&#x27;,\n",
       "                                             &#x27;Annual Income (k$)&#x27;,\n",
       "                                             &#x27;Spending Score (1-100)&#x27;],\n",
       "                                    transformer=SimpleImputer())),\n",
       "                (&#x27;categorical_imputer&#x27;,\n",
       "                 TransformerWrapper(include=[&#x27;Gender&#x27;],\n",
       "                                    transformer=SimpleImputer(strategy=&#x27;most_frequent&#x27;))),\n",
       "                (&#x27;ordinal_encoding&#x27;,\n",
       "                 TransformerWrapper(include=[&#x27;Gender&#x27;],\n",
       "                                    transformer=OrdinalEncoder(cols=[&#x27;Gender&#x27;],\n",
       "                                                               handle_missing=&#x27;return_nan&#x27;,\n",
       "                                                               mapping=[{&#x27;col&#x27;: &#x27;Gender&#x27;,\n",
       "                                                                         &#x27;data_type&#x27;: dtype(&#x27;O&#x27;),\n",
       "                                                                         &#x27;mapping&#x27;: Female    0\n",
       "Male      1\n",
       "NaN      -1\n",
       "dtype: int64}]))),\n",
       "                (&#x27;normalize&#x27;, TransformerWrapper(transformer=MinMaxScaler())),\n",
       "                (&#x27;trained_model&#x27;, KMeans(n_clusters=4, random_state=123))])</pre><b>In a Jupyter environment, please rerun this cell to show the HTML representation or trust the notebook. <br />On GitHub, the HTML representation is unable to render, please try loading this page with nbviewer.org.</b></div><div class=\"sk-container\" hidden><div class=\"sk-item sk-dashed-wrapped\"><div class=\"sk-label-container\"><div class=\"sk-label fitted sk-toggleable\"><input class=\"sk-toggleable__control sk-hidden--visually\" id=\"sk-estimator-id-13\" type=\"checkbox\" ><label for=\"sk-estimator-id-13\" class=\"sk-toggleable__label fitted sk-toggleable__label-arrow fitted\">&nbsp;Pipeline<span class=\"sk-estimator-doc-link fitted\">i<span>Fitted</span></span></label><div class=\"sk-toggleable__content fitted\"><pre>Pipeline(memory=FastMemory(location=/var/folders/rb/x53pz7wd0p5d7v_0cv61x9_h0000gn/T/joblib),\n",
       "         steps=[(&#x27;numerical_imputer&#x27;,\n",
       "                 TransformerWrapper(include=[&#x27;CustomerID&#x27;, &#x27;Age&#x27;,\n",
       "                                             &#x27;Annual Income (k$)&#x27;,\n",
       "                                             &#x27;Spending Score (1-100)&#x27;],\n",
       "                                    transformer=SimpleImputer())),\n",
       "                (&#x27;categorical_imputer&#x27;,\n",
       "                 TransformerWrapper(include=[&#x27;Gender&#x27;],\n",
       "                                    transformer=SimpleImputer(strategy=&#x27;most_frequent&#x27;))),\n",
       "                (&#x27;ordinal_encoding&#x27;,\n",
       "                 TransformerWrapper(include=[&#x27;Gender&#x27;],\n",
       "                                    transformer=OrdinalEncoder(cols=[&#x27;Gender&#x27;],\n",
       "                                                               handle_missing=&#x27;return_nan&#x27;,\n",
       "                                                               mapping=[{&#x27;col&#x27;: &#x27;Gender&#x27;,\n",
       "                                                                         &#x27;data_type&#x27;: dtype(&#x27;O&#x27;),\n",
       "                                                                         &#x27;mapping&#x27;: Female    0\n",
       "Male      1\n",
       "NaN      -1\n",
       "dtype: int64}]))),\n",
       "                (&#x27;normalize&#x27;, TransformerWrapper(transformer=MinMaxScaler())),\n",
       "                (&#x27;trained_model&#x27;, KMeans(n_clusters=4, random_state=123))])</pre></div> </div></div><div class=\"sk-serial\"><div class=\"sk-item sk-dashed-wrapped\"><div class=\"sk-label-container\"><div class=\"sk-label fitted sk-toggleable\"><input class=\"sk-toggleable__control sk-hidden--visually\" id=\"sk-estimator-id-14\" type=\"checkbox\" ><label for=\"sk-estimator-id-14\" class=\"sk-toggleable__label fitted sk-toggleable__label-arrow fitted\">numerical_imputer: TransformerWrapper</label><div class=\"sk-toggleable__content fitted\"><pre>TransformerWrapper(include=[&#x27;CustomerID&#x27;, &#x27;Age&#x27;, &#x27;Annual Income (k$)&#x27;,\n",
       "                            &#x27;Spending Score (1-100)&#x27;],\n",
       "                   transformer=SimpleImputer())</pre></div> </div></div><div class=\"sk-parallel\"><div class=\"sk-parallel-item\"><div class=\"sk-item\"><div class=\"sk-label-container\"><div class=\"sk-label fitted sk-toggleable\"><input class=\"sk-toggleable__control sk-hidden--visually\" id=\"sk-estimator-id-15\" type=\"checkbox\" ><label for=\"sk-estimator-id-15\" class=\"sk-toggleable__label fitted sk-toggleable__label-arrow fitted\">transformer: SimpleImputer</label><div class=\"sk-toggleable__content fitted\"><pre>SimpleImputer()</pre></div> </div></div><div class=\"sk-serial\"><div class=\"sk-item\"><div class=\"sk-estimator fitted sk-toggleable\"><input class=\"sk-toggleable__control sk-hidden--visually\" id=\"sk-estimator-id-16\" type=\"checkbox\" ><label for=\"sk-estimator-id-16\" class=\"sk-toggleable__label fitted sk-toggleable__label-arrow fitted\">&nbsp;SimpleImputer<a class=\"sk-estimator-doc-link fitted\" rel=\"noreferrer\" target=\"_blank\" href=\"https://scikit-learn.org/1.4/modules/generated/sklearn.impute.SimpleImputer.html\">?<span>Documentation for SimpleImputer</span></a></label><div class=\"sk-toggleable__content fitted\"><pre>SimpleImputer()</pre></div> </div></div></div></div></div></div></div><div class=\"sk-item sk-dashed-wrapped\"><div class=\"sk-label-container\"><div class=\"sk-label fitted sk-toggleable\"><input class=\"sk-toggleable__control sk-hidden--visually\" id=\"sk-estimator-id-17\" type=\"checkbox\" ><label for=\"sk-estimator-id-17\" class=\"sk-toggleable__label fitted sk-toggleable__label-arrow fitted\">categorical_imputer: TransformerWrapper</label><div class=\"sk-toggleable__content fitted\"><pre>TransformerWrapper(include=[&#x27;Gender&#x27;],\n",
       "                   transformer=SimpleImputer(strategy=&#x27;most_frequent&#x27;))</pre></div> </div></div><div class=\"sk-parallel\"><div class=\"sk-parallel-item\"><div class=\"sk-item\"><div class=\"sk-label-container\"><div class=\"sk-label fitted sk-toggleable\"><input class=\"sk-toggleable__control sk-hidden--visually\" id=\"sk-estimator-id-18\" type=\"checkbox\" ><label for=\"sk-estimator-id-18\" class=\"sk-toggleable__label fitted sk-toggleable__label-arrow fitted\">transformer: SimpleImputer</label><div class=\"sk-toggleable__content fitted\"><pre>SimpleImputer(strategy=&#x27;most_frequent&#x27;)</pre></div> </div></div><div class=\"sk-serial\"><div class=\"sk-item\"><div class=\"sk-estimator fitted sk-toggleable\"><input class=\"sk-toggleable__control sk-hidden--visually\" id=\"sk-estimator-id-19\" type=\"checkbox\" ><label for=\"sk-estimator-id-19\" class=\"sk-toggleable__label fitted sk-toggleable__label-arrow fitted\">&nbsp;SimpleImputer<a class=\"sk-estimator-doc-link fitted\" rel=\"noreferrer\" target=\"_blank\" href=\"https://scikit-learn.org/1.4/modules/generated/sklearn.impute.SimpleImputer.html\">?<span>Documentation for SimpleImputer</span></a></label><div class=\"sk-toggleable__content fitted\"><pre>SimpleImputer(strategy=&#x27;most_frequent&#x27;)</pre></div> </div></div></div></div></div></div></div><div class=\"sk-item sk-dashed-wrapped\"><div class=\"sk-label-container\"><div class=\"sk-label fitted sk-toggleable\"><input class=\"sk-toggleable__control sk-hidden--visually\" id=\"sk-estimator-id-20\" type=\"checkbox\" ><label for=\"sk-estimator-id-20\" class=\"sk-toggleable__label fitted sk-toggleable__label-arrow fitted\">ordinal_encoding: TransformerWrapper</label><div class=\"sk-toggleable__content fitted\"><pre>TransformerWrapper(include=[&#x27;Gender&#x27;],\n",
       "                   transformer=OrdinalEncoder(cols=[&#x27;Gender&#x27;],\n",
       "                                              handle_missing=&#x27;return_nan&#x27;,\n",
       "                                              mapping=[{&#x27;col&#x27;: &#x27;Gender&#x27;,\n",
       "                                                        &#x27;data_type&#x27;: dtype(&#x27;O&#x27;),\n",
       "                                                        &#x27;mapping&#x27;: Female    0\n",
       "Male      1\n",
       "NaN      -1\n",
       "dtype: int64}]))</pre></div> </div></div><div class=\"sk-parallel\"><div class=\"sk-parallel-item\"><div class=\"sk-item\"><div class=\"sk-label-container\"><div class=\"sk-label fitted sk-toggleable\"><input class=\"sk-toggleable__control sk-hidden--visually\" id=\"sk-estimator-id-21\" type=\"checkbox\" ><label for=\"sk-estimator-id-21\" class=\"sk-toggleable__label fitted sk-toggleable__label-arrow fitted\">transformer: OrdinalEncoder</label><div class=\"sk-toggleable__content fitted\"><pre>OrdinalEncoder(cols=[&#x27;Gender&#x27;], handle_missing=&#x27;return_nan&#x27;,\n",
       "               mapping=[{&#x27;col&#x27;: &#x27;Gender&#x27;, &#x27;data_type&#x27;: dtype(&#x27;O&#x27;),\n",
       "                         &#x27;mapping&#x27;: Female    0\n",
       "Male      1\n",
       "NaN      -1\n",
       "dtype: int64}])</pre></div> </div></div><div class=\"sk-serial\"><div class=\"sk-item\"><div class=\"sk-estimator fitted sk-toggleable\"><input class=\"sk-toggleable__control sk-hidden--visually\" id=\"sk-estimator-id-22\" type=\"checkbox\" ><label for=\"sk-estimator-id-22\" class=\"sk-toggleable__label fitted sk-toggleable__label-arrow fitted\">OrdinalEncoder</label><div class=\"sk-toggleable__content fitted\"><pre>OrdinalEncoder(cols=[&#x27;Gender&#x27;], handle_missing=&#x27;return_nan&#x27;,\n",
       "               mapping=[{&#x27;col&#x27;: &#x27;Gender&#x27;, &#x27;data_type&#x27;: dtype(&#x27;O&#x27;),\n",
       "                         &#x27;mapping&#x27;: Female    0\n",
       "Male      1\n",
       "NaN      -1\n",
       "dtype: int64}])</pre></div> </div></div></div></div></div></div></div><div class=\"sk-item sk-dashed-wrapped\"><div class=\"sk-label-container\"><div class=\"sk-label fitted sk-toggleable\"><input class=\"sk-toggleable__control sk-hidden--visually\" id=\"sk-estimator-id-23\" type=\"checkbox\" ><label for=\"sk-estimator-id-23\" class=\"sk-toggleable__label fitted sk-toggleable__label-arrow fitted\">normalize: TransformerWrapper</label><div class=\"sk-toggleable__content fitted\"><pre>TransformerWrapper(transformer=MinMaxScaler())</pre></div> </div></div><div class=\"sk-parallel\"><div class=\"sk-parallel-item\"><div class=\"sk-item\"><div class=\"sk-label-container\"><div class=\"sk-label fitted sk-toggleable\"><input class=\"sk-toggleable__control sk-hidden--visually\" id=\"sk-estimator-id-24\" type=\"checkbox\" ><label for=\"sk-estimator-id-24\" class=\"sk-toggleable__label fitted sk-toggleable__label-arrow fitted\">transformer: MinMaxScaler</label><div class=\"sk-toggleable__content fitted\"><pre>MinMaxScaler()</pre></div> </div></div><div class=\"sk-serial\"><div class=\"sk-item\"><div class=\"sk-estimator fitted sk-toggleable\"><input class=\"sk-toggleable__control sk-hidden--visually\" id=\"sk-estimator-id-25\" type=\"checkbox\" ><label for=\"sk-estimator-id-25\" class=\"sk-toggleable__label fitted sk-toggleable__label-arrow fitted\">&nbsp;MinMaxScaler<a class=\"sk-estimator-doc-link fitted\" rel=\"noreferrer\" target=\"_blank\" href=\"https://scikit-learn.org/1.4/modules/generated/sklearn.preprocessing.MinMaxScaler.html\">?<span>Documentation for MinMaxScaler</span></a></label><div class=\"sk-toggleable__content fitted\"><pre>MinMaxScaler()</pre></div> </div></div></div></div></div></div></div><div class=\"sk-item\"><div class=\"sk-estimator fitted sk-toggleable\"><input class=\"sk-toggleable__control sk-hidden--visually\" id=\"sk-estimator-id-26\" type=\"checkbox\" ><label for=\"sk-estimator-id-26\" class=\"sk-toggleable__label fitted sk-toggleable__label-arrow fitted\">&nbsp;KMeans<a class=\"sk-estimator-doc-link fitted\" rel=\"noreferrer\" target=\"_blank\" href=\"https://scikit-learn.org/1.4/modules/generated/sklearn.cluster.KMeans.html\">?<span>Documentation for KMeans</span></a></label><div class=\"sk-toggleable__content fitted\"><pre>KMeans(n_clusters=4, random_state=123)</pre></div> </div></div></div></div></div></div>"
      ],
      "text/plain": [
       "Pipeline(memory=FastMemory(location=/var/folders/rb/x53pz7wd0p5d7v_0cv61x9_h0000gn/T/joblib),\n",
       "         steps=[('numerical_imputer',\n",
       "                 TransformerWrapper(include=['CustomerID', 'Age',\n",
       "                                             'Annual Income (k$)',\n",
       "                                             'Spending Score (1-100)'],\n",
       "                                    transformer=SimpleImputer())),\n",
       "                ('categorical_imputer',\n",
       "                 TransformerWrapper(include=['Gender'],\n",
       "                                    transformer=SimpleImputer(strategy='most_frequent'))),\n",
       "                ('ordinal_encoding',\n",
       "                 TransformerWrapper(include=['Gender'],\n",
       "                                    transformer=OrdinalEncoder(cols=['Gender'],\n",
       "                                                               handle_missing='return_nan',\n",
       "                                                               mapping=[{'col': 'Gender',\n",
       "                                                                         'data_type': dtype('O'),\n",
       "                                                                         'mapping': Female    0\n",
       "Male      1\n",
       "NaN      -1\n",
       "dtype: int64}]))),\n",
       "                ('normalize', TransformerWrapper(transformer=MinMaxScaler())),\n",
       "                ('trained_model', KMeans(n_clusters=4, random_state=123))])"
      ]
     },
     "execution_count": 43,
     "metadata": {},
     "output_type": "execute_result"
    }
   ],
   "source": [
    "# load model\n",
    "loaded_from_disk = load_model('my_first_model')\n",
    "loaded_from_disk"
   ]
  },
  {
   "cell_type": "markdown",
   "id": "de5eee8c",
   "metadata": {},
   "source": [
    "## ✅ Save / Load Experiment\n",
    "This function saves all the experiment variables on disk, allowing to later resume without rerunning the setup function."
   ]
  },
  {
   "cell_type": "code",
   "execution_count": 44,
   "id": "6a3c61b6",
   "metadata": {
    "execution": {
     "iopub.execute_input": "2025-10-22T20:40:07.623851Z",
     "iopub.status.busy": "2025-10-22T20:40:07.623788Z",
     "iopub.status.idle": "2025-10-22T20:40:07.626369Z",
     "shell.execute_reply": "2025-10-22T20:40:07.625986Z"
    }
   },
   "outputs": [],
   "source": [
    "# save experiment\n",
    "save_experiment('my_experiment')"
   ]
  },
  {
   "cell_type": "code",
   "execution_count": 45,
   "id": "83252c09",
   "metadata": {
    "execution": {
     "iopub.execute_input": "2025-10-22T20:40:07.627331Z",
     "iopub.status.busy": "2025-10-22T20:40:07.627270Z",
     "iopub.status.idle": "2025-10-22T20:40:07.662258Z",
     "shell.execute_reply": "2025-10-22T20:40:07.661861Z"
    }
   },
   "outputs": [
    {
     "data": {
      "text/html": [
       "<style type=\"text/css\">\n",
       "#T_0386a_row5_col1, #T_0386a_row11_col1 {\n",
       "  background-color: lightgreen;\n",
       "}\n",
       "</style>\n",
       "<table id=\"T_0386a\">\n",
       "  <thead>\n",
       "    <tr>\n",
       "      <th class=\"blank level0\" >&nbsp;</th>\n",
       "      <th id=\"T_0386a_level0_col0\" class=\"col_heading level0 col0\" >Description</th>\n",
       "      <th id=\"T_0386a_level0_col1\" class=\"col_heading level0 col1\" >Value</th>\n",
       "    </tr>\n",
       "  </thead>\n",
       "  <tbody>\n",
       "    <tr>\n",
       "      <th id=\"T_0386a_level0_row0\" class=\"row_heading level0 row0\" >0</th>\n",
       "      <td id=\"T_0386a_row0_col0\" class=\"data row0 col0\" >Session id</td>\n",
       "      <td id=\"T_0386a_row0_col1\" class=\"data row0 col1\" >123</td>\n",
       "    </tr>\n",
       "    <tr>\n",
       "      <th id=\"T_0386a_level0_row1\" class=\"row_heading level0 row1\" >1</th>\n",
       "      <td id=\"T_0386a_row1_col0\" class=\"data row1 col0\" >Original data shape</td>\n",
       "      <td id=\"T_0386a_row1_col1\" class=\"data row1 col1\" >(200, 5)</td>\n",
       "    </tr>\n",
       "    <tr>\n",
       "      <th id=\"T_0386a_level0_row2\" class=\"row_heading level0 row2\" >2</th>\n",
       "      <td id=\"T_0386a_row2_col0\" class=\"data row2 col0\" >Transformed data shape</td>\n",
       "      <td id=\"T_0386a_row2_col1\" class=\"data row2 col1\" >(200, 5)</td>\n",
       "    </tr>\n",
       "    <tr>\n",
       "      <th id=\"T_0386a_level0_row3\" class=\"row_heading level0 row3\" >3</th>\n",
       "      <td id=\"T_0386a_row3_col0\" class=\"data row3 col0\" >Numeric features</td>\n",
       "      <td id=\"T_0386a_row3_col1\" class=\"data row3 col1\" >4</td>\n",
       "    </tr>\n",
       "    <tr>\n",
       "      <th id=\"T_0386a_level0_row4\" class=\"row_heading level0 row4\" >4</th>\n",
       "      <td id=\"T_0386a_row4_col0\" class=\"data row4 col0\" >Categorical features</td>\n",
       "      <td id=\"T_0386a_row4_col1\" class=\"data row4 col1\" >1</td>\n",
       "    </tr>\n",
       "    <tr>\n",
       "      <th id=\"T_0386a_level0_row5\" class=\"row_heading level0 row5\" >5</th>\n",
       "      <td id=\"T_0386a_row5_col0\" class=\"data row5 col0\" >Preprocess</td>\n",
       "      <td id=\"T_0386a_row5_col1\" class=\"data row5 col1\" >True</td>\n",
       "    </tr>\n",
       "    <tr>\n",
       "      <th id=\"T_0386a_level0_row6\" class=\"row_heading level0 row6\" >6</th>\n",
       "      <td id=\"T_0386a_row6_col0\" class=\"data row6 col0\" >Imputation type</td>\n",
       "      <td id=\"T_0386a_row6_col1\" class=\"data row6 col1\" >simple</td>\n",
       "    </tr>\n",
       "    <tr>\n",
       "      <th id=\"T_0386a_level0_row7\" class=\"row_heading level0 row7\" >7</th>\n",
       "      <td id=\"T_0386a_row7_col0\" class=\"data row7 col0\" >Numeric imputation</td>\n",
       "      <td id=\"T_0386a_row7_col1\" class=\"data row7 col1\" >mean</td>\n",
       "    </tr>\n",
       "    <tr>\n",
       "      <th id=\"T_0386a_level0_row8\" class=\"row_heading level0 row8\" >8</th>\n",
       "      <td id=\"T_0386a_row8_col0\" class=\"data row8 col0\" >Categorical imputation</td>\n",
       "      <td id=\"T_0386a_row8_col1\" class=\"data row8 col1\" >mode</td>\n",
       "    </tr>\n",
       "    <tr>\n",
       "      <th id=\"T_0386a_level0_row9\" class=\"row_heading level0 row9\" >9</th>\n",
       "      <td id=\"T_0386a_row9_col0\" class=\"data row9 col0\" >Maximum one-hot encoding</td>\n",
       "      <td id=\"T_0386a_row9_col1\" class=\"data row9 col1\" >-1</td>\n",
       "    </tr>\n",
       "    <tr>\n",
       "      <th id=\"T_0386a_level0_row10\" class=\"row_heading level0 row10\" >10</th>\n",
       "      <td id=\"T_0386a_row10_col0\" class=\"data row10 col0\" >Encoding method</td>\n",
       "      <td id=\"T_0386a_row10_col1\" class=\"data row10 col1\" >None</td>\n",
       "    </tr>\n",
       "    <tr>\n",
       "      <th id=\"T_0386a_level0_row11\" class=\"row_heading level0 row11\" >11</th>\n",
       "      <td id=\"T_0386a_row11_col0\" class=\"data row11 col0\" >Normalize</td>\n",
       "      <td id=\"T_0386a_row11_col1\" class=\"data row11 col1\" >True</td>\n",
       "    </tr>\n",
       "    <tr>\n",
       "      <th id=\"T_0386a_level0_row12\" class=\"row_heading level0 row12\" >12</th>\n",
       "      <td id=\"T_0386a_row12_col0\" class=\"data row12 col0\" >Normalize method</td>\n",
       "      <td id=\"T_0386a_row12_col1\" class=\"data row12 col1\" >minmax</td>\n",
       "    </tr>\n",
       "    <tr>\n",
       "      <th id=\"T_0386a_level0_row13\" class=\"row_heading level0 row13\" >13</th>\n",
       "      <td id=\"T_0386a_row13_col0\" class=\"data row13 col0\" >CPU Jobs</td>\n",
       "      <td id=\"T_0386a_row13_col1\" class=\"data row13 col1\" >-1</td>\n",
       "    </tr>\n",
       "    <tr>\n",
       "      <th id=\"T_0386a_level0_row14\" class=\"row_heading level0 row14\" >14</th>\n",
       "      <td id=\"T_0386a_row14_col0\" class=\"data row14 col0\" >Use GPU</td>\n",
       "      <td id=\"T_0386a_row14_col1\" class=\"data row14 col1\" >False</td>\n",
       "    </tr>\n",
       "    <tr>\n",
       "      <th id=\"T_0386a_level0_row15\" class=\"row_heading level0 row15\" >15</th>\n",
       "      <td id=\"T_0386a_row15_col0\" class=\"data row15 col0\" >Log Experiment</td>\n",
       "      <td id=\"T_0386a_row15_col1\" class=\"data row15 col1\" >False</td>\n",
       "    </tr>\n",
       "    <tr>\n",
       "      <th id=\"T_0386a_level0_row16\" class=\"row_heading level0 row16\" >16</th>\n",
       "      <td id=\"T_0386a_row16_col0\" class=\"data row16 col0\" >Experiment Name</td>\n",
       "      <td id=\"T_0386a_row16_col1\" class=\"data row16 col1\" >cluster-default-name</td>\n",
       "    </tr>\n",
       "    <tr>\n",
       "      <th id=\"T_0386a_level0_row17\" class=\"row_heading level0 row17\" >17</th>\n",
       "      <td id=\"T_0386a_row17_col0\" class=\"data row17 col0\" >USI</td>\n",
       "      <td id=\"T_0386a_row17_col1\" class=\"data row17 col1\" >0b49</td>\n",
       "    </tr>\n",
       "  </tbody>\n",
       "</table>\n"
      ],
      "text/plain": [
       "<pandas.io.formats.style.Styler at 0x1554ec810>"
      ]
     },
     "metadata": {},
     "output_type": "display_data"
    }
   ],
   "source": [
    "# load experiment from disk\n",
    "exp_from_disk = load_experiment('my_experiment', data=data)"
   ]
  },
  {
   "cell_type": "code",
   "execution_count": null,
   "id": "ac030246",
   "metadata": {},
   "outputs": [],
   "source": []
  }
 ],
 "metadata": {
  "kernelspec": {
   "display_name": "Python 3",
   "language": "python",
   "name": "python3"
  },
  "language_info": {
   "codemirror_mode": {
    "name": "ipython",
    "version": 3
   },
   "file_extension": ".py",
   "mimetype": "text/x-python",
   "name": "python",
   "nbconvert_exporter": "python",
   "pygments_lexer": "ipython3",
   "version": "3.11.11"
  },
  "widgets": {
   "application/vnd.jupyter.widget-state+json": {
    "state": {
     "02b2de57864a4f8bb4da8aba838f131f": {
      "model_module": "@jupyter-widgets/controls",
      "model_module_version": "2.0.0",
      "model_name": "HTMLModel",
      "state": {
       "_dom_classes": [],
       "_model_module": "@jupyter-widgets/controls",
       "_model_module_version": "2.0.0",
       "_model_name": "HTMLModel",
       "_view_count": null,
       "_view_module": "@jupyter-widgets/controls",
       "_view_module_version": "2.0.0",
       "_view_name": "HTMLView",
       "description": "",
       "description_allow_html": false,
       "layout": "IPY_MODEL_18af68022c1e471c872c789dc2c0b1a4",
       "placeholder": "​",
       "style": "IPY_MODEL_49bb8227042f41afaf6c0e8d721dcba9",
       "tabbable": null,
       "tooltip": null,
       "value": "Processing:   0%"
      }
     },
     "07826bf384764d679b4b74a653f2c721": {
      "model_module": "@jupyter-widgets/base",
      "model_module_version": "2.0.0",
      "model_name": "LayoutModel",
      "state": {
       "_model_module": "@jupyter-widgets/base",
       "_model_module_version": "2.0.0",
       "_model_name": "LayoutModel",
       "_view_count": null,
       "_view_module": "@jupyter-widgets/base",
       "_view_module_version": "2.0.0",
       "_view_name": "LayoutView",
       "align_content": null,
       "align_items": null,
       "align_self": null,
       "border_bottom": null,
       "border_left": null,
       "border_right": null,
       "border_top": null,
       "bottom": null,
       "display": null,
       "flex": null,
       "flex_flow": null,
       "grid_area": null,
       "grid_auto_columns": null,
       "grid_auto_flow": null,
       "grid_auto_rows": null,
       "grid_column": null,
       "grid_gap": null,
       "grid_row": null,
       "grid_template_areas": null,
       "grid_template_columns": null,
       "grid_template_rows": null,
       "height": null,
       "justify_content": null,
       "justify_items": null,
       "left": null,
       "margin": null,
       "max_height": null,
       "max_width": null,
       "min_height": null,
       "min_width": null,
       "object_fit": null,
       "object_position": null,
       "order": null,
       "overflow": null,
       "padding": null,
       "right": null,
       "top": null,
       "visibility": "hidden",
       "width": null
      }
     },
     "0896096b50f840a4b761fa776a86f745": {
      "model_module": "@jupyter-widgets/controls",
      "model_module_version": "2.0.0",
      "model_name": "ToggleButtonsModel",
      "state": {
       "_dom_classes": [],
       "_model_module": "@jupyter-widgets/controls",
       "_model_module_version": "2.0.0",
       "_model_name": "ToggleButtonsModel",
       "_options_labels": [
        "Pipeline Plot",
        "t-SNE (3d) Dimension Plot",
        "Cluster t-SNE (3d)",
        "Elbow Plot",
        "Silhouette Plot",
        "Distance Plot",
        "Distribution Plot"
       ],
       "_view_count": null,
       "_view_module": "@jupyter-widgets/controls",
       "_view_module_version": "2.0.0",
       "_view_name": "ToggleButtonsView",
       "button_style": "",
       "description": "Plot Type:",
       "description_allow_html": false,
       "disabled": false,
       "icons": [
        ""
       ],
       "index": 0,
       "layout": "IPY_MODEL_61bc7458178d4d95bb5731a8faa4f323",
       "style": "IPY_MODEL_4d9988200cf7455893aa94bfcd0158ff",
       "tabbable": null,
       "tooltip": null,
       "tooltips": []
      }
     },
     "0950d789aa3c42e484e83ea0a4a58849": {
      "model_module": "@jupyter-widgets/controls",
      "model_module_version": "2.0.0",
      "model_name": "HBoxModel",
      "state": {
       "_dom_classes": [],
       "_model_module": "@jupyter-widgets/controls",
       "_model_module_version": "2.0.0",
       "_model_name": "HBoxModel",
       "_view_count": null,
       "_view_module": "@jupyter-widgets/controls",
       "_view_module_version": "2.0.0",
       "_view_name": "HBoxView",
       "box_style": "",
       "children": [
        "IPY_MODEL_02b2de57864a4f8bb4da8aba838f131f",
        "IPY_MODEL_0b9f2b396aa147c59d30c6a414d97f8a",
        "IPY_MODEL_b3e0fb2af5a648f895dd452f5574d656"
       ],
       "layout": "IPY_MODEL_e191b1a68fb6453b8a509c3e03398438",
       "tabbable": null,
       "tooltip": null
      }
     },
     "0b9f2b396aa147c59d30c6a414d97f8a": {
      "model_module": "@jupyter-widgets/controls",
      "model_module_version": "2.0.0",
      "model_name": "FloatProgressModel",
      "state": {
       "_dom_classes": [],
       "_model_module": "@jupyter-widgets/controls",
       "_model_module_version": "2.0.0",
       "_model_name": "FloatProgressModel",
       "_view_count": null,
       "_view_module": "@jupyter-widgets/controls",
       "_view_module_version": "2.0.0",
       "_view_name": "ProgressView",
       "bar_style": "",
       "description": "",
       "description_allow_html": false,
       "layout": "IPY_MODEL_6c9a9e25d78d4268aa004844b153a0d5",
       "max": 3.0,
       "min": 0.0,
       "orientation": "horizontal",
       "style": "IPY_MODEL_6bdfe3f2ffab47449aef40217881598d",
       "tabbable": null,
       "tooltip": null,
       "value": 3.0
      }
     },
     "105dc8d0792d4da1bba82708633869c1": {
      "model_module": "@jupyter-widgets/controls",
      "model_module_version": "2.0.0",
      "model_name": "HTMLStyleModel",
      "state": {
       "_model_module": "@jupyter-widgets/controls",
       "_model_module_version": "2.0.0",
       "_model_name": "HTMLStyleModel",
       "_view_count": null,
       "_view_module": "@jupyter-widgets/base",
       "_view_module_version": "2.0.0",
       "_view_name": "StyleView",
       "background": null,
       "description_width": "",
       "font_size": null,
       "text_color": null
      }
     },
     "120c11884e2c4662ba324f4e0f42629d": {
      "model_module": "@jupyter-widgets/controls",
      "model_module_version": "2.0.0",
      "model_name": "HTMLStyleModel",
      "state": {
       "_model_module": "@jupyter-widgets/controls",
       "_model_module_version": "2.0.0",
       "_model_name": "HTMLStyleModel",
       "_view_count": null,
       "_view_module": "@jupyter-widgets/base",
       "_view_module_version": "2.0.0",
       "_view_name": "StyleView",
       "background": null,
       "description_width": "",
       "font_size": null,
       "text_color": null
      }
     },
     "18af68022c1e471c872c789dc2c0b1a4": {
      "model_module": "@jupyter-widgets/base",
      "model_module_version": "2.0.0",
      "model_name": "LayoutModel",
      "state": {
       "_model_module": "@jupyter-widgets/base",
       "_model_module_version": "2.0.0",
       "_model_name": "LayoutModel",
       "_view_count": null,
       "_view_module": "@jupyter-widgets/base",
       "_view_module_version": "2.0.0",
       "_view_name": "LayoutView",
       "align_content": null,
       "align_items": null,
       "align_self": null,
       "border_bottom": null,
       "border_left": null,
       "border_right": null,
       "border_top": null,
       "bottom": null,
       "display": null,
       "flex": null,
       "flex_flow": null,
       "grid_area": null,
       "grid_auto_columns": null,
       "grid_auto_flow": null,
       "grid_auto_rows": null,
       "grid_column": null,
       "grid_gap": null,
       "grid_row": null,
       "grid_template_areas": null,
       "grid_template_columns": null,
       "grid_template_rows": null,
       "height": null,
       "justify_content": null,
       "justify_items": null,
       "left": null,
       "margin": null,
       "max_height": null,
       "max_width": null,
       "min_height": null,
       "min_width": null,
       "object_fit": null,
       "object_position": null,
       "order": null,
       "overflow": null,
       "padding": null,
       "right": null,
       "top": null,
       "visibility": null,
       "width": null
      }
     },
     "23964e92958f4eb89b45e314a5a1817c": {
      "model_module": "@jupyter-widgets/controls",
      "model_module_version": "2.0.0",
      "model_name": "FloatProgressModel",
      "state": {
       "_dom_classes": [],
       "_model_module": "@jupyter-widgets/controls",
       "_model_module_version": "2.0.0",
       "_model_name": "FloatProgressModel",
       "_view_count": null,
       "_view_module": "@jupyter-widgets/controls",
       "_view_module_version": "2.0.0",
       "_view_name": "ProgressView",
       "bar_style": "",
       "description": "",
       "description_allow_html": false,
       "layout": "IPY_MODEL_67c4b2bde2a64fe9ac45d04d505f8104",
       "max": 3.0,
       "min": 0.0,
       "orientation": "horizontal",
       "style": "IPY_MODEL_aedbcdbcab274ce18f26a5459d8b32f2",
       "tabbable": null,
       "tooltip": null,
       "value": 3.0
      }
     },
     "2d2bea24464440038948936f10da30ea": {
      "model_module": "@jupyter-widgets/controls",
      "model_module_version": "2.0.0",
      "model_name": "HBoxModel",
      "state": {
       "_dom_classes": [],
       "_model_module": "@jupyter-widgets/controls",
       "_model_module_version": "2.0.0",
       "_model_name": "HBoxModel",
       "_view_count": null,
       "_view_module": "@jupyter-widgets/controls",
       "_view_module_version": "2.0.0",
       "_view_name": "HBoxView",
       "box_style": "",
       "children": [
        "IPY_MODEL_bea203b0c53c40b3a7e8497b6ae64aa1",
        "IPY_MODEL_556a61e287c04ecb8d307dc7eac535d4",
        "IPY_MODEL_952d777af17d41f793d2c7d0c753d6b3"
       ],
       "layout": "IPY_MODEL_07826bf384764d679b4b74a653f2c721",
       "tabbable": null,
       "tooltip": null
      }
     },
     "34391e5148dc4222b52a908e8a5cd52e": {
      "model_module": "@jupyter-widgets/base",
      "model_module_version": "2.0.0",
      "model_name": "LayoutModel",
      "state": {
       "_model_module": "@jupyter-widgets/base",
       "_model_module_version": "2.0.0",
       "_model_name": "LayoutModel",
       "_view_count": null,
       "_view_module": "@jupyter-widgets/base",
       "_view_module_version": "2.0.0",
       "_view_name": "LayoutView",
       "align_content": null,
       "align_items": null,
       "align_self": null,
       "border_bottom": null,
       "border_left": null,
       "border_right": null,
       "border_top": null,
       "bottom": null,
       "display": null,
       "flex": null,
       "flex_flow": null,
       "grid_area": null,
       "grid_auto_columns": null,
       "grid_auto_flow": null,
       "grid_auto_rows": null,
       "grid_column": null,
       "grid_gap": null,
       "grid_row": null,
       "grid_template_areas": null,
       "grid_template_columns": null,
       "grid_template_rows": null,
       "height": null,
       "justify_content": null,
       "justify_items": null,
       "left": null,
       "margin": null,
       "max_height": null,
       "max_width": null,
       "min_height": null,
       "min_width": null,
       "object_fit": null,
       "object_position": null,
       "order": null,
       "overflow": null,
       "padding": null,
       "right": null,
       "top": null,
       "visibility": null,
       "width": null
      }
     },
     "45510b31b9ad44b889ac3cf43eaf431e": {
      "model_module": "@jupyter-widgets/controls",
      "model_module_version": "2.0.0",
      "model_name": "HTMLStyleModel",
      "state": {
       "_model_module": "@jupyter-widgets/controls",
       "_model_module_version": "2.0.0",
       "_model_name": "HTMLStyleModel",
       "_view_count": null,
       "_view_module": "@jupyter-widgets/base",
       "_view_module_version": "2.0.0",
       "_view_name": "StyleView",
       "background": null,
       "description_width": "",
       "font_size": null,
       "text_color": null
      }
     },
     "49bb8227042f41afaf6c0e8d721dcba9": {
      "model_module": "@jupyter-widgets/controls",
      "model_module_version": "2.0.0",
      "model_name": "HTMLStyleModel",
      "state": {
       "_model_module": "@jupyter-widgets/controls",
       "_model_module_version": "2.0.0",
       "_model_name": "HTMLStyleModel",
       "_view_count": null,
       "_view_module": "@jupyter-widgets/base",
       "_view_module_version": "2.0.0",
       "_view_name": "StyleView",
       "background": null,
       "description_width": "",
       "font_size": null,
       "text_color": null
      }
     },
     "4c79351ddb4a46f9899d8d8ad95f6c73": {
      "model_module": "@jupyter-widgets/base",
      "model_module_version": "2.0.0",
      "model_name": "LayoutModel",
      "state": {
       "_model_module": "@jupyter-widgets/base",
       "_model_module_version": "2.0.0",
       "_model_name": "LayoutModel",
       "_view_count": null,
       "_view_module": "@jupyter-widgets/base",
       "_view_module_version": "2.0.0",
       "_view_name": "LayoutView",
       "align_content": null,
       "align_items": null,
       "align_self": null,
       "border_bottom": null,
       "border_left": null,
       "border_right": null,
       "border_top": null,
       "bottom": null,
       "display": null,
       "flex": null,
       "flex_flow": null,
       "grid_area": null,
       "grid_auto_columns": null,
       "grid_auto_flow": null,
       "grid_auto_rows": null,
       "grid_column": null,
       "grid_gap": null,
       "grid_row": null,
       "grid_template_areas": null,
       "grid_template_columns": null,
       "grid_template_rows": null,
       "height": null,
       "justify_content": null,
       "justify_items": null,
       "left": null,
       "margin": null,
       "max_height": null,
       "max_width": null,
       "min_height": null,
       "min_width": null,
       "object_fit": null,
       "object_position": null,
       "order": null,
       "overflow": null,
       "padding": null,
       "right": null,
       "top": null,
       "visibility": "hidden",
       "width": null
      }
     },
     "4d9988200cf7455893aa94bfcd0158ff": {
      "model_module": "@jupyter-widgets/controls",
      "model_module_version": "2.0.0",
      "model_name": "ToggleButtonsStyleModel",
      "state": {
       "_model_module": "@jupyter-widgets/controls",
       "_model_module_version": "2.0.0",
       "_model_name": "ToggleButtonsStyleModel",
       "_view_count": null,
       "_view_module": "@jupyter-widgets/base",
       "_view_module_version": "2.0.0",
       "_view_name": "StyleView",
       "button_width": "",
       "description_width": "",
       "font_weight": ""
      }
     },
     "4e280a51d10a4856a9394e4266bd7bef": {
      "model_module": "@jupyter-widgets/base",
      "model_module_version": "2.0.0",
      "model_name": "LayoutModel",
      "state": {
       "_model_module": "@jupyter-widgets/base",
       "_model_module_version": "2.0.0",
       "_model_name": "LayoutModel",
       "_view_count": null,
       "_view_module": "@jupyter-widgets/base",
       "_view_module_version": "2.0.0",
       "_view_name": "LayoutView",
       "align_content": null,
       "align_items": null,
       "align_self": null,
       "border_bottom": null,
       "border_left": null,
       "border_right": null,
       "border_top": null,
       "bottom": null,
       "display": null,
       "flex": null,
       "flex_flow": null,
       "grid_area": null,
       "grid_auto_columns": null,
       "grid_auto_flow": null,
       "grid_auto_rows": null,
       "grid_column": null,
       "grid_gap": null,
       "grid_row": null,
       "grid_template_areas": null,
       "grid_template_columns": null,
       "grid_template_rows": null,
       "height": null,
       "justify_content": null,
       "justify_items": null,
       "left": null,
       "margin": null,
       "max_height": null,
       "max_width": null,
       "min_height": null,
       "min_width": null,
       "object_fit": null,
       "object_position": null,
       "order": null,
       "overflow": null,
       "padding": null,
       "right": null,
       "top": null,
       "visibility": "hidden",
       "width": null
      }
     },
     "5551120136ad4bbf8a8933f861d44d07": {
      "model_module": "@jupyter-widgets/controls",
      "model_module_version": "2.0.0",
      "model_name": "HTMLStyleModel",
      "state": {
       "_model_module": "@jupyter-widgets/controls",
       "_model_module_version": "2.0.0",
       "_model_name": "HTMLStyleModel",
       "_view_count": null,
       "_view_module": "@jupyter-widgets/base",
       "_view_module_version": "2.0.0",
       "_view_name": "StyleView",
       "background": null,
       "description_width": "",
       "font_size": null,
       "text_color": null
      }
     },
     "556a61e287c04ecb8d307dc7eac535d4": {
      "model_module": "@jupyter-widgets/controls",
      "model_module_version": "2.0.0",
      "model_name": "FloatProgressModel",
      "state": {
       "_dom_classes": [],
       "_model_module": "@jupyter-widgets/controls",
       "_model_module_version": "2.0.0",
       "_model_name": "FloatProgressModel",
       "_view_count": null,
       "_view_module": "@jupyter-widgets/controls",
       "_view_module_version": "2.0.0",
       "_view_name": "ProgressView",
       "bar_style": "",
       "description": "",
       "description_allow_html": false,
       "layout": "IPY_MODEL_f63e128c87a64a65a920ce307cb9d4e6",
       "max": 3.0,
       "min": 0.0,
       "orientation": "horizontal",
       "style": "IPY_MODEL_fb57fe46313844c2a2e2a42cdefb2ff0",
       "tabbable": null,
       "tooltip": null,
       "value": 3.0
      }
     },
     "587e53933b324e2a86a98490ad297b75": {
      "model_module": "@jupyter-widgets/controls",
      "model_module_version": "2.0.0",
      "model_name": "HTMLStyleModel",
      "state": {
       "_model_module": "@jupyter-widgets/controls",
       "_model_module_version": "2.0.0",
       "_model_name": "HTMLStyleModel",
       "_view_count": null,
       "_view_module": "@jupyter-widgets/base",
       "_view_module_version": "2.0.0",
       "_view_name": "StyleView",
       "background": null,
       "description_width": "",
       "font_size": null,
       "text_color": null
      }
     },
     "5ee3093c5cf645aca3265bb15e021cd4": {
      "model_module": "@jupyter-widgets/controls",
      "model_module_version": "2.0.0",
      "model_name": "HTMLStyleModel",
      "state": {
       "_model_module": "@jupyter-widgets/controls",
       "_model_module_version": "2.0.0",
       "_model_name": "HTMLStyleModel",
       "_view_count": null,
       "_view_module": "@jupyter-widgets/base",
       "_view_module_version": "2.0.0",
       "_view_name": "StyleView",
       "background": null,
       "description_width": "",
       "font_size": null,
       "text_color": null
      }
     },
     "600d196bce1c425a9b324f03285b0f46": {
      "model_module": "@jupyter-widgets/base",
      "model_module_version": "2.0.0",
      "model_name": "LayoutModel",
      "state": {
       "_model_module": "@jupyter-widgets/base",
       "_model_module_version": "2.0.0",
       "_model_name": "LayoutModel",
       "_view_count": null,
       "_view_module": "@jupyter-widgets/base",
       "_view_module_version": "2.0.0",
       "_view_name": "LayoutView",
       "align_content": null,
       "align_items": null,
       "align_self": null,
       "border_bottom": null,
       "border_left": null,
       "border_right": null,
       "border_top": null,
       "bottom": null,
       "display": null,
       "flex": null,
       "flex_flow": null,
       "grid_area": null,
       "grid_auto_columns": null,
       "grid_auto_flow": null,
       "grid_auto_rows": null,
       "grid_column": null,
       "grid_gap": null,
       "grid_row": null,
       "grid_template_areas": null,
       "grid_template_columns": null,
       "grid_template_rows": null,
       "height": null,
       "justify_content": null,
       "justify_items": null,
       "left": null,
       "margin": null,
       "max_height": null,
       "max_width": null,
       "min_height": null,
       "min_width": null,
       "object_fit": null,
       "object_position": null,
       "order": null,
       "overflow": null,
       "padding": null,
       "right": null,
       "top": null,
       "visibility": null,
       "width": null
      }
     },
     "61bc7458178d4d95bb5731a8faa4f323": {
      "model_module": "@jupyter-widgets/base",
      "model_module_version": "2.0.0",
      "model_name": "LayoutModel",
      "state": {
       "_model_module": "@jupyter-widgets/base",
       "_model_module_version": "2.0.0",
       "_model_name": "LayoutModel",
       "_view_count": null,
       "_view_module": "@jupyter-widgets/base",
       "_view_module_version": "2.0.0",
       "_view_name": "LayoutView",
       "align_content": null,
       "align_items": null,
       "align_self": null,
       "border_bottom": null,
       "border_left": null,
       "border_right": null,
       "border_top": null,
       "bottom": null,
       "display": null,
       "flex": null,
       "flex_flow": null,
       "grid_area": null,
       "grid_auto_columns": null,
       "grid_auto_flow": null,
       "grid_auto_rows": null,
       "grid_column": null,
       "grid_gap": null,
       "grid_row": null,
       "grid_template_areas": null,
       "grid_template_columns": null,
       "grid_template_rows": null,
       "height": null,
       "justify_content": null,
       "justify_items": null,
       "left": null,
       "margin": null,
       "max_height": null,
       "max_width": null,
       "min_height": null,
       "min_width": null,
       "object_fit": null,
       "object_position": null,
       "order": null,
       "overflow": null,
       "padding": null,
       "right": null,
       "top": null,
       "visibility": null,
       "width": null
      }
     },
     "620c6ea7705f4357915a348418c9db11": {
      "model_module": "@jupyter-widgets/controls",
      "model_module_version": "2.0.0",
      "model_name": "ProgressStyleModel",
      "state": {
       "_model_module": "@jupyter-widgets/controls",
       "_model_module_version": "2.0.0",
       "_model_name": "ProgressStyleModel",
       "_view_count": null,
       "_view_module": "@jupyter-widgets/base",
       "_view_module_version": "2.0.0",
       "_view_name": "StyleView",
       "bar_color": null,
       "description_width": ""
      }
     },
     "67c4b2bde2a64fe9ac45d04d505f8104": {
      "model_module": "@jupyter-widgets/base",
      "model_module_version": "2.0.0",
      "model_name": "LayoutModel",
      "state": {
       "_model_module": "@jupyter-widgets/base",
       "_model_module_version": "2.0.0",
       "_model_name": "LayoutModel",
       "_view_count": null,
       "_view_module": "@jupyter-widgets/base",
       "_view_module_version": "2.0.0",
       "_view_name": "LayoutView",
       "align_content": null,
       "align_items": null,
       "align_self": null,
       "border_bottom": null,
       "border_left": null,
       "border_right": null,
       "border_top": null,
       "bottom": null,
       "display": null,
       "flex": null,
       "flex_flow": null,
       "grid_area": null,
       "grid_auto_columns": null,
       "grid_auto_flow": null,
       "grid_auto_rows": null,
       "grid_column": null,
       "grid_gap": null,
       "grid_row": null,
       "grid_template_areas": null,
       "grid_template_columns": null,
       "grid_template_rows": null,
       "height": null,
       "justify_content": null,
       "justify_items": null,
       "left": null,
       "margin": null,
       "max_height": null,
       "max_width": null,
       "min_height": null,
       "min_width": null,
       "object_fit": null,
       "object_position": null,
       "order": null,
       "overflow": null,
       "padding": null,
       "right": null,
       "top": null,
       "visibility": null,
       "width": null
      }
     },
     "68e61ee4acd841ffa94e85c571593ca8": {
      "model_module": "@jupyter-widgets/controls",
      "model_module_version": "2.0.0",
      "model_name": "HTMLModel",
      "state": {
       "_dom_classes": [],
       "_model_module": "@jupyter-widgets/controls",
       "_model_module_version": "2.0.0",
       "_model_name": "HTMLModel",
       "_view_count": null,
       "_view_module": "@jupyter-widgets/controls",
       "_view_module_version": "2.0.0",
       "_view_name": "HTMLView",
       "description": "",
       "description_allow_html": false,
       "layout": "IPY_MODEL_719f9a2620b643d4942d1bade8158762",
       "placeholder": "​",
       "style": "IPY_MODEL_587e53933b324e2a86a98490ad297b75",
       "tabbable": null,
       "tooltip": null,
       "value": " 0/3 [00:00&lt;?, ?it/s]"
      }
     },
     "6bdfe3f2ffab47449aef40217881598d": {
      "model_module": "@jupyter-widgets/controls",
      "model_module_version": "2.0.0",
      "model_name": "ProgressStyleModel",
      "state": {
       "_model_module": "@jupyter-widgets/controls",
       "_model_module_version": "2.0.0",
       "_model_name": "ProgressStyleModel",
       "_view_count": null,
       "_view_module": "@jupyter-widgets/base",
       "_view_module_version": "2.0.0",
       "_view_name": "StyleView",
       "bar_color": null,
       "description_width": ""
      }
     },
     "6c9a9e25d78d4268aa004844b153a0d5": {
      "model_module": "@jupyter-widgets/base",
      "model_module_version": "2.0.0",
      "model_name": "LayoutModel",
      "state": {
       "_model_module": "@jupyter-widgets/base",
       "_model_module_version": "2.0.0",
       "_model_name": "LayoutModel",
       "_view_count": null,
       "_view_module": "@jupyter-widgets/base",
       "_view_module_version": "2.0.0",
       "_view_name": "LayoutView",
       "align_content": null,
       "align_items": null,
       "align_self": null,
       "border_bottom": null,
       "border_left": null,
       "border_right": null,
       "border_top": null,
       "bottom": null,
       "display": null,
       "flex": null,
       "flex_flow": null,
       "grid_area": null,
       "grid_auto_columns": null,
       "grid_auto_flow": null,
       "grid_auto_rows": null,
       "grid_column": null,
       "grid_gap": null,
       "grid_row": null,
       "grid_template_areas": null,
       "grid_template_columns": null,
       "grid_template_rows": null,
       "height": null,
       "justify_content": null,
       "justify_items": null,
       "left": null,
       "margin": null,
       "max_height": null,
       "max_width": null,
       "min_height": null,
       "min_width": null,
       "object_fit": null,
       "object_position": null,
       "order": null,
       "overflow": null,
       "padding": null,
       "right": null,
       "top": null,
       "visibility": null,
       "width": null
      }
     },
     "719f9a2620b643d4942d1bade8158762": {
      "model_module": "@jupyter-widgets/base",
      "model_module_version": "2.0.0",
      "model_name": "LayoutModel",
      "state": {
       "_model_module": "@jupyter-widgets/base",
       "_model_module_version": "2.0.0",
       "_model_name": "LayoutModel",
       "_view_count": null,
       "_view_module": "@jupyter-widgets/base",
       "_view_module_version": "2.0.0",
       "_view_name": "LayoutView",
       "align_content": null,
       "align_items": null,
       "align_self": null,
       "border_bottom": null,
       "border_left": null,
       "border_right": null,
       "border_top": null,
       "bottom": null,
       "display": null,
       "flex": null,
       "flex_flow": null,
       "grid_area": null,
       "grid_auto_columns": null,
       "grid_auto_flow": null,
       "grid_auto_rows": null,
       "grid_column": null,
       "grid_gap": null,
       "grid_row": null,
       "grid_template_areas": null,
       "grid_template_columns": null,
       "grid_template_rows": null,
       "height": null,
       "justify_content": null,
       "justify_items": null,
       "left": null,
       "margin": null,
       "max_height": null,
       "max_width": null,
       "min_height": null,
       "min_width": null,
       "object_fit": null,
       "object_position": null,
       "order": null,
       "overflow": null,
       "padding": null,
       "right": null,
       "top": null,
       "visibility": null,
       "width": null
      }
     },
     "7af67c85899440fa8fa48dbcbf1b46bb": {
      "model_module": "@jupyter-widgets/base",
      "model_module_version": "2.0.0",
      "model_name": "LayoutModel",
      "state": {
       "_model_module": "@jupyter-widgets/base",
       "_model_module_version": "2.0.0",
       "_model_name": "LayoutModel",
       "_view_count": null,
       "_view_module": "@jupyter-widgets/base",
       "_view_module_version": "2.0.0",
       "_view_name": "LayoutView",
       "align_content": null,
       "align_items": null,
       "align_self": null,
       "border_bottom": null,
       "border_left": null,
       "border_right": null,
       "border_top": null,
       "bottom": null,
       "display": null,
       "flex": null,
       "flex_flow": null,
       "grid_area": null,
       "grid_auto_columns": null,
       "grid_auto_flow": null,
       "grid_auto_rows": null,
       "grid_column": null,
       "grid_gap": null,
       "grid_row": null,
       "grid_template_areas": null,
       "grid_template_columns": null,
       "grid_template_rows": null,
       "height": null,
       "justify_content": null,
       "justify_items": null,
       "left": null,
       "margin": null,
       "max_height": null,
       "max_width": null,
       "min_height": null,
       "min_width": null,
       "object_fit": null,
       "object_position": null,
       "order": null,
       "overflow": null,
       "padding": null,
       "right": null,
       "top": null,
       "visibility": null,
       "width": null
      }
     },
     "921f1e5d26ba4ee2a34b61db483815d5": {
      "model_module": "@jupyter-widgets/controls",
      "model_module_version": "2.0.0",
      "model_name": "HTMLStyleModel",
      "state": {
       "_model_module": "@jupyter-widgets/controls",
       "_model_module_version": "2.0.0",
       "_model_name": "HTMLStyleModel",
       "_view_count": null,
       "_view_module": "@jupyter-widgets/base",
       "_view_module_version": "2.0.0",
       "_view_name": "StyleView",
       "background": null,
       "description_width": "",
       "font_size": null,
       "text_color": null
      }
     },
     "92925a385c98461f84b8a530797baf46": {
      "model_module": "@jupyter-widgets/controls",
      "model_module_version": "2.0.0",
      "model_name": "HBoxModel",
      "state": {
       "_dom_classes": [],
       "_model_module": "@jupyter-widgets/controls",
       "_model_module_version": "2.0.0",
       "_model_name": "HBoxModel",
       "_view_count": null,
       "_view_module": "@jupyter-widgets/controls",
       "_view_module_version": "2.0.0",
       "_view_name": "HBoxView",
       "box_style": "",
       "children": [
        "IPY_MODEL_bbe11aa6295a42cfb2f3244c5bf50805",
        "IPY_MODEL_dc2f302b10614d9892dc1256d68f8546",
        "IPY_MODEL_bf72e62c134b4278a6e7693f6e6d4f5f"
       ],
       "layout": "IPY_MODEL_4c79351ddb4a46f9899d8d8ad95f6c73",
       "tabbable": null,
       "tooltip": null
      }
     },
     "952d777af17d41f793d2c7d0c753d6b3": {
      "model_module": "@jupyter-widgets/controls",
      "model_module_version": "2.0.0",
      "model_name": "HTMLModel",
      "state": {
       "_dom_classes": [],
       "_model_module": "@jupyter-widgets/controls",
       "_model_module_version": "2.0.0",
       "_model_name": "HTMLModel",
       "_view_count": null,
       "_view_module": "@jupyter-widgets/controls",
       "_view_module_version": "2.0.0",
       "_view_name": "HTMLView",
       "description": "",
       "description_allow_html": false,
       "layout": "IPY_MODEL_e79727bd26a84416950aba175c75aef3",
       "placeholder": "​",
       "style": "IPY_MODEL_120c11884e2c4662ba324f4e0f42629d",
       "tabbable": null,
       "tooltip": null,
       "value": " 2/3 [00:01&lt;00:00,  1.51it/s]"
      }
     },
     "a69acb1e64984ca19c8e28819b0ddf06": {
      "model_module": "@jupyter-widgets/base",
      "model_module_version": "2.0.0",
      "model_name": "LayoutModel",
      "state": {
       "_model_module": "@jupyter-widgets/base",
       "_model_module_version": "2.0.0",
       "_model_name": "LayoutModel",
       "_view_count": null,
       "_view_module": "@jupyter-widgets/base",
       "_view_module_version": "2.0.0",
       "_view_name": "LayoutView",
       "align_content": null,
       "align_items": null,
       "align_self": null,
       "border_bottom": null,
       "border_left": null,
       "border_right": null,
       "border_top": null,
       "bottom": null,
       "display": null,
       "flex": null,
       "flex_flow": null,
       "grid_area": null,
       "grid_auto_columns": null,
       "grid_auto_flow": null,
       "grid_auto_rows": null,
       "grid_column": null,
       "grid_gap": null,
       "grid_row": null,
       "grid_template_areas": null,
       "grid_template_columns": null,
       "grid_template_rows": null,
       "height": null,
       "justify_content": null,
       "justify_items": null,
       "left": null,
       "margin": null,
       "max_height": null,
       "max_width": null,
       "min_height": null,
       "min_width": null,
       "object_fit": null,
       "object_position": null,
       "order": null,
       "overflow": null,
       "padding": null,
       "right": null,
       "top": null,
       "visibility": null,
       "width": null
      }
     },
     "ab14d8189aff4c6e866b53f5dc1be0ff": {
      "model_module": "@jupyter-widgets/base",
      "model_module_version": "2.0.0",
      "model_name": "LayoutModel",
      "state": {
       "_model_module": "@jupyter-widgets/base",
       "_model_module_version": "2.0.0",
       "_model_name": "LayoutModel",
       "_view_count": null,
       "_view_module": "@jupyter-widgets/base",
       "_view_module_version": "2.0.0",
       "_view_name": "LayoutView",
       "align_content": null,
       "align_items": null,
       "align_self": null,
       "border_bottom": null,
       "border_left": null,
       "border_right": null,
       "border_top": null,
       "bottom": null,
       "display": null,
       "flex": null,
       "flex_flow": null,
       "grid_area": null,
       "grid_auto_columns": null,
       "grid_auto_flow": null,
       "grid_auto_rows": null,
       "grid_column": null,
       "grid_gap": null,
       "grid_row": null,
       "grid_template_areas": null,
       "grid_template_columns": null,
       "grid_template_rows": null,
       "height": null,
       "justify_content": null,
       "justify_items": null,
       "left": null,
       "margin": null,
       "max_height": null,
       "max_width": null,
       "min_height": null,
       "min_width": null,
       "object_fit": null,
       "object_position": null,
       "order": null,
       "overflow": null,
       "padding": null,
       "right": null,
       "top": null,
       "visibility": null,
       "width": null
      }
     },
     "ab227d58c220406988df3d4630d9d6e8": {
      "model_module": "@jupyter-widgets/controls",
      "model_module_version": "2.0.0",
      "model_name": "HTMLModel",
      "state": {
       "_dom_classes": [],
       "_model_module": "@jupyter-widgets/controls",
       "_model_module_version": "2.0.0",
       "_model_name": "HTMLModel",
       "_view_count": null,
       "_view_module": "@jupyter-widgets/controls",
       "_view_module_version": "2.0.0",
       "_view_name": "HTMLView",
       "description": "",
       "description_allow_html": false,
       "layout": "IPY_MODEL_7af67c85899440fa8fa48dbcbf1b46bb",
       "placeholder": "​",
       "style": "IPY_MODEL_921f1e5d26ba4ee2a34b61db483815d5",
       "tabbable": null,
       "tooltip": null,
       "value": "Processing:   0%"
      }
     },
     "aedbcdbcab274ce18f26a5459d8b32f2": {
      "model_module": "@jupyter-widgets/controls",
      "model_module_version": "2.0.0",
      "model_name": "ProgressStyleModel",
      "state": {
       "_model_module": "@jupyter-widgets/controls",
       "_model_module_version": "2.0.0",
       "_model_name": "ProgressStyleModel",
       "_view_count": null,
       "_view_module": "@jupyter-widgets/base",
       "_view_module_version": "2.0.0",
       "_view_name": "StyleView",
       "bar_color": null,
       "description_width": ""
      }
     },
     "b3e0fb2af5a648f895dd452f5574d656": {
      "model_module": "@jupyter-widgets/controls",
      "model_module_version": "2.0.0",
      "model_name": "HTMLModel",
      "state": {
       "_dom_classes": [],
       "_model_module": "@jupyter-widgets/controls",
       "_model_module_version": "2.0.0",
       "_model_name": "HTMLModel",
       "_view_count": null,
       "_view_module": "@jupyter-widgets/controls",
       "_view_module_version": "2.0.0",
       "_view_name": "HTMLView",
       "description": "",
       "description_allow_html": false,
       "layout": "IPY_MODEL_fc8a06d52c8f42bb9a821165cc0c6b97",
       "placeholder": "​",
       "style": "IPY_MODEL_5ee3093c5cf645aca3265bb15e021cd4",
       "tabbable": null,
       "tooltip": null,
       "value": " 0/3 [00:00&lt;?, ?it/s]"
      }
     },
     "baf4a9dfa5f14b34b85a2ccb92d1241d": {
      "model_module": "@jupyter-widgets/base",
      "model_module_version": "2.0.0",
      "model_name": "LayoutModel",
      "state": {
       "_model_module": "@jupyter-widgets/base",
       "_model_module_version": "2.0.0",
       "_model_name": "LayoutModel",
       "_view_count": null,
       "_view_module": "@jupyter-widgets/base",
       "_view_module_version": "2.0.0",
       "_view_name": "LayoutView",
       "align_content": null,
       "align_items": null,
       "align_self": null,
       "border_bottom": null,
       "border_left": null,
       "border_right": null,
       "border_top": null,
       "bottom": null,
       "display": null,
       "flex": null,
       "flex_flow": null,
       "grid_area": null,
       "grid_auto_columns": null,
       "grid_auto_flow": null,
       "grid_auto_rows": null,
       "grid_column": null,
       "grid_gap": null,
       "grid_row": null,
       "grid_template_areas": null,
       "grid_template_columns": null,
       "grid_template_rows": null,
       "height": null,
       "justify_content": null,
       "justify_items": null,
       "left": null,
       "margin": null,
       "max_height": null,
       "max_width": null,
       "min_height": null,
       "min_width": null,
       "object_fit": null,
       "object_position": null,
       "order": null,
       "overflow": null,
       "padding": null,
       "right": null,
       "top": null,
       "visibility": null,
       "width": null
      }
     },
     "bbe11aa6295a42cfb2f3244c5bf50805": {
      "model_module": "@jupyter-widgets/controls",
      "model_module_version": "2.0.0",
      "model_name": "HTMLModel",
      "state": {
       "_dom_classes": [],
       "_model_module": "@jupyter-widgets/controls",
       "_model_module_version": "2.0.0",
       "_model_name": "HTMLModel",
       "_view_count": null,
       "_view_module": "@jupyter-widgets/controls",
       "_view_module_version": "2.0.0",
       "_view_name": "HTMLView",
       "description": "",
       "description_allow_html": false,
       "layout": "IPY_MODEL_600d196bce1c425a9b324f03285b0f46",
       "placeholder": "​",
       "style": "IPY_MODEL_105dc8d0792d4da1bba82708633869c1",
       "tabbable": null,
       "tooltip": null,
       "value": "Processing:   0%"
      }
     },
     "bea203b0c53c40b3a7e8497b6ae64aa1": {
      "model_module": "@jupyter-widgets/controls",
      "model_module_version": "2.0.0",
      "model_name": "HTMLModel",
      "state": {
       "_dom_classes": [],
       "_model_module": "@jupyter-widgets/controls",
       "_model_module_version": "2.0.0",
       "_model_name": "HTMLModel",
       "_view_count": null,
       "_view_module": "@jupyter-widgets/controls",
       "_view_module_version": "2.0.0",
       "_view_name": "HTMLView",
       "description": "",
       "description_allow_html": false,
       "layout": "IPY_MODEL_ab14d8189aff4c6e866b53f5dc1be0ff",
       "placeholder": "​",
       "style": "IPY_MODEL_5551120136ad4bbf8a8933f861d44d07",
       "tabbable": null,
       "tooltip": null,
       "value": "Processing:  67%"
      }
     },
     "bf72e62c134b4278a6e7693f6e6d4f5f": {
      "model_module": "@jupyter-widgets/controls",
      "model_module_version": "2.0.0",
      "model_name": "HTMLModel",
      "state": {
       "_dom_classes": [],
       "_model_module": "@jupyter-widgets/controls",
       "_model_module_version": "2.0.0",
       "_model_name": "HTMLModel",
       "_view_count": null,
       "_view_module": "@jupyter-widgets/controls",
       "_view_module_version": "2.0.0",
       "_view_name": "HTMLView",
       "description": "",
       "description_allow_html": false,
       "layout": "IPY_MODEL_fb1db42c7bb345e4b47f1a13ebf5717f",
       "placeholder": "​",
       "style": "IPY_MODEL_45510b31b9ad44b889ac3cf43eaf431e",
       "tabbable": null,
       "tooltip": null,
       "value": " 0/3 [00:00&lt;?, ?it/s]"
      }
     },
     "c5c73fcd166d41929feadd0fe8a79cce": {
      "model_module": "@jupyter-widgets/output",
      "model_module_version": "1.0.0",
      "model_name": "OutputModel",
      "state": {
       "_dom_classes": [],
       "_model_module": "@jupyter-widgets/output",
       "_model_module_version": "1.0.0",
       "_model_name": "OutputModel",
       "_view_count": null,
       "_view_module": "@jupyter-widgets/output",
       "_view_module_version": "1.0.0",
       "_view_name": "OutputView",
       "layout": "IPY_MODEL_a69acb1e64984ca19c8e28819b0ddf06",
       "msg_id": "",
       "outputs": [
        {
         "data": {
          "image/png": "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",
          "text/plain": "<Figure size 1700x600 with 1 Axes>"
         },
         "metadata": {},
         "output_type": "display_data"
        }
       ],
       "tabbable": null,
       "tooltip": null
      }
     },
     "c8e734110b764c779a7c6e9ecce2e180": {
      "model_module": "@jupyter-widgets/controls",
      "model_module_version": "2.0.0",
      "model_name": "VBoxModel",
      "state": {
       "_dom_classes": [
        "widget-interact"
       ],
       "_model_module": "@jupyter-widgets/controls",
       "_model_module_version": "2.0.0",
       "_model_name": "VBoxModel",
       "_view_count": null,
       "_view_module": "@jupyter-widgets/controls",
       "_view_module_version": "2.0.0",
       "_view_name": "VBoxView",
       "box_style": "",
       "children": [
        "IPY_MODEL_0896096b50f840a4b761fa776a86f745",
        "IPY_MODEL_c5c73fcd166d41929feadd0fe8a79cce"
       ],
       "layout": "IPY_MODEL_34391e5148dc4222b52a908e8a5cd52e",
       "tabbable": null,
       "tooltip": null
      }
     },
     "dc2f302b10614d9892dc1256d68f8546": {
      "model_module": "@jupyter-widgets/controls",
      "model_module_version": "2.0.0",
      "model_name": "FloatProgressModel",
      "state": {
       "_dom_classes": [],
       "_model_module": "@jupyter-widgets/controls",
       "_model_module_version": "2.0.0",
       "_model_name": "FloatProgressModel",
       "_view_count": null,
       "_view_module": "@jupyter-widgets/controls",
       "_view_module_version": "2.0.0",
       "_view_name": "ProgressView",
       "bar_style": "",
       "description": "",
       "description_allow_html": false,
       "layout": "IPY_MODEL_baf4a9dfa5f14b34b85a2ccb92d1241d",
       "max": 3.0,
       "min": 0.0,
       "orientation": "horizontal",
       "style": "IPY_MODEL_620c6ea7705f4357915a348418c9db11",
       "tabbable": null,
       "tooltip": null,
       "value": 3.0
      }
     },
     "e191b1a68fb6453b8a509c3e03398438": {
      "model_module": "@jupyter-widgets/base",
      "model_module_version": "2.0.0",
      "model_name": "LayoutModel",
      "state": {
       "_model_module": "@jupyter-widgets/base",
       "_model_module_version": "2.0.0",
       "_model_name": "LayoutModel",
       "_view_count": null,
       "_view_module": "@jupyter-widgets/base",
       "_view_module_version": "2.0.0",
       "_view_name": "LayoutView",
       "align_content": null,
       "align_items": null,
       "align_self": null,
       "border_bottom": null,
       "border_left": null,
       "border_right": null,
       "border_top": null,
       "bottom": null,
       "display": null,
       "flex": null,
       "flex_flow": null,
       "grid_area": null,
       "grid_auto_columns": null,
       "grid_auto_flow": null,
       "grid_auto_rows": null,
       "grid_column": null,
       "grid_gap": null,
       "grid_row": null,
       "grid_template_areas": null,
       "grid_template_columns": null,
       "grid_template_rows": null,
       "height": null,
       "justify_content": null,
       "justify_items": null,
       "left": null,
       "margin": null,
       "max_height": null,
       "max_width": null,
       "min_height": null,
       "min_width": null,
       "object_fit": null,
       "object_position": null,
       "order": null,
       "overflow": null,
       "padding": null,
       "right": null,
       "top": null,
       "visibility": "hidden",
       "width": null
      }
     },
     "e79727bd26a84416950aba175c75aef3": {
      "model_module": "@jupyter-widgets/base",
      "model_module_version": "2.0.0",
      "model_name": "LayoutModel",
      "state": {
       "_model_module": "@jupyter-widgets/base",
       "_model_module_version": "2.0.0",
       "_model_name": "LayoutModel",
       "_view_count": null,
       "_view_module": "@jupyter-widgets/base",
       "_view_module_version": "2.0.0",
       "_view_name": "LayoutView",
       "align_content": null,
       "align_items": null,
       "align_self": null,
       "border_bottom": null,
       "border_left": null,
       "border_right": null,
       "border_top": null,
       "bottom": null,
       "display": null,
       "flex": null,
       "flex_flow": null,
       "grid_area": null,
       "grid_auto_columns": null,
       "grid_auto_flow": null,
       "grid_auto_rows": null,
       "grid_column": null,
       "grid_gap": null,
       "grid_row": null,
       "grid_template_areas": null,
       "grid_template_columns": null,
       "grid_template_rows": null,
       "height": null,
       "justify_content": null,
       "justify_items": null,
       "left": null,
       "margin": null,
       "max_height": null,
       "max_width": null,
       "min_height": null,
       "min_width": null,
       "object_fit": null,
       "object_position": null,
       "order": null,
       "overflow": null,
       "padding": null,
       "right": null,
       "top": null,
       "visibility": null,
       "width": null
      }
     },
     "f0e3786dea004b8d9da6a953f75b94e3": {
      "model_module": "@jupyter-widgets/controls",
      "model_module_version": "2.0.0",
      "model_name": "HBoxModel",
      "state": {
       "_dom_classes": [],
       "_model_module": "@jupyter-widgets/controls",
       "_model_module_version": "2.0.0",
       "_model_name": "HBoxModel",
       "_view_count": null,
       "_view_module": "@jupyter-widgets/controls",
       "_view_module_version": "2.0.0",
       "_view_name": "HBoxView",
       "box_style": "",
       "children": [
        "IPY_MODEL_ab227d58c220406988df3d4630d9d6e8",
        "IPY_MODEL_23964e92958f4eb89b45e314a5a1817c",
        "IPY_MODEL_68e61ee4acd841ffa94e85c571593ca8"
       ],
       "layout": "IPY_MODEL_4e280a51d10a4856a9394e4266bd7bef",
       "tabbable": null,
       "tooltip": null
      }
     },
     "f63e128c87a64a65a920ce307cb9d4e6": {
      "model_module": "@jupyter-widgets/base",
      "model_module_version": "2.0.0",
      "model_name": "LayoutModel",
      "state": {
       "_model_module": "@jupyter-widgets/base",
       "_model_module_version": "2.0.0",
       "_model_name": "LayoutModel",
       "_view_count": null,
       "_view_module": "@jupyter-widgets/base",
       "_view_module_version": "2.0.0",
       "_view_name": "LayoutView",
       "align_content": null,
       "align_items": null,
       "align_self": null,
       "border_bottom": null,
       "border_left": null,
       "border_right": null,
       "border_top": null,
       "bottom": null,
       "display": null,
       "flex": null,
       "flex_flow": null,
       "grid_area": null,
       "grid_auto_columns": null,
       "grid_auto_flow": null,
       "grid_auto_rows": null,
       "grid_column": null,
       "grid_gap": null,
       "grid_row": null,
       "grid_template_areas": null,
       "grid_template_columns": null,
       "grid_template_rows": null,
       "height": null,
       "justify_content": null,
       "justify_items": null,
       "left": null,
       "margin": null,
       "max_height": null,
       "max_width": null,
       "min_height": null,
       "min_width": null,
       "object_fit": null,
       "object_position": null,
       "order": null,
       "overflow": null,
       "padding": null,
       "right": null,
       "top": null,
       "visibility": null,
       "width": null
      }
     },
     "fb1db42c7bb345e4b47f1a13ebf5717f": {
      "model_module": "@jupyter-widgets/base",
      "model_module_version": "2.0.0",
      "model_name": "LayoutModel",
      "state": {
       "_model_module": "@jupyter-widgets/base",
       "_model_module_version": "2.0.0",
       "_model_name": "LayoutModel",
       "_view_count": null,
       "_view_module": "@jupyter-widgets/base",
       "_view_module_version": "2.0.0",
       "_view_name": "LayoutView",
       "align_content": null,
       "align_items": null,
       "align_self": null,
       "border_bottom": null,
       "border_left": null,
       "border_right": null,
       "border_top": null,
       "bottom": null,
       "display": null,
       "flex": null,
       "flex_flow": null,
       "grid_area": null,
       "grid_auto_columns": null,
       "grid_auto_flow": null,
       "grid_auto_rows": null,
       "grid_column": null,
       "grid_gap": null,
       "grid_row": null,
       "grid_template_areas": null,
       "grid_template_columns": null,
       "grid_template_rows": null,
       "height": null,
       "justify_content": null,
       "justify_items": null,
       "left": null,
       "margin": null,
       "max_height": null,
       "max_width": null,
       "min_height": null,
       "min_width": null,
       "object_fit": null,
       "object_position": null,
       "order": null,
       "overflow": null,
       "padding": null,
       "right": null,
       "top": null,
       "visibility": null,
       "width": null
      }
     },
     "fb57fe46313844c2a2e2a42cdefb2ff0": {
      "model_module": "@jupyter-widgets/controls",
      "model_module_version": "2.0.0",
      "model_name": "ProgressStyleModel",
      "state": {
       "_model_module": "@jupyter-widgets/controls",
       "_model_module_version": "2.0.0",
       "_model_name": "ProgressStyleModel",
       "_view_count": null,
       "_view_module": "@jupyter-widgets/base",
       "_view_module_version": "2.0.0",
       "_view_name": "StyleView",
       "bar_color": null,
       "description_width": ""
      }
     },
     "fc8a06d52c8f42bb9a821165cc0c6b97": {
      "model_module": "@jupyter-widgets/base",
      "model_module_version": "2.0.0",
      "model_name": "LayoutModel",
      "state": {
       "_model_module": "@jupyter-widgets/base",
       "_model_module_version": "2.0.0",
       "_model_name": "LayoutModel",
       "_view_count": null,
       "_view_module": "@jupyter-widgets/base",
       "_view_module_version": "2.0.0",
       "_view_name": "LayoutView",
       "align_content": null,
       "align_items": null,
       "align_self": null,
       "border_bottom": null,
       "border_left": null,
       "border_right": null,
       "border_top": null,
       "bottom": null,
       "display": null,
       "flex": null,
       "flex_flow": null,
       "grid_area": null,
       "grid_auto_columns": null,
       "grid_auto_flow": null,
       "grid_auto_rows": null,
       "grid_column": null,
       "grid_gap": null,
       "grid_row": null,
       "grid_template_areas": null,
       "grid_template_columns": null,
       "grid_template_rows": null,
       "height": null,
       "justify_content": null,
       "justify_items": null,
       "left": null,
       "margin": null,
       "max_height": null,
       "max_width": null,
       "min_height": null,
       "min_width": null,
       "object_fit": null,
       "object_position": null,
       "order": null,
       "overflow": null,
       "padding": null,
       "right": null,
       "top": null,
       "visibility": null,
       "width": null
      }
     }
    },
    "version_major": 2,
    "version_minor": 0
   }
  }
 },
 "nbformat": 4,
 "nbformat_minor": 5
}
