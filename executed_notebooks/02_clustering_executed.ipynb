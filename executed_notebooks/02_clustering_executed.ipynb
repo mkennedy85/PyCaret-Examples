{
 "cells": [
  {
   "cell_type": "code",
   "execution_count": 1,
   "id": "c65fb3c5",
   "metadata": {
    "execution": {
     "iopub.execute_input": "2025-10-23T06:24:07.966188Z",
     "iopub.status.busy": "2025-10-23T06:24:07.965888Z",
     "iopub.status.idle": "2025-10-23T06:24:07.972485Z",
     "shell.execute_reply": "2025-10-23T06:24:07.971633Z"
    },
    "papermill": {
     "duration": 0.024728,
     "end_time": "2025-10-23T06:24:07.973707",
     "exception": false,
     "start_time": "2025-10-23T06:24:07.948979",
     "status": "completed"
    },
    "tags": [
     "injected-parameters"
    ]
   },
   "outputs": [],
   "source": [
    "# Parameters\n",
    "run_id = \"20251023-053615\"\n",
    "auto_download = \"true\"\n"
   ]
  },
  {
   "cell_type": "markdown",
   "id": "81e0620e",
   "metadata": {
    "papermill": {
     "duration": 0.01551,
     "end_time": "2025-10-23T06:24:08.004261",
     "exception": false,
     "start_time": "2025-10-23T06:24:07.988751",
     "status": "completed"
    },
    "tags": []
   },
   "source": [
    "# 👋 PyCaret Clustering Tutorial\n",
    "\n",
    "PyCaret is an open-source, low-code machine learning library in Python that automates machine learning workflows. It is an end-to-end machine learning and model management tool that exponentially speeds up the experiment cycle and makes you more productive.\n",
    "\n",
    "Compared with the other open-source machine learning libraries, PyCaret is an alternate low-code library that can be used to replace hundreds of lines of code with a few lines only. This makes experiments exponentially fast and efficient. PyCaret is essentially a Python wrapper around several machine learning libraries and frameworks, such as scikit-learn, XGBoost, LightGBM, CatBoost, spaCy, Optuna, Hyperopt, Ray, and a few more.\n",
    "\n",
    "The design and simplicity of PyCaret are inspired by the emerging role of citizen data scientists, a term first used by Gartner. Citizen Data Scientists are power users who can perform both simple and moderately sophisticated analytical tasks that would previously have required more technical expertise.\n"
   ]
  },
  {
   "cell_type": "markdown",
   "id": "8116e19d",
   "metadata": {
    "papermill": {
     "duration": 0.014539,
     "end_time": "2025-10-23T06:24:08.033364",
     "exception": false,
     "start_time": "2025-10-23T06:24:08.018825",
     "status": "completed"
    },
    "tags": []
   },
   "source": [
    "# 💻 Installation\n",
    "\n",
    "PyCaret is tested and supported on the following 64-bit systems:\n",
    "- Python 3.7 – 3.10\n",
    "- Python 3.9 for Ubuntu only\n",
    "- Ubuntu 16.04 or later\n",
    "- Windows 7 or later\n",
    "\n",
    "You can install PyCaret with Python's pip package manager:\n",
    "\n",
    "`pip install pycaret`\n",
    "\n",
    "PyCaret's default installation will not install all the extra dependencies automatically. For that you will have to install the full version:\n",
    "\n",
    "`pip install pycaret[full]`\n",
    "\n",
    "or depending on your use-case you may install one of the following variant:\n",
    "\n",
    "- `pip install pycaret[analysis]`\n",
    "- `pip install pycaret[models]`\n",
    "- `pip install pycaret[tuner]`\n",
    "- `pip install pycaret[mlops]`\n",
    "- `pip install pycaret[parallel]`\n",
    "- `pip install pycaret[test]`"
   ]
  },
  {
   "cell_type": "code",
   "execution_count": 2,
   "id": "d7142a33",
   "metadata": {
    "execution": {
     "iopub.execute_input": "2025-10-23T06:24:08.063657Z",
     "iopub.status.busy": "2025-10-23T06:24:08.063361Z",
     "iopub.status.idle": "2025-10-23T06:24:08.109479Z",
     "shell.execute_reply": "2025-10-23T06:24:08.108270Z"
    },
    "papermill": {
     "duration": 0.062625,
     "end_time": "2025-10-23T06:24:08.110258",
     "exception": false,
     "start_time": "2025-10-23T06:24:08.047633",
     "status": "completed"
    },
    "tags": []
   },
   "outputs": [
    {
     "data": {
      "text/plain": [
       "'3.3.2'"
      ]
     },
     "execution_count": 2,
     "metadata": {},
     "output_type": "execute_result"
    }
   ],
   "source": [
    "# check installed version\n",
    "import pycaret\n",
    "pycaret.__version__"
   ]
  },
  {
   "cell_type": "markdown",
   "id": "fb66e98d",
   "metadata": {
    "papermill": {
     "duration": 0.014528,
     "end_time": "2025-10-23T06:24:08.139763",
     "exception": false,
     "start_time": "2025-10-23T06:24:08.125235",
     "status": "completed"
    },
    "tags": []
   },
   "source": [
    "# 🚀 Quick start"
   ]
  },
  {
   "cell_type": "markdown",
   "id": "00347d44",
   "metadata": {
    "papermill": {
     "duration": 0.014392,
     "end_time": "2025-10-23T06:24:08.168544",
     "exception": false,
     "start_time": "2025-10-23T06:24:08.154152",
     "status": "completed"
    },
    "tags": []
   },
   "source": [
    "PyCaret's Clustering Module is an unsupervised machine learning module that performs the task of grouping a set of objects in such a way that objects in the same group (also known as a cluster) are more similar to each other than to those in other groups. \n",
    "\n",
    "It provides several pre-processing features that prepare the data for modeling through the setup function. It has over 10 ready-to-use algorithms and several plots to analyze the performance of trained models. \n",
    "\n",
    "A typical workflow in PyCaret's unsupervised module consist of following 6 steps in this order:\n",
    "\n",
    "### **Setup** ➡️ **Create Model** ➡️ **Assign Labels** ➡️ **Analyze Model** ➡️ **Prediction** ➡️ **Save Model**"
   ]
  },
  {
   "cell_type": "code",
   "execution_count": 3,
   "id": "956dfdab",
   "metadata": {
    "execution": {
     "iopub.execute_input": "2025-10-23T06:24:08.198736Z",
     "iopub.status.busy": "2025-10-23T06:24:08.198455Z",
     "iopub.status.idle": "2025-10-23T06:24:08.470481Z",
     "shell.execute_reply": "2025-10-23T06:24:08.469652Z"
    },
    "papermill": {
     "duration": 0.288644,
     "end_time": "2025-10-23T06:24:08.471465",
     "exception": false,
     "start_time": "2025-10-23T06:24:08.182821",
     "status": "completed"
    },
    "tags": []
   },
   "outputs": [
    {
     "name": "stdout",
     "output_type": "stream",
     "text": [
      "✅ Dataset already exists at ../datasets/clustering/Mall_Customers.csv\n",
      "\n",
      "📊 Loading dataset...\n",
      "Dataset shape: (200, 5)\n"
     ]
    },
    {
     "data": {
      "text/html": [
       "<div>\n",
       "<style scoped>\n",
       "    .dataframe tbody tr th:only-of-type {\n",
       "        vertical-align: middle;\n",
       "    }\n",
       "\n",
       "    .dataframe tbody tr th {\n",
       "        vertical-align: top;\n",
       "    }\n",
       "\n",
       "    .dataframe thead th {\n",
       "        text-align: right;\n",
       "    }\n",
       "</style>\n",
       "<table border=\"1\" class=\"dataframe\">\n",
       "  <thead>\n",
       "    <tr style=\"text-align: right;\">\n",
       "      <th></th>\n",
       "      <th>CustomerID</th>\n",
       "      <th>Gender</th>\n",
       "      <th>Age</th>\n",
       "      <th>Annual Income (k$)</th>\n",
       "      <th>Spending Score (1-100)</th>\n",
       "    </tr>\n",
       "  </thead>\n",
       "  <tbody>\n",
       "    <tr>\n",
       "      <th>0</th>\n",
       "      <td>1</td>\n",
       "      <td>Male</td>\n",
       "      <td>19</td>\n",
       "      <td>15</td>\n",
       "      <td>39</td>\n",
       "    </tr>\n",
       "    <tr>\n",
       "      <th>1</th>\n",
       "      <td>2</td>\n",
       "      <td>Male</td>\n",
       "      <td>21</td>\n",
       "      <td>15</td>\n",
       "      <td>81</td>\n",
       "    </tr>\n",
       "    <tr>\n",
       "      <th>2</th>\n",
       "      <td>3</td>\n",
       "      <td>Female</td>\n",
       "      <td>20</td>\n",
       "      <td>16</td>\n",
       "      <td>6</td>\n",
       "    </tr>\n",
       "    <tr>\n",
       "      <th>3</th>\n",
       "      <td>4</td>\n",
       "      <td>Female</td>\n",
       "      <td>23</td>\n",
       "      <td>16</td>\n",
       "      <td>77</td>\n",
       "    </tr>\n",
       "    <tr>\n",
       "      <th>4</th>\n",
       "      <td>5</td>\n",
       "      <td>Female</td>\n",
       "      <td>31</td>\n",
       "      <td>17</td>\n",
       "      <td>40</td>\n",
       "    </tr>\n",
       "  </tbody>\n",
       "</table>\n",
       "</div>"
      ],
      "text/plain": [
       "   CustomerID  Gender  Age  Annual Income (k$)  Spending Score (1-100)\n",
       "0           1    Male   19                  15                      39\n",
       "1           2    Male   21                  15                      81\n",
       "2           3  Female   20                  16                       6\n",
       "3           4  Female   23                  16                      77\n",
       "4           5  Female   31                  17                      40"
      ]
     },
     "execution_count": 3,
     "metadata": {},
     "output_type": "execute_result"
    }
   ],
   "source": [
    "# Load Customer Segmentation dataset from Kaggle\n",
    "import pandas as pd\n",
    "from pathlib import Path\n",
    "\n",
    "# Setup data directory\n",
    "data_dir = Path('../datasets/clustering')\n",
    "data_dir.mkdir(parents=True, exist_ok=True)\n",
    "\n",
    "data_path = data_dir / 'Mall_Customers.csv'\n",
    "\n",
    "# Download from Kaggle if not already present\n",
    "if not data_path.exists():\n",
    "    print(f\"📥 Downloading dataset from Kaggle...\")\n",
    "    \n",
    "    # Check for Kaggle credentials\n",
    "    kaggle_json = Path.home() / '.kaggle' / 'kaggle.json'\n",
    "    \n",
    "    if not kaggle_json.exists():\n",
    "        print(\"⚠️  Kaggle credentials not found!\")\n",
    "        print(\"\\nTo download datasets automatically, you need Kaggle API credentials:\")\n",
    "        print(\"1. Go to https://www.kaggle.com/settings\")\n",
    "        print(\"2. Scroll to 'API' section and click 'Create New API Token'\")\n",
    "        print(\"3. This downloads kaggle.json\")\n",
    "        print(\"4. Place it in ~/.kaggle/kaggle.json\")\n",
    "        print(\"   mkdir -p ~/.kaggle && mv kaggle.json ~/.kaggle/ && chmod 600 ~/.kaggle/kaggle.json\")\n",
    "        raise Exception(\"Please set up Kaggle credentials to download the dataset\")\n",
    "    else:\n",
    "        # Download using Kaggle API\n",
    "        import kaggle\n",
    "        print(f\"Downloading from Kaggle: vjchoudhary7/customer-segmentation-tutorial-in-python\")\n",
    "        kaggle.api.dataset_download_files(\n",
    "            'vjchoudhary7/customer-segmentation-tutorial-in-python',\n",
    "            path=data_dir,\n",
    "            unzip=True,\n",
    "            quiet=False\n",
    "        )\n",
    "        print(f\"✅ Dataset downloaded to {data_dir}\")\n",
    "else:\n",
    "    print(f\"✅ Dataset already exists at {data_path}\")\n",
    "\n",
    "# Load the data\n",
    "print(f\"\\n📊 Loading dataset...\")\n",
    "data = pd.read_csv(data_path)\n",
    "print(f\"Dataset shape: {data.shape}\")\n",
    "\n",
    "# Display first few rows\n",
    "data.head()"
   ]
  },
  {
   "cell_type": "markdown",
   "id": "c00f6a4a",
   "metadata": {
    "papermill": {
     "duration": 0.014677,
     "end_time": "2025-10-23T06:24:08.501220",
     "exception": false,
     "start_time": "2025-10-23T06:24:08.486543",
     "status": "completed"
    },
    "tags": []
   },
   "source": [
    "## Setup\n",
    "This function initializes the training environment and creates the transformation pipeline. Setup function must be called before executing any other function in PyCaret. It only has one required parameter i.e. `data`. All the other parameters are optional."
   ]
  },
  {
   "cell_type": "code",
   "execution_count": 4,
   "id": "97f2c6c6",
   "metadata": {
    "execution": {
     "iopub.execute_input": "2025-10-23T06:24:08.532279Z",
     "iopub.status.busy": "2025-10-23T06:24:08.531982Z",
     "iopub.status.idle": "2025-10-23T06:24:13.006420Z",
     "shell.execute_reply": "2025-10-23T06:24:13.005431Z"
    },
    "papermill": {
     "duration": 4.491405,
     "end_time": "2025-10-23T06:24:13.007307",
     "exception": false,
     "start_time": "2025-10-23T06:24:08.515902",
     "status": "completed"
    },
    "tags": []
   },
   "outputs": [
    {
     "data": {
      "text/html": [
       "<style type=\"text/css\">\n",
       "#T_9ec15_row5_col1 {\n",
       "  background-color: lightgreen;\n",
       "}\n",
       "</style>\n",
       "<table id=\"T_9ec15\">\n",
       "  <thead>\n",
       "    <tr>\n",
       "      <th class=\"blank level0\" >&nbsp;</th>\n",
       "      <th id=\"T_9ec15_level0_col0\" class=\"col_heading level0 col0\" >Description</th>\n",
       "      <th id=\"T_9ec15_level0_col1\" class=\"col_heading level0 col1\" >Value</th>\n",
       "    </tr>\n",
       "  </thead>\n",
       "  <tbody>\n",
       "    <tr>\n",
       "      <th id=\"T_9ec15_level0_row0\" class=\"row_heading level0 row0\" >0</th>\n",
       "      <td id=\"T_9ec15_row0_col0\" class=\"data row0 col0\" >Session id</td>\n",
       "      <td id=\"T_9ec15_row0_col1\" class=\"data row0 col1\" >123</td>\n",
       "    </tr>\n",
       "    <tr>\n",
       "      <th id=\"T_9ec15_level0_row1\" class=\"row_heading level0 row1\" >1</th>\n",
       "      <td id=\"T_9ec15_row1_col0\" class=\"data row1 col0\" >Original data shape</td>\n",
       "      <td id=\"T_9ec15_row1_col1\" class=\"data row1 col1\" >(200, 5)</td>\n",
       "    </tr>\n",
       "    <tr>\n",
       "      <th id=\"T_9ec15_level0_row2\" class=\"row_heading level0 row2\" >2</th>\n",
       "      <td id=\"T_9ec15_row2_col0\" class=\"data row2 col0\" >Transformed data shape</td>\n",
       "      <td id=\"T_9ec15_row2_col1\" class=\"data row2 col1\" >(200, 5)</td>\n",
       "    </tr>\n",
       "    <tr>\n",
       "      <th id=\"T_9ec15_level0_row3\" class=\"row_heading level0 row3\" >3</th>\n",
       "      <td id=\"T_9ec15_row3_col0\" class=\"data row3 col0\" >Numeric features</td>\n",
       "      <td id=\"T_9ec15_row3_col1\" class=\"data row3 col1\" >4</td>\n",
       "    </tr>\n",
       "    <tr>\n",
       "      <th id=\"T_9ec15_level0_row4\" class=\"row_heading level0 row4\" >4</th>\n",
       "      <td id=\"T_9ec15_row4_col0\" class=\"data row4 col0\" >Categorical features</td>\n",
       "      <td id=\"T_9ec15_row4_col1\" class=\"data row4 col1\" >1</td>\n",
       "    </tr>\n",
       "    <tr>\n",
       "      <th id=\"T_9ec15_level0_row5\" class=\"row_heading level0 row5\" >5</th>\n",
       "      <td id=\"T_9ec15_row5_col0\" class=\"data row5 col0\" >Preprocess</td>\n",
       "      <td id=\"T_9ec15_row5_col1\" class=\"data row5 col1\" >True</td>\n",
       "    </tr>\n",
       "    <tr>\n",
       "      <th id=\"T_9ec15_level0_row6\" class=\"row_heading level0 row6\" >6</th>\n",
       "      <td id=\"T_9ec15_row6_col0\" class=\"data row6 col0\" >Imputation type</td>\n",
       "      <td id=\"T_9ec15_row6_col1\" class=\"data row6 col1\" >simple</td>\n",
       "    </tr>\n",
       "    <tr>\n",
       "      <th id=\"T_9ec15_level0_row7\" class=\"row_heading level0 row7\" >7</th>\n",
       "      <td id=\"T_9ec15_row7_col0\" class=\"data row7 col0\" >Numeric imputation</td>\n",
       "      <td id=\"T_9ec15_row7_col1\" class=\"data row7 col1\" >mean</td>\n",
       "    </tr>\n",
       "    <tr>\n",
       "      <th id=\"T_9ec15_level0_row8\" class=\"row_heading level0 row8\" >8</th>\n",
       "      <td id=\"T_9ec15_row8_col0\" class=\"data row8 col0\" >Categorical imputation</td>\n",
       "      <td id=\"T_9ec15_row8_col1\" class=\"data row8 col1\" >mode</td>\n",
       "    </tr>\n",
       "    <tr>\n",
       "      <th id=\"T_9ec15_level0_row9\" class=\"row_heading level0 row9\" >9</th>\n",
       "      <td id=\"T_9ec15_row9_col0\" class=\"data row9 col0\" >Maximum one-hot encoding</td>\n",
       "      <td id=\"T_9ec15_row9_col1\" class=\"data row9 col1\" >-1</td>\n",
       "    </tr>\n",
       "    <tr>\n",
       "      <th id=\"T_9ec15_level0_row10\" class=\"row_heading level0 row10\" >10</th>\n",
       "      <td id=\"T_9ec15_row10_col0\" class=\"data row10 col0\" >Encoding method</td>\n",
       "      <td id=\"T_9ec15_row10_col1\" class=\"data row10 col1\" >None</td>\n",
       "    </tr>\n",
       "    <tr>\n",
       "      <th id=\"T_9ec15_level0_row11\" class=\"row_heading level0 row11\" >11</th>\n",
       "      <td id=\"T_9ec15_row11_col0\" class=\"data row11 col0\" >CPU Jobs</td>\n",
       "      <td id=\"T_9ec15_row11_col1\" class=\"data row11 col1\" >-1</td>\n",
       "    </tr>\n",
       "    <tr>\n",
       "      <th id=\"T_9ec15_level0_row12\" class=\"row_heading level0 row12\" >12</th>\n",
       "      <td id=\"T_9ec15_row12_col0\" class=\"data row12 col0\" >Use GPU</td>\n",
       "      <td id=\"T_9ec15_row12_col1\" class=\"data row12 col1\" >False</td>\n",
       "    </tr>\n",
       "    <tr>\n",
       "      <th id=\"T_9ec15_level0_row13\" class=\"row_heading level0 row13\" >13</th>\n",
       "      <td id=\"T_9ec15_row13_col0\" class=\"data row13 col0\" >Log Experiment</td>\n",
       "      <td id=\"T_9ec15_row13_col1\" class=\"data row13 col1\" >False</td>\n",
       "    </tr>\n",
       "    <tr>\n",
       "      <th id=\"T_9ec15_level0_row14\" class=\"row_heading level0 row14\" >14</th>\n",
       "      <td id=\"T_9ec15_row14_col0\" class=\"data row14 col0\" >Experiment Name</td>\n",
       "      <td id=\"T_9ec15_row14_col1\" class=\"data row14 col1\" >cluster-default-name</td>\n",
       "    </tr>\n",
       "    <tr>\n",
       "      <th id=\"T_9ec15_level0_row15\" class=\"row_heading level0 row15\" >15</th>\n",
       "      <td id=\"T_9ec15_row15_col0\" class=\"data row15 col0\" >USI</td>\n",
       "      <td id=\"T_9ec15_row15_col1\" class=\"data row15 col1\" >73b9</td>\n",
       "    </tr>\n",
       "  </tbody>\n",
       "</table>\n"
      ],
      "text/plain": [
       "<pandas.io.formats.style.Styler at 0x7f1797a92a40>"
      ]
     },
     "metadata": {},
     "output_type": "display_data"
    }
   ],
   "source": [
    "# import pycaret clustering and init setup\n",
    "from pycaret.clustering import *\n",
    "s = setup(data, session_id=123)  # session_id for reproducibility"
   ]
  },
  {
   "cell_type": "markdown",
   "id": "3c583864",
   "metadata": {
    "papermill": {
     "duration": 0.014741,
     "end_time": "2025-10-23T06:24:13.037409",
     "exception": false,
     "start_time": "2025-10-23T06:24:13.022668",
     "status": "completed"
    },
    "tags": []
   },
   "source": [
    "Once the setup has been successfully executed it shows the information grid containing experiment level information. \n",
    "\n",
    "- **Session id:**  A pseudo-random number distributed as a seed in all functions for later reproducibility. If no `session_id` is passed, a random number is automatically generated that is distributed to all functions.<br/>\n",
    "<br/>\n",
    "- **Original data shape:**  Shape of the original data prior to any transformations. <br/>\n",
    "<br/>\n",
    "- **Transformed data shape:**  Shape of data after transformations <br/>\n",
    "<br/>\n",
    "- **Numeric features :**  The number of features considered as numerical. <br/>\n",
    "<br/>\n",
    "- **Categorical features :**  The number of features considered as categorical. <br/>"
   ]
  },
  {
   "cell_type": "markdown",
   "id": "ada19398",
   "metadata": {
    "papermill": {
     "duration": 0.014639,
     "end_time": "2025-10-23T06:24:13.066727",
     "exception": false,
     "start_time": "2025-10-23T06:24:13.052088",
     "status": "completed"
    },
    "tags": []
   },
   "source": [
    "PyCaret has two set of API's that you can work with. (1) Functional (as seen above) and (2) Object Oriented API.\n",
    "\n",
    "With Object Oriented API instead of executing functions directly you will import a class and execute methods of class."
   ]
  },
  {
   "cell_type": "code",
   "execution_count": 5,
   "id": "32ee91c9",
   "metadata": {
    "execution": {
     "iopub.execute_input": "2025-10-23T06:24:13.097811Z",
     "iopub.status.busy": "2025-10-23T06:24:13.097448Z",
     "iopub.status.idle": "2025-10-23T06:24:13.101520Z",
     "shell.execute_reply": "2025-10-23T06:24:13.100394Z"
    },
    "papermill": {
     "duration": 0.02094,
     "end_time": "2025-10-23T06:24:13.102320",
     "exception": false,
     "start_time": "2025-10-23T06:24:13.081380",
     "status": "completed"
    },
    "tags": []
   },
   "outputs": [],
   "source": [
    "# import ClusteringExperiment and init the class\n",
    "from pycaret.clustering import ClusteringExperiment\n",
    "exp = ClusteringExperiment()"
   ]
  },
  {
   "cell_type": "code",
   "execution_count": 6,
   "id": "3ead9fb5",
   "metadata": {
    "execution": {
     "iopub.execute_input": "2025-10-23T06:24:13.133678Z",
     "iopub.status.busy": "2025-10-23T06:24:13.133379Z",
     "iopub.status.idle": "2025-10-23T06:24:13.138036Z",
     "shell.execute_reply": "2025-10-23T06:24:13.137296Z"
    },
    "papermill": {
     "duration": 0.021995,
     "end_time": "2025-10-23T06:24:13.139235",
     "exception": false,
     "start_time": "2025-10-23T06:24:13.117240",
     "status": "completed"
    },
    "tags": []
   },
   "outputs": [
    {
     "data": {
      "text/plain": [
       "pycaret.clustering.oop.ClusteringExperiment"
      ]
     },
     "execution_count": 6,
     "metadata": {},
     "output_type": "execute_result"
    }
   ],
   "source": [
    "# check the type of exp\n",
    "type(exp)"
   ]
  },
  {
   "cell_type": "code",
   "execution_count": 7,
   "id": "f05b8590",
   "metadata": {
    "execution": {
     "iopub.execute_input": "2025-10-23T06:24:13.171007Z",
     "iopub.status.busy": "2025-10-23T06:24:13.170679Z",
     "iopub.status.idle": "2025-10-23T06:24:13.268702Z",
     "shell.execute_reply": "2025-10-23T06:24:13.267919Z"
    },
    "papermill": {
     "duration": 0.115291,
     "end_time": "2025-10-23T06:24:13.269643",
     "exception": false,
     "start_time": "2025-10-23T06:24:13.154352",
     "status": "completed"
    },
    "tags": []
   },
   "outputs": [
    {
     "data": {
      "text/html": [
       "<style type=\"text/css\">\n",
       "#T_813ff_row5_col1 {\n",
       "  background-color: lightgreen;\n",
       "}\n",
       "</style>\n",
       "<table id=\"T_813ff\">\n",
       "  <thead>\n",
       "    <tr>\n",
       "      <th class=\"blank level0\" >&nbsp;</th>\n",
       "      <th id=\"T_813ff_level0_col0\" class=\"col_heading level0 col0\" >Description</th>\n",
       "      <th id=\"T_813ff_level0_col1\" class=\"col_heading level0 col1\" >Value</th>\n",
       "    </tr>\n",
       "  </thead>\n",
       "  <tbody>\n",
       "    <tr>\n",
       "      <th id=\"T_813ff_level0_row0\" class=\"row_heading level0 row0\" >0</th>\n",
       "      <td id=\"T_813ff_row0_col0\" class=\"data row0 col0\" >Session id</td>\n",
       "      <td id=\"T_813ff_row0_col1\" class=\"data row0 col1\" >123</td>\n",
       "    </tr>\n",
       "    <tr>\n",
       "      <th id=\"T_813ff_level0_row1\" class=\"row_heading level0 row1\" >1</th>\n",
       "      <td id=\"T_813ff_row1_col0\" class=\"data row1 col0\" >Original data shape</td>\n",
       "      <td id=\"T_813ff_row1_col1\" class=\"data row1 col1\" >(200, 5)</td>\n",
       "    </tr>\n",
       "    <tr>\n",
       "      <th id=\"T_813ff_level0_row2\" class=\"row_heading level0 row2\" >2</th>\n",
       "      <td id=\"T_813ff_row2_col0\" class=\"data row2 col0\" >Transformed data shape</td>\n",
       "      <td id=\"T_813ff_row2_col1\" class=\"data row2 col1\" >(200, 5)</td>\n",
       "    </tr>\n",
       "    <tr>\n",
       "      <th id=\"T_813ff_level0_row3\" class=\"row_heading level0 row3\" >3</th>\n",
       "      <td id=\"T_813ff_row3_col0\" class=\"data row3 col0\" >Numeric features</td>\n",
       "      <td id=\"T_813ff_row3_col1\" class=\"data row3 col1\" >4</td>\n",
       "    </tr>\n",
       "    <tr>\n",
       "      <th id=\"T_813ff_level0_row4\" class=\"row_heading level0 row4\" >4</th>\n",
       "      <td id=\"T_813ff_row4_col0\" class=\"data row4 col0\" >Categorical features</td>\n",
       "      <td id=\"T_813ff_row4_col1\" class=\"data row4 col1\" >1</td>\n",
       "    </tr>\n",
       "    <tr>\n",
       "      <th id=\"T_813ff_level0_row5\" class=\"row_heading level0 row5\" >5</th>\n",
       "      <td id=\"T_813ff_row5_col0\" class=\"data row5 col0\" >Preprocess</td>\n",
       "      <td id=\"T_813ff_row5_col1\" class=\"data row5 col1\" >True</td>\n",
       "    </tr>\n",
       "    <tr>\n",
       "      <th id=\"T_813ff_level0_row6\" class=\"row_heading level0 row6\" >6</th>\n",
       "      <td id=\"T_813ff_row6_col0\" class=\"data row6 col0\" >Imputation type</td>\n",
       "      <td id=\"T_813ff_row6_col1\" class=\"data row6 col1\" >simple</td>\n",
       "    </tr>\n",
       "    <tr>\n",
       "      <th id=\"T_813ff_level0_row7\" class=\"row_heading level0 row7\" >7</th>\n",
       "      <td id=\"T_813ff_row7_col0\" class=\"data row7 col0\" >Numeric imputation</td>\n",
       "      <td id=\"T_813ff_row7_col1\" class=\"data row7 col1\" >mean</td>\n",
       "    </tr>\n",
       "    <tr>\n",
       "      <th id=\"T_813ff_level0_row8\" class=\"row_heading level0 row8\" >8</th>\n",
       "      <td id=\"T_813ff_row8_col0\" class=\"data row8 col0\" >Categorical imputation</td>\n",
       "      <td id=\"T_813ff_row8_col1\" class=\"data row8 col1\" >mode</td>\n",
       "    </tr>\n",
       "    <tr>\n",
       "      <th id=\"T_813ff_level0_row9\" class=\"row_heading level0 row9\" >9</th>\n",
       "      <td id=\"T_813ff_row9_col0\" class=\"data row9 col0\" >Maximum one-hot encoding</td>\n",
       "      <td id=\"T_813ff_row9_col1\" class=\"data row9 col1\" >-1</td>\n",
       "    </tr>\n",
       "    <tr>\n",
       "      <th id=\"T_813ff_level0_row10\" class=\"row_heading level0 row10\" >10</th>\n",
       "      <td id=\"T_813ff_row10_col0\" class=\"data row10 col0\" >Encoding method</td>\n",
       "      <td id=\"T_813ff_row10_col1\" class=\"data row10 col1\" >None</td>\n",
       "    </tr>\n",
       "    <tr>\n",
       "      <th id=\"T_813ff_level0_row11\" class=\"row_heading level0 row11\" >11</th>\n",
       "      <td id=\"T_813ff_row11_col0\" class=\"data row11 col0\" >CPU Jobs</td>\n",
       "      <td id=\"T_813ff_row11_col1\" class=\"data row11 col1\" >-1</td>\n",
       "    </tr>\n",
       "    <tr>\n",
       "      <th id=\"T_813ff_level0_row12\" class=\"row_heading level0 row12\" >12</th>\n",
       "      <td id=\"T_813ff_row12_col0\" class=\"data row12 col0\" >Use GPU</td>\n",
       "      <td id=\"T_813ff_row12_col1\" class=\"data row12 col1\" >False</td>\n",
       "    </tr>\n",
       "    <tr>\n",
       "      <th id=\"T_813ff_level0_row13\" class=\"row_heading level0 row13\" >13</th>\n",
       "      <td id=\"T_813ff_row13_col0\" class=\"data row13 col0\" >Log Experiment</td>\n",
       "      <td id=\"T_813ff_row13_col1\" class=\"data row13 col1\" >False</td>\n",
       "    </tr>\n",
       "    <tr>\n",
       "      <th id=\"T_813ff_level0_row14\" class=\"row_heading level0 row14\" >14</th>\n",
       "      <td id=\"T_813ff_row14_col0\" class=\"data row14 col0\" >Experiment Name</td>\n",
       "      <td id=\"T_813ff_row14_col1\" class=\"data row14 col1\" >cluster-default-name</td>\n",
       "    </tr>\n",
       "    <tr>\n",
       "      <th id=\"T_813ff_level0_row15\" class=\"row_heading level0 row15\" >15</th>\n",
       "      <td id=\"T_813ff_row15_col0\" class=\"data row15 col0\" >USI</td>\n",
       "      <td id=\"T_813ff_row15_col1\" class=\"data row15 col1\" >e031</td>\n",
       "    </tr>\n",
       "  </tbody>\n",
       "</table>\n"
      ],
      "text/plain": [
       "<pandas.io.formats.style.Styler at 0x7f1795c93b80>"
      ]
     },
     "metadata": {},
     "output_type": "display_data"
    },
    {
     "data": {
      "text/plain": [
       "<pycaret.clustering.oop.ClusteringExperiment at 0x7f1795eebdf0>"
      ]
     },
     "execution_count": 7,
     "metadata": {},
     "output_type": "execute_result"
    }
   ],
   "source": [
    "# init setup on exp\n",
    "exp.setup(data, session_id = 123)"
   ]
  },
  {
   "cell_type": "markdown",
   "id": "77213120",
   "metadata": {
    "papermill": {
     "duration": 0.015127,
     "end_time": "2025-10-23T06:24:13.300267",
     "exception": false,
     "start_time": "2025-10-23T06:24:13.285140",
     "status": "completed"
    },
    "tags": []
   },
   "source": [
    "You can use any of the two method i.e. Functional or OOP and even switch back and forth between two set of API's. The choice of method will not impact the results and has been tested for consistency.\n",
    "___"
   ]
  },
  {
   "cell_type": "markdown",
   "id": "5de1eab6",
   "metadata": {
    "papermill": {
     "duration": 0.015044,
     "end_time": "2025-10-23T06:24:13.330566",
     "exception": false,
     "start_time": "2025-10-23T06:24:13.315522",
     "status": "completed"
    },
    "tags": []
   },
   "source": [
    "## Create Model\n",
    "\n",
    "This function trains and evaluates the performance of a given model. Metrics evaluated can be accessed using the `get_metrics` function. Custom metrics can be added or removed using the `add_metric` and `remove_metric` function. All the available models can be accessed using the `models` function."
   ]
  },
  {
   "cell_type": "code",
   "execution_count": 8,
   "id": "65a19df4",
   "metadata": {
    "execution": {
     "iopub.execute_input": "2025-10-23T06:24:13.362477Z",
     "iopub.status.busy": "2025-10-23T06:24:13.362130Z",
     "iopub.status.idle": "2025-10-23T06:24:13.665580Z",
     "shell.execute_reply": "2025-10-23T06:24:13.664654Z"
    },
    "papermill": {
     "duration": 0.321002,
     "end_time": "2025-10-23T06:24:13.666603",
     "exception": false,
     "start_time": "2025-10-23T06:24:13.345601",
     "status": "completed"
    },
    "tags": []
   },
   "outputs": [
    {
     "data": {
      "text/html": [],
      "text/plain": [
       "<IPython.core.display.HTML object>"
      ]
     },
     "metadata": {},
     "output_type": "display_data"
    },
    {
     "data": {
      "text/html": [
       "<style type=\"text/css\">\n",
       "</style>\n",
       "<table id=\"T_7b90b\">\n",
       "  <thead>\n",
       "    <tr>\n",
       "      <th class=\"blank level0\" >&nbsp;</th>\n",
       "      <th id=\"T_7b90b_level0_col0\" class=\"col_heading level0 col0\" >Silhouette</th>\n",
       "      <th id=\"T_7b90b_level0_col1\" class=\"col_heading level0 col1\" >Calinski-Harabasz</th>\n",
       "      <th id=\"T_7b90b_level0_col2\" class=\"col_heading level0 col2\" >Davies-Bouldin</th>\n",
       "      <th id=\"T_7b90b_level0_col3\" class=\"col_heading level0 col3\" >Homogeneity</th>\n",
       "      <th id=\"T_7b90b_level0_col4\" class=\"col_heading level0 col4\" >Rand Index</th>\n",
       "      <th id=\"T_7b90b_level0_col5\" class=\"col_heading level0 col5\" >Completeness</th>\n",
       "    </tr>\n",
       "  </thead>\n",
       "  <tbody>\n",
       "    <tr>\n",
       "      <th id=\"T_7b90b_level0_row0\" class=\"row_heading level0 row0\" >0</th>\n",
       "      <td id=\"T_7b90b_row0_col0\" class=\"data row0 col0\" >0.4209</td>\n",
       "      <td id=\"T_7b90b_row0_col1\" class=\"data row0 col1\" >260.8046</td>\n",
       "      <td id=\"T_7b90b_row0_col2\" class=\"data row0 col2\" >0.8565</td>\n",
       "      <td id=\"T_7b90b_row0_col3\" class=\"data row0 col3\" >0</td>\n",
       "      <td id=\"T_7b90b_row0_col4\" class=\"data row0 col4\" >0</td>\n",
       "      <td id=\"T_7b90b_row0_col5\" class=\"data row0 col5\" >0</td>\n",
       "    </tr>\n",
       "  </tbody>\n",
       "</table>\n"
      ],
      "text/plain": [
       "<pandas.io.formats.style.Styler at 0x7f1795c921a0>"
      ]
     },
     "metadata": {},
     "output_type": "display_data"
    },
    {
     "data": {
      "text/html": [],
      "text/plain": [
       "<IPython.core.display.HTML object>"
      ]
     },
     "metadata": {},
     "output_type": "display_data"
    }
   ],
   "source": [
    "# train kmeans model\n",
    "kmeans = create_model('kmeans')"
   ]
  },
  {
   "cell_type": "code",
   "execution_count": 9,
   "id": "8e1442ef",
   "metadata": {
    "execution": {
     "iopub.execute_input": "2025-10-23T06:24:13.699775Z",
     "iopub.status.busy": "2025-10-23T06:24:13.699480Z",
     "iopub.status.idle": "2025-10-23T06:24:13.708454Z",
     "shell.execute_reply": "2025-10-23T06:24:13.707625Z"
    },
    "papermill": {
     "duration": 0.026657,
     "end_time": "2025-10-23T06:24:13.709227",
     "exception": false,
     "start_time": "2025-10-23T06:24:13.682570",
     "status": "completed"
    },
    "tags": []
   },
   "outputs": [
    {
     "data": {
      "text/html": [
       "<div>\n",
       "<style scoped>\n",
       "    .dataframe tbody tr th:only-of-type {\n",
       "        vertical-align: middle;\n",
       "    }\n",
       "\n",
       "    .dataframe tbody tr th {\n",
       "        vertical-align: top;\n",
       "    }\n",
       "\n",
       "    .dataframe thead th {\n",
       "        text-align: right;\n",
       "    }\n",
       "</style>\n",
       "<table border=\"1\" class=\"dataframe\">\n",
       "  <thead>\n",
       "    <tr style=\"text-align: right;\">\n",
       "      <th></th>\n",
       "      <th>Name</th>\n",
       "      <th>Reference</th>\n",
       "    </tr>\n",
       "    <tr>\n",
       "      <th>ID</th>\n",
       "      <th></th>\n",
       "      <th></th>\n",
       "    </tr>\n",
       "  </thead>\n",
       "  <tbody>\n",
       "    <tr>\n",
       "      <th>kmeans</th>\n",
       "      <td>K-Means Clustering</td>\n",
       "      <td>sklearn.cluster._kmeans.KMeans</td>\n",
       "    </tr>\n",
       "    <tr>\n",
       "      <th>ap</th>\n",
       "      <td>Affinity Propagation</td>\n",
       "      <td>sklearn.cluster._affinity_propagation.Affinity...</td>\n",
       "    </tr>\n",
       "    <tr>\n",
       "      <th>meanshift</th>\n",
       "      <td>Mean Shift Clustering</td>\n",
       "      <td>sklearn.cluster._mean_shift.MeanShift</td>\n",
       "    </tr>\n",
       "    <tr>\n",
       "      <th>sc</th>\n",
       "      <td>Spectral Clustering</td>\n",
       "      <td>sklearn.cluster._spectral.SpectralClustering</td>\n",
       "    </tr>\n",
       "    <tr>\n",
       "      <th>hclust</th>\n",
       "      <td>Agglomerative Clustering</td>\n",
       "      <td>sklearn.cluster._agglomerative.AgglomerativeCl...</td>\n",
       "    </tr>\n",
       "    <tr>\n",
       "      <th>dbscan</th>\n",
       "      <td>Density-Based Spatial Clustering</td>\n",
       "      <td>sklearn.cluster._dbscan.DBSCAN</td>\n",
       "    </tr>\n",
       "    <tr>\n",
       "      <th>optics</th>\n",
       "      <td>OPTICS Clustering</td>\n",
       "      <td>sklearn.cluster._optics.OPTICS</td>\n",
       "    </tr>\n",
       "    <tr>\n",
       "      <th>birch</th>\n",
       "      <td>Birch Clustering</td>\n",
       "      <td>sklearn.cluster._birch.Birch</td>\n",
       "    </tr>\n",
       "  </tbody>\n",
       "</table>\n",
       "</div>"
      ],
      "text/plain": [
       "                                       Name  \\\n",
       "ID                                            \n",
       "kmeans                   K-Means Clustering   \n",
       "ap                     Affinity Propagation   \n",
       "meanshift             Mean Shift Clustering   \n",
       "sc                      Spectral Clustering   \n",
       "hclust             Agglomerative Clustering   \n",
       "dbscan     Density-Based Spatial Clustering   \n",
       "optics                    OPTICS Clustering   \n",
       "birch                      Birch Clustering   \n",
       "\n",
       "                                                   Reference  \n",
       "ID                                                            \n",
       "kmeans                        sklearn.cluster._kmeans.KMeans  \n",
       "ap         sklearn.cluster._affinity_propagation.Affinity...  \n",
       "meanshift              sklearn.cluster._mean_shift.MeanShift  \n",
       "sc              sklearn.cluster._spectral.SpectralClustering  \n",
       "hclust     sklearn.cluster._agglomerative.AgglomerativeCl...  \n",
       "dbscan                        sklearn.cluster._dbscan.DBSCAN  \n",
       "optics                        sklearn.cluster._optics.OPTICS  \n",
       "birch                           sklearn.cluster._birch.Birch  "
      ]
     },
     "execution_count": 9,
     "metadata": {},
     "output_type": "execute_result"
    }
   ],
   "source": [
    "# to check all the available models\n",
    "models()"
   ]
  },
  {
   "cell_type": "code",
   "execution_count": 10,
   "id": "4954b77b",
   "metadata": {
    "execution": {
     "iopub.execute_input": "2025-10-23T06:24:13.742623Z",
     "iopub.status.busy": "2025-10-23T06:24:13.742320Z",
     "iopub.status.idle": "2025-10-23T06:24:15.290773Z",
     "shell.execute_reply": "2025-10-23T06:24:15.289615Z"
    },
    "papermill": {
     "duration": 1.566502,
     "end_time": "2025-10-23T06:24:15.291674",
     "exception": false,
     "start_time": "2025-10-23T06:24:13.725172",
     "status": "completed"
    },
    "tags": []
   },
   "outputs": [
    {
     "data": {
      "text/html": [],
      "text/plain": [
       "<IPython.core.display.HTML object>"
      ]
     },
     "metadata": {},
     "output_type": "display_data"
    },
    {
     "data": {
      "text/html": [
       "<style type=\"text/css\">\n",
       "</style>\n",
       "<table id=\"T_eec91\">\n",
       "  <thead>\n",
       "    <tr>\n",
       "      <th class=\"blank level0\" >&nbsp;</th>\n",
       "      <th id=\"T_eec91_level0_col0\" class=\"col_heading level0 col0\" >Silhouette</th>\n",
       "      <th id=\"T_eec91_level0_col1\" class=\"col_heading level0 col1\" >Calinski-Harabasz</th>\n",
       "      <th id=\"T_eec91_level0_col2\" class=\"col_heading level0 col2\" >Davies-Bouldin</th>\n",
       "      <th id=\"T_eec91_level0_col3\" class=\"col_heading level0 col3\" >Homogeneity</th>\n",
       "      <th id=\"T_eec91_level0_col4\" class=\"col_heading level0 col4\" >Rand Index</th>\n",
       "      <th id=\"T_eec91_level0_col5\" class=\"col_heading level0 col5\" >Completeness</th>\n",
       "    </tr>\n",
       "  </thead>\n",
       "  <tbody>\n",
       "    <tr>\n",
       "      <th id=\"T_eec91_level0_row0\" class=\"row_heading level0 row0\" >0</th>\n",
       "      <td id=\"T_eec91_row0_col0\" class=\"data row0 col0\" >0</td>\n",
       "      <td id=\"T_eec91_row0_col1\" class=\"data row0 col1\" >0</td>\n",
       "      <td id=\"T_eec91_row0_col2\" class=\"data row0 col2\" >0</td>\n",
       "      <td id=\"T_eec91_row0_col3\" class=\"data row0 col3\" >0</td>\n",
       "      <td id=\"T_eec91_row0_col4\" class=\"data row0 col4\" >0</td>\n",
       "      <td id=\"T_eec91_row0_col5\" class=\"data row0 col5\" >0</td>\n",
       "    </tr>\n",
       "  </tbody>\n",
       "</table>\n"
      ],
      "text/plain": [
       "<pandas.io.formats.style.Styler at 0x7f17da112fb0>"
      ]
     },
     "metadata": {},
     "output_type": "display_data"
    },
    {
     "data": {
      "text/html": [],
      "text/plain": [
       "<IPython.core.display.HTML object>"
      ]
     },
     "metadata": {},
     "output_type": "display_data"
    }
   ],
   "source": [
    "# train meanshift model\n",
    "meanshift = create_model('meanshift')"
   ]
  },
  {
   "cell_type": "markdown",
   "id": "8aad62df",
   "metadata": {
    "papermill": {
     "duration": 0.015711,
     "end_time": "2025-10-23T06:24:15.323644",
     "exception": false,
     "start_time": "2025-10-23T06:24:15.307933",
     "status": "completed"
    },
    "tags": []
   },
   "source": [
    "## Assign Model\n",
    "This function assigns cluster labels to the training data, given a trained model."
   ]
  },
  {
   "cell_type": "code",
   "execution_count": 11,
   "id": "f1e54158",
   "metadata": {
    "execution": {
     "iopub.execute_input": "2025-10-23T06:24:15.356518Z",
     "iopub.status.busy": "2025-10-23T06:24:15.356211Z",
     "iopub.status.idle": "2025-10-23T06:24:15.371374Z",
     "shell.execute_reply": "2025-10-23T06:24:15.370313Z"
    },
    "papermill": {
     "duration": 0.033072,
     "end_time": "2025-10-23T06:24:15.372296",
     "exception": false,
     "start_time": "2025-10-23T06:24:15.339224",
     "status": "completed"
    },
    "tags": []
   },
   "outputs": [
    {
     "data": {
      "text/html": [
       "<div>\n",
       "<style scoped>\n",
       "    .dataframe tbody tr th:only-of-type {\n",
       "        vertical-align: middle;\n",
       "    }\n",
       "\n",
       "    .dataframe tbody tr th {\n",
       "        vertical-align: top;\n",
       "    }\n",
       "\n",
       "    .dataframe thead th {\n",
       "        text-align: right;\n",
       "    }\n",
       "</style>\n",
       "<table border=\"1\" class=\"dataframe\">\n",
       "  <thead>\n",
       "    <tr style=\"text-align: right;\">\n",
       "      <th></th>\n",
       "      <th>CustomerID</th>\n",
       "      <th>Gender</th>\n",
       "      <th>Age</th>\n",
       "      <th>Annual Income (k$)</th>\n",
       "      <th>Spending Score (1-100)</th>\n",
       "      <th>Cluster</th>\n",
       "    </tr>\n",
       "  </thead>\n",
       "  <tbody>\n",
       "    <tr>\n",
       "      <th>0</th>\n",
       "      <td>1</td>\n",
       "      <td>Male</td>\n",
       "      <td>19</td>\n",
       "      <td>15</td>\n",
       "      <td>39</td>\n",
       "      <td>Cluster 1</td>\n",
       "    </tr>\n",
       "    <tr>\n",
       "      <th>1</th>\n",
       "      <td>2</td>\n",
       "      <td>Male</td>\n",
       "      <td>21</td>\n",
       "      <td>15</td>\n",
       "      <td>81</td>\n",
       "      <td>Cluster 1</td>\n",
       "    </tr>\n",
       "    <tr>\n",
       "      <th>2</th>\n",
       "      <td>3</td>\n",
       "      <td>Female</td>\n",
       "      <td>20</td>\n",
       "      <td>16</td>\n",
       "      <td>6</td>\n",
       "      <td>Cluster 1</td>\n",
       "    </tr>\n",
       "    <tr>\n",
       "      <th>3</th>\n",
       "      <td>4</td>\n",
       "      <td>Female</td>\n",
       "      <td>23</td>\n",
       "      <td>16</td>\n",
       "      <td>77</td>\n",
       "      <td>Cluster 1</td>\n",
       "    </tr>\n",
       "    <tr>\n",
       "      <th>4</th>\n",
       "      <td>5</td>\n",
       "      <td>Female</td>\n",
       "      <td>31</td>\n",
       "      <td>17</td>\n",
       "      <td>40</td>\n",
       "      <td>Cluster 1</td>\n",
       "    </tr>\n",
       "    <tr>\n",
       "      <th>...</th>\n",
       "      <td>...</td>\n",
       "      <td>...</td>\n",
       "      <td>...</td>\n",
       "      <td>...</td>\n",
       "      <td>...</td>\n",
       "      <td>...</td>\n",
       "    </tr>\n",
       "    <tr>\n",
       "      <th>195</th>\n",
       "      <td>196</td>\n",
       "      <td>Female</td>\n",
       "      <td>35</td>\n",
       "      <td>120</td>\n",
       "      <td>79</td>\n",
       "      <td>Cluster 2</td>\n",
       "    </tr>\n",
       "    <tr>\n",
       "      <th>196</th>\n",
       "      <td>197</td>\n",
       "      <td>Female</td>\n",
       "      <td>45</td>\n",
       "      <td>126</td>\n",
       "      <td>28</td>\n",
       "      <td>Cluster 3</td>\n",
       "    </tr>\n",
       "    <tr>\n",
       "      <th>197</th>\n",
       "      <td>198</td>\n",
       "      <td>Male</td>\n",
       "      <td>32</td>\n",
       "      <td>126</td>\n",
       "      <td>74</td>\n",
       "      <td>Cluster 2</td>\n",
       "    </tr>\n",
       "    <tr>\n",
       "      <th>198</th>\n",
       "      <td>199</td>\n",
       "      <td>Male</td>\n",
       "      <td>32</td>\n",
       "      <td>137</td>\n",
       "      <td>18</td>\n",
       "      <td>Cluster 3</td>\n",
       "    </tr>\n",
       "    <tr>\n",
       "      <th>199</th>\n",
       "      <td>200</td>\n",
       "      <td>Male</td>\n",
       "      <td>30</td>\n",
       "      <td>137</td>\n",
       "      <td>83</td>\n",
       "      <td>Cluster 2</td>\n",
       "    </tr>\n",
       "  </tbody>\n",
       "</table>\n",
       "<p>200 rows × 6 columns</p>\n",
       "</div>"
      ],
      "text/plain": [
       "     CustomerID  Gender  Age  Annual Income (k$)  Spending Score (1-100)  \\\n",
       "0             1    Male   19                  15                      39   \n",
       "1             2    Male   21                  15                      81   \n",
       "2             3  Female   20                  16                       6   \n",
       "3             4  Female   23                  16                      77   \n",
       "4             5  Female   31                  17                      40   \n",
       "..          ...     ...  ...                 ...                     ...   \n",
       "195         196  Female   35                 120                      79   \n",
       "196         197  Female   45                 126                      28   \n",
       "197         198    Male   32                 126                      74   \n",
       "198         199    Male   32                 137                      18   \n",
       "199         200    Male   30                 137                      83   \n",
       "\n",
       "       Cluster  \n",
       "0    Cluster 1  \n",
       "1    Cluster 1  \n",
       "2    Cluster 1  \n",
       "3    Cluster 1  \n",
       "4    Cluster 1  \n",
       "..         ...  \n",
       "195  Cluster 2  \n",
       "196  Cluster 3  \n",
       "197  Cluster 2  \n",
       "198  Cluster 3  \n",
       "199  Cluster 2  \n",
       "\n",
       "[200 rows x 6 columns]"
      ]
     },
     "execution_count": 11,
     "metadata": {},
     "output_type": "execute_result"
    }
   ],
   "source": [
    "kmeans_cluster = assign_model(kmeans)\n",
    "kmeans_cluster"
   ]
  },
  {
   "cell_type": "markdown",
   "id": "6a77ec0c",
   "metadata": {
    "papermill": {
     "duration": 0.016501,
     "end_time": "2025-10-23T06:24:15.405106",
     "exception": false,
     "start_time": "2025-10-23T06:24:15.388605",
     "status": "completed"
    },
    "tags": []
   },
   "source": [
    "## Analyze Model"
   ]
  },
  {
   "cell_type": "markdown",
   "id": "595ea108",
   "metadata": {
    "papermill": {
     "duration": 0.015807,
     "end_time": "2025-10-23T06:24:15.436993",
     "exception": false,
     "start_time": "2025-10-23T06:24:15.421186",
     "status": "completed"
    },
    "tags": []
   },
   "source": [
    "You can use the `plot_model` function to analyzes the performance of a trained model on the test set. It may require re-training the model in certain cases."
   ]
  },
  {
   "cell_type": "code",
   "execution_count": 12,
   "id": "0ec7fad6",
   "metadata": {
    "execution": {
     "iopub.execute_input": "2025-10-23T06:24:15.470635Z",
     "iopub.status.busy": "2025-10-23T06:24:15.470176Z",
     "iopub.status.idle": "2025-10-23T06:24:17.656557Z",
     "shell.execute_reply": "2025-10-23T06:24:17.655440Z"
    },
    "papermill": {
     "duration": 2.204806,
     "end_time": "2025-10-23T06:24:17.657514",
     "exception": false,
     "start_time": "2025-10-23T06:24:15.452708",
     "status": "completed"
    },
    "tags": []
   },
   "outputs": [
    {
     "data": {
      "text/html": [],
      "text/plain": [
       "<IPython.core.display.HTML object>"
      ]
     },
     "metadata": {},
     "output_type": "display_data"
    },
    {
     "data": {
      "application/vnd.plotly.v1+json": {
       "config": {
        "plotlyServerURL": "https://plot.ly"
       },
       "data": [
        {
         "customdata": {
          "_inputArray": [
           {
            "0": 121
           },
           {
            "0": 122
           },
           {
            "0": 123
           },
           {
            "0": 125
           },
           {
            "0": 127
           },
           {
            "0": 113
           },
           {
            "0": 114
           },
           {
            "0": 115
           },
           {
            "0": 116
           },
           {
            "0": 117
           },
           {
            "0": 118
           },
           {
            "0": 119
           },
           {
            "0": 120
           },
           {
            "0": 105
           },
           {
            "0": 106
           },
           {
            "0": 107
           },
           {
            "0": 108
           },
           {
            "0": 109
           },
           {
            "0": 110
           },
           {
            "0": 111
           },
           {
            "0": 112
           },
           {
            "0": 97
           },
           {
            "0": 98
           },
           {
            "0": 99
           },
           {
            "0": 100
           },
           {
            "0": 101
           },
           {
            "0": 102
           },
           {
            "0": 103
           },
           {
            "0": 104
           },
           {
            "0": 89
           },
           {
            "0": 90
           },
           {
            "0": 91
           },
           {
            "0": 92
           },
           {
            "0": 93
           },
           {
            "0": 94
           },
           {
            "0": 95
           },
           {
            "0": 96
           },
           {
            "0": 81
           },
           {
            "0": 82
           },
           {
            "0": 83
           },
           {
            "0": 84
           },
           {
            "0": 85
           },
           {
            "0": 86
           },
           {
            "0": 87
           },
           {
            "0": 88
           },
           {
            "0": 73
           },
           {
            "0": 74
           },
           {
            "0": 75
           },
           {
            "0": 76
           },
           {
            "0": 77
           },
           {
            "0": 78
           },
           {
            "0": 79
           },
           {
            "0": 80
           },
           {
            "0": 61
           },
           {
            "0": 63
           },
           {
            "0": 64
           },
           {
            "0": 65
           },
           {
            "0": 66
           },
           {
            "0": 67
           },
           {
            "0": 68
           },
           {
            "0": 69
           },
           {
            "0": 70
           },
           {
            "0": 71
           },
           {
            "0": 72
           }
          ],
          "bdata": "eQAAAHoAAAB7AAAAfQAAAH8AAABxAAAAcgAAAHMAAAB0AAAAdQAAAHYAAAB3AAAAeAAAAGkAAABqAAAAawAAAGwAAABtAAAAbgAAAG8AAABwAAAAYQAAAGIAAABjAAAAZAAAAGUAAABmAAAAZwAAAGgAAABZAAAAWgAAAFsAAABcAAAAXQAAAF4AAABfAAAAYAAAAFEAAABSAAAAUwAAAFQAAABVAAAAVgAAAFcAAABYAAAASQAAAEoAAABLAAAATAAAAE0AAABOAAAATwAAAFAAAAA9AAAAPwAAAEAAAABBAAAAQgAAAEMAAABEAAAARQAAAEYAAABHAAAASAAAAA==",
          "dtype": "i4",
          "shape": "64, 1"
         },
         "hovertemplate": "Cluster=Cluster 0<br>PCA1=%{x}<br>PCA2=%{y}<br>Feature=%{customdata[0]}<extra></extra>",
         "legendgroup": "Cluster 0",
         "marker": {
          "color": "#636efa",
          "opacity": 0.5,
          "symbol": "circle"
         },
         "mode": "markers",
         "name": "Cluster 0",
         "orientation": "v",
         "showlegend": true,
         "textposition": "top center",
         "type": "scatter",
         "x": {
          "_inputArray": {
           "0": 21.450974592489754,
           "1": 22.19230350606162,
           "10": 17.786655173619334,
           "11": 19.39733892729148,
           "12": 20.40941267872718,
           "13": 4.675093263971007,
           "14": 5.658439849829047,
           "15": 6.768857553926037,
           "16": 7.725924446772415,
           "17": 8.536747263731094,
           "18": 9.494705859269652,
           "19": 10.440136303275477,
           "2": 24.02957450499534,
           "20": 11.635660955236798,
           "21": -3.493012926081913,
           "22": -2.4428342178138505,
           "23": -1.2978650405534746,
           "24": -0.1741184429954716,
           "25": 1.0755013762859442,
           "26": 1.8826016511975157,
           "27": 2.7637188814962457,
           "28": 3.8903875111481176,
           "29": -11.449552745004645,
           "3": 26.169878160810327,
           "30": -10.723765207798332,
           "31": -9.448360011635135,
           "32": -8.335111236208187,
           "33": -7.136736220264961,
           "34": -6.237344396486955,
           "35": -5.2641958684388666,
           "36": -4.237283628349657,
           "37": -20.57948770950216,
           "38": -19.52850849128086,
           "39": -18.878950624341286,
           "4": 28.326921089506406,
           "40": -17.82335716138069,
           "41": -16.677216041734006,
           "42": -15.995488474888747,
           "43": -13.819905937011251,
           "44": -12.73348354293438,
           "45": -29.546394075198236,
           "46": -28.586834459753184,
           "47": -26.095328475518354,
           "48": -24.942262774011606,
           "49": -24.147879465612917,
           "5": 12.765251385007502,
           "50": -23.23852364903777,
           "51": -22.199721138493185,
           "52": -21.50591448621241,
           "53": -42.14510727851771,
           "54": -39.920737911281726,
           "55": -38.88494862556995,
           "56": -37.6696135988326,
           "57": -36.43951771710588,
           "58": -35.733631979389585,
           "59": -34.98064686037515,
           "6": 13.816679669326023,
           "60": -33.70665363716325,
           "61": -32.950395042198934,
           "62": -31.798481526476483,
           "63": -30.8377897138242,
           "7": 15.15639807919631,
           "8": 16.076772220136665,
           "9": 16.685023090430924,
           "bdata": "BxImEnNzNUDYcHXNOjE2QBnA2zGSBzhAKPyYIn0rOkB+zbsZsVM8QOCmjwfPhylAcSBu1iOiK0BZnLZoE1AuQHG6HlinEzBA2mdarF2vMECb7MM7YskxQAYlAgG4ZTNAdLPxRM9oNECABQqmS7MSQHuYVQ4+ohZAXZQFZU8TG0CFBPm8WOceQJTij4nQEiFAzWcdFkr9IkB2s6iLWeEkQB4sTFp1RSdAdzfQwrDxC8BZe5iq7IoDwD7I/CEOxPS/B+MlXYNJxr/KN1/uQDXxP3SftOgiH/4/oOkapRgcBkAbL8l8gx8PQHQ+A8cr5ibA9fNyWpFyJcA6nYVxj+UiwJUSMLOTqyDA3N1olASMHMCJM9NoCvMYwKa7mlyJDhXAT42+evryEMDovnhOWZQ0wKi1HVVMhzPAOFh66ALhMsC2DvGIx9IxwPqSzwderTDAWWJWqrD9L8DlhAK2yqMrwGAdqieLdynAYLRre+CLPcBGznzIOpY8wJe6bHJnGDrAO54WIjjxOMC0jrxt2yU4wJfwx+IPPTfA6yWu7CAzNsDe2pycg4E1wJTSE+CSEkXAOZJovdr1Q8BGux7/RXFDwLD4/eW11ULAvX3WHUI4QsCWYxen591BwEEeGdaFfUHAmZtaoHPaQMAyQ3SLpnlAwDmtCklpzD/A1sz9YnnWPsA=",
           "dtype": "f8",
           "shape": "64"
          },
          "bdata": "BxImEnNzNUDYcHXNOjE2QBnA2zGSBzhAKPyYIn0rOkB+zbsZsVM8QOCmjwfPhylAcSBu1iOiK0BZnLZoE1AuQHG6HlinEzBA2mdarF2vMECb7MM7YskxQAYlAgG4ZTNAdLPxRM9oNECABQqmS7MSQHuYVQ4+ohZAXZQFZU8TG0CFBPm8WOceQJTij4nQEiFAzWcdFkr9IkB2s6iLWeEkQB4sTFp1RSdAdzfQwrDxC8BZe5iq7IoDwD7I/CEOxPS/B+MlXYNJxr/KN1/uQDXxP3SftOgiH/4/oOkapRgcBkAbL8l8gx8PQHQ+A8cr5ibA9fNyWpFyJcA6nYVxj+UiwJUSMLOTqyDA3N1olASMHMCJM9NoCvMYwKa7mlyJDhXAT42+evryEMDovnhOWZQ0wKi1HVVMhzPAOFh66ALhMsC2DvGIx9IxwPqSzwderTDAWWJWqrD9L8DlhAK2yqMrwGAdqieLdynAYLRre+CLPcBGznzIOpY8wJe6bHJnGDrAO54WIjjxOMC0jrxt2yU4wJfwx+IPPTfA6yWu7CAzNsDe2pycg4E1wJTSE+CSEkXAOZJovdr1Q8BGux7/RXFDwLD4/eW11ULAvX3WHUI4QsCWYxen591BwEEeGdaFfUHAmZtaoHPaQMAyQ3SLpnlAwDmtCklpzD/A1sz9YnnWPsA=",
          "dtype": "f8"
         },
         "xaxis": "x",
         "y": {
          "_inputArray": {
           "0": -8.211395708132972,
           "1": 9.890900789333655,
           "10": -6.109014143385754,
           "11": 9.942377455385605,
           "12": -3.907160740043773,
           "13": -3.27799340312663,
           "14": 3.918435084477722,
           "15": 6.483436086969947,
           "16": 7.625853968232931,
           "17": 13.76682099637715,
           "18": 8.446439841109566,
           "19": 4.328997752653895,
           "2": -7.146834375605615,
           "20": -8.181057740961638,
           "21": 4.963767490997931,
           "22": -2.5453246529368547,
           "23": 10.078730275363815,
           "24": -3.161035960276877,
           "25": 5.3254745551623355,
           "26": 4.4910989497074665,
           "27": -2.0727436460535467,
           "28": -7.593687093512331,
           "29": -10.730899966079994,
           "3": 17.188821754035484,
           "30": 6.574831691964412,
           "31": 1.9639277686663483,
           "32": 4.10872242455007,
           "33": 3.2277815853240104,
           "34": 10.152751141732548,
           "35": 6.373622081869757,
           "36": -5.18997676217224,
           "37": 3.241058428771951,
           "38": -5.011513869745655,
           "39": 15.280700717787933,
           "4": 15.963338486906773,
           "40": 7.540672016338834,
           "41": -10.849163515142424,
           "42": 6.065170429469702,
           "43": -3.978140339644373,
           "44": -8.634457748884106,
           "45": 5.803546223651735,
           "46": -1.0037952407814947,
           "47": 7.56260092110031,
           "48": -6.8258125951131445,
           "49": -1.4838246091906662,
           "5": 7.875169616499653,
           "50": 2.2399090755715614,
           "51": -5.554411412116699,
           "52": 10.155776364283744,
           "53": 1.1971646760630705,
           "54": 4.417585822473855,
           "55": -5.376238571448556,
           "56": 4.491062883477489,
           "57": -13.627313716807961,
           "58": 0.8787278913808021,
           "59": 8.573509326087718,
           "6": -0.3761955806181881,
           "60": -13.382206829348291,
           "61": 1.286710137557958,
           "62": 2.2448120486480767,
           "63": 9.616678206127814,
           "7": -2.5406989966109053,
           "8": -4.252262951442722,
           "9": 12.673426202927544,
           "bdata": "SuTpDjxsIMBXVvQlJMgjQGmeJMBblhzAE1tan1YwMUBFfMCzOu0vQIZGxXYsgB9ADenpoJYT2L8NZNv+WVMEwHbBGThRAhHAwK+7UctYKUC1klJnoW8YwN28Pkx/4iNAFKB1fd1BD8ABdveaVDkKwIGlWn70WA9A8vec3gnvGUBwh9bc34AeQOmm+sKciCtA4GRKw5PkIECFbHDJ5FARQFo8qJmzXCDA6CJ73eXaE0Deh/Ar01wEwAvJq1VPKCRAAfS2OM1JCcDWaKgzSU0VQMNfoKTi9hFAklXmnvqUAMBixWqC718ewBPsNYU4diXAF8TWraBMGkAwDSKGP2z/PzQjZ+5UbxBAAcjcJn/SCUD+VcxlNU4kQLPGesmWfhlAdB6yRInCFMBiAaAKsO0JQC8IuErKCxTAzrklAbiPLkCTJtDspSkeQHn8bI/FsiXAX/R8CbxCGEAIXg0+O9MPwFJNZKXXRCHAT6I90tQ2F0BplzCZiw/wvx1Ns3QaQB5AG4si0aFNG8AQlZffvr33v2K/DHNV6wFAF0gOoLc3FsBLLWzrwU8kQI3guSWWJ/M/ojErnpurEUATdh+vRIEVwNdCQzDZ9hFAeAt0Qy9BK8DkCHL0iR7sP9n+rgOjJSFAsLcQnbDDKsCz44NeXZb0P8vh9ARg9QFAJ/PuPr07I0A=",
           "dtype": "f8",
           "shape": "64"
          },
          "bdata": "SuTpDjxsIMBXVvQlJMgjQGmeJMBblhzAE1tan1YwMUBFfMCzOu0vQIZGxXYsgB9ADenpoJYT2L8NZNv+WVMEwHbBGThRAhHAwK+7UctYKUC1klJnoW8YwN28Pkx/4iNAFKB1fd1BD8ABdveaVDkKwIGlWn70WA9A8vec3gnvGUBwh9bc34AeQOmm+sKciCtA4GRKw5PkIECFbHDJ5FARQFo8qJmzXCDA6CJ73eXaE0Deh/Ar01wEwAvJq1VPKCRAAfS2OM1JCcDWaKgzSU0VQMNfoKTi9hFAklXmnvqUAMBixWqC718ewBPsNYU4diXAF8TWraBMGkAwDSKGP2z/PzQjZ+5UbxBAAcjcJn/SCUD+VcxlNU4kQLPGesmWfhlAdB6yRInCFMBiAaAKsO0JQC8IuErKCxTAzrklAbiPLkCTJtDspSkeQHn8bI/FsiXAX/R8CbxCGEAIXg0+O9MPwFJNZKXXRCHAT6I90tQ2F0BplzCZiw/wvx1Ns3QaQB5AG4si0aFNG8AQlZffvr33v2K/DHNV6wFAF0gOoLc3FsBLLWzrwU8kQI3guSWWJ/M/ojErnpurEUATdh+vRIEVwNdCQzDZ9hFAeAt0Qy9BK8DkCHL0iR7sP9n+rgOjJSFAsLcQnbDDKsCz44NeXZb0P8vh9ARg9QFAJ/PuPr07I0A=",
          "dtype": "f8"
         },
         "yaxis": "y"
        },
        {
         "customdata": {
          "_inputArray": [
           {
            "0": 15
           },
           {
            "0": 58
           },
           {
            "0": 59
           },
           {
            "0": 60
           },
           {
            "0": 9
           },
           {
            "0": 10
           },
           {
            "0": 11
           },
           {
            "0": 12
           },
           {
            "0": 52
           },
           {
            "0": 53
           },
           {
            "0": 54
           },
           {
            "0": 55
           },
           {
            "0": 56
           },
           {
            "0": 41
           },
           {
            "0": 42
           },
           {
            "0": 43
           },
           {
            "0": 44
           },
           {
            "0": 45
           },
           {
            "0": 46
           },
           {
            "0": 47
           },
           {
            "0": 48
           },
           {
            "0": 33
           },
           {
            "0": 34
           },
           {
            "0": 35
           },
           {
            "0": 36
           },
           {
            "0": 37
           },
           {
            "0": 38
           },
           {
            "0": 39
           },
           {
            "0": 40
           },
           {
            "0": 25
           },
           {
            "0": 26
           },
           {
            "0": 27
           },
           {
            "0": 28
           },
           {
            "0": 29
           },
           {
            "0": 30
           },
           {
            "0": 31
           },
           {
            "0": 32
           },
           {
            "0": 17
           },
           {
            "0": 18
           },
           {
            "0": 19
           },
           {
            "0": 20
           },
           {
            "0": 21
           },
           {
            "0": 22
           },
           {
            "0": 23
           },
           {
            "0": 24
           },
           {
            "0": 16
           },
           {
            "0": 2
           },
           {
            "0": 3
           },
           {
            "0": 4
           },
           {
            "0": 62
           },
           {
            "0": 49
           },
           {
            "0": 50
           },
           {
            "0": 51
           },
           {
            "0": 1
           },
           {
            "0": 5
           },
           {
            "0": 6
           },
           {
            "0": 7
           },
           {
            "0": 8
           },
           {
            "0": 57
           },
           {
            "0": 13
           },
           {
            "0": 14
           }
          ],
          "bdata": "DwAAADoAAAA7AAAAPAAAAAkAAAAKAAAACwAAAAwAAAA0AAAANQAAADYAAAA3AAAAOAAAACkAAAAqAAAAKwAAACwAAAAtAAAALgAAAC8AAAAwAAAAIQAAACIAAAAjAAAAJAAAACUAAAAmAAAAJwAAACgAAAAZAAAAGgAAABsAAAAcAAAAHQAAAB4AAAAfAAAAIAAAABEAAAASAAAAEwAAABQAAAAVAAAAFgAAABcAAAAYAAAAEAAAAAIAAAADAAAABAAAAD4AAAAxAAAAMgAAADMAAAABAAAABQAAAAYAAAAHAAAACAAAADkAAAANAAAADgAAAA==",
          "dtype": "i4",
          "shape": "61, 1"
         },
         "hovertemplate": "Cluster=Cluster 1<br>PCA1=%{x}<br>PCA2=%{y}<br>Feature=%{customdata[0]}<extra></extra>",
         "legendgroup": "Cluster 1",
         "marker": {
          "color": "#EF553B",
          "opacity": 0.5,
          "symbol": "circle"
         },
         "mode": "markers",
         "name": "Cluster 1",
         "orientation": "v",
         "showlegend": true,
         "textposition": "top center",
         "type": "scatter",
         "x": {
          "_inputArray": {
           "0": -94.84170325527332,
           "1": -45.76074605278553,
           "10": -49.668510108910354,
           "11": -48.80324044880053,
           "12": -47.898947943061906,
           "13": -63.77889973873267,
           "14": -62.24525786766131,
           "15": -61.43821709453084,
           "16": -60.259463638383494,
           "17": -59.67202602687346,
           "18": -58.36594096939507,
           "19": -57.26406862366662,
           "2": -43.75255230485892,
           "20": -56.26960609120219,
           "21": -73.25828194538236,
           "22": -71.55367781211412,
           "23": -71.34281382040248,
           "24": -69.8192073782652,
           "25": -69.04788978870938,
           "26": -67.69141211738093,
           "27": -65.90271220645275,
           "28": -64.56942956716628,
           "29": -82.54155439403077,
           "3": -43.02497493276598,
           "30": -81.02842601742252,
           "31": -80.543003453061,
           "32": -79.3777412872755,
           "33": -78.28646438591932,
           "34": -76.90066761064216,
           "35": -76.34934437174185,
           "36": -74.74835630552859,
           "37": -92.4499251095094,
           "38": -91.24201517828918,
           "39": -89.94719699391226,
           "4": -100.9521912189388,
           "40": -88.47521298507347,
           "41": -87.57364176209269,
           "42": -86.34884968571755,
           "43": -85.6046384852309,
           "44": -84.15014831652013,
           "45": -93.40099081414577,
           "46": -108.20285700252606,
           "47": -107.37629205986585,
           "48": -106.00780673923882,
           "49": -40.93980744873938,
           "5": -99.38052225667428,
           "50": -55.40174608625248,
           "51": -54.500564427587875,
           "52": -52.81042920723402,
           "53": -109.38394055239623,
           "54": -104.98032254935556,
           "55": -103.77472295525615,
           "56": -102.99648078384024,
           "57": -101.42674452873622,
           "58": -46.54189832193944,
           "59": -96.77778249695753,
           "6": -99.07065644264694,
           "60": -95.2523147837967,
           "7": -97.4040858300741,
           "8": -51.7499350623128,
           "9": -50.45766747759667,
           "bdata": "e5VUd961V8Axo2wgYOFGwALzSKJT4EXAj7nrYDKDRcBaOHCz8DxZwDz0BXpa2FjA5pqZooXEWMB/PNCK3FlYwOxgQ9/930nAOlwQ2ZQ6ScBeaD+9kdVIwBk2QZXQZkjA8SDouRDzR8AhXJT8suNPwJRYHJxkH0/AcMdsfxe4TsDcrcAaNiFOwL295/IE1k3AwOhXJ9cuTcAgRisAzaFMwAZC0HOCIkzAIST/sIdQUsBD4w91b+NRwLbPYKnw1VHAn5LI5G10UcBtFFWgEENRwGQNnBhA7FDAiBprCcZ5UMCyFraIcSRQwIHXwtOoolTA28tbu9FBVMDGII6RwCJUwJ/Myuks2FPAgD+4blWSU8CSEcOJpDlTwBHrfqhbFlPAC4DYEeWvUsB+v6+SyxxXwM/4Oi19z1bAQO4j4J58VsCbYbnjaR5WwLXz74u25FXAHdihjVOWVcAP/p1lsmZVwDhArwecCVXAKTBg1alZV8BM5++b+wxbwJK3SisV2FrABm7W53+AWsC5b0icS3hEwA3gbmpss0vA9APDfhJAS8CMZe4kvGdKwJkJZXuSWFvA3UDKmr0+WsBIEpcPlfFZwOxrVlfGv1nA0apIyE9bWcBcPpnsXEVHwF31PDDHMVjAES3o7CXQV8A=",
           "dtype": "f8",
           "shape": "61"
          },
          "bdata": "e5VUd961V8Axo2wgYOFGwALzSKJT4EXAj7nrYDKDRcBaOHCz8DxZwDz0BXpa2FjA5pqZooXEWMB/PNCK3FlYwOxgQ9/930nAOlwQ2ZQ6ScBeaD+9kdVIwBk2QZXQZkjA8SDouRDzR8AhXJT8suNPwJRYHJxkH0/AcMdsfxe4TsDcrcAaNiFOwL295/IE1k3AwOhXJ9cuTcAgRisAzaFMwAZC0HOCIkzAIST/sIdQUsBD4w91b+NRwLbPYKnw1VHAn5LI5G10UcBtFFWgEENRwGQNnBhA7FDAiBprCcZ5UMCyFraIcSRQwIHXwtOoolTA28tbu9FBVMDGII6RwCJUwJ/Myuks2FPAgD+4blWSU8CSEcOJpDlTwBHrfqhbFlPAC4DYEeWvUsB+v6+SyxxXwM/4Oi19z1bAQO4j4J58VsCbYbnjaR5WwLXz74u25FXAHdihjVOWVcAP/p1lsmZVwDhArwecCVXAKTBg1alZV8BM5++b+wxbwJK3SisV2FrABm7W53+AWsC5b0icS3hEwA3gbmpss0vA9APDfhJAS8CMZe4kvGdKwJkJZXuSWFvA3UDKmr0+WsBIEpcPlfFZwOxrVlfGv1nA0apIyE9bWcBcPpnsXEVHwF31PDDHMVjAES3o7CXQV8A=",
          "dtype": "f8"
         },
         "xaxis": "x",
         "y": {
          "_inputArray": {
           "0": 35.02742823947748,
           "1": 10.668700790641177,
           "10": -5.2817581145290005,
           "11": 7.252739649949208,
           "12": 10.46272263624317,
           "13": 20.320383490024145,
           "14": -44.56513910857454,
           "15": 15.46095840014386,
           "16": -12.770763912189203,
           "17": 23.48540926133437,
           "18": -18.261456926883806,
           "19": -2.543542598015394,
           "2": -3.826612605672324,
           "20": -0.03651739262274951,
           "21": 47.65469580374096,
           "22": -46.02315509118867,
           "23": 37.01272639180602,
           "24": -34.61961648567694,
           "25": 32.50296954027676,
           "26": -24.74839632170229,
           "27": 22.399137585613758,
           "28": -28.95867882594191,
           "29": 38.071482805555206,
           "3": 7.018734218641022,
           "30": -33.84367421288171,
           "31": 18.496396328868308,
           "32": -12.01764403065286,
           "33": 18.338936832357632,
           "34": -40.061076310194196,
           "35": 49.22937071824217,
           "36": -26.87762249929538,
           "37": 13.17412896387116,
           "38": -20.434977897617507,
           "39": 22.94569920923522,
           "4": 50.923738246385895,
           "40": -48.10724597378219,
           "41": 13.219018964468317,
           "42": -26.055114992728946,
           "43": 44.959102374614496,
           "44": -24.65876008267692,
           "45": -32.645222097818944,
           "46": -34.93176488394529,
           "47": 37.84087172375957,
           "48": -30.562696456961767,
           "49": -9.54070216463335,
           "5": -24.034607690578895,
           "50": 5.2941153835415795,
           "51": 5.758700106219062,
           "52": 0.1823131246915966,
           "53": 5.478454042666817,
           "54": 7.296747150673699,
           "55": -29.801238129014227,
           "56": 41.322769912207306,
           "57": -47.07130349208764,
           "58": 2.6343992259416167,
           "59": 37.89386887419183,
           "6": 40.91787251795521,
           "60": -30.250802686491603,
           "7": -49.152368277938415,
           "8": -11.27270214687208,
           "9": -5.8812581334003715,
           "bdata": "dcW/xIKDQUD1OTXzX1YlQIGX3hHnnA7AaIQhEC8THEBaJQsOPXZJQPg5swzcCDjA5UG/2Hx1REC/WMHNgJNIwKm6pJ2fiybAhyc5iGiGF8CDI/0yhSAVwMO8yy7OAh1AD5E7++nsJEAB1QOnBFI0QFaCcnpWSEbAZN5KvQLsLkBMlEeRoYopwE2bBshDfDdAU0dW1+5CMsAErJPcLFkEwJmMGV5osqK/q/J0Es3TR0AUsvu+9gJHwC1NtgShgUJAwAXPl09PQcC5L09OYUBAQHUovuaWvzjAxNB84S1mNkDGybz5a/U8wAALPFkmCUNAGmdAhP3rQMAGWG7UE38yQFA/baMICSjAyGJykMRWMkAWbDlZ0QdEwE3BCgVcnUhAG7U83qvgOsDbOXpuJ1kqQALAJLZabzTAsYTnVxnyNkDXAm88ug1IwL8w80AjcCpAREojBBwOOsAbPtrdw3pGQPQBM4CkqDjA+mRAo5ZSQMCaDVwSRHdBwNnWRK+h60JA0jkA4AyQPsAL9APq1hQjwA8/RpUsLRVA+7o+rugIF0AKSxdWCVbHP2aSR9vv6RVAhEwtfN4vHUChbCjxHc09wBaIRIZQqURAsk0LeSCJR8A2N8DmPxMFQHvIlktq8kJA+jrYmjRAPsA=",
           "dtype": "f8",
           "shape": "61"
          },
          "bdata": "dcW/xIKDQUD1OTXzX1YlQIGX3hHnnA7AaIQhEC8THEBaJQsOPXZJQPg5swzcCDjA5UG/2Hx1REC/WMHNgJNIwKm6pJ2fiybAhyc5iGiGF8CDI/0yhSAVwMO8yy7OAh1AD5E7++nsJEAB1QOnBFI0QFaCcnpWSEbAZN5KvQLsLkBMlEeRoYopwE2bBshDfDdAU0dW1+5CMsAErJPcLFkEwJmMGV5osqK/q/J0Es3TR0AUsvu+9gJHwC1NtgShgUJAwAXPl09PQcC5L09OYUBAQHUovuaWvzjAxNB84S1mNkDGybz5a/U8wAALPFkmCUNAGmdAhP3rQMAGWG7UE38yQFA/baMICSjAyGJykMRWMkAWbDlZ0QdEwE3BCgVcnUhAG7U83qvgOsDbOXpuJ1kqQALAJLZabzTAsYTnVxnyNkDXAm88ug1IwL8w80AjcCpAREojBBwOOsAbPtrdw3pGQPQBM4CkqDjA+mRAo5ZSQMCaDVwSRHdBwNnWRK+h60JA0jkA4AyQPsAL9APq1hQjwA8/RpUsLRVA+7o+rugIF0AKSxdWCVbHP2aSR9vv6RVAhEwtfN4vHUChbCjxHc09wBaIRIZQqURAsk0LeSCJR8A2N8DmPxMFQHvIlktq8kJA+jrYmjRAPsA=",
          "dtype": "f8"
         },
         "yaxis": "y"
        },
        {
         "customdata": {
          "_inputArray": [
           {
            "0": 194
           },
           {
            "0": 196
           },
           {
            "0": 198
           },
           {
            "0": 200
           },
           {
            "0": 186
           },
           {
            "0": 188
           },
           {
            "0": 190
           },
           {
            "0": 192
           },
           {
            "0": 138
           },
           {
            "0": 140
           },
           {
            "0": 142
           },
           {
            "0": 144
           },
           {
            "0": 178
           },
           {
            "0": 180
           },
           {
            "0": 182
           },
           {
            "0": 184
           },
           {
            "0": 146
           },
           {
            "0": 148
           },
           {
            "0": 150
           },
           {
            "0": 152
           },
           {
            "0": 170
           },
           {
            "0": 172
           },
           {
            "0": 174
           },
           {
            "0": 176
           },
           {
            "0": 154
           },
           {
            "0": 156
           },
           {
            "0": 158
           },
           {
            "0": 160
           },
           {
            "0": 162
           },
           {
            "0": 164
           },
           {
            "0": 166
           },
           {
            "0": 168
           },
           {
            "0": 124
           },
           {
            "0": 126
           },
           {
            "0": 128
           },
           {
            "0": 130
           },
           {
            "0": 132
           },
           {
            "0": 134
           },
           {
            "0": 136
           }
          ],
          "bdata": "wgAAAMQAAADGAAAAyAAAALoAAAC8AAAAvgAAAMAAAACKAAAAjAAAAI4AAACQAAAAsgAAALQAAAC2AAAAuAAAAJIAAACUAAAAlgAAAJgAAACqAAAArAAAAK4AAACwAAAAmgAAAJwAAACeAAAAoAAAAKIAAACkAAAApgAAAKgAAAB8AAAAfgAAAIAAAACCAAAAhAAAAIYAAACIAAAA",
          "dtype": "i4",
          "shape": "39, 1"
         },
         "hovertemplate": "Cluster=Cluster 2<br>PCA1=%{x}<br>PCA2=%{y}<br>Feature=%{customdata[0]}<extra></extra>",
         "legendgroup": "Cluster 2",
         "marker": {
          "color": "#00cc96",
          "opacity": 0.5,
          "symbol": "circle"
         },
         "mode": "markers",
         "name": "Cluster 2",
         "orientation": "v",
         "showlegend": true,
         "textposition": "top center",
         "type": "scatter",
         "x": {
          "_inputArray": {
           "0": 107.03267589012324,
           "1": 111.65257383819849,
           "10": 44.10385657873944,
           "11": 46.29730582212019,
           "12": 82.1428205684645,
           "13": 86.10200801547577,
           "14": 89.55057446305476,
           "15": 91.81537888084588,
           "16": 48.62173777274219,
           "17": 50.2703724168855,
           "18": 52.599607427226935,
           "19": 54.382778262280446,
           "2": 115.91150547412425,
           "20": 74.36217538465718,
           "21": 76.29142123722026,
           "22": 78.18362289402131,
           "23": 80.4122550621406,
           "24": 56.134039648545404,
           "25": 58.11099657737971,
           "26": 59.84591607732586,
           "27": 61.638413024099165,
           "28": 63.944804446254686,
           "29": 66.64167009948864,
           "3": 122.29775332080312,
           "30": 69.950474416445,
           "31": 72.3352367876099,
           "32": 25.168719606645034,
           "33": 27.355764770399887,
           "34": 29.65728169669906,
           "35": 31.361541323907037,
           "36": 33.18149610360554,
           "37": 35.435184574790256,
           "38": 37.79409013293646,
           "4": 94.10382739677614,
           "5": 96.56423943419256,
           "6": 99.27212341179172,
           "7": 101.01476800355115,
           "8": 39.50280137600786,
           "9": 41.71198081073432,
           "bdata": "nNydXBfCWkBqUg/Fw+lbQEZfDhtW+lxA/cfxYw6TXkBFZaobpYZXQB4+t38cJFhAxYdQeGrRWEDiEX/18UBZQDUrpctbwENA4r3sLyLbRECGlCAsSw1GQFN1/x0OJkdAE7Dh+COJVEB+maBMh4ZVQE81rJw8Y1ZAQsXmKi/0VkDMTnQalU9IQMEhOJCbIklAbzCp779MSkCfDsvg/jBLQDQhquEtl1JAI85CpaYSU0CUJz16wItTQEdgDmNiGlRAV28RNigRTEAq6MYiNQ5NQDmjX/pG7E1AVuyZhLfRTkC/4yJa7/hPQPwHdx8RqVBAOZSlktR8UUDXzP+EdBVSQAK8SDUxKzlAvO9lZhNbO0D0lP+cQ6g9QFFV4viNXD9AKquqQzuXQEBSOc4gtLdBQOqE176k5UJA",
           "dtype": "f8",
           "shape": "39"
          },
          "bdata": "nNydXBfCWkBqUg/Fw+lbQEZfDhtW+lxA/cfxYw6TXkBFZaobpYZXQB4+t38cJFhAxYdQeGrRWEDiEX/18UBZQDUrpctbwENA4r3sLyLbRECGlCAsSw1GQFN1/x0OJkdAE7Dh+COJVEB+maBMh4ZVQE81rJw8Y1ZAQsXmKi/0VkDMTnQalU9IQMEhOJCbIklAbzCp779MSkCfDsvg/jBLQDQhquEtl1JAI85CpaYSU0CUJz16wItTQEdgDmNiGlRAV28RNigRTEAq6MYiNQ5NQDmjX/pG7E1AVuyZhLfRTkC/4yJa7/hPQPwHdx8RqVBAOZSlktR8UUDXzP+EdBVSQAK8SDUxKzlAvO9lZhNbO0D0lP+cQ6g9QFFV4viNXD9AKquqQzuXQEBSOc4gtLdBQOqE176k5UJA",
          "dtype": "f8"
         },
         "xaxis": "x",
         "y": {
          "_inputArray": {
           "0": -39.01830959042287,
           "1": -27.96464514222555,
           "10": -42.902049584203375,
           "11": -37.04602084805419,
           "12": -20.408691849814215,
           "13": -38.959373642306,
           "14": -35.71577283849131,
           "15": -38.333402254864986,
           "16": -47.67784950472164,
           "17": -24.3660661147269,
           "18": -39.458775698891266,
           "19": -36.353457576027026,
           "2": -23.72996741997802,
           "20": -13.469519941112173,
           "21": -26.056701473042093,
           "22": -40.753177585084245,
           "23": -36.27552558562237,
           "24": -24.89562718427613,
           "25": -40.06412451970528,
           "26": -28.6593788127938,
           "27": -23.7830791384102,
           "28": -33.72692652813375,
           "29": -42.973858997045674,
           "3": -32.85306913043907,
           "30": -24.266280893151613,
           "31": -44.40168330207798,
           "32": -39.48614807288529,
           "33": -27.682278100073546,
           "34": -43.113300712830785,
           "35": -24.09831579021573,
           "36": -23.858334713204425,
           "37": -21.786560847366406,
           "38": -38.77260496808611,
           "4": -46.84337402026232,
           "5": -19.054049496434963,
           "6": -33.73627960494093,
           "7": -19.07359203734446,
           "8": -23.47381371698538,
           "9": -21.794644665979394,
           "bdata": "4Qj691eCQ8CgGur78vY7wHvzEyXfujfAQjuIXjFtQMBOqQ2u82tHwK6NEzDWDTPAcPf7aD7eQMD2o4Ht1hIzwDHZEttLeTfAhVI01W3LNcAPw1tcdnNFwNmp2gLkhULAAxhxB6BoNMChLGnBzHpDwLdXwnGe20HAZYfS7KwqQ8DTMcfFw9ZHwAPtRoK2XTjAAXh/Kbm6Q8CexwwZPi1CwBPL7+pk8CrAz1nc/IMOOsAwAoQfaGBEwMu6IWxEI0LA4t+50kflOMDBgHU7NQhEwOufxAzNqDzA1KbZ33fIN8DzdrDtC91AwP+cX2mnfEXAx6IP/CpEOMAZ48JbajNGwCMHnRk6vkPAyJcOx6muO8BhHESjgI5FwC6oPzkrGTjACzzi0rvbN8C1wDsNXMk1wBdUN7jkYkPA",
           "dtype": "f8",
           "shape": "39"
          },
          "bdata": "4Qj691eCQ8CgGur78vY7wHvzEyXfujfAQjuIXjFtQMBOqQ2u82tHwK6NEzDWDTPAcPf7aD7eQMD2o4Ht1hIzwDHZEttLeTfAhVI01W3LNcAPw1tcdnNFwNmp2gLkhULAAxhxB6BoNMChLGnBzHpDwLdXwnGe20HAZYfS7KwqQ8DTMcfFw9ZHwAPtRoK2XTjAAXh/Kbm6Q8CexwwZPi1CwBPL7+pk8CrAz1nc/IMOOsAwAoQfaGBEwMu6IWxEI0LA4t+50kflOMDBgHU7NQhEwOufxAzNqDzA1KbZ33fIN8DzdrDtC91AwP+cX2mnfEXAx6IP/CpEOMAZ48JbajNGwCMHnRk6vkPAyJcOx6muO8BhHESjgI5FwC6oPzkrGTjACzzi0rvbN8C1wDsNXMk1wBdUN7jkYkPA",
          "dtype": "f8"
         },
         "yaxis": "y"
        },
        {
         "customdata": {
          "_inputArray": [
           {
            "0": 193
           },
           {
            "0": 195
           },
           {
            "0": 197
           },
           {
            "0": 199
           },
           {
            "0": 161
           },
           {
            "0": 163
           },
           {
            "0": 165
           },
           {
            "0": 167
           },
           {
            "0": 153
           },
           {
            "0": 155
           },
           {
            "0": 157
           },
           {
            "0": 159
           },
           {
            "0": 169
           },
           {
            "0": 171
           },
           {
            "0": 173
           },
           {
            "0": 175
           },
           {
            "0": 145
           },
           {
            "0": 147
           },
           {
            "0": 149
           },
           {
            "0": 151
           },
           {
            "0": 177
           },
           {
            "0": 179
           },
           {
            "0": 181
           },
           {
            "0": 183
           },
           {
            "0": 137
           },
           {
            "0": 139
           },
           {
            "0": 141
           },
           {
            "0": 143
           },
           {
            "0": 185
           },
           {
            "0": 187
           },
           {
            "0": 189
           },
           {
            "0": 191
           },
           {
            "0": 129
           },
           {
            "0": 131
           },
           {
            "0": 133
           },
           {
            "0": 135
           }
          ],
          "bdata": "wQAAAMMAAADFAAAAxwAAAKEAAACjAAAApQAAAKcAAACZAAAAmwAAAJ0AAACfAAAAqQAAAKsAAACtAAAArwAAAJEAAACTAAAAlQAAAJcAAACxAAAAswAAALUAAAC3AAAAiQAAAIsAAACNAAAAjwAAALkAAAC7AAAAvQAAAL8AAACBAAAAgwAAAIUAAACHAAAA",
          "dtype": "i4",
          "shape": "36, 1"
         },
         "hovertemplate": "Cluster=Cluster 3<br>PCA1=%{x}<br>PCA2=%{y}<br>Feature=%{customdata[0]}<extra></extra>",
         "legendgroup": "Cluster 3",
         "marker": {
          "color": "#ab63fa",
          "opacity": 0.5,
          "symbol": "circle"
         },
         "mode": "markers",
         "name": "Cluster 3",
         "orientation": "v",
         "showlegend": true,
         "textposition": "top center",
         "type": "scatter",
         "x": {
          "_inputArray": {
           "0": 105.59639530825707,
           "1": 110.24944585166915,
           "10": 58.379255630440646,
           "11": 60.22266569329812,
           "12": 73.18544582840927,
           "13": 74.89495758143391,
           "14": 76.72423847285218,
           "15": 78.88384556028386,
           "16": 47.159951821713356,
           "17": 49.01084648186907,
           "18": 51.23307457036242,
           "19": 52.97324619612521,
           "2": 114.61535822333872,
           "20": 80.6882589636168,
           "21": 84.54187787981061,
           "22": 88.24847219874056,
           "23": 90.31673754903514,
           "24": 38.079231331152336,
           "25": 40.480153203158146,
           "26": 42.45744158727144,
           "27": 45.09462826011464,
           "28": 92.73943581865427,
           "29": 95.2051911746263,
           "3": 120.9399348806853,
           "30": 97.87672051707568,
           "31": 99.7835718475501,
           "32": 29.898974619526975,
           "33": 31.781830408006225,
           "34": 34.310877961794084,
           "35": 36.381264834229306,
           "4": 62.55368410902395,
           "5": 65.2131146094358,
           "6": 68.62936848483521,
           "7": 70.87017736063117,
           "8": 54.812744901955455,
           "9": 56.59431471710252,
           "bdata": "7Rw6VytmWkCuwrvr9o9bQCAkdQdip1xAbzqh5Cc8XkBQSfIe30ZPQOd0daujTVBABeDAkkcoUUBaaGL8sLdRQNjxYgYIaEtAUL4wgRJMTECByNByizBNQAtUN0+AHE5AowwuWN5LUkA45Cn8RrlSQO3ZUuxZLlNAkwj47JC4U0DlmCFNeZRHQMFz4mpjgUhAMJ40Y9WdSUA3qNNUk3xKQG/6Um8MLFRAmA2PIK4iVUCU4+/35g9WQFqhkW1FlFZAFQ+UQCQKQ0AjUQCpdT1EQKGUKHKNOkVAITxhxxyMRkAcp5zqUi9XQKgcKtohzVdAoCRfMBx4WEDR0ogKJvJYQGrNXjMj5j1As2ehCSbIP0DzeVvZyidBQJsQPUnNMEJA",
           "dtype": "f8",
           "shape": "36"
          },
          "bdata": "7Rw6VytmWkCuwrvr9o9bQCAkdQdip1xAbzqh5Cc8XkBQSfIe30ZPQOd0daujTVBABeDAkkcoUUBaaGL8sLdRQNjxYgYIaEtAUL4wgRJMTECByNByizBNQAtUN0+AHE5AowwuWN5LUkA45Cn8RrlSQO3ZUuxZLlNAkwj47JC4U0DlmCFNeZRHQMFz4mpjgUhAMJ40Y9WdSUA3qNNUk3xKQG/6Um8MLFRAmA2PIK4iVUCU4+/35g9WQFqhkW1FlFZAFQ+UQCQKQ0AjUQCpdT1EQKGUKHKNOkVAITxhxxyMRkAcp5zqUi9XQKgcKtohzVdAoCRfMBx4WEDR0ogKJvJYQGrNXjMj5j1As2ehCSbIP0DzeVvZyidBQJsQPUnNMEJA",
          "dtype": "f8"
         },
         "xaxis": "x",
         "y": {
          "_inputArray": {
           "0": 40.605522107837565,
           "1": 36.099187994635116,
           "10": 47.88194869465705,
           "11": 47.20301194721014,
           "12": 22.478610956603283,
           "13": 37.033922053121195,
           "14": 39.04488468165184,
           "15": 39.81769821935751,
           "16": 34.350653225762905,
           "17": 16.28765168055743,
           "18": 26.71314491668185,
           "19": 33.65821679749618,
           "2": 24.017824689742106,
           "20": 39.26111445694659,
           "21": 40.512937906995106,
           "22": 17.98106760929113,
           "23": 36.6123813709419,
           "24": 43.508441150567634,
           "25": 34.86476119037619,
           "26": 48.47729964818098,
           "27": 7.770787219815684,
           "28": 12.12347450559717,
           "29": 29.733806321379603,
           "3": 30.859888666670813,
           "30": 33.585495392604706,
           "31": 26.14838315651536,
           "32": 43.00629206237328,
           "33": 42.206209431290134,
           "34": 12.838692201300653,
           "35": 39.932308905716134,
           "4": 19.184704289984612,
           "5": 39.907914561899766,
           "6": 26.633283707574712,
           "7": 30.652683896207233,
           "8": 30.97736194101561,
           "9": 35.569640373045495,
           "bdata": "axWZv4FNRECMjjQxsgxCQPKAqyiQBDhAXI3lqSHcPkAx6sTHSC8zQPl1W4s29ENAfh+N4R6iOkD/1bRKFqc+QGIEZWQ0+j5AF1vK+enIQUClJuCx4/BHQID7pEv8mUdATh5mP4Z6NkBlYs6OV4RCQJzk/8e+hUNAqBHTVaroQ0C9cXQ04ixBQDSiYIqjSTBACnVOqpC2OkBEdrFyQNRAQJmM0jJsoUNAGrYH86dBREAAEjE/J/sxQANwRINiTkJAdtCAmRTBRUAFwqN+sG5BQDGqpScYPUhA7CG1PkkVH0D22+YMOD8oQGjsJ7vauz1AE5lVg/HKQEC/gkRw/CU6QA4PpS3OgEVASsIVEmUaRUA8/m8Qaa0pQAHp8eVV90NA",
           "dtype": "f8",
           "shape": "36"
          },
          "bdata": "axWZv4FNRECMjjQxsgxCQPKAqyiQBDhAXI3lqSHcPkAx6sTHSC8zQPl1W4s29ENAfh+N4R6iOkD/1bRKFqc+QGIEZWQ0+j5AF1vK+enIQUClJuCx4/BHQID7pEv8mUdATh5mP4Z6NkBlYs6OV4RCQJzk/8e+hUNAqBHTVaroQ0C9cXQ04ixBQDSiYIqjSTBACnVOqpC2OkBEdrFyQNRAQJmM0jJsoUNAGrYH86dBREAAEjE/J/sxQANwRINiTkJAdtCAmRTBRUAFwqN+sG5BQDGqpScYPUhA7CG1PkkVH0D22+YMOD8oQGjsJ7vauz1AE5lVg/HKQEC/gkRw/CU6QA4PpS3OgEVASsIVEmUaRUA8/m8Qaa0pQAHp8eVV90NA",
          "dtype": "f8"
         },
         "yaxis": "y"
        }
       ],
       "layout": {
        "autosize": true,
        "legend": {
         "title": {
          "text": "Cluster"
         },
         "tracegroupgap": 0
        },
        "margin": {
         "t": 60
        },
        "plot_bgcolor": "rgb(240,240,240)",
        "template": {
         "data": {
          "bar": [
           {
            "error_x": {
             "color": "#2a3f5f"
            },
            "error_y": {
             "color": "#2a3f5f"
            },
            "marker": {
             "line": {
              "color": "#E5ECF6",
              "width": 0.5
             },
             "pattern": {
              "fillmode": "overlay",
              "size": 10,
              "solidity": 0.2
             }
            },
            "type": "bar"
           }
          ],
          "barpolar": [
           {
            "marker": {
             "line": {
              "color": "#E5ECF6",
              "width": 0.5
             },
             "pattern": {
              "fillmode": "overlay",
              "size": 10,
              "solidity": 0.2
             }
            },
            "type": "barpolar"
           }
          ],
          "carpet": [
           {
            "aaxis": {
             "endlinecolor": "#2a3f5f",
             "gridcolor": "white",
             "linecolor": "white",
             "minorgridcolor": "white",
             "startlinecolor": "#2a3f5f"
            },
            "baxis": {
             "endlinecolor": "#2a3f5f",
             "gridcolor": "white",
             "linecolor": "white",
             "minorgridcolor": "white",
             "startlinecolor": "#2a3f5f"
            },
            "type": "carpet"
           }
          ],
          "choropleth": [
           {
            "colorbar": {
             "outlinewidth": 0,
             "ticks": ""
            },
            "type": "choropleth"
           }
          ],
          "contour": [
           {
            "colorbar": {
             "outlinewidth": 0,
             "ticks": ""
            },
            "colorscale": [
             [
              0,
              "#0d0887"
             ],
             [
              0.1111111111111111,
              "#46039f"
             ],
             [
              0.2222222222222222,
              "#7201a8"
             ],
             [
              0.3333333333333333,
              "#9c179e"
             ],
             [
              0.4444444444444444,
              "#bd3786"
             ],
             [
              0.5555555555555556,
              "#d8576b"
             ],
             [
              0.6666666666666666,
              "#ed7953"
             ],
             [
              0.7777777777777778,
              "#fb9f3a"
             ],
             [
              0.8888888888888888,
              "#fdca26"
             ],
             [
              1,
              "#f0f921"
             ]
            ],
            "type": "contour"
           }
          ],
          "contourcarpet": [
           {
            "colorbar": {
             "outlinewidth": 0,
             "ticks": ""
            },
            "type": "contourcarpet"
           }
          ],
          "heatmap": [
           {
            "colorbar": {
             "outlinewidth": 0,
             "ticks": ""
            },
            "colorscale": [
             [
              0,
              "#0d0887"
             ],
             [
              0.1111111111111111,
              "#46039f"
             ],
             [
              0.2222222222222222,
              "#7201a8"
             ],
             [
              0.3333333333333333,
              "#9c179e"
             ],
             [
              0.4444444444444444,
              "#bd3786"
             ],
             [
              0.5555555555555556,
              "#d8576b"
             ],
             [
              0.6666666666666666,
              "#ed7953"
             ],
             [
              0.7777777777777778,
              "#fb9f3a"
             ],
             [
              0.8888888888888888,
              "#fdca26"
             ],
             [
              1,
              "#f0f921"
             ]
            ],
            "type": "heatmap"
           }
          ],
          "histogram": [
           {
            "marker": {
             "pattern": {
              "fillmode": "overlay",
              "size": 10,
              "solidity": 0.2
             }
            },
            "type": "histogram"
           }
          ],
          "histogram2d": [
           {
            "colorbar": {
             "outlinewidth": 0,
             "ticks": ""
            },
            "colorscale": [
             [
              0,
              "#0d0887"
             ],
             [
              0.1111111111111111,
              "#46039f"
             ],
             [
              0.2222222222222222,
              "#7201a8"
             ],
             [
              0.3333333333333333,
              "#9c179e"
             ],
             [
              0.4444444444444444,
              "#bd3786"
             ],
             [
              0.5555555555555556,
              "#d8576b"
             ],
             [
              0.6666666666666666,
              "#ed7953"
             ],
             [
              0.7777777777777778,
              "#fb9f3a"
             ],
             [
              0.8888888888888888,
              "#fdca26"
             ],
             [
              1,
              "#f0f921"
             ]
            ],
            "type": "histogram2d"
           }
          ],
          "histogram2dcontour": [
           {
            "colorbar": {
             "outlinewidth": 0,
             "ticks": ""
            },
            "colorscale": [
             [
              0,
              "#0d0887"
             ],
             [
              0.1111111111111111,
              "#46039f"
             ],
             [
              0.2222222222222222,
              "#7201a8"
             ],
             [
              0.3333333333333333,
              "#9c179e"
             ],
             [
              0.4444444444444444,
              "#bd3786"
             ],
             [
              0.5555555555555556,
              "#d8576b"
             ],
             [
              0.6666666666666666,
              "#ed7953"
             ],
             [
              0.7777777777777778,
              "#fb9f3a"
             ],
             [
              0.8888888888888888,
              "#fdca26"
             ],
             [
              1,
              "#f0f921"
             ]
            ],
            "type": "histogram2dcontour"
           }
          ],
          "mesh3d": [
           {
            "colorbar": {
             "outlinewidth": 0,
             "ticks": ""
            },
            "type": "mesh3d"
           }
          ],
          "parcoords": [
           {
            "line": {
             "colorbar": {
              "outlinewidth": 0,
              "ticks": ""
             }
            },
            "type": "parcoords"
           }
          ],
          "pie": [
           {
            "automargin": true,
            "type": "pie"
           }
          ],
          "scatter": [
           {
            "fillpattern": {
             "fillmode": "overlay",
             "size": 10,
             "solidity": 0.2
            },
            "type": "scatter"
           }
          ],
          "scatter3d": [
           {
            "line": {
             "colorbar": {
              "outlinewidth": 0,
              "ticks": ""
             }
            },
            "marker": {
             "colorbar": {
              "outlinewidth": 0,
              "ticks": ""
             }
            },
            "type": "scatter3d"
           }
          ],
          "scattercarpet": [
           {
            "marker": {
             "colorbar": {
              "outlinewidth": 0,
              "ticks": ""
             }
            },
            "type": "scattercarpet"
           }
          ],
          "scattergeo": [
           {
            "marker": {
             "colorbar": {
              "outlinewidth": 0,
              "ticks": ""
             }
            },
            "type": "scattergeo"
           }
          ],
          "scattergl": [
           {
            "marker": {
             "colorbar": {
              "outlinewidth": 0,
              "ticks": ""
             }
            },
            "type": "scattergl"
           }
          ],
          "scattermap": [
           {
            "marker": {
             "colorbar": {
              "outlinewidth": 0,
              "ticks": ""
             }
            },
            "type": "scattermap"
           }
          ],
          "scattermapbox": [
           {
            "marker": {
             "colorbar": {
              "outlinewidth": 0,
              "ticks": ""
             }
            },
            "type": "scattermapbox"
           }
          ],
          "scatterpolar": [
           {
            "marker": {
             "colorbar": {
              "outlinewidth": 0,
              "ticks": ""
             }
            },
            "type": "scatterpolar"
           }
          ],
          "scatterpolargl": [
           {
            "marker": {
             "colorbar": {
              "outlinewidth": 0,
              "ticks": ""
             }
            },
            "type": "scatterpolargl"
           }
          ],
          "scatterternary": [
           {
            "marker": {
             "colorbar": {
              "outlinewidth": 0,
              "ticks": ""
             }
            },
            "type": "scatterternary"
           }
          ],
          "surface": [
           {
            "colorbar": {
             "outlinewidth": 0,
             "ticks": ""
            },
            "colorscale": [
             [
              0,
              "#0d0887"
             ],
             [
              0.1111111111111111,
              "#46039f"
             ],
             [
              0.2222222222222222,
              "#7201a8"
             ],
             [
              0.3333333333333333,
              "#9c179e"
             ],
             [
              0.4444444444444444,
              "#bd3786"
             ],
             [
              0.5555555555555556,
              "#d8576b"
             ],
             [
              0.6666666666666666,
              "#ed7953"
             ],
             [
              0.7777777777777778,
              "#fb9f3a"
             ],
             [
              0.8888888888888888,
              "#fdca26"
             ],
             [
              1,
              "#f0f921"
             ]
            ],
            "type": "surface"
           }
          ],
          "table": [
           {
            "cells": {
             "fill": {
              "color": "#EBF0F8"
             },
             "line": {
              "color": "white"
             }
            },
            "header": {
             "fill": {
              "color": "#C8D4E3"
             },
             "line": {
              "color": "white"
             }
            },
            "type": "table"
           }
          ]
         },
         "layout": {
          "annotationdefaults": {
           "arrowcolor": "#2a3f5f",
           "arrowhead": 0,
           "arrowwidth": 1
          },
          "autotypenumbers": "strict",
          "coloraxis": {
           "colorbar": {
            "outlinewidth": 0,
            "ticks": ""
           }
          },
          "colorscale": {
           "diverging": [
            [
             0,
             "#8e0152"
            ],
            [
             0.1,
             "#c51b7d"
            ],
            [
             0.2,
             "#de77ae"
            ],
            [
             0.3,
             "#f1b6da"
            ],
            [
             0.4,
             "#fde0ef"
            ],
            [
             0.5,
             "#f7f7f7"
            ],
            [
             0.6,
             "#e6f5d0"
            ],
            [
             0.7,
             "#b8e186"
            ],
            [
             0.8,
             "#7fbc41"
            ],
            [
             0.9,
             "#4d9221"
            ],
            [
             1,
             "#276419"
            ]
           ],
           "sequential": [
            [
             0,
             "#0d0887"
            ],
            [
             0.1111111111111111,
             "#46039f"
            ],
            [
             0.2222222222222222,
             "#7201a8"
            ],
            [
             0.3333333333333333,
             "#9c179e"
            ],
            [
             0.4444444444444444,
             "#bd3786"
            ],
            [
             0.5555555555555556,
             "#d8576b"
            ],
            [
             0.6666666666666666,
             "#ed7953"
            ],
            [
             0.7777777777777778,
             "#fb9f3a"
            ],
            [
             0.8888888888888888,
             "#fdca26"
            ],
            [
             1,
             "#f0f921"
            ]
           ],
           "sequentialminus": [
            [
             0,
             "#0d0887"
            ],
            [
             0.1111111111111111,
             "#46039f"
            ],
            [
             0.2222222222222222,
             "#7201a8"
            ],
            [
             0.3333333333333333,
             "#9c179e"
            ],
            [
             0.4444444444444444,
             "#bd3786"
            ],
            [
             0.5555555555555556,
             "#d8576b"
            ],
            [
             0.6666666666666666,
             "#ed7953"
            ],
            [
             0.7777777777777778,
             "#fb9f3a"
            ],
            [
             0.8888888888888888,
             "#fdca26"
            ],
            [
             1,
             "#f0f921"
            ]
           ]
          },
          "colorway": [
           "#636efa",
           "#EF553B",
           "#00cc96",
           "#ab63fa",
           "#FFA15A",
           "#19d3f3",
           "#FF6692",
           "#B6E880",
           "#FF97FF",
           "#FECB52"
          ],
          "font": {
           "color": "#2a3f5f"
          },
          "geo": {
           "bgcolor": "white",
           "lakecolor": "white",
           "landcolor": "#E5ECF6",
           "showlakes": true,
           "showland": true,
           "subunitcolor": "white"
          },
          "hoverlabel": {
           "align": "left"
          },
          "hovermode": "closest",
          "mapbox": {
           "style": "light"
          },
          "paper_bgcolor": "white",
          "plot_bgcolor": "#E5ECF6",
          "polar": {
           "angularaxis": {
            "gridcolor": "white",
            "linecolor": "white",
            "ticks": ""
           },
           "bgcolor": "#E5ECF6",
           "radialaxis": {
            "gridcolor": "white",
            "linecolor": "white",
            "ticks": ""
           }
          },
          "scene": {
           "xaxis": {
            "backgroundcolor": "#E5ECF6",
            "gridcolor": "white",
            "gridwidth": 2,
            "linecolor": "white",
            "showbackground": true,
            "ticks": "",
            "zerolinecolor": "white"
           },
           "yaxis": {
            "backgroundcolor": "#E5ECF6",
            "gridcolor": "white",
            "gridwidth": 2,
            "linecolor": "white",
            "showbackground": true,
            "ticks": "",
            "zerolinecolor": "white"
           },
           "zaxis": {
            "backgroundcolor": "#E5ECF6",
            "gridcolor": "white",
            "gridwidth": 2,
            "linecolor": "white",
            "showbackground": true,
            "ticks": "",
            "zerolinecolor": "white"
           }
          },
          "shapedefaults": {
           "line": {
            "color": "#2a3f5f"
           }
          },
          "ternary": {
           "aaxis": {
            "gridcolor": "white",
            "linecolor": "white",
            "ticks": ""
           },
           "baxis": {
            "gridcolor": "white",
            "linecolor": "white",
            "ticks": ""
           },
           "bgcolor": "#E5ECF6",
           "caxis": {
            "gridcolor": "white",
            "linecolor": "white",
            "ticks": ""
           }
          },
          "title": {
           "x": 0.05
          },
          "xaxis": {
           "automargin": true,
           "gridcolor": "white",
           "linecolor": "white",
           "ticks": "",
           "title": {
            "standoff": 15
           },
           "zerolinecolor": "white",
           "zerolinewidth": 2
          },
          "yaxis": {
           "automargin": true,
           "gridcolor": "white",
           "linecolor": "white",
           "ticks": "",
           "title": {
            "standoff": 15
           },
           "zerolinecolor": "white",
           "zerolinewidth": 2
          }
         }
        },
        "title": {
         "text": "2D Cluster PCA Plot"
        },
        "xaxis": {
         "anchor": "y",
         "autorange": true,
         "domain": [
          0,
          1
         ],
         "range": [
          -124.53889403144511,
          137.452706799852
         ],
         "title": {
          "text": "PCA1"
         },
         "type": "linear"
        },
        "yaxis": {
         "anchor": "x",
         "autorange": true,
         "domain": [
          0,
          1
         ],
         "range": [
          -55.73794232351203,
          57.50931229195951
         ],
         "title": {
          "text": "PCA2"
         },
         "type": "linear"
        }
       }
      },
      "image/png": "[encoded data removed]"
     },
     "metadata": {},
     "output_type": "display_data"
    }
   ],
   "source": [
    "# plot pca cluster plot \n",
    "plot_model(kmeans, plot = 'cluster')"
   ]
  },
  {
   "cell_type": "code",
   "execution_count": 13,
   "id": "9fc4b9b1",
   "metadata": {
    "execution": {
     "iopub.execute_input": "2025-10-23T06:24:17.699331Z",
     "iopub.status.busy": "2025-10-23T06:24:17.698962Z",
     "iopub.status.idle": "2025-10-23T06:24:18.477501Z",
     "shell.execute_reply": "2025-10-23T06:24:18.476462Z"
    },
    "papermill": {
     "duration": 0.8006,
     "end_time": "2025-10-23T06:24:18.478609",
     "exception": false,
     "start_time": "2025-10-23T06:24:17.678009",
     "status": "completed"
    },
    "tags": []
   },
   "outputs": [
    {
     "data": {
      "text/html": [],
      "text/plain": [
       "<IPython.core.display.HTML object>"
      ]
     },
     "metadata": {},
     "output_type": "display_data"
    },
    {
     "data": {
      "image/png": "[encoded data removed]",
      "text/plain": [
       "<Figure size 800x550 with 1 Axes>"
      ]
     },
     "metadata": {},
     "output_type": "display_data"
    }
   ],
   "source": [
    "# plot elbow\n",
    "plot_model(kmeans, plot = 'elbow')"
   ]
  },
  {
   "cell_type": "code",
   "execution_count": 14,
   "id": "bbc790e4",
   "metadata": {
    "execution": {
     "iopub.execute_input": "2025-10-23T06:24:18.522414Z",
     "iopub.status.busy": "2025-10-23T06:24:18.522106Z",
     "iopub.status.idle": "2025-10-23T06:24:18.989879Z",
     "shell.execute_reply": "2025-10-23T06:24:18.988729Z"
    },
    "papermill": {
     "duration": 0.490709,
     "end_time": "2025-10-23T06:24:18.990847",
     "exception": false,
     "start_time": "2025-10-23T06:24:18.500138",
     "status": "completed"
    },
    "tags": []
   },
   "outputs": [
    {
     "data": {
      "text/html": [],
      "text/plain": [
       "<IPython.core.display.HTML object>"
      ]
     },
     "metadata": {},
     "output_type": "display_data"
    },
    {
     "data": {
      "image/png": "[encoded data removed]",
      "text/plain": [
       "<Figure size 800x550 with 1 Axes>"
      ]
     },
     "metadata": {},
     "output_type": "display_data"
    }
   ],
   "source": [
    "# plot silhouette\n",
    "plot_model(kmeans, plot = 'silhouette')"
   ]
  },
  {
   "cell_type": "code",
   "execution_count": 15,
   "id": "da718984",
   "metadata": {
    "execution": {
     "iopub.execute_input": "2025-10-23T06:24:19.036498Z",
     "iopub.status.busy": "2025-10-23T06:24:19.036200Z",
     "iopub.status.idle": "2025-10-23T06:24:19.040010Z",
     "shell.execute_reply": "2025-10-23T06:24:19.038880Z"
    },
    "papermill": {
     "duration": 0.027566,
     "end_time": "2025-10-23T06:24:19.040742",
     "exception": false,
     "start_time": "2025-10-23T06:24:19.013176",
     "status": "completed"
    },
    "tags": []
   },
   "outputs": [],
   "source": [
    "# check docstring to see available plots \n",
    "# help(plot_model)"
   ]
  },
  {
   "cell_type": "markdown",
   "id": "6bd66179",
   "metadata": {
    "papermill": {
     "duration": 0.02123,
     "end_time": "2025-10-23T06:24:19.083633",
     "exception": false,
     "start_time": "2025-10-23T06:24:19.062403",
     "status": "completed"
    },
    "tags": []
   },
   "source": [
    "An alternate to `plot_model` function is `evaluate_model`. It can only be used in Notebook since it uses ipywidget."
   ]
  },
  {
   "cell_type": "code",
   "execution_count": 16,
   "id": "c75f07a8",
   "metadata": {
    "execution": {
     "iopub.execute_input": "2025-10-23T06:24:19.127485Z",
     "iopub.status.busy": "2025-10-23T06:24:19.127144Z",
     "iopub.status.idle": "2025-10-23T06:24:19.484471Z",
     "shell.execute_reply": "2025-10-23T06:24:19.483688Z"
    },
    "papermill": {
     "duration": 0.380918,
     "end_time": "2025-10-23T06:24:19.485681",
     "exception": false,
     "start_time": "2025-10-23T06:24:19.104763",
     "status": "completed"
    },
    "tags": []
   },
   "outputs": [
    {
     "data": {
      "application/vnd.jupyter.widget-view+json": {
       "model_id": "9896017df9a24b4280554908dbbfd1c2",
       "version_major": 2,
       "version_minor": 0
      },
      "text/plain": [
       "interactive(children=(ToggleButtons(description='Plot Type:', icons=('',), options=(('Pipeline Plot', 'pipelin…"
      ]
     },
     "metadata": {},
     "output_type": "display_data"
    }
   ],
   "source": [
    "evaluate_model(kmeans)"
   ]
  },
  {
   "cell_type": "markdown",
   "id": "954cbeff",
   "metadata": {
    "papermill": {
     "duration": 0.021289,
     "end_time": "2025-10-23T06:24:19.529093",
     "exception": false,
     "start_time": "2025-10-23T06:24:19.507804",
     "status": "completed"
    },
    "tags": []
   },
   "source": [
    "## Prediction\n",
    "The `predict_model` function returns `Cluster` label as a new column in the input dataframe. This step may or may not be needed depending on the use-case. Some times clustering models are trained for analysis purpose only and the interest of user is only in assigned labels on the training dataset, that can be done using `assign_model` function. `predict_model` is only useful when you want to obtain cluster labels on unseen data (i.e. data that was not used during training the model)."
   ]
  },
  {
   "cell_type": "code",
   "execution_count": 17,
   "id": "87c1a007",
   "metadata": {
    "execution": {
     "iopub.execute_input": "2025-10-23T06:24:19.573565Z",
     "iopub.status.busy": "2025-10-23T06:24:19.573268Z",
     "iopub.status.idle": "2025-10-23T06:24:19.615026Z",
     "shell.execute_reply": "2025-10-23T06:24:19.614236Z"
    },
    "papermill": {
     "duration": 0.065774,
     "end_time": "2025-10-23T06:24:19.616165",
     "exception": false,
     "start_time": "2025-10-23T06:24:19.550391",
     "status": "completed"
    },
    "tags": []
   },
   "outputs": [
    {
     "data": {
      "text/html": [
       "<div>\n",
       "<style scoped>\n",
       "    .dataframe tbody tr th:only-of-type {\n",
       "        vertical-align: middle;\n",
       "    }\n",
       "\n",
       "    .dataframe tbody tr th {\n",
       "        vertical-align: top;\n",
       "    }\n",
       "\n",
       "    .dataframe thead th {\n",
       "        text-align: right;\n",
       "    }\n",
       "</style>\n",
       "<table border=\"1\" class=\"dataframe\">\n",
       "  <thead>\n",
       "    <tr style=\"text-align: right;\">\n",
       "      <th></th>\n",
       "      <th>CustomerID</th>\n",
       "      <th>Gender</th>\n",
       "      <th>Age</th>\n",
       "      <th>Annual Income (k$)</th>\n",
       "      <th>Spending Score (1-100)</th>\n",
       "      <th>Cluster</th>\n",
       "    </tr>\n",
       "  </thead>\n",
       "  <tbody>\n",
       "    <tr>\n",
       "      <th>0</th>\n",
       "      <td>1.0</td>\n",
       "      <td>1.0</td>\n",
       "      <td>19.0</td>\n",
       "      <td>15.0</td>\n",
       "      <td>39.0</td>\n",
       "      <td>Cluster 1</td>\n",
       "    </tr>\n",
       "    <tr>\n",
       "      <th>1</th>\n",
       "      <td>2.0</td>\n",
       "      <td>1.0</td>\n",
       "      <td>21.0</td>\n",
       "      <td>15.0</td>\n",
       "      <td>81.0</td>\n",
       "      <td>Cluster 1</td>\n",
       "    </tr>\n",
       "    <tr>\n",
       "      <th>2</th>\n",
       "      <td>3.0</td>\n",
       "      <td>0.0</td>\n",
       "      <td>20.0</td>\n",
       "      <td>16.0</td>\n",
       "      <td>6.0</td>\n",
       "      <td>Cluster 1</td>\n",
       "    </tr>\n",
       "    <tr>\n",
       "      <th>3</th>\n",
       "      <td>4.0</td>\n",
       "      <td>0.0</td>\n",
       "      <td>23.0</td>\n",
       "      <td>16.0</td>\n",
       "      <td>77.0</td>\n",
       "      <td>Cluster 1</td>\n",
       "    </tr>\n",
       "    <tr>\n",
       "      <th>4</th>\n",
       "      <td>5.0</td>\n",
       "      <td>0.0</td>\n",
       "      <td>31.0</td>\n",
       "      <td>17.0</td>\n",
       "      <td>40.0</td>\n",
       "      <td>Cluster 1</td>\n",
       "    </tr>\n",
       "    <tr>\n",
       "      <th>...</th>\n",
       "      <td>...</td>\n",
       "      <td>...</td>\n",
       "      <td>...</td>\n",
       "      <td>...</td>\n",
       "      <td>...</td>\n",
       "      <td>...</td>\n",
       "    </tr>\n",
       "    <tr>\n",
       "      <th>195</th>\n",
       "      <td>196.0</td>\n",
       "      <td>0.0</td>\n",
       "      <td>35.0</td>\n",
       "      <td>120.0</td>\n",
       "      <td>79.0</td>\n",
       "      <td>Cluster 2</td>\n",
       "    </tr>\n",
       "    <tr>\n",
       "      <th>196</th>\n",
       "      <td>197.0</td>\n",
       "      <td>0.0</td>\n",
       "      <td>45.0</td>\n",
       "      <td>126.0</td>\n",
       "      <td>28.0</td>\n",
       "      <td>Cluster 3</td>\n",
       "    </tr>\n",
       "    <tr>\n",
       "      <th>197</th>\n",
       "      <td>198.0</td>\n",
       "      <td>1.0</td>\n",
       "      <td>32.0</td>\n",
       "      <td>126.0</td>\n",
       "      <td>74.0</td>\n",
       "      <td>Cluster 2</td>\n",
       "    </tr>\n",
       "    <tr>\n",
       "      <th>198</th>\n",
       "      <td>199.0</td>\n",
       "      <td>1.0</td>\n",
       "      <td>32.0</td>\n",
       "      <td>137.0</td>\n",
       "      <td>18.0</td>\n",
       "      <td>Cluster 3</td>\n",
       "    </tr>\n",
       "    <tr>\n",
       "      <th>199</th>\n",
       "      <td>200.0</td>\n",
       "      <td>1.0</td>\n",
       "      <td>30.0</td>\n",
       "      <td>137.0</td>\n",
       "      <td>83.0</td>\n",
       "      <td>Cluster 2</td>\n",
       "    </tr>\n",
       "  </tbody>\n",
       "</table>\n",
       "<p>200 rows × 6 columns</p>\n",
       "</div>"
      ],
      "text/plain": [
       "     CustomerID  Gender   Age  Annual Income (k$)  Spending Score (1-100)  \\\n",
       "0           1.0     1.0  19.0                15.0                    39.0   \n",
       "1           2.0     1.0  21.0                15.0                    81.0   \n",
       "2           3.0     0.0  20.0                16.0                     6.0   \n",
       "3           4.0     0.0  23.0                16.0                    77.0   \n",
       "4           5.0     0.0  31.0                17.0                    40.0   \n",
       "..          ...     ...   ...                 ...                     ...   \n",
       "195       196.0     0.0  35.0               120.0                    79.0   \n",
       "196       197.0     0.0  45.0               126.0                    28.0   \n",
       "197       198.0     1.0  32.0               126.0                    74.0   \n",
       "198       199.0     1.0  32.0               137.0                    18.0   \n",
       "199       200.0     1.0  30.0               137.0                    83.0   \n",
       "\n",
       "       Cluster  \n",
       "0    Cluster 1  \n",
       "1    Cluster 1  \n",
       "2    Cluster 1  \n",
       "3    Cluster 1  \n",
       "4    Cluster 1  \n",
       "..         ...  \n",
       "195  Cluster 2  \n",
       "196  Cluster 3  \n",
       "197  Cluster 2  \n",
       "198  Cluster 3  \n",
       "199  Cluster 2  \n",
       "\n",
       "[200 rows x 6 columns]"
      ]
     },
     "execution_count": 17,
     "metadata": {},
     "output_type": "execute_result"
    }
   ],
   "source": [
    "# predict on test set\n",
    "kmeans_pred = predict_model(kmeans, data=data)\n",
    "kmeans_pred"
   ]
  },
  {
   "cell_type": "markdown",
   "id": "e4384735",
   "metadata": {
    "papermill": {
     "duration": 0.021703,
     "end_time": "2025-10-23T06:24:19.659938",
     "exception": false,
     "start_time": "2025-10-23T06:24:19.638235",
     "status": "completed"
    },
    "tags": []
   },
   "source": [
    "## Save Model"
   ]
  },
  {
   "cell_type": "markdown",
   "id": "cd63f053",
   "metadata": {
    "papermill": {
     "duration": 0.021396,
     "end_time": "2025-10-23T06:24:19.702773",
     "exception": false,
     "start_time": "2025-10-23T06:24:19.681377",
     "status": "completed"
    },
    "tags": []
   },
   "source": [
    "Finally, you can save the entire pipeline on disk for later use, using pycaret's `save_model` function."
   ]
  },
  {
   "cell_type": "code",
   "execution_count": 18,
   "id": "4181de41",
   "metadata": {
    "execution": {
     "iopub.execute_input": "2025-10-23T06:24:19.747574Z",
     "iopub.status.busy": "2025-10-23T06:24:19.747280Z",
     "iopub.status.idle": "2025-10-23T06:24:20.035335Z",
     "shell.execute_reply": "2025-10-23T06:24:20.034399Z"
    },
    "papermill": {
     "duration": 0.311789,
     "end_time": "2025-10-23T06:24:20.036060",
     "exception": false,
     "start_time": "2025-10-23T06:24:19.724271",
     "status": "completed"
    },
    "tags": []
   },
   "outputs": [
    {
     "name": "stdout",
     "output_type": "stream",
     "text": [
      "Transformation Pipeline and Model Successfully Saved\n"
     ]
    },
    {
     "data": {
      "text/plain": [
       "(Pipeline(memory=Memory(location=None),\n",
       "          steps=[('numerical_imputer',\n",
       "                  TransformerWrapper(include=['CustomerID', 'Age',\n",
       "                                              'Annual Income (k$)',\n",
       "                                              'Spending Score (1-100)'],\n",
       "                                     transformer=SimpleImputer())),\n",
       "                 ('categorical_imputer',\n",
       "                  TransformerWrapper(include=['Gender'],\n",
       "                                     transformer=SimpleImputer(strategy='most_frequent'))),\n",
       "                 ('ordinal_encoding',\n",
       "                  TransformerWrapper(include=['Gender'],\n",
       "                                     transformer=OrdinalEncoder(cols=['Gender'],\n",
       "                                                                handle_missing='return_nan',\n",
       "                                                                mapping=[{'col': 'Gender',\n",
       "                                                                          'data_type': dtype('O'),\n",
       "                                                                          'mapping': Female    0\n",
       " Male      1\n",
       " NaN      -1\n",
       " dtype: int64}]))),\n",
       "                 ('trained_model', KMeans(n_clusters=4, random_state=123))]),\n",
       " 'kmeans_pipeline.pkl')"
      ]
     },
     "execution_count": 18,
     "metadata": {},
     "output_type": "execute_result"
    }
   ],
   "source": [
    "# save pipeline\n",
    "save_model(kmeans, 'kmeans_pipeline')"
   ]
  },
  {
   "cell_type": "code",
   "execution_count": 19,
   "id": "40ed5152",
   "metadata": {
    "execution": {
     "iopub.execute_input": "2025-10-23T06:24:20.082392Z",
     "iopub.status.busy": "2025-10-23T06:24:20.082082Z",
     "iopub.status.idle": "2025-10-23T06:24:20.136863Z",
     "shell.execute_reply": "2025-10-23T06:24:20.135984Z"
    },
    "papermill": {
     "duration": 0.079302,
     "end_time": "2025-10-23T06:24:20.137730",
     "exception": false,
     "start_time": "2025-10-23T06:24:20.058428",
     "status": "completed"
    },
    "tags": []
   },
   "outputs": [
    {
     "name": "stdout",
     "output_type": "stream",
     "text": [
      "Transformation Pipeline and Model Successfully Loaded\n"
     ]
    },
    {
     "data": {
      "text/html": [
       "<style>#sk-container-id-1 {\n",
       "  /* Definition of color scheme common for light and dark mode */\n",
       "  --sklearn-color-text: black;\n",
       "  --sklearn-color-line: gray;\n",
       "  /* Definition of color scheme for unfitted estimators */\n",
       "  --sklearn-color-unfitted-level-0: #fff5e6;\n",
       "  --sklearn-color-unfitted-level-1: #f6e4d2;\n",
       "  --sklearn-color-unfitted-level-2: #ffe0b3;\n",
       "  --sklearn-color-unfitted-level-3: chocolate;\n",
       "  /* Definition of color scheme for fitted estimators */\n",
       "  --sklearn-color-fitted-level-0: #f0f8ff;\n",
       "  --sklearn-color-fitted-level-1: #d4ebff;\n",
       "  --sklearn-color-fitted-level-2: #b3dbfd;\n",
       "  --sklearn-color-fitted-level-3: cornflowerblue;\n",
       "\n",
       "  /* Specific color for light theme */\n",
       "  --sklearn-color-text-on-default-background: var(--sg-text-color, var(--theme-code-foreground, var(--jp-content-font-color1, black)));\n",
       "  --sklearn-color-background: var(--sg-background-color, var(--theme-background, var(--jp-layout-color0, white)));\n",
       "  --sklearn-color-border-box: var(--sg-text-color, var(--theme-code-foreground, var(--jp-content-font-color1, black)));\n",
       "  --sklearn-color-icon: #696969;\n",
       "\n",
       "  @media (prefers-color-scheme: dark) {\n",
       "    /* Redefinition of color scheme for dark theme */\n",
       "    --sklearn-color-text-on-default-background: var(--sg-text-color, var(--theme-code-foreground, var(--jp-content-font-color1, white)));\n",
       "    --sklearn-color-background: var(--sg-background-color, var(--theme-background, var(--jp-layout-color0, #111)));\n",
       "    --sklearn-color-border-box: var(--sg-text-color, var(--theme-code-foreground, var(--jp-content-font-color1, white)));\n",
       "    --sklearn-color-icon: #878787;\n",
       "  }\n",
       "}\n",
       "\n",
       "#sk-container-id-1 {\n",
       "  color: var(--sklearn-color-text);\n",
       "}\n",
       "\n",
       "#sk-container-id-1 pre {\n",
       "  padding: 0;\n",
       "}\n",
       "\n",
       "#sk-container-id-1 input.sk-hidden--visually {\n",
       "  border: 0;\n",
       "  clip: rect(1px 1px 1px 1px);\n",
       "  clip: rect(1px, 1px, 1px, 1px);\n",
       "  height: 1px;\n",
       "  margin: -1px;\n",
       "  overflow: hidden;\n",
       "  padding: 0;\n",
       "  position: absolute;\n",
       "  width: 1px;\n",
       "}\n",
       "\n",
       "#sk-container-id-1 div.sk-dashed-wrapped {\n",
       "  border: 1px dashed var(--sklearn-color-line);\n",
       "  margin: 0 0.4em 0.5em 0.4em;\n",
       "  box-sizing: border-box;\n",
       "  padding-bottom: 0.4em;\n",
       "  background-color: var(--sklearn-color-background);\n",
       "}\n",
       "\n",
       "#sk-container-id-1 div.sk-container {\n",
       "  /* jupyter's `normalize.less` sets `[hidden] { display: none; }`\n",
       "     but bootstrap.min.css set `[hidden] { display: none !important; }`\n",
       "     so we also need the `!important` here to be able to override the\n",
       "     default hidden behavior on the sphinx rendered scikit-learn.org.\n",
       "     See: https://github.com/scikit-learn/scikit-learn/issues/21755 */\n",
       "  display: inline-block !important;\n",
       "  position: relative;\n",
       "}\n",
       "\n",
       "#sk-container-id-1 div.sk-text-repr-fallback {\n",
       "  display: none;\n",
       "}\n",
       "\n",
       "div.sk-parallel-item,\n",
       "div.sk-serial,\n",
       "div.sk-item {\n",
       "  /* draw centered vertical line to link estimators */\n",
       "  background-image: linear-gradient(var(--sklearn-color-text-on-default-background), var(--sklearn-color-text-on-default-background));\n",
       "  background-size: 2px 100%;\n",
       "  background-repeat: no-repeat;\n",
       "  background-position: center center;\n",
       "}\n",
       "\n",
       "/* Parallel-specific style estimator block */\n",
       "\n",
       "#sk-container-id-1 div.sk-parallel-item::after {\n",
       "  content: \"\";\n",
       "  width: 100%;\n",
       "  border-bottom: 2px solid var(--sklearn-color-text-on-default-background);\n",
       "  flex-grow: 1;\n",
       "}\n",
       "\n",
       "#sk-container-id-1 div.sk-parallel {\n",
       "  display: flex;\n",
       "  align-items: stretch;\n",
       "  justify-content: center;\n",
       "  background-color: var(--sklearn-color-background);\n",
       "  position: relative;\n",
       "}\n",
       "\n",
       "#sk-container-id-1 div.sk-parallel-item {\n",
       "  display: flex;\n",
       "  flex-direction: column;\n",
       "}\n",
       "\n",
       "#sk-container-id-1 div.sk-parallel-item:first-child::after {\n",
       "  align-self: flex-end;\n",
       "  width: 50%;\n",
       "}\n",
       "\n",
       "#sk-container-id-1 div.sk-parallel-item:last-child::after {\n",
       "  align-self: flex-start;\n",
       "  width: 50%;\n",
       "}\n",
       "\n",
       "#sk-container-id-1 div.sk-parallel-item:only-child::after {\n",
       "  width: 0;\n",
       "}\n",
       "\n",
       "/* Serial-specific style estimator block */\n",
       "\n",
       "#sk-container-id-1 div.sk-serial {\n",
       "  display: flex;\n",
       "  flex-direction: column;\n",
       "  align-items: center;\n",
       "  background-color: var(--sklearn-color-background);\n",
       "  padding-right: 1em;\n",
       "  padding-left: 1em;\n",
       "}\n",
       "\n",
       "\n",
       "/* Toggleable style: style used for estimator/Pipeline/ColumnTransformer box that is\n",
       "clickable and can be expanded/collapsed.\n",
       "- Pipeline and ColumnTransformer use this feature and define the default style\n",
       "- Estimators will overwrite some part of the style using the `sk-estimator` class\n",
       "*/\n",
       "\n",
       "/* Pipeline and ColumnTransformer style (default) */\n",
       "\n",
       "#sk-container-id-1 div.sk-toggleable {\n",
       "  /* Default theme specific background. It is overwritten whether we have a\n",
       "  specific estimator or a Pipeline/ColumnTransformer */\n",
       "  background-color: var(--sklearn-color-background);\n",
       "}\n",
       "\n",
       "/* Toggleable label */\n",
       "#sk-container-id-1 label.sk-toggleable__label {\n",
       "  cursor: pointer;\n",
       "  display: block;\n",
       "  width: 100%;\n",
       "  margin-bottom: 0;\n",
       "  padding: 0.5em;\n",
       "  box-sizing: border-box;\n",
       "  text-align: center;\n",
       "}\n",
       "\n",
       "#sk-container-id-1 label.sk-toggleable__label-arrow:before {\n",
       "  /* Arrow on the left of the label */\n",
       "  content: \"▸\";\n",
       "  float: left;\n",
       "  margin-right: 0.25em;\n",
       "  color: var(--sklearn-color-icon);\n",
       "}\n",
       "\n",
       "#sk-container-id-1 label.sk-toggleable__label-arrow:hover:before {\n",
       "  color: var(--sklearn-color-text);\n",
       "}\n",
       "\n",
       "/* Toggleable content - dropdown */\n",
       "\n",
       "#sk-container-id-1 div.sk-toggleable__content {\n",
       "  max-height: 0;\n",
       "  max-width: 0;\n",
       "  overflow: hidden;\n",
       "  text-align: left;\n",
       "  /* unfitted */\n",
       "  background-color: var(--sklearn-color-unfitted-level-0);\n",
       "}\n",
       "\n",
       "#sk-container-id-1 div.sk-toggleable__content.fitted {\n",
       "  /* fitted */\n",
       "  background-color: var(--sklearn-color-fitted-level-0);\n",
       "}\n",
       "\n",
       "#sk-container-id-1 div.sk-toggleable__content pre {\n",
       "  margin: 0.2em;\n",
       "  border-radius: 0.25em;\n",
       "  color: var(--sklearn-color-text);\n",
       "  /* unfitted */\n",
       "  background-color: var(--sklearn-color-unfitted-level-0);\n",
       "}\n",
       "\n",
       "#sk-container-id-1 div.sk-toggleable__content.fitted pre {\n",
       "  /* unfitted */\n",
       "  background-color: var(--sklearn-color-fitted-level-0);\n",
       "}\n",
       "\n",
       "#sk-container-id-1 input.sk-toggleable__control:checked~div.sk-toggleable__content {\n",
       "  /* Expand drop-down */\n",
       "  max-height: 200px;\n",
       "  max-width: 100%;\n",
       "  overflow: auto;\n",
       "}\n",
       "\n",
       "#sk-container-id-1 input.sk-toggleable__control:checked~label.sk-toggleable__label-arrow:before {\n",
       "  content: \"▾\";\n",
       "}\n",
       "\n",
       "/* Pipeline/ColumnTransformer-specific style */\n",
       "\n",
       "#sk-container-id-1 div.sk-label input.sk-toggleable__control:checked~label.sk-toggleable__label {\n",
       "  color: var(--sklearn-color-text);\n",
       "  background-color: var(--sklearn-color-unfitted-level-2);\n",
       "}\n",
       "\n",
       "#sk-container-id-1 div.sk-label.fitted input.sk-toggleable__control:checked~label.sk-toggleable__label {\n",
       "  background-color: var(--sklearn-color-fitted-level-2);\n",
       "}\n",
       "\n",
       "/* Estimator-specific style */\n",
       "\n",
       "/* Colorize estimator box */\n",
       "#sk-container-id-1 div.sk-estimator input.sk-toggleable__control:checked~label.sk-toggleable__label {\n",
       "  /* unfitted */\n",
       "  background-color: var(--sklearn-color-unfitted-level-2);\n",
       "}\n",
       "\n",
       "#sk-container-id-1 div.sk-estimator.fitted input.sk-toggleable__control:checked~label.sk-toggleable__label {\n",
       "  /* fitted */\n",
       "  background-color: var(--sklearn-color-fitted-level-2);\n",
       "}\n",
       "\n",
       "#sk-container-id-1 div.sk-label label.sk-toggleable__label,\n",
       "#sk-container-id-1 div.sk-label label {\n",
       "  /* The background is the default theme color */\n",
       "  color: var(--sklearn-color-text-on-default-background);\n",
       "}\n",
       "\n",
       "/* On hover, darken the color of the background */\n",
       "#sk-container-id-1 div.sk-label:hover label.sk-toggleable__label {\n",
       "  color: var(--sklearn-color-text);\n",
       "  background-color: var(--sklearn-color-unfitted-level-2);\n",
       "}\n",
       "\n",
       "/* Label box, darken color on hover, fitted */\n",
       "#sk-container-id-1 div.sk-label.fitted:hover label.sk-toggleable__label.fitted {\n",
       "  color: var(--sklearn-color-text);\n",
       "  background-color: var(--sklearn-color-fitted-level-2);\n",
       "}\n",
       "\n",
       "/* Estimator label */\n",
       "\n",
       "#sk-container-id-1 div.sk-label label {\n",
       "  font-family: monospace;\n",
       "  font-weight: bold;\n",
       "  display: inline-block;\n",
       "  line-height: 1.2em;\n",
       "}\n",
       "\n",
       "#sk-container-id-1 div.sk-label-container {\n",
       "  text-align: center;\n",
       "}\n",
       "\n",
       "/* Estimator-specific */\n",
       "#sk-container-id-1 div.sk-estimator {\n",
       "  font-family: monospace;\n",
       "  border: 1px dotted var(--sklearn-color-border-box);\n",
       "  border-radius: 0.25em;\n",
       "  box-sizing: border-box;\n",
       "  margin-bottom: 0.5em;\n",
       "  /* unfitted */\n",
       "  background-color: var(--sklearn-color-unfitted-level-0);\n",
       "}\n",
       "\n",
       "#sk-container-id-1 div.sk-estimator.fitted {\n",
       "  /* fitted */\n",
       "  background-color: var(--sklearn-color-fitted-level-0);\n",
       "}\n",
       "\n",
       "/* on hover */\n",
       "#sk-container-id-1 div.sk-estimator:hover {\n",
       "  /* unfitted */\n",
       "  background-color: var(--sklearn-color-unfitted-level-2);\n",
       "}\n",
       "\n",
       "#sk-container-id-1 div.sk-estimator.fitted:hover {\n",
       "  /* fitted */\n",
       "  background-color: var(--sklearn-color-fitted-level-2);\n",
       "}\n",
       "\n",
       "/* Specification for estimator info (e.g. \"i\" and \"?\") */\n",
       "\n",
       "/* Common style for \"i\" and \"?\" */\n",
       "\n",
       ".sk-estimator-doc-link,\n",
       "a:link.sk-estimator-doc-link,\n",
       "a:visited.sk-estimator-doc-link {\n",
       "  float: right;\n",
       "  font-size: smaller;\n",
       "  line-height: 1em;\n",
       "  font-family: monospace;\n",
       "  background-color: var(--sklearn-color-background);\n",
       "  border-radius: 1em;\n",
       "  height: 1em;\n",
       "  width: 1em;\n",
       "  text-decoration: none !important;\n",
       "  margin-left: 1ex;\n",
       "  /* unfitted */\n",
       "  border: var(--sklearn-color-unfitted-level-1) 1pt solid;\n",
       "  color: var(--sklearn-color-unfitted-level-1);\n",
       "}\n",
       "\n",
       ".sk-estimator-doc-link.fitted,\n",
       "a:link.sk-estimator-doc-link.fitted,\n",
       "a:visited.sk-estimator-doc-link.fitted {\n",
       "  /* fitted */\n",
       "  border: var(--sklearn-color-fitted-level-1) 1pt solid;\n",
       "  color: var(--sklearn-color-fitted-level-1);\n",
       "}\n",
       "\n",
       "/* On hover */\n",
       "div.sk-estimator:hover .sk-estimator-doc-link:hover,\n",
       ".sk-estimator-doc-link:hover,\n",
       "div.sk-label-container:hover .sk-estimator-doc-link:hover,\n",
       ".sk-estimator-doc-link:hover {\n",
       "  /* unfitted */\n",
       "  background-color: var(--sklearn-color-unfitted-level-3);\n",
       "  color: var(--sklearn-color-background);\n",
       "  text-decoration: none;\n",
       "}\n",
       "\n",
       "div.sk-estimator.fitted:hover .sk-estimator-doc-link.fitted:hover,\n",
       ".sk-estimator-doc-link.fitted:hover,\n",
       "div.sk-label-container:hover .sk-estimator-doc-link.fitted:hover,\n",
       ".sk-estimator-doc-link.fitted:hover {\n",
       "  /* fitted */\n",
       "  background-color: var(--sklearn-color-fitted-level-3);\n",
       "  color: var(--sklearn-color-background);\n",
       "  text-decoration: none;\n",
       "}\n",
       "\n",
       "/* Span, style for the box shown on hovering the info icon */\n",
       ".sk-estimator-doc-link span {\n",
       "  display: none;\n",
       "  z-index: 9999;\n",
       "  position: relative;\n",
       "  font-weight: normal;\n",
       "  right: .2ex;\n",
       "  padding: .5ex;\n",
       "  margin: .5ex;\n",
       "  width: min-content;\n",
       "  min-width: 20ex;\n",
       "  max-width: 50ex;\n",
       "  color: var(--sklearn-color-text);\n",
       "  box-shadow: 2pt 2pt 4pt #999;\n",
       "  /* unfitted */\n",
       "  background: var(--sklearn-color-unfitted-level-0);\n",
       "  border: .5pt solid var(--sklearn-color-unfitted-level-3);\n",
       "}\n",
       "\n",
       ".sk-estimator-doc-link.fitted span {\n",
       "  /* fitted */\n",
       "  background: var(--sklearn-color-fitted-level-0);\n",
       "  border: var(--sklearn-color-fitted-level-3);\n",
       "}\n",
       "\n",
       ".sk-estimator-doc-link:hover span {\n",
       "  display: block;\n",
       "}\n",
       "\n",
       "/* \"?\"-specific style due to the `<a>` HTML tag */\n",
       "\n",
       "#sk-container-id-1 a.estimator_doc_link {\n",
       "  float: right;\n",
       "  font-size: 1rem;\n",
       "  line-height: 1em;\n",
       "  font-family: monospace;\n",
       "  background-color: var(--sklearn-color-background);\n",
       "  border-radius: 1rem;\n",
       "  height: 1rem;\n",
       "  width: 1rem;\n",
       "  text-decoration: none;\n",
       "  /* unfitted */\n",
       "  color: var(--sklearn-color-unfitted-level-1);\n",
       "  border: var(--sklearn-color-unfitted-level-1) 1pt solid;\n",
       "}\n",
       "\n",
       "#sk-container-id-1 a.estimator_doc_link.fitted {\n",
       "  /* fitted */\n",
       "  border: var(--sklearn-color-fitted-level-1) 1pt solid;\n",
       "  color: var(--sklearn-color-fitted-level-1);\n",
       "}\n",
       "\n",
       "/* On hover */\n",
       "#sk-container-id-1 a.estimator_doc_link:hover {\n",
       "  /* unfitted */\n",
       "  background-color: var(--sklearn-color-unfitted-level-3);\n",
       "  color: var(--sklearn-color-background);\n",
       "  text-decoration: none;\n",
       "}\n",
       "\n",
       "#sk-container-id-1 a.estimator_doc_link.fitted:hover {\n",
       "  /* fitted */\n",
       "  background-color: var(--sklearn-color-fitted-level-3);\n",
       "}\n",
       "</style><div id=\"sk-container-id-1\" class=\"sk-top-container\"><div class=\"sk-text-repr-fallback\"><pre>Pipeline(memory=FastMemory(location=/var/tmp/joblib),\n",
       "         steps=[(&#x27;numerical_imputer&#x27;,\n",
       "                 TransformerWrapper(include=[&#x27;CustomerID&#x27;, &#x27;Age&#x27;,\n",
       "                                             &#x27;Annual Income (k$)&#x27;,\n",
       "                                             &#x27;Spending Score (1-100)&#x27;],\n",
       "                                    transformer=SimpleImputer())),\n",
       "                (&#x27;categorical_imputer&#x27;,\n",
       "                 TransformerWrapper(include=[&#x27;Gender&#x27;],\n",
       "                                    transformer=SimpleImputer(strategy=&#x27;most_frequent&#x27;))),\n",
       "                (&#x27;ordinal_encoding&#x27;,\n",
       "                 TransformerWrapper(include=[&#x27;Gender&#x27;],\n",
       "                                    transformer=OrdinalEncoder(cols=[&#x27;Gender&#x27;],\n",
       "                                                               handle_missing=&#x27;return_nan&#x27;,\n",
       "                                                               mapping=[{&#x27;col&#x27;: &#x27;Gender&#x27;,\n",
       "                                                                         &#x27;data_type&#x27;: dtype(&#x27;O&#x27;),\n",
       "                                                                         &#x27;mapping&#x27;: Female    0\n",
       "Male      1\n",
       "NaN      -1\n",
       "dtype: int64}]))),\n",
       "                (&#x27;trained_model&#x27;, KMeans(n_clusters=4, random_state=123))])</pre><b>In a Jupyter environment, please rerun this cell to show the HTML representation or trust the notebook. <br />On GitHub, the HTML representation is unable to render, please try loading this page with nbviewer.org.</b></div><div class=\"sk-container\" hidden><div class=\"sk-item sk-dashed-wrapped\"><div class=\"sk-label-container\"><div class=\"sk-label fitted sk-toggleable\"><input class=\"sk-toggleable__control sk-hidden--visually\" id=\"sk-estimator-id-1\" type=\"checkbox\" ><label for=\"sk-estimator-id-1\" class=\"sk-toggleable__label fitted sk-toggleable__label-arrow fitted\">&nbsp;Pipeline<span class=\"sk-estimator-doc-link fitted\">i<span>Fitted</span></span></label><div class=\"sk-toggleable__content fitted\"><pre>Pipeline(memory=FastMemory(location=/var/tmp/joblib),\n",
       "         steps=[(&#x27;numerical_imputer&#x27;,\n",
       "                 TransformerWrapper(include=[&#x27;CustomerID&#x27;, &#x27;Age&#x27;,\n",
       "                                             &#x27;Annual Income (k$)&#x27;,\n",
       "                                             &#x27;Spending Score (1-100)&#x27;],\n",
       "                                    transformer=SimpleImputer())),\n",
       "                (&#x27;categorical_imputer&#x27;,\n",
       "                 TransformerWrapper(include=[&#x27;Gender&#x27;],\n",
       "                                    transformer=SimpleImputer(strategy=&#x27;most_frequent&#x27;))),\n",
       "                (&#x27;ordinal_encoding&#x27;,\n",
       "                 TransformerWrapper(include=[&#x27;Gender&#x27;],\n",
       "                                    transformer=OrdinalEncoder(cols=[&#x27;Gender&#x27;],\n",
       "                                                               handle_missing=&#x27;return_nan&#x27;,\n",
       "                                                               mapping=[{&#x27;col&#x27;: &#x27;Gender&#x27;,\n",
       "                                                                         &#x27;data_type&#x27;: dtype(&#x27;O&#x27;),\n",
       "                                                                         &#x27;mapping&#x27;: Female    0\n",
       "Male      1\n",
       "NaN      -1\n",
       "dtype: int64}]))),\n",
       "                (&#x27;trained_model&#x27;, KMeans(n_clusters=4, random_state=123))])</pre></div> </div></div><div class=\"sk-serial\"><div class=\"sk-item sk-dashed-wrapped\"><div class=\"sk-label-container\"><div class=\"sk-label fitted sk-toggleable\"><input class=\"sk-toggleable__control sk-hidden--visually\" id=\"sk-estimator-id-2\" type=\"checkbox\" ><label for=\"sk-estimator-id-2\" class=\"sk-toggleable__label fitted sk-toggleable__label-arrow fitted\">numerical_imputer: TransformerWrapper</label><div class=\"sk-toggleable__content fitted\"><pre>TransformerWrapper(include=[&#x27;CustomerID&#x27;, &#x27;Age&#x27;, &#x27;Annual Income (k$)&#x27;,\n",
       "                            &#x27;Spending Score (1-100)&#x27;],\n",
       "                   transformer=SimpleImputer())</pre></div> </div></div><div class=\"sk-parallel\"><div class=\"sk-parallel-item\"><div class=\"sk-item\"><div class=\"sk-label-container\"><div class=\"sk-label fitted sk-toggleable\"><input class=\"sk-toggleable__control sk-hidden--visually\" id=\"sk-estimator-id-3\" type=\"checkbox\" ><label for=\"sk-estimator-id-3\" class=\"sk-toggleable__label fitted sk-toggleable__label-arrow fitted\">transformer: SimpleImputer</label><div class=\"sk-toggleable__content fitted\"><pre>SimpleImputer()</pre></div> </div></div><div class=\"sk-serial\"><div class=\"sk-item\"><div class=\"sk-estimator fitted sk-toggleable\"><input class=\"sk-toggleable__control sk-hidden--visually\" id=\"sk-estimator-id-4\" type=\"checkbox\" ><label for=\"sk-estimator-id-4\" class=\"sk-toggleable__label fitted sk-toggleable__label-arrow fitted\">&nbsp;SimpleImputer<a class=\"sk-estimator-doc-link fitted\" rel=\"noreferrer\" target=\"_blank\" href=\"https://scikit-learn.org/1.4/modules/generated/sklearn.impute.SimpleImputer.html\">?<span>Documentation for SimpleImputer</span></a></label><div class=\"sk-toggleable__content fitted\"><pre>SimpleImputer()</pre></div> </div></div></div></div></div></div></div><div class=\"sk-item sk-dashed-wrapped\"><div class=\"sk-label-container\"><div class=\"sk-label fitted sk-toggleable\"><input class=\"sk-toggleable__control sk-hidden--visually\" id=\"sk-estimator-id-5\" type=\"checkbox\" ><label for=\"sk-estimator-id-5\" class=\"sk-toggleable__label fitted sk-toggleable__label-arrow fitted\">categorical_imputer: TransformerWrapper</label><div class=\"sk-toggleable__content fitted\"><pre>TransformerWrapper(include=[&#x27;Gender&#x27;],\n",
       "                   transformer=SimpleImputer(strategy=&#x27;most_frequent&#x27;))</pre></div> </div></div><div class=\"sk-parallel\"><div class=\"sk-parallel-item\"><div class=\"sk-item\"><div class=\"sk-label-container\"><div class=\"sk-label fitted sk-toggleable\"><input class=\"sk-toggleable__control sk-hidden--visually\" id=\"sk-estimator-id-6\" type=\"checkbox\" ><label for=\"sk-estimator-id-6\" class=\"sk-toggleable__label fitted sk-toggleable__label-arrow fitted\">transformer: SimpleImputer</label><div class=\"sk-toggleable__content fitted\"><pre>SimpleImputer(strategy=&#x27;most_frequent&#x27;)</pre></div> </div></div><div class=\"sk-serial\"><div class=\"sk-item\"><div class=\"sk-estimator fitted sk-toggleable\"><input class=\"sk-toggleable__control sk-hidden--visually\" id=\"sk-estimator-id-7\" type=\"checkbox\" ><label for=\"sk-estimator-id-7\" class=\"sk-toggleable__label fitted sk-toggleable__label-arrow fitted\">&nbsp;SimpleImputer<a class=\"sk-estimator-doc-link fitted\" rel=\"noreferrer\" target=\"_blank\" href=\"https://scikit-learn.org/1.4/modules/generated/sklearn.impute.SimpleImputer.html\">?<span>Documentation for SimpleImputer</span></a></label><div class=\"sk-toggleable__content fitted\"><pre>SimpleImputer(strategy=&#x27;most_frequent&#x27;)</pre></div> </div></div></div></div></div></div></div><div class=\"sk-item sk-dashed-wrapped\"><div class=\"sk-label-container\"><div class=\"sk-label fitted sk-toggleable\"><input class=\"sk-toggleable__control sk-hidden--visually\" id=\"sk-estimator-id-8\" type=\"checkbox\" ><label for=\"sk-estimator-id-8\" class=\"sk-toggleable__label fitted sk-toggleable__label-arrow fitted\">ordinal_encoding: TransformerWrapper</label><div class=\"sk-toggleable__content fitted\"><pre>TransformerWrapper(include=[&#x27;Gender&#x27;],\n",
       "                   transformer=OrdinalEncoder(cols=[&#x27;Gender&#x27;],\n",
       "                                              handle_missing=&#x27;return_nan&#x27;,\n",
       "                                              mapping=[{&#x27;col&#x27;: &#x27;Gender&#x27;,\n",
       "                                                        &#x27;data_type&#x27;: dtype(&#x27;O&#x27;),\n",
       "                                                        &#x27;mapping&#x27;: Female    0\n",
       "Male      1\n",
       "NaN      -1\n",
       "dtype: int64}]))</pre></div> </div></div><div class=\"sk-parallel\"><div class=\"sk-parallel-item\"><div class=\"sk-item\"><div class=\"sk-label-container\"><div class=\"sk-label fitted sk-toggleable\"><input class=\"sk-toggleable__control sk-hidden--visually\" id=\"sk-estimator-id-9\" type=\"checkbox\" ><label for=\"sk-estimator-id-9\" class=\"sk-toggleable__label fitted sk-toggleable__label-arrow fitted\">transformer: OrdinalEncoder</label><div class=\"sk-toggleable__content fitted\"><pre>OrdinalEncoder(cols=[&#x27;Gender&#x27;], handle_missing=&#x27;return_nan&#x27;,\n",
       "               mapping=[{&#x27;col&#x27;: &#x27;Gender&#x27;, &#x27;data_type&#x27;: dtype(&#x27;O&#x27;),\n",
       "                         &#x27;mapping&#x27;: Female    0\n",
       "Male      1\n",
       "NaN      -1\n",
       "dtype: int64}])</pre></div> </div></div><div class=\"sk-serial\"><div class=\"sk-item\"><div class=\"sk-estimator fitted sk-toggleable\"><input class=\"sk-toggleable__control sk-hidden--visually\" id=\"sk-estimator-id-10\" type=\"checkbox\" ><label for=\"sk-estimator-id-10\" class=\"sk-toggleable__label fitted sk-toggleable__label-arrow fitted\">OrdinalEncoder</label><div class=\"sk-toggleable__content fitted\"><pre>OrdinalEncoder(cols=[&#x27;Gender&#x27;], handle_missing=&#x27;return_nan&#x27;,\n",
       "               mapping=[{&#x27;col&#x27;: &#x27;Gender&#x27;, &#x27;data_type&#x27;: dtype(&#x27;O&#x27;),\n",
       "                         &#x27;mapping&#x27;: Female    0\n",
       "Male      1\n",
       "NaN      -1\n",
       "dtype: int64}])</pre></div> </div></div></div></div></div></div></div><div class=\"sk-item\"><div class=\"sk-estimator fitted sk-toggleable\"><input class=\"sk-toggleable__control sk-hidden--visually\" id=\"sk-estimator-id-11\" type=\"checkbox\" ><label for=\"sk-estimator-id-11\" class=\"sk-toggleable__label fitted sk-toggleable__label-arrow fitted\">&nbsp;KMeans<a class=\"sk-estimator-doc-link fitted\" rel=\"noreferrer\" target=\"_blank\" href=\"https://scikit-learn.org/1.4/modules/generated/sklearn.cluster.KMeans.html\">?<span>Documentation for KMeans</span></a></label><div class=\"sk-toggleable__content fitted\"><pre>KMeans(n_clusters=4, random_state=123)</pre></div> </div></div></div></div></div></div>"
      ],
      "text/plain": [
       "Pipeline(memory=FastMemory(location=/var/tmp/joblib),\n",
       "         steps=[('numerical_imputer',\n",
       "                 TransformerWrapper(include=['CustomerID', 'Age',\n",
       "                                             'Annual Income (k$)',\n",
       "                                             'Spending Score (1-100)'],\n",
       "                                    transformer=SimpleImputer())),\n",
       "                ('categorical_imputer',\n",
       "                 TransformerWrapper(include=['Gender'],\n",
       "                                    transformer=SimpleImputer(strategy='most_frequent'))),\n",
       "                ('ordinal_encoding',\n",
       "                 TransformerWrapper(include=['Gender'],\n",
       "                                    transformer=OrdinalEncoder(cols=['Gender'],\n",
       "                                                               handle_missing='return_nan',\n",
       "                                                               mapping=[{'col': 'Gender',\n",
       "                                                                         'data_type': dtype('O'),\n",
       "                                                                         'mapping': Female    0\n",
       "Male      1\n",
       "NaN      -1\n",
       "dtype: int64}]))),\n",
       "                ('trained_model', KMeans(n_clusters=4, random_state=123))])"
      ]
     },
     "execution_count": 19,
     "metadata": {},
     "output_type": "execute_result"
    }
   ],
   "source": [
    "# load pipeline\n",
    "kmeans_pipeline = load_model('kmeans_pipeline')\n",
    "kmeans_pipeline"
   ]
  },
  {
   "cell_type": "markdown",
   "id": "b2c7d62e",
   "metadata": {
    "papermill": {
     "duration": 0.022777,
     "end_time": "2025-10-23T06:24:20.183558",
     "exception": false,
     "start_time": "2025-10-23T06:24:20.160781",
     "status": "completed"
    },
    "tags": []
   },
   "source": [
    "# 👇 Detailed function-by-function overview"
   ]
  },
  {
   "cell_type": "markdown",
   "id": "e05937f5",
   "metadata": {
    "papermill": {
     "duration": 0.02257,
     "end_time": "2025-10-23T06:24:20.228769",
     "exception": false,
     "start_time": "2025-10-23T06:24:20.206199",
     "status": "completed"
    },
    "tags": []
   },
   "source": [
    "## ✅ Setup\n",
    "This function initializes the training environment and creates the transformation pipeline. Setup function must be called before executing any other function in PyCaret. It only has one required parameter i.e. `data`. All the other parameters are optional."
   ]
  },
  {
   "cell_type": "code",
   "execution_count": 20,
   "id": "24e503be",
   "metadata": {
    "execution": {
     "iopub.execute_input": "2025-10-23T06:24:20.275816Z",
     "iopub.status.busy": "2025-10-23T06:24:20.275510Z",
     "iopub.status.idle": "2025-10-23T06:24:20.372626Z",
     "shell.execute_reply": "2025-10-23T06:24:20.371917Z"
    },
    "papermill": {
     "duration": 0.122438,
     "end_time": "2025-10-23T06:24:20.373737",
     "exception": false,
     "start_time": "2025-10-23T06:24:20.251299",
     "status": "completed"
    },
    "tags": []
   },
   "outputs": [
    {
     "data": {
      "text/html": [
       "<style type=\"text/css\">\n",
       "#T_bd1d9_row5_col1 {\n",
       "  background-color: lightgreen;\n",
       "}\n",
       "</style>\n",
       "<table id=\"T_bd1d9\">\n",
       "  <thead>\n",
       "    <tr>\n",
       "      <th class=\"blank level0\" >&nbsp;</th>\n",
       "      <th id=\"T_bd1d9_level0_col0\" class=\"col_heading level0 col0\" >Description</th>\n",
       "      <th id=\"T_bd1d9_level0_col1\" class=\"col_heading level0 col1\" >Value</th>\n",
       "    </tr>\n",
       "  </thead>\n",
       "  <tbody>\n",
       "    <tr>\n",
       "      <th id=\"T_bd1d9_level0_row0\" class=\"row_heading level0 row0\" >0</th>\n",
       "      <td id=\"T_bd1d9_row0_col0\" class=\"data row0 col0\" >Session id</td>\n",
       "      <td id=\"T_bd1d9_row0_col1\" class=\"data row0 col1\" >123</td>\n",
       "    </tr>\n",
       "    <tr>\n",
       "      <th id=\"T_bd1d9_level0_row1\" class=\"row_heading level0 row1\" >1</th>\n",
       "      <td id=\"T_bd1d9_row1_col0\" class=\"data row1 col0\" >Original data shape</td>\n",
       "      <td id=\"T_bd1d9_row1_col1\" class=\"data row1 col1\" >(200, 5)</td>\n",
       "    </tr>\n",
       "    <tr>\n",
       "      <th id=\"T_bd1d9_level0_row2\" class=\"row_heading level0 row2\" >2</th>\n",
       "      <td id=\"T_bd1d9_row2_col0\" class=\"data row2 col0\" >Transformed data shape</td>\n",
       "      <td id=\"T_bd1d9_row2_col1\" class=\"data row2 col1\" >(200, 5)</td>\n",
       "    </tr>\n",
       "    <tr>\n",
       "      <th id=\"T_bd1d9_level0_row3\" class=\"row_heading level0 row3\" >3</th>\n",
       "      <td id=\"T_bd1d9_row3_col0\" class=\"data row3 col0\" >Numeric features</td>\n",
       "      <td id=\"T_bd1d9_row3_col1\" class=\"data row3 col1\" >4</td>\n",
       "    </tr>\n",
       "    <tr>\n",
       "      <th id=\"T_bd1d9_level0_row4\" class=\"row_heading level0 row4\" >4</th>\n",
       "      <td id=\"T_bd1d9_row4_col0\" class=\"data row4 col0\" >Categorical features</td>\n",
       "      <td id=\"T_bd1d9_row4_col1\" class=\"data row4 col1\" >1</td>\n",
       "    </tr>\n",
       "    <tr>\n",
       "      <th id=\"T_bd1d9_level0_row5\" class=\"row_heading level0 row5\" >5</th>\n",
       "      <td id=\"T_bd1d9_row5_col0\" class=\"data row5 col0\" >Preprocess</td>\n",
       "      <td id=\"T_bd1d9_row5_col1\" class=\"data row5 col1\" >True</td>\n",
       "    </tr>\n",
       "    <tr>\n",
       "      <th id=\"T_bd1d9_level0_row6\" class=\"row_heading level0 row6\" >6</th>\n",
       "      <td id=\"T_bd1d9_row6_col0\" class=\"data row6 col0\" >Imputation type</td>\n",
       "      <td id=\"T_bd1d9_row6_col1\" class=\"data row6 col1\" >simple</td>\n",
       "    </tr>\n",
       "    <tr>\n",
       "      <th id=\"T_bd1d9_level0_row7\" class=\"row_heading level0 row7\" >7</th>\n",
       "      <td id=\"T_bd1d9_row7_col0\" class=\"data row7 col0\" >Numeric imputation</td>\n",
       "      <td id=\"T_bd1d9_row7_col1\" class=\"data row7 col1\" >mean</td>\n",
       "    </tr>\n",
       "    <tr>\n",
       "      <th id=\"T_bd1d9_level0_row8\" class=\"row_heading level0 row8\" >8</th>\n",
       "      <td id=\"T_bd1d9_row8_col0\" class=\"data row8 col0\" >Categorical imputation</td>\n",
       "      <td id=\"T_bd1d9_row8_col1\" class=\"data row8 col1\" >mode</td>\n",
       "    </tr>\n",
       "    <tr>\n",
       "      <th id=\"T_bd1d9_level0_row9\" class=\"row_heading level0 row9\" >9</th>\n",
       "      <td id=\"T_bd1d9_row9_col0\" class=\"data row9 col0\" >Maximum one-hot encoding</td>\n",
       "      <td id=\"T_bd1d9_row9_col1\" class=\"data row9 col1\" >-1</td>\n",
       "    </tr>\n",
       "    <tr>\n",
       "      <th id=\"T_bd1d9_level0_row10\" class=\"row_heading level0 row10\" >10</th>\n",
       "      <td id=\"T_bd1d9_row10_col0\" class=\"data row10 col0\" >Encoding method</td>\n",
       "      <td id=\"T_bd1d9_row10_col1\" class=\"data row10 col1\" >None</td>\n",
       "    </tr>\n",
       "    <tr>\n",
       "      <th id=\"T_bd1d9_level0_row11\" class=\"row_heading level0 row11\" >11</th>\n",
       "      <td id=\"T_bd1d9_row11_col0\" class=\"data row11 col0\" >CPU Jobs</td>\n",
       "      <td id=\"T_bd1d9_row11_col1\" class=\"data row11 col1\" >-1</td>\n",
       "    </tr>\n",
       "    <tr>\n",
       "      <th id=\"T_bd1d9_level0_row12\" class=\"row_heading level0 row12\" >12</th>\n",
       "      <td id=\"T_bd1d9_row12_col0\" class=\"data row12 col0\" >Use GPU</td>\n",
       "      <td id=\"T_bd1d9_row12_col1\" class=\"data row12 col1\" >False</td>\n",
       "    </tr>\n",
       "    <tr>\n",
       "      <th id=\"T_bd1d9_level0_row13\" class=\"row_heading level0 row13\" >13</th>\n",
       "      <td id=\"T_bd1d9_row13_col0\" class=\"data row13 col0\" >Log Experiment</td>\n",
       "      <td id=\"T_bd1d9_row13_col1\" class=\"data row13 col1\" >False</td>\n",
       "    </tr>\n",
       "    <tr>\n",
       "      <th id=\"T_bd1d9_level0_row14\" class=\"row_heading level0 row14\" >14</th>\n",
       "      <td id=\"T_bd1d9_row14_col0\" class=\"data row14 col0\" >Experiment Name</td>\n",
       "      <td id=\"T_bd1d9_row14_col1\" class=\"data row14 col1\" >cluster-default-name</td>\n",
       "    </tr>\n",
       "    <tr>\n",
       "      <th id=\"T_bd1d9_level0_row15\" class=\"row_heading level0 row15\" >15</th>\n",
       "      <td id=\"T_bd1d9_row15_col0\" class=\"data row15 col0\" >USI</td>\n",
       "      <td id=\"T_bd1d9_row15_col1\" class=\"data row15 col1\" >0ffb</td>\n",
       "    </tr>\n",
       "  </tbody>\n",
       "</table>\n"
      ],
      "text/plain": [
       "<pandas.io.formats.style.Styler at 0x7f17793aacb0>"
      ]
     },
     "metadata": {},
     "output_type": "display_data"
    }
   ],
   "source": [
    "# init setup\n",
    "s = setup(data, session_id = 123)"
   ]
  },
  {
   "cell_type": "markdown",
   "id": "924d198b",
   "metadata": {
    "papermill": {
     "duration": 0.022893,
     "end_time": "2025-10-23T06:24:20.420495",
     "exception": false,
     "start_time": "2025-10-23T06:24:20.397602",
     "status": "completed"
    },
    "tags": []
   },
   "source": [
    "To access all the variables created by the setup function such as transformed dataset, random_state, etc. you can use `get_config` method."
   ]
  },
  {
   "cell_type": "code",
   "execution_count": 21,
   "id": "76128b08",
   "metadata": {
    "execution": {
     "iopub.execute_input": "2025-10-23T06:24:20.467795Z",
     "iopub.status.busy": "2025-10-23T06:24:20.467502Z",
     "iopub.status.idle": "2025-10-23T06:24:20.472953Z",
     "shell.execute_reply": "2025-10-23T06:24:20.472146Z"
    },
    "papermill": {
     "duration": 0.030701,
     "end_time": "2025-10-23T06:24:20.474124",
     "exception": false,
     "start_time": "2025-10-23T06:24:20.443423",
     "status": "completed"
    },
    "tags": []
   },
   "outputs": [
    {
     "data": {
      "text/plain": [
       "{'USI',\n",
       " 'X',\n",
       " 'X_train',\n",
       " 'X_train_transformed',\n",
       " 'X_transformed',\n",
       " '_available_plots',\n",
       " '_ml_usecase',\n",
       " 'data',\n",
       " 'dataset',\n",
       " 'dataset_transformed',\n",
       " 'exp_id',\n",
       " 'exp_name_log',\n",
       " 'gpu_n_jobs_param',\n",
       " 'gpu_param',\n",
       " 'html_param',\n",
       " 'idx',\n",
       " 'is_multiclass',\n",
       " 'log_plots_param',\n",
       " 'logging_param',\n",
       " 'memory',\n",
       " 'n_jobs_param',\n",
       " 'pipeline',\n",
       " 'seed',\n",
       " 'train',\n",
       " 'train_transformed',\n",
       " 'variable_and_property_keys',\n",
       " 'variables'}"
      ]
     },
     "execution_count": 21,
     "metadata": {},
     "output_type": "execute_result"
    }
   ],
   "source": [
    "# check all available config\n",
    "get_config()"
   ]
  },
  {
   "cell_type": "code",
   "execution_count": 22,
   "id": "dbc43292",
   "metadata": {
    "execution": {
     "iopub.execute_input": "2025-10-23T06:24:20.522482Z",
     "iopub.status.busy": "2025-10-23T06:24:20.522045Z",
     "iopub.status.idle": "2025-10-23T06:24:20.564361Z",
     "shell.execute_reply": "2025-10-23T06:24:20.563512Z"
    },
    "papermill": {
     "duration": 0.06755,
     "end_time": "2025-10-23T06:24:20.565299",
     "exception": false,
     "start_time": "2025-10-23T06:24:20.497749",
     "status": "completed"
    },
    "tags": []
   },
   "outputs": [
    {
     "data": {
      "text/html": [
       "<div>\n",
       "<style scoped>\n",
       "    .dataframe tbody tr th:only-of-type {\n",
       "        vertical-align: middle;\n",
       "    }\n",
       "\n",
       "    .dataframe tbody tr th {\n",
       "        vertical-align: top;\n",
       "    }\n",
       "\n",
       "    .dataframe thead th {\n",
       "        text-align: right;\n",
       "    }\n",
       "</style>\n",
       "<table border=\"1\" class=\"dataframe\">\n",
       "  <thead>\n",
       "    <tr style=\"text-align: right;\">\n",
       "      <th></th>\n",
       "      <th>CustomerID</th>\n",
       "      <th>Gender</th>\n",
       "      <th>Age</th>\n",
       "      <th>Annual Income (k$)</th>\n",
       "      <th>Spending Score (1-100)</th>\n",
       "    </tr>\n",
       "  </thead>\n",
       "  <tbody>\n",
       "    <tr>\n",
       "      <th>0</th>\n",
       "      <td>1.0</td>\n",
       "      <td>1.0</td>\n",
       "      <td>19.0</td>\n",
       "      <td>15.0</td>\n",
       "      <td>39.0</td>\n",
       "    </tr>\n",
       "    <tr>\n",
       "      <th>1</th>\n",
       "      <td>2.0</td>\n",
       "      <td>1.0</td>\n",
       "      <td>21.0</td>\n",
       "      <td>15.0</td>\n",
       "      <td>81.0</td>\n",
       "    </tr>\n",
       "    <tr>\n",
       "      <th>2</th>\n",
       "      <td>3.0</td>\n",
       "      <td>0.0</td>\n",
       "      <td>20.0</td>\n",
       "      <td>16.0</td>\n",
       "      <td>6.0</td>\n",
       "    </tr>\n",
       "    <tr>\n",
       "      <th>3</th>\n",
       "      <td>4.0</td>\n",
       "      <td>0.0</td>\n",
       "      <td>23.0</td>\n",
       "      <td>16.0</td>\n",
       "      <td>77.0</td>\n",
       "    </tr>\n",
       "    <tr>\n",
       "      <th>4</th>\n",
       "      <td>5.0</td>\n",
       "      <td>0.0</td>\n",
       "      <td>31.0</td>\n",
       "      <td>17.0</td>\n",
       "      <td>40.0</td>\n",
       "    </tr>\n",
       "    <tr>\n",
       "      <th>...</th>\n",
       "      <td>...</td>\n",
       "      <td>...</td>\n",
       "      <td>...</td>\n",
       "      <td>...</td>\n",
       "      <td>...</td>\n",
       "    </tr>\n",
       "    <tr>\n",
       "      <th>195</th>\n",
       "      <td>196.0</td>\n",
       "      <td>0.0</td>\n",
       "      <td>35.0</td>\n",
       "      <td>120.0</td>\n",
       "      <td>79.0</td>\n",
       "    </tr>\n",
       "    <tr>\n",
       "      <th>196</th>\n",
       "      <td>197.0</td>\n",
       "      <td>0.0</td>\n",
       "      <td>45.0</td>\n",
       "      <td>126.0</td>\n",
       "      <td>28.0</td>\n",
       "    </tr>\n",
       "    <tr>\n",
       "      <th>197</th>\n",
       "      <td>198.0</td>\n",
       "      <td>1.0</td>\n",
       "      <td>32.0</td>\n",
       "      <td>126.0</td>\n",
       "      <td>74.0</td>\n",
       "    </tr>\n",
       "    <tr>\n",
       "      <th>198</th>\n",
       "      <td>199.0</td>\n",
       "      <td>1.0</td>\n",
       "      <td>32.0</td>\n",
       "      <td>137.0</td>\n",
       "      <td>18.0</td>\n",
       "    </tr>\n",
       "    <tr>\n",
       "      <th>199</th>\n",
       "      <td>200.0</td>\n",
       "      <td>1.0</td>\n",
       "      <td>30.0</td>\n",
       "      <td>137.0</td>\n",
       "      <td>83.0</td>\n",
       "    </tr>\n",
       "  </tbody>\n",
       "</table>\n",
       "<p>200 rows × 5 columns</p>\n",
       "</div>"
      ],
      "text/plain": [
       "     CustomerID  Gender   Age  Annual Income (k$)  Spending Score (1-100)\n",
       "0           1.0     1.0  19.0                15.0                    39.0\n",
       "1           2.0     1.0  21.0                15.0                    81.0\n",
       "2           3.0     0.0  20.0                16.0                     6.0\n",
       "3           4.0     0.0  23.0                16.0                    77.0\n",
       "4           5.0     0.0  31.0                17.0                    40.0\n",
       "..          ...     ...   ...                 ...                     ...\n",
       "195       196.0     0.0  35.0               120.0                    79.0\n",
       "196       197.0     0.0  45.0               126.0                    28.0\n",
       "197       198.0     1.0  32.0               126.0                    74.0\n",
       "198       199.0     1.0  32.0               137.0                    18.0\n",
       "199       200.0     1.0  30.0               137.0                    83.0\n",
       "\n",
       "[200 rows x 5 columns]"
      ]
     },
     "execution_count": 22,
     "metadata": {},
     "output_type": "execute_result"
    }
   ],
   "source": [
    "# lets access X_train_transformed\n",
    "get_config('X_train_transformed')"
   ]
  },
  {
   "cell_type": "code",
   "execution_count": 23,
   "id": "ef9cd061",
   "metadata": {
    "execution": {
     "iopub.execute_input": "2025-10-23T06:24:20.614861Z",
     "iopub.status.busy": "2025-10-23T06:24:20.614570Z",
     "iopub.status.idle": "2025-10-23T06:24:20.619990Z",
     "shell.execute_reply": "2025-10-23T06:24:20.619108Z"
    },
    "papermill": {
     "duration": 0.031897,
     "end_time": "2025-10-23T06:24:20.621115",
     "exception": false,
     "start_time": "2025-10-23T06:24:20.589218",
     "status": "completed"
    },
    "tags": []
   },
   "outputs": [
    {
     "name": "stdout",
     "output_type": "stream",
     "text": [
      "The current seed is: 123\n",
      "The new seed is: 786\n"
     ]
    }
   ],
   "source": [
    "# another example: let's access seed\n",
    "print(\"The current seed is: {}\".format(get_config('seed')))\n",
    "\n",
    "# now lets change it using set_config\n",
    "set_config('seed', 786)\n",
    "print(\"The new seed is: {}\".format(get_config('seed')))"
   ]
  },
  {
   "cell_type": "markdown",
   "id": "7afbe41d",
   "metadata": {
    "papermill": {
     "duration": 0.023351,
     "end_time": "2025-10-23T06:24:20.668048",
     "exception": false,
     "start_time": "2025-10-23T06:24:20.644697",
     "status": "completed"
    },
    "tags": []
   },
   "source": [
    "All the preprocessing configurations and experiment settings/parameters are passed into the `setup` function. To see all available parameters, check the docstring:"
   ]
  },
  {
   "cell_type": "code",
   "execution_count": 24,
   "id": "2885a14f",
   "metadata": {
    "execution": {
     "iopub.execute_input": "2025-10-23T06:24:20.716369Z",
     "iopub.status.busy": "2025-10-23T06:24:20.715905Z",
     "iopub.status.idle": "2025-10-23T06:24:20.719522Z",
     "shell.execute_reply": "2025-10-23T06:24:20.718542Z"
    },
    "papermill": {
     "duration": 0.028937,
     "end_time": "2025-10-23T06:24:20.720288",
     "exception": false,
     "start_time": "2025-10-23T06:24:20.691351",
     "status": "completed"
    },
    "tags": []
   },
   "outputs": [],
   "source": [
    "# help(setup)"
   ]
  },
  {
   "cell_type": "code",
   "execution_count": 25,
   "id": "34ae0fce",
   "metadata": {
    "execution": {
     "iopub.execute_input": "2025-10-23T06:24:20.768219Z",
     "iopub.status.busy": "2025-10-23T06:24:20.767928Z",
     "iopub.status.idle": "2025-10-23T06:24:20.879808Z",
     "shell.execute_reply": "2025-10-23T06:24:20.879026Z"
    },
    "papermill": {
     "duration": 0.137523,
     "end_time": "2025-10-23T06:24:20.881002",
     "exception": false,
     "start_time": "2025-10-23T06:24:20.743479",
     "status": "completed"
    },
    "tags": []
   },
   "outputs": [
    {
     "data": {
      "text/html": [
       "<style type=\"text/css\">\n",
       "#T_ba002_row5_col1, #T_ba002_row11_col1 {\n",
       "  background-color: lightgreen;\n",
       "}\n",
       "</style>\n",
       "<table id=\"T_ba002\">\n",
       "  <thead>\n",
       "    <tr>\n",
       "      <th class=\"blank level0\" >&nbsp;</th>\n",
       "      <th id=\"T_ba002_level0_col0\" class=\"col_heading level0 col0\" >Description</th>\n",
       "      <th id=\"T_ba002_level0_col1\" class=\"col_heading level0 col1\" >Value</th>\n",
       "    </tr>\n",
       "  </thead>\n",
       "  <tbody>\n",
       "    <tr>\n",
       "      <th id=\"T_ba002_level0_row0\" class=\"row_heading level0 row0\" >0</th>\n",
       "      <td id=\"T_ba002_row0_col0\" class=\"data row0 col0\" >Session id</td>\n",
       "      <td id=\"T_ba002_row0_col1\" class=\"data row0 col1\" >123</td>\n",
       "    </tr>\n",
       "    <tr>\n",
       "      <th id=\"T_ba002_level0_row1\" class=\"row_heading level0 row1\" >1</th>\n",
       "      <td id=\"T_ba002_row1_col0\" class=\"data row1 col0\" >Original data shape</td>\n",
       "      <td id=\"T_ba002_row1_col1\" class=\"data row1 col1\" >(200, 5)</td>\n",
       "    </tr>\n",
       "    <tr>\n",
       "      <th id=\"T_ba002_level0_row2\" class=\"row_heading level0 row2\" >2</th>\n",
       "      <td id=\"T_ba002_row2_col0\" class=\"data row2 col0\" >Transformed data shape</td>\n",
       "      <td id=\"T_ba002_row2_col1\" class=\"data row2 col1\" >(200, 5)</td>\n",
       "    </tr>\n",
       "    <tr>\n",
       "      <th id=\"T_ba002_level0_row3\" class=\"row_heading level0 row3\" >3</th>\n",
       "      <td id=\"T_ba002_row3_col0\" class=\"data row3 col0\" >Numeric features</td>\n",
       "      <td id=\"T_ba002_row3_col1\" class=\"data row3 col1\" >4</td>\n",
       "    </tr>\n",
       "    <tr>\n",
       "      <th id=\"T_ba002_level0_row4\" class=\"row_heading level0 row4\" >4</th>\n",
       "      <td id=\"T_ba002_row4_col0\" class=\"data row4 col0\" >Categorical features</td>\n",
       "      <td id=\"T_ba002_row4_col1\" class=\"data row4 col1\" >1</td>\n",
       "    </tr>\n",
       "    <tr>\n",
       "      <th id=\"T_ba002_level0_row5\" class=\"row_heading level0 row5\" >5</th>\n",
       "      <td id=\"T_ba002_row5_col0\" class=\"data row5 col0\" >Preprocess</td>\n",
       "      <td id=\"T_ba002_row5_col1\" class=\"data row5 col1\" >True</td>\n",
       "    </tr>\n",
       "    <tr>\n",
       "      <th id=\"T_ba002_level0_row6\" class=\"row_heading level0 row6\" >6</th>\n",
       "      <td id=\"T_ba002_row6_col0\" class=\"data row6 col0\" >Imputation type</td>\n",
       "      <td id=\"T_ba002_row6_col1\" class=\"data row6 col1\" >simple</td>\n",
       "    </tr>\n",
       "    <tr>\n",
       "      <th id=\"T_ba002_level0_row7\" class=\"row_heading level0 row7\" >7</th>\n",
       "      <td id=\"T_ba002_row7_col0\" class=\"data row7 col0\" >Numeric imputation</td>\n",
       "      <td id=\"T_ba002_row7_col1\" class=\"data row7 col1\" >mean</td>\n",
       "    </tr>\n",
       "    <tr>\n",
       "      <th id=\"T_ba002_level0_row8\" class=\"row_heading level0 row8\" >8</th>\n",
       "      <td id=\"T_ba002_row8_col0\" class=\"data row8 col0\" >Categorical imputation</td>\n",
       "      <td id=\"T_ba002_row8_col1\" class=\"data row8 col1\" >mode</td>\n",
       "    </tr>\n",
       "    <tr>\n",
       "      <th id=\"T_ba002_level0_row9\" class=\"row_heading level0 row9\" >9</th>\n",
       "      <td id=\"T_ba002_row9_col0\" class=\"data row9 col0\" >Maximum one-hot encoding</td>\n",
       "      <td id=\"T_ba002_row9_col1\" class=\"data row9 col1\" >-1</td>\n",
       "    </tr>\n",
       "    <tr>\n",
       "      <th id=\"T_ba002_level0_row10\" class=\"row_heading level0 row10\" >10</th>\n",
       "      <td id=\"T_ba002_row10_col0\" class=\"data row10 col0\" >Encoding method</td>\n",
       "      <td id=\"T_ba002_row10_col1\" class=\"data row10 col1\" >None</td>\n",
       "    </tr>\n",
       "    <tr>\n",
       "      <th id=\"T_ba002_level0_row11\" class=\"row_heading level0 row11\" >11</th>\n",
       "      <td id=\"T_ba002_row11_col0\" class=\"data row11 col0\" >Normalize</td>\n",
       "      <td id=\"T_ba002_row11_col1\" class=\"data row11 col1\" >True</td>\n",
       "    </tr>\n",
       "    <tr>\n",
       "      <th id=\"T_ba002_level0_row12\" class=\"row_heading level0 row12\" >12</th>\n",
       "      <td id=\"T_ba002_row12_col0\" class=\"data row12 col0\" >Normalize method</td>\n",
       "      <td id=\"T_ba002_row12_col1\" class=\"data row12 col1\" >minmax</td>\n",
       "    </tr>\n",
       "    <tr>\n",
       "      <th id=\"T_ba002_level0_row13\" class=\"row_heading level0 row13\" >13</th>\n",
       "      <td id=\"T_ba002_row13_col0\" class=\"data row13 col0\" >CPU Jobs</td>\n",
       "      <td id=\"T_ba002_row13_col1\" class=\"data row13 col1\" >-1</td>\n",
       "    </tr>\n",
       "    <tr>\n",
       "      <th id=\"T_ba002_level0_row14\" class=\"row_heading level0 row14\" >14</th>\n",
       "      <td id=\"T_ba002_row14_col0\" class=\"data row14 col0\" >Use GPU</td>\n",
       "      <td id=\"T_ba002_row14_col1\" class=\"data row14 col1\" >False</td>\n",
       "    </tr>\n",
       "    <tr>\n",
       "      <th id=\"T_ba002_level0_row15\" class=\"row_heading level0 row15\" >15</th>\n",
       "      <td id=\"T_ba002_row15_col0\" class=\"data row15 col0\" >Log Experiment</td>\n",
       "      <td id=\"T_ba002_row15_col1\" class=\"data row15 col1\" >False</td>\n",
       "    </tr>\n",
       "    <tr>\n",
       "      <th id=\"T_ba002_level0_row16\" class=\"row_heading level0 row16\" >16</th>\n",
       "      <td id=\"T_ba002_row16_col0\" class=\"data row16 col0\" >Experiment Name</td>\n",
       "      <td id=\"T_ba002_row16_col1\" class=\"data row16 col1\" >cluster-default-name</td>\n",
       "    </tr>\n",
       "    <tr>\n",
       "      <th id=\"T_ba002_level0_row17\" class=\"row_heading level0 row17\" >17</th>\n",
       "      <td id=\"T_ba002_row17_col0\" class=\"data row17 col0\" >USI</td>\n",
       "      <td id=\"T_ba002_row17_col1\" class=\"data row17 col1\" >660d</td>\n",
       "    </tr>\n",
       "  </tbody>\n",
       "</table>\n"
      ],
      "text/plain": [
       "<pandas.io.formats.style.Styler at 0x7f177981a080>"
      ]
     },
     "metadata": {},
     "output_type": "display_data"
    }
   ],
   "source": [
    "# init setup with normalize = True\n",
    "\n",
    "s = setup(data, session_id = 123,\n",
    "          normalize = True, normalize_method = 'minmax')"
   ]
  },
  {
   "cell_type": "code",
   "execution_count": 26,
   "id": "04204ae7",
   "metadata": {
    "execution": {
     "iopub.execute_input": "2025-10-23T06:24:20.930891Z",
     "iopub.status.busy": "2025-10-23T06:24:20.930613Z",
     "iopub.status.idle": "2025-10-23T06:24:21.138883Z",
     "shell.execute_reply": "2025-10-23T06:24:21.137986Z"
    },
    "papermill": {
     "duration": 0.233913,
     "end_time": "2025-10-23T06:24:21.139641",
     "exception": false,
     "start_time": "2025-10-23T06:24:20.905728",
     "status": "completed"
    },
    "tags": []
   },
   "outputs": [
    {
     "data": {
      "text/plain": [
       "<Axes: >"
      ]
     },
     "execution_count": 26,
     "metadata": {},
     "output_type": "execute_result"
    },
    {
     "name": "stderr",
     "output_type": "stream",
     "text": [
      "WARNING:matplotlib.font_manager:findfont: Generic family 'sans-serif' not found because none of the following families were found: Arial, Liberation Sans, Bitstream Vera Sans, sans-serif\n",
      "WARNING:matplotlib.font_manager:findfont: Generic family 'sans-serif' not found because none of the following families were found: Arial, Liberation Sans, Bitstream Vera Sans, sans-serif\n",
      "WARNING:matplotlib.font_manager:findfont: Generic family 'sans-serif' not found because none of the following families were found: Arial, Liberation Sans, Bitstream Vera Sans, sans-serif\n",
      "WARNING:matplotlib.font_manager:findfont: Generic family 'sans-serif' not found because none of the following families were found: Arial, Liberation Sans, Bitstream Vera Sans, sans-serif\n",
      "WARNING:matplotlib.font_manager:findfont: Generic family 'sans-serif' not found because none of the following families were found: Arial, Liberation Sans, Bitstream Vera Sans, sans-serif\n",
      "WARNING:matplotlib.font_manager:findfont: Generic family 'sans-serif' not found because none of the following families were found: Arial, Liberation Sans, Bitstream Vera Sans, sans-serif\n",
      "WARNING:matplotlib.font_manager:findfont: Generic family 'sans-serif' not found because none of the following families were found: Arial, Liberation Sans, Bitstream Vera Sans, sans-serif\n",
      "WARNING:matplotlib.font_manager:findfont: Generic family 'sans-serif' not found because none of the following families were found: Arial, Liberation Sans, Bitstream Vera Sans, sans-serif\n",
      "WARNING:matplotlib.font_manager:findfont: Generic family 'sans-serif' not found because none of the following families were found: Arial, Liberation Sans, Bitstream Vera Sans, sans-serif\n",
      "WARNING:matplotlib.font_manager:findfont: Generic family 'sans-serif' not found because none of the following families were found: Arial, Liberation Sans, Bitstream Vera Sans, sans-serif\n",
      "WARNING:matplotlib.font_manager:findfont: Generic family 'sans-serif' not found because none of the following families were found: Arial, Liberation Sans, Bitstream Vera Sans, sans-serif\n",
      "WARNING:matplotlib.font_manager:findfont: Generic family 'sans-serif' not found because none of the following families were found: Arial, Liberation Sans, Bitstream Vera Sans, sans-serif\n",
      "WARNING:matplotlib.font_manager:findfont: Generic family 'sans-serif' not found because none of the following families were found: Arial, Liberation Sans, Bitstream Vera Sans, sans-serif\n",
      "WARNING:matplotlib.font_manager:findfont: Generic family 'sans-serif' not found because none of the following families were found: Arial, Liberation Sans, Bitstream Vera Sans, sans-serif\n",
      "WARNING:matplotlib.font_manager:findfont: Generic family 'sans-serif' not found because none of the following families were found: Arial, Liberation Sans, Bitstream Vera Sans, sans-serif\n",
      "WARNING:matplotlib.font_manager:findfont: Generic family 'sans-serif' not found because none of the following families were found: Arial, Liberation Sans, Bitstream Vera Sans, sans-serif\n",
      "WARNING:matplotlib.font_manager:findfont: Generic family 'sans-serif' not found because none of the following families were found: Arial, Liberation Sans, Bitstream Vera Sans, sans-serif\n",
      "WARNING:matplotlib.font_manager:findfont: Generic family 'sans-serif' not found because none of the following families were found: Arial, Liberation Sans, Bitstream Vera Sans, sans-serif\n",
      "WARNING:matplotlib.font_manager:findfont: Generic family 'sans-serif' not found because none of the following families were found: Arial, Liberation Sans, Bitstream Vera Sans, sans-serif\n",
      "WARNING:matplotlib.font_manager:findfont: Generic family 'sans-serif' not found because none of the following families were found: Arial, Liberation Sans, Bitstream Vera Sans, sans-serif\n",
      "WARNING:matplotlib.font_manager:findfont: Generic family 'sans-serif' not found because none of the following families were found: Arial, Liberation Sans, Bitstream Vera Sans, sans-serif\n",
      "WARNING:matplotlib.font_manager:findfont: Generic family 'sans-serif' not found because none of the following families were found: Arial, Liberation Sans, Bitstream Vera Sans, sans-serif\n",
      "WARNING:matplotlib.font_manager:findfont: Generic family 'sans-serif' not found because none of the following families were found: Arial, Liberation Sans, Bitstream Vera Sans, sans-serif\n",
      "WARNING:matplotlib.font_manager:findfont: Generic family 'sans-serif' not found because none of the following families were found: Arial, Liberation Sans, Bitstream Vera Sans, sans-serif\n",
      "WARNING:matplotlib.font_manager:findfont: Generic family 'sans-serif' not found because none of the following families were found: Arial, Liberation Sans, Bitstream Vera Sans, sans-serif\n",
      "WARNING:matplotlib.font_manager:findfont: Generic family 'sans-serif' not found because none of the following families were found: Arial, Liberation Sans, Bitstream Vera Sans, sans-serif\n",
      "WARNING:matplotlib.font_manager:findfont: Generic family 'sans-serif' not found because none of the following families were found: Arial, Liberation Sans, Bitstream Vera Sans, sans-serif\n",
      "WARNING:matplotlib.font_manager:findfont: Generic family 'sans-serif' not found because none of the following families were found: Arial, Liberation Sans, Bitstream Vera Sans, sans-serif\n",
      "WARNING:matplotlib.font_manager:findfont: Generic family 'sans-serif' not found because none of the following families were found: Arial, Liberation Sans, Bitstream Vera Sans, sans-serif\n",
      "WARNING:matplotlib.font_manager:findfont: Generic family 'sans-serif' not found because none of the following families were found: Arial, Liberation Sans, Bitstream Vera Sans, sans-serif\n",
      "WARNING:matplotlib.font_manager:findfont: Generic family 'sans-serif' not found because none of the following families were found: Arial, Liberation Sans, Bitstream Vera Sans, sans-serif\n",
      "WARNING:matplotlib.font_manager:findfont: Generic family 'sans-serif' not found because none of the following families were found: Arial, Liberation Sans, Bitstream Vera Sans, sans-serif\n",
      "WARNING:matplotlib.font_manager:findfont: Generic family 'sans-serif' not found because none of the following families were found: Arial, Liberation Sans, Bitstream Vera Sans, sans-serif\n",
      "WARNING:matplotlib.font_manager:findfont: Generic family 'sans-serif' not found because none of the following families were found: Arial, Liberation Sans, Bitstream Vera Sans, sans-serif\n",
      "WARNING:matplotlib.font_manager:findfont: Generic family 'sans-serif' not found because none of the following families were found: Arial, Liberation Sans, Bitstream Vera Sans, sans-serif\n",
      "WARNING:matplotlib.font_manager:findfont: Generic family 'sans-serif' not found because none of the following families were found: Arial, Liberation Sans, Bitstream Vera Sans, sans-serif\n",
      "WARNING:matplotlib.font_manager:findfont: Generic family 'sans-serif' not found because none of the following families were found: Arial, Liberation Sans, Bitstream Vera Sans, sans-serif\n",
      "WARNING:matplotlib.font_manager:findfont: Generic family 'sans-serif' not found because none of the following families were found: Arial, Liberation Sans, Bitstream Vera Sans, sans-serif\n",
      "WARNING:matplotlib.font_manager:findfont: Generic family 'sans-serif' not found because none of the following families were found: Arial, Liberation Sans, Bitstream Vera Sans, sans-serif\n",
      "WARNING:matplotlib.font_manager:findfont: Generic family 'sans-serif' not found because none of the following families were found: Arial, Liberation Sans, Bitstream Vera Sans, sans-serif\n",
      "WARNING:matplotlib.font_manager:findfont: Generic family 'sans-serif' not found because none of the following families were found: Arial, Liberation Sans, Bitstream Vera Sans, sans-serif\n",
      "WARNING:matplotlib.font_manager:findfont: Generic family 'sans-serif' not found because none of the following families were found: Arial, Liberation Sans, Bitstream Vera Sans, sans-serif\n",
      "WARNING:matplotlib.font_manager:findfont: Generic family 'sans-serif' not found because none of the following families were found: Arial, Liberation Sans, Bitstream Vera Sans, sans-serif\n",
      "WARNING:matplotlib.font_manager:findfont: Generic family 'sans-serif' not found because none of the following families were found: Arial, Liberation Sans, Bitstream Vera Sans, sans-serif\n",
      "WARNING:matplotlib.font_manager:findfont: Generic family 'sans-serif' not found because none of the following families were found: Arial, Liberation Sans, Bitstream Vera Sans, sans-serif\n",
      "WARNING:matplotlib.font_manager:findfont: Generic family 'sans-serif' not found because none of the following families were found: Arial, Liberation Sans, Bitstream Vera Sans, sans-serif\n",
      "WARNING:matplotlib.font_manager:findfont: Generic family 'sans-serif' not found because none of the following families were found: Arial, Liberation Sans, Bitstream Vera Sans, sans-serif\n",
      "WARNING:matplotlib.font_manager:findfont: Generic family 'sans-serif' not found because none of the following families were found: Arial, Liberation Sans, Bitstream Vera Sans, sans-serif\n",
      "WARNING:matplotlib.font_manager:findfont: Generic family 'sans-serif' not found because none of the following families were found: Arial, Liberation Sans, Bitstream Vera Sans, sans-serif\n",
      "WARNING:matplotlib.font_manager:findfont: Generic family 'sans-serif' not found because none of the following families were found: Arial, Liberation Sans, Bitstream Vera Sans, sans-serif\n",
      "WARNING:matplotlib.font_manager:findfont: Generic family 'sans-serif' not found because none of the following families were found: Arial, Liberation Sans, Bitstream Vera Sans, sans-serif\n",
      "WARNING:matplotlib.font_manager:findfont: Generic family 'sans-serif' not found because none of the following families were found: Arial, Liberation Sans, Bitstream Vera Sans, sans-serif\n",
      "WARNING:matplotlib.font_manager:findfont: Generic family 'sans-serif' not found because none of the following families were found: Arial, Liberation Sans, Bitstream Vera Sans, sans-serif\n",
      "WARNING:matplotlib.font_manager:findfont: Generic family 'sans-serif' not found because none of the following families were found: Arial, Liberation Sans, Bitstream Vera Sans, sans-serif\n",
      "WARNING:matplotlib.font_manager:findfont: Generic family 'sans-serif' not found because none of the following families were found: Arial, Liberation Sans, Bitstream Vera Sans, sans-serif\n",
      "WARNING:matplotlib.font_manager:findfont: Generic family 'sans-serif' not found because none of the following families were found: Arial, Liberation Sans, Bitstream Vera Sans, sans-serif\n",
      "WARNING:matplotlib.font_manager:findfont: Generic family 'sans-serif' not found because none of the following families were found: Arial, Liberation Sans, Bitstream Vera Sans, sans-serif\n",
      "WARNING:matplotlib.font_manager:findfont: Generic family 'sans-serif' not found because none of the following families were found: Arial, Liberation Sans, Bitstream Vera Sans, sans-serif\n"
     ]
    },
    {
     "data": {
      "image/png": "[encoded data removed]",
      "text/plain": [
       "<Figure size 800x550 with 1 Axes>"
      ]
     },
     "metadata": {},
     "output_type": "display_data"
    }
   ],
   "source": [
    "# lets check the X_train_transformed to see effect of params passed\n",
    "get_config('X_train_transformed')['Age'].hist()"
   ]
  },
  {
   "cell_type": "markdown",
   "id": "d28a3e4e",
   "metadata": {
    "papermill": {
     "duration": 0.023746,
     "end_time": "2025-10-23T06:24:21.188093",
     "exception": false,
     "start_time": "2025-10-23T06:24:21.164347",
     "status": "completed"
    },
    "tags": []
   },
   "source": [
    "Notice that all the values are between 0 and 1 - that is because we passed `normalize=True` in the `setup` function. If you don't remember how it compares to actual data, no problem - we can also access non-transformed values using `get_config` and then compare. See below and notice the range of values on x-axis and compare it with histogram above."
   ]
  },
  {
   "cell_type": "code",
   "execution_count": 27,
   "id": "68cc1c63",
   "metadata": {
    "execution": {
     "iopub.execute_input": "2025-10-23T06:24:21.237905Z",
     "iopub.status.busy": "2025-10-23T06:24:21.237409Z",
     "iopub.status.idle": "2025-10-23T06:24:21.411868Z",
     "shell.execute_reply": "2025-10-23T06:24:21.410963Z"
    },
    "papermill": {
     "duration": 0.200654,
     "end_time": "2025-10-23T06:24:21.412900",
     "exception": false,
     "start_time": "2025-10-23T06:24:21.212246",
     "status": "completed"
    },
    "tags": []
   },
   "outputs": [
    {
     "data": {
      "text/plain": [
       "<Axes: >"
      ]
     },
     "execution_count": 27,
     "metadata": {},
     "output_type": "execute_result"
    },
    {
     "name": "stderr",
     "output_type": "stream",
     "text": [
      "WARNING:matplotlib.font_manager:findfont: Generic family 'sans-serif' not found because none of the following families were found: Arial, Liberation Sans, Bitstream Vera Sans, sans-serif\n",
      "WARNING:matplotlib.font_manager:findfont: Generic family 'sans-serif' not found because none of the following families were found: Arial, Liberation Sans, Bitstream Vera Sans, sans-serif\n",
      "WARNING:matplotlib.font_manager:findfont: Generic family 'sans-serif' not found because none of the following families were found: Arial, Liberation Sans, Bitstream Vera Sans, sans-serif\n",
      "WARNING:matplotlib.font_manager:findfont: Generic family 'sans-serif' not found because none of the following families were found: Arial, Liberation Sans, Bitstream Vera Sans, sans-serif\n",
      "WARNING:matplotlib.font_manager:findfont: Generic family 'sans-serif' not found because none of the following families were found: Arial, Liberation Sans, Bitstream Vera Sans, sans-serif\n",
      "WARNING:matplotlib.font_manager:findfont: Generic family 'sans-serif' not found because none of the following families were found: Arial, Liberation Sans, Bitstream Vera Sans, sans-serif\n",
      "WARNING:matplotlib.font_manager:findfont: Generic family 'sans-serif' not found because none of the following families were found: Arial, Liberation Sans, Bitstream Vera Sans, sans-serif\n",
      "WARNING:matplotlib.font_manager:findfont: Generic family 'sans-serif' not found because none of the following families were found: Arial, Liberation Sans, Bitstream Vera Sans, sans-serif\n",
      "WARNING:matplotlib.font_manager:findfont: Generic family 'sans-serif' not found because none of the following families were found: Arial, Liberation Sans, Bitstream Vera Sans, sans-serif\n",
      "WARNING:matplotlib.font_manager:findfont: Generic family 'sans-serif' not found because none of the following families were found: Arial, Liberation Sans, Bitstream Vera Sans, sans-serif\n",
      "WARNING:matplotlib.font_manager:findfont: Generic family 'sans-serif' not found because none of the following families were found: Arial, Liberation Sans, Bitstream Vera Sans, sans-serif\n",
      "WARNING:matplotlib.font_manager:findfont: Generic family 'sans-serif' not found because none of the following families were found: Arial, Liberation Sans, Bitstream Vera Sans, sans-serif\n",
      "WARNING:matplotlib.font_manager:findfont: Generic family 'sans-serif' not found because none of the following families were found: Arial, Liberation Sans, Bitstream Vera Sans, sans-serif\n",
      "WARNING:matplotlib.font_manager:findfont: Generic family 'sans-serif' not found because none of the following families were found: Arial, Liberation Sans, Bitstream Vera Sans, sans-serif\n",
      "WARNING:matplotlib.font_manager:findfont: Generic family 'sans-serif' not found because none of the following families were found: Arial, Liberation Sans, Bitstream Vera Sans, sans-serif\n",
      "WARNING:matplotlib.font_manager:findfont: Generic family 'sans-serif' not found because none of the following families were found: Arial, Liberation Sans, Bitstream Vera Sans, sans-serif\n",
      "WARNING:matplotlib.font_manager:findfont: Generic family 'sans-serif' not found because none of the following families were found: Arial, Liberation Sans, Bitstream Vera Sans, sans-serif\n",
      "WARNING:matplotlib.font_manager:findfont: Generic family 'sans-serif' not found because none of the following families were found: Arial, Liberation Sans, Bitstream Vera Sans, sans-serif\n",
      "WARNING:matplotlib.font_manager:findfont: Generic family 'sans-serif' not found because none of the following families were found: Arial, Liberation Sans, Bitstream Vera Sans, sans-serif\n",
      "WARNING:matplotlib.font_manager:findfont: Generic family 'sans-serif' not found because none of the following families were found: Arial, Liberation Sans, Bitstream Vera Sans, sans-serif\n",
      "WARNING:matplotlib.font_manager:findfont: Generic family 'sans-serif' not found because none of the following families were found: Arial, Liberation Sans, Bitstream Vera Sans, sans-serif\n",
      "WARNING:matplotlib.font_manager:findfont: Generic family 'sans-serif' not found because none of the following families were found: Arial, Liberation Sans, Bitstream Vera Sans, sans-serif\n",
      "WARNING:matplotlib.font_manager:findfont: Generic family 'sans-serif' not found because none of the following families were found: Arial, Liberation Sans, Bitstream Vera Sans, sans-serif\n",
      "WARNING:matplotlib.font_manager:findfont: Generic family 'sans-serif' not found because none of the following families were found: Arial, Liberation Sans, Bitstream Vera Sans, sans-serif\n",
      "WARNING:matplotlib.font_manager:findfont: Generic family 'sans-serif' not found because none of the following families were found: Arial, Liberation Sans, Bitstream Vera Sans, sans-serif\n",
      "WARNING:matplotlib.font_manager:findfont: Generic family 'sans-serif' not found because none of the following families were found: Arial, Liberation Sans, Bitstream Vera Sans, sans-serif\n",
      "WARNING:matplotlib.font_manager:findfont: Generic family 'sans-serif' not found because none of the following families were found: Arial, Liberation Sans, Bitstream Vera Sans, sans-serif\n",
      "WARNING:matplotlib.font_manager:findfont: Generic family 'sans-serif' not found because none of the following families were found: Arial, Liberation Sans, Bitstream Vera Sans, sans-serif\n",
      "WARNING:matplotlib.font_manager:findfont: Generic family 'sans-serif' not found because none of the following families were found: Arial, Liberation Sans, Bitstream Vera Sans, sans-serif\n",
      "WARNING:matplotlib.font_manager:findfont: Generic family 'sans-serif' not found because none of the following families were found: Arial, Liberation Sans, Bitstream Vera Sans, sans-serif\n",
      "WARNING:matplotlib.font_manager:findfont: Generic family 'sans-serif' not found because none of the following families were found: Arial, Liberation Sans, Bitstream Vera Sans, sans-serif\n",
      "WARNING:matplotlib.font_manager:findfont: Generic family 'sans-serif' not found because none of the following families were found: Arial, Liberation Sans, Bitstream Vera Sans, sans-serif\n",
      "WARNING:matplotlib.font_manager:findfont: Generic family 'sans-serif' not found because none of the following families were found: Arial, Liberation Sans, Bitstream Vera Sans, sans-serif\n",
      "WARNING:matplotlib.font_manager:findfont: Generic family 'sans-serif' not found because none of the following families were found: Arial, Liberation Sans, Bitstream Vera Sans, sans-serif\n",
      "WARNING:matplotlib.font_manager:findfont: Generic family 'sans-serif' not found because none of the following families were found: Arial, Liberation Sans, Bitstream Vera Sans, sans-serif\n",
      "WARNING:matplotlib.font_manager:findfont: Generic family 'sans-serif' not found because none of the following families were found: Arial, Liberation Sans, Bitstream Vera Sans, sans-serif\n",
      "WARNING:matplotlib.font_manager:findfont: Generic family 'sans-serif' not found because none of the following families were found: Arial, Liberation Sans, Bitstream Vera Sans, sans-serif\n",
      "WARNING:matplotlib.font_manager:findfont: Generic family 'sans-serif' not found because none of the following families were found: Arial, Liberation Sans, Bitstream Vera Sans, sans-serif\n",
      "WARNING:matplotlib.font_manager:findfont: Generic family 'sans-serif' not found because none of the following families were found: Arial, Liberation Sans, Bitstream Vera Sans, sans-serif\n",
      "WARNING:matplotlib.font_manager:findfont: Generic family 'sans-serif' not found because none of the following families were found: Arial, Liberation Sans, Bitstream Vera Sans, sans-serif\n",
      "WARNING:matplotlib.font_manager:findfont: Generic family 'sans-serif' not found because none of the following families were found: Arial, Liberation Sans, Bitstream Vera Sans, sans-serif\n",
      "WARNING:matplotlib.font_manager:findfont: Generic family 'sans-serif' not found because none of the following families were found: Arial, Liberation Sans, Bitstream Vera Sans, sans-serif\n",
      "WARNING:matplotlib.font_manager:findfont: Generic family 'sans-serif' not found because none of the following families were found: Arial, Liberation Sans, Bitstream Vera Sans, sans-serif\n",
      "WARNING:matplotlib.font_manager:findfont: Generic family 'sans-serif' not found because none of the following families were found: Arial, Liberation Sans, Bitstream Vera Sans, sans-serif\n",
      "WARNING:matplotlib.font_manager:findfont: Generic family 'sans-serif' not found because none of the following families were found: Arial, Liberation Sans, Bitstream Vera Sans, sans-serif\n",
      "WARNING:matplotlib.font_manager:findfont: Generic family 'sans-serif' not found because none of the following families were found: Arial, Liberation Sans, Bitstream Vera Sans, sans-serif\n",
      "WARNING:matplotlib.font_manager:findfont: Generic family 'sans-serif' not found because none of the following families were found: Arial, Liberation Sans, Bitstream Vera Sans, sans-serif\n",
      "WARNING:matplotlib.font_manager:findfont: Generic family 'sans-serif' not found because none of the following families were found: Arial, Liberation Sans, Bitstream Vera Sans, sans-serif\n",
      "WARNING:matplotlib.font_manager:findfont: Generic family 'sans-serif' not found because none of the following families were found: Arial, Liberation Sans, Bitstream Vera Sans, sans-serif\n",
      "WARNING:matplotlib.font_manager:findfont: Generic family 'sans-serif' not found because none of the following families were found: Arial, Liberation Sans, Bitstream Vera Sans, sans-serif\n",
      "WARNING:matplotlib.font_manager:findfont: Generic family 'sans-serif' not found because none of the following families were found: Arial, Liberation Sans, Bitstream Vera Sans, sans-serif\n",
      "WARNING:matplotlib.font_manager:findfont: Generic family 'sans-serif' not found because none of the following families were found: Arial, Liberation Sans, Bitstream Vera Sans, sans-serif\n",
      "WARNING:matplotlib.font_manager:findfont: Generic family 'sans-serif' not found because none of the following families were found: Arial, Liberation Sans, Bitstream Vera Sans, sans-serif\n",
      "WARNING:matplotlib.font_manager:findfont: Generic family 'sans-serif' not found because none of the following families were found: Arial, Liberation Sans, Bitstream Vera Sans, sans-serif\n"
     ]
    },
    {
     "data": {
      "image/png": "[encoded data removed]",
      "text/plain": [
       "<Figure size 800x550 with 1 Axes>"
      ]
     },
     "metadata": {},
     "output_type": "display_data"
    }
   ],
   "source": [
    "get_config('X_train')['Age'].hist()"
   ]
  },
  {
   "cell_type": "markdown",
   "id": "9e6c47cb",
   "metadata": {
    "papermill": {
     "duration": 0.024256,
     "end_time": "2025-10-23T06:24:21.462220",
     "exception": false,
     "start_time": "2025-10-23T06:24:21.437964",
     "status": "completed"
    },
    "tags": []
   },
   "source": [
    "## ✅ Experiment Logging\n",
    "PyCaret integrates with many different type of experiment loggers (default = 'mlflow'). To turn on experiment tracking in PyCaret you can set `log_experiment` and `experiment_name` parameter. It will automatically track all the metrics, hyperparameters, and artifacts based on the defined logger."
   ]
  },
  {
   "cell_type": "code",
   "execution_count": 28,
   "id": "1af63fd0",
   "metadata": {
    "execution": {
     "iopub.execute_input": "2025-10-23T06:24:21.512848Z",
     "iopub.status.busy": "2025-10-23T06:24:21.512545Z",
     "iopub.status.idle": "2025-10-23T06:24:21.516143Z",
     "shell.execute_reply": "2025-10-23T06:24:21.515136Z"
    },
    "papermill": {
     "duration": 0.030289,
     "end_time": "2025-10-23T06:24:21.517128",
     "exception": false,
     "start_time": "2025-10-23T06:24:21.486839",
     "status": "completed"
    },
    "tags": []
   },
   "outputs": [],
   "source": [
    "# from pycaret.clustering import *\n",
    "# s = setup(data, log_experiment='mlflow', experiment_name='jewellery_project')"
   ]
  },
  {
   "cell_type": "code",
   "execution_count": 29,
   "id": "42cd6120",
   "metadata": {
    "execution": {
     "iopub.execute_input": "2025-10-23T06:24:21.567787Z",
     "iopub.status.busy": "2025-10-23T06:24:21.567496Z",
     "iopub.status.idle": "2025-10-23T06:24:21.571040Z",
     "shell.execute_reply": "2025-10-23T06:24:21.569942Z"
    },
    "papermill": {
     "duration": 0.029964,
     "end_time": "2025-10-23T06:24:21.571831",
     "exception": false,
     "start_time": "2025-10-23T06:24:21.541867",
     "status": "completed"
    },
    "tags": []
   },
   "outputs": [],
   "source": [
    "# train kmeans\n",
    "# kmeans = create_model('kmeans')"
   ]
  },
  {
   "cell_type": "code",
   "execution_count": 30,
   "id": "adc82ce5",
   "metadata": {
    "execution": {
     "iopub.execute_input": "2025-10-23T06:24:21.622468Z",
     "iopub.status.busy": "2025-10-23T06:24:21.622191Z",
     "iopub.status.idle": "2025-10-23T06:24:21.625910Z",
     "shell.execute_reply": "2025-10-23T06:24:21.624814Z"
    },
    "papermill": {
     "duration": 0.02994,
     "end_time": "2025-10-23T06:24:21.626659",
     "exception": false,
     "start_time": "2025-10-23T06:24:21.596719",
     "status": "completed"
    },
    "tags": []
   },
   "outputs": [],
   "source": [
    "# start mlflow server on localhost:5000\n",
    "# !mlflow ui"
   ]
  },
  {
   "cell_type": "markdown",
   "id": "a06f9df7",
   "metadata": {
    "papermill": {
     "duration": 0.024484,
     "end_time": "2025-10-23T06:24:21.675990",
     "exception": false,
     "start_time": "2025-10-23T06:24:21.651506",
     "status": "completed"
    },
    "tags": []
   },
   "source": [
    "By default PyCaret uses `MLFlow` logger that can be changed using `log_experiment` parameter. Following loggers are available:\n",
    "    \n",
    "    - mlflow\n",
    "    - wandb\n",
    "    - comet_ml\n",
    "    - dagshub\n",
    "    \n",
    "Other logging related parameters that you may find useful are:\n",
    "\n",
    "- experiment_custom_tags\n",
    "- log_plots\n",
    "- log_data\n",
    "- log_profile\n",
    "\n",
    "For more information check out the docstring of the `setup` function."
   ]
  },
  {
   "cell_type": "code",
   "execution_count": 31,
   "id": "2f8b6aa1",
   "metadata": {
    "execution": {
     "iopub.execute_input": "2025-10-23T06:24:21.727212Z",
     "iopub.status.busy": "2025-10-23T06:24:21.726878Z",
     "iopub.status.idle": "2025-10-23T06:24:21.730422Z",
     "shell.execute_reply": "2025-10-23T06:24:21.729474Z"
    },
    "papermill": {
     "duration": 0.030231,
     "end_time": "2025-10-23T06:24:21.731199",
     "exception": false,
     "start_time": "2025-10-23T06:24:21.700968",
     "status": "completed"
    },
    "tags": []
   },
   "outputs": [],
   "source": [
    "# help(setup)"
   ]
  },
  {
   "cell_type": "markdown",
   "id": "6ce0b555",
   "metadata": {
    "papermill": {
     "duration": 0.02459,
     "end_time": "2025-10-23T06:24:21.780671",
     "exception": false,
     "start_time": "2025-10-23T06:24:21.756081",
     "status": "completed"
    },
    "tags": []
   },
   "source": [
    "## ✅ Create Model\n",
    "This function trains and evaluates the performance of a given estimator using cross-validation. The output of this function is a scoring grid with CV scores by fold. Metrics evaluated during CV can be accessed using the `get_metrics` function. Custom metrics can be added or removed using `add_metric` and `remove_metric` function. All the available models can be accessed using the models function."
   ]
  },
  {
   "cell_type": "code",
   "execution_count": 32,
   "id": "837cebfa",
   "metadata": {
    "execution": {
     "iopub.execute_input": "2025-10-23T06:24:21.831963Z",
     "iopub.status.busy": "2025-10-23T06:24:21.831657Z",
     "iopub.status.idle": "2025-10-23T06:24:21.840461Z",
     "shell.execute_reply": "2025-10-23T06:24:21.839467Z"
    },
    "papermill": {
     "duration": 0.03561,
     "end_time": "2025-10-23T06:24:21.841171",
     "exception": false,
     "start_time": "2025-10-23T06:24:21.805561",
     "status": "completed"
    },
    "tags": []
   },
   "outputs": [
    {
     "data": {
      "text/html": [
       "<div>\n",
       "<style scoped>\n",
       "    .dataframe tbody tr th:only-of-type {\n",
       "        vertical-align: middle;\n",
       "    }\n",
       "\n",
       "    .dataframe tbody tr th {\n",
       "        vertical-align: top;\n",
       "    }\n",
       "\n",
       "    .dataframe thead th {\n",
       "        text-align: right;\n",
       "    }\n",
       "</style>\n",
       "<table border=\"1\" class=\"dataframe\">\n",
       "  <thead>\n",
       "    <tr style=\"text-align: right;\">\n",
       "      <th></th>\n",
       "      <th>Name</th>\n",
       "      <th>Reference</th>\n",
       "    </tr>\n",
       "    <tr>\n",
       "      <th>ID</th>\n",
       "      <th></th>\n",
       "      <th></th>\n",
       "    </tr>\n",
       "  </thead>\n",
       "  <tbody>\n",
       "    <tr>\n",
       "      <th>kmeans</th>\n",
       "      <td>K-Means Clustering</td>\n",
       "      <td>sklearn.cluster._kmeans.KMeans</td>\n",
       "    </tr>\n",
       "    <tr>\n",
       "      <th>ap</th>\n",
       "      <td>Affinity Propagation</td>\n",
       "      <td>sklearn.cluster._affinity_propagation.Affinity...</td>\n",
       "    </tr>\n",
       "    <tr>\n",
       "      <th>meanshift</th>\n",
       "      <td>Mean Shift Clustering</td>\n",
       "      <td>sklearn.cluster._mean_shift.MeanShift</td>\n",
       "    </tr>\n",
       "    <tr>\n",
       "      <th>sc</th>\n",
       "      <td>Spectral Clustering</td>\n",
       "      <td>sklearn.cluster._spectral.SpectralClustering</td>\n",
       "    </tr>\n",
       "    <tr>\n",
       "      <th>hclust</th>\n",
       "      <td>Agglomerative Clustering</td>\n",
       "      <td>sklearn.cluster._agglomerative.AgglomerativeCl...</td>\n",
       "    </tr>\n",
       "    <tr>\n",
       "      <th>dbscan</th>\n",
       "      <td>Density-Based Spatial Clustering</td>\n",
       "      <td>sklearn.cluster._dbscan.DBSCAN</td>\n",
       "    </tr>\n",
       "    <tr>\n",
       "      <th>optics</th>\n",
       "      <td>OPTICS Clustering</td>\n",
       "      <td>sklearn.cluster._optics.OPTICS</td>\n",
       "    </tr>\n",
       "    <tr>\n",
       "      <th>birch</th>\n",
       "      <td>Birch Clustering</td>\n",
       "      <td>sklearn.cluster._birch.Birch</td>\n",
       "    </tr>\n",
       "  </tbody>\n",
       "</table>\n",
       "</div>"
      ],
      "text/plain": [
       "                                       Name  \\\n",
       "ID                                            \n",
       "kmeans                   K-Means Clustering   \n",
       "ap                     Affinity Propagation   \n",
       "meanshift             Mean Shift Clustering   \n",
       "sc                      Spectral Clustering   \n",
       "hclust             Agglomerative Clustering   \n",
       "dbscan     Density-Based Spatial Clustering   \n",
       "optics                    OPTICS Clustering   \n",
       "birch                      Birch Clustering   \n",
       "\n",
       "                                                   Reference  \n",
       "ID                                                            \n",
       "kmeans                        sklearn.cluster._kmeans.KMeans  \n",
       "ap         sklearn.cluster._affinity_propagation.Affinity...  \n",
       "meanshift              sklearn.cluster._mean_shift.MeanShift  \n",
       "sc              sklearn.cluster._spectral.SpectralClustering  \n",
       "hclust     sklearn.cluster._agglomerative.AgglomerativeCl...  \n",
       "dbscan                        sklearn.cluster._dbscan.DBSCAN  \n",
       "optics                        sklearn.cluster._optics.OPTICS  \n",
       "birch                           sklearn.cluster._birch.Birch  "
      ]
     },
     "execution_count": 32,
     "metadata": {},
     "output_type": "execute_result"
    }
   ],
   "source": [
    "# check all the available models\n",
    "models()"
   ]
  },
  {
   "cell_type": "code",
   "execution_count": 33,
   "id": "16641cab",
   "metadata": {
    "execution": {
     "iopub.execute_input": "2025-10-23T06:24:21.892815Z",
     "iopub.status.busy": "2025-10-23T06:24:21.892528Z",
     "iopub.status.idle": "2025-10-23T06:24:22.224110Z",
     "shell.execute_reply": "2025-10-23T06:24:22.223091Z"
    },
    "papermill": {
     "duration": 0.35866,
     "end_time": "2025-10-23T06:24:22.225047",
     "exception": false,
     "start_time": "2025-10-23T06:24:21.866387",
     "status": "completed"
    },
    "tags": []
   },
   "outputs": [
    {
     "data": {
      "text/html": [],
      "text/plain": [
       "<IPython.core.display.HTML object>"
      ]
     },
     "metadata": {},
     "output_type": "display_data"
    },
    {
     "data": {
      "text/html": [
       "<style type=\"text/css\">\n",
       "</style>\n",
       "<table id=\"T_13f26\">\n",
       "  <thead>\n",
       "    <tr>\n",
       "      <th class=\"blank level0\" >&nbsp;</th>\n",
       "      <th id=\"T_13f26_level0_col0\" class=\"col_heading level0 col0\" >Silhouette</th>\n",
       "      <th id=\"T_13f26_level0_col1\" class=\"col_heading level0 col1\" >Calinski-Harabasz</th>\n",
       "      <th id=\"T_13f26_level0_col2\" class=\"col_heading level0 col2\" >Davies-Bouldin</th>\n",
       "      <th id=\"T_13f26_level0_col3\" class=\"col_heading level0 col3\" >Homogeneity</th>\n",
       "      <th id=\"T_13f26_level0_col4\" class=\"col_heading level0 col4\" >Rand Index</th>\n",
       "      <th id=\"T_13f26_level0_col5\" class=\"col_heading level0 col5\" >Completeness</th>\n",
       "    </tr>\n",
       "  </thead>\n",
       "  <tbody>\n",
       "    <tr>\n",
       "      <th id=\"T_13f26_level0_row0\" class=\"row_heading level0 row0\" >0</th>\n",
       "      <td id=\"T_13f26_row0_col0\" class=\"data row0 col0\" >0.2934</td>\n",
       "      <td id=\"T_13f26_row0_col1\" class=\"data row0 col1\" >115.2931</td>\n",
       "      <td id=\"T_13f26_row0_col2\" class=\"data row0 col2\" >1.2577</td>\n",
       "      <td id=\"T_13f26_row0_col3\" class=\"data row0 col3\" >0</td>\n",
       "      <td id=\"T_13f26_row0_col4\" class=\"data row0 col4\" >0</td>\n",
       "      <td id=\"T_13f26_row0_col5\" class=\"data row0 col5\" >0</td>\n",
       "    </tr>\n",
       "  </tbody>\n",
       "</table>\n"
      ],
      "text/plain": [
       "<pandas.io.formats.style.Styler at 0x7f177925f520>"
      ]
     },
     "metadata": {},
     "output_type": "display_data"
    },
    {
     "data": {
      "text/html": [],
      "text/plain": [
       "<IPython.core.display.HTML object>"
      ]
     },
     "metadata": {},
     "output_type": "display_data"
    }
   ],
   "source": [
    "# train kmeans\n",
    "kmeans = create_model('kmeans')"
   ]
  },
  {
   "cell_type": "markdown",
   "id": "074b4572",
   "metadata": {
    "papermill": {
     "duration": 0.024923,
     "end_time": "2025-10-23T06:24:22.275801",
     "exception": false,
     "start_time": "2025-10-23T06:24:22.250878",
     "status": "completed"
    },
    "tags": []
   },
   "source": [
    "The function above has return trained model object as an output. The scoring grid is only displayed and not returned. If you need access to the scoring grid you can use `pull` function to access the dataframe."
   ]
  },
  {
   "cell_type": "code",
   "execution_count": 34,
   "id": "fe277e1b",
   "metadata": {
    "execution": {
     "iopub.execute_input": "2025-10-23T06:24:22.326876Z",
     "iopub.status.busy": "2025-10-23T06:24:22.326589Z",
     "iopub.status.idle": "2025-10-23T06:24:22.335598Z",
     "shell.execute_reply": "2025-10-23T06:24:22.334695Z"
    },
    "papermill": {
     "duration": 0.035887,
     "end_time": "2025-10-23T06:24:22.336489",
     "exception": false,
     "start_time": "2025-10-23T06:24:22.300602",
     "status": "completed"
    },
    "tags": []
   },
   "outputs": [
    {
     "name": "stdout",
     "output_type": "stream",
     "text": [
      "<class 'pandas.core.frame.DataFrame'>\n"
     ]
    },
    {
     "data": {
      "text/html": [
       "<div>\n",
       "<style scoped>\n",
       "    .dataframe tbody tr th:only-of-type {\n",
       "        vertical-align: middle;\n",
       "    }\n",
       "\n",
       "    .dataframe tbody tr th {\n",
       "        vertical-align: top;\n",
       "    }\n",
       "\n",
       "    .dataframe thead th {\n",
       "        text-align: right;\n",
       "    }\n",
       "</style>\n",
       "<table border=\"1\" class=\"dataframe\">\n",
       "  <thead>\n",
       "    <tr style=\"text-align: right;\">\n",
       "      <th></th>\n",
       "      <th>Silhouette</th>\n",
       "      <th>Calinski-Harabasz</th>\n",
       "      <th>Davies-Bouldin</th>\n",
       "      <th>Homogeneity</th>\n",
       "      <th>Rand Index</th>\n",
       "      <th>Completeness</th>\n",
       "    </tr>\n",
       "  </thead>\n",
       "  <tbody>\n",
       "    <tr>\n",
       "      <th>0</th>\n",
       "      <td>0.2934</td>\n",
       "      <td>115.2931</td>\n",
       "      <td>1.2577</td>\n",
       "      <td>0</td>\n",
       "      <td>0</td>\n",
       "      <td>0</td>\n",
       "    </tr>\n",
       "  </tbody>\n",
       "</table>\n",
       "</div>"
      ],
      "text/plain": [
       "   Silhouette  Calinski-Harabasz  Davies-Bouldin  Homogeneity  Rand Index  \\\n",
       "0      0.2934           115.2931          1.2577            0           0   \n",
       "\n",
       "   Completeness  \n",
       "0             0  "
      ]
     },
     "execution_count": 34,
     "metadata": {},
     "output_type": "execute_result"
    }
   ],
   "source": [
    "kmeans_results = pull()\n",
    "print(type(kmeans_results))\n",
    "kmeans_results"
   ]
  },
  {
   "cell_type": "code",
   "execution_count": 35,
   "id": "148a74c4",
   "metadata": {
    "execution": {
     "iopub.execute_input": "2025-10-23T06:24:22.388010Z",
     "iopub.status.busy": "2025-10-23T06:24:22.387723Z",
     "iopub.status.idle": "2025-10-23T06:24:22.726069Z",
     "shell.execute_reply": "2025-10-23T06:24:22.725193Z"
    },
    "papermill": {
     "duration": 0.365431,
     "end_time": "2025-10-23T06:24:22.727127",
     "exception": false,
     "start_time": "2025-10-23T06:24:22.361696",
     "status": "completed"
    },
    "tags": []
   },
   "outputs": [
    {
     "data": {
      "text/html": [],
      "text/plain": [
       "<IPython.core.display.HTML object>"
      ]
     },
     "metadata": {},
     "output_type": "display_data"
    },
    {
     "data": {
      "text/html": [
       "<style type=\"text/css\">\n",
       "</style>\n",
       "<table id=\"T_3f71d\">\n",
       "  <thead>\n",
       "    <tr>\n",
       "      <th class=\"blank level0\" >&nbsp;</th>\n",
       "      <th id=\"T_3f71d_level0_col0\" class=\"col_heading level0 col0\" >Silhouette</th>\n",
       "      <th id=\"T_3f71d_level0_col1\" class=\"col_heading level0 col1\" >Calinski-Harabasz</th>\n",
       "      <th id=\"T_3f71d_level0_col2\" class=\"col_heading level0 col2\" >Davies-Bouldin</th>\n",
       "      <th id=\"T_3f71d_level0_col3\" class=\"col_heading level0 col3\" >Homogeneity</th>\n",
       "      <th id=\"T_3f71d_level0_col4\" class=\"col_heading level0 col4\" >Rand Index</th>\n",
       "      <th id=\"T_3f71d_level0_col5\" class=\"col_heading level0 col5\" >Completeness</th>\n",
       "    </tr>\n",
       "  </thead>\n",
       "  <tbody>\n",
       "    <tr>\n",
       "      <th id=\"T_3f71d_level0_row0\" class=\"row_heading level0 row0\" >0</th>\n",
       "      <td id=\"T_3f71d_row0_col0\" class=\"data row0 col0\" >0.4183</td>\n",
       "      <td id=\"T_3f71d_row0_col1\" class=\"data row0 col1\" >141.4099</td>\n",
       "      <td id=\"T_3f71d_row0_col2\" class=\"data row0 col2\" >0.8129</td>\n",
       "      <td id=\"T_3f71d_row0_col3\" class=\"data row0 col3\" >0</td>\n",
       "      <td id=\"T_3f71d_row0_col4\" class=\"data row0 col4\" >0</td>\n",
       "      <td id=\"T_3f71d_row0_col5\" class=\"data row0 col5\" >0</td>\n",
       "    </tr>\n",
       "  </tbody>\n",
       "</table>\n"
      ],
      "text/plain": [
       "<pandas.io.formats.style.Styler at 0x7f17792c2770>"
      ]
     },
     "metadata": {},
     "output_type": "display_data"
    },
    {
     "data": {
      "text/html": [],
      "text/plain": [
       "<IPython.core.display.HTML object>"
      ]
     },
     "metadata": {},
     "output_type": "display_data"
    },
    {
     "data": {
      "text/html": [
       "<style>#sk-container-id-2 {\n",
       "  /* Definition of color scheme common for light and dark mode */\n",
       "  --sklearn-color-text: black;\n",
       "  --sklearn-color-line: gray;\n",
       "  /* Definition of color scheme for unfitted estimators */\n",
       "  --sklearn-color-unfitted-level-0: #fff5e6;\n",
       "  --sklearn-color-unfitted-level-1: #f6e4d2;\n",
       "  --sklearn-color-unfitted-level-2: #ffe0b3;\n",
       "  --sklearn-color-unfitted-level-3: chocolate;\n",
       "  /* Definition of color scheme for fitted estimators */\n",
       "  --sklearn-color-fitted-level-0: #f0f8ff;\n",
       "  --sklearn-color-fitted-level-1: #d4ebff;\n",
       "  --sklearn-color-fitted-level-2: #b3dbfd;\n",
       "  --sklearn-color-fitted-level-3: cornflowerblue;\n",
       "\n",
       "  /* Specific color for light theme */\n",
       "  --sklearn-color-text-on-default-background: var(--sg-text-color, var(--theme-code-foreground, var(--jp-content-font-color1, black)));\n",
       "  --sklearn-color-background: var(--sg-background-color, var(--theme-background, var(--jp-layout-color0, white)));\n",
       "  --sklearn-color-border-box: var(--sg-text-color, var(--theme-code-foreground, var(--jp-content-font-color1, black)));\n",
       "  --sklearn-color-icon: #696969;\n",
       "\n",
       "  @media (prefers-color-scheme: dark) {\n",
       "    /* Redefinition of color scheme for dark theme */\n",
       "    --sklearn-color-text-on-default-background: var(--sg-text-color, var(--theme-code-foreground, var(--jp-content-font-color1, white)));\n",
       "    --sklearn-color-background: var(--sg-background-color, var(--theme-background, var(--jp-layout-color0, #111)));\n",
       "    --sklearn-color-border-box: var(--sg-text-color, var(--theme-code-foreground, var(--jp-content-font-color1, white)));\n",
       "    --sklearn-color-icon: #878787;\n",
       "  }\n",
       "}\n",
       "\n",
       "#sk-container-id-2 {\n",
       "  color: var(--sklearn-color-text);\n",
       "}\n",
       "\n",
       "#sk-container-id-2 pre {\n",
       "  padding: 0;\n",
       "}\n",
       "\n",
       "#sk-container-id-2 input.sk-hidden--visually {\n",
       "  border: 0;\n",
       "  clip: rect(1px 1px 1px 1px);\n",
       "  clip: rect(1px, 1px, 1px, 1px);\n",
       "  height: 1px;\n",
       "  margin: -1px;\n",
       "  overflow: hidden;\n",
       "  padding: 0;\n",
       "  position: absolute;\n",
       "  width: 1px;\n",
       "}\n",
       "\n",
       "#sk-container-id-2 div.sk-dashed-wrapped {\n",
       "  border: 1px dashed var(--sklearn-color-line);\n",
       "  margin: 0 0.4em 0.5em 0.4em;\n",
       "  box-sizing: border-box;\n",
       "  padding-bottom: 0.4em;\n",
       "  background-color: var(--sklearn-color-background);\n",
       "}\n",
       "\n",
       "#sk-container-id-2 div.sk-container {\n",
       "  /* jupyter's `normalize.less` sets `[hidden] { display: none; }`\n",
       "     but bootstrap.min.css set `[hidden] { display: none !important; }`\n",
       "     so we also need the `!important` here to be able to override the\n",
       "     default hidden behavior on the sphinx rendered scikit-learn.org.\n",
       "     See: https://github.com/scikit-learn/scikit-learn/issues/21755 */\n",
       "  display: inline-block !important;\n",
       "  position: relative;\n",
       "}\n",
       "\n",
       "#sk-container-id-2 div.sk-text-repr-fallback {\n",
       "  display: none;\n",
       "}\n",
       "\n",
       "div.sk-parallel-item,\n",
       "div.sk-serial,\n",
       "div.sk-item {\n",
       "  /* draw centered vertical line to link estimators */\n",
       "  background-image: linear-gradient(var(--sklearn-color-text-on-default-background), var(--sklearn-color-text-on-default-background));\n",
       "  background-size: 2px 100%;\n",
       "  background-repeat: no-repeat;\n",
       "  background-position: center center;\n",
       "}\n",
       "\n",
       "/* Parallel-specific style estimator block */\n",
       "\n",
       "#sk-container-id-2 div.sk-parallel-item::after {\n",
       "  content: \"\";\n",
       "  width: 100%;\n",
       "  border-bottom: 2px solid var(--sklearn-color-text-on-default-background);\n",
       "  flex-grow: 1;\n",
       "}\n",
       "\n",
       "#sk-container-id-2 div.sk-parallel {\n",
       "  display: flex;\n",
       "  align-items: stretch;\n",
       "  justify-content: center;\n",
       "  background-color: var(--sklearn-color-background);\n",
       "  position: relative;\n",
       "}\n",
       "\n",
       "#sk-container-id-2 div.sk-parallel-item {\n",
       "  display: flex;\n",
       "  flex-direction: column;\n",
       "}\n",
       "\n",
       "#sk-container-id-2 div.sk-parallel-item:first-child::after {\n",
       "  align-self: flex-end;\n",
       "  width: 50%;\n",
       "}\n",
       "\n",
       "#sk-container-id-2 div.sk-parallel-item:last-child::after {\n",
       "  align-self: flex-start;\n",
       "  width: 50%;\n",
       "}\n",
       "\n",
       "#sk-container-id-2 div.sk-parallel-item:only-child::after {\n",
       "  width: 0;\n",
       "}\n",
       "\n",
       "/* Serial-specific style estimator block */\n",
       "\n",
       "#sk-container-id-2 div.sk-serial {\n",
       "  display: flex;\n",
       "  flex-direction: column;\n",
       "  align-items: center;\n",
       "  background-color: var(--sklearn-color-background);\n",
       "  padding-right: 1em;\n",
       "  padding-left: 1em;\n",
       "}\n",
       "\n",
       "\n",
       "/* Toggleable style: style used for estimator/Pipeline/ColumnTransformer box that is\n",
       "clickable and can be expanded/collapsed.\n",
       "- Pipeline and ColumnTransformer use this feature and define the default style\n",
       "- Estimators will overwrite some part of the style using the `sk-estimator` class\n",
       "*/\n",
       "\n",
       "/* Pipeline and ColumnTransformer style (default) */\n",
       "\n",
       "#sk-container-id-2 div.sk-toggleable {\n",
       "  /* Default theme specific background. It is overwritten whether we have a\n",
       "  specific estimator or a Pipeline/ColumnTransformer */\n",
       "  background-color: var(--sklearn-color-background);\n",
       "}\n",
       "\n",
       "/* Toggleable label */\n",
       "#sk-container-id-2 label.sk-toggleable__label {\n",
       "  cursor: pointer;\n",
       "  display: block;\n",
       "  width: 100%;\n",
       "  margin-bottom: 0;\n",
       "  padding: 0.5em;\n",
       "  box-sizing: border-box;\n",
       "  text-align: center;\n",
       "}\n",
       "\n",
       "#sk-container-id-2 label.sk-toggleable__label-arrow:before {\n",
       "  /* Arrow on the left of the label */\n",
       "  content: \"▸\";\n",
       "  float: left;\n",
       "  margin-right: 0.25em;\n",
       "  color: var(--sklearn-color-icon);\n",
       "}\n",
       "\n",
       "#sk-container-id-2 label.sk-toggleable__label-arrow:hover:before {\n",
       "  color: var(--sklearn-color-text);\n",
       "}\n",
       "\n",
       "/* Toggleable content - dropdown */\n",
       "\n",
       "#sk-container-id-2 div.sk-toggleable__content {\n",
       "  max-height: 0;\n",
       "  max-width: 0;\n",
       "  overflow: hidden;\n",
       "  text-align: left;\n",
       "  /* unfitted */\n",
       "  background-color: var(--sklearn-color-unfitted-level-0);\n",
       "}\n",
       "\n",
       "#sk-container-id-2 div.sk-toggleable__content.fitted {\n",
       "  /* fitted */\n",
       "  background-color: var(--sklearn-color-fitted-level-0);\n",
       "}\n",
       "\n",
       "#sk-container-id-2 div.sk-toggleable__content pre {\n",
       "  margin: 0.2em;\n",
       "  border-radius: 0.25em;\n",
       "  color: var(--sklearn-color-text);\n",
       "  /* unfitted */\n",
       "  background-color: var(--sklearn-color-unfitted-level-0);\n",
       "}\n",
       "\n",
       "#sk-container-id-2 div.sk-toggleable__content.fitted pre {\n",
       "  /* unfitted */\n",
       "  background-color: var(--sklearn-color-fitted-level-0);\n",
       "}\n",
       "\n",
       "#sk-container-id-2 input.sk-toggleable__control:checked~div.sk-toggleable__content {\n",
       "  /* Expand drop-down */\n",
       "  max-height: 200px;\n",
       "  max-width: 100%;\n",
       "  overflow: auto;\n",
       "}\n",
       "\n",
       "#sk-container-id-2 input.sk-toggleable__control:checked~label.sk-toggleable__label-arrow:before {\n",
       "  content: \"▾\";\n",
       "}\n",
       "\n",
       "/* Pipeline/ColumnTransformer-specific style */\n",
       "\n",
       "#sk-container-id-2 div.sk-label input.sk-toggleable__control:checked~label.sk-toggleable__label {\n",
       "  color: var(--sklearn-color-text);\n",
       "  background-color: var(--sklearn-color-unfitted-level-2);\n",
       "}\n",
       "\n",
       "#sk-container-id-2 div.sk-label.fitted input.sk-toggleable__control:checked~label.sk-toggleable__label {\n",
       "  background-color: var(--sklearn-color-fitted-level-2);\n",
       "}\n",
       "\n",
       "/* Estimator-specific style */\n",
       "\n",
       "/* Colorize estimator box */\n",
       "#sk-container-id-2 div.sk-estimator input.sk-toggleable__control:checked~label.sk-toggleable__label {\n",
       "  /* unfitted */\n",
       "  background-color: var(--sklearn-color-unfitted-level-2);\n",
       "}\n",
       "\n",
       "#sk-container-id-2 div.sk-estimator.fitted input.sk-toggleable__control:checked~label.sk-toggleable__label {\n",
       "  /* fitted */\n",
       "  background-color: var(--sklearn-color-fitted-level-2);\n",
       "}\n",
       "\n",
       "#sk-container-id-2 div.sk-label label.sk-toggleable__label,\n",
       "#sk-container-id-2 div.sk-label label {\n",
       "  /* The background is the default theme color */\n",
       "  color: var(--sklearn-color-text-on-default-background);\n",
       "}\n",
       "\n",
       "/* On hover, darken the color of the background */\n",
       "#sk-container-id-2 div.sk-label:hover label.sk-toggleable__label {\n",
       "  color: var(--sklearn-color-text);\n",
       "  background-color: var(--sklearn-color-unfitted-level-2);\n",
       "}\n",
       "\n",
       "/* Label box, darken color on hover, fitted */\n",
       "#sk-container-id-2 div.sk-label.fitted:hover label.sk-toggleable__label.fitted {\n",
       "  color: var(--sklearn-color-text);\n",
       "  background-color: var(--sklearn-color-fitted-level-2);\n",
       "}\n",
       "\n",
       "/* Estimator label */\n",
       "\n",
       "#sk-container-id-2 div.sk-label label {\n",
       "  font-family: monospace;\n",
       "  font-weight: bold;\n",
       "  display: inline-block;\n",
       "  line-height: 1.2em;\n",
       "}\n",
       "\n",
       "#sk-container-id-2 div.sk-label-container {\n",
       "  text-align: center;\n",
       "}\n",
       "\n",
       "/* Estimator-specific */\n",
       "#sk-container-id-2 div.sk-estimator {\n",
       "  font-family: monospace;\n",
       "  border: 1px dotted var(--sklearn-color-border-box);\n",
       "  border-radius: 0.25em;\n",
       "  box-sizing: border-box;\n",
       "  margin-bottom: 0.5em;\n",
       "  /* unfitted */\n",
       "  background-color: var(--sklearn-color-unfitted-level-0);\n",
       "}\n",
       "\n",
       "#sk-container-id-2 div.sk-estimator.fitted {\n",
       "  /* fitted */\n",
       "  background-color: var(--sklearn-color-fitted-level-0);\n",
       "}\n",
       "\n",
       "/* on hover */\n",
       "#sk-container-id-2 div.sk-estimator:hover {\n",
       "  /* unfitted */\n",
       "  background-color: var(--sklearn-color-unfitted-level-2);\n",
       "}\n",
       "\n",
       "#sk-container-id-2 div.sk-estimator.fitted:hover {\n",
       "  /* fitted */\n",
       "  background-color: var(--sklearn-color-fitted-level-2);\n",
       "}\n",
       "\n",
       "/* Specification for estimator info (e.g. \"i\" and \"?\") */\n",
       "\n",
       "/* Common style for \"i\" and \"?\" */\n",
       "\n",
       ".sk-estimator-doc-link,\n",
       "a:link.sk-estimator-doc-link,\n",
       "a:visited.sk-estimator-doc-link {\n",
       "  float: right;\n",
       "  font-size: smaller;\n",
       "  line-height: 1em;\n",
       "  font-family: monospace;\n",
       "  background-color: var(--sklearn-color-background);\n",
       "  border-radius: 1em;\n",
       "  height: 1em;\n",
       "  width: 1em;\n",
       "  text-decoration: none !important;\n",
       "  margin-left: 1ex;\n",
       "  /* unfitted */\n",
       "  border: var(--sklearn-color-unfitted-level-1) 1pt solid;\n",
       "  color: var(--sklearn-color-unfitted-level-1);\n",
       "}\n",
       "\n",
       ".sk-estimator-doc-link.fitted,\n",
       "a:link.sk-estimator-doc-link.fitted,\n",
       "a:visited.sk-estimator-doc-link.fitted {\n",
       "  /* fitted */\n",
       "  border: var(--sklearn-color-fitted-level-1) 1pt solid;\n",
       "  color: var(--sklearn-color-fitted-level-1);\n",
       "}\n",
       "\n",
       "/* On hover */\n",
       "div.sk-estimator:hover .sk-estimator-doc-link:hover,\n",
       ".sk-estimator-doc-link:hover,\n",
       "div.sk-label-container:hover .sk-estimator-doc-link:hover,\n",
       ".sk-estimator-doc-link:hover {\n",
       "  /* unfitted */\n",
       "  background-color: var(--sklearn-color-unfitted-level-3);\n",
       "  color: var(--sklearn-color-background);\n",
       "  text-decoration: none;\n",
       "}\n",
       "\n",
       "div.sk-estimator.fitted:hover .sk-estimator-doc-link.fitted:hover,\n",
       ".sk-estimator-doc-link.fitted:hover,\n",
       "div.sk-label-container:hover .sk-estimator-doc-link.fitted:hover,\n",
       ".sk-estimator-doc-link.fitted:hover {\n",
       "  /* fitted */\n",
       "  background-color: var(--sklearn-color-fitted-level-3);\n",
       "  color: var(--sklearn-color-background);\n",
       "  text-decoration: none;\n",
       "}\n",
       "\n",
       "/* Span, style for the box shown on hovering the info icon */\n",
       ".sk-estimator-doc-link span {\n",
       "  display: none;\n",
       "  z-index: 9999;\n",
       "  position: relative;\n",
       "  font-weight: normal;\n",
       "  right: .2ex;\n",
       "  padding: .5ex;\n",
       "  margin: .5ex;\n",
       "  width: min-content;\n",
       "  min-width: 20ex;\n",
       "  max-width: 50ex;\n",
       "  color: var(--sklearn-color-text);\n",
       "  box-shadow: 2pt 2pt 4pt #999;\n",
       "  /* unfitted */\n",
       "  background: var(--sklearn-color-unfitted-level-0);\n",
       "  border: .5pt solid var(--sklearn-color-unfitted-level-3);\n",
       "}\n",
       "\n",
       ".sk-estimator-doc-link.fitted span {\n",
       "  /* fitted */\n",
       "  background: var(--sklearn-color-fitted-level-0);\n",
       "  border: var(--sklearn-color-fitted-level-3);\n",
       "}\n",
       "\n",
       ".sk-estimator-doc-link:hover span {\n",
       "  display: block;\n",
       "}\n",
       "\n",
       "/* \"?\"-specific style due to the `<a>` HTML tag */\n",
       "\n",
       "#sk-container-id-2 a.estimator_doc_link {\n",
       "  float: right;\n",
       "  font-size: 1rem;\n",
       "  line-height: 1em;\n",
       "  font-family: monospace;\n",
       "  background-color: var(--sklearn-color-background);\n",
       "  border-radius: 1rem;\n",
       "  height: 1rem;\n",
       "  width: 1rem;\n",
       "  text-decoration: none;\n",
       "  /* unfitted */\n",
       "  color: var(--sklearn-color-unfitted-level-1);\n",
       "  border: var(--sklearn-color-unfitted-level-1) 1pt solid;\n",
       "}\n",
       "\n",
       "#sk-container-id-2 a.estimator_doc_link.fitted {\n",
       "  /* fitted */\n",
       "  border: var(--sklearn-color-fitted-level-1) 1pt solid;\n",
       "  color: var(--sklearn-color-fitted-level-1);\n",
       "}\n",
       "\n",
       "/* On hover */\n",
       "#sk-container-id-2 a.estimator_doc_link:hover {\n",
       "  /* unfitted */\n",
       "  background-color: var(--sklearn-color-unfitted-level-3);\n",
       "  color: var(--sklearn-color-background);\n",
       "  text-decoration: none;\n",
       "}\n",
       "\n",
       "#sk-container-id-2 a.estimator_doc_link.fitted:hover {\n",
       "  /* fitted */\n",
       "  background-color: var(--sklearn-color-fitted-level-3);\n",
       "}\n",
       "</style><div id=\"sk-container-id-2\" class=\"sk-top-container\"><div class=\"sk-text-repr-fallback\"><pre>KMeans(n_clusters=10, random_state=123)</pre><b>In a Jupyter environment, please rerun this cell to show the HTML representation or trust the notebook. <br />On GitHub, the HTML representation is unable to render, please try loading this page with nbviewer.org.</b></div><div class=\"sk-container\" hidden><div class=\"sk-item\"><div class=\"sk-estimator fitted sk-toggleable\"><input class=\"sk-toggleable__control sk-hidden--visually\" id=\"sk-estimator-id-12\" type=\"checkbox\" checked><label for=\"sk-estimator-id-12\" class=\"sk-toggleable__label fitted sk-toggleable__label-arrow fitted\">&nbsp;&nbsp;KMeans<a class=\"sk-estimator-doc-link fitted\" rel=\"noreferrer\" target=\"_blank\" href=\"https://scikit-learn.org/1.4/modules/generated/sklearn.cluster.KMeans.html\">?<span>Documentation for KMeans</span></a><span class=\"sk-estimator-doc-link fitted\">i<span>Fitted</span></span></label><div class=\"sk-toggleable__content fitted\"><pre>KMeans(n_clusters=10, random_state=123)</pre></div> </div></div></div></div>"
      ],
      "text/plain": [
       "KMeans(n_clusters=10, random_state=123)"
      ]
     },
     "execution_count": 35,
     "metadata": {},
     "output_type": "execute_result"
    }
   ],
   "source": [
    "# train kmeans with 10 clusters\n",
    "create_model('kmeans', num_clusters = 10)"
   ]
  },
  {
   "cell_type": "markdown",
   "id": "08634e9e",
   "metadata": {
    "papermill": {
     "duration": 0.025847,
     "end_time": "2025-10-23T06:24:22.779430",
     "exception": false,
     "start_time": "2025-10-23T06:24:22.753583",
     "status": "completed"
    },
    "tags": []
   },
   "source": [
    "Some other parameters that you might find very useful in `create_model` are:\n",
    "\n",
    "- num_clusters\n",
    "- ground_truth\n",
    "- fit_kwargs\n",
    "- experiment_custom_tags\n",
    "- engine\n",
    "\n",
    "You can check the docstring of the function for more info."
   ]
  },
  {
   "cell_type": "code",
   "execution_count": 36,
   "id": "3fb32c74",
   "metadata": {
    "execution": {
     "iopub.execute_input": "2025-10-23T06:24:22.833129Z",
     "iopub.status.busy": "2025-10-23T06:24:22.832826Z",
     "iopub.status.idle": "2025-10-23T06:24:22.836375Z",
     "shell.execute_reply": "2025-10-23T06:24:22.835462Z"
    },
    "papermill": {
     "duration": 0.031581,
     "end_time": "2025-10-23T06:24:22.837176",
     "exception": false,
     "start_time": "2025-10-23T06:24:22.805595",
     "status": "completed"
    },
    "tags": []
   },
   "outputs": [],
   "source": [
    "# help(create_model)"
   ]
  },
  {
   "cell_type": "markdown",
   "id": "0376bf74",
   "metadata": {
    "papermill": {
     "duration": 0.025551,
     "end_time": "2025-10-23T06:24:22.888976",
     "exception": false,
     "start_time": "2025-10-23T06:24:22.863425",
     "status": "completed"
    },
    "tags": []
   },
   "source": [
    "## ✅ Assign Model\n",
    "This function assigns cluster labels to the training data, given a trained model."
   ]
  },
  {
   "cell_type": "code",
   "execution_count": 37,
   "id": "2978c95b",
   "metadata": {
    "execution": {
     "iopub.execute_input": "2025-10-23T06:24:22.942733Z",
     "iopub.status.busy": "2025-10-23T06:24:22.942433Z",
     "iopub.status.idle": "2025-10-23T06:24:22.957012Z",
     "shell.execute_reply": "2025-10-23T06:24:22.955973Z"
    },
    "papermill": {
     "duration": 0.042654,
     "end_time": "2025-10-23T06:24:22.958043",
     "exception": false,
     "start_time": "2025-10-23T06:24:22.915389",
     "status": "completed"
    },
    "tags": []
   },
   "outputs": [
    {
     "data": {
      "text/html": [
       "<div>\n",
       "<style scoped>\n",
       "    .dataframe tbody tr th:only-of-type {\n",
       "        vertical-align: middle;\n",
       "    }\n",
       "\n",
       "    .dataframe tbody tr th {\n",
       "        vertical-align: top;\n",
       "    }\n",
       "\n",
       "    .dataframe thead th {\n",
       "        text-align: right;\n",
       "    }\n",
       "</style>\n",
       "<table border=\"1\" class=\"dataframe\">\n",
       "  <thead>\n",
       "    <tr style=\"text-align: right;\">\n",
       "      <th></th>\n",
       "      <th>CustomerID</th>\n",
       "      <th>Gender</th>\n",
       "      <th>Age</th>\n",
       "      <th>Annual Income (k$)</th>\n",
       "      <th>Spending Score (1-100)</th>\n",
       "      <th>Cluster</th>\n",
       "    </tr>\n",
       "  </thead>\n",
       "  <tbody>\n",
       "    <tr>\n",
       "      <th>0</th>\n",
       "      <td>1</td>\n",
       "      <td>Male</td>\n",
       "      <td>19</td>\n",
       "      <td>15</td>\n",
       "      <td>39</td>\n",
       "      <td>Cluster 1</td>\n",
       "    </tr>\n",
       "    <tr>\n",
       "      <th>1</th>\n",
       "      <td>2</td>\n",
       "      <td>Male</td>\n",
       "      <td>21</td>\n",
       "      <td>15</td>\n",
       "      <td>81</td>\n",
       "      <td>Cluster 1</td>\n",
       "    </tr>\n",
       "    <tr>\n",
       "      <th>2</th>\n",
       "      <td>3</td>\n",
       "      <td>Female</td>\n",
       "      <td>20</td>\n",
       "      <td>16</td>\n",
       "      <td>6</td>\n",
       "      <td>Cluster 2</td>\n",
       "    </tr>\n",
       "    <tr>\n",
       "      <th>3</th>\n",
       "      <td>4</td>\n",
       "      <td>Female</td>\n",
       "      <td>23</td>\n",
       "      <td>16</td>\n",
       "      <td>77</td>\n",
       "      <td>Cluster 2</td>\n",
       "    </tr>\n",
       "    <tr>\n",
       "      <th>4</th>\n",
       "      <td>5</td>\n",
       "      <td>Female</td>\n",
       "      <td>31</td>\n",
       "      <td>17</td>\n",
       "      <td>40</td>\n",
       "      <td>Cluster 2</td>\n",
       "    </tr>\n",
       "    <tr>\n",
       "      <th>...</th>\n",
       "      <td>...</td>\n",
       "      <td>...</td>\n",
       "      <td>...</td>\n",
       "      <td>...</td>\n",
       "      <td>...</td>\n",
       "      <td>...</td>\n",
       "    </tr>\n",
       "    <tr>\n",
       "      <th>195</th>\n",
       "      <td>196</td>\n",
       "      <td>Female</td>\n",
       "      <td>35</td>\n",
       "      <td>120</td>\n",
       "      <td>79</td>\n",
       "      <td>Cluster 0</td>\n",
       "    </tr>\n",
       "    <tr>\n",
       "      <th>196</th>\n",
       "      <td>197</td>\n",
       "      <td>Female</td>\n",
       "      <td>45</td>\n",
       "      <td>126</td>\n",
       "      <td>28</td>\n",
       "      <td>Cluster 0</td>\n",
       "    </tr>\n",
       "    <tr>\n",
       "      <th>197</th>\n",
       "      <td>198</td>\n",
       "      <td>Male</td>\n",
       "      <td>32</td>\n",
       "      <td>126</td>\n",
       "      <td>74</td>\n",
       "      <td>Cluster 3</td>\n",
       "    </tr>\n",
       "    <tr>\n",
       "      <th>198</th>\n",
       "      <td>199</td>\n",
       "      <td>Male</td>\n",
       "      <td>32</td>\n",
       "      <td>137</td>\n",
       "      <td>18</td>\n",
       "      <td>Cluster 3</td>\n",
       "    </tr>\n",
       "    <tr>\n",
       "      <th>199</th>\n",
       "      <td>200</td>\n",
       "      <td>Male</td>\n",
       "      <td>30</td>\n",
       "      <td>137</td>\n",
       "      <td>83</td>\n",
       "      <td>Cluster 3</td>\n",
       "    </tr>\n",
       "  </tbody>\n",
       "</table>\n",
       "<p>200 rows × 6 columns</p>\n",
       "</div>"
      ],
      "text/plain": [
       "     CustomerID  Gender  Age  Annual Income (k$)  Spending Score (1-100)  \\\n",
       "0             1    Male   19                  15                      39   \n",
       "1             2    Male   21                  15                      81   \n",
       "2             3  Female   20                  16                       6   \n",
       "3             4  Female   23                  16                      77   \n",
       "4             5  Female   31                  17                      40   \n",
       "..          ...     ...  ...                 ...                     ...   \n",
       "195         196  Female   35                 120                      79   \n",
       "196         197  Female   45                 126                      28   \n",
       "197         198    Male   32                 126                      74   \n",
       "198         199    Male   32                 137                      18   \n",
       "199         200    Male   30                 137                      83   \n",
       "\n",
       "       Cluster  \n",
       "0    Cluster 1  \n",
       "1    Cluster 1  \n",
       "2    Cluster 2  \n",
       "3    Cluster 2  \n",
       "4    Cluster 2  \n",
       "..         ...  \n",
       "195  Cluster 0  \n",
       "196  Cluster 0  \n",
       "197  Cluster 3  \n",
       "198  Cluster 3  \n",
       "199  Cluster 3  \n",
       "\n",
       "[200 rows x 6 columns]"
      ]
     },
     "execution_count": 37,
     "metadata": {},
     "output_type": "execute_result"
    }
   ],
   "source": [
    "assign_model(kmeans)"
   ]
  },
  {
   "cell_type": "markdown",
   "id": "2dc8e294",
   "metadata": {
    "papermill": {
     "duration": 0.026408,
     "end_time": "2025-10-23T06:24:23.011367",
     "exception": false,
     "start_time": "2025-10-23T06:24:22.984959",
     "status": "completed"
    },
    "tags": []
   },
   "source": [
    "## ✅ Plot Model\n",
    "This function analyzes the performance of a trained model."
   ]
  },
  {
   "cell_type": "code",
   "execution_count": 38,
   "id": "952b6f24",
   "metadata": {
    "execution": {
     "iopub.execute_input": "2025-10-23T06:24:23.066001Z",
     "iopub.status.busy": "2025-10-23T06:24:23.065697Z",
     "iopub.status.idle": "2025-10-23T06:24:23.721879Z",
     "shell.execute_reply": "2025-10-23T06:24:23.720552Z"
    },
    "papermill": {
     "duration": 0.684596,
     "end_time": "2025-10-23T06:24:23.722779",
     "exception": false,
     "start_time": "2025-10-23T06:24:23.038183",
     "status": "completed"
    },
    "tags": []
   },
   "outputs": [
    {
     "data": {
      "text/html": [],
      "text/plain": [
       "<IPython.core.display.HTML object>"
      ]
     },
     "metadata": {},
     "output_type": "display_data"
    },
    {
     "data": {
      "image/png": "[encoded data removed]",
      "text/plain": [
       "<Figure size 1600x1100 with 1 Axes>"
      ]
     },
     "metadata": {},
     "output_type": "display_data"
    }
   ],
   "source": [
    "# to control the scale of plot\n",
    "plot_model(kmeans, plot = 'elbow', scale = 2)"
   ]
  },
  {
   "cell_type": "code",
   "execution_count": 39,
   "id": "54389270",
   "metadata": {
    "execution": {
     "iopub.execute_input": "2025-10-23T06:24:23.779846Z",
     "iopub.status.busy": "2025-10-23T06:24:23.779535Z",
     "iopub.status.idle": "2025-10-23T06:24:24.433941Z",
     "shell.execute_reply": "2025-10-23T06:24:24.432889Z"
    },
    "papermill": {
     "duration": 0.6843,
     "end_time": "2025-10-23T06:24:24.434742",
     "exception": false,
     "start_time": "2025-10-23T06:24:23.750442",
     "status": "completed"
    },
    "tags": []
   },
   "outputs": [
    {
     "data": {
      "text/html": [],
      "text/plain": [
       "<IPython.core.display.HTML object>"
      ]
     },
     "metadata": {},
     "output_type": "display_data"
    },
    {
     "data": {
      "text/plain": [
       "'Elbow Plot.png'"
      ]
     },
     "execution_count": 39,
     "metadata": {},
     "output_type": "execute_result"
    }
   ],
   "source": [
    "# to save the plot\n",
    "plot_model(kmeans, plot = 'elbow', save=True)"
   ]
  },
  {
   "cell_type": "markdown",
   "id": "2fef279d",
   "metadata": {
    "papermill": {
     "duration": 0.027613,
     "end_time": "2025-10-23T06:24:24.490236",
     "exception": false,
     "start_time": "2025-10-23T06:24:24.462623",
     "status": "completed"
    },
    "tags": []
   },
   "source": [
    "Some other parameters that you might find very useful in `plot_model` are:\n",
    "\n",
    "- feature\n",
    "- label\n",
    "- display_format\n",
    "\n",
    "You can check the docstring of the function for more info."
   ]
  },
  {
   "cell_type": "code",
   "execution_count": 40,
   "id": "54b09b8e",
   "metadata": {
    "execution": {
     "iopub.execute_input": "2025-10-23T06:24:24.547083Z",
     "iopub.status.busy": "2025-10-23T06:24:24.546759Z",
     "iopub.status.idle": "2025-10-23T06:24:24.550505Z",
     "shell.execute_reply": "2025-10-23T06:24:24.549443Z"
    },
    "papermill": {
     "duration": 0.033832,
     "end_time": "2025-10-23T06:24:24.551446",
     "exception": false,
     "start_time": "2025-10-23T06:24:24.517614",
     "status": "completed"
    },
    "tags": []
   },
   "outputs": [],
   "source": [
    "# help(plot_model)"
   ]
  },
  {
   "cell_type": "markdown",
   "id": "ed00202c",
   "metadata": {
    "papermill": {
     "duration": 0.028192,
     "end_time": "2025-10-23T06:24:24.608888",
     "exception": false,
     "start_time": "2025-10-23T06:24:24.580696",
     "status": "completed"
    },
    "tags": []
   },
   "source": [
    "## ✅ Deploy Model\n",
    "This function deploys the entire ML pipeline on the cloud.\n",
    "\n",
    "**AWS:**  When deploying model on AWS S3, environment variables must be configured using the command-line interface. To configure AWS environment variables, type `aws configure` in terminal. The following information is required which can be generated using the Identity and Access Management (IAM) portal of your amazon console account:\n",
    "\n",
    "- AWS Access Key ID\n",
    "- AWS Secret Key Access\n",
    "- Default Region Name (can be seen under Global settings on your AWS console)\n",
    "- Default output format (must be left blank)\n",
    "\n",
    "**GCP:** To deploy a model on Google Cloud Platform ('gcp'), the project must be created using the command-line or GCP console. Once the project is created, you must create a service account and download the service account key as a JSON file to set environment variables in your local environment. Learn more about it: https://cloud.google.com/docs/authentication/production\n",
    "\n",
    "**Azure:** To deploy a model on Microsoft Azure ('azure'), environment variables for the connection string must be set in your local environment. Go to settings of storage account on Azure portal to access the connection string required.\n",
    "AZURE_STORAGE_CONNECTION_STRING (required as environment variable)\n",
    "Learn more about it: https://docs.microsoft.com/en-us/azure/storage/blobs/storage-quickstart-blobs-python?toc=%2Fpython%2Fazure%2FTOC.json"
   ]
  },
  {
   "cell_type": "code",
   "execution_count": 41,
   "id": "40b20a18",
   "metadata": {
    "execution": {
     "iopub.execute_input": "2025-10-23T06:24:24.667536Z",
     "iopub.status.busy": "2025-10-23T06:24:24.667222Z",
     "iopub.status.idle": "2025-10-23T06:24:24.670773Z",
     "shell.execute_reply": "2025-10-23T06:24:24.669739Z"
    },
    "papermill": {
     "duration": 0.03417,
     "end_time": "2025-10-23T06:24:24.671575",
     "exception": false,
     "start_time": "2025-10-23T06:24:24.637405",
     "status": "completed"
    },
    "tags": []
   },
   "outputs": [],
   "source": [
    "# deploy model on aws s3\n",
    "# deploy_model(kmeans, model_name = 'my_first_platform_on_aws',\n",
    "#             platform = 'aws', authentication = {'bucket' : 'pycaret-test'})"
   ]
  },
  {
   "cell_type": "code",
   "execution_count": 42,
   "id": "9e236516",
   "metadata": {
    "execution": {
     "iopub.execute_input": "2025-10-23T06:24:24.730569Z",
     "iopub.status.busy": "2025-10-23T06:24:24.730258Z",
     "iopub.status.idle": "2025-10-23T06:24:24.734232Z",
     "shell.execute_reply": "2025-10-23T06:24:24.732990Z"
    },
    "papermill": {
     "duration": 0.034504,
     "end_time": "2025-10-23T06:24:24.735055",
     "exception": false,
     "start_time": "2025-10-23T06:24:24.700551",
     "status": "completed"
    },
    "tags": []
   },
   "outputs": [],
   "source": [
    "# load model from aws s3\n",
    "# loaded_from_aws = load_model(model_name = 'my_first_platform_on_aws', platform = 'aws',\n",
    "#                              authentication = {'bucket' : 'pycaret-test'})\n",
    "\n",
    "# loaded_from_aws"
   ]
  },
  {
   "cell_type": "markdown",
   "id": "e169ae86",
   "metadata": {
    "papermill": {
     "duration": 0.02817,
     "end_time": "2025-10-23T06:24:24.791528",
     "exception": false,
     "start_time": "2025-10-23T06:24:24.763358",
     "status": "completed"
    },
    "tags": []
   },
   "source": [
    "## ✅ Save / Load Model\n",
    "This function saves the transformation pipeline and a trained model object into the current working directory as a pickle file for later use."
   ]
  },
  {
   "cell_type": "code",
   "execution_count": 43,
   "id": "bc5cf24a",
   "metadata": {
    "execution": {
     "iopub.execute_input": "2025-10-23T06:24:24.850073Z",
     "iopub.status.busy": "2025-10-23T06:24:24.849775Z",
     "iopub.status.idle": "2025-10-23T06:24:25.153644Z",
     "shell.execute_reply": "2025-10-23T06:24:25.152743Z"
    },
    "papermill": {
     "duration": 0.334251,
     "end_time": "2025-10-23T06:24:25.154357",
     "exception": false,
     "start_time": "2025-10-23T06:24:24.820106",
     "status": "completed"
    },
    "tags": []
   },
   "outputs": [
    {
     "name": "stdout",
     "output_type": "stream",
     "text": [
      "Transformation Pipeline and Model Successfully Saved\n"
     ]
    },
    {
     "data": {
      "text/plain": [
       "(Pipeline(memory=Memory(location=None),\n",
       "          steps=[('numerical_imputer',\n",
       "                  TransformerWrapper(include=['CustomerID', 'Age',\n",
       "                                              'Annual Income (k$)',\n",
       "                                              'Spending Score (1-100)'],\n",
       "                                     transformer=SimpleImputer())),\n",
       "                 ('categorical_imputer',\n",
       "                  TransformerWrapper(include=['Gender'],\n",
       "                                     transformer=SimpleImputer(strategy='most_frequent'))),\n",
       "                 ('ordinal_encoding',\n",
       "                  TransformerWrapper(include=['Gender'],\n",
       "                                     transformer=OrdinalEncoder(cols=['Gender'],\n",
       "                                                                handle_missing='return_nan',\n",
       "                                                                mapping=[{'col': 'Gender',\n",
       "                                                                          'data_type': dtype('O'),\n",
       "                                                                          'mapping': Female    0\n",
       " Male      1\n",
       " NaN      -1\n",
       " dtype: int64}]))),\n",
       "                 ('normalize', TransformerWrapper(transformer=MinMaxScaler())),\n",
       "                 ('trained_model', KMeans(n_clusters=4, random_state=123))]),\n",
       " 'my_first_model.pkl')"
      ]
     },
     "execution_count": 43,
     "metadata": {},
     "output_type": "execute_result"
    }
   ],
   "source": [
    "# save model\n",
    "save_model(kmeans, 'my_first_model')"
   ]
  },
  {
   "cell_type": "code",
   "execution_count": 44,
   "id": "e8478d34",
   "metadata": {
    "execution": {
     "iopub.execute_input": "2025-10-23T06:24:25.211632Z",
     "iopub.status.busy": "2025-10-23T06:24:25.211350Z",
     "iopub.status.idle": "2025-10-23T06:24:25.268775Z",
     "shell.execute_reply": "2025-10-23T06:24:25.267838Z"
    },
    "papermill": {
     "duration": 0.087311,
     "end_time": "2025-10-23T06:24:25.269484",
     "exception": false,
     "start_time": "2025-10-23T06:24:25.182173",
     "status": "completed"
    },
    "tags": []
   },
   "outputs": [
    {
     "name": "stdout",
     "output_type": "stream",
     "text": [
      "Transformation Pipeline and Model Successfully Loaded\n"
     ]
    },
    {
     "data": {
      "text/html": [
       "<style>#sk-container-id-3 {\n",
       "  /* Definition of color scheme common for light and dark mode */\n",
       "  --sklearn-color-text: black;\n",
       "  --sklearn-color-line: gray;\n",
       "  /* Definition of color scheme for unfitted estimators */\n",
       "  --sklearn-color-unfitted-level-0: #fff5e6;\n",
       "  --sklearn-color-unfitted-level-1: #f6e4d2;\n",
       "  --sklearn-color-unfitted-level-2: #ffe0b3;\n",
       "  --sklearn-color-unfitted-level-3: chocolate;\n",
       "  /* Definition of color scheme for fitted estimators */\n",
       "  --sklearn-color-fitted-level-0: #f0f8ff;\n",
       "  --sklearn-color-fitted-level-1: #d4ebff;\n",
       "  --sklearn-color-fitted-level-2: #b3dbfd;\n",
       "  --sklearn-color-fitted-level-3: cornflowerblue;\n",
       "\n",
       "  /* Specific color for light theme */\n",
       "  --sklearn-color-text-on-default-background: var(--sg-text-color, var(--theme-code-foreground, var(--jp-content-font-color1, black)));\n",
       "  --sklearn-color-background: var(--sg-background-color, var(--theme-background, var(--jp-layout-color0, white)));\n",
       "  --sklearn-color-border-box: var(--sg-text-color, var(--theme-code-foreground, var(--jp-content-font-color1, black)));\n",
       "  --sklearn-color-icon: #696969;\n",
       "\n",
       "  @media (prefers-color-scheme: dark) {\n",
       "    /* Redefinition of color scheme for dark theme */\n",
       "    --sklearn-color-text-on-default-background: var(--sg-text-color, var(--theme-code-foreground, var(--jp-content-font-color1, white)));\n",
       "    --sklearn-color-background: var(--sg-background-color, var(--theme-background, var(--jp-layout-color0, #111)));\n",
       "    --sklearn-color-border-box: var(--sg-text-color, var(--theme-code-foreground, var(--jp-content-font-color1, white)));\n",
       "    --sklearn-color-icon: #878787;\n",
       "  }\n",
       "}\n",
       "\n",
       "#sk-container-id-3 {\n",
       "  color: var(--sklearn-color-text);\n",
       "}\n",
       "\n",
       "#sk-container-id-3 pre {\n",
       "  padding: 0;\n",
       "}\n",
       "\n",
       "#sk-container-id-3 input.sk-hidden--visually {\n",
       "  border: 0;\n",
       "  clip: rect(1px 1px 1px 1px);\n",
       "  clip: rect(1px, 1px, 1px, 1px);\n",
       "  height: 1px;\n",
       "  margin: -1px;\n",
       "  overflow: hidden;\n",
       "  padding: 0;\n",
       "  position: absolute;\n",
       "  width: 1px;\n",
       "}\n",
       "\n",
       "#sk-container-id-3 div.sk-dashed-wrapped {\n",
       "  border: 1px dashed var(--sklearn-color-line);\n",
       "  margin: 0 0.4em 0.5em 0.4em;\n",
       "  box-sizing: border-box;\n",
       "  padding-bottom: 0.4em;\n",
       "  background-color: var(--sklearn-color-background);\n",
       "}\n",
       "\n",
       "#sk-container-id-3 div.sk-container {\n",
       "  /* jupyter's `normalize.less` sets `[hidden] { display: none; }`\n",
       "     but bootstrap.min.css set `[hidden] { display: none !important; }`\n",
       "     so we also need the `!important` here to be able to override the\n",
       "     default hidden behavior on the sphinx rendered scikit-learn.org.\n",
       "     See: https://github.com/scikit-learn/scikit-learn/issues/21755 */\n",
       "  display: inline-block !important;\n",
       "  position: relative;\n",
       "}\n",
       "\n",
       "#sk-container-id-3 div.sk-text-repr-fallback {\n",
       "  display: none;\n",
       "}\n",
       "\n",
       "div.sk-parallel-item,\n",
       "div.sk-serial,\n",
       "div.sk-item {\n",
       "  /* draw centered vertical line to link estimators */\n",
       "  background-image: linear-gradient(var(--sklearn-color-text-on-default-background), var(--sklearn-color-text-on-default-background));\n",
       "  background-size: 2px 100%;\n",
       "  background-repeat: no-repeat;\n",
       "  background-position: center center;\n",
       "}\n",
       "\n",
       "/* Parallel-specific style estimator block */\n",
       "\n",
       "#sk-container-id-3 div.sk-parallel-item::after {\n",
       "  content: \"\";\n",
       "  width: 100%;\n",
       "  border-bottom: 2px solid var(--sklearn-color-text-on-default-background);\n",
       "  flex-grow: 1;\n",
       "}\n",
       "\n",
       "#sk-container-id-3 div.sk-parallel {\n",
       "  display: flex;\n",
       "  align-items: stretch;\n",
       "  justify-content: center;\n",
       "  background-color: var(--sklearn-color-background);\n",
       "  position: relative;\n",
       "}\n",
       "\n",
       "#sk-container-id-3 div.sk-parallel-item {\n",
       "  display: flex;\n",
       "  flex-direction: column;\n",
       "}\n",
       "\n",
       "#sk-container-id-3 div.sk-parallel-item:first-child::after {\n",
       "  align-self: flex-end;\n",
       "  width: 50%;\n",
       "}\n",
       "\n",
       "#sk-container-id-3 div.sk-parallel-item:last-child::after {\n",
       "  align-self: flex-start;\n",
       "  width: 50%;\n",
       "}\n",
       "\n",
       "#sk-container-id-3 div.sk-parallel-item:only-child::after {\n",
       "  width: 0;\n",
       "}\n",
       "\n",
       "/* Serial-specific style estimator block */\n",
       "\n",
       "#sk-container-id-3 div.sk-serial {\n",
       "  display: flex;\n",
       "  flex-direction: column;\n",
       "  align-items: center;\n",
       "  background-color: var(--sklearn-color-background);\n",
       "  padding-right: 1em;\n",
       "  padding-left: 1em;\n",
       "}\n",
       "\n",
       "\n",
       "/* Toggleable style: style used for estimator/Pipeline/ColumnTransformer box that is\n",
       "clickable and can be expanded/collapsed.\n",
       "- Pipeline and ColumnTransformer use this feature and define the default style\n",
       "- Estimators will overwrite some part of the style using the `sk-estimator` class\n",
       "*/\n",
       "\n",
       "/* Pipeline and ColumnTransformer style (default) */\n",
       "\n",
       "#sk-container-id-3 div.sk-toggleable {\n",
       "  /* Default theme specific background. It is overwritten whether we have a\n",
       "  specific estimator or a Pipeline/ColumnTransformer */\n",
       "  background-color: var(--sklearn-color-background);\n",
       "}\n",
       "\n",
       "/* Toggleable label */\n",
       "#sk-container-id-3 label.sk-toggleable__label {\n",
       "  cursor: pointer;\n",
       "  display: block;\n",
       "  width: 100%;\n",
       "  margin-bottom: 0;\n",
       "  padding: 0.5em;\n",
       "  box-sizing: border-box;\n",
       "  text-align: center;\n",
       "}\n",
       "\n",
       "#sk-container-id-3 label.sk-toggleable__label-arrow:before {\n",
       "  /* Arrow on the left of the label */\n",
       "  content: \"▸\";\n",
       "  float: left;\n",
       "  margin-right: 0.25em;\n",
       "  color: var(--sklearn-color-icon);\n",
       "}\n",
       "\n",
       "#sk-container-id-3 label.sk-toggleable__label-arrow:hover:before {\n",
       "  color: var(--sklearn-color-text);\n",
       "}\n",
       "\n",
       "/* Toggleable content - dropdown */\n",
       "\n",
       "#sk-container-id-3 div.sk-toggleable__content {\n",
       "  max-height: 0;\n",
       "  max-width: 0;\n",
       "  overflow: hidden;\n",
       "  text-align: left;\n",
       "  /* unfitted */\n",
       "  background-color: var(--sklearn-color-unfitted-level-0);\n",
       "}\n",
       "\n",
       "#sk-container-id-3 div.sk-toggleable__content.fitted {\n",
       "  /* fitted */\n",
       "  background-color: var(--sklearn-color-fitted-level-0);\n",
       "}\n",
       "\n",
       "#sk-container-id-3 div.sk-toggleable__content pre {\n",
       "  margin: 0.2em;\n",
       "  border-radius: 0.25em;\n",
       "  color: var(--sklearn-color-text);\n",
       "  /* unfitted */\n",
       "  background-color: var(--sklearn-color-unfitted-level-0);\n",
       "}\n",
       "\n",
       "#sk-container-id-3 div.sk-toggleable__content.fitted pre {\n",
       "  /* unfitted */\n",
       "  background-color: var(--sklearn-color-fitted-level-0);\n",
       "}\n",
       "\n",
       "#sk-container-id-3 input.sk-toggleable__control:checked~div.sk-toggleable__content {\n",
       "  /* Expand drop-down */\n",
       "  max-height: 200px;\n",
       "  max-width: 100%;\n",
       "  overflow: auto;\n",
       "}\n",
       "\n",
       "#sk-container-id-3 input.sk-toggleable__control:checked~label.sk-toggleable__label-arrow:before {\n",
       "  content: \"▾\";\n",
       "}\n",
       "\n",
       "/* Pipeline/ColumnTransformer-specific style */\n",
       "\n",
       "#sk-container-id-3 div.sk-label input.sk-toggleable__control:checked~label.sk-toggleable__label {\n",
       "  color: var(--sklearn-color-text);\n",
       "  background-color: var(--sklearn-color-unfitted-level-2);\n",
       "}\n",
       "\n",
       "#sk-container-id-3 div.sk-label.fitted input.sk-toggleable__control:checked~label.sk-toggleable__label {\n",
       "  background-color: var(--sklearn-color-fitted-level-2);\n",
       "}\n",
       "\n",
       "/* Estimator-specific style */\n",
       "\n",
       "/* Colorize estimator box */\n",
       "#sk-container-id-3 div.sk-estimator input.sk-toggleable__control:checked~label.sk-toggleable__label {\n",
       "  /* unfitted */\n",
       "  background-color: var(--sklearn-color-unfitted-level-2);\n",
       "}\n",
       "\n",
       "#sk-container-id-3 div.sk-estimator.fitted input.sk-toggleable__control:checked~label.sk-toggleable__label {\n",
       "  /* fitted */\n",
       "  background-color: var(--sklearn-color-fitted-level-2);\n",
       "}\n",
       "\n",
       "#sk-container-id-3 div.sk-label label.sk-toggleable__label,\n",
       "#sk-container-id-3 div.sk-label label {\n",
       "  /* The background is the default theme color */\n",
       "  color: var(--sklearn-color-text-on-default-background);\n",
       "}\n",
       "\n",
       "/* On hover, darken the color of the background */\n",
       "#sk-container-id-3 div.sk-label:hover label.sk-toggleable__label {\n",
       "  color: var(--sklearn-color-text);\n",
       "  background-color: var(--sklearn-color-unfitted-level-2);\n",
       "}\n",
       "\n",
       "/* Label box, darken color on hover, fitted */\n",
       "#sk-container-id-3 div.sk-label.fitted:hover label.sk-toggleable__label.fitted {\n",
       "  color: var(--sklearn-color-text);\n",
       "  background-color: var(--sklearn-color-fitted-level-2);\n",
       "}\n",
       "\n",
       "/* Estimator label */\n",
       "\n",
       "#sk-container-id-3 div.sk-label label {\n",
       "  font-family: monospace;\n",
       "  font-weight: bold;\n",
       "  display: inline-block;\n",
       "  line-height: 1.2em;\n",
       "}\n",
       "\n",
       "#sk-container-id-3 div.sk-label-container {\n",
       "  text-align: center;\n",
       "}\n",
       "\n",
       "/* Estimator-specific */\n",
       "#sk-container-id-3 div.sk-estimator {\n",
       "  font-family: monospace;\n",
       "  border: 1px dotted var(--sklearn-color-border-box);\n",
       "  border-radius: 0.25em;\n",
       "  box-sizing: border-box;\n",
       "  margin-bottom: 0.5em;\n",
       "  /* unfitted */\n",
       "  background-color: var(--sklearn-color-unfitted-level-0);\n",
       "}\n",
       "\n",
       "#sk-container-id-3 div.sk-estimator.fitted {\n",
       "  /* fitted */\n",
       "  background-color: var(--sklearn-color-fitted-level-0);\n",
       "}\n",
       "\n",
       "/* on hover */\n",
       "#sk-container-id-3 div.sk-estimator:hover {\n",
       "  /* unfitted */\n",
       "  background-color: var(--sklearn-color-unfitted-level-2);\n",
       "}\n",
       "\n",
       "#sk-container-id-3 div.sk-estimator.fitted:hover {\n",
       "  /* fitted */\n",
       "  background-color: var(--sklearn-color-fitted-level-2);\n",
       "}\n",
       "\n",
       "/* Specification for estimator info (e.g. \"i\" and \"?\") */\n",
       "\n",
       "/* Common style for \"i\" and \"?\" */\n",
       "\n",
       ".sk-estimator-doc-link,\n",
       "a:link.sk-estimator-doc-link,\n",
       "a:visited.sk-estimator-doc-link {\n",
       "  float: right;\n",
       "  font-size: smaller;\n",
       "  line-height: 1em;\n",
       "  font-family: monospace;\n",
       "  background-color: var(--sklearn-color-background);\n",
       "  border-radius: 1em;\n",
       "  height: 1em;\n",
       "  width: 1em;\n",
       "  text-decoration: none !important;\n",
       "  margin-left: 1ex;\n",
       "  /* unfitted */\n",
       "  border: var(--sklearn-color-unfitted-level-1) 1pt solid;\n",
       "  color: var(--sklearn-color-unfitted-level-1);\n",
       "}\n",
       "\n",
       ".sk-estimator-doc-link.fitted,\n",
       "a:link.sk-estimator-doc-link.fitted,\n",
       "a:visited.sk-estimator-doc-link.fitted {\n",
       "  /* fitted */\n",
       "  border: var(--sklearn-color-fitted-level-1) 1pt solid;\n",
       "  color: var(--sklearn-color-fitted-level-1);\n",
       "}\n",
       "\n",
       "/* On hover */\n",
       "div.sk-estimator:hover .sk-estimator-doc-link:hover,\n",
       ".sk-estimator-doc-link:hover,\n",
       "div.sk-label-container:hover .sk-estimator-doc-link:hover,\n",
       ".sk-estimator-doc-link:hover {\n",
       "  /* unfitted */\n",
       "  background-color: var(--sklearn-color-unfitted-level-3);\n",
       "  color: var(--sklearn-color-background);\n",
       "  text-decoration: none;\n",
       "}\n",
       "\n",
       "div.sk-estimator.fitted:hover .sk-estimator-doc-link.fitted:hover,\n",
       ".sk-estimator-doc-link.fitted:hover,\n",
       "div.sk-label-container:hover .sk-estimator-doc-link.fitted:hover,\n",
       ".sk-estimator-doc-link.fitted:hover {\n",
       "  /* fitted */\n",
       "  background-color: var(--sklearn-color-fitted-level-3);\n",
       "  color: var(--sklearn-color-background);\n",
       "  text-decoration: none;\n",
       "}\n",
       "\n",
       "/* Span, style for the box shown on hovering the info icon */\n",
       ".sk-estimator-doc-link span {\n",
       "  display: none;\n",
       "  z-index: 9999;\n",
       "  position: relative;\n",
       "  font-weight: normal;\n",
       "  right: .2ex;\n",
       "  padding: .5ex;\n",
       "  margin: .5ex;\n",
       "  width: min-content;\n",
       "  min-width: 20ex;\n",
       "  max-width: 50ex;\n",
       "  color: var(--sklearn-color-text);\n",
       "  box-shadow: 2pt 2pt 4pt #999;\n",
       "  /* unfitted */\n",
       "  background: var(--sklearn-color-unfitted-level-0);\n",
       "  border: .5pt solid var(--sklearn-color-unfitted-level-3);\n",
       "}\n",
       "\n",
       ".sk-estimator-doc-link.fitted span {\n",
       "  /* fitted */\n",
       "  background: var(--sklearn-color-fitted-level-0);\n",
       "  border: var(--sklearn-color-fitted-level-3);\n",
       "}\n",
       "\n",
       ".sk-estimator-doc-link:hover span {\n",
       "  display: block;\n",
       "}\n",
       "\n",
       "/* \"?\"-specific style due to the `<a>` HTML tag */\n",
       "\n",
       "#sk-container-id-3 a.estimator_doc_link {\n",
       "  float: right;\n",
       "  font-size: 1rem;\n",
       "  line-height: 1em;\n",
       "  font-family: monospace;\n",
       "  background-color: var(--sklearn-color-background);\n",
       "  border-radius: 1rem;\n",
       "  height: 1rem;\n",
       "  width: 1rem;\n",
       "  text-decoration: none;\n",
       "  /* unfitted */\n",
       "  color: var(--sklearn-color-unfitted-level-1);\n",
       "  border: var(--sklearn-color-unfitted-level-1) 1pt solid;\n",
       "}\n",
       "\n",
       "#sk-container-id-3 a.estimator_doc_link.fitted {\n",
       "  /* fitted */\n",
       "  border: var(--sklearn-color-fitted-level-1) 1pt solid;\n",
       "  color: var(--sklearn-color-fitted-level-1);\n",
       "}\n",
       "\n",
       "/* On hover */\n",
       "#sk-container-id-3 a.estimator_doc_link:hover {\n",
       "  /* unfitted */\n",
       "  background-color: var(--sklearn-color-unfitted-level-3);\n",
       "  color: var(--sklearn-color-background);\n",
       "  text-decoration: none;\n",
       "}\n",
       "\n",
       "#sk-container-id-3 a.estimator_doc_link.fitted:hover {\n",
       "  /* fitted */\n",
       "  background-color: var(--sklearn-color-fitted-level-3);\n",
       "}\n",
       "</style><div id=\"sk-container-id-3\" class=\"sk-top-container\"><div class=\"sk-text-repr-fallback\"><pre>Pipeline(memory=FastMemory(location=/var/tmp/joblib),\n",
       "         steps=[(&#x27;numerical_imputer&#x27;,\n",
       "                 TransformerWrapper(include=[&#x27;CustomerID&#x27;, &#x27;Age&#x27;,\n",
       "                                             &#x27;Annual Income (k$)&#x27;,\n",
       "                                             &#x27;Spending Score (1-100)&#x27;],\n",
       "                                    transformer=SimpleImputer())),\n",
       "                (&#x27;categorical_imputer&#x27;,\n",
       "                 TransformerWrapper(include=[&#x27;Gender&#x27;],\n",
       "                                    transformer=SimpleImputer(strategy=&#x27;most_frequent&#x27;))),\n",
       "                (&#x27;ordinal_encoding&#x27;,\n",
       "                 TransformerWrapper(include=[&#x27;Gender&#x27;],\n",
       "                                    transformer=OrdinalEncoder(cols=[&#x27;Gender&#x27;],\n",
       "                                                               handle_missing=&#x27;return_nan&#x27;,\n",
       "                                                               mapping=[{&#x27;col&#x27;: &#x27;Gender&#x27;,\n",
       "                                                                         &#x27;data_type&#x27;: dtype(&#x27;O&#x27;),\n",
       "                                                                         &#x27;mapping&#x27;: Female    0\n",
       "Male      1\n",
       "NaN      -1\n",
       "dtype: int64}]))),\n",
       "                (&#x27;normalize&#x27;, TransformerWrapper(transformer=MinMaxScaler())),\n",
       "                (&#x27;trained_model&#x27;, KMeans(n_clusters=4, random_state=123))])</pre><b>In a Jupyter environment, please rerun this cell to show the HTML representation or trust the notebook. <br />On GitHub, the HTML representation is unable to render, please try loading this page with nbviewer.org.</b></div><div class=\"sk-container\" hidden><div class=\"sk-item sk-dashed-wrapped\"><div class=\"sk-label-container\"><div class=\"sk-label fitted sk-toggleable\"><input class=\"sk-toggleable__control sk-hidden--visually\" id=\"sk-estimator-id-13\" type=\"checkbox\" ><label for=\"sk-estimator-id-13\" class=\"sk-toggleable__label fitted sk-toggleable__label-arrow fitted\">&nbsp;Pipeline<span class=\"sk-estimator-doc-link fitted\">i<span>Fitted</span></span></label><div class=\"sk-toggleable__content fitted\"><pre>Pipeline(memory=FastMemory(location=/var/tmp/joblib),\n",
       "         steps=[(&#x27;numerical_imputer&#x27;,\n",
       "                 TransformerWrapper(include=[&#x27;CustomerID&#x27;, &#x27;Age&#x27;,\n",
       "                                             &#x27;Annual Income (k$)&#x27;,\n",
       "                                             &#x27;Spending Score (1-100)&#x27;],\n",
       "                                    transformer=SimpleImputer())),\n",
       "                (&#x27;categorical_imputer&#x27;,\n",
       "                 TransformerWrapper(include=[&#x27;Gender&#x27;],\n",
       "                                    transformer=SimpleImputer(strategy=&#x27;most_frequent&#x27;))),\n",
       "                (&#x27;ordinal_encoding&#x27;,\n",
       "                 TransformerWrapper(include=[&#x27;Gender&#x27;],\n",
       "                                    transformer=OrdinalEncoder(cols=[&#x27;Gender&#x27;],\n",
       "                                                               handle_missing=&#x27;return_nan&#x27;,\n",
       "                                                               mapping=[{&#x27;col&#x27;: &#x27;Gender&#x27;,\n",
       "                                                                         &#x27;data_type&#x27;: dtype(&#x27;O&#x27;),\n",
       "                                                                         &#x27;mapping&#x27;: Female    0\n",
       "Male      1\n",
       "NaN      -1\n",
       "dtype: int64}]))),\n",
       "                (&#x27;normalize&#x27;, TransformerWrapper(transformer=MinMaxScaler())),\n",
       "                (&#x27;trained_model&#x27;, KMeans(n_clusters=4, random_state=123))])</pre></div> </div></div><div class=\"sk-serial\"><div class=\"sk-item sk-dashed-wrapped\"><div class=\"sk-label-container\"><div class=\"sk-label fitted sk-toggleable\"><input class=\"sk-toggleable__control sk-hidden--visually\" id=\"sk-estimator-id-14\" type=\"checkbox\" ><label for=\"sk-estimator-id-14\" class=\"sk-toggleable__label fitted sk-toggleable__label-arrow fitted\">numerical_imputer: TransformerWrapper</label><div class=\"sk-toggleable__content fitted\"><pre>TransformerWrapper(include=[&#x27;CustomerID&#x27;, &#x27;Age&#x27;, &#x27;Annual Income (k$)&#x27;,\n",
       "                            &#x27;Spending Score (1-100)&#x27;],\n",
       "                   transformer=SimpleImputer())</pre></div> </div></div><div class=\"sk-parallel\"><div class=\"sk-parallel-item\"><div class=\"sk-item\"><div class=\"sk-label-container\"><div class=\"sk-label fitted sk-toggleable\"><input class=\"sk-toggleable__control sk-hidden--visually\" id=\"sk-estimator-id-15\" type=\"checkbox\" ><label for=\"sk-estimator-id-15\" class=\"sk-toggleable__label fitted sk-toggleable__label-arrow fitted\">transformer: SimpleImputer</label><div class=\"sk-toggleable__content fitted\"><pre>SimpleImputer()</pre></div> </div></div><div class=\"sk-serial\"><div class=\"sk-item\"><div class=\"sk-estimator fitted sk-toggleable\"><input class=\"sk-toggleable__control sk-hidden--visually\" id=\"sk-estimator-id-16\" type=\"checkbox\" ><label for=\"sk-estimator-id-16\" class=\"sk-toggleable__label fitted sk-toggleable__label-arrow fitted\">&nbsp;SimpleImputer<a class=\"sk-estimator-doc-link fitted\" rel=\"noreferrer\" target=\"_blank\" href=\"https://scikit-learn.org/1.4/modules/generated/sklearn.impute.SimpleImputer.html\">?<span>Documentation for SimpleImputer</span></a></label><div class=\"sk-toggleable__content fitted\"><pre>SimpleImputer()</pre></div> </div></div></div></div></div></div></div><div class=\"sk-item sk-dashed-wrapped\"><div class=\"sk-label-container\"><div class=\"sk-label fitted sk-toggleable\"><input class=\"sk-toggleable__control sk-hidden--visually\" id=\"sk-estimator-id-17\" type=\"checkbox\" ><label for=\"sk-estimator-id-17\" class=\"sk-toggleable__label fitted sk-toggleable__label-arrow fitted\">categorical_imputer: TransformerWrapper</label><div class=\"sk-toggleable__content fitted\"><pre>TransformerWrapper(include=[&#x27;Gender&#x27;],\n",
       "                   transformer=SimpleImputer(strategy=&#x27;most_frequent&#x27;))</pre></div> </div></div><div class=\"sk-parallel\"><div class=\"sk-parallel-item\"><div class=\"sk-item\"><div class=\"sk-label-container\"><div class=\"sk-label fitted sk-toggleable\"><input class=\"sk-toggleable__control sk-hidden--visually\" id=\"sk-estimator-id-18\" type=\"checkbox\" ><label for=\"sk-estimator-id-18\" class=\"sk-toggleable__label fitted sk-toggleable__label-arrow fitted\">transformer: SimpleImputer</label><div class=\"sk-toggleable__content fitted\"><pre>SimpleImputer(strategy=&#x27;most_frequent&#x27;)</pre></div> </div></div><div class=\"sk-serial\"><div class=\"sk-item\"><div class=\"sk-estimator fitted sk-toggleable\"><input class=\"sk-toggleable__control sk-hidden--visually\" id=\"sk-estimator-id-19\" type=\"checkbox\" ><label for=\"sk-estimator-id-19\" class=\"sk-toggleable__label fitted sk-toggleable__label-arrow fitted\">&nbsp;SimpleImputer<a class=\"sk-estimator-doc-link fitted\" rel=\"noreferrer\" target=\"_blank\" href=\"https://scikit-learn.org/1.4/modules/generated/sklearn.impute.SimpleImputer.html\">?<span>Documentation for SimpleImputer</span></a></label><div class=\"sk-toggleable__content fitted\"><pre>SimpleImputer(strategy=&#x27;most_frequent&#x27;)</pre></div> </div></div></div></div></div></div></div><div class=\"sk-item sk-dashed-wrapped\"><div class=\"sk-label-container\"><div class=\"sk-label fitted sk-toggleable\"><input class=\"sk-toggleable__control sk-hidden--visually\" id=\"sk-estimator-id-20\" type=\"checkbox\" ><label for=\"sk-estimator-id-20\" class=\"sk-toggleable__label fitted sk-toggleable__label-arrow fitted\">ordinal_encoding: TransformerWrapper</label><div class=\"sk-toggleable__content fitted\"><pre>TransformerWrapper(include=[&#x27;Gender&#x27;],\n",
       "                   transformer=OrdinalEncoder(cols=[&#x27;Gender&#x27;],\n",
       "                                              handle_missing=&#x27;return_nan&#x27;,\n",
       "                                              mapping=[{&#x27;col&#x27;: &#x27;Gender&#x27;,\n",
       "                                                        &#x27;data_type&#x27;: dtype(&#x27;O&#x27;),\n",
       "                                                        &#x27;mapping&#x27;: Female    0\n",
       "Male      1\n",
       "NaN      -1\n",
       "dtype: int64}]))</pre></div> </div></div><div class=\"sk-parallel\"><div class=\"sk-parallel-item\"><div class=\"sk-item\"><div class=\"sk-label-container\"><div class=\"sk-label fitted sk-toggleable\"><input class=\"sk-toggleable__control sk-hidden--visually\" id=\"sk-estimator-id-21\" type=\"checkbox\" ><label for=\"sk-estimator-id-21\" class=\"sk-toggleable__label fitted sk-toggleable__label-arrow fitted\">transformer: OrdinalEncoder</label><div class=\"sk-toggleable__content fitted\"><pre>OrdinalEncoder(cols=[&#x27;Gender&#x27;], handle_missing=&#x27;return_nan&#x27;,\n",
       "               mapping=[{&#x27;col&#x27;: &#x27;Gender&#x27;, &#x27;data_type&#x27;: dtype(&#x27;O&#x27;),\n",
       "                         &#x27;mapping&#x27;: Female    0\n",
       "Male      1\n",
       "NaN      -1\n",
       "dtype: int64}])</pre></div> </div></div><div class=\"sk-serial\"><div class=\"sk-item\"><div class=\"sk-estimator fitted sk-toggleable\"><input class=\"sk-toggleable__control sk-hidden--visually\" id=\"sk-estimator-id-22\" type=\"checkbox\" ><label for=\"sk-estimator-id-22\" class=\"sk-toggleable__label fitted sk-toggleable__label-arrow fitted\">OrdinalEncoder</label><div class=\"sk-toggleable__content fitted\"><pre>OrdinalEncoder(cols=[&#x27;Gender&#x27;], handle_missing=&#x27;return_nan&#x27;,\n",
       "               mapping=[{&#x27;col&#x27;: &#x27;Gender&#x27;, &#x27;data_type&#x27;: dtype(&#x27;O&#x27;),\n",
       "                         &#x27;mapping&#x27;: Female    0\n",
       "Male      1\n",
       "NaN      -1\n",
       "dtype: int64}])</pre></div> </div></div></div></div></div></div></div><div class=\"sk-item sk-dashed-wrapped\"><div class=\"sk-label-container\"><div class=\"sk-label fitted sk-toggleable\"><input class=\"sk-toggleable__control sk-hidden--visually\" id=\"sk-estimator-id-23\" type=\"checkbox\" ><label for=\"sk-estimator-id-23\" class=\"sk-toggleable__label fitted sk-toggleable__label-arrow fitted\">normalize: TransformerWrapper</label><div class=\"sk-toggleable__content fitted\"><pre>TransformerWrapper(transformer=MinMaxScaler())</pre></div> </div></div><div class=\"sk-parallel\"><div class=\"sk-parallel-item\"><div class=\"sk-item\"><div class=\"sk-label-container\"><div class=\"sk-label fitted sk-toggleable\"><input class=\"sk-toggleable__control sk-hidden--visually\" id=\"sk-estimator-id-24\" type=\"checkbox\" ><label for=\"sk-estimator-id-24\" class=\"sk-toggleable__label fitted sk-toggleable__label-arrow fitted\">transformer: MinMaxScaler</label><div class=\"sk-toggleable__content fitted\"><pre>MinMaxScaler()</pre></div> </div></div><div class=\"sk-serial\"><div class=\"sk-item\"><div class=\"sk-estimator fitted sk-toggleable\"><input class=\"sk-toggleable__control sk-hidden--visually\" id=\"sk-estimator-id-25\" type=\"checkbox\" ><label for=\"sk-estimator-id-25\" class=\"sk-toggleable__label fitted sk-toggleable__label-arrow fitted\">&nbsp;MinMaxScaler<a class=\"sk-estimator-doc-link fitted\" rel=\"noreferrer\" target=\"_blank\" href=\"https://scikit-learn.org/1.4/modules/generated/sklearn.preprocessing.MinMaxScaler.html\">?<span>Documentation for MinMaxScaler</span></a></label><div class=\"sk-toggleable__content fitted\"><pre>MinMaxScaler()</pre></div> </div></div></div></div></div></div></div><div class=\"sk-item\"><div class=\"sk-estimator fitted sk-toggleable\"><input class=\"sk-toggleable__control sk-hidden--visually\" id=\"sk-estimator-id-26\" type=\"checkbox\" ><label for=\"sk-estimator-id-26\" class=\"sk-toggleable__label fitted sk-toggleable__label-arrow fitted\">&nbsp;KMeans<a class=\"sk-estimator-doc-link fitted\" rel=\"noreferrer\" target=\"_blank\" href=\"https://scikit-learn.org/1.4/modules/generated/sklearn.cluster.KMeans.html\">?<span>Documentation for KMeans</span></a></label><div class=\"sk-toggleable__content fitted\"><pre>KMeans(n_clusters=4, random_state=123)</pre></div> </div></div></div></div></div></div>"
      ],
      "text/plain": [
       "Pipeline(memory=FastMemory(location=/var/tmp/joblib),\n",
       "         steps=[('numerical_imputer',\n",
       "                 TransformerWrapper(include=['CustomerID', 'Age',\n",
       "                                             'Annual Income (k$)',\n",
       "                                             'Spending Score (1-100)'],\n",
       "                                    transformer=SimpleImputer())),\n",
       "                ('categorical_imputer',\n",
       "                 TransformerWrapper(include=['Gender'],\n",
       "                                    transformer=SimpleImputer(strategy='most_frequent'))),\n",
       "                ('ordinal_encoding',\n",
       "                 TransformerWrapper(include=['Gender'],\n",
       "                                    transformer=OrdinalEncoder(cols=['Gender'],\n",
       "                                                               handle_missing='return_nan',\n",
       "                                                               mapping=[{'col': 'Gender',\n",
       "                                                                         'data_type': dtype('O'),\n",
       "                                                                         'mapping': Female    0\n",
       "Male      1\n",
       "NaN      -1\n",
       "dtype: int64}]))),\n",
       "                ('normalize', TransformerWrapper(transformer=MinMaxScaler())),\n",
       "                ('trained_model', KMeans(n_clusters=4, random_state=123))])"
      ]
     },
     "execution_count": 44,
     "metadata": {},
     "output_type": "execute_result"
    }
   ],
   "source": [
    "# load model\n",
    "loaded_from_disk = load_model('my_first_model')\n",
    "loaded_from_disk"
   ]
  },
  {
   "cell_type": "markdown",
   "id": "de5eee8c",
   "metadata": {
    "papermill": {
     "duration": 0.028303,
     "end_time": "2025-10-23T06:24:25.326594",
     "exception": false,
     "start_time": "2025-10-23T06:24:25.298291",
     "status": "completed"
    },
    "tags": []
   },
   "source": [
    "## ✅ Save / Load Experiment\n",
    "This function saves all the experiment variables on disk, allowing to later resume without rerunning the setup function."
   ]
  },
  {
   "cell_type": "code",
   "execution_count": 45,
   "id": "6a3c61b6",
   "metadata": {
    "execution": {
     "iopub.execute_input": "2025-10-23T06:24:25.384430Z",
     "iopub.status.busy": "2025-10-23T06:24:25.384120Z",
     "iopub.status.idle": "2025-10-23T06:24:25.390024Z",
     "shell.execute_reply": "2025-10-23T06:24:25.389114Z"
    },
    "papermill": {
     "duration": 0.036275,
     "end_time": "2025-10-23T06:24:25.391013",
     "exception": false,
     "start_time": "2025-10-23T06:24:25.354738",
     "status": "completed"
    },
    "tags": []
   },
   "outputs": [],
   "source": [
    "# save experiment\n",
    "save_experiment('my_experiment')"
   ]
  },
  {
   "cell_type": "code",
   "execution_count": 46,
   "id": "83252c09",
   "metadata": {
    "execution": {
     "iopub.execute_input": "2025-10-23T06:24:25.450117Z",
     "iopub.status.busy": "2025-10-23T06:24:25.449828Z",
     "iopub.status.idle": "2025-10-23T06:24:25.561112Z",
     "shell.execute_reply": "2025-10-23T06:24:25.560200Z"
    },
    "papermill": {
     "duration": 0.141977,
     "end_time": "2025-10-23T06:24:25.561843",
     "exception": false,
     "start_time": "2025-10-23T06:24:25.419866",
     "status": "completed"
    },
    "tags": []
   },
   "outputs": [
    {
     "data": {
      "text/html": [
       "<style type=\"text/css\">\n",
       "#T_9ac46_row5_col1, #T_9ac46_row11_col1 {\n",
       "  background-color: lightgreen;\n",
       "}\n",
       "</style>\n",
       "<table id=\"T_9ac46\">\n",
       "  <thead>\n",
       "    <tr>\n",
       "      <th class=\"blank level0\" >&nbsp;</th>\n",
       "      <th id=\"T_9ac46_level0_col0\" class=\"col_heading level0 col0\" >Description</th>\n",
       "      <th id=\"T_9ac46_level0_col1\" class=\"col_heading level0 col1\" >Value</th>\n",
       "    </tr>\n",
       "  </thead>\n",
       "  <tbody>\n",
       "    <tr>\n",
       "      <th id=\"T_9ac46_level0_row0\" class=\"row_heading level0 row0\" >0</th>\n",
       "      <td id=\"T_9ac46_row0_col0\" class=\"data row0 col0\" >Session id</td>\n",
       "      <td id=\"T_9ac46_row0_col1\" class=\"data row0 col1\" >123</td>\n",
       "    </tr>\n",
       "    <tr>\n",
       "      <th id=\"T_9ac46_level0_row1\" class=\"row_heading level0 row1\" >1</th>\n",
       "      <td id=\"T_9ac46_row1_col0\" class=\"data row1 col0\" >Original data shape</td>\n",
       "      <td id=\"T_9ac46_row1_col1\" class=\"data row1 col1\" >(200, 5)</td>\n",
       "    </tr>\n",
       "    <tr>\n",
       "      <th id=\"T_9ac46_level0_row2\" class=\"row_heading level0 row2\" >2</th>\n",
       "      <td id=\"T_9ac46_row2_col0\" class=\"data row2 col0\" >Transformed data shape</td>\n",
       "      <td id=\"T_9ac46_row2_col1\" class=\"data row2 col1\" >(200, 5)</td>\n",
       "    </tr>\n",
       "    <tr>\n",
       "      <th id=\"T_9ac46_level0_row3\" class=\"row_heading level0 row3\" >3</th>\n",
       "      <td id=\"T_9ac46_row3_col0\" class=\"data row3 col0\" >Numeric features</td>\n",
       "      <td id=\"T_9ac46_row3_col1\" class=\"data row3 col1\" >4</td>\n",
       "    </tr>\n",
       "    <tr>\n",
       "      <th id=\"T_9ac46_level0_row4\" class=\"row_heading level0 row4\" >4</th>\n",
       "      <td id=\"T_9ac46_row4_col0\" class=\"data row4 col0\" >Categorical features</td>\n",
       "      <td id=\"T_9ac46_row4_col1\" class=\"data row4 col1\" >1</td>\n",
       "    </tr>\n",
       "    <tr>\n",
       "      <th id=\"T_9ac46_level0_row5\" class=\"row_heading level0 row5\" >5</th>\n",
       "      <td id=\"T_9ac46_row5_col0\" class=\"data row5 col0\" >Preprocess</td>\n",
       "      <td id=\"T_9ac46_row5_col1\" class=\"data row5 col1\" >True</td>\n",
       "    </tr>\n",
       "    <tr>\n",
       "      <th id=\"T_9ac46_level0_row6\" class=\"row_heading level0 row6\" >6</th>\n",
       "      <td id=\"T_9ac46_row6_col0\" class=\"data row6 col0\" >Imputation type</td>\n",
       "      <td id=\"T_9ac46_row6_col1\" class=\"data row6 col1\" >simple</td>\n",
       "    </tr>\n",
       "    <tr>\n",
       "      <th id=\"T_9ac46_level0_row7\" class=\"row_heading level0 row7\" >7</th>\n",
       "      <td id=\"T_9ac46_row7_col0\" class=\"data row7 col0\" >Numeric imputation</td>\n",
       "      <td id=\"T_9ac46_row7_col1\" class=\"data row7 col1\" >mean</td>\n",
       "    </tr>\n",
       "    <tr>\n",
       "      <th id=\"T_9ac46_level0_row8\" class=\"row_heading level0 row8\" >8</th>\n",
       "      <td id=\"T_9ac46_row8_col0\" class=\"data row8 col0\" >Categorical imputation</td>\n",
       "      <td id=\"T_9ac46_row8_col1\" class=\"data row8 col1\" >mode</td>\n",
       "    </tr>\n",
       "    <tr>\n",
       "      <th id=\"T_9ac46_level0_row9\" class=\"row_heading level0 row9\" >9</th>\n",
       "      <td id=\"T_9ac46_row9_col0\" class=\"data row9 col0\" >Maximum one-hot encoding</td>\n",
       "      <td id=\"T_9ac46_row9_col1\" class=\"data row9 col1\" >-1</td>\n",
       "    </tr>\n",
       "    <tr>\n",
       "      <th id=\"T_9ac46_level0_row10\" class=\"row_heading level0 row10\" >10</th>\n",
       "      <td id=\"T_9ac46_row10_col0\" class=\"data row10 col0\" >Encoding method</td>\n",
       "      <td id=\"T_9ac46_row10_col1\" class=\"data row10 col1\" >None</td>\n",
       "    </tr>\n",
       "    <tr>\n",
       "      <th id=\"T_9ac46_level0_row11\" class=\"row_heading level0 row11\" >11</th>\n",
       "      <td id=\"T_9ac46_row11_col0\" class=\"data row11 col0\" >Normalize</td>\n",
       "      <td id=\"T_9ac46_row11_col1\" class=\"data row11 col1\" >True</td>\n",
       "    </tr>\n",
       "    <tr>\n",
       "      <th id=\"T_9ac46_level0_row12\" class=\"row_heading level0 row12\" >12</th>\n",
       "      <td id=\"T_9ac46_row12_col0\" class=\"data row12 col0\" >Normalize method</td>\n",
       "      <td id=\"T_9ac46_row12_col1\" class=\"data row12 col1\" >minmax</td>\n",
       "    </tr>\n",
       "    <tr>\n",
       "      <th id=\"T_9ac46_level0_row13\" class=\"row_heading level0 row13\" >13</th>\n",
       "      <td id=\"T_9ac46_row13_col0\" class=\"data row13 col0\" >CPU Jobs</td>\n",
       "      <td id=\"T_9ac46_row13_col1\" class=\"data row13 col1\" >-1</td>\n",
       "    </tr>\n",
       "    <tr>\n",
       "      <th id=\"T_9ac46_level0_row14\" class=\"row_heading level0 row14\" >14</th>\n",
       "      <td id=\"T_9ac46_row14_col0\" class=\"data row14 col0\" >Use GPU</td>\n",
       "      <td id=\"T_9ac46_row14_col1\" class=\"data row14 col1\" >False</td>\n",
       "    </tr>\n",
       "    <tr>\n",
       "      <th id=\"T_9ac46_level0_row15\" class=\"row_heading level0 row15\" >15</th>\n",
       "      <td id=\"T_9ac46_row15_col0\" class=\"data row15 col0\" >Log Experiment</td>\n",
       "      <td id=\"T_9ac46_row15_col1\" class=\"data row15 col1\" >False</td>\n",
       "    </tr>\n",
       "    <tr>\n",
       "      <th id=\"T_9ac46_level0_row16\" class=\"row_heading level0 row16\" >16</th>\n",
       "      <td id=\"T_9ac46_row16_col0\" class=\"data row16 col0\" >Experiment Name</td>\n",
       "      <td id=\"T_9ac46_row16_col1\" class=\"data row16 col1\" >cluster-default-name</td>\n",
       "    </tr>\n",
       "    <tr>\n",
       "      <th id=\"T_9ac46_level0_row17\" class=\"row_heading level0 row17\" >17</th>\n",
       "      <td id=\"T_9ac46_row17_col0\" class=\"data row17 col0\" >USI</td>\n",
       "      <td id=\"T_9ac46_row17_col1\" class=\"data row17 col1\" >2957</td>\n",
       "    </tr>\n",
       "  </tbody>\n",
       "</table>\n"
      ],
      "text/plain": [
       "<pandas.io.formats.style.Styler at 0x7f177898b2e0>"
      ]
     },
     "metadata": {},
     "output_type": "display_data"
    }
   ],
   "source": [
    "# load experiment from disk\n",
    "exp_from_disk = load_experiment('my_experiment', data=data)"
   ]
  },
  {
   "cell_type": "code",
   "execution_count": null,
   "id": "ac030246",
   "metadata": {
    "papermill": {
     "duration": 0.029891,
     "end_time": "2025-10-23T06:24:25.620924",
     "exception": false,
     "start_time": "2025-10-23T06:24:25.591033",
     "status": "completed"
    },
    "tags": []
   },
   "outputs": [],
   "source": []
  }
 ],
 "metadata": {
  "environment": {
   "kernel": "python3",
   "name": "workbench-notebooks.m134",
   "type": "gcloud",
   "uri": "us-docker.pkg.dev/deeplearning-platform-release/gcr.io/workbench-notebooks:m134"
  },
  "kernelspec": {
   "display_name": "Python 3",
   "language": "python",
   "name": "python3"
  },
  "language_info": {
   "codemirror_mode": {
    "name": "ipython",
    "version": 3
   },
   "file_extension": ".py",
   "mimetype": "text/x-python",
   "name": "python",
   "nbconvert_exporter": "python",
   "pygments_lexer": "ipython3",
   "version": "3.10.19"
  },
  "papermill": {
   "default_parameters": {},
   "duration": 21.673949,
   "end_time": "2025-10-23T06:24:28.268571",
   "environment_variables": {},
   "exception": null,
   "input_path": "notebooks/02_clustering.ipynb",
   "output_path": "outputs/executed_notebooks/02_clustering_executed_20251023-053615.ipynb",
   "parameters": {
    "auto_download": "true",
    "run_id": "20251023-053615"
   },
   "start_time": "2025-10-23T06:24:06.594622",
   "version": "2.6.0"
  },
  "widgets": {
   "application/vnd.jupyter.widget-state+json": {
    "state": {
     "004002742cb546698c84ace3be05f8c4": {
      "model_module": "@jupyter-widgets/controls",
      "model_module_version": "2.0.0",
      "model_name": "FloatProgressModel",
      "state": {
       "_dom_classes": [],
       "_model_module": "@jupyter-widgets/controls",
       "_model_module_version": "2.0.0",
       "_model_name": "FloatProgressModel",
       "_view_count": null,
       "_view_module": "@jupyter-widgets/controls",
       "_view_module_version": "2.0.0",
       "_view_name": "ProgressView",
       "bar_style": "",
       "description": "",
       "description_allow_html": false,
       "layout": "IPY_MODEL_367d187149944a778f83995f267de784",
       "max": 3,
       "min": 0,
       "orientation": "horizontal",
       "style": "IPY_MODEL_f9d62c27f1564d38ab583975d95f22db",
       "tabbable": null,
       "tooltip": null,
       "value": 3
      }
     },
     "053e1ce18a724814bf6f9cfe64dcfcc2": {
      "model_module": "@jupyter-widgets/base",
      "model_module_version": "2.0.0",
      "model_name": "LayoutModel",
      "state": {
       "_model_module": "@jupyter-widgets/base",
       "_model_module_version": "2.0.0",
       "_model_name": "LayoutModel",
       "_view_count": null,
       "_view_module": "@jupyter-widgets/base",
       "_view_module_version": "2.0.0",
       "_view_name": "LayoutView",
       "align_content": null,
       "align_items": null,
       "align_self": null,
       "border_bottom": null,
       "border_left": null,
       "border_right": null,
       "border_top": null,
       "bottom": null,
       "display": null,
       "flex": null,
       "flex_flow": null,
       "grid_area": null,
       "grid_auto_columns": null,
       "grid_auto_flow": null,
       "grid_auto_rows": null,
       "grid_column": null,
       "grid_gap": null,
       "grid_row": null,
       "grid_template_areas": null,
       "grid_template_columns": null,
       "grid_template_rows": null,
       "height": null,
       "justify_content": null,
       "justify_items": null,
       "left": null,
       "margin": null,
       "max_height": null,
       "max_width": null,
       "min_height": null,
       "min_width": null,
       "object_fit": null,
       "object_position": null,
       "order": null,
       "overflow": null,
       "padding": null,
       "right": null,
       "top": null,
       "visibility": null,
       "width": null
      }
     },
     "0f7be476f6354fc3bff98db6e25ab18c": {
      "model_module": "@jupyter-widgets/controls",
      "model_module_version": "2.0.0",
      "model_name": "HTMLStyleModel",
      "state": {
       "_model_module": "@jupyter-widgets/controls",
       "_model_module_version": "2.0.0",
       "_model_name": "HTMLStyleModel",
       "_view_count": null,
       "_view_module": "@jupyter-widgets/base",
       "_view_module_version": "2.0.0",
       "_view_name": "StyleView",
       "background": null,
       "description_width": "",
       "font_size": null,
       "text_color": null
      }
     },
     "135bd27c523745eb99857144ad23a762": {
      "model_module": "@jupyter-widgets/controls",
      "model_module_version": "2.0.0",
      "model_name": "HTMLModel",
      "state": {
       "_dom_classes": [],
       "_model_module": "@jupyter-widgets/controls",
       "_model_module_version": "2.0.0",
       "_model_name": "HTMLModel",
       "_view_count": null,
       "_view_module": "@jupyter-widgets/controls",
       "_view_module_version": "2.0.0",
       "_view_name": "HTMLView",
       "description": "",
       "description_allow_html": false,
       "layout": "IPY_MODEL_e0bdecc0da934767bb15f6dd81f16b10",
       "placeholder": "​",
       "style": "IPY_MODEL_4ae92b8b118a4342b96075f0cbe98583",
       "tabbable": null,
       "tooltip": null,
       "value": "Processing:   0%"
      }
     },
     "1704043a11184374aea7e2a27046acc1": {
      "model_module": "@jupyter-widgets/controls",
      "model_module_version": "2.0.0",
      "model_name": "HTMLModel",
      "state": {
       "_dom_classes": [],
       "_model_module": "@jupyter-widgets/controls",
       "_model_module_version": "2.0.0",
       "_model_name": "HTMLModel",
       "_view_count": null,
       "_view_module": "@jupyter-widgets/controls",
       "_view_module_version": "2.0.0",
       "_view_name": "HTMLView",
       "description": "",
       "description_allow_html": false,
       "layout": "IPY_MODEL_905c04f3a1364b7abc79c607d6488521",
       "placeholder": "​",
       "style": "IPY_MODEL_b578f06306f84881ba64d31373981a0b",
       "tabbable": null,
       "tooltip": null,
       "value": "Processing:  67%"
      }
     },
     "172d2fabb91c473595996915853a9501": {
      "model_module": "@jupyter-widgets/base",
      "model_module_version": "2.0.0",
      "model_name": "LayoutModel",
      "state": {
       "_model_module": "@jupyter-widgets/base",
       "_model_module_version": "2.0.0",
       "_model_name": "LayoutModel",
       "_view_count": null,
       "_view_module": "@jupyter-widgets/base",
       "_view_module_version": "2.0.0",
       "_view_name": "LayoutView",
       "align_content": null,
       "align_items": null,
       "align_self": null,
       "border_bottom": null,
       "border_left": null,
       "border_right": null,
       "border_top": null,
       "bottom": null,
       "display": null,
       "flex": null,
       "flex_flow": null,
       "grid_area": null,
       "grid_auto_columns": null,
       "grid_auto_flow": null,
       "grid_auto_rows": null,
       "grid_column": null,
       "grid_gap": null,
       "grid_row": null,
       "grid_template_areas": null,
       "grid_template_columns": null,
       "grid_template_rows": null,
       "height": null,
       "justify_content": null,
       "justify_items": null,
       "left": null,
       "margin": null,
       "max_height": null,
       "max_width": null,
       "min_height": null,
       "min_width": null,
       "object_fit": null,
       "object_position": null,
       "order": null,
       "overflow": null,
       "padding": null,
       "right": null,
       "top": null,
       "visibility": null,
       "width": null
      }
     },
     "29c64e33b6eb4f9ea14dee4f3836f3c3": {
      "model_module": "@jupyter-widgets/controls",
      "model_module_version": "2.0.0",
      "model_name": "FloatProgressModel",
      "state": {
       "_dom_classes": [],
       "_model_module": "@jupyter-widgets/controls",
       "_model_module_version": "2.0.0",
       "_model_name": "FloatProgressModel",
       "_view_count": null,
       "_view_module": "@jupyter-widgets/controls",
       "_view_module_version": "2.0.0",
       "_view_name": "ProgressView",
       "bar_style": "",
       "description": "",
       "description_allow_html": false,
       "layout": "IPY_MODEL_4439bd5c447a462fb1be42f6d889f929",
       "max": 3,
       "min": 0,
       "orientation": "horizontal",
       "style": "IPY_MODEL_e4da2ff595794b3e8547e4a4abe2d8cb",
       "tabbable": null,
       "tooltip": null,
       "value": 3
      }
     },
     "2a89454fd86b4c8abfd018b1d635f136": {
      "model_module": "@jupyter-widgets/controls",
      "model_module_version": "2.0.0",
      "model_name": "ToggleButtonsModel",
      "state": {
       "_dom_classes": [],
       "_model_module": "@jupyter-widgets/controls",
       "_model_module_version": "2.0.0",
       "_model_name": "ToggleButtonsModel",
       "_options_labels": [
        "Pipeline Plot",
        "t-SNE (3d) Dimension Plot",
        "Cluster t-SNE (3d)",
        "Elbow Plot",
        "Silhouette Plot",
        "Distance Plot",
        "Distribution Plot"
       ],
       "_view_count": null,
       "_view_module": "@jupyter-widgets/controls",
       "_view_module_version": "2.0.0",
       "_view_name": "ToggleButtonsView",
       "button_style": "",
       "description": "Plot Type:",
       "description_allow_html": false,
       "disabled": false,
       "icons": [
        ""
       ],
       "index": 0,
       "layout": "IPY_MODEL_8deecb1ca0694f8bb36525d5fb87edd1",
       "style": "IPY_MODEL_e29fad4a9fc44bbbb5b7e8d15a68a049",
       "tabbable": null,
       "tooltip": null,
       "tooltips": []
      }
     },
     "2d94feae3fdb49ad8c17fb255f8a15f5": {
      "model_module": "@jupyter-widgets/base",
      "model_module_version": "2.0.0",
      "model_name": "LayoutModel",
      "state": {
       "_model_module": "@jupyter-widgets/base",
       "_model_module_version": "2.0.0",
       "_model_name": "LayoutModel",
       "_view_count": null,
       "_view_module": "@jupyter-widgets/base",
       "_view_module_version": "2.0.0",
       "_view_name": "LayoutView",
       "align_content": null,
       "align_items": null,
       "align_self": null,
       "border_bottom": null,
       "border_left": null,
       "border_right": null,
       "border_top": null,
       "bottom": null,
       "display": null,
       "flex": null,
       "flex_flow": null,
       "grid_area": null,
       "grid_auto_columns": null,
       "grid_auto_flow": null,
       "grid_auto_rows": null,
       "grid_column": null,
       "grid_gap": null,
       "grid_row": null,
       "grid_template_areas": null,
       "grid_template_columns": null,
       "grid_template_rows": null,
       "height": null,
       "justify_content": null,
       "justify_items": null,
       "left": null,
       "margin": null,
       "max_height": null,
       "max_width": null,
       "min_height": null,
       "min_width": null,
       "object_fit": null,
       "object_position": null,
       "order": null,
       "overflow": null,
       "padding": null,
       "right": null,
       "top": null,
       "visibility": null,
       "width": null
      }
     },
     "2ebb1ffddb1f4869baf912e1685c7eee": {
      "model_module": "@jupyter-widgets/base",
      "model_module_version": "2.0.0",
      "model_name": "LayoutModel",
      "state": {
       "_model_module": "@jupyter-widgets/base",
       "_model_module_version": "2.0.0",
       "_model_name": "LayoutModel",
       "_view_count": null,
       "_view_module": "@jupyter-widgets/base",
       "_view_module_version": "2.0.0",
       "_view_name": "LayoutView",
       "align_content": null,
       "align_items": null,
       "align_self": null,
       "border_bottom": null,
       "border_left": null,
       "border_right": null,
       "border_top": null,
       "bottom": null,
       "display": null,
       "flex": null,
       "flex_flow": null,
       "grid_area": null,
       "grid_auto_columns": null,
       "grid_auto_flow": null,
       "grid_auto_rows": null,
       "grid_column": null,
       "grid_gap": null,
       "grid_row": null,
       "grid_template_areas": null,
       "grid_template_columns": null,
       "grid_template_rows": null,
       "height": null,
       "justify_content": null,
       "justify_items": null,
       "left": null,
       "margin": null,
       "max_height": null,
       "max_width": null,
       "min_height": null,
       "min_width": null,
       "object_fit": null,
       "object_position": null,
       "order": null,
       "overflow": null,
       "padding": null,
       "right": null,
       "top": null,
       "visibility": null,
       "width": null
      }
     },
     "2ffa87788e4342309fc66ad6d00cdae2": {
      "model_module": "@jupyter-widgets/base",
      "model_module_version": "2.0.0",
      "model_name": "LayoutModel",
      "state": {
       "_model_module": "@jupyter-widgets/base",
       "_model_module_version": "2.0.0",
       "_model_name": "LayoutModel",
       "_view_count": null,
       "_view_module": "@jupyter-widgets/base",
       "_view_module_version": "2.0.0",
       "_view_name": "LayoutView",
       "align_content": null,
       "align_items": null,
       "align_self": null,
       "border_bottom": null,
       "border_left": null,
       "border_right": null,
       "border_top": null,
       "bottom": null,
       "display": null,
       "flex": null,
       "flex_flow": null,
       "grid_area": null,
       "grid_auto_columns": null,
       "grid_auto_flow": null,
       "grid_auto_rows": null,
       "grid_column": null,
       "grid_gap": null,
       "grid_row": null,
       "grid_template_areas": null,
       "grid_template_columns": null,
       "grid_template_rows": null,
       "height": null,
       "justify_content": null,
       "justify_items": null,
       "left": null,
       "margin": null,
       "max_height": null,
       "max_width": null,
       "min_height": null,
       "min_width": null,
       "object_fit": null,
       "object_position": null,
       "order": null,
       "overflow": null,
       "padding": null,
       "right": null,
       "top": null,
       "visibility": "hidden",
       "width": null
      }
     },
     "31a68ecedcf14656816012e2bd50b6da": {
      "model_module": "@jupyter-widgets/base",
      "model_module_version": "2.0.0",
      "model_name": "LayoutModel",
      "state": {
       "_model_module": "@jupyter-widgets/base",
       "_model_module_version": "2.0.0",
       "_model_name": "LayoutModel",
       "_view_count": null,
       "_view_module": "@jupyter-widgets/base",
       "_view_module_version": "2.0.0",
       "_view_name": "LayoutView",
       "align_content": null,
       "align_items": null,
       "align_self": null,
       "border_bottom": null,
       "border_left": null,
       "border_right": null,
       "border_top": null,
       "bottom": null,
       "display": null,
       "flex": null,
       "flex_flow": null,
       "grid_area": null,
       "grid_auto_columns": null,
       "grid_auto_flow": null,
       "grid_auto_rows": null,
       "grid_column": null,
       "grid_gap": null,
       "grid_row": null,
       "grid_template_areas": null,
       "grid_template_columns": null,
       "grid_template_rows": null,
       "height": null,
       "justify_content": null,
       "justify_items": null,
       "left": null,
       "margin": null,
       "max_height": null,
       "max_width": null,
       "min_height": null,
       "min_width": null,
       "object_fit": null,
       "object_position": null,
       "order": null,
       "overflow": null,
       "padding": null,
       "right": null,
       "top": null,
       "visibility": "hidden",
       "width": null
      }
     },
     "367d187149944a778f83995f267de784": {
      "model_module": "@jupyter-widgets/base",
      "model_module_version": "2.0.0",
      "model_name": "LayoutModel",
      "state": {
       "_model_module": "@jupyter-widgets/base",
       "_model_module_version": "2.0.0",
       "_model_name": "LayoutModel",
       "_view_count": null,
       "_view_module": "@jupyter-widgets/base",
       "_view_module_version": "2.0.0",
       "_view_name": "LayoutView",
       "align_content": null,
       "align_items": null,
       "align_self": null,
       "border_bottom": null,
       "border_left": null,
       "border_right": null,
       "border_top": null,
       "bottom": null,
       "display": null,
       "flex": null,
       "flex_flow": null,
       "grid_area": null,
       "grid_auto_columns": null,
       "grid_auto_flow": null,
       "grid_auto_rows": null,
       "grid_column": null,
       "grid_gap": null,
       "grid_row": null,
       "grid_template_areas": null,
       "grid_template_columns": null,
       "grid_template_rows": null,
       "height": null,
       "justify_content": null,
       "justify_items": null,
       "left": null,
       "margin": null,
       "max_height": null,
       "max_width": null,
       "min_height": null,
       "min_width": null,
       "object_fit": null,
       "object_position": null,
       "order": null,
       "overflow": null,
       "padding": null,
       "right": null,
       "top": null,
       "visibility": null,
       "width": null
      }
     },
     "3e1c9e20514843d59f154991e926a43c": {
      "model_module": "@jupyter-widgets/controls",
      "model_module_version": "2.0.0",
      "model_name": "ProgressStyleModel",
      "state": {
       "_model_module": "@jupyter-widgets/controls",
       "_model_module_version": "2.0.0",
       "_model_name": "ProgressStyleModel",
       "_view_count": null,
       "_view_module": "@jupyter-widgets/base",
       "_view_module_version": "2.0.0",
       "_view_name": "StyleView",
       "bar_color": null,
       "description_width": ""
      }
     },
     "4439bd5c447a462fb1be42f6d889f929": {
      "model_module": "@jupyter-widgets/base",
      "model_module_version": "2.0.0",
      "model_name": "LayoutModel",
      "state": {
       "_model_module": "@jupyter-widgets/base",
       "_model_module_version": "2.0.0",
       "_model_name": "LayoutModel",
       "_view_count": null,
       "_view_module": "@jupyter-widgets/base",
       "_view_module_version": "2.0.0",
       "_view_name": "LayoutView",
       "align_content": null,
       "align_items": null,
       "align_self": null,
       "border_bottom": null,
       "border_left": null,
       "border_right": null,
       "border_top": null,
       "bottom": null,
       "display": null,
       "flex": null,
       "flex_flow": null,
       "grid_area": null,
       "grid_auto_columns": null,
       "grid_auto_flow": null,
       "grid_auto_rows": null,
       "grid_column": null,
       "grid_gap": null,
       "grid_row": null,
       "grid_template_areas": null,
       "grid_template_columns": null,
       "grid_template_rows": null,
       "height": null,
       "justify_content": null,
       "justify_items": null,
       "left": null,
       "margin": null,
       "max_height": null,
       "max_width": null,
       "min_height": null,
       "min_width": null,
       "object_fit": null,
       "object_position": null,
       "order": null,
       "overflow": null,
       "padding": null,
       "right": null,
       "top": null,
       "visibility": null,
       "width": null
      }
     },
     "4a0b26e2e4604ab0ab68f35728a1240d": {
      "model_module": "@jupyter-widgets/controls",
      "model_module_version": "2.0.0",
      "model_name": "HBoxModel",
      "state": {
       "_dom_classes": [],
       "_model_module": "@jupyter-widgets/controls",
       "_model_module_version": "2.0.0",
       "_model_name": "HBoxModel",
       "_view_count": null,
       "_view_module": "@jupyter-widgets/controls",
       "_view_module_version": "2.0.0",
       "_view_name": "HBoxView",
       "box_style": "",
       "children": [
        "IPY_MODEL_5ed0183f5e6b4f4d8b47199bf8a6c4e7",
        "IPY_MODEL_29c64e33b6eb4f9ea14dee4f3836f3c3",
        "IPY_MODEL_727f72c294874a4e98dcfa81ecf1a2a6"
       ],
       "layout": "IPY_MODEL_d8eee7ad43b74dda9cbe6cfe050079cd",
       "tabbable": null,
       "tooltip": null
      }
     },
     "4ae92b8b118a4342b96075f0cbe98583": {
      "model_module": "@jupyter-widgets/controls",
      "model_module_version": "2.0.0",
      "model_name": "HTMLStyleModel",
      "state": {
       "_model_module": "@jupyter-widgets/controls",
       "_model_module_version": "2.0.0",
       "_model_name": "HTMLStyleModel",
       "_view_count": null,
       "_view_module": "@jupyter-widgets/base",
       "_view_module_version": "2.0.0",
       "_view_name": "StyleView",
       "background": null,
       "description_width": "",
       "font_size": null,
       "text_color": null
      }
     },
     "50fc8cc642594117a60f4cfe0b11c582": {
      "model_module": "@jupyter-widgets/controls",
      "model_module_version": "2.0.0",
      "model_name": "ProgressStyleModel",
      "state": {
       "_model_module": "@jupyter-widgets/controls",
       "_model_module_version": "2.0.0",
       "_model_name": "ProgressStyleModel",
       "_view_count": null,
       "_view_module": "@jupyter-widgets/base",
       "_view_module_version": "2.0.0",
       "_view_name": "StyleView",
       "bar_color": null,
       "description_width": ""
      }
     },
     "57229b0fc02e4fdcb5d5c11218f81bc6": {
      "model_module": "@jupyter-widgets/controls",
      "model_module_version": "2.0.0",
      "model_name": "HTMLStyleModel",
      "state": {
       "_model_module": "@jupyter-widgets/controls",
       "_model_module_version": "2.0.0",
       "_model_name": "HTMLStyleModel",
       "_view_count": null,
       "_view_module": "@jupyter-widgets/base",
       "_view_module_version": "2.0.0",
       "_view_name": "StyleView",
       "background": null,
       "description_width": "",
       "font_size": null,
       "text_color": null
      }
     },
     "5876a06df36c48318bcf80835af8a9b2": {
      "model_module": "@jupyter-widgets/controls",
      "model_module_version": "2.0.0",
      "model_name": "HTMLModel",
      "state": {
       "_dom_classes": [],
       "_model_module": "@jupyter-widgets/controls",
       "_model_module_version": "2.0.0",
       "_model_name": "HTMLModel",
       "_view_count": null,
       "_view_module": "@jupyter-widgets/controls",
       "_view_module_version": "2.0.0",
       "_view_name": "HTMLView",
       "description": "",
       "description_allow_html": false,
       "layout": "IPY_MODEL_f34f5e99610e4f428abb43eeea80528b",
       "placeholder": "​",
       "style": "IPY_MODEL_f44c8a90033f4fa8a2b848d0c961c873",
       "tabbable": null,
       "tooltip": null,
       "value": " 0/3 [00:00&lt;?, ?it/s]"
      }
     },
     "5ed0183f5e6b4f4d8b47199bf8a6c4e7": {
      "model_module": "@jupyter-widgets/controls",
      "model_module_version": "2.0.0",
      "model_name": "HTMLModel",
      "state": {
       "_dom_classes": [],
       "_model_module": "@jupyter-widgets/controls",
       "_model_module_version": "2.0.0",
       "_model_name": "HTMLModel",
       "_view_count": null,
       "_view_module": "@jupyter-widgets/controls",
       "_view_module_version": "2.0.0",
       "_view_name": "HTMLView",
       "description": "",
       "description_allow_html": false,
       "layout": "IPY_MODEL_2ebb1ffddb1f4869baf912e1685c7eee",
       "placeholder": "​",
       "style": "IPY_MODEL_d16a911a4a8e4a32b8d9b1186edd5b08",
       "tabbable": null,
       "tooltip": null,
       "value": "Processing:   0%"
      }
     },
     "727f72c294874a4e98dcfa81ecf1a2a6": {
      "model_module": "@jupyter-widgets/controls",
      "model_module_version": "2.0.0",
      "model_name": "HTMLModel",
      "state": {
       "_dom_classes": [],
       "_model_module": "@jupyter-widgets/controls",
       "_model_module_version": "2.0.0",
       "_model_name": "HTMLModel",
       "_view_count": null,
       "_view_module": "@jupyter-widgets/controls",
       "_view_module_version": "2.0.0",
       "_view_name": "HTMLView",
       "description": "",
       "description_allow_html": false,
       "layout": "IPY_MODEL_053e1ce18a724814bf6f9cfe64dcfcc2",
       "placeholder": "​",
       "style": "IPY_MODEL_0f7be476f6354fc3bff98db6e25ab18c",
       "tabbable": null,
       "tooltip": null,
       "value": " 0/3 [00:00&lt;?, ?it/s]"
      }
     },
     "861b996df1fe493eb00d212c95c2e329": {
      "model_module": "@jupyter-widgets/controls",
      "model_module_version": "2.0.0",
      "model_name": "HBoxModel",
      "state": {
       "_dom_classes": [],
       "_model_module": "@jupyter-widgets/controls",
       "_model_module_version": "2.0.0",
       "_model_name": "HBoxModel",
       "_view_count": null,
       "_view_module": "@jupyter-widgets/controls",
       "_view_module_version": "2.0.0",
       "_view_name": "HBoxView",
       "box_style": "",
       "children": [
        "IPY_MODEL_1704043a11184374aea7e2a27046acc1",
        "IPY_MODEL_004002742cb546698c84ace3be05f8c4",
        "IPY_MODEL_ca8c596a783d4a7b9e91331b1497d398"
       ],
       "layout": "IPY_MODEL_2ffa87788e4342309fc66ad6d00cdae2",
       "tabbable": null,
       "tooltip": null
      }
     },
     "88f459c185e145a2889205a05523a85e": {
      "model_module": "@jupyter-widgets/controls",
      "model_module_version": "2.0.0",
      "model_name": "HBoxModel",
      "state": {
       "_dom_classes": [],
       "_model_module": "@jupyter-widgets/controls",
       "_model_module_version": "2.0.0",
       "_model_name": "HBoxModel",
       "_view_count": null,
       "_view_module": "@jupyter-widgets/controls",
       "_view_module_version": "2.0.0",
       "_view_name": "HBoxView",
       "box_style": "",
       "children": [
        "IPY_MODEL_b61140c283fe47b0b3b473a162e281ca",
        "IPY_MODEL_ec5b111252084e188073b15bf585f694",
        "IPY_MODEL_5876a06df36c48318bcf80835af8a9b2"
       ],
       "layout": "IPY_MODEL_e8e153f5cace4631a0d967e1c73f864d",
       "tabbable": null,
       "tooltip": null
      }
     },
     "8cab172047514c7fad91bc92e8b4254c": {
      "model_module": "@jupyter-widgets/base",
      "model_module_version": "2.0.0",
      "model_name": "LayoutModel",
      "state": {
       "_model_module": "@jupyter-widgets/base",
       "_model_module_version": "2.0.0",
       "_model_name": "LayoutModel",
       "_view_count": null,
       "_view_module": "@jupyter-widgets/base",
       "_view_module_version": "2.0.0",
       "_view_name": "LayoutView",
       "align_content": null,
       "align_items": null,
       "align_self": null,
       "border_bottom": null,
       "border_left": null,
       "border_right": null,
       "border_top": null,
       "bottom": null,
       "display": null,
       "flex": null,
       "flex_flow": null,
       "grid_area": null,
       "grid_auto_columns": null,
       "grid_auto_flow": null,
       "grid_auto_rows": null,
       "grid_column": null,
       "grid_gap": null,
       "grid_row": null,
       "grid_template_areas": null,
       "grid_template_columns": null,
       "grid_template_rows": null,
       "height": null,
       "justify_content": null,
       "justify_items": null,
       "left": null,
       "margin": null,
       "max_height": null,
       "max_width": null,
       "min_height": null,
       "min_width": null,
       "object_fit": null,
       "object_position": null,
       "order": null,
       "overflow": null,
       "padding": null,
       "right": null,
       "top": null,
       "visibility": null,
       "width": null
      }
     },
     "8deecb1ca0694f8bb36525d5fb87edd1": {
      "model_module": "@jupyter-widgets/base",
      "model_module_version": "2.0.0",
      "model_name": "LayoutModel",
      "state": {
       "_model_module": "@jupyter-widgets/base",
       "_model_module_version": "2.0.0",
       "_model_name": "LayoutModel",
       "_view_count": null,
       "_view_module": "@jupyter-widgets/base",
       "_view_module_version": "2.0.0",
       "_view_name": "LayoutView",
       "align_content": null,
       "align_items": null,
       "align_self": null,
       "border_bottom": null,
       "border_left": null,
       "border_right": null,
       "border_top": null,
       "bottom": null,
       "display": null,
       "flex": null,
       "flex_flow": null,
       "grid_area": null,
       "grid_auto_columns": null,
       "grid_auto_flow": null,
       "grid_auto_rows": null,
       "grid_column": null,
       "grid_gap": null,
       "grid_row": null,
       "grid_template_areas": null,
       "grid_template_columns": null,
       "grid_template_rows": null,
       "height": null,
       "justify_content": null,
       "justify_items": null,
       "left": null,
       "margin": null,
       "max_height": null,
       "max_width": null,
       "min_height": null,
       "min_width": null,
       "object_fit": null,
       "object_position": null,
       "order": null,
       "overflow": null,
       "padding": null,
       "right": null,
       "top": null,
       "visibility": null,
       "width": null
      }
     },
     "8e86f055ed1e42848c8f889e29a5d9e4": {
      "model_module": "@jupyter-widgets/base",
      "model_module_version": "2.0.0",
      "model_name": "LayoutModel",
      "state": {
       "_model_module": "@jupyter-widgets/base",
       "_model_module_version": "2.0.0",
       "_model_name": "LayoutModel",
       "_view_count": null,
       "_view_module": "@jupyter-widgets/base",
       "_view_module_version": "2.0.0",
       "_view_name": "LayoutView",
       "align_content": null,
       "align_items": null,
       "align_self": null,
       "border_bottom": null,
       "border_left": null,
       "border_right": null,
       "border_top": null,
       "bottom": null,
       "display": null,
       "flex": null,
       "flex_flow": null,
       "grid_area": null,
       "grid_auto_columns": null,
       "grid_auto_flow": null,
       "grid_auto_rows": null,
       "grid_column": null,
       "grid_gap": null,
       "grid_row": null,
       "grid_template_areas": null,
       "grid_template_columns": null,
       "grid_template_rows": null,
       "height": null,
       "justify_content": null,
       "justify_items": null,
       "left": null,
       "margin": null,
       "max_height": null,
       "max_width": null,
       "min_height": null,
       "min_width": null,
       "object_fit": null,
       "object_position": null,
       "order": null,
       "overflow": null,
       "padding": null,
       "right": null,
       "top": null,
       "visibility": null,
       "width": null
      }
     },
     "905c04f3a1364b7abc79c607d6488521": {
      "model_module": "@jupyter-widgets/base",
      "model_module_version": "2.0.0",
      "model_name": "LayoutModel",
      "state": {
       "_model_module": "@jupyter-widgets/base",
       "_model_module_version": "2.0.0",
       "_model_name": "LayoutModel",
       "_view_count": null,
       "_view_module": "@jupyter-widgets/base",
       "_view_module_version": "2.0.0",
       "_view_name": "LayoutView",
       "align_content": null,
       "align_items": null,
       "align_self": null,
       "border_bottom": null,
       "border_left": null,
       "border_right": null,
       "border_top": null,
       "bottom": null,
       "display": null,
       "flex": null,
       "flex_flow": null,
       "grid_area": null,
       "grid_auto_columns": null,
       "grid_auto_flow": null,
       "grid_auto_rows": null,
       "grid_column": null,
       "grid_gap": null,
       "grid_row": null,
       "grid_template_areas": null,
       "grid_template_columns": null,
       "grid_template_rows": null,
       "height": null,
       "justify_content": null,
       "justify_items": null,
       "left": null,
       "margin": null,
       "max_height": null,
       "max_width": null,
       "min_height": null,
       "min_width": null,
       "object_fit": null,
       "object_position": null,
       "order": null,
       "overflow": null,
       "padding": null,
       "right": null,
       "top": null,
       "visibility": null,
       "width": null
      }
     },
     "9550bf3f54b14f7bbf07481a5a326ab4": {
      "model_module": "@jupyter-widgets/controls",
      "model_module_version": "2.0.0",
      "model_name": "HTMLModel",
      "state": {
       "_dom_classes": [],
       "_model_module": "@jupyter-widgets/controls",
       "_model_module_version": "2.0.0",
       "_model_name": "HTMLModel",
       "_view_count": null,
       "_view_module": "@jupyter-widgets/controls",
       "_view_module_version": "2.0.0",
       "_view_name": "HTMLView",
       "description": "",
       "description_allow_html": false,
       "layout": "IPY_MODEL_8cab172047514c7fad91bc92e8b4254c",
       "placeholder": "​",
       "style": "IPY_MODEL_57229b0fc02e4fdcb5d5c11218f81bc6",
       "tabbable": null,
       "tooltip": null,
       "value": " 0/3 [00:00&lt;?, ?it/s]"
      }
     },
     "978a10c777a64806aeaef2ddcb6cc3a7": {
      "model_module": "@jupyter-widgets/base",
      "model_module_version": "2.0.0",
      "model_name": "LayoutModel",
      "state": {
       "_model_module": "@jupyter-widgets/base",
       "_model_module_version": "2.0.0",
       "_model_name": "LayoutModel",
       "_view_count": null,
       "_view_module": "@jupyter-widgets/base",
       "_view_module_version": "2.0.0",
       "_view_name": "LayoutView",
       "align_content": null,
       "align_items": null,
       "align_self": null,
       "border_bottom": null,
       "border_left": null,
       "border_right": null,
       "border_top": null,
       "bottom": null,
       "display": null,
       "flex": null,
       "flex_flow": null,
       "grid_area": null,
       "grid_auto_columns": null,
       "grid_auto_flow": null,
       "grid_auto_rows": null,
       "grid_column": null,
       "grid_gap": null,
       "grid_row": null,
       "grid_template_areas": null,
       "grid_template_columns": null,
       "grid_template_rows": null,
       "height": null,
       "justify_content": null,
       "justify_items": null,
       "left": null,
       "margin": null,
       "max_height": null,
       "max_width": null,
       "min_height": null,
       "min_width": null,
       "object_fit": null,
       "object_position": null,
       "order": null,
       "overflow": null,
       "padding": null,
       "right": null,
       "top": null,
       "visibility": null,
       "width": null
      }
     },
     "9896017df9a24b4280554908dbbfd1c2": {
      "model_module": "@jupyter-widgets/controls",
      "model_module_version": "2.0.0",
      "model_name": "VBoxModel",
      "state": {
       "_dom_classes": [
        "widget-interact"
       ],
       "_model_module": "@jupyter-widgets/controls",
       "_model_module_version": "2.0.0",
       "_model_name": "VBoxModel",
       "_view_count": null,
       "_view_module": "@jupyter-widgets/controls",
       "_view_module_version": "2.0.0",
       "_view_name": "VBoxView",
       "box_style": "",
       "children": [
        "IPY_MODEL_2a89454fd86b4c8abfd018b1d635f136",
        "IPY_MODEL_b425fd9976684f9e89cc35eb8253d731"
       ],
       "layout": "IPY_MODEL_2d94feae3fdb49ad8c17fb255f8a15f5",
       "tabbable": null,
       "tooltip": null
      }
     },
     "9e22b2903ea947c0b6159caeb3dee53a": {
      "model_module": "@jupyter-widgets/controls",
      "model_module_version": "2.0.0",
      "model_name": "HBoxModel",
      "state": {
       "_dom_classes": [],
       "_model_module": "@jupyter-widgets/controls",
       "_model_module_version": "2.0.0",
       "_model_name": "HBoxModel",
       "_view_count": null,
       "_view_module": "@jupyter-widgets/controls",
       "_view_module_version": "2.0.0",
       "_view_name": "HBoxView",
       "box_style": "",
       "children": [
        "IPY_MODEL_135bd27c523745eb99857144ad23a762",
        "IPY_MODEL_f47e7828031b4f3fa775977536002b51",
        "IPY_MODEL_9550bf3f54b14f7bbf07481a5a326ab4"
       ],
       "layout": "IPY_MODEL_31a68ecedcf14656816012e2bd50b6da",
       "tabbable": null,
       "tooltip": null
      }
     },
     "b425fd9976684f9e89cc35eb8253d731": {
      "model_module": "@jupyter-widgets/output",
      "model_module_version": "1.0.0",
      "model_name": "OutputModel",
      "state": {
       "_dom_classes": [],
       "_model_module": "@jupyter-widgets/output",
       "_model_module_version": "1.0.0",
       "_model_name": "OutputModel",
       "_view_count": null,
       "_view_module": "@jupyter-widgets/output",
       "_view_module_version": "1.0.0",
       "_view_name": "OutputView",
       "layout": "IPY_MODEL_978a10c777a64806aeaef2ddcb6cc3a7",
       "msg_id": "",
       "outputs": [
        {
         "data": {
          "image/png": "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",
          "text/plain": "<Figure size 1700x600 with 1 Axes>"
         },
         "metadata": {},
         "output_type": "display_data"
        }
       ],
       "tabbable": null,
       "tooltip": null
      }
     },
     "b578f06306f84881ba64d31373981a0b": {
      "model_module": "@jupyter-widgets/controls",
      "model_module_version": "2.0.0",
      "model_name": "HTMLStyleModel",
      "state": {
       "_model_module": "@jupyter-widgets/controls",
       "_model_module_version": "2.0.0",
       "_model_name": "HTMLStyleModel",
       "_view_count": null,
       "_view_module": "@jupyter-widgets/base",
       "_view_module_version": "2.0.0",
       "_view_name": "StyleView",
       "background": null,
       "description_width": "",
       "font_size": null,
       "text_color": null
      }
     },
     "b61140c283fe47b0b3b473a162e281ca": {
      "model_module": "@jupyter-widgets/controls",
      "model_module_version": "2.0.0",
      "model_name": "HTMLModel",
      "state": {
       "_dom_classes": [],
       "_model_module": "@jupyter-widgets/controls",
       "_model_module_version": "2.0.0",
       "_model_name": "HTMLModel",
       "_view_count": null,
       "_view_module": "@jupyter-widgets/controls",
       "_view_module_version": "2.0.0",
       "_view_name": "HTMLView",
       "description": "",
       "description_allow_html": false,
       "layout": "IPY_MODEL_172d2fabb91c473595996915853a9501",
       "placeholder": "​",
       "style": "IPY_MODEL_bbc8f83034a74b5c9de86d9f56d75188",
       "tabbable": null,
       "tooltip": null,
       "value": "Processing:   0%"
      }
     },
     "bbc8f83034a74b5c9de86d9f56d75188": {
      "model_module": "@jupyter-widgets/controls",
      "model_module_version": "2.0.0",
      "model_name": "HTMLStyleModel",
      "state": {
       "_model_module": "@jupyter-widgets/controls",
       "_model_module_version": "2.0.0",
       "_model_name": "HTMLStyleModel",
       "_view_count": null,
       "_view_module": "@jupyter-widgets/base",
       "_view_module_version": "2.0.0",
       "_view_name": "StyleView",
       "background": null,
       "description_width": "",
       "font_size": null,
       "text_color": null
      }
     },
     "ca8c596a783d4a7b9e91331b1497d398": {
      "model_module": "@jupyter-widgets/controls",
      "model_module_version": "2.0.0",
      "model_name": "HTMLModel",
      "state": {
       "_dom_classes": [],
       "_model_module": "@jupyter-widgets/controls",
       "_model_module_version": "2.0.0",
       "_model_name": "HTMLModel",
       "_view_count": null,
       "_view_module": "@jupyter-widgets/controls",
       "_view_module_version": "2.0.0",
       "_view_name": "HTMLView",
       "description": "",
       "description_allow_html": false,
       "layout": "IPY_MODEL_8e86f055ed1e42848c8f889e29a5d9e4",
       "placeholder": "​",
       "style": "IPY_MODEL_e3e474ae797c4628b7b71441bb54278a",
       "tabbable": null,
       "tooltip": null,
       "value": " 2/3 [00:01&lt;00:00,  1.56it/s]"
      }
     },
     "cb19630c1ff14fafb1857ab4a93f3679": {
      "model_module": "@jupyter-widgets/base",
      "model_module_version": "2.0.0",
      "model_name": "LayoutModel",
      "state": {
       "_model_module": "@jupyter-widgets/base",
       "_model_module_version": "2.0.0",
       "_model_name": "LayoutModel",
       "_view_count": null,
       "_view_module": "@jupyter-widgets/base",
       "_view_module_version": "2.0.0",
       "_view_name": "LayoutView",
       "align_content": null,
       "align_items": null,
       "align_self": null,
       "border_bottom": null,
       "border_left": null,
       "border_right": null,
       "border_top": null,
       "bottom": null,
       "display": null,
       "flex": null,
       "flex_flow": null,
       "grid_area": null,
       "grid_auto_columns": null,
       "grid_auto_flow": null,
       "grid_auto_rows": null,
       "grid_column": null,
       "grid_gap": null,
       "grid_row": null,
       "grid_template_areas": null,
       "grid_template_columns": null,
       "grid_template_rows": null,
       "height": null,
       "justify_content": null,
       "justify_items": null,
       "left": null,
       "margin": null,
       "max_height": null,
       "max_width": null,
       "min_height": null,
       "min_width": null,
       "object_fit": null,
       "object_position": null,
       "order": null,
       "overflow": null,
       "padding": null,
       "right": null,
       "top": null,
       "visibility": null,
       "width": null
      }
     },
     "d16a911a4a8e4a32b8d9b1186edd5b08": {
      "model_module": "@jupyter-widgets/controls",
      "model_module_version": "2.0.0",
      "model_name": "HTMLStyleModel",
      "state": {
       "_model_module": "@jupyter-widgets/controls",
       "_model_module_version": "2.0.0",
       "_model_name": "HTMLStyleModel",
       "_view_count": null,
       "_view_module": "@jupyter-widgets/base",
       "_view_module_version": "2.0.0",
       "_view_name": "StyleView",
       "background": null,
       "description_width": "",
       "font_size": null,
       "text_color": null
      }
     },
     "d8eee7ad43b74dda9cbe6cfe050079cd": {
      "model_module": "@jupyter-widgets/base",
      "model_module_version": "2.0.0",
      "model_name": "LayoutModel",
      "state": {
       "_model_module": "@jupyter-widgets/base",
       "_model_module_version": "2.0.0",
       "_model_name": "LayoutModel",
       "_view_count": null,
       "_view_module": "@jupyter-widgets/base",
       "_view_module_version": "2.0.0",
       "_view_name": "LayoutView",
       "align_content": null,
       "align_items": null,
       "align_self": null,
       "border_bottom": null,
       "border_left": null,
       "border_right": null,
       "border_top": null,
       "bottom": null,
       "display": null,
       "flex": null,
       "flex_flow": null,
       "grid_area": null,
       "grid_auto_columns": null,
       "grid_auto_flow": null,
       "grid_auto_rows": null,
       "grid_column": null,
       "grid_gap": null,
       "grid_row": null,
       "grid_template_areas": null,
       "grid_template_columns": null,
       "grid_template_rows": null,
       "height": null,
       "justify_content": null,
       "justify_items": null,
       "left": null,
       "margin": null,
       "max_height": null,
       "max_width": null,
       "min_height": null,
       "min_width": null,
       "object_fit": null,
       "object_position": null,
       "order": null,
       "overflow": null,
       "padding": null,
       "right": null,
       "top": null,
       "visibility": "hidden",
       "width": null
      }
     },
     "e0bdecc0da934767bb15f6dd81f16b10": {
      "model_module": "@jupyter-widgets/base",
      "model_module_version": "2.0.0",
      "model_name": "LayoutModel",
      "state": {
       "_model_module": "@jupyter-widgets/base",
       "_model_module_version": "2.0.0",
       "_model_name": "LayoutModel",
       "_view_count": null,
       "_view_module": "@jupyter-widgets/base",
       "_view_module_version": "2.0.0",
       "_view_name": "LayoutView",
       "align_content": null,
       "align_items": null,
       "align_self": null,
       "border_bottom": null,
       "border_left": null,
       "border_right": null,
       "border_top": null,
       "bottom": null,
       "display": null,
       "flex": null,
       "flex_flow": null,
       "grid_area": null,
       "grid_auto_columns": null,
       "grid_auto_flow": null,
       "grid_auto_rows": null,
       "grid_column": null,
       "grid_gap": null,
       "grid_row": null,
       "grid_template_areas": null,
       "grid_template_columns": null,
       "grid_template_rows": null,
       "height": null,
       "justify_content": null,
       "justify_items": null,
       "left": null,
       "margin": null,
       "max_height": null,
       "max_width": null,
       "min_height": null,
       "min_width": null,
       "object_fit": null,
       "object_position": null,
       "order": null,
       "overflow": null,
       "padding": null,
       "right": null,
       "top": null,
       "visibility": null,
       "width": null
      }
     },
     "e29fad4a9fc44bbbb5b7e8d15a68a049": {
      "model_module": "@jupyter-widgets/controls",
      "model_module_version": "2.0.0",
      "model_name": "ToggleButtonsStyleModel",
      "state": {
       "_model_module": "@jupyter-widgets/controls",
       "_model_module_version": "2.0.0",
       "_model_name": "ToggleButtonsStyleModel",
       "_view_count": null,
       "_view_module": "@jupyter-widgets/base",
       "_view_module_version": "2.0.0",
       "_view_name": "StyleView",
       "button_width": "",
       "description_width": "",
       "font_weight": ""
      }
     },
     "e3e474ae797c4628b7b71441bb54278a": {
      "model_module": "@jupyter-widgets/controls",
      "model_module_version": "2.0.0",
      "model_name": "HTMLStyleModel",
      "state": {
       "_model_module": "@jupyter-widgets/controls",
       "_model_module_version": "2.0.0",
       "_model_name": "HTMLStyleModel",
       "_view_count": null,
       "_view_module": "@jupyter-widgets/base",
       "_view_module_version": "2.0.0",
       "_view_name": "StyleView",
       "background": null,
       "description_width": "",
       "font_size": null,
       "text_color": null
      }
     },
     "e4da2ff595794b3e8547e4a4abe2d8cb": {
      "model_module": "@jupyter-widgets/controls",
      "model_module_version": "2.0.0",
      "model_name": "ProgressStyleModel",
      "state": {
       "_model_module": "@jupyter-widgets/controls",
       "_model_module_version": "2.0.0",
       "_model_name": "ProgressStyleModel",
       "_view_count": null,
       "_view_module": "@jupyter-widgets/base",
       "_view_module_version": "2.0.0",
       "_view_name": "StyleView",
       "bar_color": null,
       "description_width": ""
      }
     },
     "e6cadd9470ad4f698712b18c5e5e9ad9": {
      "model_module": "@jupyter-widgets/base",
      "model_module_version": "2.0.0",
      "model_name": "LayoutModel",
      "state": {
       "_model_module": "@jupyter-widgets/base",
       "_model_module_version": "2.0.0",
       "_model_name": "LayoutModel",
       "_view_count": null,
       "_view_module": "@jupyter-widgets/base",
       "_view_module_version": "2.0.0",
       "_view_name": "LayoutView",
       "align_content": null,
       "align_items": null,
       "align_self": null,
       "border_bottom": null,
       "border_left": null,
       "border_right": null,
       "border_top": null,
       "bottom": null,
       "display": null,
       "flex": null,
       "flex_flow": null,
       "grid_area": null,
       "grid_auto_columns": null,
       "grid_auto_flow": null,
       "grid_auto_rows": null,
       "grid_column": null,
       "grid_gap": null,
       "grid_row": null,
       "grid_template_areas": null,
       "grid_template_columns": null,
       "grid_template_rows": null,
       "height": null,
       "justify_content": null,
       "justify_items": null,
       "left": null,
       "margin": null,
       "max_height": null,
       "max_width": null,
       "min_height": null,
       "min_width": null,
       "object_fit": null,
       "object_position": null,
       "order": null,
       "overflow": null,
       "padding": null,
       "right": null,
       "top": null,
       "visibility": null,
       "width": null
      }
     },
     "e8e153f5cace4631a0d967e1c73f864d": {
      "model_module": "@jupyter-widgets/base",
      "model_module_version": "2.0.0",
      "model_name": "LayoutModel",
      "state": {
       "_model_module": "@jupyter-widgets/base",
       "_model_module_version": "2.0.0",
       "_model_name": "LayoutModel",
       "_view_count": null,
       "_view_module": "@jupyter-widgets/base",
       "_view_module_version": "2.0.0",
       "_view_name": "LayoutView",
       "align_content": null,
       "align_items": null,
       "align_self": null,
       "border_bottom": null,
       "border_left": null,
       "border_right": null,
       "border_top": null,
       "bottom": null,
       "display": null,
       "flex": null,
       "flex_flow": null,
       "grid_area": null,
       "grid_auto_columns": null,
       "grid_auto_flow": null,
       "grid_auto_rows": null,
       "grid_column": null,
       "grid_gap": null,
       "grid_row": null,
       "grid_template_areas": null,
       "grid_template_columns": null,
       "grid_template_rows": null,
       "height": null,
       "justify_content": null,
       "justify_items": null,
       "left": null,
       "margin": null,
       "max_height": null,
       "max_width": null,
       "min_height": null,
       "min_width": null,
       "object_fit": null,
       "object_position": null,
       "order": null,
       "overflow": null,
       "padding": null,
       "right": null,
       "top": null,
       "visibility": "hidden",
       "width": null
      }
     },
     "ec5b111252084e188073b15bf585f694": {
      "model_module": "@jupyter-widgets/controls",
      "model_module_version": "2.0.0",
      "model_name": "FloatProgressModel",
      "state": {
       "_dom_classes": [],
       "_model_module": "@jupyter-widgets/controls",
       "_model_module_version": "2.0.0",
       "_model_name": "FloatProgressModel",
       "_view_count": null,
       "_view_module": "@jupyter-widgets/controls",
       "_view_module_version": "2.0.0",
       "_view_name": "ProgressView",
       "bar_style": "",
       "description": "",
       "description_allow_html": false,
       "layout": "IPY_MODEL_cb19630c1ff14fafb1857ab4a93f3679",
       "max": 3,
       "min": 0,
       "orientation": "horizontal",
       "style": "IPY_MODEL_50fc8cc642594117a60f4cfe0b11c582",
       "tabbable": null,
       "tooltip": null,
       "value": 3
      }
     },
     "f34f5e99610e4f428abb43eeea80528b": {
      "model_module": "@jupyter-widgets/base",
      "model_module_version": "2.0.0",
      "model_name": "LayoutModel",
      "state": {
       "_model_module": "@jupyter-widgets/base",
       "_model_module_version": "2.0.0",
       "_model_name": "LayoutModel",
       "_view_count": null,
       "_view_module": "@jupyter-widgets/base",
       "_view_module_version": "2.0.0",
       "_view_name": "LayoutView",
       "align_content": null,
       "align_items": null,
       "align_self": null,
       "border_bottom": null,
       "border_left": null,
       "border_right": null,
       "border_top": null,
       "bottom": null,
       "display": null,
       "flex": null,
       "flex_flow": null,
       "grid_area": null,
       "grid_auto_columns": null,
       "grid_auto_flow": null,
       "grid_auto_rows": null,
       "grid_column": null,
       "grid_gap": null,
       "grid_row": null,
       "grid_template_areas": null,
       "grid_template_columns": null,
       "grid_template_rows": null,
       "height": null,
       "justify_content": null,
       "justify_items": null,
       "left": null,
       "margin": null,
       "max_height": null,
       "max_width": null,
       "min_height": null,
       "min_width": null,
       "object_fit": null,
       "object_position": null,
       "order": null,
       "overflow": null,
       "padding": null,
       "right": null,
       "top": null,
       "visibility": null,
       "width": null
      }
     },
     "f44c8a90033f4fa8a2b848d0c961c873": {
      "model_module": "@jupyter-widgets/controls",
      "model_module_version": "2.0.0",
      "model_name": "HTMLStyleModel",
      "state": {
       "_model_module": "@jupyter-widgets/controls",
       "_model_module_version": "2.0.0",
       "_model_name": "HTMLStyleModel",
       "_view_count": null,
       "_view_module": "@jupyter-widgets/base",
       "_view_module_version": "2.0.0",
       "_view_name": "StyleView",
       "background": null,
       "description_width": "",
       "font_size": null,
       "text_color": null
      }
     },
     "f47e7828031b4f3fa775977536002b51": {
      "model_module": "@jupyter-widgets/controls",
      "model_module_version": "2.0.0",
      "model_name": "FloatProgressModel",
      "state": {
       "_dom_classes": [],
       "_model_module": "@jupyter-widgets/controls",
       "_model_module_version": "2.0.0",
       "_model_name": "FloatProgressModel",
       "_view_count": null,
       "_view_module": "@jupyter-widgets/controls",
       "_view_module_version": "2.0.0",
       "_view_name": "ProgressView",
       "bar_style": "",
       "description": "",
       "description_allow_html": false,
       "layout": "IPY_MODEL_e6cadd9470ad4f698712b18c5e5e9ad9",
       "max": 3,
       "min": 0,
       "orientation": "horizontal",
       "style": "IPY_MODEL_3e1c9e20514843d59f154991e926a43c",
       "tabbable": null,
       "tooltip": null,
       "value": 3
      }
     },
     "f9d62c27f1564d38ab583975d95f22db": {
      "model_module": "@jupyter-widgets/controls",
      "model_module_version": "2.0.0",
      "model_name": "ProgressStyleModel",
      "state": {
       "_model_module": "@jupyter-widgets/controls",
       "_model_module_version": "2.0.0",
       "_model_name": "ProgressStyleModel",
       "_view_count": null,
       "_view_module": "@jupyter-widgets/base",
       "_view_module_version": "2.0.0",
       "_view_name": "StyleView",
       "bar_color": null,
       "description_width": ""
      }
     }
    },
    "version_major": 2,
    "version_minor": 0
   }
  }
 },
 "nbformat": 4,
 "nbformat_minor": 5
}
