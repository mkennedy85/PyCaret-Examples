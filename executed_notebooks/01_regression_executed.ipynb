{
 "cells": [
  {
   "cell_type": "code",
   "execution_count": 1,
   "id": "596a7615",
   "metadata": {
    "execution": {
     "iopub.execute_input": "2025-10-23T05:36:21.451182Z",
     "iopub.status.busy": "2025-10-23T05:36:21.450882Z",
     "iopub.status.idle": "2025-10-23T05:36:21.458648Z",
     "shell.execute_reply": "2025-10-23T05:36:21.457696Z"
    },
    "papermill": {
     "duration": 0.037186,
     "end_time": "2025-10-23T05:36:21.459556",
     "exception": false,
     "start_time": "2025-10-23T05:36:21.422370",
     "status": "completed"
    },
    "tags": [
     "injected-parameters"
    ]
   },
   "outputs": [],
   "source": [
    "# Parameters\n",
    "run_id = \"20251023-053615\"\n",
    "auto_download = \"true\"\n"
   ]
  },
  {
   "cell_type": "markdown",
   "id": "4a46e61f",
   "metadata": {
    "papermill": {
     "duration": 0.025721,
     "end_time": "2025-10-23T05:36:21.512179",
     "exception": false,
     "start_time": "2025-10-23T05:36:21.486458",
     "status": "completed"
    },
    "tags": []
   },
   "source": [
    "# 👋 PyCaret Regression Tutorial\n",
    "\n",
    "PyCaret is an open-source, low-code machine learning library in Python that automates machine learning workflows. It is an end-to-end machine learning and model management tool that exponentially speeds up the experiment cycle and makes you more productive.\n",
    "\n",
    "Compared with the other open-source machine learning libraries, PyCaret is an alternate low-code library that can be used to replace hundreds of lines of code with a few lines only. This makes experiments exponentially fast and efficient.\n",
    "\n",
    "**Course:** CMPE-255 Data Mining  \n",
    "**Institution:** San José State University  \n",
    "**Last Updated:** October 2025\n",
    "\n",
    "---\n",
    "\n",
    "## Requirements\n",
    "- Python 3.11 (recommended) or 3.10\n",
    "- PyCaret 3.3.2\n",
    "- See README.md for complete setup instructions"
   ]
  },
  {
   "cell_type": "markdown",
   "id": "71678e00",
   "metadata": {
    "papermill": {
     "duration": 0.025609,
     "end_time": "2025-10-23T05:36:21.563458",
     "exception": false,
     "start_time": "2025-10-23T05:36:21.537849",
     "status": "completed"
    },
    "tags": []
   },
   "source": [
    "## Environment Verification\n",
    "\n",
    "Let's verify we have the correct Python version and PyCaret installed."
   ]
  },
  {
   "cell_type": "code",
   "execution_count": 2,
   "id": "0d3e6015",
   "metadata": {
    "execution": {
     "iopub.execute_input": "2025-10-23T05:36:21.616816Z",
     "iopub.status.busy": "2025-10-23T05:36:21.616541Z",
     "iopub.status.idle": "2025-10-23T05:36:21.622249Z",
     "shell.execute_reply": "2025-10-23T05:36:21.621174Z"
    },
    "papermill": {
     "duration": 0.033585,
     "end_time": "2025-10-23T05:36:21.622967",
     "exception": false,
     "start_time": "2025-10-23T05:36:21.589382",
     "status": "completed"
    },
    "tags": []
   },
   "outputs": [
    {
     "name": "stdout",
     "output_type": "stream",
     "text": [
      "Python version: 3.10.19 | packaged by conda-forge | (main, Oct 22 2025, 22:29:10) [GCC 14.3.0]\n",
      "Version: 3.10.19\n",
      "\n",
      "✅ Python 3.10 is compatible with PyCaret!\n"
     ]
    }
   ],
   "source": [
    "# Check Python version\n",
    "import sys\n",
    "print(f\"Python version: {sys.version}\")\n",
    "print(f\"Version: {sys.version_info.major}.{sys.version_info.minor}.{sys.version_info.micro}\")\n",
    "\n",
    "if sys.version_info.major == 3 and 9 <= sys.version_info.minor <= 11:\n",
    "    print(f\"\\n✅ Python {sys.version_info.major}.{sys.version_info.minor} is compatible with PyCaret!\")\n",
    "elif sys.version_info >= (3, 12):\n",
    "    print(f\"\\n❌ Python 3.12+ is not supported by PyCaret 3.3.2\")\n",
    "    print(\"Please use Python 3.11 or 3.10 (see README.md for instructions)\")\n",
    "else:\n",
    "    print(f\"\\n⚠️  Python {sys.version_info.major}.{sys.version_info.minor} may have compatibility issues\")"
   ]
  },
  {
   "cell_type": "code",
   "execution_count": 3,
   "id": "affc16df",
   "metadata": {
    "execution": {
     "iopub.execute_input": "2025-10-23T05:36:21.676963Z",
     "iopub.status.busy": "2025-10-23T05:36:21.676685Z",
     "iopub.status.idle": "2025-10-23T05:36:22.361140Z",
     "shell.execute_reply": "2025-10-23T05:36:22.360304Z"
    },
    "papermill": {
     "duration": 0.713295,
     "end_time": "2025-10-23T05:36:22.362392",
     "exception": false,
     "start_time": "2025-10-23T05:36:21.649097",
     "status": "completed"
    },
    "tags": []
   },
   "outputs": [
    {
     "name": "stdout",
     "output_type": "stream",
     "text": [
      "PyCaret version: 3.3.2\n",
      "NumPy version: 1.26.4\n",
      "Pandas version: 2.1.4\n",
      "Scikit-learn version: 1.4.2\n",
      "\n",
      "✅ All packages installed successfully!\n",
      "Ready to start the tutorial.\n"
     ]
    }
   ],
   "source": [
    "# Verify PyCaret installation\n",
    "try:\n",
    "    import pycaret\n",
    "    print(f\"PyCaret version: {pycaret.__version__}\")\n",
    "    \n",
    "    import numpy as np\n",
    "    import pandas as pd\n",
    "    import sklearn\n",
    "    \n",
    "    print(f\"NumPy version: {np.__version__}\")\n",
    "    print(f\"Pandas version: {pd.__version__}\")\n",
    "    print(f\"Scikit-learn version: {sklearn.__version__}\")\n",
    "    \n",
    "    print(\"\\n✅ All packages installed successfully!\")\n",
    "    print(\"Ready to start the tutorial.\")\n",
    "    \n",
    "except ImportError as e:\n",
    "    print(f\"\\n❌ Import error: {e}\")\n",
    "    print(\"\\nPlease install PyCaret:\")\n",
    "    print(\"  pip install pycaret[full]==3.3.2\")\n",
    "    print(\"\\nSee README.md for complete setup instructions.\")"
   ]
  },
  {
   "cell_type": "markdown",
   "id": "0409831b",
   "metadata": {
    "papermill": {
     "duration": 0.02585,
     "end_time": "2025-10-23T05:36:22.414791",
     "exception": false,
     "start_time": "2025-10-23T05:36:22.388941",
     "status": "completed"
    },
    "tags": []
   },
   "source": [
    "---\n",
    "\n",
    "# 🚀 Quick Start Tutorial\n",
    "\n",
    "PyCaret's Regression Module is a supervised machine learning module used for estimating relationships between a dependent variable (target) and one or more independent variables (features).\n",
    "\n",
    "**Objective:** Predict continuous values such as:\n",
    "- Sales amounts\n",
    "- Quantities\n",
    "- Temperatures\n",
    "- Insurance charges (our example)\n",
    "\n",
    "## Typical PyCaret Workflow\n",
    "\n",
    "**Setup** ➡️ **Compare Models** ➡️ **Analyze Model** ➡️ **Prediction** ➡️ **Save Model**"
   ]
  },
  {
   "cell_type": "markdown",
   "id": "2313cd9d",
   "metadata": {
    "papermill": {
     "duration": 0.025824,
     "end_time": "2025-10-23T05:36:22.466488",
     "exception": false,
     "start_time": "2025-10-23T05:36:22.440664",
     "status": "completed"
    },
    "tags": []
   },
   "source": [
    "## Step 1: Load Data\n",
    "\n",
    "We'll use the insurance dataset from PyCaret's built-in datasets."
   ]
  },
  {
   "cell_type": "code",
   "execution_count": 4,
   "id": "9ab280ed",
   "metadata": {
    "execution": {
     "iopub.execute_input": "2025-10-23T05:36:22.520628Z",
     "iopub.status.busy": "2025-10-23T05:36:22.520200Z",
     "iopub.status.idle": "2025-10-23T05:36:22.550140Z",
     "shell.execute_reply": "2025-10-23T05:36:22.549139Z"
    },
    "papermill": {
     "duration": 0.058391,
     "end_time": "2025-10-23T05:36:22.550927",
     "exception": false,
     "start_time": "2025-10-23T05:36:22.492536",
     "status": "completed"
    },
    "tags": []
   },
   "outputs": [
    {
     "name": "stdout",
     "output_type": "stream",
     "text": [
      "✅ Dataset already exists at ../datasets/regression/housing.csv\n",
      "\n",
      "📊 Loading dataset...\n",
      "Dataset shape: (20640, 10)\n"
     ]
    }
   ],
   "source": [
    "import os\n",
    "from pathlib import Path\n",
    "import pandas as pd\n",
    "\n",
    "# Setup data directory\n",
    "data_dir = Path('../datasets/regression')\n",
    "data_dir.mkdir(parents=True, exist_ok=True)\n",
    "\n",
    "data_path = data_dir / 'housing.csv'\n",
    "\n",
    "# Download from Kaggle if not already present\n",
    "if not data_path.exists():\n",
    "    print(f\"📥 Downloading dataset from Kaggle...\")\n",
    "\n",
    "    # Check for Kaggle credentials\n",
    "    kaggle_json = Path.home() / '.kaggle' / 'kaggle.json'\n",
    "\n",
    "    if not kaggle_json.exists():\n",
    "        print(\"⚠️  Kaggle credentials not found!\")\n",
    "        print(\"\\nTo download datasets automatically, you need Kaggle API credentials:\")\n",
    "        print(\"1. Go to https://www.kaggle.com/settings\")\n",
    "        print(\"2. Scroll to 'API' section and click 'Create New API Token'\")\n",
    "        print(\"3. This downloads kaggle.json\")\n",
    "        print(\"4. Upload kaggle.json to your home directory:\")\n",
    "        print(\"   - In Vertex AI: Upload to /home/jupyter/.kaggle/\")\n",
    "        print(\"   - Or set KAGGLE_USERNAME and KAGGLE_KEY environment variables\")\n",
    "        print(\"\\nFor now, using a backup URL...\")\n",
    "\n",
    "        # Fallback: Try to download from a direct URL if available\n",
    "        try:\n",
    "            import urllib.request\n",
    "            # Note: This URL is a placeholder - update with actual backup URL if available\n",
    "            backup_url = \"https://storage.googleapis.com/pycaret-examples-backup/regression/housing.csv\"\n",
    "            print(f\"Trying backup URL: {backup_url}\")\n",
    "            urllib.request.urlretrieve(backup_url, data_path)\n",
    "            print(\"✅ Downloaded from backup URL\")\n",
    "        except Exception as e:\n",
    "            print(f\"❌ Backup download failed: {e}\")\n",
    "            raise Exception(\"Please upload kaggle.json or manually download the dataset\")\n",
    "    else:\n",
    "        # Download using Kaggle API\n",
    "        import kaggle\n",
    "        print(f\"Downloading from Kaggle: camnugent/california-housing-prices\")\n",
    "        kaggle.api.dataset_download_files(\n",
    "            'camnugent/california-housing-prices',\n",
    "            path=data_dir,\n",
    "            unzip=True,\n",
    "            quiet=False\n",
    "        )\n",
    "        print(f\"✅ Dataset downloaded to {data_dir}\")\n",
    "else:\n",
    "    print(f\"✅ Dataset already exists at {data_path}\")\n",
    "\n",
    "# Load the data\n",
    "print(f\"\\n📊 Loading dataset...\")\n",
    "data = pd.read_csv(data_path)\n",
    "print(f\"Dataset shape: {data.shape}\")\n"
   ]
  },
  {
   "cell_type": "code",
   "execution_count": 5,
   "id": "4ca24054",
   "metadata": {
    "execution": {
     "iopub.execute_input": "2025-10-23T05:36:22.605010Z",
     "iopub.status.busy": "2025-10-23T05:36:22.604713Z",
     "iopub.status.idle": "2025-10-23T05:36:22.645570Z",
     "shell.execute_reply": "2025-10-23T05:36:22.644581Z"
    },
    "papermill": {
     "duration": 0.06915,
     "end_time": "2025-10-23T05:36:22.646360",
     "exception": false,
     "start_time": "2025-10-23T05:36:22.577210",
     "status": "completed"
    },
    "tags": []
   },
   "outputs": [
    {
     "name": "stdout",
     "output_type": "stream",
     "text": [
      "Dataset Info:\n",
      "<class 'pandas.core.frame.DataFrame'>\n",
      "RangeIndex: 20640 entries, 0 to 20639\n",
      "Data columns (total 10 columns):\n",
      " #   Column              Non-Null Count  Dtype  \n",
      "---  ------              --------------  -----  \n",
      " 0   longitude           20640 non-null  float64\n",
      " 1   latitude            20640 non-null  float64\n",
      " 2   housing_median_age  20640 non-null  float64\n",
      " 3   total_rooms         20640 non-null  float64\n",
      " 4   total_bedrooms      20433 non-null  float64\n",
      " 5   population          20640 non-null  float64\n",
      " 6   households          20640 non-null  float64\n",
      " 7   median_income       20640 non-null  float64\n",
      " 8   median_house_value  20640 non-null  float64\n",
      " 9   ocean_proximity     20640 non-null  object \n",
      "dtypes: float64(9), object(1)\n",
      "memory usage: 1.6+ MB\n",
      "\n",
      "==================================================\n",
      "Statistical Summary:\n"
     ]
    },
    {
     "data": {
      "text/html": [
       "<div>\n",
       "<style scoped>\n",
       "    .dataframe tbody tr th:only-of-type {\n",
       "        vertical-align: middle;\n",
       "    }\n",
       "\n",
       "    .dataframe tbody tr th {\n",
       "        vertical-align: top;\n",
       "    }\n",
       "\n",
       "    .dataframe thead th {\n",
       "        text-align: right;\n",
       "    }\n",
       "</style>\n",
       "<table border=\"1\" class=\"dataframe\">\n",
       "  <thead>\n",
       "    <tr style=\"text-align: right;\">\n",
       "      <th></th>\n",
       "      <th>longitude</th>\n",
       "      <th>latitude</th>\n",
       "      <th>housing_median_age</th>\n",
       "      <th>total_rooms</th>\n",
       "      <th>total_bedrooms</th>\n",
       "      <th>population</th>\n",
       "      <th>households</th>\n",
       "      <th>median_income</th>\n",
       "      <th>median_house_value</th>\n",
       "    </tr>\n",
       "  </thead>\n",
       "  <tbody>\n",
       "    <tr>\n",
       "      <th>count</th>\n",
       "      <td>20640.000000</td>\n",
       "      <td>20640.000000</td>\n",
       "      <td>20640.000000</td>\n",
       "      <td>20640.000000</td>\n",
       "      <td>20433.000000</td>\n",
       "      <td>20640.000000</td>\n",
       "      <td>20640.000000</td>\n",
       "      <td>20640.000000</td>\n",
       "      <td>20640.000000</td>\n",
       "    </tr>\n",
       "    <tr>\n",
       "      <th>mean</th>\n",
       "      <td>-119.569704</td>\n",
       "      <td>35.631861</td>\n",
       "      <td>28.639486</td>\n",
       "      <td>2635.763081</td>\n",
       "      <td>537.870553</td>\n",
       "      <td>1425.476744</td>\n",
       "      <td>499.539680</td>\n",
       "      <td>3.870671</td>\n",
       "      <td>206855.816909</td>\n",
       "    </tr>\n",
       "    <tr>\n",
       "      <th>std</th>\n",
       "      <td>2.003532</td>\n",
       "      <td>2.135952</td>\n",
       "      <td>12.585558</td>\n",
       "      <td>2181.615252</td>\n",
       "      <td>421.385070</td>\n",
       "      <td>1132.462122</td>\n",
       "      <td>382.329753</td>\n",
       "      <td>1.899822</td>\n",
       "      <td>115395.615874</td>\n",
       "    </tr>\n",
       "    <tr>\n",
       "      <th>min</th>\n",
       "      <td>-124.350000</td>\n",
       "      <td>32.540000</td>\n",
       "      <td>1.000000</td>\n",
       "      <td>2.000000</td>\n",
       "      <td>1.000000</td>\n",
       "      <td>3.000000</td>\n",
       "      <td>1.000000</td>\n",
       "      <td>0.499900</td>\n",
       "      <td>14999.000000</td>\n",
       "    </tr>\n",
       "    <tr>\n",
       "      <th>25%</th>\n",
       "      <td>-121.800000</td>\n",
       "      <td>33.930000</td>\n",
       "      <td>18.000000</td>\n",
       "      <td>1447.750000</td>\n",
       "      <td>296.000000</td>\n",
       "      <td>787.000000</td>\n",
       "      <td>280.000000</td>\n",
       "      <td>2.563400</td>\n",
       "      <td>119600.000000</td>\n",
       "    </tr>\n",
       "    <tr>\n",
       "      <th>50%</th>\n",
       "      <td>-118.490000</td>\n",
       "      <td>34.260000</td>\n",
       "      <td>29.000000</td>\n",
       "      <td>2127.000000</td>\n",
       "      <td>435.000000</td>\n",
       "      <td>1166.000000</td>\n",
       "      <td>409.000000</td>\n",
       "      <td>3.534800</td>\n",
       "      <td>179700.000000</td>\n",
       "    </tr>\n",
       "    <tr>\n",
       "      <th>75%</th>\n",
       "      <td>-118.010000</td>\n",
       "      <td>37.710000</td>\n",
       "      <td>37.000000</td>\n",
       "      <td>3148.000000</td>\n",
       "      <td>647.000000</td>\n",
       "      <td>1725.000000</td>\n",
       "      <td>605.000000</td>\n",
       "      <td>4.743250</td>\n",
       "      <td>264725.000000</td>\n",
       "    </tr>\n",
       "    <tr>\n",
       "      <th>max</th>\n",
       "      <td>-114.310000</td>\n",
       "      <td>41.950000</td>\n",
       "      <td>52.000000</td>\n",
       "      <td>39320.000000</td>\n",
       "      <td>6445.000000</td>\n",
       "      <td>35682.000000</td>\n",
       "      <td>6082.000000</td>\n",
       "      <td>15.000100</td>\n",
       "      <td>500001.000000</td>\n",
       "    </tr>\n",
       "  </tbody>\n",
       "</table>\n",
       "</div>"
      ],
      "text/plain": [
       "          longitude      latitude  housing_median_age   total_rooms  \\\n",
       "count  20640.000000  20640.000000        20640.000000  20640.000000   \n",
       "mean    -119.569704     35.631861           28.639486   2635.763081   \n",
       "std        2.003532      2.135952           12.585558   2181.615252   \n",
       "min     -124.350000     32.540000            1.000000      2.000000   \n",
       "25%     -121.800000     33.930000           18.000000   1447.750000   \n",
       "50%     -118.490000     34.260000           29.000000   2127.000000   \n",
       "75%     -118.010000     37.710000           37.000000   3148.000000   \n",
       "max     -114.310000     41.950000           52.000000  39320.000000   \n",
       "\n",
       "       total_bedrooms    population    households  median_income  \\\n",
       "count    20433.000000  20640.000000  20640.000000   20640.000000   \n",
       "mean       537.870553   1425.476744    499.539680       3.870671   \n",
       "std        421.385070   1132.462122    382.329753       1.899822   \n",
       "min          1.000000      3.000000      1.000000       0.499900   \n",
       "25%        296.000000    787.000000    280.000000       2.563400   \n",
       "50%        435.000000   1166.000000    409.000000       3.534800   \n",
       "75%        647.000000   1725.000000    605.000000       4.743250   \n",
       "max       6445.000000  35682.000000   6082.000000      15.000100   \n",
       "\n",
       "       median_house_value  \n",
       "count        20640.000000  \n",
       "mean        206855.816909  \n",
       "std         115395.615874  \n",
       "min          14999.000000  \n",
       "25%         119600.000000  \n",
       "50%         179700.000000  \n",
       "75%         264725.000000  \n",
       "max         500001.000000  "
      ]
     },
     "execution_count": 5,
     "metadata": {},
     "output_type": "execute_result"
    }
   ],
   "source": [
    "# Quick data exploration\n",
    "print(\"Dataset Info:\")\n",
    "data.info()\n",
    "\n",
    "print(\"\\n\" + \"=\"*50)\n",
    "print(\"Statistical Summary:\")\n",
    "data.describe()"
   ]
  },
  {
   "cell_type": "markdown",
   "id": "d68c1e4e",
   "metadata": {
    "papermill": {
     "duration": 0.026475,
     "end_time": "2025-10-23T05:36:22.699624",
     "exception": false,
     "start_time": "2025-10-23T05:36:22.673149",
     "status": "completed"
    },
    "tags": []
   },
   "source": [
    "## Step 2: Setup\n",
    "\n",
    "The `setup()` function initializes the training environment and creates the transformation pipeline.\n",
    "\n",
    "**This is the most important step in PyCaret!**\n",
    "\n",
    "### Required Parameters:\n",
    "- `data`: Your pandas DataFrame\n",
    "- `target`: Name of the target column\n",
    "\n",
    "### Common Optional Parameters:\n",
    "- `session_id`: Random seed for reproducibility\n",
    "- `train_size`: Proportion of data for training (default: 0.7)\n",
    "- `normalize`: Enable feature normalization\n",
    "- `transformation`: Enable feature transformation\n",
    "- `pca`: Enable PCA for dimensionality reduction\n",
    "- `verbose`: Control output verbosity"
   ]
  },
  {
   "cell_type": "code",
   "execution_count": 6,
   "id": "8f22f6bd",
   "metadata": {
    "execution": {
     "iopub.execute_input": "2025-10-23T05:36:22.754033Z",
     "iopub.status.busy": "2025-10-23T05:36:22.753728Z",
     "iopub.status.idle": "2025-10-23T05:36:28.562964Z",
     "shell.execute_reply": "2025-10-23T05:36:28.561941Z"
    },
    "papermill": {
     "duration": 5.838044,
     "end_time": "2025-10-23T05:36:28.563988",
     "exception": false,
     "start_time": "2025-10-23T05:36:22.725944",
     "status": "completed"
    },
    "tags": []
   },
   "outputs": [
    {
     "data": {
      "text/html": [
       "<style type=\"text/css\">\n",
       "#T_d4b41_row10_col1 {\n",
       "  background-color: lightgreen;\n",
       "}\n",
       "</style>\n",
       "<table id=\"T_d4b41\">\n",
       "  <thead>\n",
       "    <tr>\n",
       "      <th class=\"blank level0\" >&nbsp;</th>\n",
       "      <th id=\"T_d4b41_level0_col0\" class=\"col_heading level0 col0\" >Description</th>\n",
       "      <th id=\"T_d4b41_level0_col1\" class=\"col_heading level0 col1\" >Value</th>\n",
       "    </tr>\n",
       "  </thead>\n",
       "  <tbody>\n",
       "    <tr>\n",
       "      <th id=\"T_d4b41_level0_row0\" class=\"row_heading level0 row0\" >0</th>\n",
       "      <td id=\"T_d4b41_row0_col0\" class=\"data row0 col0\" >Session id</td>\n",
       "      <td id=\"T_d4b41_row0_col1\" class=\"data row0 col1\" >123</td>\n",
       "    </tr>\n",
       "    <tr>\n",
       "      <th id=\"T_d4b41_level0_row1\" class=\"row_heading level0 row1\" >1</th>\n",
       "      <td id=\"T_d4b41_row1_col0\" class=\"data row1 col0\" >Target</td>\n",
       "      <td id=\"T_d4b41_row1_col1\" class=\"data row1 col1\" >median_house_value</td>\n",
       "    </tr>\n",
       "    <tr>\n",
       "      <th id=\"T_d4b41_level0_row2\" class=\"row_heading level0 row2\" >2</th>\n",
       "      <td id=\"T_d4b41_row2_col0\" class=\"data row2 col0\" >Target type</td>\n",
       "      <td id=\"T_d4b41_row2_col1\" class=\"data row2 col1\" >Regression</td>\n",
       "    </tr>\n",
       "    <tr>\n",
       "      <th id=\"T_d4b41_level0_row3\" class=\"row_heading level0 row3\" >3</th>\n",
       "      <td id=\"T_d4b41_row3_col0\" class=\"data row3 col0\" >Original data shape</td>\n",
       "      <td id=\"T_d4b41_row3_col1\" class=\"data row3 col1\" >(20640, 10)</td>\n",
       "    </tr>\n",
       "    <tr>\n",
       "      <th id=\"T_d4b41_level0_row4\" class=\"row_heading level0 row4\" >4</th>\n",
       "      <td id=\"T_d4b41_row4_col0\" class=\"data row4 col0\" >Transformed data shape</td>\n",
       "      <td id=\"T_d4b41_row4_col1\" class=\"data row4 col1\" >(20640, 14)</td>\n",
       "    </tr>\n",
       "    <tr>\n",
       "      <th id=\"T_d4b41_level0_row5\" class=\"row_heading level0 row5\" >5</th>\n",
       "      <td id=\"T_d4b41_row5_col0\" class=\"data row5 col0\" >Transformed train set shape</td>\n",
       "      <td id=\"T_d4b41_row5_col1\" class=\"data row5 col1\" >(14447, 14)</td>\n",
       "    </tr>\n",
       "    <tr>\n",
       "      <th id=\"T_d4b41_level0_row6\" class=\"row_heading level0 row6\" >6</th>\n",
       "      <td id=\"T_d4b41_row6_col0\" class=\"data row6 col0\" >Transformed test set shape</td>\n",
       "      <td id=\"T_d4b41_row6_col1\" class=\"data row6 col1\" >(6193, 14)</td>\n",
       "    </tr>\n",
       "    <tr>\n",
       "      <th id=\"T_d4b41_level0_row7\" class=\"row_heading level0 row7\" >7</th>\n",
       "      <td id=\"T_d4b41_row7_col0\" class=\"data row7 col0\" >Numeric features</td>\n",
       "      <td id=\"T_d4b41_row7_col1\" class=\"data row7 col1\" >8</td>\n",
       "    </tr>\n",
       "    <tr>\n",
       "      <th id=\"T_d4b41_level0_row8\" class=\"row_heading level0 row8\" >8</th>\n",
       "      <td id=\"T_d4b41_row8_col0\" class=\"data row8 col0\" >Categorical features</td>\n",
       "      <td id=\"T_d4b41_row8_col1\" class=\"data row8 col1\" >1</td>\n",
       "    </tr>\n",
       "    <tr>\n",
       "      <th id=\"T_d4b41_level0_row9\" class=\"row_heading level0 row9\" >9</th>\n",
       "      <td id=\"T_d4b41_row9_col0\" class=\"data row9 col0\" >Rows with missing values</td>\n",
       "      <td id=\"T_d4b41_row9_col1\" class=\"data row9 col1\" >1.0%</td>\n",
       "    </tr>\n",
       "    <tr>\n",
       "      <th id=\"T_d4b41_level0_row10\" class=\"row_heading level0 row10\" >10</th>\n",
       "      <td id=\"T_d4b41_row10_col0\" class=\"data row10 col0\" >Preprocess</td>\n",
       "      <td id=\"T_d4b41_row10_col1\" class=\"data row10 col1\" >True</td>\n",
       "    </tr>\n",
       "    <tr>\n",
       "      <th id=\"T_d4b41_level0_row11\" class=\"row_heading level0 row11\" >11</th>\n",
       "      <td id=\"T_d4b41_row11_col0\" class=\"data row11 col0\" >Imputation type</td>\n",
       "      <td id=\"T_d4b41_row11_col1\" class=\"data row11 col1\" >simple</td>\n",
       "    </tr>\n",
       "    <tr>\n",
       "      <th id=\"T_d4b41_level0_row12\" class=\"row_heading level0 row12\" >12</th>\n",
       "      <td id=\"T_d4b41_row12_col0\" class=\"data row12 col0\" >Numeric imputation</td>\n",
       "      <td id=\"T_d4b41_row12_col1\" class=\"data row12 col1\" >mean</td>\n",
       "    </tr>\n",
       "    <tr>\n",
       "      <th id=\"T_d4b41_level0_row13\" class=\"row_heading level0 row13\" >13</th>\n",
       "      <td id=\"T_d4b41_row13_col0\" class=\"data row13 col0\" >Categorical imputation</td>\n",
       "      <td id=\"T_d4b41_row13_col1\" class=\"data row13 col1\" >mode</td>\n",
       "    </tr>\n",
       "    <tr>\n",
       "      <th id=\"T_d4b41_level0_row14\" class=\"row_heading level0 row14\" >14</th>\n",
       "      <td id=\"T_d4b41_row14_col0\" class=\"data row14 col0\" >Maximum one-hot encoding</td>\n",
       "      <td id=\"T_d4b41_row14_col1\" class=\"data row14 col1\" >25</td>\n",
       "    </tr>\n",
       "    <tr>\n",
       "      <th id=\"T_d4b41_level0_row15\" class=\"row_heading level0 row15\" >15</th>\n",
       "      <td id=\"T_d4b41_row15_col0\" class=\"data row15 col0\" >Encoding method</td>\n",
       "      <td id=\"T_d4b41_row15_col1\" class=\"data row15 col1\" >None</td>\n",
       "    </tr>\n",
       "    <tr>\n",
       "      <th id=\"T_d4b41_level0_row16\" class=\"row_heading level0 row16\" >16</th>\n",
       "      <td id=\"T_d4b41_row16_col0\" class=\"data row16 col0\" >Fold Generator</td>\n",
       "      <td id=\"T_d4b41_row16_col1\" class=\"data row16 col1\" >KFold</td>\n",
       "    </tr>\n",
       "    <tr>\n",
       "      <th id=\"T_d4b41_level0_row17\" class=\"row_heading level0 row17\" >17</th>\n",
       "      <td id=\"T_d4b41_row17_col0\" class=\"data row17 col0\" >Fold Number</td>\n",
       "      <td id=\"T_d4b41_row17_col1\" class=\"data row17 col1\" >3</td>\n",
       "    </tr>\n",
       "    <tr>\n",
       "      <th id=\"T_d4b41_level0_row18\" class=\"row_heading level0 row18\" >18</th>\n",
       "      <td id=\"T_d4b41_row18_col0\" class=\"data row18 col0\" >CPU Jobs</td>\n",
       "      <td id=\"T_d4b41_row18_col1\" class=\"data row18 col1\" >-1</td>\n",
       "    </tr>\n",
       "    <tr>\n",
       "      <th id=\"T_d4b41_level0_row19\" class=\"row_heading level0 row19\" >19</th>\n",
       "      <td id=\"T_d4b41_row19_col0\" class=\"data row19 col0\" >Use GPU</td>\n",
       "      <td id=\"T_d4b41_row19_col1\" class=\"data row19 col1\" >False</td>\n",
       "    </tr>\n",
       "    <tr>\n",
       "      <th id=\"T_d4b41_level0_row20\" class=\"row_heading level0 row20\" >20</th>\n",
       "      <td id=\"T_d4b41_row20_col0\" class=\"data row20 col0\" >Log Experiment</td>\n",
       "      <td id=\"T_d4b41_row20_col1\" class=\"data row20 col1\" >False</td>\n",
       "    </tr>\n",
       "    <tr>\n",
       "      <th id=\"T_d4b41_level0_row21\" class=\"row_heading level0 row21\" >21</th>\n",
       "      <td id=\"T_d4b41_row21_col0\" class=\"data row21 col0\" >Experiment Name</td>\n",
       "      <td id=\"T_d4b41_row21_col1\" class=\"data row21 col1\" >reg-default-name</td>\n",
       "    </tr>\n",
       "    <tr>\n",
       "      <th id=\"T_d4b41_level0_row22\" class=\"row_heading level0 row22\" >22</th>\n",
       "      <td id=\"T_d4b41_row22_col0\" class=\"data row22 col0\" >USI</td>\n",
       "      <td id=\"T_d4b41_row22_col1\" class=\"data row22 col1\" >40c3</td>\n",
       "    </tr>\n",
       "  </tbody>\n",
       "</table>\n"
      ],
      "text/plain": [
       "<pandas.io.formats.style.Styler at 0x7fab165387c0>"
      ]
     },
     "metadata": {},
     "output_type": "display_data"
    }
   ],
   "source": [
    "from pycaret.regression import *\n",
    "\n",
    "# Initialize the setup\n",
    "s = setup(data, target='median_house_value', fold=3, session_id=123)  # fold=3 for faster execution"
   ]
  },
  {
   "cell_type": "markdown",
   "id": "01bec453",
   "metadata": {
    "papermill": {
     "duration": 0.026727,
     "end_time": "2025-10-23T05:36:28.618609",
     "exception": false,
     "start_time": "2025-10-23T05:36:28.591882",
     "status": "completed"
    },
    "tags": []
   },
   "source": [
    "### Alternative: Object-Oriented API\n",
    "\n",
    "PyCaret supports both Functional and OOP approaches. Both produce identical results."
   ]
  },
  {
   "cell_type": "code",
   "execution_count": 7,
   "id": "fe9c4c24",
   "metadata": {
    "execution": {
     "iopub.execute_input": "2025-10-23T05:36:28.673680Z",
     "iopub.status.busy": "2025-10-23T05:36:28.673344Z",
     "iopub.status.idle": "2025-10-23T05:36:28.677414Z",
     "shell.execute_reply": "2025-10-23T05:36:28.676437Z"
    },
    "papermill": {
     "duration": 0.033042,
     "end_time": "2025-10-23T05:36:28.678191",
     "exception": false,
     "start_time": "2025-10-23T05:36:28.645149",
     "status": "completed"
    },
    "tags": []
   },
   "outputs": [],
   "source": [
    "# Object-Oriented API (optional - you can skip this cell)\n",
    "from pycaret.regression import RegressionExperiment\n",
    "\n",
    "exp = RegressionExperiment()\n",
    "# exp.setup(data, target='median_house_value', session_id=123)"
   ]
  },
  {
   "cell_type": "markdown",
   "id": "0f48039d",
   "metadata": {
    "papermill": {
     "duration": 0.026602,
     "end_time": "2025-10-23T05:36:28.732014",
     "exception": false,
     "start_time": "2025-10-23T05:36:28.705412",
     "status": "completed"
    },
    "tags": []
   },
   "source": [
    "## Step 3: Compare Models\n",
    "\n",
    "The `compare_models()` function trains and evaluates ALL available estimators using cross-validation.\n",
    "\n",
    "**This is PyCaret's AutoML feature!**\n",
    "\n",
    "It will automatically:\n",
    "- Train 25+ regression models\n",
    "- Perform cross-validation\n",
    "- Evaluate on multiple metrics\n",
    "- Return the best model"
   ]
  },
  {
   "cell_type": "code",
   "execution_count": 8,
   "id": "e9647878",
   "metadata": {
    "execution": {
     "iopub.execute_input": "2025-10-23T05:36:28.786474Z",
     "iopub.status.busy": "2025-10-23T05:36:28.786182Z",
     "iopub.status.idle": "2025-10-23T05:37:58.555037Z",
     "shell.execute_reply": "2025-10-23T05:37:58.554051Z"
    },
    "papermill": {
     "duration": 89.797476,
     "end_time": "2025-10-23T05:37:58.555868",
     "exception": false,
     "start_time": "2025-10-23T05:36:28.758392",
     "status": "completed"
    },
    "tags": []
   },
   "outputs": [
    {
     "data": {
      "text/html": [],
      "text/plain": [
       "<IPython.core.display.HTML object>"
      ]
     },
     "metadata": {},
     "output_type": "display_data"
    },
    {
     "data": {
      "text/html": [
       "<style type=\"text/css\">\n",
       "#T_18e76 th {\n",
       "  text-align: left;\n",
       "}\n",
       "#T_18e76_row0_col0, #T_18e76_row1_col0, #T_18e76_row1_col1, #T_18e76_row1_col2, #T_18e76_row1_col3, #T_18e76_row1_col4, #T_18e76_row1_col5, #T_18e76_row1_col6, #T_18e76_row2_col0, #T_18e76_row2_col1, #T_18e76_row2_col2, #T_18e76_row2_col3, #T_18e76_row2_col4, #T_18e76_row2_col5, #T_18e76_row2_col6, #T_18e76_row3_col0, #T_18e76_row3_col1, #T_18e76_row3_col2, #T_18e76_row3_col3, #T_18e76_row3_col4, #T_18e76_row3_col5, #T_18e76_row3_col6, #T_18e76_row4_col0, #T_18e76_row4_col1, #T_18e76_row4_col2, #T_18e76_row4_col3, #T_18e76_row4_col4, #T_18e76_row4_col5, #T_18e76_row4_col6 {\n",
       "  text-align: left;\n",
       "}\n",
       "#T_18e76_row0_col1, #T_18e76_row0_col2, #T_18e76_row0_col3, #T_18e76_row0_col4, #T_18e76_row0_col5, #T_18e76_row0_col6 {\n",
       "  text-align: left;\n",
       "  background-color: yellow;\n",
       "}\n",
       "#T_18e76_row0_col7, #T_18e76_row1_col7, #T_18e76_row3_col7, #T_18e76_row4_col7 {\n",
       "  text-align: left;\n",
       "  background-color: lightgrey;\n",
       "}\n",
       "#T_18e76_row2_col7 {\n",
       "  text-align: left;\n",
       "  background-color: yellow;\n",
       "  background-color: lightgrey;\n",
       "}\n",
       "</style>\n",
       "<table id=\"T_18e76\">\n",
       "  <thead>\n",
       "    <tr>\n",
       "      <th class=\"blank level0\" >&nbsp;</th>\n",
       "      <th id=\"T_18e76_level0_col0\" class=\"col_heading level0 col0\" >Model</th>\n",
       "      <th id=\"T_18e76_level0_col1\" class=\"col_heading level0 col1\" >MAE</th>\n",
       "      <th id=\"T_18e76_level0_col2\" class=\"col_heading level0 col2\" >MSE</th>\n",
       "      <th id=\"T_18e76_level0_col3\" class=\"col_heading level0 col3\" >RMSE</th>\n",
       "      <th id=\"T_18e76_level0_col4\" class=\"col_heading level0 col4\" >R2</th>\n",
       "      <th id=\"T_18e76_level0_col5\" class=\"col_heading level0 col5\" >RMSLE</th>\n",
       "      <th id=\"T_18e76_level0_col6\" class=\"col_heading level0 col6\" >MAPE</th>\n",
       "      <th id=\"T_18e76_level0_col7\" class=\"col_heading level0 col7\" >TT (Sec)</th>\n",
       "    </tr>\n",
       "  </thead>\n",
       "  <tbody>\n",
       "    <tr>\n",
       "      <th id=\"T_18e76_level0_row0\" class=\"row_heading level0 row0\" >lightgbm</th>\n",
       "      <td id=\"T_18e76_row0_col0\" class=\"data row0 col0\" >Light Gradient Boosting Machine</td>\n",
       "      <td id=\"T_18e76_row0_col1\" class=\"data row0 col1\" >32821.3369</td>\n",
       "      <td id=\"T_18e76_row0_col2\" class=\"data row0 col2\" >2407425173.5361</td>\n",
       "      <td id=\"T_18e76_row0_col3\" class=\"data row0 col3\" >49064.6499</td>\n",
       "      <td id=\"T_18e76_row0_col4\" class=\"data row0 col4\" >0.8196</td>\n",
       "      <td id=\"T_18e76_row0_col5\" class=\"data row0 col5\" >0.2406</td>\n",
       "      <td id=\"T_18e76_row0_col6\" class=\"data row0 col6\" >0.1830</td>\n",
       "      <td id=\"T_18e76_row0_col7\" class=\"data row0 col7\" >25.5300</td>\n",
       "    </tr>\n",
       "    <tr>\n",
       "      <th id=\"T_18e76_level0_row1\" class=\"row_heading level0 row1\" >rf</th>\n",
       "      <td id=\"T_18e76_row1_col0\" class=\"data row1 col0\" >Random Forest Regressor</td>\n",
       "      <td id=\"T_18e76_row1_col1\" class=\"data row1 col1\" >33663.7204</td>\n",
       "      <td id=\"T_18e76_row1_col2\" class=\"data row1 col2\" >2651348673.5270</td>\n",
       "      <td id=\"T_18e76_row1_col3\" class=\"data row1 col3\" >51489.8458</td>\n",
       "      <td id=\"T_18e76_row1_col4\" class=\"data row1 col4\" >0.8013</td>\n",
       "      <td id=\"T_18e76_row1_col5\" class=\"data row1 col5\" >0.2477</td>\n",
       "      <td id=\"T_18e76_row1_col6\" class=\"data row1 col6\" >0.1873</td>\n",
       "      <td id=\"T_18e76_row1_col7\" class=\"data row1 col7\" >1.7700</td>\n",
       "    </tr>\n",
       "    <tr>\n",
       "      <th id=\"T_18e76_level0_row2\" class=\"row_heading level0 row2\" >gbr</th>\n",
       "      <td id=\"T_18e76_row2_col0\" class=\"data row2 col0\" >Gradient Boosting Regressor</td>\n",
       "      <td id=\"T_18e76_row2_col1\" class=\"data row2 col1\" >39144.1209</td>\n",
       "      <td id=\"T_18e76_row2_col2\" class=\"data row2 col2\" >3168067921.2413</td>\n",
       "      <td id=\"T_18e76_row2_col3\" class=\"data row2 col3\" >56285.5790</td>\n",
       "      <td id=\"T_18e76_row2_col4\" class=\"data row2 col4\" >0.7626</td>\n",
       "      <td id=\"T_18e76_row2_col5\" class=\"data row2 col5\" >0.2741</td>\n",
       "      <td id=\"T_18e76_row2_col6\" class=\"data row2 col6\" >0.2192</td>\n",
       "      <td id=\"T_18e76_row2_col7\" class=\"data row2 col7\" >0.6733</td>\n",
       "    </tr>\n",
       "    <tr>\n",
       "      <th id=\"T_18e76_level0_row3\" class=\"row_heading level0 row3\" >lr</th>\n",
       "      <td id=\"T_18e76_row3_col0\" class=\"data row3 col0\" >Linear Regression</td>\n",
       "      <td id=\"T_18e76_row3_col1\" class=\"data row3 col1\" >50233.6168</td>\n",
       "      <td id=\"T_18e76_row3_col2\" class=\"data row3 col2\" >4771242231.8156</td>\n",
       "      <td id=\"T_18e76_row3_col3\" class=\"data row3 col3\" >69073.0166</td>\n",
       "      <td id=\"T_18e76_row3_col4\" class=\"data row3 col4\" >0.6424</td>\n",
       "      <td id=\"T_18e76_row3_col5\" class=\"data row3 col5\" >0.3888</td>\n",
       "      <td id=\"T_18e76_row3_col6\" class=\"data row3 col6\" >0.2890</td>\n",
       "      <td id=\"T_18e76_row3_col7\" class=\"data row3 col7\" >0.7900</td>\n",
       "    </tr>\n",
       "    <tr>\n",
       "      <th id=\"T_18e76_level0_row4\" class=\"row_heading level0 row4\" >ridge</th>\n",
       "      <td id=\"T_18e76_row4_col0\" class=\"data row4 col0\" >Ridge Regression</td>\n",
       "      <td id=\"T_18e76_row4_col1\" class=\"data row4 col1\" >50232.9618</td>\n",
       "      <td id=\"T_18e76_row4_col2\" class=\"data row4 col2\" >4770918289.9898</td>\n",
       "      <td id=\"T_18e76_row4_col3\" class=\"data row4 col3\" >69070.6255</td>\n",
       "      <td id=\"T_18e76_row4_col4\" class=\"data row4 col4\" >0.6424</td>\n",
       "      <td id=\"T_18e76_row4_col5\" class=\"data row4 col5\" >0.3887</td>\n",
       "      <td id=\"T_18e76_row4_col6\" class=\"data row4 col6\" >0.2890</td>\n",
       "      <td id=\"T_18e76_row4_col7\" class=\"data row4 col7\" >0.6900</td>\n",
       "    </tr>\n",
       "  </tbody>\n",
       "</table>\n"
      ],
      "text/plain": [
       "<pandas.io.formats.style.Styler at 0x7fab1659dff0>"
      ]
     },
     "metadata": {},
     "output_type": "display_data"
    },
    {
     "data": {
      "text/html": [],
      "text/plain": [
       "<IPython.core.display.HTML object>"
      ]
     },
     "metadata": {},
     "output_type": "display_data"
    },
    {
     "name": "stdout",
     "output_type": "stream",
     "text": [
      "\n",
      "Best model: LGBMRegressor\n"
     ]
    }
   ],
   "source": [
    "# Compare top models only (fast mode)\n",
    "# Testing fewer models for faster execution\n",
    "best = compare_models(include=['lr', 'ridge', 'rf', 'lightgbm', 'gbr'], n_select=1)\n",
    "\n",
    "print(f\"\\nBest model: {type(best).__name__}\")"
   ]
  },
  {
   "cell_type": "code",
   "execution_count": 9,
   "id": "6a776f6b",
   "metadata": {
    "execution": {
     "iopub.execute_input": "2025-10-23T05:37:58.612163Z",
     "iopub.status.busy": "2025-10-23T05:37:58.611848Z",
     "iopub.status.idle": "2025-10-23T05:37:58.623477Z",
     "shell.execute_reply": "2025-10-23T05:37:58.622686Z"
    },
    "papermill": {
     "duration": 0.041187,
     "end_time": "2025-10-23T05:37:58.624584",
     "exception": false,
     "start_time": "2025-10-23T05:37:58.583397",
     "status": "completed"
    },
    "tags": []
   },
   "outputs": [
    {
     "data": {
      "text/html": [
       "<div>\n",
       "<style scoped>\n",
       "    .dataframe tbody tr th:only-of-type {\n",
       "        vertical-align: middle;\n",
       "    }\n",
       "\n",
       "    .dataframe tbody tr th {\n",
       "        vertical-align: top;\n",
       "    }\n",
       "\n",
       "    .dataframe thead th {\n",
       "        text-align: right;\n",
       "    }\n",
       "</style>\n",
       "<table border=\"1\" class=\"dataframe\">\n",
       "  <thead>\n",
       "    <tr style=\"text-align: right;\">\n",
       "      <th></th>\n",
       "      <th>Model</th>\n",
       "      <th>MAE</th>\n",
       "      <th>MSE</th>\n",
       "      <th>RMSE</th>\n",
       "      <th>R2</th>\n",
       "      <th>RMSLE</th>\n",
       "      <th>MAPE</th>\n",
       "      <th>TT (Sec)</th>\n",
       "    </tr>\n",
       "  </thead>\n",
       "  <tbody>\n",
       "    <tr>\n",
       "      <th>lightgbm</th>\n",
       "      <td>Light Gradient Boosting Machine</td>\n",
       "      <td>32821.3369</td>\n",
       "      <td>2.407425e+09</td>\n",
       "      <td>49064.6499</td>\n",
       "      <td>0.8196</td>\n",
       "      <td>0.2406</td>\n",
       "      <td>0.1830</td>\n",
       "      <td>25.5300</td>\n",
       "    </tr>\n",
       "    <tr>\n",
       "      <th>rf</th>\n",
       "      <td>Random Forest Regressor</td>\n",
       "      <td>33663.7204</td>\n",
       "      <td>2.651349e+09</td>\n",
       "      <td>51489.8458</td>\n",
       "      <td>0.8013</td>\n",
       "      <td>0.2477</td>\n",
       "      <td>0.1873</td>\n",
       "      <td>1.7700</td>\n",
       "    </tr>\n",
       "    <tr>\n",
       "      <th>gbr</th>\n",
       "      <td>Gradient Boosting Regressor</td>\n",
       "      <td>39144.1209</td>\n",
       "      <td>3.168068e+09</td>\n",
       "      <td>56285.5790</td>\n",
       "      <td>0.7626</td>\n",
       "      <td>0.2741</td>\n",
       "      <td>0.2192</td>\n",
       "      <td>0.6733</td>\n",
       "    </tr>\n",
       "    <tr>\n",
       "      <th>lr</th>\n",
       "      <td>Linear Regression</td>\n",
       "      <td>50233.6168</td>\n",
       "      <td>4.771242e+09</td>\n",
       "      <td>69073.0166</td>\n",
       "      <td>0.6424</td>\n",
       "      <td>0.3888</td>\n",
       "      <td>0.2890</td>\n",
       "      <td>0.7900</td>\n",
       "    </tr>\n",
       "    <tr>\n",
       "      <th>ridge</th>\n",
       "      <td>Ridge Regression</td>\n",
       "      <td>50232.9618</td>\n",
       "      <td>4.770918e+09</td>\n",
       "      <td>69070.6255</td>\n",
       "      <td>0.6424</td>\n",
       "      <td>0.3887</td>\n",
       "      <td>0.2890</td>\n",
       "      <td>0.6900</td>\n",
       "    </tr>\n",
       "  </tbody>\n",
       "</table>\n",
       "</div>"
      ],
      "text/plain": [
       "                                    Model         MAE           MSE  \\\n",
       "lightgbm  Light Gradient Boosting Machine  32821.3369  2.407425e+09   \n",
       "rf                Random Forest Regressor  33663.7204  2.651349e+09   \n",
       "gbr           Gradient Boosting Regressor  39144.1209  3.168068e+09   \n",
       "lr                      Linear Regression  50233.6168  4.771242e+09   \n",
       "ridge                    Ridge Regression  50232.9618  4.770918e+09   \n",
       "\n",
       "                RMSE      R2   RMSLE    MAPE  TT (Sec)  \n",
       "lightgbm  49064.6499  0.8196  0.2406  0.1830   25.5300  \n",
       "rf        51489.8458  0.8013  0.2477  0.1873    1.7700  \n",
       "gbr       56285.5790  0.7626  0.2741  0.2192    0.6733  \n",
       "lr        69073.0166  0.6424  0.3888  0.2890    0.7900  \n",
       "ridge     69070.6255  0.6424  0.3887  0.2890    0.6900  "
      ]
     },
     "execution_count": 9,
     "metadata": {},
     "output_type": "execute_result"
    }
   ],
   "source": [
    "# Access the comparison results as a DataFrame\n",
    "results = pull()\n",
    "results"
   ]
  },
  {
   "cell_type": "markdown",
   "id": "4d2d2483",
   "metadata": {
    "papermill": {
     "duration": 0.027272,
     "end_time": "2025-10-23T05:37:58.679455",
     "exception": false,
     "start_time": "2025-10-23T05:37:58.652183",
     "status": "completed"
    },
    "tags": []
   },
   "source": [
    "### Alternative: Train a Specific Model\n",
    "\n",
    "If you want to train a specific model instead of comparing all:"
   ]
  },
  {
   "cell_type": "code",
   "execution_count": 10,
   "id": "b16fcc53",
   "metadata": {
    "execution": {
     "iopub.execute_input": "2025-10-23T05:37:58.736493Z",
     "iopub.status.busy": "2025-10-23T05:37:58.736197Z",
     "iopub.status.idle": "2025-10-23T05:37:58.977765Z",
     "shell.execute_reply": "2025-10-23T05:37:58.976719Z"
    },
    "papermill": {
     "duration": 0.272233,
     "end_time": "2025-10-23T05:37:58.978914",
     "exception": false,
     "start_time": "2025-10-23T05:37:58.706681",
     "status": "completed"
    },
    "tags": []
   },
   "outputs": [
    {
     "data": {
      "text/html": [
       "<div>\n",
       "<style scoped>\n",
       "    .dataframe tbody tr th:only-of-type {\n",
       "        vertical-align: middle;\n",
       "    }\n",
       "\n",
       "    .dataframe tbody tr th {\n",
       "        vertical-align: top;\n",
       "    }\n",
       "\n",
       "    .dataframe thead th {\n",
       "        text-align: right;\n",
       "    }\n",
       "</style>\n",
       "<table border=\"1\" class=\"dataframe\">\n",
       "  <thead>\n",
       "    <tr style=\"text-align: right;\">\n",
       "      <th></th>\n",
       "      <th>Name</th>\n",
       "      <th>Reference</th>\n",
       "      <th>Turbo</th>\n",
       "    </tr>\n",
       "    <tr>\n",
       "      <th>ID</th>\n",
       "      <th></th>\n",
       "      <th></th>\n",
       "      <th></th>\n",
       "    </tr>\n",
       "  </thead>\n",
       "  <tbody>\n",
       "    <tr>\n",
       "      <th>lr</th>\n",
       "      <td>Linear Regression</td>\n",
       "      <td>sklearn.linear_model._base.LinearRegression</td>\n",
       "      <td>True</td>\n",
       "    </tr>\n",
       "    <tr>\n",
       "      <th>lasso</th>\n",
       "      <td>Lasso Regression</td>\n",
       "      <td>sklearn.linear_model._coordinate_descent.Lasso</td>\n",
       "      <td>True</td>\n",
       "    </tr>\n",
       "    <tr>\n",
       "      <th>ridge</th>\n",
       "      <td>Ridge Regression</td>\n",
       "      <td>sklearn.linear_model._ridge.Ridge</td>\n",
       "      <td>True</td>\n",
       "    </tr>\n",
       "    <tr>\n",
       "      <th>en</th>\n",
       "      <td>Elastic Net</td>\n",
       "      <td>sklearn.linear_model._coordinate_descent.Elast...</td>\n",
       "      <td>True</td>\n",
       "    </tr>\n",
       "    <tr>\n",
       "      <th>lar</th>\n",
       "      <td>Least Angle Regression</td>\n",
       "      <td>sklearn.linear_model._least_angle.Lars</td>\n",
       "      <td>True</td>\n",
       "    </tr>\n",
       "    <tr>\n",
       "      <th>llar</th>\n",
       "      <td>Lasso Least Angle Regression</td>\n",
       "      <td>sklearn.linear_model._least_angle.LassoLars</td>\n",
       "      <td>True</td>\n",
       "    </tr>\n",
       "    <tr>\n",
       "      <th>omp</th>\n",
       "      <td>Orthogonal Matching Pursuit</td>\n",
       "      <td>sklearn.linear_model._omp.OrthogonalMatchingPu...</td>\n",
       "      <td>True</td>\n",
       "    </tr>\n",
       "    <tr>\n",
       "      <th>br</th>\n",
       "      <td>Bayesian Ridge</td>\n",
       "      <td>sklearn.linear_model._bayes.BayesianRidge</td>\n",
       "      <td>True</td>\n",
       "    </tr>\n",
       "    <tr>\n",
       "      <th>ard</th>\n",
       "      <td>Automatic Relevance Determination</td>\n",
       "      <td>sklearn.linear_model._bayes.ARDRegression</td>\n",
       "      <td>False</td>\n",
       "    </tr>\n",
       "    <tr>\n",
       "      <th>par</th>\n",
       "      <td>Passive Aggressive Regressor</td>\n",
       "      <td>sklearn.linear_model._passive_aggressive.Passi...</td>\n",
       "      <td>True</td>\n",
       "    </tr>\n",
       "    <tr>\n",
       "      <th>ransac</th>\n",
       "      <td>Random Sample Consensus</td>\n",
       "      <td>sklearn.linear_model._ransac.RANSACRegressor</td>\n",
       "      <td>False</td>\n",
       "    </tr>\n",
       "    <tr>\n",
       "      <th>tr</th>\n",
       "      <td>TheilSen Regressor</td>\n",
       "      <td>sklearn.linear_model._theil_sen.TheilSenRegressor</td>\n",
       "      <td>False</td>\n",
       "    </tr>\n",
       "    <tr>\n",
       "      <th>huber</th>\n",
       "      <td>Huber Regressor</td>\n",
       "      <td>sklearn.linear_model._huber.HuberRegressor</td>\n",
       "      <td>True</td>\n",
       "    </tr>\n",
       "    <tr>\n",
       "      <th>kr</th>\n",
       "      <td>Kernel Ridge</td>\n",
       "      <td>sklearn.kernel_ridge.KernelRidge</td>\n",
       "      <td>False</td>\n",
       "    </tr>\n",
       "    <tr>\n",
       "      <th>svm</th>\n",
       "      <td>Support Vector Regression</td>\n",
       "      <td>sklearn.svm._classes.SVR</td>\n",
       "      <td>False</td>\n",
       "    </tr>\n",
       "    <tr>\n",
       "      <th>knn</th>\n",
       "      <td>K Neighbors Regressor</td>\n",
       "      <td>sklearn.neighbors._regression.KNeighborsRegressor</td>\n",
       "      <td>True</td>\n",
       "    </tr>\n",
       "    <tr>\n",
       "      <th>dt</th>\n",
       "      <td>Decision Tree Regressor</td>\n",
       "      <td>sklearn.tree._classes.DecisionTreeRegressor</td>\n",
       "      <td>True</td>\n",
       "    </tr>\n",
       "    <tr>\n",
       "      <th>rf</th>\n",
       "      <td>Random Forest Regressor</td>\n",
       "      <td>sklearn.ensemble._forest.RandomForestRegressor</td>\n",
       "      <td>True</td>\n",
       "    </tr>\n",
       "    <tr>\n",
       "      <th>et</th>\n",
       "      <td>Extra Trees Regressor</td>\n",
       "      <td>sklearn.ensemble._forest.ExtraTreesRegressor</td>\n",
       "      <td>True</td>\n",
       "    </tr>\n",
       "    <tr>\n",
       "      <th>ada</th>\n",
       "      <td>AdaBoost Regressor</td>\n",
       "      <td>sklearn.ensemble._weight_boosting.AdaBoostRegr...</td>\n",
       "      <td>True</td>\n",
       "    </tr>\n",
       "    <tr>\n",
       "      <th>gbr</th>\n",
       "      <td>Gradient Boosting Regressor</td>\n",
       "      <td>sklearn.ensemble._gb.GradientBoostingRegressor</td>\n",
       "      <td>True</td>\n",
       "    </tr>\n",
       "    <tr>\n",
       "      <th>mlp</th>\n",
       "      <td>MLP Regressor</td>\n",
       "      <td>sklearn.neural_network._multilayer_perceptron....</td>\n",
       "      <td>False</td>\n",
       "    </tr>\n",
       "    <tr>\n",
       "      <th>xgboost</th>\n",
       "      <td>Extreme Gradient Boosting</td>\n",
       "      <td>xgboost.sklearn.XGBRegressor</td>\n",
       "      <td>True</td>\n",
       "    </tr>\n",
       "    <tr>\n",
       "      <th>lightgbm</th>\n",
       "      <td>Light Gradient Boosting Machine</td>\n",
       "      <td>lightgbm.sklearn.LGBMRegressor</td>\n",
       "      <td>True</td>\n",
       "    </tr>\n",
       "    <tr>\n",
       "      <th>dummy</th>\n",
       "      <td>Dummy Regressor</td>\n",
       "      <td>sklearn.dummy.DummyRegressor</td>\n",
       "      <td>True</td>\n",
       "    </tr>\n",
       "  </tbody>\n",
       "</table>\n",
       "</div>"
      ],
      "text/plain": [
       "                                       Name  \\\n",
       "ID                                            \n",
       "lr                        Linear Regression   \n",
       "lasso                      Lasso Regression   \n",
       "ridge                      Ridge Regression   \n",
       "en                              Elastic Net   \n",
       "lar                  Least Angle Regression   \n",
       "llar           Lasso Least Angle Regression   \n",
       "omp             Orthogonal Matching Pursuit   \n",
       "br                           Bayesian Ridge   \n",
       "ard       Automatic Relevance Determination   \n",
       "par            Passive Aggressive Regressor   \n",
       "ransac              Random Sample Consensus   \n",
       "tr                       TheilSen Regressor   \n",
       "huber                       Huber Regressor   \n",
       "kr                             Kernel Ridge   \n",
       "svm               Support Vector Regression   \n",
       "knn                   K Neighbors Regressor   \n",
       "dt                  Decision Tree Regressor   \n",
       "rf                  Random Forest Regressor   \n",
       "et                    Extra Trees Regressor   \n",
       "ada                      AdaBoost Regressor   \n",
       "gbr             Gradient Boosting Regressor   \n",
       "mlp                           MLP Regressor   \n",
       "xgboost           Extreme Gradient Boosting   \n",
       "lightgbm    Light Gradient Boosting Machine   \n",
       "dummy                       Dummy Regressor   \n",
       "\n",
       "                                                  Reference  Turbo  \n",
       "ID                                                                  \n",
       "lr              sklearn.linear_model._base.LinearRegression   True  \n",
       "lasso        sklearn.linear_model._coordinate_descent.Lasso   True  \n",
       "ridge                     sklearn.linear_model._ridge.Ridge   True  \n",
       "en        sklearn.linear_model._coordinate_descent.Elast...   True  \n",
       "lar                  sklearn.linear_model._least_angle.Lars   True  \n",
       "llar            sklearn.linear_model._least_angle.LassoLars   True  \n",
       "omp       sklearn.linear_model._omp.OrthogonalMatchingPu...   True  \n",
       "br                sklearn.linear_model._bayes.BayesianRidge   True  \n",
       "ard               sklearn.linear_model._bayes.ARDRegression  False  \n",
       "par       sklearn.linear_model._passive_aggressive.Passi...   True  \n",
       "ransac         sklearn.linear_model._ransac.RANSACRegressor  False  \n",
       "tr        sklearn.linear_model._theil_sen.TheilSenRegressor  False  \n",
       "huber            sklearn.linear_model._huber.HuberRegressor   True  \n",
       "kr                         sklearn.kernel_ridge.KernelRidge  False  \n",
       "svm                                sklearn.svm._classes.SVR  False  \n",
       "knn       sklearn.neighbors._regression.KNeighborsRegressor   True  \n",
       "dt              sklearn.tree._classes.DecisionTreeRegressor   True  \n",
       "rf           sklearn.ensemble._forest.RandomForestRegressor   True  \n",
       "et             sklearn.ensemble._forest.ExtraTreesRegressor   True  \n",
       "ada       sklearn.ensemble._weight_boosting.AdaBoostRegr...   True  \n",
       "gbr          sklearn.ensemble._gb.GradientBoostingRegressor   True  \n",
       "mlp       sklearn.neural_network._multilayer_perceptron....  False  \n",
       "xgboost                        xgboost.sklearn.XGBRegressor   True  \n",
       "lightgbm                     lightgbm.sklearn.LGBMRegressor   True  \n",
       "dummy                          sklearn.dummy.DummyRegressor   True  "
      ]
     },
     "execution_count": 10,
     "metadata": {},
     "output_type": "execute_result"
    }
   ],
   "source": [
    "# View all available models\n",
    "models()"
   ]
  },
  {
   "cell_type": "code",
   "execution_count": 11,
   "id": "b1cb73dd",
   "metadata": {
    "execution": {
     "iopub.execute_input": "2025-10-23T05:37:59.035964Z",
     "iopub.status.busy": "2025-10-23T05:37:59.035667Z",
     "iopub.status.idle": "2025-10-23T05:37:59.039351Z",
     "shell.execute_reply": "2025-10-23T05:37:59.038312Z"
    },
    "papermill": {
     "duration": 0.03341,
     "end_time": "2025-10-23T05:37:59.040091",
     "exception": false,
     "start_time": "2025-10-23T05:37:59.006681",
     "status": "completed"
    },
    "tags": []
   },
   "outputs": [],
   "source": [
    "# SKIPPED: XGBoost has issues with column names containing special characters\n",
    "# # Create a specific model (XGBoost Regressor)\n",
    "# xgboost = create_model('xgboost')\n",
    "#\n",
    "# Note: If you want to use XGBoost, clean column names first:\n",
    "# data.columns = data.columns.str.replace('[^A-Za-z0-9_]+', '', regex=True)"
   ]
  },
  {
   "cell_type": "markdown",
   "id": "e78eec0f",
   "metadata": {
    "papermill": {
     "duration": 0.027632,
     "end_time": "2025-10-23T05:37:59.095635",
     "exception": false,
     "start_time": "2025-10-23T05:37:59.068003",
     "status": "completed"
    },
    "tags": []
   },
   "source": [
    "## Step 4: Analyze Model\n",
    "\n",
    "Use `plot_model()` to visualize model performance on the test set."
   ]
  },
  {
   "cell_type": "code",
   "execution_count": 12,
   "id": "bfba1015",
   "metadata": {
    "execution": {
     "iopub.execute_input": "2025-10-23T05:37:59.152108Z",
     "iopub.status.busy": "2025-10-23T05:37:59.151818Z",
     "iopub.status.idle": "2025-10-23T05:38:00.304827Z",
     "shell.execute_reply": "2025-10-23T05:38:00.303797Z"
    },
    "papermill": {
     "duration": 1.182535,
     "end_time": "2025-10-23T05:38:00.305683",
     "exception": false,
     "start_time": "2025-10-23T05:37:59.123148",
     "status": "completed"
    },
    "tags": []
   },
   "outputs": [
    {
     "data": {
      "text/html": [],
      "text/plain": [
       "<IPython.core.display.HTML object>"
      ]
     },
     "metadata": {},
     "output_type": "display_data"
    },
    {
     "data": {
      "image/png": "[encoded data removed]",
      "text/plain": [
       "<Figure size 800x550 with 2 Axes>"
      ]
     },
     "metadata": {},
     "output_type": "display_data"
    }
   ],
   "source": [
    "# Plot residuals\n",
    "plot_model(best, plot='residuals')"
   ]
  },
  {
   "cell_type": "code",
   "execution_count": 13,
   "id": "b1be716f",
   "metadata": {
    "execution": {
     "iopub.execute_input": "2025-10-23T05:38:00.367218Z",
     "iopub.status.busy": "2025-10-23T05:38:00.366898Z",
     "iopub.status.idle": "2025-10-23T05:38:01.063308Z",
     "shell.execute_reply": "2025-10-23T05:38:01.062423Z"
    },
    "papermill": {
     "duration": 0.728912,
     "end_time": "2025-10-23T05:38:01.064777",
     "exception": false,
     "start_time": "2025-10-23T05:38:00.335865",
     "status": "completed"
    },
    "tags": []
   },
   "outputs": [
    {
     "data": {
      "text/html": [],
      "text/plain": [
       "<IPython.core.display.HTML object>"
      ]
     },
     "metadata": {},
     "output_type": "display_data"
    },
    {
     "data": {
      "image/png": "[encoded data removed]",
      "text/plain": [
       "<Figure size 800x550 with 1 Axes>"
      ]
     },
     "metadata": {},
     "output_type": "display_data"
    }
   ],
   "source": [
    "# Plot prediction error\n",
    "plot_model(best, plot='error')"
   ]
  },
  {
   "cell_type": "code",
   "execution_count": 14,
   "id": "3e9a8fb2",
   "metadata": {
    "execution": {
     "iopub.execute_input": "2025-10-23T05:38:01.129630Z",
     "iopub.status.busy": "2025-10-23T05:38:01.129331Z",
     "iopub.status.idle": "2025-10-23T05:38:01.533035Z",
     "shell.execute_reply": "2025-10-23T05:38:01.532203Z"
    },
    "papermill": {
     "duration": 0.437903,
     "end_time": "2025-10-23T05:38:01.534441",
     "exception": false,
     "start_time": "2025-10-23T05:38:01.096538",
     "status": "completed"
    },
    "tags": []
   },
   "outputs": [
    {
     "data": {
      "text/html": [],
      "text/plain": [
       "<IPython.core.display.HTML object>"
      ]
     },
     "metadata": {},
     "output_type": "display_data"
    },
    {
     "data": {
      "image/png": "[encoded data removed]",
      "text/plain": [
       "<Figure size 800x500 with 1 Axes>"
      ]
     },
     "metadata": {},
     "output_type": "display_data"
    }
   ],
   "source": [
    "# Plot feature importance\n",
    "plot_model(best, plot='feature')"
   ]
  },
  {
   "cell_type": "code",
   "execution_count": 15,
   "id": "1dffff1a",
   "metadata": {
    "execution": {
     "iopub.execute_input": "2025-10-23T05:38:01.599982Z",
     "iopub.status.busy": "2025-10-23T05:38:01.599671Z",
     "iopub.status.idle": "2025-10-23T06:23:54.927198Z",
     "shell.execute_reply": "2025-10-23T06:23:54.926322Z"
    },
    "papermill": {
     "duration": 2753.362135,
     "end_time": "2025-10-23T06:23:54.928585",
     "exception": false,
     "start_time": "2025-10-23T05:38:01.566450",
     "status": "completed"
    },
    "tags": []
   },
   "outputs": [
    {
     "data": {
      "text/html": [],
      "text/plain": [
       "<IPython.core.display.HTML object>"
      ]
     },
     "metadata": {},
     "output_type": "display_data"
    },
    {
     "data": {
      "image/png": "[encoded data removed]",
      "text/plain": [
       "<Figure size 800x550 with 1 Axes>"
      ]
     },
     "metadata": {},
     "output_type": "display_data"
    }
   ],
   "source": [
    "# Plot learning curve\n",
    "plot_model(best, plot='learning')"
   ]
  },
  {
   "cell_type": "code",
   "execution_count": 16,
   "id": "91051d3f",
   "metadata": {
    "execution": {
     "iopub.execute_input": "2025-10-23T06:23:54.997687Z",
     "iopub.status.busy": "2025-10-23T06:23:54.997410Z",
     "iopub.status.idle": "2025-10-23T06:23:55.300084Z",
     "shell.execute_reply": "2025-10-23T06:23:55.299217Z"
    },
    "papermill": {
     "duration": 0.340077,
     "end_time": "2025-10-23T06:23:55.302784",
     "exception": false,
     "start_time": "2025-10-23T06:23:54.962707",
     "status": "completed"
    },
    "tags": []
   },
   "outputs": [
    {
     "data": {
      "application/vnd.jupyter.widget-view+json": {
       "model_id": "6753804897f440fd92e23f88bc585bb3",
       "version_major": 2,
       "version_minor": 0
      },
      "text/plain": [
       "interactive(children=(ToggleButtons(description='Plot Type:', icons=('',), options=(('Pipeline Plot', 'pipelin…"
      ]
     },
     "metadata": {},
     "output_type": "display_data"
    }
   ],
   "source": [
    "# Interactive evaluation (only works in Jupyter notebooks)\n",
    "evaluate_model(best)"
   ]
  },
  {
   "cell_type": "markdown",
   "id": "5f45506f",
   "metadata": {
    "papermill": {
     "duration": 0.033132,
     "end_time": "2025-10-23T06:23:55.370029",
     "exception": false,
     "start_time": "2025-10-23T06:23:55.336897",
     "status": "completed"
    },
    "tags": []
   },
   "source": [
    "## Step 5: Make Predictions\n",
    "\n",
    "The `predict_model()` function generates predictions and adds them as a new column."
   ]
  },
  {
   "cell_type": "code",
   "execution_count": 17,
   "id": "e33490b1",
   "metadata": {
    "execution": {
     "iopub.execute_input": "2025-10-23T06:23:55.437404Z",
     "iopub.status.busy": "2025-10-23T06:23:55.437127Z",
     "iopub.status.idle": "2025-10-23T06:23:55.703429Z",
     "shell.execute_reply": "2025-10-23T06:23:55.702480Z"
    },
    "papermill": {
     "duration": 0.301266,
     "end_time": "2025-10-23T06:23:55.704294",
     "exception": false,
     "start_time": "2025-10-23T06:23:55.403028",
     "status": "completed"
    },
    "tags": []
   },
   "outputs": [
    {
     "data": {
      "text/html": [
       "<style type=\"text/css\">\n",
       "</style>\n",
       "<table id=\"T_7c20c\">\n",
       "  <thead>\n",
       "    <tr>\n",
       "      <th class=\"blank level0\" >&nbsp;</th>\n",
       "      <th id=\"T_7c20c_level0_col0\" class=\"col_heading level0 col0\" >Model</th>\n",
       "      <th id=\"T_7c20c_level0_col1\" class=\"col_heading level0 col1\" >MAE</th>\n",
       "      <th id=\"T_7c20c_level0_col2\" class=\"col_heading level0 col2\" >MSE</th>\n",
       "      <th id=\"T_7c20c_level0_col3\" class=\"col_heading level0 col3\" >RMSE</th>\n",
       "      <th id=\"T_7c20c_level0_col4\" class=\"col_heading level0 col4\" >R2</th>\n",
       "      <th id=\"T_7c20c_level0_col5\" class=\"col_heading level0 col5\" >RMSLE</th>\n",
       "      <th id=\"T_7c20c_level0_col6\" class=\"col_heading level0 col6\" >MAPE</th>\n",
       "    </tr>\n",
       "  </thead>\n",
       "  <tbody>\n",
       "    <tr>\n",
       "      <th id=\"T_7c20c_level0_row0\" class=\"row_heading level0 row0\" >0</th>\n",
       "      <td id=\"T_7c20c_row0_col0\" class=\"data row0 col0\" >Light Gradient Boosting Machine</td>\n",
       "      <td id=\"T_7c20c_row0_col1\" class=\"data row0 col1\" >31369.6739</td>\n",
       "      <td id=\"T_7c20c_row0_col2\" class=\"data row0 col2\" >2131895630.1813</td>\n",
       "      <td id=\"T_7c20c_row0_col3\" class=\"data row0 col3\" >46172.4553</td>\n",
       "      <td id=\"T_7c20c_row0_col4\" class=\"data row0 col4\" >0.8388</td>\n",
       "      <td id=\"T_7c20c_row0_col5\" class=\"data row0 col5\" >0.2318</td>\n",
       "      <td id=\"T_7c20c_row0_col6\" class=\"data row0 col6\" >0.1781</td>\n",
       "    </tr>\n",
       "  </tbody>\n",
       "</table>\n"
      ],
      "text/plain": [
       "<pandas.io.formats.style.Styler at 0x7fab16ea3100>"
      ]
     },
     "metadata": {},
     "output_type": "display_data"
    },
    {
     "name": "stdout",
     "output_type": "stream",
     "text": [
      "Predictions shape: (6193, 11)\n"
     ]
    },
    {
     "data": {
      "text/html": [
       "<div>\n",
       "<style scoped>\n",
       "    .dataframe tbody tr th:only-of-type {\n",
       "        vertical-align: middle;\n",
       "    }\n",
       "\n",
       "    .dataframe tbody tr th {\n",
       "        vertical-align: top;\n",
       "    }\n",
       "\n",
       "    .dataframe thead th {\n",
       "        text-align: right;\n",
       "    }\n",
       "</style>\n",
       "<table border=\"1\" class=\"dataframe\">\n",
       "  <thead>\n",
       "    <tr style=\"text-align: right;\">\n",
       "      <th></th>\n",
       "      <th>longitude</th>\n",
       "      <th>latitude</th>\n",
       "      <th>housing_median_age</th>\n",
       "      <th>total_rooms</th>\n",
       "      <th>total_bedrooms</th>\n",
       "      <th>population</th>\n",
       "      <th>households</th>\n",
       "      <th>median_income</th>\n",
       "      <th>ocean_proximity</th>\n",
       "      <th>median_house_value</th>\n",
       "      <th>prediction_label</th>\n",
       "    </tr>\n",
       "  </thead>\n",
       "  <tbody>\n",
       "    <tr>\n",
       "      <th>19121</th>\n",
       "      <td>-122.639999</td>\n",
       "      <td>38.240002</td>\n",
       "      <td>40.0</td>\n",
       "      <td>1974.0</td>\n",
       "      <td>410.0</td>\n",
       "      <td>1039.0</td>\n",
       "      <td>398.0</td>\n",
       "      <td>3.7917</td>\n",
       "      <td>&lt;1H OCEAN</td>\n",
       "      <td>151600.0</td>\n",
       "      <td>198882.814187</td>\n",
       "    </tr>\n",
       "    <tr>\n",
       "      <th>20019</th>\n",
       "      <td>-119.050003</td>\n",
       "      <td>36.090000</td>\n",
       "      <td>9.0</td>\n",
       "      <td>3297.0</td>\n",
       "      <td>568.0</td>\n",
       "      <td>1749.0</td>\n",
       "      <td>568.0</td>\n",
       "      <td>4.0217</td>\n",
       "      <td>INLAND</td>\n",
       "      <td>99200.0</td>\n",
       "      <td>101132.884212</td>\n",
       "    </tr>\n",
       "    <tr>\n",
       "      <th>15104</th>\n",
       "      <td>-116.980003</td>\n",
       "      <td>32.849998</td>\n",
       "      <td>12.0</td>\n",
       "      <td>3570.0</td>\n",
       "      <td>713.0</td>\n",
       "      <td>3321.0</td>\n",
       "      <td>666.0</td>\n",
       "      <td>4.0882</td>\n",
       "      <td>&lt;1H OCEAN</td>\n",
       "      <td>134500.0</td>\n",
       "      <td>158276.279342</td>\n",
       "    </tr>\n",
       "    <tr>\n",
       "      <th>3720</th>\n",
       "      <td>-118.419998</td>\n",
       "      <td>34.200001</td>\n",
       "      <td>27.0</td>\n",
       "      <td>3201.0</td>\n",
       "      <td>970.0</td>\n",
       "      <td>3403.0</td>\n",
       "      <td>948.0</td>\n",
       "      <td>2.2377</td>\n",
       "      <td>&lt;1H OCEAN</td>\n",
       "      <td>231700.0</td>\n",
       "      <td>187507.999339</td>\n",
       "    </tr>\n",
       "    <tr>\n",
       "      <th>8938</th>\n",
       "      <td>-118.470001</td>\n",
       "      <td>34.009998</td>\n",
       "      <td>41.0</td>\n",
       "      <td>2704.0</td>\n",
       "      <td>557.0</td>\n",
       "      <td>1047.0</td>\n",
       "      <td>478.0</td>\n",
       "      <td>4.4211</td>\n",
       "      <td>&lt;1H OCEAN</td>\n",
       "      <td>462900.0</td>\n",
       "      <td>453448.462461</td>\n",
       "    </tr>\n",
       "    <tr>\n",
       "      <th>13730</th>\n",
       "      <td>-117.180000</td>\n",
       "      <td>34.040001</td>\n",
       "      <td>41.0</td>\n",
       "      <td>1766.0</td>\n",
       "      <td>288.0</td>\n",
       "      <td>753.0</td>\n",
       "      <td>278.0</td>\n",
       "      <td>4.9125</td>\n",
       "      <td>INLAND</td>\n",
       "      <td>140700.0</td>\n",
       "      <td>185615.498054</td>\n",
       "    </tr>\n",
       "    <tr>\n",
       "      <th>7955</th>\n",
       "      <td>-118.160004</td>\n",
       "      <td>33.880001</td>\n",
       "      <td>18.0</td>\n",
       "      <td>2287.0</td>\n",
       "      <td>662.0</td>\n",
       "      <td>1804.0</td>\n",
       "      <td>537.0</td>\n",
       "      <td>1.9903</td>\n",
       "      <td>&lt;1H OCEAN</td>\n",
       "      <td>170300.0</td>\n",
       "      <td>146602.831017</td>\n",
       "    </tr>\n",
       "    <tr>\n",
       "      <th>15109</th>\n",
       "      <td>-116.959999</td>\n",
       "      <td>32.860001</td>\n",
       "      <td>14.0</td>\n",
       "      <td>3064.0</td>\n",
       "      <td>496.0</td>\n",
       "      <td>1681.0</td>\n",
       "      <td>503.0</td>\n",
       "      <td>4.4347</td>\n",
       "      <td>&lt;1H OCEAN</td>\n",
       "      <td>160300.0</td>\n",
       "      <td>166447.121396</td>\n",
       "    </tr>\n",
       "    <tr>\n",
       "      <th>14354</th>\n",
       "      <td>-117.230003</td>\n",
       "      <td>32.750000</td>\n",
       "      <td>23.0</td>\n",
       "      <td>2415.0</td>\n",
       "      <td>653.0</td>\n",
       "      <td>1275.0</td>\n",
       "      <td>596.0</td>\n",
       "      <td>3.1389</td>\n",
       "      <td>NEAR OCEAN</td>\n",
       "      <td>101800.0</td>\n",
       "      <td>234407.946956</td>\n",
       "    </tr>\n",
       "    <tr>\n",
       "      <th>4450</th>\n",
       "      <td>-118.209999</td>\n",
       "      <td>34.070000</td>\n",
       "      <td>42.0</td>\n",
       "      <td>902.0</td>\n",
       "      <td>318.0</td>\n",
       "      <td>1312.0</td>\n",
       "      <td>323.0</td>\n",
       "      <td>1.9375</td>\n",
       "      <td>&lt;1H OCEAN</td>\n",
       "      <td>168800.0</td>\n",
       "      <td>148379.944308</td>\n",
       "    </tr>\n",
       "  </tbody>\n",
       "</table>\n",
       "</div>"
      ],
      "text/plain": [
       "        longitude   latitude  housing_median_age  total_rooms  total_bedrooms  \\\n",
       "19121 -122.639999  38.240002                40.0       1974.0           410.0   \n",
       "20019 -119.050003  36.090000                 9.0       3297.0           568.0   \n",
       "15104 -116.980003  32.849998                12.0       3570.0           713.0   \n",
       "3720  -118.419998  34.200001                27.0       3201.0           970.0   \n",
       "8938  -118.470001  34.009998                41.0       2704.0           557.0   \n",
       "13730 -117.180000  34.040001                41.0       1766.0           288.0   \n",
       "7955  -118.160004  33.880001                18.0       2287.0           662.0   \n",
       "15109 -116.959999  32.860001                14.0       3064.0           496.0   \n",
       "14354 -117.230003  32.750000                23.0       2415.0           653.0   \n",
       "4450  -118.209999  34.070000                42.0        902.0           318.0   \n",
       "\n",
       "       population  households  median_income ocean_proximity  \\\n",
       "19121      1039.0       398.0         3.7917       <1H OCEAN   \n",
       "20019      1749.0       568.0         4.0217          INLAND   \n",
       "15104      3321.0       666.0         4.0882       <1H OCEAN   \n",
       "3720       3403.0       948.0         2.2377       <1H OCEAN   \n",
       "8938       1047.0       478.0         4.4211       <1H OCEAN   \n",
       "13730       753.0       278.0         4.9125          INLAND   \n",
       "7955       1804.0       537.0         1.9903       <1H OCEAN   \n",
       "15109      1681.0       503.0         4.4347       <1H OCEAN   \n",
       "14354      1275.0       596.0         3.1389      NEAR OCEAN   \n",
       "4450       1312.0       323.0         1.9375       <1H OCEAN   \n",
       "\n",
       "       median_house_value  prediction_label  \n",
       "19121            151600.0     198882.814187  \n",
       "20019             99200.0     101132.884212  \n",
       "15104            134500.0     158276.279342  \n",
       "3720             231700.0     187507.999339  \n",
       "8938             462900.0     453448.462461  \n",
       "13730            140700.0     185615.498054  \n",
       "7955             170300.0     146602.831017  \n",
       "15109            160300.0     166447.121396  \n",
       "14354            101800.0     234407.946956  \n",
       "4450             168800.0     148379.944308  "
      ]
     },
     "execution_count": 17,
     "metadata": {},
     "output_type": "execute_result"
    }
   ],
   "source": [
    "# Predict on the holdout (test) set\n",
    "holdout_pred = predict_model(best)\n",
    "\n",
    "print(f\"Predictions shape: {holdout_pred.shape}\")\n",
    "holdout_pred.head(10)"
   ]
  },
  {
   "cell_type": "code",
   "execution_count": 18,
   "id": "a7bf0f2e",
   "metadata": {
    "execution": {
     "iopub.execute_input": "2025-10-23T06:23:55.774011Z",
     "iopub.status.busy": "2025-10-23T06:23:55.773718Z",
     "iopub.status.idle": "2025-10-23T06:23:55.782606Z",
     "shell.execute_reply": "2025-10-23T06:23:55.781583Z"
    },
    "papermill": {
     "duration": 0.044744,
     "end_time": "2025-10-23T06:23:55.783458",
     "exception": false,
     "start_time": "2025-10-23T06:23:55.738714",
     "status": "completed"
    },
    "tags": []
   },
   "outputs": [
    {
     "name": "stdout",
     "output_type": "stream",
     "text": [
      "Holdout Set Performance:\n",
      "MAE: $31,369.67\n",
      "RMSE: $46,172.46\n",
      "R² Score: 0.8388\n"
     ]
    }
   ],
   "source": [
    "# Check prediction performance\n",
    "from sklearn.metrics import mean_absolute_error, mean_squared_error, r2_score\n",
    "import numpy as np\n",
    "\n",
    "y_true = holdout_pred['median_house_value']\n",
    "y_pred = holdout_pred['prediction_label']\n",
    "\n",
    "print(\"Holdout Set Performance:\")\n",
    "print(f\"MAE: ${mean_absolute_error(y_true, y_pred):,.2f}\")\n",
    "print(f\"RMSE: ${np.sqrt(mean_squared_error(y_true, y_pred)):,.2f}\")\n",
    "print(f\"R² Score: {r2_score(y_true, y_pred):.4f}\")"
   ]
  },
  {
   "cell_type": "code",
   "execution_count": 19,
   "id": "d4eff6d0",
   "metadata": {
    "execution": {
     "iopub.execute_input": "2025-10-23T06:23:55.853690Z",
     "iopub.status.busy": "2025-10-23T06:23:55.853420Z",
     "iopub.status.idle": "2025-10-23T06:23:56.086235Z",
     "shell.execute_reply": "2025-10-23T06:23:56.085162Z"
    },
    "papermill": {
     "duration": 0.269063,
     "end_time": "2025-10-23T06:23:56.086940",
     "exception": false,
     "start_time": "2025-10-23T06:23:55.817877",
     "status": "completed"
    },
    "tags": []
   },
   "outputs": [
    {
     "data": {
      "text/html": [],
      "text/plain": [
       "<IPython.core.display.HTML object>"
      ]
     },
     "metadata": {},
     "output_type": "display_data"
    },
    {
     "name": "stdout",
     "output_type": "stream",
     "text": [
      "Predictions for unseen data:\n"
     ]
    },
    {
     "data": {
      "text/html": [
       "<div>\n",
       "<style scoped>\n",
       "    .dataframe tbody tr th:only-of-type {\n",
       "        vertical-align: middle;\n",
       "    }\n",
       "\n",
       "    .dataframe tbody tr th {\n",
       "        vertical-align: top;\n",
       "    }\n",
       "\n",
       "    .dataframe thead th {\n",
       "        text-align: right;\n",
       "    }\n",
       "</style>\n",
       "<table border=\"1\" class=\"dataframe\">\n",
       "  <thead>\n",
       "    <tr style=\"text-align: right;\">\n",
       "      <th></th>\n",
       "      <th>longitude</th>\n",
       "      <th>latitude</th>\n",
       "      <th>housing_median_age</th>\n",
       "      <th>total_rooms</th>\n",
       "      <th>total_bedrooms</th>\n",
       "      <th>prediction_label</th>\n",
       "    </tr>\n",
       "  </thead>\n",
       "  <tbody>\n",
       "    <tr>\n",
       "      <th>0</th>\n",
       "      <td>-122.230003</td>\n",
       "      <td>37.880001</td>\n",
       "      <td>41.0</td>\n",
       "      <td>880.0</td>\n",
       "      <td>129.0</td>\n",
       "      <td>412646.992698</td>\n",
       "    </tr>\n",
       "    <tr>\n",
       "      <th>1</th>\n",
       "      <td>-122.220001</td>\n",
       "      <td>37.860001</td>\n",
       "      <td>21.0</td>\n",
       "      <td>7099.0</td>\n",
       "      <td>1106.0</td>\n",
       "      <td>421506.847007</td>\n",
       "    </tr>\n",
       "    <tr>\n",
       "      <th>2</th>\n",
       "      <td>-122.239998</td>\n",
       "      <td>37.849998</td>\n",
       "      <td>52.0</td>\n",
       "      <td>1467.0</td>\n",
       "      <td>190.0</td>\n",
       "      <td>415404.138010</td>\n",
       "    </tr>\n",
       "    <tr>\n",
       "      <th>3</th>\n",
       "      <td>-122.250000</td>\n",
       "      <td>37.849998</td>\n",
       "      <td>52.0</td>\n",
       "      <td>1274.0</td>\n",
       "      <td>235.0</td>\n",
       "      <td>344059.284174</td>\n",
       "    </tr>\n",
       "    <tr>\n",
       "      <th>4</th>\n",
       "      <td>-122.250000</td>\n",
       "      <td>37.849998</td>\n",
       "      <td>52.0</td>\n",
       "      <td>1627.0</td>\n",
       "      <td>280.0</td>\n",
       "      <td>275169.000685</td>\n",
       "    </tr>\n",
       "    <tr>\n",
       "      <th>5</th>\n",
       "      <td>-122.250000</td>\n",
       "      <td>37.849998</td>\n",
       "      <td>52.0</td>\n",
       "      <td>919.0</td>\n",
       "      <td>213.0</td>\n",
       "      <td>260514.327118</td>\n",
       "    </tr>\n",
       "    <tr>\n",
       "      <th>6</th>\n",
       "      <td>-122.250000</td>\n",
       "      <td>37.840000</td>\n",
       "      <td>52.0</td>\n",
       "      <td>2535.0</td>\n",
       "      <td>489.0</td>\n",
       "      <td>267690.957157</td>\n",
       "    </tr>\n",
       "    <tr>\n",
       "      <th>7</th>\n",
       "      <td>-122.250000</td>\n",
       "      <td>37.840000</td>\n",
       "      <td>52.0</td>\n",
       "      <td>3104.0</td>\n",
       "      <td>687.0</td>\n",
       "      <td>255933.057195</td>\n",
       "    </tr>\n",
       "    <tr>\n",
       "      <th>8</th>\n",
       "      <td>-122.260002</td>\n",
       "      <td>37.840000</td>\n",
       "      <td>42.0</td>\n",
       "      <td>2555.0</td>\n",
       "      <td>665.0</td>\n",
       "      <td>179261.713310</td>\n",
       "    </tr>\n",
       "    <tr>\n",
       "      <th>9</th>\n",
       "      <td>-122.250000</td>\n",
       "      <td>37.840000</td>\n",
       "      <td>52.0</td>\n",
       "      <td>3549.0</td>\n",
       "      <td>707.0</td>\n",
       "      <td>282801.347753</td>\n",
       "    </tr>\n",
       "  </tbody>\n",
       "</table>\n",
       "</div>"
      ],
      "text/plain": [
       "    longitude   latitude  housing_median_age  total_rooms  total_bedrooms  \\\n",
       "0 -122.230003  37.880001                41.0        880.0           129.0   \n",
       "1 -122.220001  37.860001                21.0       7099.0          1106.0   \n",
       "2 -122.239998  37.849998                52.0       1467.0           190.0   \n",
       "3 -122.250000  37.849998                52.0       1274.0           235.0   \n",
       "4 -122.250000  37.849998                52.0       1627.0           280.0   \n",
       "5 -122.250000  37.849998                52.0        919.0           213.0   \n",
       "6 -122.250000  37.840000                52.0       2535.0           489.0   \n",
       "7 -122.250000  37.840000                52.0       3104.0           687.0   \n",
       "8 -122.260002  37.840000                42.0       2555.0           665.0   \n",
       "9 -122.250000  37.840000                52.0       3549.0           707.0   \n",
       "\n",
       "   prediction_label  \n",
       "0     412646.992698  \n",
       "1     421506.847007  \n",
       "2     415404.138010  \n",
       "3     344059.284174  \n",
       "4     275169.000685  \n",
       "5     260514.327118  \n",
       "6     267690.957157  \n",
       "7     255933.057195  \n",
       "8     179261.713310  \n",
       "9     282801.347753  "
      ]
     },
     "execution_count": 19,
     "metadata": {},
     "output_type": "execute_result"
    }
   ],
   "source": [
    "# Predict on new unseen data (without target column)\n",
    "new_data = data.copy().drop('median_house_value', axis=1)\n",
    "\n",
    "predictions = predict_model(best, data=new_data)\n",
    "\n",
    "print(f\"Predictions for unseen data:\")\n",
    "# Show first few columns and prediction\n",
    "predictions[predictions.columns[:5].tolist() + ['prediction_label']].head(10)"
   ]
  },
  {
   "cell_type": "markdown",
   "id": "a63f2bb1",
   "metadata": {
    "papermill": {
     "duration": 0.033787,
     "end_time": "2025-10-23T06:23:56.155484",
     "exception": false,
     "start_time": "2025-10-23T06:23:56.121697",
     "status": "completed"
    },
    "tags": []
   },
   "source": [
    "## Step 6: Save Model\n",
    "\n",
    "Save the entire pipeline (preprocessing + model) for later use."
   ]
  },
  {
   "cell_type": "code",
   "execution_count": 20,
   "id": "eac87eef",
   "metadata": {
    "execution": {
     "iopub.execute_input": "2025-10-23T06:23:56.224556Z",
     "iopub.status.busy": "2025-10-23T06:23:56.224283Z",
     "iopub.status.idle": "2025-10-23T06:23:56.397221Z",
     "shell.execute_reply": "2025-10-23T06:23:56.396209Z"
    },
    "papermill": {
     "duration": 0.208829,
     "end_time": "2025-10-23T06:23:56.398165",
     "exception": false,
     "start_time": "2025-10-23T06:23:56.189336",
     "status": "completed"
    },
    "tags": []
   },
   "outputs": [
    {
     "name": "stdout",
     "output_type": "stream",
     "text": [
      "Transformation Pipeline and Model Successfully Saved\n",
      "✅ Model saved as 'insurance_model.pkl'\n"
     ]
    }
   ],
   "source": [
    "# Save the model pipeline\n",
    "save_model(best, 'insurance_model')\n",
    "\n",
    "print(\"✅ Model saved as 'insurance_model.pkl'\")"
   ]
  },
  {
   "cell_type": "code",
   "execution_count": 21,
   "id": "03f74875",
   "metadata": {
    "execution": {
     "iopub.execute_input": "2025-10-23T06:23:56.468364Z",
     "iopub.status.busy": "2025-10-23T06:23:56.468080Z",
     "iopub.status.idle": "2025-10-23T06:23:56.672538Z",
     "shell.execute_reply": "2025-10-23T06:23:56.671490Z"
    },
    "papermill": {
     "duration": 0.240351,
     "end_time": "2025-10-23T06:23:56.673393",
     "exception": false,
     "start_time": "2025-10-23T06:23:56.433042",
     "status": "completed"
    },
    "tags": []
   },
   "outputs": [
    {
     "name": "stdout",
     "output_type": "stream",
     "text": [
      "Transformation Pipeline and Model Successfully Loaded\n",
      "✅ Model loaded: Pipeline\n"
     ]
    },
    {
     "data": {
      "text/html": [],
      "text/plain": [
       "<IPython.core.display.HTML object>"
      ]
     },
     "metadata": {},
     "output_type": "display_data"
    },
    {
     "data": {
      "text/html": [
       "<div>\n",
       "<style scoped>\n",
       "    .dataframe tbody tr th:only-of-type {\n",
       "        vertical-align: middle;\n",
       "    }\n",
       "\n",
       "    .dataframe tbody tr th {\n",
       "        vertical-align: top;\n",
       "    }\n",
       "\n",
       "    .dataframe thead th {\n",
       "        text-align: right;\n",
       "    }\n",
       "</style>\n",
       "<table border=\"1\" class=\"dataframe\">\n",
       "  <thead>\n",
       "    <tr style=\"text-align: right;\">\n",
       "      <th></th>\n",
       "      <th>longitude</th>\n",
       "      <th>latitude</th>\n",
       "      <th>housing_median_age</th>\n",
       "      <th>total_rooms</th>\n",
       "      <th>total_bedrooms</th>\n",
       "      <th>population</th>\n",
       "      <th>households</th>\n",
       "      <th>median_income</th>\n",
       "      <th>ocean_proximity</th>\n",
       "      <th>prediction_label</th>\n",
       "    </tr>\n",
       "  </thead>\n",
       "  <tbody>\n",
       "    <tr>\n",
       "      <th>0</th>\n",
       "      <td>-122.230003</td>\n",
       "      <td>37.880001</td>\n",
       "      <td>41.0</td>\n",
       "      <td>880.0</td>\n",
       "      <td>129.0</td>\n",
       "      <td>322.0</td>\n",
       "      <td>126.0</td>\n",
       "      <td>8.3252</td>\n",
       "      <td>NEAR BAY</td>\n",
       "      <td>412646.992698</td>\n",
       "    </tr>\n",
       "    <tr>\n",
       "      <th>1</th>\n",
       "      <td>-122.220001</td>\n",
       "      <td>37.860001</td>\n",
       "      <td>21.0</td>\n",
       "      <td>7099.0</td>\n",
       "      <td>1106.0</td>\n",
       "      <td>2401.0</td>\n",
       "      <td>1138.0</td>\n",
       "      <td>8.3014</td>\n",
       "      <td>NEAR BAY</td>\n",
       "      <td>421506.847007</td>\n",
       "    </tr>\n",
       "    <tr>\n",
       "      <th>2</th>\n",
       "      <td>-122.239998</td>\n",
       "      <td>37.849998</td>\n",
       "      <td>52.0</td>\n",
       "      <td>1467.0</td>\n",
       "      <td>190.0</td>\n",
       "      <td>496.0</td>\n",
       "      <td>177.0</td>\n",
       "      <td>7.2574</td>\n",
       "      <td>NEAR BAY</td>\n",
       "      <td>415404.138010</td>\n",
       "    </tr>\n",
       "    <tr>\n",
       "      <th>3</th>\n",
       "      <td>-122.250000</td>\n",
       "      <td>37.849998</td>\n",
       "      <td>52.0</td>\n",
       "      <td>1274.0</td>\n",
       "      <td>235.0</td>\n",
       "      <td>558.0</td>\n",
       "      <td>219.0</td>\n",
       "      <td>5.6431</td>\n",
       "      <td>NEAR BAY</td>\n",
       "      <td>344059.284174</td>\n",
       "    </tr>\n",
       "    <tr>\n",
       "      <th>4</th>\n",
       "      <td>-122.250000</td>\n",
       "      <td>37.849998</td>\n",
       "      <td>52.0</td>\n",
       "      <td>1627.0</td>\n",
       "      <td>280.0</td>\n",
       "      <td>565.0</td>\n",
       "      <td>259.0</td>\n",
       "      <td>3.8462</td>\n",
       "      <td>NEAR BAY</td>\n",
       "      <td>275169.000685</td>\n",
       "    </tr>\n",
       "  </tbody>\n",
       "</table>\n",
       "</div>"
      ],
      "text/plain": [
       "    longitude   latitude  housing_median_age  total_rooms  total_bedrooms  \\\n",
       "0 -122.230003  37.880001                41.0        880.0           129.0   \n",
       "1 -122.220001  37.860001                21.0       7099.0          1106.0   \n",
       "2 -122.239998  37.849998                52.0       1467.0           190.0   \n",
       "3 -122.250000  37.849998                52.0       1274.0           235.0   \n",
       "4 -122.250000  37.849998                52.0       1627.0           280.0   \n",
       "\n",
       "   population  households  median_income ocean_proximity  prediction_label  \n",
       "0       322.0       126.0         8.3252        NEAR BAY     412646.992698  \n",
       "1      2401.0      1138.0         8.3014        NEAR BAY     421506.847007  \n",
       "2       496.0       177.0         7.2574        NEAR BAY     415404.138010  \n",
       "3       558.0       219.0         5.6431        NEAR BAY     344059.284174  \n",
       "4       565.0       259.0         3.8462        NEAR BAY     275169.000685  "
      ]
     },
     "execution_count": 21,
     "metadata": {},
     "output_type": "execute_result"
    }
   ],
   "source": [
    "# Load the model back\n",
    "loaded_model = load_model('insurance_model')\n",
    "\n",
    "print(f\"✅ Model loaded: {type(loaded_model).__name__}\")\n",
    "\n",
    "# Verify it works\n",
    "test_pred = predict_model(loaded_model, data=new_data.head(5))\n",
    "test_pred"
   ]
  },
  {
   "cell_type": "markdown",
   "id": "f14a3bf1",
   "metadata": {
    "papermill": {
     "duration": 0.034521,
     "end_time": "2025-10-23T06:23:56.744218",
     "exception": false,
     "start_time": "2025-10-23T06:23:56.709697",
     "status": "completed"
    },
    "tags": []
   },
   "source": [
    "---\n",
    "\n",
    "# 📚 Advanced Features\n",
    "\n",
    "The sections below demonstrate advanced PyCaret capabilities."
   ]
  },
  {
   "cell_type": "markdown",
   "id": "e7d910fd",
   "metadata": {
    "papermill": {
     "duration": 0.034658,
     "end_time": "2025-10-23T06:23:56.813396",
     "exception": false,
     "start_time": "2025-10-23T06:23:56.778738",
     "status": "completed"
    },
    "tags": []
   },
   "source": [
    "## Advanced Model Comparison"
   ]
  },
  {
   "cell_type": "markdown",
   "id": "168be422",
   "metadata": {
    "execution": {
     "iopub.execute_input": "2025-10-22T20:35:21.842252Z",
     "iopub.status.busy": "2025-10-22T20:35:21.842166Z",
     "iopub.status.idle": "2025-10-22T20:35:39.091659Z",
     "shell.execute_reply": "2025-10-22T20:35:39.091269Z"
    },
    "papermill": {
     "duration": 0.035307,
     "end_time": "2025-10-23T06:23:56.884469",
     "exception": false,
     "start_time": "2025-10-23T06:23:56.849162",
     "status": "completed"
    },
    "tags": []
   },
   "source": [
    "**SKIPPED FOR FASTER EXECUTION**```python# Compare only tree-based models (excluding xgboost due to column name issues)tree_models = compare_models(    include=['dt', 'rf', 'et', 'gbr', 'lightgbm', 'ada'])tree_results = pull()tree_results```"
   ]
  },
  {
   "cell_type": "markdown",
   "id": "418ce3db",
   "metadata": {
    "execution": {
     "iopub.execute_input": "2025-10-22T20:35:39.093968Z",
     "iopub.status.busy": "2025-10-22T20:35:39.093875Z",
     "iopub.status.idle": "2025-10-22T20:35:59.136888Z",
     "shell.execute_reply": "2025-10-22T20:35:59.136328Z"
    },
    "papermill": {
     "duration": 0.035431,
     "end_time": "2025-10-23T06:23:56.955328",
     "exception": false,
     "start_time": "2025-10-23T06:23:56.919897",
     "status": "completed"
    },
    "tags": []
   },
   "source": [
    "**SKIPPED FOR FASTER EXECUTION**```python# Get top 3 models sorted by MAEtop3_mae = compare_models(sort='MAE', n_select=3)print(f\"\\nTop 3 models by MAE:\")for i, model in enumerate(top3_mae, 1):    print(f\"{i}. {type(model).__name__}\")```"
   ]
  },
  {
   "cell_type": "markdown",
   "id": "5031be52",
   "metadata": {
    "papermill": {
     "duration": 0.035549,
     "end_time": "2025-10-23T06:23:57.026243",
     "exception": false,
     "start_time": "2025-10-23T06:23:56.990694",
     "status": "completed"
    },
    "tags": []
   },
   "source": [
    "## Hyperparameter Tuning\n",
    "\n",
    "The `tune_model()` function performs hyperparameter optimization."
   ]
  },
  {
   "cell_type": "code",
   "execution_count": 22,
   "id": "a072a5b4",
   "metadata": {
    "execution": {
     "iopub.execute_input": "2025-10-23T06:23:57.098679Z",
     "iopub.status.busy": "2025-10-23T06:23:57.098403Z",
     "iopub.status.idle": "2025-10-23T06:23:57.851876Z",
     "shell.execute_reply": "2025-10-23T06:23:57.850573Z"
    },
    "papermill": {
     "duration": 0.790866,
     "end_time": "2025-10-23T06:23:57.852885",
     "exception": false,
     "start_time": "2025-10-23T06:23:57.062019",
     "status": "completed"
    },
    "tags": []
   },
   "outputs": [
    {
     "data": {
      "text/html": [],
      "text/plain": [
       "<IPython.core.display.HTML object>"
      ]
     },
     "metadata": {},
     "output_type": "display_data"
    },
    {
     "data": {
      "text/html": [
       "<style type=\"text/css\">\n",
       "#T_08108_row3_col0, #T_08108_row3_col1, #T_08108_row3_col2, #T_08108_row3_col3, #T_08108_row3_col4, #T_08108_row3_col5 {\n",
       "  background: yellow;\n",
       "}\n",
       "</style>\n",
       "<table id=\"T_08108\">\n",
       "  <thead>\n",
       "    <tr>\n",
       "      <th class=\"blank level0\" >&nbsp;</th>\n",
       "      <th id=\"T_08108_level0_col0\" class=\"col_heading level0 col0\" >MAE</th>\n",
       "      <th id=\"T_08108_level0_col1\" class=\"col_heading level0 col1\" >MSE</th>\n",
       "      <th id=\"T_08108_level0_col2\" class=\"col_heading level0 col2\" >RMSE</th>\n",
       "      <th id=\"T_08108_level0_col3\" class=\"col_heading level0 col3\" >R2</th>\n",
       "      <th id=\"T_08108_level0_col4\" class=\"col_heading level0 col4\" >RMSLE</th>\n",
       "      <th id=\"T_08108_level0_col5\" class=\"col_heading level0 col5\" >MAPE</th>\n",
       "    </tr>\n",
       "    <tr>\n",
       "      <th class=\"index_name level0\" >Fold</th>\n",
       "      <th class=\"blank col0\" >&nbsp;</th>\n",
       "      <th class=\"blank col1\" >&nbsp;</th>\n",
       "      <th class=\"blank col2\" >&nbsp;</th>\n",
       "      <th class=\"blank col3\" >&nbsp;</th>\n",
       "      <th class=\"blank col4\" >&nbsp;</th>\n",
       "      <th class=\"blank col5\" >&nbsp;</th>\n",
       "    </tr>\n",
       "  </thead>\n",
       "  <tbody>\n",
       "    <tr>\n",
       "      <th id=\"T_08108_level0_row0\" class=\"row_heading level0 row0\" >0</th>\n",
       "      <td id=\"T_08108_row0_col0\" class=\"data row0 col0\" >46143.6080</td>\n",
       "      <td id=\"T_08108_row0_col1\" class=\"data row0 col1\" >5437769348.0930</td>\n",
       "      <td id=\"T_08108_row0_col2\" class=\"data row0 col2\" >73741.2323</td>\n",
       "      <td id=\"T_08108_row0_col3\" class=\"data row0 col3\" >0.6036</td>\n",
       "      <td id=\"T_08108_row0_col4\" class=\"data row0 col4\" >0.3419</td>\n",
       "      <td id=\"T_08108_row0_col5\" class=\"data row0 col5\" >0.2454</td>\n",
       "    </tr>\n",
       "    <tr>\n",
       "      <th id=\"T_08108_level0_row1\" class=\"row_heading level0 row1\" >1</th>\n",
       "      <td id=\"T_08108_row1_col0\" class=\"data row1 col0\" >46136.6474</td>\n",
       "      <td id=\"T_08108_row1_col1\" class=\"data row1 col1\" >5211464498.6698</td>\n",
       "      <td id=\"T_08108_row1_col2\" class=\"data row1 col2\" >72190.4737</td>\n",
       "      <td id=\"T_08108_row1_col3\" class=\"data row1 col3\" >0.6079</td>\n",
       "      <td id=\"T_08108_row1_col4\" class=\"data row1 col4\" >0.3402</td>\n",
       "      <td id=\"T_08108_row1_col5\" class=\"data row1 col5\" >0.2525</td>\n",
       "    </tr>\n",
       "    <tr>\n",
       "      <th id=\"T_08108_level0_row2\" class=\"row_heading level0 row2\" >2</th>\n",
       "      <td id=\"T_08108_row2_col0\" class=\"data row2 col0\" >47452.6129</td>\n",
       "      <td id=\"T_08108_row2_col1\" class=\"data row2 col1\" >5560173278.6773</td>\n",
       "      <td id=\"T_08108_row2_col2\" class=\"data row2 col2\" >74566.5694</td>\n",
       "      <td id=\"T_08108_row2_col3\" class=\"data row2 col3\" >0.5737</td>\n",
       "      <td id=\"T_08108_row2_col4\" class=\"data row2 col4\" >0.3499</td>\n",
       "      <td id=\"T_08108_row2_col5\" class=\"data row2 col5\" >0.2653</td>\n",
       "    </tr>\n",
       "    <tr>\n",
       "      <th id=\"T_08108_level0_row3\" class=\"row_heading level0 row3\" >Mean</th>\n",
       "      <td id=\"T_08108_row3_col0\" class=\"data row3 col0\" >46577.6228</td>\n",
       "      <td id=\"T_08108_row3_col1\" class=\"data row3 col1\" >5403135708.4800</td>\n",
       "      <td id=\"T_08108_row3_col2\" class=\"data row3 col2\" >73499.4252</td>\n",
       "      <td id=\"T_08108_row3_col3\" class=\"data row3 col3\" >0.5951</td>\n",
       "      <td id=\"T_08108_row3_col4\" class=\"data row3 col4\" >0.3440</td>\n",
       "      <td id=\"T_08108_row3_col5\" class=\"data row3 col5\" >0.2544</td>\n",
       "    </tr>\n",
       "    <tr>\n",
       "      <th id=\"T_08108_level0_row4\" class=\"row_heading level0 row4\" >Std</th>\n",
       "      <td id=\"T_08108_row4_col0\" class=\"data row4 col0\" >618.7180</td>\n",
       "      <td id=\"T_08108_row4_col1\" class=\"data row4 col1\" >144450845.2916</td>\n",
       "      <td id=\"T_08108_row4_col2\" class=\"data row4 col2\" >984.9909</td>\n",
       "      <td id=\"T_08108_row4_col3\" class=\"data row4 col3\" >0.0152</td>\n",
       "      <td id=\"T_08108_row4_col4\" class=\"data row4 col4\" >0.0042</td>\n",
       "      <td id=\"T_08108_row4_col5\" class=\"data row4 col5\" >0.0082</td>\n",
       "    </tr>\n",
       "  </tbody>\n",
       "</table>\n"
      ],
      "text/plain": [
       "<pandas.io.formats.style.Styler at 0x7fab1685e6e0>"
      ]
     },
     "metadata": {},
     "output_type": "display_data"
    },
    {
     "data": {
      "text/html": [],
      "text/plain": [
       "<IPython.core.display.HTML object>"
      ]
     },
     "metadata": {},
     "output_type": "display_data"
    }
   ],
   "source": [
    "# Create a baseline decision tree\n",
    "dt = create_model('dt')"
   ]
  },
  {
   "cell_type": "markdown",
   "id": "9c23acbf",
   "metadata": {
    "execution": {
     "iopub.execute_input": "2025-10-22T20:35:59.513173Z",
     "iopub.status.busy": "2025-10-22T20:35:59.513098Z",
     "iopub.status.idle": "2025-10-22T20:36:10.044470Z",
     "shell.execute_reply": "2025-10-22T20:36:10.043986Z"
    },
    "papermill": {
     "duration": 0.035331,
     "end_time": "2025-10-23T06:23:57.924358",
     "exception": false,
     "start_time": "2025-10-23T06:23:57.889027",
     "status": "completed"
    },
    "tags": []
   },
   "source": [
    "**SKIPPED FOR FASTER EXECUTION**```python# Tune hyperparameters using RandomizedSearchCV (default)tuned_dt = tune_model(dt)```"
   ]
  },
  {
   "cell_type": "markdown",
   "id": "abe0a0a3",
   "metadata": {
    "execution": {
     "iopub.execute_input": "2025-10-22T20:36:10.045632Z",
     "iopub.status.busy": "2025-10-22T20:36:10.045563Z",
     "iopub.status.idle": "2025-10-22T20:36:11.517552Z",
     "shell.execute_reply": "2025-10-22T20:36:11.517036Z"
    },
    "papermill": {
     "duration": 0.035036,
     "end_time": "2025-10-23T06:23:57.994848",
     "exception": false,
     "start_time": "2025-10-23T06:23:57.959812",
     "status": "completed"
    },
    "tags": []
   },
   "source": [
    "**SKIPPED FOR FASTER EXECUTION**```python# Tune with custom griddt_grid = {    'max_depth': [2, 4, 6, 8, 10, 12],    'min_samples_split': [2, 5, 10],    'min_samples_leaf': [1, 2, 4]}tuned_dt_custom = tune_model(dt, custom_grid=dt_grid, optimize='MAE')```"
   ]
  },
  {
   "cell_type": "code",
   "execution_count": 23,
   "id": "3aa03627",
   "metadata": {
    "execution": {
     "iopub.execute_input": "2025-10-23T06:23:58.068275Z",
     "iopub.status.busy": "2025-10-23T06:23:58.067956Z",
     "iopub.status.idle": "2025-10-23T06:23:58.072043Z",
     "shell.execute_reply": "2025-10-23T06:23:58.070930Z"
    },
    "papermill": {
     "duration": 0.042136,
     "end_time": "2025-10-23T06:23:58.072778",
     "exception": false,
     "start_time": "2025-10-23T06:23:58.030642",
     "status": "completed"
    },
    "tags": []
   },
   "outputs": [],
   "source": [
    "# SKIPPED: Requires optuna-integration package\n",
    "# # Tune using Optuna (Bayesian optimization)\n",
    "# # Note: This requires optuna to be installed\n",
    "# # pip install optuna\n",
    "# \n",
    "# tuned_dt_optuna = tune_model(dt, search_library='optuna', n_iter=20)"
   ]
  },
  {
   "cell_type": "markdown",
   "id": "bec4d5c1",
   "metadata": {
    "papermill": {
     "duration": 0.034764,
     "end_time": "2025-10-23T06:23:58.142899",
     "exception": false,
     "start_time": "2025-10-23T06:23:58.108135",
     "status": "completed"
    },
    "tags": []
   },
   "source": [
    "## Ensemble Methods"
   ]
  },
  {
   "cell_type": "markdown",
   "id": "bf28d429",
   "metadata": {
    "execution": {
     "iopub.execute_input": "2025-10-22T20:36:11.521142Z",
     "iopub.status.busy": "2025-10-22T20:36:11.521072Z",
     "iopub.status.idle": "2025-10-22T20:36:12.898802Z",
     "shell.execute_reply": "2025-10-22T20:36:12.898377Z"
    },
    "papermill": {
     "duration": 0.03466,
     "end_time": "2025-10-23T06:23:58.212339",
     "exception": false,
     "start_time": "2025-10-23T06:23:58.177679",
     "status": "completed"
    },
    "tags": []
   },
   "source": [
    "**SKIPPED FOR FASTER EXECUTION**```python# Bagging ensemblebagged_dt = ensemble_model(dt, method='Bagging')```"
   ]
  },
  {
   "cell_type": "markdown",
   "id": "8898e758",
   "metadata": {
    "execution": {
     "iopub.execute_input": "2025-10-22T20:36:12.899994Z",
     "iopub.status.busy": "2025-10-22T20:36:12.899926Z",
     "iopub.status.idle": "2025-10-22T20:36:15.511325Z",
     "shell.execute_reply": "2025-10-22T20:36:15.510928Z"
    },
    "papermill": {
     "duration": 0.03455,
     "end_time": "2025-10-23T06:23:58.280914",
     "exception": false,
     "start_time": "2025-10-23T06:23:58.246364",
     "status": "completed"
    },
    "tags": []
   },
   "source": [
    "**SKIPPED FOR FASTER EXECUTION**```python# Boosting ensemble (AdaBoost)boosted_dt = ensemble_model(dt, method='Boosting')```"
   ]
  },
  {
   "cell_type": "markdown",
   "id": "1bf380d8",
   "metadata": {
    "papermill": {
     "duration": 0.034495,
     "end_time": "2025-10-23T06:23:58.350143",
     "exception": false,
     "start_time": "2025-10-23T06:23:58.315648",
     "status": "completed"
    },
    "tags": []
   },
   "source": [
    "## Blend & Stack Models"
   ]
  },
  {
   "cell_type": "markdown",
   "id": "f8efc216",
   "metadata": {
    "execution": {
     "iopub.execute_input": "2025-10-22T20:36:15.512755Z",
     "iopub.status.busy": "2025-10-22T20:36:15.512668Z",
     "iopub.status.idle": "2025-10-22T20:36:28.408261Z",
     "shell.execute_reply": "2025-10-22T20:36:28.407695Z"
    },
    "papermill": {
     "duration": 0.034544,
     "end_time": "2025-10-23T06:23:58.419250",
     "exception": false,
     "start_time": "2025-10-23T06:23:58.384706",
     "status": "completed"
    },
    "tags": []
   },
   "source": [
    "**SKIPPED FOR FASTER EXECUTION**```python# Blend multiple models (voting regressor)blended = blend_models(top3_mae)```"
   ]
  },
  {
   "cell_type": "markdown",
   "id": "913f078d",
   "metadata": {
    "execution": {
     "iopub.execute_input": "2025-10-22T20:36:28.410665Z",
     "iopub.status.busy": "2025-10-22T20:36:28.410575Z",
     "iopub.status.idle": "2025-10-22T20:37:33.469059Z",
     "shell.execute_reply": "2025-10-22T20:37:33.468455Z"
    },
    "papermill": {
     "duration": 0.034481,
     "end_time": "2025-10-23T06:23:58.488358",
     "exception": false,
     "start_time": "2025-10-23T06:23:58.453877",
     "status": "completed"
    },
    "tags": []
   },
   "source": [
    "**SKIPPED FOR FASTER EXECUTION**```python# Stack models (meta-learning)stacked = stack_models(top3_mae)```"
   ]
  },
  {
   "cell_type": "markdown",
   "id": "1b7fb2ec",
   "metadata": {
    "execution": {
     "iopub.execute_input": "2025-10-22T20:37:33.470664Z",
     "iopub.status.busy": "2025-10-22T20:37:33.470564Z",
     "iopub.status.idle": "2025-10-22T20:38:35.085745Z",
     "shell.execute_reply": "2025-10-22T20:38:35.085212Z"
    },
    "papermill": {
     "duration": 0.03491,
     "end_time": "2025-10-23T06:23:58.558326",
     "exception": false,
     "start_time": "2025-10-23T06:23:58.523416",
     "status": "completed"
    },
    "tags": []
   },
   "source": [
    "**SKIPPED FOR FASTER EXECUTION**```python# Stack with custom meta-modellr = create_model('lr')stacked_custom = stack_models(top3_mae, meta_model=lr)```"
   ]
  },
  {
   "cell_type": "markdown",
   "id": "3153d086",
   "metadata": {
    "papermill": {
     "duration": 0.034836,
     "end_time": "2025-10-23T06:23:58.628501",
     "exception": false,
     "start_time": "2025-10-23T06:23:58.593665",
     "status": "completed"
    },
    "tags": []
   },
   "source": [
    "## Model Interpretation with SHAP"
   ]
  },
  {
   "cell_type": "markdown",
   "id": "531ccfde",
   "metadata": {
    "execution": {
     "iopub.execute_input": "2025-10-22T20:38:35.087294Z",
     "iopub.status.busy": "2025-10-22T20:38:35.087215Z",
     "iopub.status.idle": "2025-10-22T20:38:39.648893Z",
     "shell.execute_reply": "2025-10-22T20:38:39.648355Z"
    },
    "papermill": {
     "duration": 0.035425,
     "end_time": "2025-10-23T06:23:58.698977",
     "exception": false,
     "start_time": "2025-10-23T06:23:58.663552",
     "status": "completed"
    },
    "tags": []
   },
   "source": [
    "**SKIPPED FOR FASTER EXECUTION**```python# Train a tree-based model for interpretationlgbm = create_model('lightgbm')```"
   ]
  },
  {
   "cell_type": "markdown",
   "id": "8e973124",
   "metadata": {
    "execution": {
     "iopub.execute_input": "2025-10-22T20:38:39.650157Z",
     "iopub.status.busy": "2025-10-22T20:38:39.650083Z",
     "iopub.status.idle": "2025-10-22T20:38:40.727196Z",
     "shell.execute_reply": "2025-10-22T20:38:40.726795Z"
    },
    "papermill": {
     "duration": 0.035345,
     "end_time": "2025-10-23T06:23:58.770008",
     "exception": false,
     "start_time": "2025-10-23T06:23:58.734663",
     "status": "completed"
    },
    "tags": []
   },
   "source": [
    "**SKIPPED FOR FASTER EXECUTION**```python# SHAP summary plotinterpret_model(lgbm, plot='summary')```"
   ]
  },
  {
   "cell_type": "markdown",
   "id": "bfdf73c9",
   "metadata": {
    "execution": {
     "iopub.execute_input": "2025-10-22T20:38:40.728486Z",
     "iopub.status.busy": "2025-10-22T20:38:40.728406Z",
     "iopub.status.idle": "2025-10-22T20:38:40.997478Z",
     "shell.execute_reply": "2025-10-22T20:38:40.997153Z"
    },
    "papermill": {
     "duration": 0.035299,
     "end_time": "2025-10-23T06:23:58.840646",
     "exception": false,
     "start_time": "2025-10-23T06:23:58.805347",
     "status": "completed"
    },
    "tags": []
   },
   "source": [
    "**SKIPPED FOR FASTER EXECUTION**```python# SHAP reason plot for a specific predictioninterpret_model(lgbm, plot='reason', observation=0)```"
   ]
  },
  {
   "cell_type": "markdown",
   "id": "4320f3f7",
   "metadata": {
    "execution": {
     "iopub.execute_input": "2025-10-22T20:38:40.998703Z",
     "iopub.status.busy": "2025-10-22T20:38:40.998638Z",
     "iopub.status.idle": "2025-10-22T20:38:41.349732Z",
     "shell.execute_reply": "2025-10-22T20:38:41.349349Z"
    },
    "papermill": {
     "duration": 0.03495,
     "end_time": "2025-10-23T06:23:58.910525",
     "exception": false,
     "start_time": "2025-10-23T06:23:58.875575",
     "status": "completed"
    },
    "tags": []
   },
   "source": [
    "**SKIPPED FOR FASTER EXECUTION**```python# SHAP correlation plotinterpret_model(lgbm, plot='correlation')```"
   ]
  },
  {
   "cell_type": "markdown",
   "id": "d3832191",
   "metadata": {
    "papermill": {
     "duration": 0.035469,
     "end_time": "2025-10-23T06:23:58.980826",
     "exception": false,
     "start_time": "2025-10-23T06:23:58.945357",
     "status": "completed"
    },
    "tags": []
   },
   "source": [
    "## Leaderboard & AutoML"
   ]
  },
  {
   "cell_type": "markdown",
   "id": "4111c3bd",
   "metadata": {
    "execution": {
     "iopub.execute_input": "2025-10-22T20:38:41.350951Z",
     "iopub.status.busy": "2025-10-22T20:38:41.350886Z",
     "iopub.status.idle": "2025-10-22T20:39:44.787346Z",
     "shell.execute_reply": "2025-10-22T20:39:44.786938Z"
    },
    "papermill": {
     "duration": 0.035285,
     "end_time": "2025-10-23T06:23:59.051608",
     "exception": false,
     "start_time": "2025-10-23T06:23:59.016323",
     "status": "completed"
    },
    "tags": []
   },
   "source": [
    "**SKIPPED FOR FASTER EXECUTION**```python# Get leaderboard of all trained modelslb = get_leaderboard()lb```"
   ]
  },
  {
   "cell_type": "markdown",
   "id": "2cc7c1f9",
   "metadata": {
    "execution": {
     "iopub.execute_input": "2025-10-22T20:39:44.789088Z",
     "iopub.status.busy": "2025-10-22T20:39:44.788998Z",
     "iopub.status.idle": "2025-10-22T20:39:44.797858Z",
     "shell.execute_reply": "2025-10-22T20:39:44.797473Z"
    },
    "papermill": {
     "duration": 0.034901,
     "end_time": "2025-10-23T06:23:59.121548",
     "exception": false,
     "start_time": "2025-10-23T06:23:59.086647",
     "status": "completed"
    },
    "tags": []
   },
   "source": [
    "**SKIPPED FOR FASTER EXECUTION**```python# Find best model by specific metricbest_by_mae = lb.sort_values(by='MAE', ascending=True).iloc[0]print(f\"Best model by MAE: {best_by_mae['Model']}\")print(f\"MAE: ${best_by_mae['MAE']:,.2f}\")print(f\"RMSE: ${best_by_mae['RMSE']:,.2f}\")print(f\"R²: {best_by_mae['R2']:.4f}\")```"
   ]
  },
  {
   "cell_type": "markdown",
   "id": "5897fbfe",
   "metadata": {
    "execution": {
     "iopub.execute_input": "2025-10-22T20:39:44.798837Z",
     "iopub.status.busy": "2025-10-22T20:39:44.798775Z",
     "iopub.status.idle": "2025-10-22T20:39:52.829538Z",
     "shell.execute_reply": "2025-10-22T20:39:52.828879Z"
    },
    "papermill": {
     "duration": 0.034631,
     "end_time": "2025-10-23T06:23:59.191041",
     "exception": false,
     "start_time": "2025-10-23T06:23:59.156410",
     "status": "completed"
    },
    "tags": []
   },
   "source": [
    "**SKIPPED FOR FASTER EXECUTION**```python# AutoML - automatically select and return best modelbest_model = automl(optimize='MAE')print(f\"\\nAutoML selected: {type(best_model).__name__}\")```"
   ]
  },
  {
   "cell_type": "markdown",
   "id": "758c4ae8",
   "metadata": {
    "papermill": {
     "duration": 0.034493,
     "end_time": "2025-10-23T06:23:59.259999",
     "exception": false,
     "start_time": "2025-10-23T06:23:59.225506",
     "status": "completed"
    },
    "tags": []
   },
   "source": [
    "## Advanced Setup Options"
   ]
  },
  {
   "cell_type": "code",
   "execution_count": 24,
   "id": "8124466b",
   "metadata": {
    "execution": {
     "iopub.execute_input": "2025-10-23T06:23:59.331721Z",
     "iopub.status.busy": "2025-10-23T06:23:59.331208Z",
     "iopub.status.idle": "2025-10-23T06:23:59.336703Z",
     "shell.execute_reply": "2025-10-23T06:23:59.335707Z"
    },
    "papermill": {
     "duration": 0.04228,
     "end_time": "2025-10-23T06:23:59.337359",
     "exception": false,
     "start_time": "2025-10-23T06:23:59.295079",
     "status": "completed"
    },
    "tags": []
   },
   "outputs": [
    {
     "name": "stdout",
     "output_type": "stream",
     "text": [
      "Configuration type: <class 'set'>\n",
      "Available config keys (first 15):\n",
      "['USI', 'X', 'y_train_transformed', 'fold_generator', 'pipeline', 'test_transformed', 'test', 'logging_param', 'seed', 'log_plots_param', 'html_param', 'train', 'dataset', 'y_train', 'fold_shuffle_param']\n"
     ]
    }
   ],
   "source": [
    "# Access experiment configuration\n",
    "config = get_config()\n",
    "\n",
    "print(\"Configuration type:\", type(config))\n",
    "print(\"Available config keys (first 15):\")\n",
    "config_list = list(config) if isinstance(config, set) else list(config.keys())\n",
    "print(config_list[:15])"
   ]
  },
  {
   "cell_type": "code",
   "execution_count": 25,
   "id": "aa17c00c",
   "metadata": {
    "execution": {
     "iopub.execute_input": "2025-10-23T06:23:59.409334Z",
     "iopub.status.busy": "2025-10-23T06:23:59.409012Z",
     "iopub.status.idle": "2025-10-23T06:23:59.456102Z",
     "shell.execute_reply": "2025-10-23T06:23:59.455110Z"
    },
    "papermill": {
     "duration": 0.084146,
     "end_time": "2025-10-23T06:23:59.456995",
     "exception": false,
     "start_time": "2025-10-23T06:23:59.372849",
     "status": "completed"
    },
    "tags": []
   },
   "outputs": [
    {
     "name": "stdout",
     "output_type": "stream",
     "text": [
      "Training set: (14447, 9)\n",
      "Test set: (6193, 9)\n",
      "Target (train): (14447,)\n",
      "Target (test): (6193,)\n"
     ]
    }
   ],
   "source": [
    "# Access specific configuration elements\n",
    "X_train = get_config('X_train')\n",
    "X_test = get_config('X_test')\n",
    "y_train = get_config('y_train')\n",
    "y_test = get_config('y_test')\n",
    "\n",
    "print(f\"Training set: {X_train.shape}\")\n",
    "print(f\"Test set: {X_test.shape}\")\n",
    "print(f\"Target (train): {y_train.shape}\")\n",
    "print(f\"Target (test): {y_test.shape}\")"
   ]
  },
  {
   "cell_type": "code",
   "execution_count": 26,
   "id": "b7349fc0",
   "metadata": {
    "execution": {
     "iopub.execute_input": "2025-10-23T06:23:59.529586Z",
     "iopub.status.busy": "2025-10-23T06:23:59.529132Z",
     "iopub.status.idle": "2025-10-23T06:23:59.532994Z",
     "shell.execute_reply": "2025-10-23T06:23:59.532041Z"
    },
    "papermill": {
     "duration": 0.040878,
     "end_time": "2025-10-23T06:23:59.533731",
     "exception": false,
     "start_time": "2025-10-23T06:23:59.492853",
     "status": "completed"
    },
    "tags": []
   },
   "outputs": [],
   "source": [
    "# SKIPPED: Advanced setup example (optional)\n",
    "# # Setup with advanced preprocessing\n",
    "# s2 = setup(\n",
    "#     data, \n",
    "#     target='median_house_value',\n",
    "#     session_id=456,\n",
    "#     normalize=True,              # Normalize features\n",
    "#     normalize_method='minmax',   # Use Min-Max normalization\n",
    "#     transformation=True,          # Transform features\n",
    "#     transformation_method='yeo-johnson',  # Yeo-Johnson transformation\n",
    "#     feature_selection=True,      # Perform feature selection\n",
    "#     remove_multicollinearity=True,  # Remove multicollinear features\n",
    "#     multicollinearity_threshold=0.9,\n",
    "#     train_size=0.8               # Use 80% for training\n",
    "# )"
   ]
  },
  {
   "cell_type": "code",
   "execution_count": 27,
   "id": "2ecace77",
   "metadata": {
    "execution": {
     "iopub.execute_input": "2025-10-23T06:23:59.605995Z",
     "iopub.status.busy": "2025-10-23T06:23:59.605697Z",
     "iopub.status.idle": "2025-10-23T06:23:59.674206Z",
     "shell.execute_reply": "2025-10-23T06:23:59.673109Z"
    },
    "papermill": {
     "duration": 0.105411,
     "end_time": "2025-10-23T06:23:59.674964",
     "exception": false,
     "start_time": "2025-10-23T06:23:59.569553",
     "status": "completed"
    },
    "tags": []
   },
   "outputs": [
    {
     "name": "stdout",
     "output_type": "stream",
     "text": [
      "Transformed data shape: (14447, 13)\n",
      "\n",
      "First few rows of transformed data:\n",
      "        longitude   latitude  housing_median_age  total_rooms  total_bedrooms  \\\n",
      "12271 -117.040001  34.000000                21.0       4624.0           852.0   \n",
      "19605 -121.029999  37.549999                32.0        946.0           198.0   \n",
      "10600 -117.800003  33.680000                 8.0       2032.0           349.0   \n",
      "45    -122.260002  37.830002                52.0       1656.0           420.0   \n",
      "2889  -118.989998  35.389999                52.0       2805.0           573.0   \n",
      "\n",
      "       population  households  median_income  ocean_proximity_INLAND  \\\n",
      "12271      2174.0       812.0         3.5255                     1.0   \n",
      "19605       624.0       173.0         1.9728                     1.0   \n",
      "10600       862.0       340.0         6.9133                     0.0   \n",
      "45          718.0       382.0         2.6768                     0.0   \n",
      "2889       1325.0       522.0         2.5083                     1.0   \n",
      "\n",
      "       ocean_proximity_<1H OCEAN  ocean_proximity_NEAR BAY  \\\n",
      "12271                        0.0                       0.0   \n",
      "19605                        0.0                       0.0   \n",
      "10600                        1.0                       0.0   \n",
      "45                           0.0                       1.0   \n",
      "2889                         0.0                       0.0   \n",
      "\n",
      "       ocean_proximity_NEAR OCEAN  ocean_proximity_ISLAND  \n",
      "12271                         0.0                     0.0  \n",
      "19605                         0.0                     0.0  \n",
      "10600                         0.0                     0.0  \n",
      "45                            0.0                     0.0  \n",
      "2889                          0.0                     0.0  \n"
     ]
    }
   ],
   "source": [
    "# SKIPPED: Column names may change after transformation\n",
    "# The transformed data may have different column names\n",
    "# Use get_config('X_train_transformed') to see actual transformed data\n",
    "\n",
    "# Show first few rows of transformed data instead\n",
    "X_transformed = get_config('X_train_transformed')\n",
    "print(\"Transformed data shape:\", X_transformed.shape)\n",
    "print(\"\\nFirst few rows of transformed data:\")\n",
    "print(X_transformed.head())"
   ]
  },
  {
   "cell_type": "markdown",
   "id": "e829b6e6",
   "metadata": {
    "papermill": {
     "duration": 0.035281,
     "end_time": "2025-10-23T06:23:59.746011",
     "exception": false,
     "start_time": "2025-10-23T06:23:59.710730",
     "status": "completed"
    },
    "tags": []
   },
   "source": [
    "## Deployment Tools"
   ]
  },
  {
   "cell_type": "code",
   "execution_count": 28,
   "id": "f41055d7",
   "metadata": {
    "execution": {
     "iopub.execute_input": "2025-10-23T06:23:59.817862Z",
     "iopub.status.busy": "2025-10-23T06:23:59.817575Z",
     "iopub.status.idle": "2025-10-23T06:24:01.019023Z",
     "shell.execute_reply": "2025-10-23T06:24:01.017965Z"
    },
    "papermill": {
     "duration": 1.238584,
     "end_time": "2025-10-23T06:24:01.019769",
     "exception": false,
     "start_time": "2025-10-23T06:23:59.781185",
     "status": "completed"
    },
    "tags": []
   },
   "outputs": [
    {
     "name": "stdout",
     "output_type": "stream",
     "text": [
      "✅ Final model trained on full dataset: Pipeline\n"
     ]
    }
   ],
   "source": [
    "# Finalize model (retrain on full dataset including holdout)\n",
    "final_model = finalize_model(best)\n",
    "\n",
    "print(f\"✅ Final model trained on full dataset: {type(final_model).__name__}\")"
   ]
  },
  {
   "cell_type": "code",
   "execution_count": 29,
   "id": "0cd304c9",
   "metadata": {
    "execution": {
     "iopub.execute_input": "2025-10-23T06:24:01.092318Z",
     "iopub.status.busy": "2025-10-23T06:24:01.092026Z",
     "iopub.status.idle": "2025-10-23T06:24:01.095579Z",
     "shell.execute_reply": "2025-10-23T06:24:01.094546Z"
    },
    "papermill": {
     "duration": 0.040753,
     "end_time": "2025-10-23T06:24:01.096410",
     "exception": false,
     "start_time": "2025-10-23T06:24:01.055657",
     "status": "completed"
    },
    "tags": []
   },
   "outputs": [],
   "source": [
    "# SKIPPED: Optional deployment feature\n",
    "# # Create FastAPI application\n",
    "# create_api(final_model, api_name='insurance_api')\n",
    "# \n",
    "# print(\"\\n✅ API files created:\")\n",
    "# print(\"  - insurance_api.py (FastAPI application)\")\n",
    "# print(\"\\nTo run the API:\")\n",
    "# print(\"  python insurance_api.py\")"
   ]
  },
  {
   "cell_type": "code",
   "execution_count": 30,
   "id": "5ba8c506",
   "metadata": {
    "execution": {
     "iopub.execute_input": "2025-10-23T06:24:01.168906Z",
     "iopub.status.busy": "2025-10-23T06:24:01.168619Z",
     "iopub.status.idle": "2025-10-23T06:24:01.172356Z",
     "shell.execute_reply": "2025-10-23T06:24:01.171325Z"
    },
    "papermill": {
     "duration": 0.041308,
     "end_time": "2025-10-23T06:24:01.173065",
     "exception": false,
     "start_time": "2025-10-23T06:24:01.131757",
     "status": "completed"
    },
    "tags": []
   },
   "outputs": [],
   "source": [
    "# SKIPPED: Optional deployment feature\n",
    "# # Create Docker configuration\n",
    "# create_docker('insurance_api')\n",
    "# \n",
    "# print(\"\\n✅ Docker files created:\")\n",
    "# print(\"  - Dockerfile\")\n",
    "# print(\"  - requirements.txt\")\n",
    "# print(\"\\nTo build and run:\")\n",
    "# print(\"  docker build -t insurance-api .\")\n",
    "# print(\"  docker run -p 8000:8000 insurance-api\")"
   ]
  },
  {
   "cell_type": "code",
   "execution_count": 31,
   "id": "811da797",
   "metadata": {
    "execution": {
     "iopub.execute_input": "2025-10-23T06:24:01.246308Z",
     "iopub.status.busy": "2025-10-23T06:24:01.246022Z",
     "iopub.status.idle": "2025-10-23T06:24:01.249510Z",
     "shell.execute_reply": "2025-10-23T06:24:01.248513Z"
    },
    "papermill": {
     "duration": 0.04091,
     "end_time": "2025-10-23T06:24:01.250173",
     "exception": false,
     "start_time": "2025-10-23T06:24:01.209263",
     "status": "completed"
    },
    "tags": []
   },
   "outputs": [],
   "source": [
    "# SKIPPED: Optional Gradio app feature\n",
    "# # Create Gradio app for interactive predictions\n",
    "# create_app(final_model)\n",
    "# \n",
    "# # This will launch an interactive web interface"
   ]
  },
  {
   "cell_type": "code",
   "execution_count": 32,
   "id": "4ec39a11",
   "metadata": {
    "execution": {
     "iopub.execute_input": "2025-10-23T06:24:01.322888Z",
     "iopub.status.busy": "2025-10-23T06:24:01.322607Z",
     "iopub.status.idle": "2025-10-23T06:24:01.326017Z",
     "shell.execute_reply": "2025-10-23T06:24:01.325048Z"
    },
    "papermill": {
     "duration": 0.041044,
     "end_time": "2025-10-23T06:24:01.327030",
     "exception": false,
     "start_time": "2025-10-23T06:24:01.285986",
     "status": "completed"
    },
    "tags": []
   },
   "outputs": [],
   "source": [
    "# SKIPPED: Optional dashboard feature\n",
    "# # Create dashboard\n",
    "# dashboard(best, display_format='inline')\n",
    "# \n",
    "# # This creates an interactive dashboard in the notebook"
   ]
  },
  {
   "cell_type": "code",
   "execution_count": 33,
   "id": "8fb6d920",
   "metadata": {
    "execution": {
     "iopub.execute_input": "2025-10-23T06:24:01.399622Z",
     "iopub.status.busy": "2025-10-23T06:24:01.399338Z",
     "iopub.status.idle": "2025-10-23T06:24:01.403010Z",
     "shell.execute_reply": "2025-10-23T06:24:01.401941Z"
    },
    "papermill": {
     "duration": 0.04108,
     "end_time": "2025-10-23T06:24:01.403759",
     "exception": false,
     "start_time": "2025-10-23T06:24:01.362679",
     "status": "completed"
    },
    "tags": []
   },
   "outputs": [],
   "source": [
    "# SKIPPED: Optional model conversion feature\n",
    "# # Convert model to different programming languages\n",
    "# java_code = convert_model(dt, language='java')\n",
    "# \n",
    "# print(\"Java code (first 500 characters):\")\n",
    "# print(java_code[:500])\n",
    "# print(\"\\n... (truncated)\")"
   ]
  },
  {
   "cell_type": "markdown",
   "id": "4890f1e3",
   "metadata": {
    "papermill": {
     "duration": 0.035265,
     "end_time": "2025-10-23T06:24:01.474618",
     "exception": false,
     "start_time": "2025-10-23T06:24:01.439353",
     "status": "completed"
    },
    "tags": []
   },
   "source": [
    "## Experiment Persistence"
   ]
  },
  {
   "cell_type": "markdown",
   "id": "afd4c54f",
   "metadata": {
    "execution": {
     "iopub.execute_input": "2025-10-22T20:39:53.609026Z",
     "iopub.status.busy": "2025-10-22T20:39:53.608968Z",
     "iopub.status.idle": "2025-10-22T20:39:53.872401Z",
     "shell.execute_reply": "2025-10-22T20:39:53.872023Z"
    },
    "papermill": {
     "duration": 0.035038,
     "end_time": "2025-10-23T06:24:01.544890",
     "exception": false,
     "start_time": "2025-10-23T06:24:01.509852",
     "status": "completed"
    },
    "tags": []
   },
   "source": [
    "**SKIPPED FOR FASTER EXECUTION**```python# Save entire experiment (all models, transformations, config)save_experiment('insurance_experiment')print(\"✅ Experiment saved as 'insurance_experiment.pkl'\")```"
   ]
  },
  {
   "cell_type": "markdown",
   "id": "3f5dd501",
   "metadata": {
    "execution": {
     "iopub.execute_input": "2025-10-22T20:39:53.873390Z",
     "iopub.status.busy": "2025-10-22T20:39:53.873329Z",
     "iopub.status.idle": "2025-10-22T20:39:54.933338Z",
     "shell.execute_reply": "2025-10-22T20:39:54.933035Z"
    },
    "papermill": {
     "duration": 0.035252,
     "end_time": "2025-10-23T06:24:01.615474",
     "exception": false,
     "start_time": "2025-10-23T06:24:01.580222",
     "status": "completed"
    },
    "tags": []
   },
   "source": [
    "**SKIPPED FOR FASTER EXECUTION**```python# Load experimentloaded_exp = load_experiment('insurance_experiment', data=data)print(\"✅ Experiment loaded successfully!\")print(\"\\nYou can now use all models and continue where you left off.\")```"
   ]
  },
  {
   "cell_type": "markdown",
   "id": "1a59efc9",
   "metadata": {
    "papermill": {
     "duration": 0.035602,
     "end_time": "2025-10-23T06:24:01.687704",
     "exception": false,
     "start_time": "2025-10-23T06:24:01.652102",
     "status": "completed"
    },
    "tags": []
   },
   "source": [
    "---\n",
    "\n",
    "# 🎉 Congratulations!\n",
    "\n",
    "You've completed the PyCaret Regression tutorial!\n",
    "\n",
    "## What You Learned\n",
    "\n",
    "✅ **Environment Setup** - Configuring PyCaret with preprocessing pipelines  \n",
    "✅ **AutoML** - Automatically comparing 25+ regression models  \n",
    "✅ **Model Analysis** - Visualizing performance with various plots  \n",
    "✅ **Hyperparameter Tuning** - Optimizing models with multiple strategies  \n",
    "✅ **Ensemble Methods** - Bagging, boosting, blending, and stacking  \n",
    "✅ **Model Interpretation** - Understanding predictions with SHAP  \n",
    "✅ **Deployment** - Creating APIs, dashboards, and Docker containers  \n",
    "✅ **Persistence** - Saving and loading models and experiments\n",
    "\n",
    "## Key Takeaways\n",
    "\n",
    "1. **Low-Code ML**: PyCaret reduces hundreds of lines to just a few\n",
    "2. **Automation**: Compare models, tune parameters, and ensemble automatically\n",
    "3. **Production-Ready**: Built-in tools for deployment and monitoring\n",
    "4. **Flexibility**: Both functional and OOP APIs available\n",
    "5. **Comprehensive**: Covers entire ML lifecycle from data to deployment\n",
    "\n",
    "## Next Steps\n",
    "\n",
    "1. **Try your own data** - Apply PyCaret to your projects\n",
    "2. **Explore other modules** - Classification, Clustering, Anomaly Detection, Time Series\n",
    "3. **Deploy a model** - Use the API and Docker files created\n",
    "4. **Join the community** - Contribute and learn from others\n",
    "\n",
    "## Resources\n",
    "\n",
    "- **Documentation:** https://pycaret.readthedocs.io\n",
    "- **GitHub:** https://github.com/pycaret/pycaret\n",
    "- **Tutorials:** https://pycaret.gitbook.io\n",
    "- **API Reference:** https://pycaret.readthedocs.io/en/latest/api/regression.html\n",
    "- **Community:** https://github.com/pycaret/pycaret/discussions\n",
    "\n",
    "---\n",
    "\n",
    "**Course:** CMPE-255 Data Mining  \n",
    "**Institution:** San José State University  \n",
    "\n",
    "Happy Machine Learning! 🚀"
   ]
  }
 ],
 "metadata": {
  "environment": {
   "kernel": "python3",
   "name": "workbench-notebooks.m134",
   "type": "gcloud",
   "uri": "us-docker.pkg.dev/deeplearning-platform-release/gcr.io/workbench-notebooks:m134"
  },
  "kernelspec": {
   "display_name": "Python 3",
   "language": "python",
   "name": "python3"
  },
  "language_info": {
   "codemirror_mode": {
    "name": "ipython",
    "version": 3
   },
   "file_extension": ".py",
   "mimetype": "text/x-python",
   "name": "python",
   "nbconvert_exporter": "python",
   "pygments_lexer": "ipython3",
   "version": "3.10.19"
  },
  "papermill": {
   "default_parameters": {},
   "duration": 2864.286052,
   "end_time": "2025-10-23T06:24:04.342054",
   "environment_variables": {},
   "exception": null,
   "input_path": "notebooks/01_regression.ipynb",
   "output_path": "outputs/executed_notebooks/01_regression_executed_20251023-053615.ipynb",
   "parameters": {
    "auto_download": "true",
    "run_id": "20251023-053615"
   },
   "start_time": "2025-10-23T05:36:20.056002",
   "version": "2.6.0"
  },
  "widgets": {
   "application/vnd.jupyter.widget-state+json": {
    "state": {
     "06b0985a9f854d01931c30d146ee490b": {
      "model_module": "@jupyter-widgets/base",
      "model_module_version": "2.0.0",
      "model_name": "LayoutModel",
      "state": {
       "_model_module": "@jupyter-widgets/base",
       "_model_module_version": "2.0.0",
       "_model_name": "LayoutModel",
       "_view_count": null,
       "_view_module": "@jupyter-widgets/base",
       "_view_module_version": "2.0.0",
       "_view_name": "LayoutView",
       "align_content": null,
       "align_items": null,
       "align_self": null,
       "border_bottom": null,
       "border_left": null,
       "border_right": null,
       "border_top": null,
       "bottom": null,
       "display": null,
       "flex": null,
       "flex_flow": null,
       "grid_area": null,
       "grid_auto_columns": null,
       "grid_auto_flow": null,
       "grid_auto_rows": null,
       "grid_column": null,
       "grid_gap": null,
       "grid_row": null,
       "grid_template_areas": null,
       "grid_template_columns": null,
       "grid_template_rows": null,
       "height": null,
       "justify_content": null,
       "justify_items": null,
       "left": null,
       "margin": null,
       "max_height": null,
       "max_width": null,
       "min_height": null,
       "min_width": null,
       "object_fit": null,
       "object_position": null,
       "order": null,
       "overflow": null,
       "padding": null,
       "right": null,
       "top": null,
       "visibility": null,
       "width": null
      }
     },
     "0715dd09dec148d4a3c57d7f1cd75e00": {
      "model_module": "@jupyter-widgets/controls",
      "model_module_version": "2.0.0",
      "model_name": "FloatProgressModel",
      "state": {
       "_dom_classes": [],
       "_model_module": "@jupyter-widgets/controls",
       "_model_module_version": "2.0.0",
       "_model_name": "FloatProgressModel",
       "_view_count": null,
       "_view_module": "@jupyter-widgets/controls",
       "_view_module_version": "2.0.0",
       "_view_name": "ProgressView",
       "bar_style": "",
       "description": "",
       "description_allow_html": false,
       "layout": "IPY_MODEL_58f5e701871a43fe959d206569dcc601",
       "max": 25,
       "min": 0,
       "orientation": "horizontal",
       "style": "IPY_MODEL_c14795038a364e01870c67a8d9be1fee",
       "tabbable": null,
       "tooltip": null,
       "value": 25
      }
     },
     "14308854341e4d3abb750e7dae6dcee6": {
      "model_module": "@jupyter-widgets/base",
      "model_module_version": "2.0.0",
      "model_name": "LayoutModel",
      "state": {
       "_model_module": "@jupyter-widgets/base",
       "_model_module_version": "2.0.0",
       "_model_name": "LayoutModel",
       "_view_count": null,
       "_view_module": "@jupyter-widgets/base",
       "_view_module_version": "2.0.0",
       "_view_name": "LayoutView",
       "align_content": null,
       "align_items": null,
       "align_self": null,
       "border_bottom": null,
       "border_left": null,
       "border_right": null,
       "border_top": null,
       "bottom": null,
       "display": null,
       "flex": null,
       "flex_flow": null,
       "grid_area": null,
       "grid_auto_columns": null,
       "grid_auto_flow": null,
       "grid_auto_rows": null,
       "grid_column": null,
       "grid_gap": null,
       "grid_row": null,
       "grid_template_areas": null,
       "grid_template_columns": null,
       "grid_template_rows": null,
       "height": null,
       "justify_content": null,
       "justify_items": null,
       "left": null,
       "margin": null,
       "max_height": null,
       "max_width": null,
       "min_height": null,
       "min_width": null,
       "object_fit": null,
       "object_position": null,
       "order": null,
       "overflow": null,
       "padding": null,
       "right": null,
       "top": null,
       "visibility": "hidden",
       "width": null
      }
     },
     "162dc873b3e5448a89b00faa85a91e19": {
      "model_module": "@jupyter-widgets/base",
      "model_module_version": "2.0.0",
      "model_name": "LayoutModel",
      "state": {
       "_model_module": "@jupyter-widgets/base",
       "_model_module_version": "2.0.0",
       "_model_name": "LayoutModel",
       "_view_count": null,
       "_view_module": "@jupyter-widgets/base",
       "_view_module_version": "2.0.0",
       "_view_name": "LayoutView",
       "align_content": null,
       "align_items": null,
       "align_self": null,
       "border_bottom": null,
       "border_left": null,
       "border_right": null,
       "border_top": null,
       "bottom": null,
       "display": null,
       "flex": null,
       "flex_flow": null,
       "grid_area": null,
       "grid_auto_columns": null,
       "grid_auto_flow": null,
       "grid_auto_rows": null,
       "grid_column": null,
       "grid_gap": null,
       "grid_row": null,
       "grid_template_areas": null,
       "grid_template_columns": null,
       "grid_template_rows": null,
       "height": null,
       "justify_content": null,
       "justify_items": null,
       "left": null,
       "margin": null,
       "max_height": null,
       "max_width": null,
       "min_height": null,
       "min_width": null,
       "object_fit": null,
       "object_position": null,
       "order": null,
       "overflow": null,
       "padding": null,
       "right": null,
       "top": null,
       "visibility": null,
       "width": null
      }
     },
     "303f2477936e4391ad1a94af03760d31": {
      "model_module": "@jupyter-widgets/controls",
      "model_module_version": "2.0.0",
      "model_name": "HBoxModel",
      "state": {
       "_dom_classes": [],
       "_model_module": "@jupyter-widgets/controls",
       "_model_module_version": "2.0.0",
       "_model_name": "HBoxModel",
       "_view_count": null,
       "_view_module": "@jupyter-widgets/controls",
       "_view_module_version": "2.0.0",
       "_view_name": "HBoxView",
       "box_style": "",
       "children": [
        "IPY_MODEL_e0883067bd5b4e0a95172d7bce708b3c",
        "IPY_MODEL_0715dd09dec148d4a3c57d7f1cd75e00",
        "IPY_MODEL_65775df2dc874188b860ad3d39e4188e"
       ],
       "layout": "IPY_MODEL_c8e53650daee4fd2add86809828f4a6f",
       "tabbable": null,
       "tooltip": null
      }
     },
     "58f5e701871a43fe959d206569dcc601": {
      "model_module": "@jupyter-widgets/base",
      "model_module_version": "2.0.0",
      "model_name": "LayoutModel",
      "state": {
       "_model_module": "@jupyter-widgets/base",
       "_model_module_version": "2.0.0",
       "_model_name": "LayoutModel",
       "_view_count": null,
       "_view_module": "@jupyter-widgets/base",
       "_view_module_version": "2.0.0",
       "_view_name": "LayoutView",
       "align_content": null,
       "align_items": null,
       "align_self": null,
       "border_bottom": null,
       "border_left": null,
       "border_right": null,
       "border_top": null,
       "bottom": null,
       "display": null,
       "flex": null,
       "flex_flow": null,
       "grid_area": null,
       "grid_auto_columns": null,
       "grid_auto_flow": null,
       "grid_auto_rows": null,
       "grid_column": null,
       "grid_gap": null,
       "grid_row": null,
       "grid_template_areas": null,
       "grid_template_columns": null,
       "grid_template_rows": null,
       "height": null,
       "justify_content": null,
       "justify_items": null,
       "left": null,
       "margin": null,
       "max_height": null,
       "max_width": null,
       "min_height": null,
       "min_width": null,
       "object_fit": null,
       "object_position": null,
       "order": null,
       "overflow": null,
       "padding": null,
       "right": null,
       "top": null,
       "visibility": null,
       "width": null
      }
     },
     "65775df2dc874188b860ad3d39e4188e": {
      "model_module": "@jupyter-widgets/controls",
      "model_module_version": "2.0.0",
      "model_name": "HTMLModel",
      "state": {
       "_dom_classes": [],
       "_model_module": "@jupyter-widgets/controls",
       "_model_module_version": "2.0.0",
       "_model_name": "HTMLModel",
       "_view_count": null,
       "_view_module": "@jupyter-widgets/controls",
       "_view_module_version": "2.0.0",
       "_view_name": "HTMLView",
       "description": "",
       "description_allow_html": false,
       "layout": "IPY_MODEL_a809eb67914342448fa0d3a91091cc7b",
       "placeholder": "​",
       "style": "IPY_MODEL_769009d244e44abea380939110aa4058",
       "tabbable": null,
       "tooltip": null,
       "value": " 25/25 [01:29&lt;00:00,  3.14s/it]"
      }
     },
     "6753804897f440fd92e23f88bc585bb3": {
      "model_module": "@jupyter-widgets/controls",
      "model_module_version": "2.0.0",
      "model_name": "VBoxModel",
      "state": {
       "_dom_classes": [
        "widget-interact"
       ],
       "_model_module": "@jupyter-widgets/controls",
       "_model_module_version": "2.0.0",
       "_model_name": "VBoxModel",
       "_view_count": null,
       "_view_module": "@jupyter-widgets/controls",
       "_view_module_version": "2.0.0",
       "_view_name": "VBoxView",
       "box_style": "",
       "children": [
        "IPY_MODEL_723cf6a12e1e4a71a3707d817cce1495",
        "IPY_MODEL_eb1c56f518034c239a642c9ef8fba3bb"
       ],
       "layout": "IPY_MODEL_06b0985a9f854d01931c30d146ee490b",
       "tabbable": null,
       "tooltip": null
      }
     },
     "6af2d0e26bcb4fdfbd2b15a60e8033f1": {
      "model_module": "@jupyter-widgets/base",
      "model_module_version": "2.0.0",
      "model_name": "LayoutModel",
      "state": {
       "_model_module": "@jupyter-widgets/base",
       "_model_module_version": "2.0.0",
       "_model_name": "LayoutModel",
       "_view_count": null,
       "_view_module": "@jupyter-widgets/base",
       "_view_module_version": "2.0.0",
       "_view_name": "LayoutView",
       "align_content": null,
       "align_items": null,
       "align_self": null,
       "border_bottom": null,
       "border_left": null,
       "border_right": null,
       "border_top": null,
       "bottom": null,
       "display": null,
       "flex": null,
       "flex_flow": null,
       "grid_area": null,
       "grid_auto_columns": null,
       "grid_auto_flow": null,
       "grid_auto_rows": null,
       "grid_column": null,
       "grid_gap": null,
       "grid_row": null,
       "grid_template_areas": null,
       "grid_template_columns": null,
       "grid_template_rows": null,
       "height": null,
       "justify_content": null,
       "justify_items": null,
       "left": null,
       "margin": null,
       "max_height": null,
       "max_width": null,
       "min_height": null,
       "min_width": null,
       "object_fit": null,
       "object_position": null,
       "order": null,
       "overflow": null,
       "padding": null,
       "right": null,
       "top": null,
       "visibility": null,
       "width": null
      }
     },
     "6c1ed6bea957433d8ef4b9b4dc12bed5": {
      "model_module": "@jupyter-widgets/base",
      "model_module_version": "2.0.0",
      "model_name": "LayoutModel",
      "state": {
       "_model_module": "@jupyter-widgets/base",
       "_model_module_version": "2.0.0",
       "_model_name": "LayoutModel",
       "_view_count": null,
       "_view_module": "@jupyter-widgets/base",
       "_view_module_version": "2.0.0",
       "_view_name": "LayoutView",
       "align_content": null,
       "align_items": null,
       "align_self": null,
       "border_bottom": null,
       "border_left": null,
       "border_right": null,
       "border_top": null,
       "bottom": null,
       "display": null,
       "flex": null,
       "flex_flow": null,
       "grid_area": null,
       "grid_auto_columns": null,
       "grid_auto_flow": null,
       "grid_auto_rows": null,
       "grid_column": null,
       "grid_gap": null,
       "grid_row": null,
       "grid_template_areas": null,
       "grid_template_columns": null,
       "grid_template_rows": null,
       "height": null,
       "justify_content": null,
       "justify_items": null,
       "left": null,
       "margin": null,
       "max_height": null,
       "max_width": null,
       "min_height": null,
       "min_width": null,
       "object_fit": null,
       "object_position": null,
       "order": null,
       "overflow": null,
       "padding": null,
       "right": null,
       "top": null,
       "visibility": null,
       "width": null
      }
     },
     "6cd36e98c49243938e048b0b3d7e169f": {
      "model_module": "@jupyter-widgets/controls",
      "model_module_version": "2.0.0",
      "model_name": "HTMLStyleModel",
      "state": {
       "_model_module": "@jupyter-widgets/controls",
       "_model_module_version": "2.0.0",
       "_model_name": "HTMLStyleModel",
       "_view_count": null,
       "_view_module": "@jupyter-widgets/base",
       "_view_module_version": "2.0.0",
       "_view_name": "StyleView",
       "background": null,
       "description_width": "",
       "font_size": null,
       "text_color": null
      }
     },
     "6ee7eff8a1634930a497db696ae05a01": {
      "model_module": "@jupyter-widgets/base",
      "model_module_version": "2.0.0",
      "model_name": "LayoutModel",
      "state": {
       "_model_module": "@jupyter-widgets/base",
       "_model_module_version": "2.0.0",
       "_model_name": "LayoutModel",
       "_view_count": null,
       "_view_module": "@jupyter-widgets/base",
       "_view_module_version": "2.0.0",
       "_view_name": "LayoutView",
       "align_content": null,
       "align_items": null,
       "align_self": null,
       "border_bottom": null,
       "border_left": null,
       "border_right": null,
       "border_top": null,
       "bottom": null,
       "display": null,
       "flex": null,
       "flex_flow": null,
       "grid_area": null,
       "grid_auto_columns": null,
       "grid_auto_flow": null,
       "grid_auto_rows": null,
       "grid_column": null,
       "grid_gap": null,
       "grid_row": null,
       "grid_template_areas": null,
       "grid_template_columns": null,
       "grid_template_rows": null,
       "height": null,
       "justify_content": null,
       "justify_items": null,
       "left": null,
       "margin": null,
       "max_height": null,
       "max_width": null,
       "min_height": null,
       "min_width": null,
       "object_fit": null,
       "object_position": null,
       "order": null,
       "overflow": null,
       "padding": null,
       "right": null,
       "top": null,
       "visibility": null,
       "width": null
      }
     },
     "723cf6a12e1e4a71a3707d817cce1495": {
      "model_module": "@jupyter-widgets/controls",
      "model_module_version": "2.0.0",
      "model_name": "ToggleButtonsModel",
      "state": {
       "_dom_classes": [],
       "_model_module": "@jupyter-widgets/controls",
       "_model_module_version": "2.0.0",
       "_model_name": "ToggleButtonsModel",
       "_options_labels": [
        "Pipeline Plot",
        "Hyperparameters",
        "Residuals",
        "Prediction Error",
        "Cooks Distance",
        "Feature Selection",
        "Learning Curve",
        "Manifold Learning",
        "Validation Curve",
        "Feature Importance",
        "Feature Importance (All)",
        "Decision Tree",
        "Interactive Residuals"
       ],
       "_view_count": null,
       "_view_module": "@jupyter-widgets/controls",
       "_view_module_version": "2.0.0",
       "_view_name": "ToggleButtonsView",
       "button_style": "",
       "description": "Plot Type:",
       "description_allow_html": false,
       "disabled": false,
       "icons": [
        ""
       ],
       "index": 0,
       "layout": "IPY_MODEL_93db9c00fb2b466c9854f581cd166bdc",
       "style": "IPY_MODEL_a8480bde51774c6f876839865939c0bf",
       "tabbable": null,
       "tooltip": null,
       "tooltips": []
      }
     },
     "769009d244e44abea380939110aa4058": {
      "model_module": "@jupyter-widgets/controls",
      "model_module_version": "2.0.0",
      "model_name": "HTMLStyleModel",
      "state": {
       "_model_module": "@jupyter-widgets/controls",
       "_model_module_version": "2.0.0",
       "_model_name": "HTMLStyleModel",
       "_view_count": null,
       "_view_module": "@jupyter-widgets/base",
       "_view_module_version": "2.0.0",
       "_view_name": "StyleView",
       "background": null,
       "description_width": "",
       "font_size": null,
       "text_color": null
      }
     },
     "7b1ac28a6c2b4f769350bbe54a2caeea": {
      "model_module": "@jupyter-widgets/controls",
      "model_module_version": "2.0.0",
      "model_name": "FloatProgressModel",
      "state": {
       "_dom_classes": [],
       "_model_module": "@jupyter-widgets/controls",
       "_model_module_version": "2.0.0",
       "_model_name": "FloatProgressModel",
       "_view_count": null,
       "_view_module": "@jupyter-widgets/controls",
       "_view_module_version": "2.0.0",
       "_view_name": "ProgressView",
       "bar_style": "",
       "description": "",
       "description_allow_html": false,
       "layout": "IPY_MODEL_f8b7177814f64f7a9ccd77c64dc000ca",
       "max": 4,
       "min": 0,
       "orientation": "horizontal",
       "style": "IPY_MODEL_989a0be87c9e4311b42a281df46300c1",
       "tabbable": null,
       "tooltip": null,
       "value": 4
      }
     },
     "7fb46c2e0a17409fa71b0760061367f3": {
      "model_module": "@jupyter-widgets/controls",
      "model_module_version": "2.0.0",
      "model_name": "HBoxModel",
      "state": {
       "_dom_classes": [],
       "_model_module": "@jupyter-widgets/controls",
       "_model_module_version": "2.0.0",
       "_model_name": "HBoxModel",
       "_view_count": null,
       "_view_module": "@jupyter-widgets/controls",
       "_view_module_version": "2.0.0",
       "_view_name": "HBoxView",
       "box_style": "",
       "children": [
        "IPY_MODEL_e73d6c0c554540e3b3180543ca0d3ccc",
        "IPY_MODEL_7b1ac28a6c2b4f769350bbe54a2caeea",
        "IPY_MODEL_e8b5a2f78d6149ca987beb71a4731235"
       ],
       "layout": "IPY_MODEL_14308854341e4d3abb750e7dae6dcee6",
       "tabbable": null,
       "tooltip": null
      }
     },
     "93db9c00fb2b466c9854f581cd166bdc": {
      "model_module": "@jupyter-widgets/base",
      "model_module_version": "2.0.0",
      "model_name": "LayoutModel",
      "state": {
       "_model_module": "@jupyter-widgets/base",
       "_model_module_version": "2.0.0",
       "_model_name": "LayoutModel",
       "_view_count": null,
       "_view_module": "@jupyter-widgets/base",
       "_view_module_version": "2.0.0",
       "_view_name": "LayoutView",
       "align_content": null,
       "align_items": null,
       "align_self": null,
       "border_bottom": null,
       "border_left": null,
       "border_right": null,
       "border_top": null,
       "bottom": null,
       "display": null,
       "flex": null,
       "flex_flow": null,
       "grid_area": null,
       "grid_auto_columns": null,
       "grid_auto_flow": null,
       "grid_auto_rows": null,
       "grid_column": null,
       "grid_gap": null,
       "grid_row": null,
       "grid_template_areas": null,
       "grid_template_columns": null,
       "grid_template_rows": null,
       "height": null,
       "justify_content": null,
       "justify_items": null,
       "left": null,
       "margin": null,
       "max_height": null,
       "max_width": null,
       "min_height": null,
       "min_width": null,
       "object_fit": null,
       "object_position": null,
       "order": null,
       "overflow": null,
       "padding": null,
       "right": null,
       "top": null,
       "visibility": null,
       "width": null
      }
     },
     "989a0be87c9e4311b42a281df46300c1": {
      "model_module": "@jupyter-widgets/controls",
      "model_module_version": "2.0.0",
      "model_name": "ProgressStyleModel",
      "state": {
       "_model_module": "@jupyter-widgets/controls",
       "_model_module_version": "2.0.0",
       "_model_name": "ProgressStyleModel",
       "_view_count": null,
       "_view_module": "@jupyter-widgets/base",
       "_view_module_version": "2.0.0",
       "_view_name": "StyleView",
       "bar_color": null,
       "description_width": ""
      }
     },
     "a2204bc4374644af9e69527b9b9d83c6": {
      "model_module": "@jupyter-widgets/controls",
      "model_module_version": "2.0.0",
      "model_name": "HTMLStyleModel",
      "state": {
       "_model_module": "@jupyter-widgets/controls",
       "_model_module_version": "2.0.0",
       "_model_name": "HTMLStyleModel",
       "_view_count": null,
       "_view_module": "@jupyter-widgets/base",
       "_view_module_version": "2.0.0",
       "_view_name": "StyleView",
       "background": null,
       "description_width": "",
       "font_size": null,
       "text_color": null
      }
     },
     "a809eb67914342448fa0d3a91091cc7b": {
      "model_module": "@jupyter-widgets/base",
      "model_module_version": "2.0.0",
      "model_name": "LayoutModel",
      "state": {
       "_model_module": "@jupyter-widgets/base",
       "_model_module_version": "2.0.0",
       "_model_name": "LayoutModel",
       "_view_count": null,
       "_view_module": "@jupyter-widgets/base",
       "_view_module_version": "2.0.0",
       "_view_name": "LayoutView",
       "align_content": null,
       "align_items": null,
       "align_self": null,
       "border_bottom": null,
       "border_left": null,
       "border_right": null,
       "border_top": null,
       "bottom": null,
       "display": null,
       "flex": null,
       "flex_flow": null,
       "grid_area": null,
       "grid_auto_columns": null,
       "grid_auto_flow": null,
       "grid_auto_rows": null,
       "grid_column": null,
       "grid_gap": null,
       "grid_row": null,
       "grid_template_areas": null,
       "grid_template_columns": null,
       "grid_template_rows": null,
       "height": null,
       "justify_content": null,
       "justify_items": null,
       "left": null,
       "margin": null,
       "max_height": null,
       "max_width": null,
       "min_height": null,
       "min_width": null,
       "object_fit": null,
       "object_position": null,
       "order": null,
       "overflow": null,
       "padding": null,
       "right": null,
       "top": null,
       "visibility": null,
       "width": null
      }
     },
     "a8480bde51774c6f876839865939c0bf": {
      "model_module": "@jupyter-widgets/controls",
      "model_module_version": "2.0.0",
      "model_name": "ToggleButtonsStyleModel",
      "state": {
       "_model_module": "@jupyter-widgets/controls",
       "_model_module_version": "2.0.0",
       "_model_name": "ToggleButtonsStyleModel",
       "_view_count": null,
       "_view_module": "@jupyter-widgets/base",
       "_view_module_version": "2.0.0",
       "_view_name": "StyleView",
       "button_width": "",
       "description_width": "",
       "font_weight": ""
      }
     },
     "c14795038a364e01870c67a8d9be1fee": {
      "model_module": "@jupyter-widgets/controls",
      "model_module_version": "2.0.0",
      "model_name": "ProgressStyleModel",
      "state": {
       "_model_module": "@jupyter-widgets/controls",
       "_model_module_version": "2.0.0",
       "_model_name": "ProgressStyleModel",
       "_view_count": null,
       "_view_module": "@jupyter-widgets/base",
       "_view_module_version": "2.0.0",
       "_view_name": "StyleView",
       "bar_color": null,
       "description_width": ""
      }
     },
     "c5f96fe8b9334b80a1ddbcb30ac15396": {
      "model_module": "@jupyter-widgets/controls",
      "model_module_version": "2.0.0",
      "model_name": "HTMLStyleModel",
      "state": {
       "_model_module": "@jupyter-widgets/controls",
       "_model_module_version": "2.0.0",
       "_model_name": "HTMLStyleModel",
       "_view_count": null,
       "_view_module": "@jupyter-widgets/base",
       "_view_module_version": "2.0.0",
       "_view_name": "StyleView",
       "background": null,
       "description_width": "",
       "font_size": null,
       "text_color": null
      }
     },
     "c8e53650daee4fd2add86809828f4a6f": {
      "model_module": "@jupyter-widgets/base",
      "model_module_version": "2.0.0",
      "model_name": "LayoutModel",
      "state": {
       "_model_module": "@jupyter-widgets/base",
       "_model_module_version": "2.0.0",
       "_model_name": "LayoutModel",
       "_view_count": null,
       "_view_module": "@jupyter-widgets/base",
       "_view_module_version": "2.0.0",
       "_view_name": "LayoutView",
       "align_content": null,
       "align_items": null,
       "align_self": null,
       "border_bottom": null,
       "border_left": null,
       "border_right": null,
       "border_top": null,
       "bottom": null,
       "display": null,
       "flex": null,
       "flex_flow": null,
       "grid_area": null,
       "grid_auto_columns": null,
       "grid_auto_flow": null,
       "grid_auto_rows": null,
       "grid_column": null,
       "grid_gap": null,
       "grid_row": null,
       "grid_template_areas": null,
       "grid_template_columns": null,
       "grid_template_rows": null,
       "height": null,
       "justify_content": null,
       "justify_items": null,
       "left": null,
       "margin": null,
       "max_height": null,
       "max_width": null,
       "min_height": null,
       "min_width": null,
       "object_fit": null,
       "object_position": null,
       "order": null,
       "overflow": null,
       "padding": null,
       "right": null,
       "top": null,
       "visibility": "hidden",
       "width": null
      }
     },
     "e0883067bd5b4e0a95172d7bce708b3c": {
      "model_module": "@jupyter-widgets/controls",
      "model_module_version": "2.0.0",
      "model_name": "HTMLModel",
      "state": {
       "_dom_classes": [],
       "_model_module": "@jupyter-widgets/controls",
       "_model_module_version": "2.0.0",
       "_model_name": "HTMLModel",
       "_view_count": null,
       "_view_module": "@jupyter-widgets/controls",
       "_view_module_version": "2.0.0",
       "_view_name": "HTMLView",
       "description": "",
       "description_allow_html": false,
       "layout": "IPY_MODEL_6ee7eff8a1634930a497db696ae05a01",
       "placeholder": "​",
       "style": "IPY_MODEL_c5f96fe8b9334b80a1ddbcb30ac15396",
       "tabbable": null,
       "tooltip": null,
       "value": "Processing: 100%"
      }
     },
     "e73d6c0c554540e3b3180543ca0d3ccc": {
      "model_module": "@jupyter-widgets/controls",
      "model_module_version": "2.0.0",
      "model_name": "HTMLModel",
      "state": {
       "_dom_classes": [],
       "_model_module": "@jupyter-widgets/controls",
       "_model_module_version": "2.0.0",
       "_model_name": "HTMLModel",
       "_view_count": null,
       "_view_module": "@jupyter-widgets/controls",
       "_view_module_version": "2.0.0",
       "_view_name": "HTMLView",
       "description": "",
       "description_allow_html": false,
       "layout": "IPY_MODEL_6af2d0e26bcb4fdfbd2b15a60e8033f1",
       "placeholder": "​",
       "style": "IPY_MODEL_6cd36e98c49243938e048b0b3d7e169f",
       "tabbable": null,
       "tooltip": null,
       "value": "Processing:   0%"
      }
     },
     "e8b5a2f78d6149ca987beb71a4731235": {
      "model_module": "@jupyter-widgets/controls",
      "model_module_version": "2.0.0",
      "model_name": "HTMLModel",
      "state": {
       "_dom_classes": [],
       "_model_module": "@jupyter-widgets/controls",
       "_model_module_version": "2.0.0",
       "_model_name": "HTMLModel",
       "_view_count": null,
       "_view_module": "@jupyter-widgets/controls",
       "_view_module_version": "2.0.0",
       "_view_name": "HTMLView",
       "description": "",
       "description_allow_html": false,
       "layout": "IPY_MODEL_162dc873b3e5448a89b00faa85a91e19",
       "placeholder": "​",
       "style": "IPY_MODEL_a2204bc4374644af9e69527b9b9d83c6",
       "tabbable": null,
       "tooltip": null,
       "value": " 0/4 [00:00&lt;?, ?it/s]"
      }
     },
     "eb1c56f518034c239a642c9ef8fba3bb": {
      "model_module": "@jupyter-widgets/output",
      "model_module_version": "1.0.0",
      "model_name": "OutputModel",
      "state": {
       "_dom_classes": [],
       "_model_module": "@jupyter-widgets/output",
       "_model_module_version": "1.0.0",
       "_model_name": "OutputModel",
       "_view_count": null,
       "_view_module": "@jupyter-widgets/output",
       "_view_module_version": "1.0.0",
       "_view_name": "OutputView",
       "layout": "IPY_MODEL_6c1ed6bea957433d8ef4b9b4dc12bed5",
       "msg_id": "",
       "outputs": [
        {
         "data": {
          "image/png": "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",
          "text/plain": "<Figure size 1700x600 with 1 Axes>"
         },
         "metadata": {},
         "output_type": "display_data"
        }
       ],
       "tabbable": null,
       "tooltip": null
      }
     },
     "f8b7177814f64f7a9ccd77c64dc000ca": {
      "model_module": "@jupyter-widgets/base",
      "model_module_version": "2.0.0",
      "model_name": "LayoutModel",
      "state": {
       "_model_module": "@jupyter-widgets/base",
       "_model_module_version": "2.0.0",
       "_model_name": "LayoutModel",
       "_view_count": null,
       "_view_module": "@jupyter-widgets/base",
       "_view_module_version": "2.0.0",
       "_view_name": "LayoutView",
       "align_content": null,
       "align_items": null,
       "align_self": null,
       "border_bottom": null,
       "border_left": null,
       "border_right": null,
       "border_top": null,
       "bottom": null,
       "display": null,
       "flex": null,
       "flex_flow": null,
       "grid_area": null,
       "grid_auto_columns": null,
       "grid_auto_flow": null,
       "grid_auto_rows": null,
       "grid_column": null,
       "grid_gap": null,
       "grid_row": null,
       "grid_template_areas": null,
       "grid_template_columns": null,
       "grid_template_rows": null,
       "height": null,
       "justify_content": null,
       "justify_items": null,
       "left": null,
       "margin": null,
       "max_height": null,
       "max_width": null,
       "min_height": null,
       "min_width": null,
       "object_fit": null,
       "object_position": null,
       "order": null,
       "overflow": null,
       "padding": null,
       "right": null,
       "top": null,
       "visibility": null,
       "width": null
      }
     }
    },
    "version_major": 2,
    "version_minor": 0
   }
  }
 },
 "nbformat": 4,
 "nbformat_minor": 5
}
